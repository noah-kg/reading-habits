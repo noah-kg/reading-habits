{
 "cells": [
  {
   "cell_type": "code",
   "execution_count": 1,
   "id": "948f4ced-f57c-4a92-a5c7-b1e56d168cfe",
   "metadata": {
    "execution": {
     "iopub.execute_input": "2024-05-18T14:29:04.035886Z",
     "iopub.status.busy": "2024-05-18T14:29:04.034888Z",
     "iopub.status.idle": "2024-05-18T14:29:04.056830Z",
     "shell.execute_reply": "2024-05-18T14:29:04.056830Z",
     "shell.execute_reply.started": "2024-05-18T14:29:04.035886Z"
    },
    "jupyter": {
     "source_hidden": true
    },
    "tags": []
   },
   "outputs": [
    {
     "data": {
      "text/html": [
       "\n",
       "    <img src=\"https://images.theconversation.com/files/45159/original/rptgtpxd-1396254731.jpg\" style=\"margin-left:auto; margin-right:auto\"/>\n"
      ],
      "text/plain": [
       "<IPython.core.display.HTML object>"
      ]
     },
     "execution_count": 1,
     "metadata": {},
     "output_type": "execute_result"
    }
   ],
   "source": [
    "from IPython.display import HTML\n",
    "html1 = \"\"\"\n",
    "    <img src=\"https://images.theconversation.com/files/45159/original/rptgtpxd-1396254731.jpg\" style=\"margin-left:auto; margin-right:auto\"/>\n",
    "\"\"\"\n",
    "HTML(html1)"
   ]
  },
  {
   "cell_type": "markdown",
   "id": "d3a7a83a-a1d9-4dbe-aa5b-d57f0553f19e",
   "metadata": {},
   "source": [
    "# A quick analysis of my reading habits\n",
    "\n",
    "* What do I read the most?\n",
    "* What format do I prefer?\n",
    "* Are there any Genre-Sub-Genre pairs I tend to gravitate towards?\n",
    "* Who is my most read author?\n",
    "* How long does it take me to read books?"
   ]
  },
  {
   "cell_type": "code",
   "execution_count": 2,
   "id": "84975d7e-87e3-41ba-89d7-8f88e4ad5d9a",
   "metadata": {
    "execution": {
     "iopub.execute_input": "2024-05-18T14:29:04.057828Z",
     "iopub.status.busy": "2024-05-18T14:29:04.057828Z",
     "iopub.status.idle": "2024-05-18T14:29:04.072788Z",
     "shell.execute_reply": "2024-05-18T14:29:04.072788Z",
     "shell.execute_reply.started": "2024-05-18T14:29:04.057828Z"
    }
   },
   "outputs": [],
   "source": [
    "import pandas as pd\n",
    "\n",
    "df = pd.read_csv('BookList.csv')\n",
    "\n",
    "#removes any blank rows or books I never finished/rated\n",
    "df = df[df['Rating'].notnull()]\n",
    "\n",
    "# convert columns to correct (or better) data types\n",
    "df[['Year', 'Pages']] = df[['Year', 'Pages']].apply(pd.to_numeric, downcast='integer')\n",
    "df['Duration'] = df['Duration'].apply(pd.to_numeric, downcast='integer')\n",
    "df['Rating'] = df['Rating'].apply(pd.to_numeric, downcast='float')\n",
    "df['Start Date']= pd.to_datetime(df['Start Date'])\n",
    "df['Finish Date']= pd.to_datetime(df['Finish Date'])"
   ]
  },
  {
   "cell_type": "code",
   "execution_count": 3,
   "id": "428dcb66-c0e3-4e47-8f3d-d84d49e82052",
   "metadata": {
    "execution": {
     "iopub.execute_input": "2024-05-18T14:29:04.073784Z",
     "iopub.status.busy": "2024-05-18T14:29:04.073784Z",
     "iopub.status.idle": "2024-05-18T14:29:04.088745Z",
     "shell.execute_reply": "2024-05-18T14:29:04.088745Z",
     "shell.execute_reply.started": "2024-05-18T14:29:04.073784Z"
    },
    "tags": []
   },
   "outputs": [
    {
     "data": {
      "text/plain": [
       "Sub-Genre\n",
       "Historical Fiction    11\n",
       "Nonfiction             8\n",
       "Classics               8\n",
       "Self Help              6\n",
       "Cultural               5\n",
       "Name: count, dtype: int64"
      ]
     },
     "execution_count": 3,
     "metadata": {},
     "output_type": "execute_result"
    }
   ],
   "source": [
    "df['Sub-Genre'].value_counts().head()"
   ]
  },
  {
   "cell_type": "code",
   "execution_count": 4,
   "id": "2130d612-791e-4102-a191-9a59298c5f69",
   "metadata": {
    "execution": {
     "iopub.execute_input": "2024-05-18T14:29:04.089742Z",
     "iopub.status.busy": "2024-05-18T14:29:04.089742Z",
     "iopub.status.idle": "2024-05-18T14:29:04.103746Z",
     "shell.execute_reply": "2024-05-18T14:29:04.103746Z",
     "shell.execute_reply.started": "2024-05-18T14:29:04.089742Z"
    },
    "tags": []
   },
   "outputs": [
    {
     "data": {
      "text/html": [
       "<div>\n",
       "<style scoped>\n",
       "    .dataframe tbody tr th:only-of-type {\n",
       "        vertical-align: middle;\n",
       "    }\n",
       "\n",
       "    .dataframe tbody tr th {\n",
       "        vertical-align: top;\n",
       "    }\n",
       "\n",
       "    .dataframe thead th {\n",
       "        text-align: right;\n",
       "    }\n",
       "</style>\n",
       "<table border=\"1\" class=\"dataframe\">\n",
       "  <thead>\n",
       "    <tr style=\"text-align: right;\">\n",
       "      <th></th>\n",
       "      <th>Title</th>\n",
       "      <th>Author</th>\n",
       "      <th>Publisher</th>\n",
       "      <th>Genre</th>\n",
       "      <th>Sub-Genre</th>\n",
       "      <th>Year</th>\n",
       "      <th>Pages</th>\n",
       "      <th>Start Date</th>\n",
       "      <th>Finish Date</th>\n",
       "      <th>Duration</th>\n",
       "      <th>Rating</th>\n",
       "    </tr>\n",
       "  </thead>\n",
       "  <tbody>\n",
       "    <tr>\n",
       "      <th>0</th>\n",
       "      <td>The War of Art</td>\n",
       "      <td>Steven Pressfield</td>\n",
       "      <td>Black Irish Entertrainment</td>\n",
       "      <td>Nonfiction</td>\n",
       "      <td>Self Help</td>\n",
       "      <td>2012</td>\n",
       "      <td>190</td>\n",
       "      <td>NaT</td>\n",
       "      <td>NaT</td>\n",
       "      <td>NaN</td>\n",
       "      <td>3.0</td>\n",
       "    </tr>\n",
       "    <tr>\n",
       "      <th>7</th>\n",
       "      <td>How to Win Friends &amp; Influence People</td>\n",
       "      <td>Dale Carnegie</td>\n",
       "      <td>Simon &amp; Schuster</td>\n",
       "      <td>Nonfiction</td>\n",
       "      <td>Self Help</td>\n",
       "      <td>2011</td>\n",
       "      <td>276</td>\n",
       "      <td>NaT</td>\n",
       "      <td>NaT</td>\n",
       "      <td>NaN</td>\n",
       "      <td>5.5</td>\n",
       "    </tr>\n",
       "    <tr>\n",
       "      <th>14</th>\n",
       "      <td>Meditations</td>\n",
       "      <td>Marcus Aurelius</td>\n",
       "      <td>Random House Publishing Group</td>\n",
       "      <td>Philosophy</td>\n",
       "      <td>Nonfiction</td>\n",
       "      <td>2003</td>\n",
       "      <td>194</td>\n",
       "      <td>NaT</td>\n",
       "      <td>NaT</td>\n",
       "      <td>NaN</td>\n",
       "      <td>6.5</td>\n",
       "    </tr>\n",
       "    <tr>\n",
       "      <th>18</th>\n",
       "      <td>Selected Writings &amp; Discourses</td>\n",
       "      <td>Epictetus</td>\n",
       "      <td>Penguin Classics</td>\n",
       "      <td>Philosophy</td>\n",
       "      <td>Nonfiction</td>\n",
       "      <td>2008</td>\n",
       "      <td>276</td>\n",
       "      <td>NaT</td>\n",
       "      <td>NaT</td>\n",
       "      <td>NaN</td>\n",
       "      <td>7.0</td>\n",
       "    </tr>\n",
       "    <tr>\n",
       "      <th>19</th>\n",
       "      <td>Letters From A Stoic</td>\n",
       "      <td>Seneca</td>\n",
       "      <td>Penguin Classics</td>\n",
       "      <td>Philosophy</td>\n",
       "      <td>Nonfiction</td>\n",
       "      <td>2004</td>\n",
       "      <td>254</td>\n",
       "      <td>NaT</td>\n",
       "      <td>NaT</td>\n",
       "      <td>NaN</td>\n",
       "      <td>7.0</td>\n",
       "    </tr>\n",
       "    <tr>\n",
       "      <th>22</th>\n",
       "      <td>Emotional Agility</td>\n",
       "      <td>Susan David</td>\n",
       "      <td>Avery Publishing Group</td>\n",
       "      <td>Psychology</td>\n",
       "      <td>Self Help</td>\n",
       "      <td>2016</td>\n",
       "      <td>288</td>\n",
       "      <td>NaT</td>\n",
       "      <td>NaT</td>\n",
       "      <td>NaN</td>\n",
       "      <td>7.5</td>\n",
       "    </tr>\n",
       "    <tr>\n",
       "      <th>30</th>\n",
       "      <td>Norwegian Wood</td>\n",
       "      <td>Haruki Murakami</td>\n",
       "      <td>Knopf Doubleday Publishing Group</td>\n",
       "      <td>Fiction</td>\n",
       "      <td>Cultural</td>\n",
       "      <td>2000</td>\n",
       "      <td>298</td>\n",
       "      <td>NaT</td>\n",
       "      <td>NaT</td>\n",
       "      <td>NaN</td>\n",
       "      <td>8.5</td>\n",
       "    </tr>\n",
       "  </tbody>\n",
       "</table>\n",
       "</div>"
      ],
      "text/plain": [
       "                                    Title             Author   \n",
       "0                          The War of Art  Steven Pressfield  \\\n",
       "7   How to Win Friends & Influence People      Dale Carnegie   \n",
       "14                            Meditations    Marcus Aurelius   \n",
       "18         Selected Writings & Discourses          Epictetus   \n",
       "19                   Letters From A Stoic             Seneca   \n",
       "22                      Emotional Agility        Susan David   \n",
       "30                         Norwegian Wood    Haruki Murakami   \n",
       "\n",
       "                           Publisher       Genre   Sub-Genre  Year  Pages   \n",
       "0         Black Irish Entertrainment  Nonfiction   Self Help  2012    190  \\\n",
       "7                   Simon & Schuster  Nonfiction   Self Help  2011    276   \n",
       "14     Random House Publishing Group  Philosophy  Nonfiction  2003    194   \n",
       "18                  Penguin Classics  Philosophy  Nonfiction  2008    276   \n",
       "19                  Penguin Classics  Philosophy  Nonfiction  2004    254   \n",
       "22            Avery Publishing Group  Psychology   Self Help  2016    288   \n",
       "30  Knopf Doubleday Publishing Group     Fiction    Cultural  2000    298   \n",
       "\n",
       "   Start Date Finish Date  Duration  Rating  \n",
       "0         NaT         NaT       NaN     3.0  \n",
       "7         NaT         NaT       NaN     5.5  \n",
       "14        NaT         NaT       NaN     6.5  \n",
       "18        NaT         NaT       NaN     7.0  \n",
       "19        NaT         NaT       NaN     7.0  \n",
       "22        NaT         NaT       NaN     7.5  \n",
       "30        NaT         NaT       NaN     8.5  "
      ]
     },
     "execution_count": 4,
     "metadata": {},
     "output_type": "execute_result"
    }
   ],
   "source": [
    "df[df.isna().any(axis=1)]"
   ]
  },
  {
   "cell_type": "code",
   "execution_count": 5,
   "id": "338a8b13-4a26-42f3-8248-509a2e23ca8d",
   "metadata": {
    "execution": {
     "iopub.execute_input": "2024-05-18T14:29:04.104701Z",
     "iopub.status.busy": "2024-05-18T14:29:04.104701Z",
     "iopub.status.idle": "2024-05-18T14:29:04.118699Z",
     "shell.execute_reply": "2024-05-18T14:29:04.118699Z",
     "shell.execute_reply.started": "2024-05-18T14:29:04.104701Z"
    },
    "tags": []
   },
   "outputs": [
    {
     "data": {
      "text/plain": [
       "Genre       Sub-Genre         \n",
       "Fiction     Historical Fiction    11\n",
       "            Classics               7\n",
       "            Cultural               5\n",
       "            Fantasy                5\n",
       "Philosophy  Nonfiction             5\n",
       "Nonfiction  Self Help              5\n",
       "Science     Nonfiction             3\n",
       "Fiction     Sci-fi                 3\n",
       "Nonfiction  History                3\n",
       "            Memoir                 2\n",
       "Fiction     German Literature      2\n",
       "            Contemporary           2\n",
       "Psychology  Self Help              1\n",
       "Philosophy  Classics               1\n",
       "Fiction     Short Stories          1\n",
       "Nonfiction  Graphic Novel          1\n",
       "Fiction     Young Adult            1\n",
       "            Science Fiction        1\n",
       "            Mystery                1\n",
       "            Graphic Novel          1\n",
       "Science     Programming            1\n",
       "Name: count, dtype: int64"
      ]
     },
     "execution_count": 5,
     "metadata": {},
     "output_type": "execute_result"
    }
   ],
   "source": [
    "df[['Genre', 'Sub-Genre']].value_counts()"
   ]
  },
  {
   "cell_type": "markdown",
   "id": "7ada8bc9-9f2d-4584-bae3-0110b8a4b96e",
   "metadata": {},
   "source": [
    "## This is stil"
   ]
  }
 ],
 "metadata": {
  "kernelspec": {
   "display_name": "Python 3 (ipykernel)",
   "language": "python",
   "name": "python3"
  },
  "language_info": {
   "codemirror_mode": {
    "name": "ipython",
    "version": 3
   },
   "file_extension": ".py",
   "mimetype": "text/x-python",
   "name": "python",
   "nbconvert_exporter": "python",
   "pygments_lexer": "ipython3",
   "version": "3.10.2"
  },
  "widgets": {
   "application/vnd.jupyter.widget-state+json": {
    "state": {},
    "version_major": 2,
    "version_minor": 0
   }
  }
 },
 "nbformat": 4,
 "nbformat_minor": 5
}
