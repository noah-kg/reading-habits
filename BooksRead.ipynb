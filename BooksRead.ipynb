{
 "cells": [
  {
   "cell_type": "code",
   "execution_count": 1,
   "id": "948f4ced-f57c-4a92-a5c7-b1e56d168cfe",
   "metadata": {
    "execution": {
     "iopub.execute_input": "2024-05-17T02:13:02.057485Z",
     "iopub.status.busy": "2024-05-17T02:13:02.057485Z",
     "iopub.status.idle": "2024-05-17T02:13:02.079426Z",
     "shell.execute_reply": "2024-05-17T02:13:02.079426Z",
     "shell.execute_reply.started": "2024-05-17T02:13:02.057485Z"
    },
    "jupyter": {
     "source_hidden": true
    },
    "tags": []
   },
   "outputs": [
    {
     "data": {
      "text/html": [
       "\n",
       "    <img src=\"https://images.theconversation.com/files/45159/original/rptgtpxd-1396254731.jpg\" style=\"margin-left:auto; margin-right:auto\"/>\n"
      ],
      "text/plain": [
       "<IPython.core.display.HTML object>"
      ]
     },
     "execution_count": 1,
     "metadata": {},
     "output_type": "execute_result"
    }
   ],
   "source": [
    "from IPython.display import HTML\n",
    "html1 = \"\"\"\n",
    "    <img src=\"https://images.theconversation.com/files/45159/original/rptgtpxd-1396254731.jpg\" style=\"margin-left:auto; margin-right:auto\"/>\n",
    "\"\"\"\n",
    "HTML(html1)"
   ]
  },
  {
   "cell_type": "markdown",
   "id": "d3a7a83a-a1d9-4dbe-aa5b-d57f0553f19e",
   "metadata": {},
   "source": [
    "# A quick analysis of my reading habits\n",
    "\n",
    "* What do I read the most?\n",
    "* What format do I prefer?\n",
    "* Are there any Genre-Sub-Genre pairs I tend to gravitate towards?\n",
    "* Who is my most read author?\n",
    "* How long does it take me to read books?"
   ]
  },
  {
   "cell_type": "code",
   "execution_count": 2,
   "id": "fe085b02-dbfe-4b76-8a6e-d3fcab964ddc",
   "metadata": {
    "execution": {
     "iopub.execute_input": "2024-05-17T02:13:02.081420Z",
     "iopub.status.busy": "2024-05-17T02:13:02.081420Z",
     "iopub.status.idle": "2024-05-17T02:13:02.295851Z",
     "shell.execute_reply": "2024-05-17T02:13:02.295851Z",
     "shell.execute_reply.started": "2024-05-17T02:13:02.081420Z"
    }
   },
   "outputs": [],
   "source": [
    "import gspread\n",
    "import pandas as pd\n",
    "from oauth2client.service_account import ServiceAccountCredentials"
   ]
  },
  {
   "cell_type": "code",
   "execution_count": 3,
   "id": "e66103e7-d018-44fb-a836-252e9b987f91",
   "metadata": {
    "execution": {
     "iopub.execute_input": "2024-05-17T02:13:02.296845Z",
     "iopub.status.busy": "2024-05-17T02:13:02.296845Z",
     "iopub.status.idle": "2024-05-17T02:13:03.961858Z",
     "shell.execute_reply": "2024-05-17T02:13:03.961858Z",
     "shell.execute_reply.started": "2024-05-17T02:13:02.296845Z"
    },
    "tags": []
   },
   "outputs": [],
   "source": [
    "# define the scope\n",
    "scope = ['https://spreadsheets.google.com/feeds','https://www.googleapis.com/auth/drive']\n",
    "\n",
    "# add credentials to the account\n",
    "creds = ServiceAccountCredentials.from_json_keyfile_name('book_creds.json', scope)\n",
    "\n",
    "# authorize the clientsheet \n",
    "client = gspread.authorize(creds)\n",
    "\n",
    "# get the instance of the Spreadsheet\n",
    "sheetname = 'Book_List'\n",
    "sheet = client.open(sheetname)\n",
    "\n",
    "# get the first sheet of the Spreadsheet\n",
    "sheet_instance = sheet.get_worksheet(0)"
   ]
  },
  {
   "cell_type": "code",
   "execution_count": 4,
   "id": "bc2752b1-2ee2-4933-a1f9-5cccf8d52157",
   "metadata": {
    "execution": {
     "iopub.execute_input": "2024-05-17T02:13:03.962854Z",
     "iopub.status.busy": "2024-05-17T02:13:03.962854Z",
     "iopub.status.idle": "2024-05-17T02:13:04.300982Z",
     "shell.execute_reply": "2024-05-17T02:13:04.300982Z",
     "shell.execute_reply.started": "2024-05-17T02:13:03.962854Z"
    },
    "tags": []
   },
   "outputs": [
    {
     "data": {
      "text/html": [
       "<div>\n",
       "<style scoped>\n",
       "    .dataframe tbody tr th:only-of-type {\n",
       "        vertical-align: middle;\n",
       "    }\n",
       "\n",
       "    .dataframe tbody tr th {\n",
       "        vertical-align: top;\n",
       "    }\n",
       "\n",
       "    .dataframe thead th {\n",
       "        text-align: right;\n",
       "    }\n",
       "</style>\n",
       "<table border=\"1\" class=\"dataframe\">\n",
       "  <thead>\n",
       "    <tr style=\"text-align: right;\">\n",
       "      <th></th>\n",
       "      <th>Title</th>\n",
       "      <th>Author</th>\n",
       "      <th>Publisher</th>\n",
       "      <th>Genre</th>\n",
       "      <th>Sub-Genre</th>\n",
       "      <th>Year</th>\n",
       "      <th>Pages</th>\n",
       "      <th>Start Date</th>\n",
       "      <th>Finish Date</th>\n",
       "      <th>Duration</th>\n",
       "      <th>Rating</th>\n",
       "    </tr>\n",
       "  </thead>\n",
       "  <tbody>\n",
       "    <tr>\n",
       "      <th>0</th>\n",
       "      <td>The War of Art</td>\n",
       "      <td>Steven Pressfield</td>\n",
       "      <td>Black Irish Entertrainment</td>\n",
       "      <td>Nonfiction</td>\n",
       "      <td>Self Help</td>\n",
       "      <td>2012</td>\n",
       "      <td>190</td>\n",
       "      <td></td>\n",
       "      <td></td>\n",
       "      <td></td>\n",
       "      <td>3.0</td>\n",
       "    </tr>\n",
       "    <tr>\n",
       "      <th>1</th>\n",
       "      <td>The Sound of the Mountain</td>\n",
       "      <td>Yasunari Kawabata</td>\n",
       "      <td>Vintage</td>\n",
       "      <td>Fiction</td>\n",
       "      <td>Cultural</td>\n",
       "      <td>1996</td>\n",
       "      <td>235</td>\n",
       "      <td>04-21-2021</td>\n",
       "      <td>05-17-2021</td>\n",
       "      <td>27</td>\n",
       "      <td>4.5</td>\n",
       "    </tr>\n",
       "    <tr>\n",
       "      <th>2</th>\n",
       "      <td>The Four Agreements</td>\n",
       "      <td>Don Miguel Ruiz</td>\n",
       "      <td>Amber-Allen Publishing</td>\n",
       "      <td>Nonfiction</td>\n",
       "      <td>Self Help</td>\n",
       "      <td>1997</td>\n",
       "      <td>140</td>\n",
       "      <td>12-16-2020</td>\n",
       "      <td>12-16-2020</td>\n",
       "      <td>1</td>\n",
       "      <td>5.0</td>\n",
       "    </tr>\n",
       "    <tr>\n",
       "      <th>3</th>\n",
       "      <td>The Art of Learning</td>\n",
       "      <td>Josh Waitzkin</td>\n",
       "      <td>Free Press</td>\n",
       "      <td>Nonfiction</td>\n",
       "      <td>Self Help</td>\n",
       "      <td>2007</td>\n",
       "      <td>288</td>\n",
       "      <td>03-30-2021</td>\n",
       "      <td>04-04-2021</td>\n",
       "      <td>6</td>\n",
       "      <td>5.0</td>\n",
       "    </tr>\n",
       "    <tr>\n",
       "      <th>4</th>\n",
       "      <td>Almond: A Novel</td>\n",
       "      <td>Won Pyung Sohn</td>\n",
       "      <td>HarperVia</td>\n",
       "      <td>Fiction</td>\n",
       "      <td>Young Adult</td>\n",
       "      <td>2017</td>\n",
       "      <td>154</td>\n",
       "      <td>08-29-2021</td>\n",
       "      <td>08-30-2021</td>\n",
       "      <td>2</td>\n",
       "      <td>5.0</td>\n",
       "    </tr>\n",
       "  </tbody>\n",
       "</table>\n",
       "</div>"
      ],
      "text/plain": [
       "                       Title             Author                   Publisher   \n",
       "0             The War of Art  Steven Pressfield  Black Irish Entertrainment  \\\n",
       "1  The Sound of the Mountain  Yasunari Kawabata                     Vintage   \n",
       "2        The Four Agreements    Don Miguel Ruiz      Amber-Allen Publishing   \n",
       "3        The Art of Learning      Josh Waitzkin                  Free Press   \n",
       "4            Almond: A Novel     Won Pyung Sohn                   HarperVia   \n",
       "\n",
       "        Genre    Sub-Genre  Year Pages  Start Date Finish Date Duration Rating  \n",
       "0  Nonfiction    Self Help  2012   190                                     3.0  \n",
       "1     Fiction     Cultural  1996   235  04-21-2021  05-17-2021       27    4.5  \n",
       "2  Nonfiction    Self Help  1997   140  12-16-2020  12-16-2020        1    5.0  \n",
       "3  Nonfiction    Self Help  2007   288  03-30-2021  04-04-2021        6    5.0  \n",
       "4     Fiction  Young Adult  2017   154  08-29-2021  08-30-2021        2    5.0  "
      ]
     },
     "execution_count": 4,
     "metadata": {},
     "output_type": "execute_result"
    }
   ],
   "source": [
    "expected_headers = sheet_instance.row_values(1)\n",
    "data = sheet_instance.get_values()\n",
    "df = pd.DataFrame(data[1:], columns = expected_headers).drop(axis=1, columns=['Physical', 'eBook'])\n",
    "df.head()"
   ]
  },
  {
   "cell_type": "code",
   "execution_count": 5,
   "id": "f7e4ae8f-e92a-4496-aac0-19b7b3774c2b",
   "metadata": {
    "execution": {
     "iopub.execute_input": "2024-05-17T02:13:04.301948Z",
     "iopub.status.busy": "2024-05-17T02:13:04.300982Z",
     "iopub.status.idle": "2024-05-17T02:13:04.331867Z",
     "shell.execute_reply": "2024-05-17T02:13:04.331867Z",
     "shell.execute_reply.started": "2024-05-17T02:13:04.301948Z"
    },
    "tags": []
   },
   "outputs": [
    {
     "data": {
      "text/plain": [
       "Title                  object\n",
       "Author                 object\n",
       "Publisher              object\n",
       "Genre                  object\n",
       "Sub-Genre              object\n",
       "Year                  float64\n",
       "Pages                 float64\n",
       "Start Date     datetime64[ns]\n",
       "Finish Date    datetime64[ns]\n",
       "Duration              float64\n",
       "Rating                float32\n",
       "dtype: object"
      ]
     },
     "execution_count": 5,
     "metadata": {},
     "output_type": "execute_result"
    }
   ],
   "source": [
    "df[['Year', 'Pages']] = df[['Year', 'Pages']].apply(pd.to_numeric, downcast='integer')\n",
    "df['Duration'] = df['Duration'].apply(pd.to_numeric, downcast='integer')\n",
    "df['Rating'] = df['Rating'].apply(pd.to_numeric, downcast='float')\n",
    "df['Start Date']= pd.to_datetime(df['Start Date'])\n",
    "df['Finish Date']= pd.to_datetime(df['Finish Date'])\n",
    "df = df[df['Rating'].notnull()] #removes any blank rows or books I never finished/rated\n",
    "\n",
    "df.dtypes"
   ]
  },
  {
   "cell_type": "code",
   "execution_count": 6,
   "id": "428dcb66-c0e3-4e47-8f3d-d84d49e82052",
   "metadata": {
    "execution": {
     "iopub.execute_input": "2024-05-17T02:13:04.332865Z",
     "iopub.status.busy": "2024-05-17T02:13:04.331867Z",
     "iopub.status.idle": "2024-05-17T02:13:04.346832Z",
     "shell.execute_reply": "2024-05-17T02:13:04.346832Z",
     "shell.execute_reply.started": "2024-05-17T02:13:04.332865Z"
    },
    "tags": []
   },
   "outputs": [
    {
     "data": {
      "text/plain": [
       "Sub-Genre\n",
       "Historical Fiction    11\n",
       "Nonfiction             8\n",
       "Classics               8\n",
       "Self Help              6\n",
       "Cultural               5\n",
       "Name: count, dtype: int64"
      ]
     },
     "execution_count": 6,
     "metadata": {},
     "output_type": "execute_result"
    }
   ],
   "source": [
    "df['Sub-Genre'].value_counts().head()"
   ]
  },
  {
   "cell_type": "code",
   "execution_count": 7,
   "id": "2130d612-791e-4102-a191-9a59298c5f69",
   "metadata": {
    "execution": {
     "iopub.execute_input": "2024-05-17T02:13:04.347824Z",
     "iopub.status.busy": "2024-05-17T02:13:04.347824Z",
     "iopub.status.idle": "2024-05-17T02:13:04.361787Z",
     "shell.execute_reply": "2024-05-17T02:13:04.361787Z",
     "shell.execute_reply.started": "2024-05-17T02:13:04.347824Z"
    },
    "tags": []
   },
   "outputs": [
    {
     "data": {
      "text/html": [
       "<div>\n",
       "<style scoped>\n",
       "    .dataframe tbody tr th:only-of-type {\n",
       "        vertical-align: middle;\n",
       "    }\n",
       "\n",
       "    .dataframe tbody tr th {\n",
       "        vertical-align: top;\n",
       "    }\n",
       "\n",
       "    .dataframe thead th {\n",
       "        text-align: right;\n",
       "    }\n",
       "</style>\n",
       "<table border=\"1\" class=\"dataframe\">\n",
       "  <thead>\n",
       "    <tr style=\"text-align: right;\">\n",
       "      <th></th>\n",
       "      <th>Title</th>\n",
       "      <th>Author</th>\n",
       "      <th>Publisher</th>\n",
       "      <th>Genre</th>\n",
       "      <th>Sub-Genre</th>\n",
       "      <th>Year</th>\n",
       "      <th>Pages</th>\n",
       "      <th>Start Date</th>\n",
       "      <th>Finish Date</th>\n",
       "      <th>Duration</th>\n",
       "      <th>Rating</th>\n",
       "    </tr>\n",
       "  </thead>\n",
       "  <tbody>\n",
       "    <tr>\n",
       "      <th>0</th>\n",
       "      <td>The War of Art</td>\n",
       "      <td>Steven Pressfield</td>\n",
       "      <td>Black Irish Entertrainment</td>\n",
       "      <td>Nonfiction</td>\n",
       "      <td>Self Help</td>\n",
       "      <td>2012.0</td>\n",
       "      <td>190.0</td>\n",
       "      <td>NaT</td>\n",
       "      <td>NaT</td>\n",
       "      <td>NaN</td>\n",
       "      <td>3.0</td>\n",
       "    </tr>\n",
       "    <tr>\n",
       "      <th>7</th>\n",
       "      <td>How to Win Friends &amp; Influence People</td>\n",
       "      <td>Dale Carnegie</td>\n",
       "      <td>Simon &amp; Schuster</td>\n",
       "      <td>Nonfiction</td>\n",
       "      <td>Self Help</td>\n",
       "      <td>2011.0</td>\n",
       "      <td>276.0</td>\n",
       "      <td>NaT</td>\n",
       "      <td>NaT</td>\n",
       "      <td>NaN</td>\n",
       "      <td>5.5</td>\n",
       "    </tr>\n",
       "    <tr>\n",
       "      <th>14</th>\n",
       "      <td>Meditations</td>\n",
       "      <td>Marcus Aurelius</td>\n",
       "      <td>Random House Publishing Group</td>\n",
       "      <td>Philosophy</td>\n",
       "      <td>Nonfiction</td>\n",
       "      <td>2003.0</td>\n",
       "      <td>194.0</td>\n",
       "      <td>NaT</td>\n",
       "      <td>NaT</td>\n",
       "      <td>NaN</td>\n",
       "      <td>6.5</td>\n",
       "    </tr>\n",
       "    <tr>\n",
       "      <th>18</th>\n",
       "      <td>Selected Writings &amp; Discourses</td>\n",
       "      <td>Epictetus</td>\n",
       "      <td>Penguin Classics</td>\n",
       "      <td>Philosophy</td>\n",
       "      <td>Nonfiction</td>\n",
       "      <td>2008.0</td>\n",
       "      <td>276.0</td>\n",
       "      <td>NaT</td>\n",
       "      <td>NaT</td>\n",
       "      <td>NaN</td>\n",
       "      <td>7.0</td>\n",
       "    </tr>\n",
       "    <tr>\n",
       "      <th>19</th>\n",
       "      <td>Letters From A Stoic</td>\n",
       "      <td>Seneca</td>\n",
       "      <td>Penguin Classics</td>\n",
       "      <td>Philosophy</td>\n",
       "      <td>Nonfiction</td>\n",
       "      <td>2004.0</td>\n",
       "      <td>254.0</td>\n",
       "      <td>NaT</td>\n",
       "      <td>NaT</td>\n",
       "      <td>NaN</td>\n",
       "      <td>7.0</td>\n",
       "    </tr>\n",
       "    <tr>\n",
       "      <th>22</th>\n",
       "      <td>Emotional Agility</td>\n",
       "      <td>Susan David</td>\n",
       "      <td>Avery Publishing Group</td>\n",
       "      <td>Psychology</td>\n",
       "      <td>Self Help</td>\n",
       "      <td>2016.0</td>\n",
       "      <td>288.0</td>\n",
       "      <td>NaT</td>\n",
       "      <td>NaT</td>\n",
       "      <td>NaN</td>\n",
       "      <td>7.5</td>\n",
       "    </tr>\n",
       "    <tr>\n",
       "      <th>30</th>\n",
       "      <td>Norwegian Wood</td>\n",
       "      <td>Haruki Murakami</td>\n",
       "      <td>Knopf Doubleday Publishing Group</td>\n",
       "      <td>Fiction</td>\n",
       "      <td>Cultural</td>\n",
       "      <td>2000.0</td>\n",
       "      <td>298.0</td>\n",
       "      <td>NaT</td>\n",
       "      <td>NaT</td>\n",
       "      <td>NaN</td>\n",
       "      <td>8.5</td>\n",
       "    </tr>\n",
       "  </tbody>\n",
       "</table>\n",
       "</div>"
      ],
      "text/plain": [
       "                                    Title             Author   \n",
       "0                          The War of Art  Steven Pressfield  \\\n",
       "7   How to Win Friends & Influence People      Dale Carnegie   \n",
       "14                            Meditations    Marcus Aurelius   \n",
       "18         Selected Writings & Discourses          Epictetus   \n",
       "19                   Letters From A Stoic             Seneca   \n",
       "22                      Emotional Agility        Susan David   \n",
       "30                         Norwegian Wood    Haruki Murakami   \n",
       "\n",
       "                           Publisher       Genre   Sub-Genre    Year  Pages   \n",
       "0         Black Irish Entertrainment  Nonfiction   Self Help  2012.0  190.0  \\\n",
       "7                   Simon & Schuster  Nonfiction   Self Help  2011.0  276.0   \n",
       "14     Random House Publishing Group  Philosophy  Nonfiction  2003.0  194.0   \n",
       "18                  Penguin Classics  Philosophy  Nonfiction  2008.0  276.0   \n",
       "19                  Penguin Classics  Philosophy  Nonfiction  2004.0  254.0   \n",
       "22            Avery Publishing Group  Psychology   Self Help  2016.0  288.0   \n",
       "30  Knopf Doubleday Publishing Group     Fiction    Cultural  2000.0  298.0   \n",
       "\n",
       "   Start Date Finish Date  Duration  Rating  \n",
       "0         NaT         NaT       NaN     3.0  \n",
       "7         NaT         NaT       NaN     5.5  \n",
       "14        NaT         NaT       NaN     6.5  \n",
       "18        NaT         NaT       NaN     7.0  \n",
       "19        NaT         NaT       NaN     7.0  \n",
       "22        NaT         NaT       NaN     7.5  \n",
       "30        NaT         NaT       NaN     8.5  "
      ]
     },
     "execution_count": 7,
     "metadata": {},
     "output_type": "execute_result"
    }
   ],
   "source": [
    "df[df.isna().any(axis=1)]"
   ]
  }
 ],
 "metadata": {
  "kernelspec": {
   "display_name": "Python 3 (ipykernel)",
   "language": "python",
   "name": "python3"
  },
  "language_info": {
   "codemirror_mode": {
    "name": "ipython",
    "version": 3
   },
   "file_extension": ".py",
   "mimetype": "text/x-python",
   "name": "python",
   "nbconvert_exporter": "python",
   "pygments_lexer": "ipython3",
   "version": "3.10.2"
  },
  "widgets": {
   "application/vnd.jupyter.widget-state+json": {
    "state": {},
    "version_major": 2,
    "version_minor": 0
   }
  }
 },
 "nbformat": 4,
 "nbformat_minor": 5
}
