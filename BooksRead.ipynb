{
 "cells": [
  {
   "cell_type": "code",
   "execution_count": null,
   "id": "87114c93-2959-4905-890e-477b44a6b9e6",
   "metadata": {
    "tags": []
   },
   "outputs": [],
   "source": [
    "from IPython.display import HTML\n",
    "\n",
    "HTML(\"\"\"\n",
    "<style>\n",
    "    #notebook-container {\n",
    "    width: 80% !important;\n",
    "}\n",
    ".dataTable {\n",
    "    width: 100% !important;\n",
    "}\n",
    ".dataTables_scrollBody {\n",
    "    width: 100% !important;\n",
    "}\n",
    ".dataTables_scrollHead {\n",
    "    width: 100% !important;\n",
    "}\n",
    ".dataTables_filter {\n",
    "   float: right !important;\n",
    "}\n",
    ".output_html {\n",
    "    max-width: calc(100%) !important;\n",
    "}\n",
    ".rendered{\n",
    "    font-size: 125%;\n",
    "}\n",
    "</style>\n",
    "\"\"\")\n",
    "\n",
    "html1 = '<img src=\"https://images.theconversation.com/files/45159/original/rptgtpxd-1396254731.jpg\" width=\"900\" style=\"margin-left:auto; margin-right:auto\"/>'\n",
    "HTML(html1)"
   ]
  },
  {
   "cell_type": "markdown",
   "id": "d3a7a83a-a1d9-4dbe-aa5b-d57f0553f19e",
   "metadata": {},
   "source": [
    "# A quick analysis of my reading habits\n",
    "\n",
    "This project aims to answer a few basic questions about my reading habits over the past few years. Specifically, it looks at the books I've read since the end of 2020, when I started keeping track of things. I've compiled a spreadsheet that contains basic information such as Title, Author, Genre, Format, etc. in the hopes of perhaps identifying trends of patterns in my reading habits. Additionally, this helps me see how my tastes change over time. Some basic questions I hope to answer are the following:\n",
    "\n",
    "* What do I read the most?\n",
    "* What format do I prefer?\n",
    "* Are there any Genre-Sub-Genre pairs I tend to gravitate towards?\n",
    "* Who is my most read author?\n",
    "* How long does it take me to read books?\n",
    "* Do I read more during a certain time of year?"
   ]
  },
  {
   "cell_type": "code",
   "execution_count": null,
   "id": "84975d7e-87e3-41ba-89d7-8f88e4ad5d9a",
   "metadata": {
    "tags": []
   },
   "outputs": [],
   "source": [
    "import pandas as pd\n",
    "import numpy as np\n",
    "import seaborn as sns\n",
    "import plot\n",
    "\n",
    "df = pd.read_csv('BookList.csv')\n",
    "\n",
    "#removes any blank rows or books I never finished/rated\n",
    "df = df[df['Rating'].notnull()]\n",
    "\n",
    "# convert columns to correct (or better) data types\n",
    "df[['Year', 'Pages']] = df[['Year', 'Pages']].apply(pd.to_numeric, downcast='integer')\n",
    "df['Duration'] = df['Duration'].apply(pd.to_numeric, downcast='integer')\n",
    "df['Rating'] = df['Rating'].apply(pd.to_numeric, downcast='float')\n",
    "df['Start Date']= pd.to_datetime(df['Start Date'])\n",
    "df['Finish Date']= pd.to_datetime(df['Finish Date'])\n",
    "df.tail()"
   ]
  },
  {
   "cell_type": "markdown",
   "id": "f4846f4e-919d-4323-bedf-3c29d619420f",
   "metadata": {},
   "source": [
    "### Genre Count"
   ]
  },
  {
   "cell_type": "code",
   "execution_count": null,
   "id": "2808c3f2-dd09-47d2-b768-5dfaca7d6e9f",
   "metadata": {
    "tags": []
   },
   "outputs": [],
   "source": [
    "title = \"Top 5 Most-Read Genres\"\n",
    "sub = f\"I've read almost twice as many fiction books as all other genres combined!\"\n",
    "\n",
    "plot.gen_bar_graph(df, 'Genre', title, sub, color=\"#d27575\")"
   ]
  },
  {
   "cell_type": "code",
   "execution_count": null,
   "id": "730f9c73-60b9-481c-b713-49ec6e4548d1",
   "metadata": {
    "tags": []
   },
   "outputs": [],
   "source": [
    "title = \"Top 10 Most-Read Sub-Genres\"\n",
    "sub = f\"I've been more interested in reality-based books lately - I love learning about the history of things!\"\n",
    "\n",
    "plot.gen_bar_graph(df, 'Sub-Genre', title, sub, 10, color=\"#529b9c\")"
   ]
  },
  {
   "cell_type": "markdown",
   "id": "cc0e9a3b-c679-4de7-beec-da570378c9b4",
   "metadata": {},
   "source": [
    "### Most Common Genre-Sub-Genre Pairing"
   ]
  },
  {
   "cell_type": "code",
   "execution_count": null,
   "id": "338a8b13-4a26-42f3-8248-509a2e23ca8d",
   "metadata": {
    "tags": []
   },
   "outputs": [],
   "source": [
    "title = \"Top 10 Most Common Genre/Sub-Genre Pairings\"\n",
    "sub = f\"Historical Fiction really caught my interest in the past few years\"\n",
    "\n",
    "df['Genre Pair'] = df['Genre'] + '-' + df['Sub-Genre']\n",
    "plot.gen_bar_graph(df, 'Genre Pair', title, sub, num=10, color=\"#eac392\")"
   ]
  },
  {
   "cell_type": "markdown",
   "id": "641ddca7-eb7e-4a5d-aa47-79fd8b567e83",
   "metadata": {},
   "source": [
    "### Most-Read Author"
   ]
  },
  {
   "cell_type": "code",
   "execution_count": null,
   "id": "a837ecd8-be89-4e1d-bf71-59b6ffc07dc3",
   "metadata": {
    "tags": []
   },
   "outputs": [],
   "source": [
    "title = \"Most-Read Authors\"\n",
    "sub = f\"I really enjoy Japanese authors - who knew?\"\n",
    "plot.gen_bar_graph(df, 'Author', title, sub, color=\"#9cba8f\")"
   ]
  },
  {
   "cell_type": "code",
   "execution_count": null,
   "id": "1cba164e-d241-4b5d-98dc-bb24b2e0ee7e",
   "metadata": {
    "tags": []
   },
   "outputs": [],
   "source": [
    "physical = (df[df['Format'] == 'Physical'].groupby('Genre')['Title']\n",
    "            .count()\n",
    "            .reset_index()\n",
    "            .rename(columns={'Title':'Physical'}))\n",
    "ebook = (df[df['Format'] == 'eBook'].groupby('Genre')['Title']\n",
    "         .count()\n",
    "         .reset_index()\n",
    "         .rename(columns={'Title':'eBook'}))\n",
    "\n",
    "format_df = pd.concat([physical, ebook['eBook']], axis=1).fillna(0).set_index('Genre')\n",
    "format_df = format_df.convert_dtypes()\n",
    "\n",
    "title = \"Most-Read Book Format\"\n",
    "sub = f\"I tend to buy physical copies of books based on reality and non-fiction\"\n",
    "plot.gen_stacked_bar_graph(format_df, title, sub)"
   ]
  },
  {
   "cell_type": "markdown",
   "id": "31b649d2-9c4a-4988-abb3-2a3c2bebf570",
   "metadata": {},
   "source": [
    "### Ratings"
   ]
  },
  {
   "cell_type": "code",
   "execution_count": null,
   "id": "5cfc3acc-fb67-425c-8643-1644357f785c",
   "metadata": {
    "tags": []
   },
   "outputs": [],
   "source": [
    "dfr = df.groupby('Genre')['Rating'].mean().reset_index().round(2)\n",
    "dfr['Total'] = df.groupby('Genre')['Title'].count().reset_index(drop=True)\n",
    "\n",
    "title = \"Ratings by Genre\"\n",
    "sub = f\"I tend to enjoy more cerebral books - I love intellectual stimulation!\"\n",
    "plot.gen_bar_graph(dfr, 'Genre', title, sub, avg=True, w_avg='Rating')"
   ]
  },
  {
   "cell_type": "code",
   "execution_count": null,
   "id": "6b18a3ae-59ef-4459-866b-0603c44022e3",
   "metadata": {
    "tags": []
   },
   "outputs": [],
   "source": [
    "dfs = df.groupby('Sub-Genre')['Rating'].mean().reset_index().round(2)\n",
    "dfs['Total'] = df.groupby('Sub-Genre')['Title'].count().reset_index(drop=True)\n",
    "dfs = dfs.sort_values('Rating', ascending=True).reset_index(drop=True)\n",
    "\n",
    "title = \"Ratings by Sub-Genre\"\n",
    "sub = f\"Personal stories and books based on history tend to capture me more\"\n",
    "plot.gen_hbar_graph(dfs, 'Sub-Genre', title, sub, avg=True, w_avg='Rating')"
   ]
  },
  {
   "cell_type": "markdown",
   "id": "75218324-0d05-42b0-9fe0-358bc29a6456",
   "metadata": {},
   "source": [
    "### Durations"
   ]
  },
  {
   "cell_type": "code",
   "execution_count": null,
   "id": "e77d346e-65e5-4d29-8e28-fd1734e6c0fc",
   "metadata": {
    "tags": []
   },
   "outputs": [],
   "source": [
    "dft = df.groupby('Genre')['Duration'].mean().reset_index()\n",
    "dft = dft[dft['Duration'].notnull()].round(2)\n",
    "dft['Total'] = df.groupby('Genre')['Title'].count().reset_index(drop=True)\n",
    "# dft.loc[len(dft.index)] = ['Overall', dft['Duration'].mean()]\n",
    "title = \"Duration by Genre\"\n",
    "sub = f\"Philosophy books can be incredibly difficult to get through for me\"\n",
    "plot.gen_bar_graph(dft, 'Genre', title, sub, avg=True, w_avg='Duration')"
   ]
  },
  {
   "cell_type": "code",
   "execution_count": null,
   "id": "a7d6e146-d141-464d-b972-f0624390915b",
   "metadata": {
    "tags": []
   },
   "outputs": [],
   "source": [
    "dfy = df.groupby('Sub-Genre')['Duration'].mean().reset_index()\n",
    "dfy = dfy[dfy['Duration'].notnull()].round(2)\n",
    "dfy['Total'] = df.groupby('Sub-Genre')['Title'].count().reset_index(drop=True)\n",
    "dfy = dfy.sort_values('Duration', ascending=True).reset_index(drop=True)\n",
    "\n",
    "title = \"Duration by Sub-Genre\"\n",
    "sub = f\"Most non-fiction or reality-based books tend to take me longer to read\"\n",
    "plot.gen_hbar_graph(dfy, 'Sub-Genre', title, sub, avg=True, w_avg='Duration')"
   ]
  },
  {
   "cell_type": "code",
   "execution_count": null,
   "id": "1e533e30-88f7-48af-9e9f-095f6b1799ec",
   "metadata": {
    "tags": []
   },
   "outputs": [],
   "source": [
    "#get list of unique genres/subgenres \n",
    "subgenres = df['Sub-Genre'].unique()\n",
    "genres = df['Genre'].unique()\n",
    "\n",
    "#create new, NaN-filled dataframe where rows=genres, and columns=subgenres\n",
    "dfh = pd.DataFrame(np.nan, columns=subgenres, index=genres)\n",
    "\n",
    "# grp = data grouped by the two columns you want as vertical & horizontal axes\n",
    "grp = df[df[\"Genre\"].isin(genres)].groupby([\"Genre\", \"Sub-Genre\"], as_index=False)['Title'].count()\n",
    "\n",
    "#for each row in grp (which is the count of genre-sub-genre pairs), put the count (which is 'Title') in the corresponding row/column\n",
    "for idx, row in grp.iterrows():\n",
    "    dfh.loc[row[\"Genre\"], row[\"Sub-Genre\"]] = row['Title']\n",
    "    \n",
    "dfh.fillna(0, inplace=True)\n",
    "\n",
    "title = \"Genre Pairing Heatmap\"\n",
    "sub = f\"Because who doesn't love a heatmap?\"\n",
    "plot.gen_heatmap(dfh, title, sub)"
   ]
  },
  {
   "cell_type": "code",
   "execution_count": null,
   "id": "8b2d3721-f3a5-4b7b-9477-17a79aee247b",
   "metadata": {
    "tags": []
   },
   "outputs": [],
   "source": [
    "dfc = df.groupby('Genre')['Pages'].mean().round(2).reset_index()\n",
    "dfc['Total'] = df.groupby('Genre')['Title'].count().reset_index(drop=True)\n",
    "dfc = dfc.sort_values('Pages', ascending=False).reset_index(drop=True)\n",
    "\n",
    "title = \"Average Number of Pages by Genre\"\n",
    "sub = f\"Books grounded in reality need more pages to fully explain concepts and ideas\"\n",
    "plot.gen_bar_graph(dfc, 'Genre', title, sub, avg=True, w_avg='Pages')"
   ]
  },
  {
   "cell_type": "code",
   "execution_count": null,
   "id": "2b14a032-e1c8-4317-bc85-494b09b478c0",
   "metadata": {
    "tags": []
   },
   "outputs": [],
   "source": [
    "dfx = df.groupby('Sub-Genre')['Pages'].mean().round(2).reset_index()\n",
    "dfx['Total'] = df.groupby('Sub-Genre')['Title'].count().reset_index(drop=True)\n",
    "dfx = dfx.sort_values('Pages', ascending=True).reset_index(drop=True)\n",
    "\n",
    "title = \"Average Number of Pages by Sub-Genre\"\n",
    "sub = f\"Fantasy authors love to flesh out their books\"\n",
    "plot.gen_hbar_graph(dfx, 'Sub-Genre', title, sub, avg=True, w_avg='Pages')"
   ]
  },
  {
   "cell_type": "markdown",
   "id": "7029876e-7826-4a8c-ae0c-f1118e28dde1",
   "metadata": {},
   "source": [
    "### Top Rated Books"
   ]
  },
  {
   "cell_type": "code",
   "execution_count": null,
   "id": "44c730b1-0f7a-4cc2-8749-6f7600be1c0d",
   "metadata": {
    "tags": []
   },
   "outputs": [],
   "source": [
    "top_df = df.sort_values(by=['Rating']).tail(15).reset_index(drop=True)\n",
    "\n",
    "title = \"My Top Rated Books\"\n",
    "sub = f\"Seriously, please read these\"\n",
    "plot.top10_graph(top_df, 'Rating', 'Title', title, sub)"
   ]
  },
  {
   "cell_type": "code",
   "execution_count": null,
   "id": "d0e14359-ad62-48f2-abe1-74617ed9faed",
   "metadata": {
    "tags": []
   },
   "outputs": [],
   "source": [
    "dfd = df[df['Start Date'].notnull()] #books that have a definied start (& end)\n",
    "\n",
    "#group by year\n",
    "by_start = dfd.groupby(dfd['Start Date'].dt.to_period('Y').rename('Date'))['Title'].count().rename('Started').reset_index()\n",
    "by_finish = dfd.groupby(dfd['Finish Date'].dt.to_period('Y').rename('Date'))['Title'].count().rename('Finished').reset_index()\n",
    "df_year = pd.merge(by_start, by_finish, how=\"outer\").fillna(0).sort_values('Date').reset_index(drop=True)\n",
    "df_year['Date'] = df_year['Date'].astype(str)\n",
    "df_year = df_year.set_index('Date')\n",
    "\n",
    "#group by year-month\n",
    "by_start = dfd.groupby(dfd['Start Date'].dt.to_period('M').rename('Date'))['Title'].count().rename('Started').reset_index()\n",
    "by_finish = dfd.groupby(dfd['Finish Date'].dt.to_period('M').rename('Date'))['Title'].count().rename('Finished').reset_index()\n",
    "df_yearmonth = pd.merge(by_start, by_finish, how=\"outer\").fillna(0).sort_values('Date').reset_index(drop=True)\n",
    "df_yearmonth['Date'] = df_yearmonth['Date'].astype(str)\n",
    "df_yearmonth = df_yearmonth.set_index('Date')\n",
    "\n",
    "#combine both datasets so we can have a chart with a dropdown\n",
    "df_time = pd.concat([df_year, df_yearmonth], axis=0)\n",
    "\n",
    "title = \"How Much I've Read Over Time\"\n",
    "sub = \"Total Number of Books Finished by Year/Month\"\n",
    "plot.gen_time_graph(df_time, title, sub)"
   ]
  },
  {
   "cell_type": "code",
   "execution_count": null,
   "id": "bfe08ee2-0f81-4323-b371-adf1df67df70",
   "metadata": {
    "tags": []
   },
   "outputs": [],
   "source": [
    "# # Clean up space\n",
    "#       - name: Remove unnecessary files\n",
    "#         run: |\n",
    "#           rm -rf /usr/share/dotnet\n",
    "#           rm -rf /opt/ghc\n",
    "#           rm -rf \"/usr/local/share/boost\"\n",
    "#           rm -rf \"$AGENT_TOOLSDIRECTORY\""
   ]
  }
 ],
 "metadata": {
  "kernelspec": {
   "display_name": "Python 3 (ipykernel)",
   "language": "python",
   "name": "python3"
  },
  "language_info": {
   "codemirror_mode": {
    "name": "ipython",
    "version": 3
   },
   "file_extension": ".py",
   "mimetype": "text/x-python",
   "name": "python",
   "nbconvert_exporter": "python",
   "pygments_lexer": "ipython3",
   "version": "3.10.2"
  },
  "widgets": {
   "application/vnd.jupyter.widget-state+json": {
    "state": {},
    "version_major": 2,
    "version_minor": 0
   }
  }
 },
 "nbformat": 4,
 "nbformat_minor": 5
}
