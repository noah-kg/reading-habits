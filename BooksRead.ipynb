{
 "cells": [
  {
   "cell_type": "code",
   "execution_count": null,
   "id": "1bef561d-9a6c-49e1-9a36-128e2f725acb",
   "metadata": {
    "tags": []
   },
   "outputs": [],
   "source": [
    "from IPython.display import HTML"
   ]
  },
  {
   "cell_type": "code",
   "execution_count": null,
   "id": "2a48e8c9-6199-4077-aa4c-f276c75c3240",
   "metadata": {
    "tags": []
   },
   "outputs": [],
   "source": [
    "HTML(\"\"\"\n",
    "<style>\n",
    "    #notebook-container {\n",
    "    width: 80% !important;\n",
    "}\n",
    ".dataTable {\n",
    "    width: 100% !important;\n",
    "}\n",
    ".dataTables_scrollBody {\n",
    "    width: 100% !important;\n",
    "}\n",
    ".dataTables_scrollHead {\n",
    "    width: 100% !important;\n",
    "}\n",
    ".dataTables_filter {\n",
    "   float: right !important;\n",
    "}\n",
    ".output_html {\n",
    "    max-width: calc(100%) !important;\n",
    "}\n",
    ".rendered{\n",
    "    font-size: 125%;\n",
    "}\n",
    "</style>\n",
    "\"\"\")"
   ]
  },
  {
   "cell_type": "code",
   "execution_count": null,
   "id": "e3216e95-33e3-4723-b326-3475e9bb5d74",
   "metadata": {
    "tags": []
   },
   "outputs": [],
   "source": [
    "html1 = '<img src=\"https://images.theconversation.com/files/45159/original/rptgtpxd-1396254731.jpg\" width=\"900\" style=\"margin-left:auto; margin-right:auto\"/>'\n",
    "HTML(html1)"
   ]
  },
  {
   "cell_type": "markdown",
   "id": "d3a7a83a-a1d9-4dbe-aa5b-d57f0553f19e",
   "metadata": {},
   "source": [
    "# A quick analysis of my reading habits\n",
    "\n",
    "* What do I read the most?\n",
    "* What format do I prefer?\n",
    "* Are there any Genre-Sub-Genre pairs I tend to gravitate towards?\n",
    "* Who is my most read author?\n",
    "* How long does it take me to read books?"
   ]
  },
  {
   "cell_type": "code",
   "execution_count": null,
   "id": "84975d7e-87e3-41ba-89d7-8f88e4ad5d9a",
   "metadata": {
    "tags": []
   },
   "outputs": [],
   "source": [
    "import pandas as pd\n",
    "import numpy as np\n",
    "import seaborn as sns\n",
    "import plot\n",
    "\n",
    "df = pd.read_csv('BookList.csv')\n",
    "\n",
    "#removes any blank rows or books I never finished/rated\n",
    "df = df[df['Rating'].notnull()]\n",
    "\n",
    "# convert columns to correct (or better) data types\n",
    "df[['Year', 'Pages']] = df[['Year', 'Pages']].apply(pd.to_numeric, downcast='integer')\n",
    "df['Duration'] = df['Duration'].apply(pd.to_numeric, downcast='integer')\n",
    "df['Rating'] = df['Rating'].apply(pd.to_numeric, downcast='float')\n",
    "df['Start Date']= pd.to_datetime(df['Start Date'])\n",
    "df['Finish Date']= pd.to_datetime(df['Finish Date'])\n",
    "df.tail()"
   ]
  },
  {
   "cell_type": "markdown",
   "id": "f4846f4e-919d-4323-bedf-3c29d619420f",
   "metadata": {},
   "source": [
    "### Genre Count"
   ]
  },
  {
   "cell_type": "code",
   "execution_count": null,
   "id": "2808c3f2-dd09-47d2-b768-5dfaca7d6e9f",
   "metadata": {
    "tags": []
   },
   "outputs": [],
   "source": [
    "title = \"Top 5 Most-Read Genres\"\n",
    "sub = f\"Based on total number of books I actually finished\"\n",
    "\n",
    "plot.gen_bar_graph(df, 'Genre', title, sub, color=\"#d27575\")"
   ]
  },
  {
   "cell_type": "code",
   "execution_count": null,
   "id": "730f9c73-60b9-481c-b713-49ec6e4548d1",
   "metadata": {
    "tags": []
   },
   "outputs": [],
   "source": [
    "title = \"Top 10 Most-Read Sub-Genres\"\n",
    "sub = f\"Based on total number of books I actually finished\"\n",
    "\n",
    "plot.gen_bar_graph(df, 'Sub-Genre', title, sub, 10, color=\"#529b9c\")"
   ]
  },
  {
   "cell_type": "code",
   "execution_count": null,
   "id": "2130d612-791e-4102-a191-9a59298c5f69",
   "metadata": {
    "tags": []
   },
   "outputs": [],
   "source": [
    "#df[df.isna().any(axis=1)]"
   ]
  },
  {
   "cell_type": "markdown",
   "id": "cc0e9a3b-c679-4de7-beec-da570378c9b4",
   "metadata": {},
   "source": [
    "### Most Common Genre-Sub-Genre Pairing"
   ]
  },
  {
   "cell_type": "code",
   "execution_count": null,
   "id": "338a8b13-4a26-42f3-8248-509a2e23ca8d",
   "metadata": {
    "tags": []
   },
   "outputs": [],
   "source": [
    "title = \"Top 10 Most Common Genre/Sub-Genre Pairings\"\n",
    "sub = f\"Based on total number of books I actually finished\"\n",
    "\n",
    "df['Genre Pair'] = df['Genre'] + '-' + df['Sub-Genre']\n",
    "plot.gen_bar_graph(df, 'Genre Pair', title, sub, num=10, color=\"#eac392\")"
   ]
  },
  {
   "cell_type": "markdown",
   "id": "641ddca7-eb7e-4a5d-aa47-79fd8b567e83",
   "metadata": {},
   "source": [
    "### Most-Read Author"
   ]
  },
  {
   "cell_type": "code",
   "execution_count": null,
   "id": "a837ecd8-be89-4e1d-bf71-59b6ffc07dc3",
   "metadata": {
    "tags": []
   },
   "outputs": [],
   "source": [
    "title = \"Most-Read Authors\"\n",
    "sub = f\"Based on total number of books I actually finished\"\n",
    "plot.gen_bar_graph(df, 'Author', title, sub, color=\"#9cba8f\")"
   ]
  },
  {
   "cell_type": "code",
   "execution_count": null,
   "id": "a74b66e0-8a88-49b5-85b9-da1cfd3822bc",
   "metadata": {
    "tags": []
   },
   "outputs": [],
   "source": [
    "physical = (df[df['Format'] == 'Physical'].groupby('Genre')['Title']\n",
    "            .count()\n",
    "            .reset_index()\n",
    "            .rename(columns={'Title':'Physical'}))\n",
    "ebook = (df[df['Format'] == 'eBook'].groupby('Genre')['Title']\n",
    "         .count()\n",
    "         .reset_index()\n",
    "         .rename(columns={'Title':'eBook'}))\n",
    "\n",
    "format_df = pd.concat([physical, ebook['eBook']], axis=1).fillna(0).set_index('Genre')\n",
    "format_df = format_df.convert_dtypes()"
   ]
  },
  {
   "cell_type": "code",
   "execution_count": null,
   "id": "dddab0fd-331c-4ece-b7c1-ec60a13153dc",
   "metadata": {
    "tags": []
   },
   "outputs": [],
   "source": [
    "title = \"Most-Read Book Format\"\n",
    "sub = f\"Based on total number of books I actually finished\"\n",
    "plot.gen_stacked_bar_graph(format_df, title, sub)"
   ]
  },
  {
   "cell_type": "markdown",
   "id": "31b649d2-9c4a-4988-abb3-2a3c2bebf570",
   "metadata": {},
   "source": [
    "### Ratings"
   ]
  },
  {
   "cell_type": "code",
   "execution_count": null,
   "id": "5cfc3acc-fb67-425c-8643-1644357f785c",
   "metadata": {
    "tags": []
   },
   "outputs": [],
   "source": [
    "dfr = df.groupby('Genre')['Rating'].mean().reset_index().round(2)\n",
    "dfr['Total'] = df.groupby('Genre')['Title'].count().reset_index(drop=True)\n",
    "\n",
    "title = \"Ratings by Genre\"\n",
    "sub = f\"Average rating of finished books by genre\"\n",
    "plot.gen_bar_graph(dfr, 'Genre', title, sub, avg=True, w_avg='Rating')"
   ]
  },
  {
   "cell_type": "code",
   "execution_count": null,
   "id": "6b18a3ae-59ef-4459-866b-0603c44022e3",
   "metadata": {
    "tags": []
   },
   "outputs": [],
   "source": [
    "dfs = df.groupby('Sub-Genre')['Rating'].mean().reset_index().round(2)\n",
    "dfs['Total'] = df.groupby('Sub-Genre')['Title'].count().reset_index(drop=True)\n",
    "dfs = dfs.sort_values('Rating', ascending=True).reset_index(drop=True)\n",
    "\n",
    "title = \"Ratings by Sub-Genre\"\n",
    "sub = f\"Average rating of finished books by genre\"\n",
    "plot.gen_hbar_graph(dfs, 'Sub-Genre', title, sub, avg=True, w_avg='Rating')"
   ]
  },
  {
   "cell_type": "markdown",
   "id": "75218324-0d05-42b0-9fe0-358bc29a6456",
   "metadata": {},
   "source": [
    "### Durations"
   ]
  },
  {
   "cell_type": "code",
   "execution_count": null,
   "id": "e77d346e-65e5-4d29-8e28-fd1734e6c0fc",
   "metadata": {
    "tags": []
   },
   "outputs": [],
   "source": [
    "dft = df.groupby('Genre')['Duration'].mean().reset_index()\n",
    "dft = dft[dft['Duration'].notnull()].round(2)\n",
    "dft['Total'] = df.groupby('Genre')['Title'].count().reset_index(drop=True)\n",
    "# dft.loc[len(dft.index)] = ['Overall', dft['Duration'].mean()]\n",
    "title = \"Duration by Genre\"\n",
    "sub = f\"Average number of days it took to read a book by genre\"\n",
    "plot.gen_bar_graph(dft, 'Genre', title, sub, avg=True, w_avg='Duration')"
   ]
  },
  {
   "cell_type": "code",
   "execution_count": null,
   "id": "a7d6e146-d141-464d-b972-f0624390915b",
   "metadata": {
    "tags": []
   },
   "outputs": [],
   "source": [
    "dfy = df.groupby('Sub-Genre')['Duration'].mean().reset_index()\n",
    "dfy = dfy[dfy['Duration'].notnull()].round(2)\n",
    "dfy['Total'] = df.groupby('Sub-Genre')['Title'].count().reset_index(drop=True)\n",
    "dfy = dfy.sort_values('Duration', ascending=True).reset_index(drop=True)\n",
    "\n",
    "title = \"Duration by Sub-Genre\"\n",
    "sub = f\"Average number of days it took to read a book by sub-genre\"\n",
    "plot.gen_hbar_graph(dfy, 'Sub-Genre', title, sub, avg=True, w_avg='Duration')"
   ]
  },
  {
   "cell_type": "code",
   "execution_count": null,
   "id": "e8a15a95-0601-40c1-811a-fd05cf046eb3",
   "metadata": {
    "tags": []
   },
   "outputs": [],
   "source": [
    "#get list of unique genres/subgenres \n",
    "subgenres = df['Sub-Genre'].unique()\n",
    "genres = df['Genre'].unique()\n",
    "\n",
    "#create new, NaN-filled dataframe where rows=genres, and columns=subgenres\n",
    "dfh = pd.DataFrame(np.nan, columns=subgenres, index=genres)\n",
    "\n",
    "# grp = data grouped by the two columns you want as vertical & horizontal axes\n",
    "grp = df[df[\"Genre\"].isin(genres)].groupby([\"Genre\", \"Sub-Genre\"], as_index=False)['Title'].count()\n",
    "\n",
    "#for each row in grp (which is the count of genre-sub-genre pairs), put the count (which is 'Title') in the corresponding row/column\n",
    "for idx, row in grp.iterrows():\n",
    "    dfh.loc[row[\"Genre\"], row[\"Sub-Genre\"]] = row['Title']\n",
    "    \n",
    "dfh.fillna(0, inplace=True)"
   ]
  },
  {
   "cell_type": "code",
   "execution_count": null,
   "id": "9ac6ec39-a88b-4c5d-b122-22d29f2bd698",
   "metadata": {
    "tags": []
   },
   "outputs": [],
   "source": [
    "title = \"Genre Pairing Heatmap\"\n",
    "sub = f\"Because who doesn't love a heatmap?\"\n",
    "plot.gen_heatmap(dfh, title, sub)"
   ]
  },
  {
   "cell_type": "code",
   "execution_count": null,
   "id": "8b2d3721-f3a5-4b7b-9477-17a79aee247b",
   "metadata": {
    "tags": []
   },
   "outputs": [],
   "source": [
    "dfc = df.groupby('Genre')['Pages'].mean().round(2).reset_index()\n",
    "dfc['Total'] = df.groupby('Genre')['Title'].count().reset_index(drop=True)\n",
    "dfc = dfc.sort_values('Pages', ascending=False)\n",
    "\n",
    "title = \"Average Number of Pages by Genre\"\n",
    "sub = f\"blah blah\"\n",
    "plot.gen_bar_graph(dfc, 'Genre', title, sub, avg=True, w_avg='Pages')"
   ]
  },
  {
   "cell_type": "code",
   "execution_count": null,
   "id": "2b14a032-e1c8-4317-bc85-494b09b478c0",
   "metadata": {
    "tags": []
   },
   "outputs": [],
   "source": [
    "dfx = df.groupby('Sub-Genre')['Pages'].mean().round(2).reset_index()\n",
    "dfx['Total'] = df.groupby('Sub-Genre')['Title'].count().reset_index(drop=True)\n",
    "dfx = dfx.sort_values('Pages', ascending=True).reset_index(drop=True)\n",
    "\n",
    "title = \"Average Number of Pages by Sub-Genre\"\n",
    "sub = f\"ipso facto\"\n",
    "plot.gen_hbar_graph(dfx, 'Sub-Genre', title, sub, avg=True, w_avg='Pages')"
   ]
  },
  {
   "cell_type": "markdown",
   "id": "7ada8bc9-9f2d-4584-bae3-0110b8a4b96e",
   "metadata": {},
   "source": [
    "## This is still a test to see if GitHub Pages is working correctly. More in-depth analysis to come soon!"
   ]
  },
  {
   "cell_type": "code",
   "execution_count": null,
   "id": "bfe08ee2-0f81-4323-b371-adf1df67df70",
   "metadata": {
    "tags": []
   },
   "outputs": [],
   "source": [
    "# # Clean up space\n",
    "#       - name: Remove unnecessary files\n",
    "#         run: |\n",
    "#           rm -rf /usr/share/dotnet\n",
    "#           rm -rf /opt/ghc\n",
    "#           rm -rf \"/usr/local/share/boost\"\n",
    "#           rm -rf \"$AGENT_TOOLSDIRECTORY\""
   ]
  }
 ],
 "metadata": {
  "kernelspec": {
   "display_name": "Python 3 (ipykernel)",
   "language": "python",
   "name": "python3"
  },
  "language_info": {
   "codemirror_mode": {
    "name": "ipython",
    "version": 3
   },
   "file_extension": ".py",
   "mimetype": "text/x-python",
   "name": "python",
   "nbconvert_exporter": "python",
   "pygments_lexer": "ipython3",
   "version": "3.10.2"
  },
  "widgets": {
   "application/vnd.jupyter.widget-state+json": {
    "state": {},
    "version_major": 2,
    "version_minor": 0
   }
  }
 },
 "nbformat": 4,
 "nbformat_minor": 5
}
