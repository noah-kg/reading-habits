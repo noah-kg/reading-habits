{
 "cells": [
  {
   "cell_type": "code",
   "execution_count": 1,
   "id": "948f4ced-f57c-4a92-a5c7-b1e56d168cfe",
   "metadata": {
    "execution": {
     "iopub.execute_input": "2024-05-18T15:01:26.046808Z",
     "iopub.status.busy": "2024-05-18T15:01:26.045810Z",
     "iopub.status.idle": "2024-05-18T15:01:26.069664Z",
     "shell.execute_reply": "2024-05-18T15:01:26.069664Z",
     "shell.execute_reply.started": "2024-05-18T15:01:26.046808Z"
    },
    "jupyter": {
     "source_hidden": true
    },
    "tags": []
   },
   "outputs": [
    {
     "data": {
      "text/html": [
       "\n",
       "    <img src=\"https://images.theconversation.com/files/45159/original/rptgtpxd-1396254731.jpg\" style=\"margin-left:auto; margin-right:auto\"/>\n"
      ],
      "text/plain": [
       "<IPython.core.display.HTML object>"
      ]
     },
     "execution_count": 1,
     "metadata": {},
     "output_type": "execute_result"
    }
   ],
   "source": [
    "from IPython.display import HTML\n",
    "html1 = \"\"\"\n",
    "    <img src=\"https://images.theconversation.com/files/45159/original/rptgtpxd-1396254731.jpg\" style=\"margin-left:auto; margin-right:auto\"/>\n",
    "\"\"\"\n",
    "HTML(html1)"
   ]
  },
  {
   "cell_type": "markdown",
   "id": "d3a7a83a-a1d9-4dbe-aa5b-d57f0553f19e",
   "metadata": {},
   "source": [
    "# A quick analysis of my reading habits\n",
    "\n",
    "* What do I read the most?\n",
    "* What format do I prefer?\n",
    "* Are there any Genre-Sub-Genre pairs I tend to gravitate towards?\n",
    "* Who is my most read author?\n",
    "* How long does it take me to read books?"
   ]
  },
  {
   "cell_type": "code",
   "execution_count": 2,
   "id": "84975d7e-87e3-41ba-89d7-8f88e4ad5d9a",
   "metadata": {
    "execution": {
     "iopub.execute_input": "2024-05-18T15:01:26.070661Z",
     "iopub.status.busy": "2024-05-18T15:01:26.070661Z",
     "iopub.status.idle": "2024-05-18T15:01:26.084659Z",
     "shell.execute_reply": "2024-05-18T15:01:26.084659Z",
     "shell.execute_reply.started": "2024-05-18T15:01:26.070661Z"
    }
   },
   "outputs": [],
   "source": [
    "import pandas as pd\n",
    "\n",
    "df = pd.read_csv('BookList.csv')\n",
    "\n",
    "#removes any blank rows or books I never finished/rated\n",
    "df = df[df['Rating'].notnull()]\n",
    "\n",
    "# convert columns to correct (or better) data types\n",
    "df[['Year', 'Pages']] = df[['Year', 'Pages']].apply(pd.to_numeric, downcast='integer')\n",
    "df['Duration'] = df['Duration'].apply(pd.to_numeric, downcast='integer')\n",
    "df['Rating'] = df['Rating'].apply(pd.to_numeric, downcast='float')\n",
    "df['Start Date']= pd.to_datetime(df['Start Date'])\n",
    "df['Finish Date']= pd.to_datetime(df['Finish Date'])"
   ]
  },
  {
   "cell_type": "markdown",
   "id": "f4846f4e-919d-4323-bedf-3c29d619420f",
   "metadata": {},
   "source": [
    "### Genre Count"
   ]
  },
  {
   "cell_type": "code",
   "execution_count": 3,
   "id": "428dcb66-c0e3-4e47-8f3d-d84d49e82052",
   "metadata": {
    "execution": {
     "iopub.execute_input": "2024-05-18T15:01:26.085621Z",
     "iopub.status.busy": "2024-05-18T15:01:26.085621Z",
     "iopub.status.idle": "2024-05-18T15:01:26.099600Z",
     "shell.execute_reply": "2024-05-18T15:01:26.099600Z",
     "shell.execute_reply.started": "2024-05-18T15:01:26.085621Z"
    },
    "tags": []
   },
   "outputs": [
    {
     "data": {
      "text/plain": [
       "Genre\n",
       "Fiction       40\n",
       "Nonfiction    11\n",
       "Philosophy     6\n",
       "Science        4\n",
       "Psychology     1\n",
       "Name: count, dtype: int64"
      ]
     },
     "execution_count": 3,
     "metadata": {},
     "output_type": "execute_result"
    }
   ],
   "source": [
    "df['Genre'].value_counts().head()"
   ]
  },
  {
   "cell_type": "markdown",
   "id": "d56d4d40-f906-45e8-b7e6-86764e2096de",
   "metadata": {},
   "source": [
    "### Sub-Genre Count"
   ]
  },
  {
   "cell_type": "code",
   "execution_count": 4,
   "id": "3b1ffaea-2355-4fc2-9464-f56b51e0fb2a",
   "metadata": {
    "execution": {
     "iopub.execute_input": "2024-05-18T15:01:26.100609Z",
     "iopub.status.busy": "2024-05-18T15:01:26.100609Z",
     "iopub.status.idle": "2024-05-18T15:01:26.115583Z",
     "shell.execute_reply": "2024-05-18T15:01:26.115583Z",
     "shell.execute_reply.started": "2024-05-18T15:01:26.100609Z"
    },
    "tags": []
   },
   "outputs": [
    {
     "data": {
      "text/plain": [
       "Sub-Genre\n",
       "Historical Fiction    11\n",
       "Nonfiction             8\n",
       "Classics               8\n",
       "Self Help              6\n",
       "Cultural               5\n",
       "Name: count, dtype: int64"
      ]
     },
     "execution_count": 4,
     "metadata": {},
     "output_type": "execute_result"
    }
   ],
   "source": [
    "df['Sub-Genre'].value_counts().head()"
   ]
  },
  {
   "cell_type": "code",
   "execution_count": 5,
   "id": "2130d612-791e-4102-a191-9a59298c5f69",
   "metadata": {
    "execution": {
     "iopub.execute_input": "2024-05-18T15:01:26.116567Z",
     "iopub.status.busy": "2024-05-18T15:01:26.116567Z",
     "iopub.status.idle": "2024-05-18T15:01:26.131617Z",
     "shell.execute_reply": "2024-05-18T15:01:26.131617Z",
     "shell.execute_reply.started": "2024-05-18T15:01:26.116567Z"
    },
    "tags": []
   },
   "outputs": [],
   "source": [
    "#df[df.isna().any(axis=1)]"
   ]
  },
  {
   "cell_type": "markdown",
   "id": "cc0e9a3b-c679-4de7-beec-da570378c9b4",
   "metadata": {},
   "source": [
    "### Most Common Genre-Sub-Genre Pairing"
   ]
  },
  {
   "cell_type": "code",
   "execution_count": 6,
   "id": "338a8b13-4a26-42f3-8248-509a2e23ca8d",
   "metadata": {
    "execution": {
     "iopub.execute_input": "2024-05-18T15:01:26.132533Z",
     "iopub.status.busy": "2024-05-18T15:01:26.132533Z",
     "iopub.status.idle": "2024-05-18T15:01:26.147456Z",
     "shell.execute_reply": "2024-05-18T15:01:26.147456Z",
     "shell.execute_reply.started": "2024-05-18T15:01:26.132533Z"
    },
    "tags": []
   },
   "outputs": [
    {
     "data": {
      "text/plain": [
       "Genre       Sub-Genre         \n",
       "Fiction     Historical Fiction    11\n",
       "            Classics               7\n",
       "            Cultural               5\n",
       "            Fantasy                5\n",
       "Philosophy  Nonfiction             5\n",
       "Nonfiction  Self Help              5\n",
       "Science     Nonfiction             3\n",
       "Fiction     Sci-fi                 3\n",
       "Nonfiction  History                3\n",
       "            Memoir                 2\n",
       "Fiction     German Literature      2\n",
       "            Contemporary           2\n",
       "Psychology  Self Help              1\n",
       "Philosophy  Classics               1\n",
       "Fiction     Short Stories          1\n",
       "Nonfiction  Graphic Novel          1\n",
       "Fiction     Young Adult            1\n",
       "            Science Fiction        1\n",
       "            Mystery                1\n",
       "            Graphic Novel          1\n",
       "Science     Programming            1\n",
       "Name: count, dtype: int64"
      ]
     },
     "execution_count": 6,
     "metadata": {},
     "output_type": "execute_result"
    }
   ],
   "source": [
    "df[['Genre', 'Sub-Genre']].value_counts()"
   ]
  },
  {
   "cell_type": "code",
   "execution_count": 7,
   "id": "a837ecd8-be89-4e1d-bf71-59b6ffc07dc3",
   "metadata": {
    "execution": {
     "iopub.execute_input": "2024-05-18T15:01:26.148483Z",
     "iopub.status.busy": "2024-05-18T15:01:26.148483Z",
     "iopub.status.idle": "2024-05-18T15:01:26.162415Z",
     "shell.execute_reply": "2024-05-18T15:01:26.162415Z",
     "shell.execute_reply.started": "2024-05-18T15:01:26.148483Z"
    },
    "tags": []
   },
   "outputs": [
    {
     "data": {
      "text/plain": [
       "Author\n",
       "Haruki Murakami     8\n",
       "Kazuo Ishiguro      3\n",
       "George Orwell       2\n",
       "Ernest Hemingway    2\n",
       "W.G. Sebald         2\n",
       "Name: count, dtype: int64"
      ]
     },
     "execution_count": 7,
     "metadata": {},
     "output_type": "execute_result"
    }
   ],
   "source": [
    "df['Author'].value_counts().head()"
   ]
  },
  {
   "cell_type": "markdown",
   "id": "7ada8bc9-9f2d-4584-bae3-0110b8a4b96e",
   "metadata": {},
   "source": [
    "## This is still a test to see if GitHub Pages is working correctly. Analysis to come soon!"
   ]
  }
 ],
 "metadata": {
  "kernelspec": {
   "display_name": "Python 3 (ipykernel)",
   "language": "python",
   "name": "python3"
  },
  "language_info": {
   "codemirror_mode": {
    "name": "ipython",
    "version": 3
   },
   "file_extension": ".py",
   "mimetype": "text/x-python",
   "name": "python",
   "nbconvert_exporter": "python",
   "pygments_lexer": "ipython3",
   "version": "3.10.2"
  },
  "widgets": {
   "application/vnd.jupyter.widget-state+json": {
    "state": {},
    "version_major": 2,
    "version_minor": 0
   }
  }
 },
 "nbformat": 4,
 "nbformat_minor": 5
}
