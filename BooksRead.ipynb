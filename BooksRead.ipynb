{
 "cells": [
  {
   "cell_type": "code",
   "execution_count": 26,
   "id": "c272396e-3939-4db4-a141-16308ce6ab68",
   "metadata": {
    "execution": {
     "iopub.execute_input": "2024-07-27T23:38:49.751805Z",
     "iopub.status.busy": "2024-07-27T23:38:49.751805Z",
     "iopub.status.idle": "2024-07-27T23:38:49.770754Z",
     "shell.execute_reply": "2024-07-27T23:38:49.770754Z",
     "shell.execute_reply.started": "2024-07-27T23:38:49.751805Z"
    },
    "tags": []
   },
   "outputs": [],
   "source": [
    "from IPython.display import HTML"
   ]
  },
  {
   "cell_type": "code",
   "execution_count": 27,
   "id": "f21a4a93-72b4-4cec-ae82-789fccf4d788",
   "metadata": {
    "execution": {
     "iopub.execute_input": "2024-07-27T23:38:49.772749Z",
     "iopub.status.busy": "2024-07-27T23:38:49.772749Z",
     "iopub.status.idle": "2024-07-27T23:38:49.786741Z",
     "shell.execute_reply": "2024-07-27T23:38:49.786741Z",
     "shell.execute_reply.started": "2024-07-27T23:38:49.772749Z"
    },
    "tags": []
   },
   "outputs": [
    {
     "data": {
      "text/html": [
       "\n",
       "<style>\n",
       "    #notebook-container {\n",
       "    width: 80% !important;\n",
       "}\n",
       ".dataTable {\n",
       "    width: 100% !important;\n",
       "}\n",
       ".dataTables_scrollBody {\n",
       "    width: 100% !important;\n",
       "}\n",
       ".dataTables_scrollHead {\n",
       "    width: 100% !important;\n",
       "}\n",
       ".dataTables_filter {\n",
       "   float: right !important;\n",
       "}\n",
       ".output_html {\n",
       "    max-width: calc(100%) !important;\n",
       "}\n",
       ".rendered{\n",
       "    font-size: 125%;\n",
       "}\n",
       "</style>\n"
      ],
      "text/plain": [
       "<IPython.core.display.HTML object>"
      ]
     },
     "execution_count": 27,
     "metadata": {},
     "output_type": "execute_result"
    }
   ],
   "source": [
    "HTML(\"\"\"\n",
    "<style>\n",
    "    #notebook-container {\n",
    "    width: 80% !important;\n",
    "}\n",
    ".dataTable {\n",
    "    width: 100% !important;\n",
    "}\n",
    ".dataTables_scrollBody {\n",
    "    width: 100% !important;\n",
    "}\n",
    ".dataTables_scrollHead {\n",
    "    width: 100% !important;\n",
    "}\n",
    ".dataTables_filter {\n",
    "   float: right !important;\n",
    "}\n",
    ".output_html {\n",
    "    max-width: calc(100%) !important;\n",
    "}\n",
    ".rendered{\n",
    "    font-size: 125%;\n",
    "}\n",
    "</style>\n",
    "\"\"\")"
   ]
  },
  {
   "cell_type": "code",
   "execution_count": 28,
   "id": "9e777a0c-a3f7-4250-bff9-373cd3f21994",
   "metadata": {
    "execution": {
     "iopub.execute_input": "2024-07-27T23:38:49.787710Z",
     "iopub.status.busy": "2024-07-27T23:38:49.787710Z",
     "iopub.status.idle": "2024-07-27T23:38:49.801673Z",
     "shell.execute_reply": "2024-07-27T23:38:49.801673Z",
     "shell.execute_reply.started": "2024-07-27T23:38:49.787710Z"
    },
    "tags": []
   },
   "outputs": [
    {
     "data": {
      "text/html": [
       "<img src=\"https://images.theconversation.com/files/45159/original/rptgtpxd-1396254731.jpg\" width=\"900\" style=\"margin-left:auto; margin-right:auto\"/>"
      ],
      "text/plain": [
       "<IPython.core.display.HTML object>"
      ]
     },
     "execution_count": 28,
     "metadata": {},
     "output_type": "execute_result"
    }
   ],
   "source": [
    "html1 = '<img src=\"https://images.theconversation.com/files/45159/original/rptgtpxd-1396254731.jpg\" width=\"900\" style=\"margin-left:auto; margin-right:auto\"/>'\n",
    "HTML(html1)"
   ]
  },
  {
   "cell_type": "markdown",
   "id": "d3a7a83a-a1d9-4dbe-aa5b-d57f0553f19e",
   "metadata": {},
   "source": [
    "# An Analysis of the Novels, Short Stories, and Memoirs I've Read\n",
    "#### <center> Last updated April 20, 2025 </center>\n",
    "This project aims to answer a few basic questions about my reading habits over the past few years. Specifically, it looks at the books I've read since the end of 2020, when I started keeping track of things. I've compiled a spreadsheet that contains basic information such as Title, Author, Genre, Format, etc. in the hopes of perhaps identifying trends of patterns in my reading habits. Additionally, this helps me see how my tastes change over time. Some basic questions I hope to answer are the following:\n",
    "\n",
    "* What do I read the most?\n",
    "* What format do I prefer?\n",
    "* Are there any Genre-Sub-Genre pairs I tend to gravitate towards?\n",
    "* Who is my most read author?\n",
    "* How long does it take me to read books?\n",
    "* Do I read more during a certain time of year?\n",
    "\n",
    "So let's get started! Here is a quick list of the 10 most recent books/stories I've read:"
   ]
  },
  {
   "cell_type": "code",
   "execution_count": 29,
   "id": "84975d7e-87e3-41ba-89d7-8f88e4ad5d9a",
   "metadata": {
    "execution": {
     "iopub.execute_input": "2024-07-27T23:38:49.802678Z",
     "iopub.status.busy": "2024-07-27T23:38:49.802678Z",
     "iopub.status.idle": "2024-07-27T23:38:50.122842Z",
     "shell.execute_reply": "2024-07-27T23:38:50.122842Z",
     "shell.execute_reply.started": "2024-07-27T23:38:49.802678Z"
    },
    "tags": []
   },
   "outputs": [
    {
     "data": {
      "text/html": [
       "<div>\n",
       "<style scoped>\n",
       "    .dataframe tbody tr th:only-of-type {\n",
       "        vertical-align: middle;\n",
       "    }\n",
       "\n",
       "    .dataframe tbody tr th {\n",
       "        vertical-align: top;\n",
       "    }\n",
       "\n",
       "    .dataframe thead th {\n",
       "        text-align: right;\n",
       "    }\n",
       "</style>\n",
       "<table border=\"1\" class=\"dataframe\">\n",
       "  <thead>\n",
       "    <tr style=\"text-align: right;\">\n",
       "      <th></th>\n",
       "      <th>Title</th>\n",
       "      <th>Author</th>\n",
       "      <th>Publisher</th>\n",
       "      <th>Genre</th>\n",
       "      <th>Sub-Genre</th>\n",
       "      <th>Year</th>\n",
       "      <th>Pages</th>\n",
       "      <th>Format</th>\n",
       "      <th>Start Date</th>\n",
       "      <th>Finish Date</th>\n",
       "      <th>Duration</th>\n",
       "      <th>Rating</th>\n",
       "    </tr>\n",
       "  </thead>\n",
       "  <tbody>\n",
       "    <tr>\n",
       "      <th>144</th>\n",
       "      <td>Garro: Knight of Gray</td>\n",
       "      <td>James Swallow</td>\n",
       "      <td>Black Library</td>\n",
       "      <td>Fiction</td>\n",
       "      <td>Warhammer 40k</td>\n",
       "      <td>2023</td>\n",
       "      <td>144</td>\n",
       "      <td>eBook</td>\n",
       "      <td>2025-04-26</td>\n",
       "      <td>2025-04-28</td>\n",
       "      <td>3.0</td>\n",
       "      <td>8.0</td>\n",
       "    </tr>\n",
       "    <tr>\n",
       "      <th>145</th>\n",
       "      <td>The End and The Death: Volume 1</td>\n",
       "      <td>Dan Abnett</td>\n",
       "      <td>Black Library</td>\n",
       "      <td>Fiction</td>\n",
       "      <td>Warhammer 40k</td>\n",
       "      <td>2023</td>\n",
       "      <td>628</td>\n",
       "      <td>eBook</td>\n",
       "      <td>2025-04-28</td>\n",
       "      <td>2025-05-04</td>\n",
       "      <td>7.0</td>\n",
       "      <td>8.5</td>\n",
       "    </tr>\n",
       "    <tr>\n",
       "      <th>146</th>\n",
       "      <td>The End and The Death: Volume 2</td>\n",
       "      <td>Dan Abnett</td>\n",
       "      <td>Black Library</td>\n",
       "      <td>Fiction</td>\n",
       "      <td>Warhammer 40k</td>\n",
       "      <td>2023</td>\n",
       "      <td>673</td>\n",
       "      <td>eBook</td>\n",
       "      <td>2025-05-05</td>\n",
       "      <td>2025-05-13</td>\n",
       "      <td>9.0</td>\n",
       "      <td>8.5</td>\n",
       "    </tr>\n",
       "    <tr>\n",
       "      <th>147</th>\n",
       "      <td>The End and The Death: Volume 3</td>\n",
       "      <td>Dan Abnett</td>\n",
       "      <td>Black Library</td>\n",
       "      <td>Fiction</td>\n",
       "      <td>Warhammer 40k</td>\n",
       "      <td>2024</td>\n",
       "      <td>512</td>\n",
       "      <td>eBook</td>\n",
       "      <td>2025-05-13</td>\n",
       "      <td>2025-05-23</td>\n",
       "      <td>11.0</td>\n",
       "      <td>10.0</td>\n",
       "    </tr>\n",
       "    <tr>\n",
       "      <th>148</th>\n",
       "      <td>On Earth We're Briefly Gorgeous</td>\n",
       "      <td>Ocean Vuong</td>\n",
       "      <td>Penguin Press</td>\n",
       "      <td>Fiction</td>\n",
       "      <td>Poetry</td>\n",
       "      <td>2019</td>\n",
       "      <td>246</td>\n",
       "      <td>eBook</td>\n",
       "      <td>2025-05-26</td>\n",
       "      <td>2025-06-02</td>\n",
       "      <td>8.0</td>\n",
       "      <td>6.5</td>\n",
       "    </tr>\n",
       "    <tr>\n",
       "      <th>149</th>\n",
       "      <td>The Demon-Haunted World: Science as a Candle i...</td>\n",
       "      <td>Carl Sagan</td>\n",
       "      <td>Ballantine Books</td>\n",
       "      <td>Science</td>\n",
       "      <td>Nonfiction</td>\n",
       "      <td>1997</td>\n",
       "      <td>459</td>\n",
       "      <td>eBook</td>\n",
       "      <td>2025-06-02</td>\n",
       "      <td>2025-06-21</td>\n",
       "      <td>20.0</td>\n",
       "      <td>8.5</td>\n",
       "    </tr>\n",
       "    <tr>\n",
       "      <th>150</th>\n",
       "      <td>Dopamine Nation: Finding Balance in the Age of...</td>\n",
       "      <td>Anne Lembke</td>\n",
       "      <td>Dutton Books</td>\n",
       "      <td>Nonfiction</td>\n",
       "      <td>Psychology</td>\n",
       "      <td>2021</td>\n",
       "      <td>234</td>\n",
       "      <td>Physical</td>\n",
       "      <td>2025-06-21</td>\n",
       "      <td>2025-06-29</td>\n",
       "      <td>9.0</td>\n",
       "      <td>8.0</td>\n",
       "    </tr>\n",
       "    <tr>\n",
       "      <th>151</th>\n",
       "      <td>Oil and Marble</td>\n",
       "      <td>Stephanie Storey</td>\n",
       "      <td>Arcade</td>\n",
       "      <td>Fiction</td>\n",
       "      <td>Historical Fiction</td>\n",
       "      <td>2016</td>\n",
       "      <td>362</td>\n",
       "      <td>eBook</td>\n",
       "      <td>2025-06-30</td>\n",
       "      <td>2025-07-06</td>\n",
       "      <td>7.0</td>\n",
       "      <td>8.5</td>\n",
       "    </tr>\n",
       "    <tr>\n",
       "      <th>152</th>\n",
       "      <td>The Prince of Tides</td>\n",
       "      <td>Pat Conroy</td>\n",
       "      <td>Mariner Books</td>\n",
       "      <td>Fiction</td>\n",
       "      <td>Classics</td>\n",
       "      <td>1986</td>\n",
       "      <td>688</td>\n",
       "      <td>Physical</td>\n",
       "      <td>2025-07-07</td>\n",
       "      <td>2025-07-12</td>\n",
       "      <td>6.0</td>\n",
       "      <td>10.0</td>\n",
       "    </tr>\n",
       "    <tr>\n",
       "      <th>153</th>\n",
       "      <td>Lonesome Dove: A Novel</td>\n",
       "      <td>Larry McMurtry</td>\n",
       "      <td>Simon &amp; Schuster Paperbacks</td>\n",
       "      <td>Fiction</td>\n",
       "      <td>Historical Fiction</td>\n",
       "      <td>1985</td>\n",
       "      <td>858</td>\n",
       "      <td>Physical</td>\n",
       "      <td>2025-07-13</td>\n",
       "      <td>2025-07-31</td>\n",
       "      <td>19.0</td>\n",
       "      <td>10.0</td>\n",
       "    </tr>\n",
       "  </tbody>\n",
       "</table>\n",
       "</div>"
      ],
      "text/plain": [
       "                                                 Title            Author  \\\n",
       "144                              Garro: Knight of Gray     James Swallow   \n",
       "145                    The End and The Death: Volume 1        Dan Abnett   \n",
       "146                    The End and The Death: Volume 2        Dan Abnett   \n",
       "147                    The End and The Death: Volume 3        Dan Abnett   \n",
       "148                    On Earth We're Briefly Gorgeous       Ocean Vuong   \n",
       "149  The Demon-Haunted World: Science as a Candle i...        Carl Sagan   \n",
       "150  Dopamine Nation: Finding Balance in the Age of...       Anne Lembke   \n",
       "151                                     Oil and Marble  Stephanie Storey   \n",
       "152                                The Prince of Tides        Pat Conroy   \n",
       "153                             Lonesome Dove: A Novel    Larry McMurtry   \n",
       "\n",
       "                       Publisher       Genre           Sub-Genre  Year  Pages  \\\n",
       "144                Black Library     Fiction       Warhammer 40k  2023    144   \n",
       "145                Black Library     Fiction       Warhammer 40k  2023    628   \n",
       "146                Black Library     Fiction       Warhammer 40k  2023    673   \n",
       "147                Black Library     Fiction       Warhammer 40k  2024    512   \n",
       "148                Penguin Press     Fiction              Poetry  2019    246   \n",
       "149             Ballantine Books     Science          Nonfiction  1997    459   \n",
       "150                 Dutton Books  Nonfiction          Psychology  2021    234   \n",
       "151                       Arcade     Fiction  Historical Fiction  2016    362   \n",
       "152                Mariner Books     Fiction            Classics  1986    688   \n",
       "153  Simon & Schuster Paperbacks     Fiction  Historical Fiction  1985    858   \n",
       "\n",
       "       Format Start Date Finish Date  Duration  Rating  \n",
       "144     eBook 2025-04-26  2025-04-28       3.0     8.0  \n",
       "145     eBook 2025-04-28  2025-05-04       7.0     8.5  \n",
       "146     eBook 2025-05-05  2025-05-13       9.0     8.5  \n",
       "147     eBook 2025-05-13  2025-05-23      11.0    10.0  \n",
       "148     eBook 2025-05-26  2025-06-02       8.0     6.5  \n",
       "149     eBook 2025-06-02  2025-06-21      20.0     8.5  \n",
       "150  Physical 2025-06-21  2025-06-29       9.0     8.0  \n",
       "151     eBook 2025-06-30  2025-07-06       7.0     8.5  \n",
       "152  Physical 2025-07-07  2025-07-12       6.0    10.0  \n",
       "153  Physical 2025-07-13  2025-07-31      19.0    10.0  "
      ]
     },
     "execution_count": 29,
     "metadata": {},
     "output_type": "execute_result"
    }
   ],
   "source": [
    "import pandas as pd\n",
    "import numpy as np\n",
    "import seaborn as sns\n",
    "import plot\n",
    "from calendar import monthrange, isleap\n",
    "\n",
    "df = pd.read_csv('BookList.csv')\n",
    "\n",
    "#removes any blank rows or books I never finished/rated\n",
    "df = df[df['Rating'].notnull()]\n",
    "\n",
    "# convert columns to correct (or better) data types\n",
    "df[['Year', 'Pages']] = df[['Year', 'Pages']].apply(pd.to_numeric, downcast='integer')\n",
    "df['Duration'] = df['Duration'].apply(pd.to_numeric, downcast='integer')\n",
    "df['Rating'] = df['Rating'].apply(pd.to_numeric, downcast='float')\n",
    "df['Start Date']= pd.to_datetime(df['Start Date'])\n",
    "df['Finish Date']= pd.to_datetime(df['Finish Date'])\n",
    "df.tail(10)"
   ]
  },
  {
   "cell_type": "markdown",
   "id": "36b3947f",
   "metadata": {},
   "source": [
    "### Reading Trend Over Time"
   ]
  },
  {
   "cell_type": "code",
   "execution_count": 30,
   "id": "93a905a2",
   "metadata": {},
   "outputs": [
    {
     "data": {
      "application/vnd.plotly.v1+json": {
       "config": {
        "displaylogo": false,
        "modeBarButtonsToRemove": [
         "zoomIn",
         "zoomOut",
         "resetScale2d",
         "select2d",
         "lasso2d"
        ],
        "plotlyServerURL": "https://plot.ly",
        "responsive": true,
        "toImageButtonOptions": {
         "filename": "reading-habits",
         "format": "png",
         "scale": 1
        }
       },
       "data": [
        {
         "customdata": [
          "Dec 2020",
          "Mar 2021",
          "Apr 2021",
          "May 2021",
          "Jun 2021",
          "Jul 2021",
          "Aug 2021",
          "Sep 2021",
          "Dec 2021",
          "Jan 2022",
          "Feb 2022",
          "Mar 2022",
          "May 2022",
          "Jun 2022",
          "Aug 2022",
          "Dec 2022",
          "Jan 2023",
          "Feb 2023",
          "Sep 2023",
          "Oct 2023",
          "Jan 2024",
          "Feb 2024",
          "Mar 2024",
          "Apr 2024",
          "May 2024",
          "Jun 2024",
          "Jul 2024",
          "Aug 2024",
          "Sep 2024",
          "Oct 2024",
          "Nov 2024",
          "Dec 2024",
          "Jan 2025",
          "Feb 2025",
          "Mar 2025",
          "Apr 2025",
          "May 2025",
          "Jun 2025",
          "Jul 2025"
         ],
         "hovertemplate": "<b>%{customdata}</b><br><b>Books Read</b>: %{y}<extra></extra>",
         "line": {
          "color": "#529b9c",
          "shape": "spline"
         },
         "mode": "lines+markers",
         "name": "Books Read",
         "type": "scatter",
         "x": [
          "2020-12-01T00:00:00",
          "2021-03-01T00:00:00",
          "2021-04-01T00:00:00",
          "2021-05-01T00:00:00",
          "2021-06-01T00:00:00",
          "2021-07-01T00:00:00",
          "2021-08-01T00:00:00",
          "2021-09-01T00:00:00",
          "2021-12-01T00:00:00",
          "2022-01-01T00:00:00",
          "2022-02-01T00:00:00",
          "2022-03-01T00:00:00",
          "2022-05-01T00:00:00",
          "2022-06-01T00:00:00",
          "2022-08-01T00:00:00",
          "2022-12-01T00:00:00",
          "2023-01-01T00:00:00",
          "2023-02-01T00:00:00",
          "2023-09-01T00:00:00",
          "2023-10-01T00:00:00",
          "2024-01-01T00:00:00",
          "2024-02-01T00:00:00",
          "2024-03-01T00:00:00",
          "2024-04-01T00:00:00",
          "2024-05-01T00:00:00",
          "2024-06-01T00:00:00",
          "2024-07-01T00:00:00",
          "2024-08-01T00:00:00",
          "2024-09-01T00:00:00",
          "2024-10-01T00:00:00",
          "2024-11-01T00:00:00",
          "2024-12-01T00:00:00",
          "2025-01-01T00:00:00",
          "2025-02-01T00:00:00",
          "2025-03-01T00:00:00",
          "2025-04-01T00:00:00",
          "2025-05-01T00:00:00",
          "2025-06-01T00:00:00",
          "2025-07-01T00:00:00"
         ],
         "y": [
          1,
          2,
          8,
          1,
          1,
          1,
          5,
          3,
          2,
          3,
          1,
          1,
          3,
          3,
          1,
          1,
          2,
          1,
          1,
          2,
          3,
          2,
          1,
          4,
          3,
          5,
          17,
          4,
          9,
          15,
          9,
          8,
          2,
          2,
          2,
          5,
          3,
          3,
          3
         ],
         "yaxis": "y"
        },
        {
         "customdata": [
          "Dec 2020",
          "Mar 2021",
          "Apr 2021",
          "May 2021",
          "Jun 2021",
          "Jul 2021",
          "Aug 2021",
          "Sep 2021",
          "Dec 2021",
          "Jan 2022",
          "Feb 2022",
          "Mar 2022",
          "May 2022",
          "Jun 2022",
          "Aug 2022",
          "Dec 2022",
          "Jan 2023",
          "Feb 2023",
          "Sep 2023",
          "Oct 2023",
          "Jan 2024",
          "Feb 2024",
          "Mar 2024",
          "Apr 2024",
          "May 2024",
          "Jun 2024",
          "Jul 2024",
          "Aug 2024",
          "Sep 2024",
          "Oct 2024",
          "Nov 2024",
          "Dec 2024",
          "Jan 2025",
          "Feb 2025",
          "Mar 2025",
          "Apr 2025",
          "May 2025",
          "Jun 2025",
          "Jul 2025"
         ],
         "hovertemplate": "<b>%{customdata}</b><br><b>Pages Read</b>: %{y:,}<extra></extra>",
         "line": {
          "color": "#d27575",
          "shape": "spline"
         },
         "mode": "lines+markers",
         "name": "Pages Read",
         "type": "scatter",
         "x": [
          "2020-12-01T00:00:00",
          "2021-03-01T00:00:00",
          "2021-04-01T00:00:00",
          "2021-05-01T00:00:00",
          "2021-06-01T00:00:00",
          "2021-07-01T00:00:00",
          "2021-08-01T00:00:00",
          "2021-09-01T00:00:00",
          "2021-12-01T00:00:00",
          "2022-01-01T00:00:00",
          "2022-02-01T00:00:00",
          "2022-03-01T00:00:00",
          "2022-05-01T00:00:00",
          "2022-06-01T00:00:00",
          "2022-08-01T00:00:00",
          "2022-12-01T00:00:00",
          "2023-01-01T00:00:00",
          "2023-02-01T00:00:00",
          "2023-09-01T00:00:00",
          "2023-10-01T00:00:00",
          "2024-01-01T00:00:00",
          "2024-02-01T00:00:00",
          "2024-03-01T00:00:00",
          "2024-04-01T00:00:00",
          "2024-05-01T00:00:00",
          "2024-06-01T00:00:00",
          "2024-07-01T00:00:00",
          "2024-08-01T00:00:00",
          "2024-09-01T00:00:00",
          "2024-10-01T00:00:00",
          "2024-11-01T00:00:00",
          "2024-12-01T00:00:00",
          "2025-01-01T00:00:00",
          "2025-02-01T00:00:00",
          "2025-03-01T00:00:00",
          "2025-04-01T00:00:00",
          "2025-05-01T00:00:00",
          "2025-06-01T00:00:00",
          "2025-07-01T00:00:00"
         ],
         "y": [
          140,
          464,
          1791,
          235,
          595,
          110,
          1129,
          954,
          331,
          790,
          192,
          182,
          629,
          634,
          535,
          376,
          372,
          292,
          178,
          456,
          966,
          928,
          353,
          1169,
          782,
          2176,
          2478,
          1462,
          1323,
          1659,
          1413,
          1011,
          754,
          860,
          656,
          1923,
          1813,
          939,
          1908
         ],
         "yaxis": "y2"
        }
       ],
       "layout": {
        "barmode": "group",
        "font": {
         "color": "#001c40",
         "family": "Baskerville",
         "size": 14
        },
        "height": 600,
        "hoverlabel": {
         "font": {
          "size": 16
         }
        },
        "legend": {
         "orientation": "h",
         "x": 0.5,
         "xanchor": "center",
         "y": 1.01,
         "yanchor": "top"
        },
        "margin": {
         "b": 45,
         "l": 85,
         "r": 85,
         "t": 120
        },
        "paper_bgcolor": "#f0f0f0",
        "plot_bgcolor": "#f0f0f0",
        "showlegend": true,
        "template": {
         "data": {
          "bar": [
           {
            "error_x": {
             "color": "#2a3f5f"
            },
            "error_y": {
             "color": "#2a3f5f"
            },
            "marker": {
             "line": {
              "color": "#E5ECF6",
              "width": 0.5
             },
             "pattern": {
              "fillmode": "overlay",
              "size": 10,
              "solidity": 0.2
             }
            },
            "type": "bar"
           }
          ],
          "barpolar": [
           {
            "marker": {
             "line": {
              "color": "#E5ECF6",
              "width": 0.5
             },
             "pattern": {
              "fillmode": "overlay",
              "size": 10,
              "solidity": 0.2
             }
            },
            "type": "barpolar"
           }
          ],
          "carpet": [
           {
            "aaxis": {
             "endlinecolor": "#2a3f5f",
             "gridcolor": "white",
             "linecolor": "white",
             "minorgridcolor": "white",
             "startlinecolor": "#2a3f5f"
            },
            "baxis": {
             "endlinecolor": "#2a3f5f",
             "gridcolor": "white",
             "linecolor": "white",
             "minorgridcolor": "white",
             "startlinecolor": "#2a3f5f"
            },
            "type": "carpet"
           }
          ],
          "choropleth": [
           {
            "colorbar": {
             "outlinewidth": 0,
             "ticks": ""
            },
            "type": "choropleth"
           }
          ],
          "contour": [
           {
            "colorbar": {
             "outlinewidth": 0,
             "ticks": ""
            },
            "colorscale": [
             [
              0,
              "#0d0887"
             ],
             [
              0.1111111111111111,
              "#46039f"
             ],
             [
              0.2222222222222222,
              "#7201a8"
             ],
             [
              0.3333333333333333,
              "#9c179e"
             ],
             [
              0.4444444444444444,
              "#bd3786"
             ],
             [
              0.5555555555555556,
              "#d8576b"
             ],
             [
              0.6666666666666666,
              "#ed7953"
             ],
             [
              0.7777777777777778,
              "#fb9f3a"
             ],
             [
              0.8888888888888888,
              "#fdca26"
             ],
             [
              1,
              "#f0f921"
             ]
            ],
            "type": "contour"
           }
          ],
          "contourcarpet": [
           {
            "colorbar": {
             "outlinewidth": 0,
             "ticks": ""
            },
            "type": "contourcarpet"
           }
          ],
          "heatmap": [
           {
            "colorbar": {
             "outlinewidth": 0,
             "ticks": ""
            },
            "colorscale": [
             [
              0,
              "#0d0887"
             ],
             [
              0.1111111111111111,
              "#46039f"
             ],
             [
              0.2222222222222222,
              "#7201a8"
             ],
             [
              0.3333333333333333,
              "#9c179e"
             ],
             [
              0.4444444444444444,
              "#bd3786"
             ],
             [
              0.5555555555555556,
              "#d8576b"
             ],
             [
              0.6666666666666666,
              "#ed7953"
             ],
             [
              0.7777777777777778,
              "#fb9f3a"
             ],
             [
              0.8888888888888888,
              "#fdca26"
             ],
             [
              1,
              "#f0f921"
             ]
            ],
            "type": "heatmap"
           }
          ],
          "heatmapgl": [
           {
            "colorbar": {
             "outlinewidth": 0,
             "ticks": ""
            },
            "colorscale": [
             [
              0,
              "#0d0887"
             ],
             [
              0.1111111111111111,
              "#46039f"
             ],
             [
              0.2222222222222222,
              "#7201a8"
             ],
             [
              0.3333333333333333,
              "#9c179e"
             ],
             [
              0.4444444444444444,
              "#bd3786"
             ],
             [
              0.5555555555555556,
              "#d8576b"
             ],
             [
              0.6666666666666666,
              "#ed7953"
             ],
             [
              0.7777777777777778,
              "#fb9f3a"
             ],
             [
              0.8888888888888888,
              "#fdca26"
             ],
             [
              1,
              "#f0f921"
             ]
            ],
            "type": "heatmapgl"
           }
          ],
          "histogram": [
           {
            "marker": {
             "pattern": {
              "fillmode": "overlay",
              "size": 10,
              "solidity": 0.2
             }
            },
            "type": "histogram"
           }
          ],
          "histogram2d": [
           {
            "colorbar": {
             "outlinewidth": 0,
             "ticks": ""
            },
            "colorscale": [
             [
              0,
              "#0d0887"
             ],
             [
              0.1111111111111111,
              "#46039f"
             ],
             [
              0.2222222222222222,
              "#7201a8"
             ],
             [
              0.3333333333333333,
              "#9c179e"
             ],
             [
              0.4444444444444444,
              "#bd3786"
             ],
             [
              0.5555555555555556,
              "#d8576b"
             ],
             [
              0.6666666666666666,
              "#ed7953"
             ],
             [
              0.7777777777777778,
              "#fb9f3a"
             ],
             [
              0.8888888888888888,
              "#fdca26"
             ],
             [
              1,
              "#f0f921"
             ]
            ],
            "type": "histogram2d"
           }
          ],
          "histogram2dcontour": [
           {
            "colorbar": {
             "outlinewidth": 0,
             "ticks": ""
            },
            "colorscale": [
             [
              0,
              "#0d0887"
             ],
             [
              0.1111111111111111,
              "#46039f"
             ],
             [
              0.2222222222222222,
              "#7201a8"
             ],
             [
              0.3333333333333333,
              "#9c179e"
             ],
             [
              0.4444444444444444,
              "#bd3786"
             ],
             [
              0.5555555555555556,
              "#d8576b"
             ],
             [
              0.6666666666666666,
              "#ed7953"
             ],
             [
              0.7777777777777778,
              "#fb9f3a"
             ],
             [
              0.8888888888888888,
              "#fdca26"
             ],
             [
              1,
              "#f0f921"
             ]
            ],
            "type": "histogram2dcontour"
           }
          ],
          "mesh3d": [
           {
            "colorbar": {
             "outlinewidth": 0,
             "ticks": ""
            },
            "type": "mesh3d"
           }
          ],
          "parcoords": [
           {
            "line": {
             "colorbar": {
              "outlinewidth": 0,
              "ticks": ""
             }
            },
            "type": "parcoords"
           }
          ],
          "pie": [
           {
            "automargin": true,
            "type": "pie"
           }
          ],
          "scatter": [
           {
            "fillpattern": {
             "fillmode": "overlay",
             "size": 10,
             "solidity": 0.2
            },
            "type": "scatter"
           }
          ],
          "scatter3d": [
           {
            "line": {
             "colorbar": {
              "outlinewidth": 0,
              "ticks": ""
             }
            },
            "marker": {
             "colorbar": {
              "outlinewidth": 0,
              "ticks": ""
             }
            },
            "type": "scatter3d"
           }
          ],
          "scattercarpet": [
           {
            "marker": {
             "colorbar": {
              "outlinewidth": 0,
              "ticks": ""
             }
            },
            "type": "scattercarpet"
           }
          ],
          "scattergeo": [
           {
            "marker": {
             "colorbar": {
              "outlinewidth": 0,
              "ticks": ""
             }
            },
            "type": "scattergeo"
           }
          ],
          "scattergl": [
           {
            "marker": {
             "colorbar": {
              "outlinewidth": 0,
              "ticks": ""
             }
            },
            "type": "scattergl"
           }
          ],
          "scattermapbox": [
           {
            "marker": {
             "colorbar": {
              "outlinewidth": 0,
              "ticks": ""
             }
            },
            "type": "scattermapbox"
           }
          ],
          "scatterpolar": [
           {
            "marker": {
             "colorbar": {
              "outlinewidth": 0,
              "ticks": ""
             }
            },
            "type": "scatterpolar"
           }
          ],
          "scatterpolargl": [
           {
            "marker": {
             "colorbar": {
              "outlinewidth": 0,
              "ticks": ""
             }
            },
            "type": "scatterpolargl"
           }
          ],
          "scatterternary": [
           {
            "marker": {
             "colorbar": {
              "outlinewidth": 0,
              "ticks": ""
             }
            },
            "type": "scatterternary"
           }
          ],
          "surface": [
           {
            "colorbar": {
             "outlinewidth": 0,
             "ticks": ""
            },
            "colorscale": [
             [
              0,
              "#0d0887"
             ],
             [
              0.1111111111111111,
              "#46039f"
             ],
             [
              0.2222222222222222,
              "#7201a8"
             ],
             [
              0.3333333333333333,
              "#9c179e"
             ],
             [
              0.4444444444444444,
              "#bd3786"
             ],
             [
              0.5555555555555556,
              "#d8576b"
             ],
             [
              0.6666666666666666,
              "#ed7953"
             ],
             [
              0.7777777777777778,
              "#fb9f3a"
             ],
             [
              0.8888888888888888,
              "#fdca26"
             ],
             [
              1,
              "#f0f921"
             ]
            ],
            "type": "surface"
           }
          ],
          "table": [
           {
            "cells": {
             "fill": {
              "color": "#EBF0F8"
             },
             "line": {
              "color": "white"
             }
            },
            "header": {
             "fill": {
              "color": "#C8D4E3"
             },
             "line": {
              "color": "white"
             }
            },
            "type": "table"
           }
          ]
         },
         "layout": {
          "annotationdefaults": {
           "arrowcolor": "#2a3f5f",
           "arrowhead": 0,
           "arrowwidth": 1
          },
          "autotypenumbers": "strict",
          "coloraxis": {
           "colorbar": {
            "outlinewidth": 0,
            "ticks": ""
           }
          },
          "colorscale": {
           "diverging": [
            [
             0,
             "#8e0152"
            ],
            [
             0.1,
             "#c51b7d"
            ],
            [
             0.2,
             "#de77ae"
            ],
            [
             0.3,
             "#f1b6da"
            ],
            [
             0.4,
             "#fde0ef"
            ],
            [
             0.5,
             "#f7f7f7"
            ],
            [
             0.6,
             "#e6f5d0"
            ],
            [
             0.7,
             "#b8e186"
            ],
            [
             0.8,
             "#7fbc41"
            ],
            [
             0.9,
             "#4d9221"
            ],
            [
             1,
             "#276419"
            ]
           ],
           "sequential": [
            [
             0,
             "#0d0887"
            ],
            [
             0.1111111111111111,
             "#46039f"
            ],
            [
             0.2222222222222222,
             "#7201a8"
            ],
            [
             0.3333333333333333,
             "#9c179e"
            ],
            [
             0.4444444444444444,
             "#bd3786"
            ],
            [
             0.5555555555555556,
             "#d8576b"
            ],
            [
             0.6666666666666666,
             "#ed7953"
            ],
            [
             0.7777777777777778,
             "#fb9f3a"
            ],
            [
             0.8888888888888888,
             "#fdca26"
            ],
            [
             1,
             "#f0f921"
            ]
           ],
           "sequentialminus": [
            [
             0,
             "#0d0887"
            ],
            [
             0.1111111111111111,
             "#46039f"
            ],
            [
             0.2222222222222222,
             "#7201a8"
            ],
            [
             0.3333333333333333,
             "#9c179e"
            ],
            [
             0.4444444444444444,
             "#bd3786"
            ],
            [
             0.5555555555555556,
             "#d8576b"
            ],
            [
             0.6666666666666666,
             "#ed7953"
            ],
            [
             0.7777777777777778,
             "#fb9f3a"
            ],
            [
             0.8888888888888888,
             "#fdca26"
            ],
            [
             1,
             "#f0f921"
            ]
           ]
          },
          "colorway": [
           "#636efa",
           "#EF553B",
           "#00cc96",
           "#ab63fa",
           "#FFA15A",
           "#19d3f3",
           "#FF6692",
           "#B6E880",
           "#FF97FF",
           "#FECB52"
          ],
          "font": {
           "color": "#2a3f5f"
          },
          "geo": {
           "bgcolor": "white",
           "lakecolor": "white",
           "landcolor": "#E5ECF6",
           "showlakes": true,
           "showland": true,
           "subunitcolor": "white"
          },
          "hoverlabel": {
           "align": "left"
          },
          "hovermode": "closest",
          "mapbox": {
           "style": "light"
          },
          "paper_bgcolor": "white",
          "plot_bgcolor": "#E5ECF6",
          "polar": {
           "angularaxis": {
            "gridcolor": "white",
            "linecolor": "white",
            "ticks": ""
           },
           "bgcolor": "#E5ECF6",
           "radialaxis": {
            "gridcolor": "white",
            "linecolor": "white",
            "ticks": ""
           }
          },
          "scene": {
           "xaxis": {
            "backgroundcolor": "#E5ECF6",
            "gridcolor": "white",
            "gridwidth": 2,
            "linecolor": "white",
            "showbackground": true,
            "ticks": "",
            "zerolinecolor": "white"
           },
           "yaxis": {
            "backgroundcolor": "#E5ECF6",
            "gridcolor": "white",
            "gridwidth": 2,
            "linecolor": "white",
            "showbackground": true,
            "ticks": "",
            "zerolinecolor": "white"
           },
           "zaxis": {
            "backgroundcolor": "#E5ECF6",
            "gridcolor": "white",
            "gridwidth": 2,
            "linecolor": "white",
            "showbackground": true,
            "ticks": "",
            "zerolinecolor": "white"
           }
          },
          "shapedefaults": {
           "line": {
            "color": "#2a3f5f"
           }
          },
          "ternary": {
           "aaxis": {
            "gridcolor": "white",
            "linecolor": "white",
            "ticks": ""
           },
           "baxis": {
            "gridcolor": "white",
            "linecolor": "white",
            "ticks": ""
           },
           "bgcolor": "#E5ECF6",
           "caxis": {
            "gridcolor": "white",
            "linecolor": "white",
            "ticks": ""
           }
          },
          "title": {
           "x": 0.05
          },
          "xaxis": {
           "automargin": true,
           "gridcolor": "white",
           "linecolor": "white",
           "ticks": "",
           "title": {
            "standoff": 15
           },
           "zerolinecolor": "white",
           "zerolinewidth": 2
          },
          "yaxis": {
           "automargin": true,
           "gridcolor": "white",
           "linecolor": "white",
           "ticks": "",
           "title": {
            "standoff": 15
           },
           "zerolinecolor": "white",
           "zerolinewidth": 2
          }
         }
        },
        "title": {
         "font": {
          "color": "#001c40",
          "family": "Baskerville, Bold",
          "size": 40
         },
         "text": "Books & Pages Read Over Time (testing)<br><sup>I've clearly had a massive spike in reading in 2024"
        },
        "xaxis": {
         "gridcolor": "#cbcbcb",
         "linecolor": "black",
         "showgrid": false,
         "showline": false,
         "title": {},
         "zerolinewidth": 1
        },
        "yaxis": {
         "gridcolor": "#cbcbcb",
         "linecolor": "black",
         "range": [
          -0.26429675425038623,
          18.264296754250385
         ],
         "showgrid": true,
         "showline": false,
         "showticklabels": true,
         "title": {},
         "zerolinewidth": 1
        },
        "yaxis2": {
         "gridcolor": "#cbcbcb",
         "linecolor": "black",
         "overlaying": "y",
         "range": [
          -38,
          2626
         ],
         "showgrid": true,
         "showline": false,
         "showticklabels": true,
         "side": "right",
         "zerolinecolor": "black",
         "zerolinewidth": 1
        }
       }
      },
      "text/html": [
       "<div>                            <div id=\"1134732c-3695-44e9-9809-25746af14c78\" class=\"plotly-graph-div\" style=\"height:600px; width:100%;\"></div>            <script type=\"text/javascript\">                require([\"plotly\"], function(Plotly) {                    window.PLOTLYENV=window.PLOTLYENV || {};                                    if (document.getElementById(\"1134732c-3695-44e9-9809-25746af14c78\")) {                    Plotly.newPlot(                        \"1134732c-3695-44e9-9809-25746af14c78\",                        [{\"customdata\":[\"Dec 2020\",\"Mar 2021\",\"Apr 2021\",\"May 2021\",\"Jun 2021\",\"Jul 2021\",\"Aug 2021\",\"Sep 2021\",\"Dec 2021\",\"Jan 2022\",\"Feb 2022\",\"Mar 2022\",\"May 2022\",\"Jun 2022\",\"Aug 2022\",\"Dec 2022\",\"Jan 2023\",\"Feb 2023\",\"Sep 2023\",\"Oct 2023\",\"Jan 2024\",\"Feb 2024\",\"Mar 2024\",\"Apr 2024\",\"May 2024\",\"Jun 2024\",\"Jul 2024\",\"Aug 2024\",\"Sep 2024\",\"Oct 2024\",\"Nov 2024\",\"Dec 2024\",\"Jan 2025\",\"Feb 2025\",\"Mar 2025\",\"Apr 2025\",\"May 2025\",\"Jun 2025\",\"Jul 2025\"],\"hovertemplate\":\"\\u003cb\\u003e%{customdata}\\u003c\\u002fb\\u003e\\u003cbr\\u003e\\u003cb\\u003eBooks Read\\u003c\\u002fb\\u003e: %{y}\\u003cextra\\u003e\\u003c\\u002fextra\\u003e\",\"line\":{\"color\":\"#529b9c\",\"shape\":\"spline\"},\"mode\":\"lines+markers\",\"name\":\"Books Read\",\"x\":[\"2020-12-01T00:00:00\",\"2021-03-01T00:00:00\",\"2021-04-01T00:00:00\",\"2021-05-01T00:00:00\",\"2021-06-01T00:00:00\",\"2021-07-01T00:00:00\",\"2021-08-01T00:00:00\",\"2021-09-01T00:00:00\",\"2021-12-01T00:00:00\",\"2022-01-01T00:00:00\",\"2022-02-01T00:00:00\",\"2022-03-01T00:00:00\",\"2022-05-01T00:00:00\",\"2022-06-01T00:00:00\",\"2022-08-01T00:00:00\",\"2022-12-01T00:00:00\",\"2023-01-01T00:00:00\",\"2023-02-01T00:00:00\",\"2023-09-01T00:00:00\",\"2023-10-01T00:00:00\",\"2024-01-01T00:00:00\",\"2024-02-01T00:00:00\",\"2024-03-01T00:00:00\",\"2024-04-01T00:00:00\",\"2024-05-01T00:00:00\",\"2024-06-01T00:00:00\",\"2024-07-01T00:00:00\",\"2024-08-01T00:00:00\",\"2024-09-01T00:00:00\",\"2024-10-01T00:00:00\",\"2024-11-01T00:00:00\",\"2024-12-01T00:00:00\",\"2025-01-01T00:00:00\",\"2025-02-01T00:00:00\",\"2025-03-01T00:00:00\",\"2025-04-01T00:00:00\",\"2025-05-01T00:00:00\",\"2025-06-01T00:00:00\",\"2025-07-01T00:00:00\"],\"y\":[1,2,8,1,1,1,5,3,2,3,1,1,3,3,1,1,2,1,1,2,3,2,1,4,3,5,17,4,9,15,9,8,2,2,2,5,3,3,3],\"yaxis\":\"y\",\"type\":\"scatter\"},{\"customdata\":[\"Dec 2020\",\"Mar 2021\",\"Apr 2021\",\"May 2021\",\"Jun 2021\",\"Jul 2021\",\"Aug 2021\",\"Sep 2021\",\"Dec 2021\",\"Jan 2022\",\"Feb 2022\",\"Mar 2022\",\"May 2022\",\"Jun 2022\",\"Aug 2022\",\"Dec 2022\",\"Jan 2023\",\"Feb 2023\",\"Sep 2023\",\"Oct 2023\",\"Jan 2024\",\"Feb 2024\",\"Mar 2024\",\"Apr 2024\",\"May 2024\",\"Jun 2024\",\"Jul 2024\",\"Aug 2024\",\"Sep 2024\",\"Oct 2024\",\"Nov 2024\",\"Dec 2024\",\"Jan 2025\",\"Feb 2025\",\"Mar 2025\",\"Apr 2025\",\"May 2025\",\"Jun 2025\",\"Jul 2025\"],\"hovertemplate\":\"\\u003cb\\u003e%{customdata}\\u003c\\u002fb\\u003e\\u003cbr\\u003e\\u003cb\\u003ePages Read\\u003c\\u002fb\\u003e: %{y:,}\\u003cextra\\u003e\\u003c\\u002fextra\\u003e\",\"line\":{\"color\":\"#d27575\",\"shape\":\"spline\"},\"mode\":\"lines+markers\",\"name\":\"Pages Read\",\"x\":[\"2020-12-01T00:00:00\",\"2021-03-01T00:00:00\",\"2021-04-01T00:00:00\",\"2021-05-01T00:00:00\",\"2021-06-01T00:00:00\",\"2021-07-01T00:00:00\",\"2021-08-01T00:00:00\",\"2021-09-01T00:00:00\",\"2021-12-01T00:00:00\",\"2022-01-01T00:00:00\",\"2022-02-01T00:00:00\",\"2022-03-01T00:00:00\",\"2022-05-01T00:00:00\",\"2022-06-01T00:00:00\",\"2022-08-01T00:00:00\",\"2022-12-01T00:00:00\",\"2023-01-01T00:00:00\",\"2023-02-01T00:00:00\",\"2023-09-01T00:00:00\",\"2023-10-01T00:00:00\",\"2024-01-01T00:00:00\",\"2024-02-01T00:00:00\",\"2024-03-01T00:00:00\",\"2024-04-01T00:00:00\",\"2024-05-01T00:00:00\",\"2024-06-01T00:00:00\",\"2024-07-01T00:00:00\",\"2024-08-01T00:00:00\",\"2024-09-01T00:00:00\",\"2024-10-01T00:00:00\",\"2024-11-01T00:00:00\",\"2024-12-01T00:00:00\",\"2025-01-01T00:00:00\",\"2025-02-01T00:00:00\",\"2025-03-01T00:00:00\",\"2025-04-01T00:00:00\",\"2025-05-01T00:00:00\",\"2025-06-01T00:00:00\",\"2025-07-01T00:00:00\"],\"y\":[140,464,1791,235,595,110,1129,954,331,790,192,182,629,634,535,376,372,292,178,456,966,928,353,1169,782,2176,2478,1462,1323,1659,1413,1011,754,860,656,1923,1813,939,1908],\"yaxis\":\"y2\",\"type\":\"scatter\"}],                        {\"template\":{\"data\":{\"histogram2dcontour\":[{\"type\":\"histogram2dcontour\",\"colorbar\":{\"outlinewidth\":0,\"ticks\":\"\"},\"colorscale\":[[0.0,\"#0d0887\"],[0.1111111111111111,\"#46039f\"],[0.2222222222222222,\"#7201a8\"],[0.3333333333333333,\"#9c179e\"],[0.4444444444444444,\"#bd3786\"],[0.5555555555555556,\"#d8576b\"],[0.6666666666666666,\"#ed7953\"],[0.7777777777777778,\"#fb9f3a\"],[0.8888888888888888,\"#fdca26\"],[1.0,\"#f0f921\"]]}],\"choropleth\":[{\"type\":\"choropleth\",\"colorbar\":{\"outlinewidth\":0,\"ticks\":\"\"}}],\"histogram2d\":[{\"type\":\"histogram2d\",\"colorbar\":{\"outlinewidth\":0,\"ticks\":\"\"},\"colorscale\":[[0.0,\"#0d0887\"],[0.1111111111111111,\"#46039f\"],[0.2222222222222222,\"#7201a8\"],[0.3333333333333333,\"#9c179e\"],[0.4444444444444444,\"#bd3786\"],[0.5555555555555556,\"#d8576b\"],[0.6666666666666666,\"#ed7953\"],[0.7777777777777778,\"#fb9f3a\"],[0.8888888888888888,\"#fdca26\"],[1.0,\"#f0f921\"]]}],\"heatmap\":[{\"type\":\"heatmap\",\"colorbar\":{\"outlinewidth\":0,\"ticks\":\"\"},\"colorscale\":[[0.0,\"#0d0887\"],[0.1111111111111111,\"#46039f\"],[0.2222222222222222,\"#7201a8\"],[0.3333333333333333,\"#9c179e\"],[0.4444444444444444,\"#bd3786\"],[0.5555555555555556,\"#d8576b\"],[0.6666666666666666,\"#ed7953\"],[0.7777777777777778,\"#fb9f3a\"],[0.8888888888888888,\"#fdca26\"],[1.0,\"#f0f921\"]]}],\"heatmapgl\":[{\"type\":\"heatmapgl\",\"colorbar\":{\"outlinewidth\":0,\"ticks\":\"\"},\"colorscale\":[[0.0,\"#0d0887\"],[0.1111111111111111,\"#46039f\"],[0.2222222222222222,\"#7201a8\"],[0.3333333333333333,\"#9c179e\"],[0.4444444444444444,\"#bd3786\"],[0.5555555555555556,\"#d8576b\"],[0.6666666666666666,\"#ed7953\"],[0.7777777777777778,\"#fb9f3a\"],[0.8888888888888888,\"#fdca26\"],[1.0,\"#f0f921\"]]}],\"contourcarpet\":[{\"type\":\"contourcarpet\",\"colorbar\":{\"outlinewidth\":0,\"ticks\":\"\"}}],\"contour\":[{\"type\":\"contour\",\"colorbar\":{\"outlinewidth\":0,\"ticks\":\"\"},\"colorscale\":[[0.0,\"#0d0887\"],[0.1111111111111111,\"#46039f\"],[0.2222222222222222,\"#7201a8\"],[0.3333333333333333,\"#9c179e\"],[0.4444444444444444,\"#bd3786\"],[0.5555555555555556,\"#d8576b\"],[0.6666666666666666,\"#ed7953\"],[0.7777777777777778,\"#fb9f3a\"],[0.8888888888888888,\"#fdca26\"],[1.0,\"#f0f921\"]]}],\"surface\":[{\"type\":\"surface\",\"colorbar\":{\"outlinewidth\":0,\"ticks\":\"\"},\"colorscale\":[[0.0,\"#0d0887\"],[0.1111111111111111,\"#46039f\"],[0.2222222222222222,\"#7201a8\"],[0.3333333333333333,\"#9c179e\"],[0.4444444444444444,\"#bd3786\"],[0.5555555555555556,\"#d8576b\"],[0.6666666666666666,\"#ed7953\"],[0.7777777777777778,\"#fb9f3a\"],[0.8888888888888888,\"#fdca26\"],[1.0,\"#f0f921\"]]}],\"mesh3d\":[{\"type\":\"mesh3d\",\"colorbar\":{\"outlinewidth\":0,\"ticks\":\"\"}}],\"scatter\":[{\"fillpattern\":{\"fillmode\":\"overlay\",\"size\":10,\"solidity\":0.2},\"type\":\"scatter\"}],\"parcoords\":[{\"type\":\"parcoords\",\"line\":{\"colorbar\":{\"outlinewidth\":0,\"ticks\":\"\"}}}],\"scatterpolargl\":[{\"type\":\"scatterpolargl\",\"marker\":{\"colorbar\":{\"outlinewidth\":0,\"ticks\":\"\"}}}],\"bar\":[{\"error_x\":{\"color\":\"#2a3f5f\"},\"error_y\":{\"color\":\"#2a3f5f\"},\"marker\":{\"line\":{\"color\":\"#E5ECF6\",\"width\":0.5},\"pattern\":{\"fillmode\":\"overlay\",\"size\":10,\"solidity\":0.2}},\"type\":\"bar\"}],\"scattergeo\":[{\"type\":\"scattergeo\",\"marker\":{\"colorbar\":{\"outlinewidth\":0,\"ticks\":\"\"}}}],\"scatterpolar\":[{\"type\":\"scatterpolar\",\"marker\":{\"colorbar\":{\"outlinewidth\":0,\"ticks\":\"\"}}}],\"histogram\":[{\"marker\":{\"pattern\":{\"fillmode\":\"overlay\",\"size\":10,\"solidity\":0.2}},\"type\":\"histogram\"}],\"scattergl\":[{\"type\":\"scattergl\",\"marker\":{\"colorbar\":{\"outlinewidth\":0,\"ticks\":\"\"}}}],\"scatter3d\":[{\"type\":\"scatter3d\",\"line\":{\"colorbar\":{\"outlinewidth\":0,\"ticks\":\"\"}},\"marker\":{\"colorbar\":{\"outlinewidth\":0,\"ticks\":\"\"}}}],\"scattermapbox\":[{\"type\":\"scattermapbox\",\"marker\":{\"colorbar\":{\"outlinewidth\":0,\"ticks\":\"\"}}}],\"scatterternary\":[{\"type\":\"scatterternary\",\"marker\":{\"colorbar\":{\"outlinewidth\":0,\"ticks\":\"\"}}}],\"scattercarpet\":[{\"type\":\"scattercarpet\",\"marker\":{\"colorbar\":{\"outlinewidth\":0,\"ticks\":\"\"}}}],\"carpet\":[{\"aaxis\":{\"endlinecolor\":\"#2a3f5f\",\"gridcolor\":\"white\",\"linecolor\":\"white\",\"minorgridcolor\":\"white\",\"startlinecolor\":\"#2a3f5f\"},\"baxis\":{\"endlinecolor\":\"#2a3f5f\",\"gridcolor\":\"white\",\"linecolor\":\"white\",\"minorgridcolor\":\"white\",\"startlinecolor\":\"#2a3f5f\"},\"type\":\"carpet\"}],\"table\":[{\"cells\":{\"fill\":{\"color\":\"#EBF0F8\"},\"line\":{\"color\":\"white\"}},\"header\":{\"fill\":{\"color\":\"#C8D4E3\"},\"line\":{\"color\":\"white\"}},\"type\":\"table\"}],\"barpolar\":[{\"marker\":{\"line\":{\"color\":\"#E5ECF6\",\"width\":0.5},\"pattern\":{\"fillmode\":\"overlay\",\"size\":10,\"solidity\":0.2}},\"type\":\"barpolar\"}],\"pie\":[{\"automargin\":true,\"type\":\"pie\"}]},\"layout\":{\"autotypenumbers\":\"strict\",\"colorway\":[\"#636efa\",\"#EF553B\",\"#00cc96\",\"#ab63fa\",\"#FFA15A\",\"#19d3f3\",\"#FF6692\",\"#B6E880\",\"#FF97FF\",\"#FECB52\"],\"font\":{\"color\":\"#2a3f5f\"},\"hovermode\":\"closest\",\"hoverlabel\":{\"align\":\"left\"},\"paper_bgcolor\":\"white\",\"plot_bgcolor\":\"#E5ECF6\",\"polar\":{\"bgcolor\":\"#E5ECF6\",\"angularaxis\":{\"gridcolor\":\"white\",\"linecolor\":\"white\",\"ticks\":\"\"},\"radialaxis\":{\"gridcolor\":\"white\",\"linecolor\":\"white\",\"ticks\":\"\"}},\"ternary\":{\"bgcolor\":\"#E5ECF6\",\"aaxis\":{\"gridcolor\":\"white\",\"linecolor\":\"white\",\"ticks\":\"\"},\"baxis\":{\"gridcolor\":\"white\",\"linecolor\":\"white\",\"ticks\":\"\"},\"caxis\":{\"gridcolor\":\"white\",\"linecolor\":\"white\",\"ticks\":\"\"}},\"coloraxis\":{\"colorbar\":{\"outlinewidth\":0,\"ticks\":\"\"}},\"colorscale\":{\"sequential\":[[0.0,\"#0d0887\"],[0.1111111111111111,\"#46039f\"],[0.2222222222222222,\"#7201a8\"],[0.3333333333333333,\"#9c179e\"],[0.4444444444444444,\"#bd3786\"],[0.5555555555555556,\"#d8576b\"],[0.6666666666666666,\"#ed7953\"],[0.7777777777777778,\"#fb9f3a\"],[0.8888888888888888,\"#fdca26\"],[1.0,\"#f0f921\"]],\"sequentialminus\":[[0.0,\"#0d0887\"],[0.1111111111111111,\"#46039f\"],[0.2222222222222222,\"#7201a8\"],[0.3333333333333333,\"#9c179e\"],[0.4444444444444444,\"#bd3786\"],[0.5555555555555556,\"#d8576b\"],[0.6666666666666666,\"#ed7953\"],[0.7777777777777778,\"#fb9f3a\"],[0.8888888888888888,\"#fdca26\"],[1.0,\"#f0f921\"]],\"diverging\":[[0,\"#8e0152\"],[0.1,\"#c51b7d\"],[0.2,\"#de77ae\"],[0.3,\"#f1b6da\"],[0.4,\"#fde0ef\"],[0.5,\"#f7f7f7\"],[0.6,\"#e6f5d0\"],[0.7,\"#b8e186\"],[0.8,\"#7fbc41\"],[0.9,\"#4d9221\"],[1,\"#276419\"]]},\"xaxis\":{\"gridcolor\":\"white\",\"linecolor\":\"white\",\"ticks\":\"\",\"title\":{\"standoff\":15},\"zerolinecolor\":\"white\",\"automargin\":true,\"zerolinewidth\":2},\"yaxis\":{\"gridcolor\":\"white\",\"linecolor\":\"white\",\"ticks\":\"\",\"title\":{\"standoff\":15},\"zerolinecolor\":\"white\",\"automargin\":true,\"zerolinewidth\":2},\"scene\":{\"xaxis\":{\"backgroundcolor\":\"#E5ECF6\",\"gridcolor\":\"white\",\"linecolor\":\"white\",\"showbackground\":true,\"ticks\":\"\",\"zerolinecolor\":\"white\",\"gridwidth\":2},\"yaxis\":{\"backgroundcolor\":\"#E5ECF6\",\"gridcolor\":\"white\",\"linecolor\":\"white\",\"showbackground\":true,\"ticks\":\"\",\"zerolinecolor\":\"white\",\"gridwidth\":2},\"zaxis\":{\"backgroundcolor\":\"#E5ECF6\",\"gridcolor\":\"white\",\"linecolor\":\"white\",\"showbackground\":true,\"ticks\":\"\",\"zerolinecolor\":\"white\",\"gridwidth\":2}},\"shapedefaults\":{\"line\":{\"color\":\"#2a3f5f\"}},\"annotationdefaults\":{\"arrowcolor\":\"#2a3f5f\",\"arrowhead\":0,\"arrowwidth\":1},\"geo\":{\"bgcolor\":\"white\",\"landcolor\":\"#E5ECF6\",\"subunitcolor\":\"white\",\"showland\":true,\"showlakes\":true,\"lakecolor\":\"white\"},\"title\":{\"x\":0.05},\"mapbox\":{\"style\":\"light\"}}},\"yaxis\":{\"range\":[-0.26429675425038623,18.264296754250385],\"title\":{},\"showgrid\":true,\"showline\":false,\"showticklabels\":true,\"linecolor\":\"black\",\"gridcolor\":\"#cbcbcb\",\"zerolinewidth\":1},\"yaxis2\":{\"overlaying\":\"y\",\"side\":\"right\",\"range\":[-38.0,2626.0],\"zerolinecolor\":\"black\",\"showgrid\":true,\"showline\":false,\"showticklabels\":true,\"linecolor\":\"black\",\"gridcolor\":\"#cbcbcb\",\"zerolinewidth\":1},\"legend\":{\"orientation\":\"h\",\"yanchor\":\"top\",\"y\":1.01,\"xanchor\":\"center\",\"x\":0.5},\"title\":{\"font\":{\"size\":40,\"family\":\"Baskerville, Bold\",\"color\":\"#001c40\"},\"text\":\"Books & Pages Read Over Time (testing)\\u003cbr\\u003e\\u003csup\\u003eI've clearly had a massive spike in reading in 2024\"},\"margin\":{\"l\":85,\"r\":85,\"t\":120,\"b\":45},\"xaxis\":{\"title\":{},\"showgrid\":false,\"showline\":false,\"linecolor\":\"black\",\"gridcolor\":\"#cbcbcb\",\"zerolinewidth\":1},\"font\":{\"family\":\"Baskerville\",\"color\":\"#001c40\",\"size\":14},\"hoverlabel\":{\"font\":{\"size\":16}},\"height\":600,\"showlegend\":true,\"barmode\":\"group\",\"plot_bgcolor\":\"#f0f0f0\",\"paper_bgcolor\":\"#f0f0f0\"},                        {\"modeBarButtonsToRemove\": [\"zoomIn\", \"zoomOut\", \"resetScale2d\", \"select2d\", \"lasso2d\"], \"responsive\": true, \"displaylogo\": false, \"toImageButtonOptions\": {\"format\": \"png\", \"filename\": \"reading-habits\", \"scale\": 1}}                    ).then(function(){\n",
       "                            \n",
       "var gd = document.getElementById('1134732c-3695-44e9-9809-25746af14c78');\n",
       "var x = new MutationObserver(function (mutations, observer) {{\n",
       "        var display = window.getComputedStyle(gd).display;\n",
       "        if (!display || display === 'none') {{\n",
       "            console.log([gd, 'removed!']);\n",
       "            Plotly.purge(gd);\n",
       "            observer.disconnect();\n",
       "        }}\n",
       "}});\n",
       "\n",
       "// Listen for the removal of the full notebook cells\n",
       "var notebookContainer = gd.closest('#notebook-container');\n",
       "if (notebookContainer) {{\n",
       "    x.observe(notebookContainer, {childList: true});\n",
       "}}\n",
       "\n",
       "// Listen for the clearing of the current output cell\n",
       "var outputEl = gd.closest('.output');\n",
       "if (outputEl) {{\n",
       "    x.observe(outputEl, {childList: true});\n",
       "}}\n",
       "\n",
       "                        })                };                });            </script>        </div>"
      ]
     },
     "metadata": {},
     "output_type": "display_data"
    }
   ],
   "source": [
    "def getYearMonth(x):\n",
    "    month = ''\n",
    "    if x.month < 10:\n",
    "        month = '0' + str(x.month)\n",
    "    else:\n",
    "        month = str(x.month)\n",
    "    return pd.to_datetime(str(x.year) + '-' + month)\n",
    "    # return x.strftime('%b %Y')\n",
    "\n",
    "dfc = df[df['Finish Date'].notnull()]\n",
    "dfc['FinishYearMonth'] = dfc['Finish Date'].apply(lambda x: getYearMonth(x))\n",
    "# dfc['FinishYearMonth'] = dfc['FinishYearMonth'].dt.strftime('%b-%Y')\n",
    "dfc = dfc.groupby('FinishYearMonth').agg({'Title': 'count', 'Pages': 'sum'})\n",
    "\n",
    "title = \"Books & Pages Read Over Time (testing)\"\n",
    "sub = \"I've clearly had a massive spike in reading in 2024\"\n",
    "plot.gen_linegraph(dfc, title, sub)"
   ]
  },
  {
   "cell_type": "markdown",
   "id": "f4846f4e-919d-4323-bedf-3c29d619420f",
   "metadata": {},
   "source": [
    "### Basic Statistics - What do I read the most of?"
   ]
  },
  {
   "cell_type": "code",
   "execution_count": 31,
   "id": "2808c3f2-dd09-47d2-b768-5dfaca7d6e9f",
   "metadata": {
    "execution": {
     "iopub.execute_input": "2024-07-27T23:38:50.123840Z",
     "iopub.status.busy": "2024-07-27T23:38:50.123840Z",
     "iopub.status.idle": "2024-07-27T23:38:50.258455Z",
     "shell.execute_reply": "2024-07-27T23:38:50.258455Z",
     "shell.execute_reply.started": "2024-07-27T23:38:50.123840Z"
    },
    "tags": []
   },
   "outputs": [
    {
     "data": {
      "application/vnd.plotly.v1+json": {
       "config": {
        "displaylogo": false,
        "modeBarButtonsToRemove": [
         "zoomIn",
         "zoomOut",
         "resetScale2d",
         "select2d",
         "lasso2d"
        ],
        "plotlyServerURL": "https://plot.ly",
        "responsive": true,
        "toImageButtonOptions": {
         "filename": "reading-habits",
         "format": "png",
         "scale": 1
        }
       },
       "data": [
        {
         "hovertemplate": "<b>%{x}</b>: %{y}",
         "marker": {
          "color": "#d27575"
         },
         "name": "",
         "type": "bar",
         "x": [
          "Fiction",
          "Nonfiction",
          "Philosophy",
          "Science",
          "Psychology"
         ],
         "xaxis": "x",
         "y": [
          125,
          12,
          6,
          6,
          1
         ],
         "yaxis": "y"
        },
        {
         "domain": {
          "x": [
           0.73,
           1
          ],
          "y": [
           0,
           1
          ]
         },
         "hole": 0.4,
         "hovertemplate": "<b>%{label}</b>: %{value}",
         "labels": [
          "Fiction",
          "Nonfiction",
          "Philosophy",
          "Science",
          "Psychology"
         ],
         "marker": {
          "colors": [
           "#d27575",
           "#529b9c",
           "#eac392",
           "#9cba8f",
           "#675a55",
           "#d27575",
           "#529b9c",
           "#eac392",
           "#9cba8f",
           "#675a55",
           "#d27575",
           "#529b9c",
           "#eac392",
           "#9cba8f",
           "#675a55",
           "#d27575",
           "#529b9c",
           "#eac392",
           "#9cba8f",
           "#675a55",
           "#d27575",
           "#529b9c",
           "#eac392",
           "#9cba8f",
           "#675a55",
           "#d27575",
           "#529b9c",
           "#eac392",
           "#9cba8f",
           "#675a55",
           "#d27575",
           "#529b9c",
           "#eac392",
           "#9cba8f",
           "#675a55",
           "#d27575",
           "#529b9c",
           "#eac392",
           "#9cba8f",
           "#675a55",
           "#d27575",
           "#529b9c",
           "#eac392",
           "#9cba8f",
           "#675a55",
           "#d27575",
           "#529b9c",
           "#eac392",
           "#9cba8f",
           "#675a55",
           "#d27575",
           "#529b9c",
           "#eac392",
           "#9cba8f",
           "#675a55",
           "#d27575",
           "#529b9c",
           "#eac392",
           "#9cba8f",
           "#675a55",
           "#d27575",
           "#529b9c",
           "#eac392",
           "#9cba8f",
           "#675a55",
           "#d27575",
           "#529b9c",
           "#eac392",
           "#9cba8f",
           "#675a55",
           "#d27575",
           "#529b9c",
           "#eac392",
           "#9cba8f",
           "#675a55",
           "#d27575",
           "#529b9c",
           "#eac392",
           "#9cba8f",
           "#675a55",
           "#d27575",
           "#529b9c",
           "#eac392",
           "#9cba8f",
           "#675a55",
           "#d27575",
           "#529b9c",
           "#eac392",
           "#9cba8f",
           "#675a55",
           "#d27575",
           "#529b9c",
           "#eac392",
           "#9cba8f",
           "#675a55",
           "#d27575",
           "#529b9c",
           "#eac392",
           "#9cba8f",
           "#675a55",
           "#d27575",
           "#529b9c",
           "#eac392",
           "#9cba8f",
           "#675a55",
           "#d27575",
           "#529b9c",
           "#eac392",
           "#9cba8f",
           "#675a55",
           "#d27575",
           "#529b9c",
           "#eac392",
           "#9cba8f",
           "#675a55",
           "#d27575",
           "#529b9c",
           "#eac392",
           "#9cba8f",
           "#675a55",
           "#d27575",
           "#529b9c",
           "#eac392",
           "#9cba8f",
           "#675a55",
           "#d27575",
           "#529b9c",
           "#eac392",
           "#9cba8f",
           "#675a55",
           "#d27575",
           "#529b9c",
           "#eac392",
           "#9cba8f",
           "#675a55",
           "#d27575",
           "#529b9c",
           "#eac392",
           "#9cba8f",
           "#675a55",
           "#d27575",
           "#529b9c",
           "#eac392",
           "#9cba8f",
           "#675a55",
           "#d27575",
           "#529b9c",
           "#eac392",
           "#9cba8f",
           "#675a55",
           "#d27575",
           "#529b9c",
           "#eac392",
           "#9cba8f",
           "#675a55",
           "#d27575",
           "#529b9c",
           "#eac392",
           "#9cba8f",
           "#675a55",
           "#d27575",
           "#529b9c",
           "#eac392",
           "#9cba8f",
           "#675a55",
           "#d27575",
           "#529b9c",
           "#eac392",
           "#9cba8f",
           "#675a55",
           "#d27575",
           "#529b9c",
           "#eac392",
           "#9cba8f",
           "#675a55",
           "#d27575",
           "#529b9c",
           "#eac392",
           "#9cba8f",
           "#675a55",
           "#d27575",
           "#529b9c",
           "#eac392",
           "#9cba8f",
           "#675a55",
           "#d27575",
           "#529b9c",
           "#eac392",
           "#9cba8f",
           "#675a55",
           "#d27575",
           "#529b9c",
           "#eac392",
           "#9cba8f",
           "#675a55",
           "#d27575",
           "#529b9c",
           "#eac392",
           "#9cba8f",
           "#675a55",
           "#d27575",
           "#529b9c",
           "#eac392",
           "#9cba8f",
           "#675a55",
           "#d27575",
           "#529b9c",
           "#eac392",
           "#9cba8f",
           "#675a55",
           "#d27575",
           "#529b9c",
           "#eac392",
           "#9cba8f",
           "#675a55",
           "#d27575",
           "#529b9c",
           "#eac392",
           "#9cba8f",
           "#675a55",
           "#d27575",
           "#529b9c",
           "#eac392",
           "#9cba8f",
           "#675a55",
           "#d27575",
           "#529b9c",
           "#eac392",
           "#9cba8f",
           "#675a55",
           "#d27575",
           "#529b9c",
           "#eac392",
           "#9cba8f",
           "#675a55",
           "#d27575",
           "#529b9c",
           "#eac392",
           "#9cba8f",
           "#675a55",
           "#d27575",
           "#529b9c",
           "#eac392",
           "#9cba8f",
           "#675a55",
           "#d27575",
           "#529b9c",
           "#eac392",
           "#9cba8f",
           "#675a55",
           "#d27575",
           "#529b9c",
           "#eac392",
           "#9cba8f",
           "#675a55",
           "#d27575",
           "#529b9c",
           "#eac392",
           "#9cba8f",
           "#675a55",
           "#d27575",
           "#529b9c",
           "#eac392",
           "#9cba8f",
           "#675a55",
           "#d27575",
           "#529b9c",
           "#eac392",
           "#9cba8f",
           "#675a55",
           "#d27575",
           "#529b9c",
           "#eac392",
           "#9cba8f",
           "#675a55",
           "#d27575",
           "#529b9c",
           "#eac392",
           "#9cba8f",
           "#675a55",
           "#d27575",
           "#529b9c",
           "#eac392",
           "#9cba8f",
           "#675a55",
           "#d27575",
           "#529b9c",
           "#eac392",
           "#9cba8f",
           "#675a55",
           "#d27575",
           "#529b9c",
           "#eac392",
           "#9cba8f",
           "#675a55",
           "#d27575",
           "#529b9c",
           "#eac392",
           "#9cba8f",
           "#675a55",
           "#d27575",
           "#529b9c",
           "#eac392",
           "#9cba8f",
           "#675a55",
           "#d27575",
           "#529b9c",
           "#eac392",
           "#9cba8f",
           "#675a55",
           "#d27575",
           "#529b9c",
           "#eac392",
           "#9cba8f",
           "#675a55",
           "#d27575",
           "#529b9c",
           "#eac392",
           "#9cba8f",
           "#675a55",
           "#d27575",
           "#529b9c",
           "#eac392",
           "#9cba8f",
           "#675a55",
           "#d27575",
           "#529b9c",
           "#eac392",
           "#9cba8f",
           "#675a55",
           "#d27575",
           "#529b9c",
           "#eac392",
           "#9cba8f",
           "#675a55",
           "#d27575",
           "#529b9c",
           "#eac392",
           "#9cba8f",
           "#675a55",
           "#d27575",
           "#529b9c",
           "#eac392",
           "#9cba8f",
           "#675a55",
           "#d27575",
           "#529b9c",
           "#eac392",
           "#9cba8f",
           "#675a55",
           "#d27575",
           "#529b9c",
           "#eac392",
           "#9cba8f",
           "#675a55",
           "#d27575",
           "#529b9c",
           "#eac392",
           "#9cba8f",
           "#675a55",
           "#d27575",
           "#529b9c",
           "#eac392",
           "#9cba8f",
           "#675a55",
           "#d27575",
           "#529b9c",
           "#eac392",
           "#9cba8f",
           "#675a55",
           "#d27575",
           "#529b9c",
           "#eac392",
           "#9cba8f",
           "#675a55",
           "#d27575",
           "#529b9c",
           "#eac392",
           "#9cba8f",
           "#675a55",
           "#d27575",
           "#529b9c",
           "#eac392",
           "#9cba8f",
           "#675a55",
           "#d27575",
           "#529b9c",
           "#eac392",
           "#9cba8f",
           "#675a55",
           "#d27575",
           "#529b9c",
           "#eac392",
           "#9cba8f",
           "#675a55",
           "#d27575",
           "#529b9c",
           "#eac392",
           "#9cba8f",
           "#675a55",
           "#d27575",
           "#529b9c",
           "#eac392",
           "#9cba8f",
           "#675a55",
           "#d27575",
           "#529b9c",
           "#eac392",
           "#9cba8f",
           "#675a55",
           "#d27575",
           "#529b9c",
           "#eac392",
           "#9cba8f",
           "#675a55",
           "#d27575",
           "#529b9c",
           "#eac392",
           "#9cba8f",
           "#675a55",
           "#d27575",
           "#529b9c",
           "#eac392",
           "#9cba8f",
           "#675a55",
           "#d27575",
           "#529b9c",
           "#eac392",
           "#9cba8f",
           "#675a55",
           "#d27575",
           "#529b9c",
           "#eac392",
           "#9cba8f",
           "#675a55",
           "#d27575",
           "#529b9c",
           "#eac392",
           "#9cba8f",
           "#675a55",
           "#d27575",
           "#529b9c",
           "#eac392",
           "#9cba8f",
           "#675a55",
           "#d27575",
           "#529b9c",
           "#eac392",
           "#9cba8f",
           "#675a55",
           "#d27575",
           "#529b9c",
           "#eac392",
           "#9cba8f",
           "#675a55",
           "#d27575",
           "#529b9c",
           "#eac392",
           "#9cba8f",
           "#675a55",
           "#d27575",
           "#529b9c",
           "#eac392",
           "#9cba8f",
           "#675a55",
           "#d27575",
           "#529b9c",
           "#eac392",
           "#9cba8f",
           "#675a55",
           "#d27575",
           "#529b9c",
           "#eac392",
           "#9cba8f",
           "#675a55",
           "#d27575",
           "#529b9c",
           "#eac392",
           "#9cba8f",
           "#675a55",
           "#d27575",
           "#529b9c",
           "#eac392",
           "#9cba8f",
           "#675a55",
           "#d27575",
           "#529b9c",
           "#eac392",
           "#9cba8f",
           "#675a55",
           "#d27575",
           "#529b9c",
           "#eac392",
           "#9cba8f",
           "#675a55",
           "#d27575",
           "#529b9c",
           "#eac392",
           "#9cba8f",
           "#675a55",
           "#d27575",
           "#529b9c",
           "#eac392",
           "#9cba8f",
           "#675a55",
           "#d27575",
           "#529b9c",
           "#eac392",
           "#9cba8f",
           "#675a55",
           "#d27575",
           "#529b9c",
           "#eac392",
           "#9cba8f",
           "#675a55",
           "#d27575",
           "#529b9c",
           "#eac392",
           "#9cba8f",
           "#675a55",
           "#d27575",
           "#529b9c",
           "#eac392",
           "#9cba8f",
           "#675a55",
           "#d27575",
           "#529b9c",
           "#eac392",
           "#9cba8f",
           "#675a55",
           "#d27575",
           "#529b9c",
           "#eac392",
           "#9cba8f",
           "#675a55",
           "#d27575",
           "#529b9c",
           "#eac392",
           "#9cba8f",
           "#675a55",
           "#d27575",
           "#529b9c",
           "#eac392",
           "#9cba8f",
           "#675a55",
           "#d27575",
           "#529b9c",
           "#eac392",
           "#9cba8f",
           "#675a55",
           "#d27575",
           "#529b9c",
           "#eac392",
           "#9cba8f",
           "#675a55",
           "#d27575",
           "#529b9c",
           "#eac392",
           "#9cba8f",
           "#675a55",
           "#d27575",
           "#529b9c",
           "#eac392",
           "#9cba8f",
           "#675a55",
           "#d27575",
           "#529b9c",
           "#eac392",
           "#9cba8f",
           "#675a55",
           "#d27575",
           "#529b9c",
           "#eac392",
           "#9cba8f",
           "#675a55",
           "#d27575",
           "#529b9c",
           "#eac392",
           "#9cba8f",
           "#675a55",
           "#d27575",
           "#529b9c",
           "#eac392",
           "#9cba8f",
           "#675a55",
           "#d27575",
           "#529b9c",
           "#eac392",
           "#9cba8f",
           "#675a55",
           "#d27575",
           "#529b9c",
           "#eac392",
           "#9cba8f",
           "#675a55",
           "#d27575",
           "#529b9c",
           "#eac392",
           "#9cba8f",
           "#675a55",
           "#d27575",
           "#529b9c",
           "#eac392",
           "#9cba8f",
           "#675a55",
           "#d27575",
           "#529b9c",
           "#eac392",
           "#9cba8f",
           "#675a55",
           "#d27575",
           "#529b9c",
           "#eac392",
           "#9cba8f",
           "#675a55",
           "#d27575",
           "#529b9c",
           "#eac392",
           "#9cba8f",
           "#675a55",
           "#d27575",
           "#529b9c",
           "#eac392",
           "#9cba8f",
           "#675a55",
           "#d27575",
           "#529b9c",
           "#eac392",
           "#9cba8f",
           "#675a55",
           "#d27575",
           "#529b9c",
           "#eac392",
           "#9cba8f",
           "#675a55",
           "#d27575",
           "#529b9c",
           "#eac392",
           "#9cba8f",
           "#675a55",
           "#d27575",
           "#529b9c",
           "#eac392",
           "#9cba8f",
           "#675a55",
           "#d27575",
           "#529b9c",
           "#eac392",
           "#9cba8f",
           "#675a55",
           "#d27575",
           "#529b9c",
           "#eac392",
           "#9cba8f",
           "#675a55",
           "#d27575",
           "#529b9c",
           "#eac392",
           "#9cba8f",
           "#675a55",
           "#d27575",
           "#529b9c",
           "#eac392",
           "#9cba8f",
           "#675a55",
           "#d27575",
           "#529b9c",
           "#eac392",
           "#9cba8f",
           "#675a55",
           "#d27575",
           "#529b9c",
           "#eac392",
           "#9cba8f",
           "#675a55",
           "#d27575",
           "#529b9c",
           "#eac392",
           "#9cba8f",
           "#675a55",
           "#d27575",
           "#529b9c",
           "#eac392",
           "#9cba8f",
           "#675a55",
           "#d27575",
           "#529b9c",
           "#eac392",
           "#9cba8f",
           "#675a55",
           "#d27575",
           "#529b9c",
           "#eac392",
           "#9cba8f",
           "#675a55",
           "#d27575",
           "#529b9c",
           "#eac392",
           "#9cba8f",
           "#675a55",
           "#d27575",
           "#529b9c",
           "#eac392",
           "#9cba8f",
           "#675a55",
           "#d27575",
           "#529b9c",
           "#eac392",
           "#9cba8f",
           "#675a55",
           "#d27575",
           "#529b9c",
           "#eac392",
           "#9cba8f",
           "#675a55",
           "#d27575",
           "#529b9c",
           "#eac392",
           "#9cba8f",
           "#675a55",
           "#d27575",
           "#529b9c",
           "#eac392",
           "#9cba8f",
           "#675a55",
           "#d27575",
           "#529b9c",
           "#eac392",
           "#9cba8f",
           "#675a55",
           "#d27575",
           "#529b9c",
           "#eac392",
           "#9cba8f",
           "#675a55",
           "#d27575",
           "#529b9c",
           "#eac392",
           "#9cba8f",
           "#675a55",
           "#d27575",
           "#529b9c",
           "#eac392",
           "#9cba8f",
           "#675a55",
           "#d27575",
           "#529b9c",
           "#eac392",
           "#9cba8f",
           "#675a55"
          ]
         },
         "name": "",
         "type": "pie",
         "values": [
          125,
          12,
          6,
          6,
          1
         ]
        }
       ],
       "layout": {
        "annotations": [
         {
          "ax": 0,
          "ay": 0,
          "font": {
           "size": 30
          },
          "text": "<sup>Total: 150",
          "x": 0.866,
          "xref": "paper",
          "y": 0.48,
          "yref": "paper"
         }
        ],
        "barmode": "group",
        "font": {
         "color": "#001c40",
         "family": "Baskerville",
         "size": 14
        },
        "height": 600,
        "hoverlabel": {
         "font": {
          "size": 16
         }
        },
        "margin": {
         "b": 45,
         "l": 85,
         "r": 85,
         "t": 120
        },
        "paper_bgcolor": "#f0f0f0",
        "plot_bgcolor": "#f0f0f0",
        "showlegend": false,
        "template": {
         "data": {
          "bar": [
           {
            "error_x": {
             "color": "#2a3f5f"
            },
            "error_y": {
             "color": "#2a3f5f"
            },
            "marker": {
             "line": {
              "color": "#E5ECF6",
              "width": 0.5
             },
             "pattern": {
              "fillmode": "overlay",
              "size": 10,
              "solidity": 0.2
             }
            },
            "type": "bar"
           }
          ],
          "barpolar": [
           {
            "marker": {
             "line": {
              "color": "#E5ECF6",
              "width": 0.5
             },
             "pattern": {
              "fillmode": "overlay",
              "size": 10,
              "solidity": 0.2
             }
            },
            "type": "barpolar"
           }
          ],
          "carpet": [
           {
            "aaxis": {
             "endlinecolor": "#2a3f5f",
             "gridcolor": "white",
             "linecolor": "white",
             "minorgridcolor": "white",
             "startlinecolor": "#2a3f5f"
            },
            "baxis": {
             "endlinecolor": "#2a3f5f",
             "gridcolor": "white",
             "linecolor": "white",
             "minorgridcolor": "white",
             "startlinecolor": "#2a3f5f"
            },
            "type": "carpet"
           }
          ],
          "choropleth": [
           {
            "colorbar": {
             "outlinewidth": 0,
             "ticks": ""
            },
            "type": "choropleth"
           }
          ],
          "contour": [
           {
            "colorbar": {
             "outlinewidth": 0,
             "ticks": ""
            },
            "colorscale": [
             [
              0,
              "#0d0887"
             ],
             [
              0.1111111111111111,
              "#46039f"
             ],
             [
              0.2222222222222222,
              "#7201a8"
             ],
             [
              0.3333333333333333,
              "#9c179e"
             ],
             [
              0.4444444444444444,
              "#bd3786"
             ],
             [
              0.5555555555555556,
              "#d8576b"
             ],
             [
              0.6666666666666666,
              "#ed7953"
             ],
             [
              0.7777777777777778,
              "#fb9f3a"
             ],
             [
              0.8888888888888888,
              "#fdca26"
             ],
             [
              1,
              "#f0f921"
             ]
            ],
            "type": "contour"
           }
          ],
          "contourcarpet": [
           {
            "colorbar": {
             "outlinewidth": 0,
             "ticks": ""
            },
            "type": "contourcarpet"
           }
          ],
          "heatmap": [
           {
            "colorbar": {
             "outlinewidth": 0,
             "ticks": ""
            },
            "colorscale": [
             [
              0,
              "#0d0887"
             ],
             [
              0.1111111111111111,
              "#46039f"
             ],
             [
              0.2222222222222222,
              "#7201a8"
             ],
             [
              0.3333333333333333,
              "#9c179e"
             ],
             [
              0.4444444444444444,
              "#bd3786"
             ],
             [
              0.5555555555555556,
              "#d8576b"
             ],
             [
              0.6666666666666666,
              "#ed7953"
             ],
             [
              0.7777777777777778,
              "#fb9f3a"
             ],
             [
              0.8888888888888888,
              "#fdca26"
             ],
             [
              1,
              "#f0f921"
             ]
            ],
            "type": "heatmap"
           }
          ],
          "heatmapgl": [
           {
            "colorbar": {
             "outlinewidth": 0,
             "ticks": ""
            },
            "colorscale": [
             [
              0,
              "#0d0887"
             ],
             [
              0.1111111111111111,
              "#46039f"
             ],
             [
              0.2222222222222222,
              "#7201a8"
             ],
             [
              0.3333333333333333,
              "#9c179e"
             ],
             [
              0.4444444444444444,
              "#bd3786"
             ],
             [
              0.5555555555555556,
              "#d8576b"
             ],
             [
              0.6666666666666666,
              "#ed7953"
             ],
             [
              0.7777777777777778,
              "#fb9f3a"
             ],
             [
              0.8888888888888888,
              "#fdca26"
             ],
             [
              1,
              "#f0f921"
             ]
            ],
            "type": "heatmapgl"
           }
          ],
          "histogram": [
           {
            "marker": {
             "pattern": {
              "fillmode": "overlay",
              "size": 10,
              "solidity": 0.2
             }
            },
            "type": "histogram"
           }
          ],
          "histogram2d": [
           {
            "colorbar": {
             "outlinewidth": 0,
             "ticks": ""
            },
            "colorscale": [
             [
              0,
              "#0d0887"
             ],
             [
              0.1111111111111111,
              "#46039f"
             ],
             [
              0.2222222222222222,
              "#7201a8"
             ],
             [
              0.3333333333333333,
              "#9c179e"
             ],
             [
              0.4444444444444444,
              "#bd3786"
             ],
             [
              0.5555555555555556,
              "#d8576b"
             ],
             [
              0.6666666666666666,
              "#ed7953"
             ],
             [
              0.7777777777777778,
              "#fb9f3a"
             ],
             [
              0.8888888888888888,
              "#fdca26"
             ],
             [
              1,
              "#f0f921"
             ]
            ],
            "type": "histogram2d"
           }
          ],
          "histogram2dcontour": [
           {
            "colorbar": {
             "outlinewidth": 0,
             "ticks": ""
            },
            "colorscale": [
             [
              0,
              "#0d0887"
             ],
             [
              0.1111111111111111,
              "#46039f"
             ],
             [
              0.2222222222222222,
              "#7201a8"
             ],
             [
              0.3333333333333333,
              "#9c179e"
             ],
             [
              0.4444444444444444,
              "#bd3786"
             ],
             [
              0.5555555555555556,
              "#d8576b"
             ],
             [
              0.6666666666666666,
              "#ed7953"
             ],
             [
              0.7777777777777778,
              "#fb9f3a"
             ],
             [
              0.8888888888888888,
              "#fdca26"
             ],
             [
              1,
              "#f0f921"
             ]
            ],
            "type": "histogram2dcontour"
           }
          ],
          "mesh3d": [
           {
            "colorbar": {
             "outlinewidth": 0,
             "ticks": ""
            },
            "type": "mesh3d"
           }
          ],
          "parcoords": [
           {
            "line": {
             "colorbar": {
              "outlinewidth": 0,
              "ticks": ""
             }
            },
            "type": "parcoords"
           }
          ],
          "pie": [
           {
            "automargin": true,
            "type": "pie"
           }
          ],
          "scatter": [
           {
            "fillpattern": {
             "fillmode": "overlay",
             "size": 10,
             "solidity": 0.2
            },
            "type": "scatter"
           }
          ],
          "scatter3d": [
           {
            "line": {
             "colorbar": {
              "outlinewidth": 0,
              "ticks": ""
             }
            },
            "marker": {
             "colorbar": {
              "outlinewidth": 0,
              "ticks": ""
             }
            },
            "type": "scatter3d"
           }
          ],
          "scattercarpet": [
           {
            "marker": {
             "colorbar": {
              "outlinewidth": 0,
              "ticks": ""
             }
            },
            "type": "scattercarpet"
           }
          ],
          "scattergeo": [
           {
            "marker": {
             "colorbar": {
              "outlinewidth": 0,
              "ticks": ""
             }
            },
            "type": "scattergeo"
           }
          ],
          "scattergl": [
           {
            "marker": {
             "colorbar": {
              "outlinewidth": 0,
              "ticks": ""
             }
            },
            "type": "scattergl"
           }
          ],
          "scattermapbox": [
           {
            "marker": {
             "colorbar": {
              "outlinewidth": 0,
              "ticks": ""
             }
            },
            "type": "scattermapbox"
           }
          ],
          "scatterpolar": [
           {
            "marker": {
             "colorbar": {
              "outlinewidth": 0,
              "ticks": ""
             }
            },
            "type": "scatterpolar"
           }
          ],
          "scatterpolargl": [
           {
            "marker": {
             "colorbar": {
              "outlinewidth": 0,
              "ticks": ""
             }
            },
            "type": "scatterpolargl"
           }
          ],
          "scatterternary": [
           {
            "marker": {
             "colorbar": {
              "outlinewidth": 0,
              "ticks": ""
             }
            },
            "type": "scatterternary"
           }
          ],
          "surface": [
           {
            "colorbar": {
             "outlinewidth": 0,
             "ticks": ""
            },
            "colorscale": [
             [
              0,
              "#0d0887"
             ],
             [
              0.1111111111111111,
              "#46039f"
             ],
             [
              0.2222222222222222,
              "#7201a8"
             ],
             [
              0.3333333333333333,
              "#9c179e"
             ],
             [
              0.4444444444444444,
              "#bd3786"
             ],
             [
              0.5555555555555556,
              "#d8576b"
             ],
             [
              0.6666666666666666,
              "#ed7953"
             ],
             [
              0.7777777777777778,
              "#fb9f3a"
             ],
             [
              0.8888888888888888,
              "#fdca26"
             ],
             [
              1,
              "#f0f921"
             ]
            ],
            "type": "surface"
           }
          ],
          "table": [
           {
            "cells": {
             "fill": {
              "color": "#EBF0F8"
             },
             "line": {
              "color": "white"
             }
            },
            "header": {
             "fill": {
              "color": "#C8D4E3"
             },
             "line": {
              "color": "white"
             }
            },
            "type": "table"
           }
          ]
         },
         "layout": {
          "annotationdefaults": {
           "arrowcolor": "#2a3f5f",
           "arrowhead": 0,
           "arrowwidth": 1
          },
          "autotypenumbers": "strict",
          "coloraxis": {
           "colorbar": {
            "outlinewidth": 0,
            "ticks": ""
           }
          },
          "colorscale": {
           "diverging": [
            [
             0,
             "#8e0152"
            ],
            [
             0.1,
             "#c51b7d"
            ],
            [
             0.2,
             "#de77ae"
            ],
            [
             0.3,
             "#f1b6da"
            ],
            [
             0.4,
             "#fde0ef"
            ],
            [
             0.5,
             "#f7f7f7"
            ],
            [
             0.6,
             "#e6f5d0"
            ],
            [
             0.7,
             "#b8e186"
            ],
            [
             0.8,
             "#7fbc41"
            ],
            [
             0.9,
             "#4d9221"
            ],
            [
             1,
             "#276419"
            ]
           ],
           "sequential": [
            [
             0,
             "#0d0887"
            ],
            [
             0.1111111111111111,
             "#46039f"
            ],
            [
             0.2222222222222222,
             "#7201a8"
            ],
            [
             0.3333333333333333,
             "#9c179e"
            ],
            [
             0.4444444444444444,
             "#bd3786"
            ],
            [
             0.5555555555555556,
             "#d8576b"
            ],
            [
             0.6666666666666666,
             "#ed7953"
            ],
            [
             0.7777777777777778,
             "#fb9f3a"
            ],
            [
             0.8888888888888888,
             "#fdca26"
            ],
            [
             1,
             "#f0f921"
            ]
           ],
           "sequentialminus": [
            [
             0,
             "#0d0887"
            ],
            [
             0.1111111111111111,
             "#46039f"
            ],
            [
             0.2222222222222222,
             "#7201a8"
            ],
            [
             0.3333333333333333,
             "#9c179e"
            ],
            [
             0.4444444444444444,
             "#bd3786"
            ],
            [
             0.5555555555555556,
             "#d8576b"
            ],
            [
             0.6666666666666666,
             "#ed7953"
            ],
            [
             0.7777777777777778,
             "#fb9f3a"
            ],
            [
             0.8888888888888888,
             "#fdca26"
            ],
            [
             1,
             "#f0f921"
            ]
           ]
          },
          "colorway": [
           "#636efa",
           "#EF553B",
           "#00cc96",
           "#ab63fa",
           "#FFA15A",
           "#19d3f3",
           "#FF6692",
           "#B6E880",
           "#FF97FF",
           "#FECB52"
          ],
          "font": {
           "color": "#2a3f5f"
          },
          "geo": {
           "bgcolor": "white",
           "lakecolor": "white",
           "landcolor": "#E5ECF6",
           "showlakes": true,
           "showland": true,
           "subunitcolor": "white"
          },
          "hoverlabel": {
           "align": "left"
          },
          "hovermode": "closest",
          "mapbox": {
           "style": "light"
          },
          "paper_bgcolor": "white",
          "plot_bgcolor": "#E5ECF6",
          "polar": {
           "angularaxis": {
            "gridcolor": "white",
            "linecolor": "white",
            "ticks": ""
           },
           "bgcolor": "#E5ECF6",
           "radialaxis": {
            "gridcolor": "white",
            "linecolor": "white",
            "ticks": ""
           }
          },
          "scene": {
           "xaxis": {
            "backgroundcolor": "#E5ECF6",
            "gridcolor": "white",
            "gridwidth": 2,
            "linecolor": "white",
            "showbackground": true,
            "ticks": "",
            "zerolinecolor": "white"
           },
           "yaxis": {
            "backgroundcolor": "#E5ECF6",
            "gridcolor": "white",
            "gridwidth": 2,
            "linecolor": "white",
            "showbackground": true,
            "ticks": "",
            "zerolinecolor": "white"
           },
           "zaxis": {
            "backgroundcolor": "#E5ECF6",
            "gridcolor": "white",
            "gridwidth": 2,
            "linecolor": "white",
            "showbackground": true,
            "ticks": "",
            "zerolinecolor": "white"
           }
          },
          "shapedefaults": {
           "line": {
            "color": "#2a3f5f"
           }
          },
          "ternary": {
           "aaxis": {
            "gridcolor": "white",
            "linecolor": "white",
            "ticks": ""
           },
           "baxis": {
            "gridcolor": "white",
            "linecolor": "white",
            "ticks": ""
           },
           "bgcolor": "#E5ECF6",
           "caxis": {
            "gridcolor": "white",
            "linecolor": "white",
            "ticks": ""
           }
          },
          "title": {
           "x": 0.05
          },
          "xaxis": {
           "automargin": true,
           "gridcolor": "white",
           "linecolor": "white",
           "ticks": "",
           "title": {
            "standoff": 15
           },
           "zerolinecolor": "white",
           "zerolinewidth": 2
          },
          "yaxis": {
           "automargin": true,
           "gridcolor": "white",
           "linecolor": "white",
           "ticks": "",
           "title": {
            "standoff": 15
           },
           "zerolinecolor": "white",
           "zerolinewidth": 2
          }
         }
        },
        "title": {
         "font": {
          "color": "#001c40",
          "family": "Baskerville, Bold",
          "size": 40
         },
         "text": "What Genres Do I Enjoy?<br><sup>I've read more fiction than all other genres combined!"
        },
        "xaxis": {
         "anchor": "y",
         "domain": [
          0,
          0.63
         ],
         "gridcolor": "#cbcbcb",
         "linecolor": "black",
         "showgrid": false,
         "showline": true,
         "title": {},
         "zerolinewidth": 1
        },
        "yaxis": {
         "anchor": "x",
         "domain": [
          0,
          1
         ],
         "gridcolor": "#cbcbcb",
         "linecolor": "black",
         "showgrid": true,
         "showline": false,
         "showticklabels": true,
         "title": {},
         "zerolinewidth": 1
        },
        "yaxis2": {
         "gridcolor": "#cbcbcb",
         "linecolor": "black",
         "showgrid": true,
         "showline": false,
         "showticklabels": true,
         "zerolinewidth": 1
        }
       }
      },
      "text/html": [
       "<div>                            <div id=\"0e560822-246b-4282-9ad5-7214f57bf5cd\" class=\"plotly-graph-div\" style=\"height:600px; width:100%;\"></div>            <script type=\"text/javascript\">                require([\"plotly\"], function(Plotly) {                    window.PLOTLYENV=window.PLOTLYENV || {};                                    if (document.getElementById(\"0e560822-246b-4282-9ad5-7214f57bf5cd\")) {                    Plotly.newPlot(                        \"0e560822-246b-4282-9ad5-7214f57bf5cd\",                        [{\"hovertemplate\":\"\\u003cb\\u003e%{x}\\u003c\\u002fb\\u003e: %{y}\",\"marker\":{\"color\":\"#d27575\"},\"name\":\"\",\"x\":[\"Fiction\",\"Nonfiction\",\"Philosophy\",\"Science\",\"Psychology\"],\"y\":[125,12,6,6,1],\"type\":\"bar\",\"xaxis\":\"x\",\"yaxis\":\"y\"},{\"hole\":0.4,\"hovertemplate\":\"\\u003cb\\u003e%{label}\\u003c\\u002fb\\u003e: %{value}\",\"labels\":[\"Fiction\",\"Nonfiction\",\"Philosophy\",\"Science\",\"Psychology\"],\"marker\":{\"colors\":[\"#d27575\",\"#529b9c\",\"#eac392\",\"#9cba8f\",\"#675a55\",\"#d27575\",\"#529b9c\",\"#eac392\",\"#9cba8f\",\"#675a55\",\"#d27575\",\"#529b9c\",\"#eac392\",\"#9cba8f\",\"#675a55\",\"#d27575\",\"#529b9c\",\"#eac392\",\"#9cba8f\",\"#675a55\",\"#d27575\",\"#529b9c\",\"#eac392\",\"#9cba8f\",\"#675a55\",\"#d27575\",\"#529b9c\",\"#eac392\",\"#9cba8f\",\"#675a55\",\"#d27575\",\"#529b9c\",\"#eac392\",\"#9cba8f\",\"#675a55\",\"#d27575\",\"#529b9c\",\"#eac392\",\"#9cba8f\",\"#675a55\",\"#d27575\",\"#529b9c\",\"#eac392\",\"#9cba8f\",\"#675a55\",\"#d27575\",\"#529b9c\",\"#eac392\",\"#9cba8f\",\"#675a55\",\"#d27575\",\"#529b9c\",\"#eac392\",\"#9cba8f\",\"#675a55\",\"#d27575\",\"#529b9c\",\"#eac392\",\"#9cba8f\",\"#675a55\",\"#d27575\",\"#529b9c\",\"#eac392\",\"#9cba8f\",\"#675a55\",\"#d27575\",\"#529b9c\",\"#eac392\",\"#9cba8f\",\"#675a55\",\"#d27575\",\"#529b9c\",\"#eac392\",\"#9cba8f\",\"#675a55\",\"#d27575\",\"#529b9c\",\"#eac392\",\"#9cba8f\",\"#675a55\",\"#d27575\",\"#529b9c\",\"#eac392\",\"#9cba8f\",\"#675a55\",\"#d27575\",\"#529b9c\",\"#eac392\",\"#9cba8f\",\"#675a55\",\"#d27575\",\"#529b9c\",\"#eac392\",\"#9cba8f\",\"#675a55\",\"#d27575\",\"#529b9c\",\"#eac392\",\"#9cba8f\",\"#675a55\",\"#d27575\",\"#529b9c\",\"#eac392\",\"#9cba8f\",\"#675a55\",\"#d27575\",\"#529b9c\",\"#eac392\",\"#9cba8f\",\"#675a55\",\"#d27575\",\"#529b9c\",\"#eac392\",\"#9cba8f\",\"#675a55\",\"#d27575\",\"#529b9c\",\"#eac392\",\"#9cba8f\",\"#675a55\",\"#d27575\",\"#529b9c\",\"#eac392\",\"#9cba8f\",\"#675a55\",\"#d27575\",\"#529b9c\",\"#eac392\",\"#9cba8f\",\"#675a55\",\"#d27575\",\"#529b9c\",\"#eac392\",\"#9cba8f\",\"#675a55\",\"#d27575\",\"#529b9c\",\"#eac392\",\"#9cba8f\",\"#675a55\",\"#d27575\",\"#529b9c\",\"#eac392\",\"#9cba8f\",\"#675a55\",\"#d27575\",\"#529b9c\",\"#eac392\",\"#9cba8f\",\"#675a55\",\"#d27575\",\"#529b9c\",\"#eac392\",\"#9cba8f\",\"#675a55\",\"#d27575\",\"#529b9c\",\"#eac392\",\"#9cba8f\",\"#675a55\",\"#d27575\",\"#529b9c\",\"#eac392\",\"#9cba8f\",\"#675a55\",\"#d27575\",\"#529b9c\",\"#eac392\",\"#9cba8f\",\"#675a55\",\"#d27575\",\"#529b9c\",\"#eac392\",\"#9cba8f\",\"#675a55\",\"#d27575\",\"#529b9c\",\"#eac392\",\"#9cba8f\",\"#675a55\",\"#d27575\",\"#529b9c\",\"#eac392\",\"#9cba8f\",\"#675a55\",\"#d27575\",\"#529b9c\",\"#eac392\",\"#9cba8f\",\"#675a55\",\"#d27575\",\"#529b9c\",\"#eac392\",\"#9cba8f\",\"#675a55\",\"#d27575\",\"#529b9c\",\"#eac392\",\"#9cba8f\",\"#675a55\",\"#d27575\",\"#529b9c\",\"#eac392\",\"#9cba8f\",\"#675a55\",\"#d27575\",\"#529b9c\",\"#eac392\",\"#9cba8f\",\"#675a55\",\"#d27575\",\"#529b9c\",\"#eac392\",\"#9cba8f\",\"#675a55\",\"#d27575\",\"#529b9c\",\"#eac392\",\"#9cba8f\",\"#675a55\",\"#d27575\",\"#529b9c\",\"#eac392\",\"#9cba8f\",\"#675a55\",\"#d27575\",\"#529b9c\",\"#eac392\",\"#9cba8f\",\"#675a55\",\"#d27575\",\"#529b9c\",\"#eac392\",\"#9cba8f\",\"#675a55\",\"#d27575\",\"#529b9c\",\"#eac392\",\"#9cba8f\",\"#675a55\",\"#d27575\",\"#529b9c\",\"#eac392\",\"#9cba8f\",\"#675a55\",\"#d27575\",\"#529b9c\",\"#eac392\",\"#9cba8f\",\"#675a55\",\"#d27575\",\"#529b9c\",\"#eac392\",\"#9cba8f\",\"#675a55\",\"#d27575\",\"#529b9c\",\"#eac392\",\"#9cba8f\",\"#675a55\",\"#d27575\",\"#529b9c\",\"#eac392\",\"#9cba8f\",\"#675a55\",\"#d27575\",\"#529b9c\",\"#eac392\",\"#9cba8f\",\"#675a55\",\"#d27575\",\"#529b9c\",\"#eac392\",\"#9cba8f\",\"#675a55\",\"#d27575\",\"#529b9c\",\"#eac392\",\"#9cba8f\",\"#675a55\",\"#d27575\",\"#529b9c\",\"#eac392\",\"#9cba8f\",\"#675a55\",\"#d27575\",\"#529b9c\",\"#eac392\",\"#9cba8f\",\"#675a55\",\"#d27575\",\"#529b9c\",\"#eac392\",\"#9cba8f\",\"#675a55\",\"#d27575\",\"#529b9c\",\"#eac392\",\"#9cba8f\",\"#675a55\",\"#d27575\",\"#529b9c\",\"#eac392\",\"#9cba8f\",\"#675a55\",\"#d27575\",\"#529b9c\",\"#eac392\",\"#9cba8f\",\"#675a55\",\"#d27575\",\"#529b9c\",\"#eac392\",\"#9cba8f\",\"#675a55\",\"#d27575\",\"#529b9c\",\"#eac392\",\"#9cba8f\",\"#675a55\",\"#d27575\",\"#529b9c\",\"#eac392\",\"#9cba8f\",\"#675a55\",\"#d27575\",\"#529b9c\",\"#eac392\",\"#9cba8f\",\"#675a55\",\"#d27575\",\"#529b9c\",\"#eac392\",\"#9cba8f\",\"#675a55\",\"#d27575\",\"#529b9c\",\"#eac392\",\"#9cba8f\",\"#675a55\",\"#d27575\",\"#529b9c\",\"#eac392\",\"#9cba8f\",\"#675a55\",\"#d27575\",\"#529b9c\",\"#eac392\",\"#9cba8f\",\"#675a55\",\"#d27575\",\"#529b9c\",\"#eac392\",\"#9cba8f\",\"#675a55\",\"#d27575\",\"#529b9c\",\"#eac392\",\"#9cba8f\",\"#675a55\",\"#d27575\",\"#529b9c\",\"#eac392\",\"#9cba8f\",\"#675a55\",\"#d27575\",\"#529b9c\",\"#eac392\",\"#9cba8f\",\"#675a55\",\"#d27575\",\"#529b9c\",\"#eac392\",\"#9cba8f\",\"#675a55\",\"#d27575\",\"#529b9c\",\"#eac392\",\"#9cba8f\",\"#675a55\",\"#d27575\",\"#529b9c\",\"#eac392\",\"#9cba8f\",\"#675a55\",\"#d27575\",\"#529b9c\",\"#eac392\",\"#9cba8f\",\"#675a55\",\"#d27575\",\"#529b9c\",\"#eac392\",\"#9cba8f\",\"#675a55\",\"#d27575\",\"#529b9c\",\"#eac392\",\"#9cba8f\",\"#675a55\",\"#d27575\",\"#529b9c\",\"#eac392\",\"#9cba8f\",\"#675a55\",\"#d27575\",\"#529b9c\",\"#eac392\",\"#9cba8f\",\"#675a55\",\"#d27575\",\"#529b9c\",\"#eac392\",\"#9cba8f\",\"#675a55\",\"#d27575\",\"#529b9c\",\"#eac392\",\"#9cba8f\",\"#675a55\",\"#d27575\",\"#529b9c\",\"#eac392\",\"#9cba8f\",\"#675a55\",\"#d27575\",\"#529b9c\",\"#eac392\",\"#9cba8f\",\"#675a55\",\"#d27575\",\"#529b9c\",\"#eac392\",\"#9cba8f\",\"#675a55\",\"#d27575\",\"#529b9c\",\"#eac392\",\"#9cba8f\",\"#675a55\",\"#d27575\",\"#529b9c\",\"#eac392\",\"#9cba8f\",\"#675a55\",\"#d27575\",\"#529b9c\",\"#eac392\",\"#9cba8f\",\"#675a55\",\"#d27575\",\"#529b9c\",\"#eac392\",\"#9cba8f\",\"#675a55\",\"#d27575\",\"#529b9c\",\"#eac392\",\"#9cba8f\",\"#675a55\",\"#d27575\",\"#529b9c\",\"#eac392\",\"#9cba8f\",\"#675a55\",\"#d27575\",\"#529b9c\",\"#eac392\",\"#9cba8f\",\"#675a55\",\"#d27575\",\"#529b9c\",\"#eac392\",\"#9cba8f\",\"#675a55\",\"#d27575\",\"#529b9c\",\"#eac392\",\"#9cba8f\",\"#675a55\",\"#d27575\",\"#529b9c\",\"#eac392\",\"#9cba8f\",\"#675a55\",\"#d27575\",\"#529b9c\",\"#eac392\",\"#9cba8f\",\"#675a55\",\"#d27575\",\"#529b9c\",\"#eac392\",\"#9cba8f\",\"#675a55\",\"#d27575\",\"#529b9c\",\"#eac392\",\"#9cba8f\",\"#675a55\",\"#d27575\",\"#529b9c\",\"#eac392\",\"#9cba8f\",\"#675a55\",\"#d27575\",\"#529b9c\",\"#eac392\",\"#9cba8f\",\"#675a55\",\"#d27575\",\"#529b9c\",\"#eac392\",\"#9cba8f\",\"#675a55\",\"#d27575\",\"#529b9c\",\"#eac392\",\"#9cba8f\",\"#675a55\",\"#d27575\",\"#529b9c\",\"#eac392\",\"#9cba8f\",\"#675a55\",\"#d27575\",\"#529b9c\",\"#eac392\",\"#9cba8f\",\"#675a55\",\"#d27575\",\"#529b9c\",\"#eac392\",\"#9cba8f\",\"#675a55\",\"#d27575\",\"#529b9c\",\"#eac392\",\"#9cba8f\",\"#675a55\",\"#d27575\",\"#529b9c\",\"#eac392\",\"#9cba8f\",\"#675a55\",\"#d27575\",\"#529b9c\",\"#eac392\",\"#9cba8f\",\"#675a55\",\"#d27575\",\"#529b9c\",\"#eac392\",\"#9cba8f\",\"#675a55\",\"#d27575\",\"#529b9c\",\"#eac392\",\"#9cba8f\",\"#675a55\",\"#d27575\",\"#529b9c\",\"#eac392\",\"#9cba8f\",\"#675a55\",\"#d27575\",\"#529b9c\",\"#eac392\",\"#9cba8f\",\"#675a55\",\"#d27575\",\"#529b9c\",\"#eac392\",\"#9cba8f\",\"#675a55\",\"#d27575\",\"#529b9c\",\"#eac392\",\"#9cba8f\",\"#675a55\",\"#d27575\",\"#529b9c\",\"#eac392\",\"#9cba8f\",\"#675a55\",\"#d27575\",\"#529b9c\",\"#eac392\",\"#9cba8f\",\"#675a55\",\"#d27575\",\"#529b9c\",\"#eac392\",\"#9cba8f\",\"#675a55\",\"#d27575\",\"#529b9c\",\"#eac392\",\"#9cba8f\",\"#675a55\",\"#d27575\",\"#529b9c\",\"#eac392\",\"#9cba8f\",\"#675a55\",\"#d27575\",\"#529b9c\",\"#eac392\",\"#9cba8f\",\"#675a55\",\"#d27575\",\"#529b9c\",\"#eac392\",\"#9cba8f\",\"#675a55\",\"#d27575\",\"#529b9c\",\"#eac392\",\"#9cba8f\",\"#675a55\",\"#d27575\",\"#529b9c\",\"#eac392\",\"#9cba8f\",\"#675a55\",\"#d27575\",\"#529b9c\",\"#eac392\",\"#9cba8f\",\"#675a55\",\"#d27575\",\"#529b9c\",\"#eac392\",\"#9cba8f\",\"#675a55\",\"#d27575\",\"#529b9c\",\"#eac392\",\"#9cba8f\",\"#675a55\",\"#d27575\",\"#529b9c\",\"#eac392\",\"#9cba8f\",\"#675a55\",\"#d27575\",\"#529b9c\",\"#eac392\",\"#9cba8f\",\"#675a55\",\"#d27575\",\"#529b9c\",\"#eac392\",\"#9cba8f\",\"#675a55\",\"#d27575\",\"#529b9c\",\"#eac392\",\"#9cba8f\",\"#675a55\",\"#d27575\",\"#529b9c\",\"#eac392\",\"#9cba8f\",\"#675a55\",\"#d27575\",\"#529b9c\",\"#eac392\",\"#9cba8f\",\"#675a55\",\"#d27575\",\"#529b9c\",\"#eac392\",\"#9cba8f\",\"#675a55\",\"#d27575\",\"#529b9c\",\"#eac392\",\"#9cba8f\",\"#675a55\",\"#d27575\",\"#529b9c\",\"#eac392\",\"#9cba8f\",\"#675a55\",\"#d27575\",\"#529b9c\",\"#eac392\",\"#9cba8f\",\"#675a55\",\"#d27575\",\"#529b9c\",\"#eac392\",\"#9cba8f\",\"#675a55\",\"#d27575\",\"#529b9c\",\"#eac392\",\"#9cba8f\",\"#675a55\",\"#d27575\",\"#529b9c\",\"#eac392\",\"#9cba8f\",\"#675a55\",\"#d27575\",\"#529b9c\",\"#eac392\",\"#9cba8f\",\"#675a55\",\"#d27575\",\"#529b9c\",\"#eac392\",\"#9cba8f\",\"#675a55\",\"#d27575\",\"#529b9c\",\"#eac392\",\"#9cba8f\",\"#675a55\",\"#d27575\",\"#529b9c\",\"#eac392\",\"#9cba8f\",\"#675a55\",\"#d27575\",\"#529b9c\",\"#eac392\",\"#9cba8f\",\"#675a55\",\"#d27575\",\"#529b9c\",\"#eac392\",\"#9cba8f\",\"#675a55\",\"#d27575\",\"#529b9c\",\"#eac392\",\"#9cba8f\",\"#675a55\",\"#d27575\",\"#529b9c\",\"#eac392\",\"#9cba8f\",\"#675a55\",\"#d27575\",\"#529b9c\",\"#eac392\",\"#9cba8f\",\"#675a55\"]},\"name\":\"\",\"values\":[125,12,6,6,1],\"type\":\"pie\",\"domain\":{\"x\":[0.73,1.0],\"y\":[0.0,1.0]}}],                        {\"template\":{\"data\":{\"histogram2dcontour\":[{\"type\":\"histogram2dcontour\",\"colorbar\":{\"outlinewidth\":0,\"ticks\":\"\"},\"colorscale\":[[0.0,\"#0d0887\"],[0.1111111111111111,\"#46039f\"],[0.2222222222222222,\"#7201a8\"],[0.3333333333333333,\"#9c179e\"],[0.4444444444444444,\"#bd3786\"],[0.5555555555555556,\"#d8576b\"],[0.6666666666666666,\"#ed7953\"],[0.7777777777777778,\"#fb9f3a\"],[0.8888888888888888,\"#fdca26\"],[1.0,\"#f0f921\"]]}],\"choropleth\":[{\"type\":\"choropleth\",\"colorbar\":{\"outlinewidth\":0,\"ticks\":\"\"}}],\"histogram2d\":[{\"type\":\"histogram2d\",\"colorbar\":{\"outlinewidth\":0,\"ticks\":\"\"},\"colorscale\":[[0.0,\"#0d0887\"],[0.1111111111111111,\"#46039f\"],[0.2222222222222222,\"#7201a8\"],[0.3333333333333333,\"#9c179e\"],[0.4444444444444444,\"#bd3786\"],[0.5555555555555556,\"#d8576b\"],[0.6666666666666666,\"#ed7953\"],[0.7777777777777778,\"#fb9f3a\"],[0.8888888888888888,\"#fdca26\"],[1.0,\"#f0f921\"]]}],\"heatmap\":[{\"type\":\"heatmap\",\"colorbar\":{\"outlinewidth\":0,\"ticks\":\"\"},\"colorscale\":[[0.0,\"#0d0887\"],[0.1111111111111111,\"#46039f\"],[0.2222222222222222,\"#7201a8\"],[0.3333333333333333,\"#9c179e\"],[0.4444444444444444,\"#bd3786\"],[0.5555555555555556,\"#d8576b\"],[0.6666666666666666,\"#ed7953\"],[0.7777777777777778,\"#fb9f3a\"],[0.8888888888888888,\"#fdca26\"],[1.0,\"#f0f921\"]]}],\"heatmapgl\":[{\"type\":\"heatmapgl\",\"colorbar\":{\"outlinewidth\":0,\"ticks\":\"\"},\"colorscale\":[[0.0,\"#0d0887\"],[0.1111111111111111,\"#46039f\"],[0.2222222222222222,\"#7201a8\"],[0.3333333333333333,\"#9c179e\"],[0.4444444444444444,\"#bd3786\"],[0.5555555555555556,\"#d8576b\"],[0.6666666666666666,\"#ed7953\"],[0.7777777777777778,\"#fb9f3a\"],[0.8888888888888888,\"#fdca26\"],[1.0,\"#f0f921\"]]}],\"contourcarpet\":[{\"type\":\"contourcarpet\",\"colorbar\":{\"outlinewidth\":0,\"ticks\":\"\"}}],\"contour\":[{\"type\":\"contour\",\"colorbar\":{\"outlinewidth\":0,\"ticks\":\"\"},\"colorscale\":[[0.0,\"#0d0887\"],[0.1111111111111111,\"#46039f\"],[0.2222222222222222,\"#7201a8\"],[0.3333333333333333,\"#9c179e\"],[0.4444444444444444,\"#bd3786\"],[0.5555555555555556,\"#d8576b\"],[0.6666666666666666,\"#ed7953\"],[0.7777777777777778,\"#fb9f3a\"],[0.8888888888888888,\"#fdca26\"],[1.0,\"#f0f921\"]]}],\"surface\":[{\"type\":\"surface\",\"colorbar\":{\"outlinewidth\":0,\"ticks\":\"\"},\"colorscale\":[[0.0,\"#0d0887\"],[0.1111111111111111,\"#46039f\"],[0.2222222222222222,\"#7201a8\"],[0.3333333333333333,\"#9c179e\"],[0.4444444444444444,\"#bd3786\"],[0.5555555555555556,\"#d8576b\"],[0.6666666666666666,\"#ed7953\"],[0.7777777777777778,\"#fb9f3a\"],[0.8888888888888888,\"#fdca26\"],[1.0,\"#f0f921\"]]}],\"mesh3d\":[{\"type\":\"mesh3d\",\"colorbar\":{\"outlinewidth\":0,\"ticks\":\"\"}}],\"scatter\":[{\"fillpattern\":{\"fillmode\":\"overlay\",\"size\":10,\"solidity\":0.2},\"type\":\"scatter\"}],\"parcoords\":[{\"type\":\"parcoords\",\"line\":{\"colorbar\":{\"outlinewidth\":0,\"ticks\":\"\"}}}],\"scatterpolargl\":[{\"type\":\"scatterpolargl\",\"marker\":{\"colorbar\":{\"outlinewidth\":0,\"ticks\":\"\"}}}],\"bar\":[{\"error_x\":{\"color\":\"#2a3f5f\"},\"error_y\":{\"color\":\"#2a3f5f\"},\"marker\":{\"line\":{\"color\":\"#E5ECF6\",\"width\":0.5},\"pattern\":{\"fillmode\":\"overlay\",\"size\":10,\"solidity\":0.2}},\"type\":\"bar\"}],\"scattergeo\":[{\"type\":\"scattergeo\",\"marker\":{\"colorbar\":{\"outlinewidth\":0,\"ticks\":\"\"}}}],\"scatterpolar\":[{\"type\":\"scatterpolar\",\"marker\":{\"colorbar\":{\"outlinewidth\":0,\"ticks\":\"\"}}}],\"histogram\":[{\"marker\":{\"pattern\":{\"fillmode\":\"overlay\",\"size\":10,\"solidity\":0.2}},\"type\":\"histogram\"}],\"scattergl\":[{\"type\":\"scattergl\",\"marker\":{\"colorbar\":{\"outlinewidth\":0,\"ticks\":\"\"}}}],\"scatter3d\":[{\"type\":\"scatter3d\",\"line\":{\"colorbar\":{\"outlinewidth\":0,\"ticks\":\"\"}},\"marker\":{\"colorbar\":{\"outlinewidth\":0,\"ticks\":\"\"}}}],\"scattermapbox\":[{\"type\":\"scattermapbox\",\"marker\":{\"colorbar\":{\"outlinewidth\":0,\"ticks\":\"\"}}}],\"scatterternary\":[{\"type\":\"scatterternary\",\"marker\":{\"colorbar\":{\"outlinewidth\":0,\"ticks\":\"\"}}}],\"scattercarpet\":[{\"type\":\"scattercarpet\",\"marker\":{\"colorbar\":{\"outlinewidth\":0,\"ticks\":\"\"}}}],\"carpet\":[{\"aaxis\":{\"endlinecolor\":\"#2a3f5f\",\"gridcolor\":\"white\",\"linecolor\":\"white\",\"minorgridcolor\":\"white\",\"startlinecolor\":\"#2a3f5f\"},\"baxis\":{\"endlinecolor\":\"#2a3f5f\",\"gridcolor\":\"white\",\"linecolor\":\"white\",\"minorgridcolor\":\"white\",\"startlinecolor\":\"#2a3f5f\"},\"type\":\"carpet\"}],\"table\":[{\"cells\":{\"fill\":{\"color\":\"#EBF0F8\"},\"line\":{\"color\":\"white\"}},\"header\":{\"fill\":{\"color\":\"#C8D4E3\"},\"line\":{\"color\":\"white\"}},\"type\":\"table\"}],\"barpolar\":[{\"marker\":{\"line\":{\"color\":\"#E5ECF6\",\"width\":0.5},\"pattern\":{\"fillmode\":\"overlay\",\"size\":10,\"solidity\":0.2}},\"type\":\"barpolar\"}],\"pie\":[{\"automargin\":true,\"type\":\"pie\"}]},\"layout\":{\"autotypenumbers\":\"strict\",\"colorway\":[\"#636efa\",\"#EF553B\",\"#00cc96\",\"#ab63fa\",\"#FFA15A\",\"#19d3f3\",\"#FF6692\",\"#B6E880\",\"#FF97FF\",\"#FECB52\"],\"font\":{\"color\":\"#2a3f5f\"},\"hovermode\":\"closest\",\"hoverlabel\":{\"align\":\"left\"},\"paper_bgcolor\":\"white\",\"plot_bgcolor\":\"#E5ECF6\",\"polar\":{\"bgcolor\":\"#E5ECF6\",\"angularaxis\":{\"gridcolor\":\"white\",\"linecolor\":\"white\",\"ticks\":\"\"},\"radialaxis\":{\"gridcolor\":\"white\",\"linecolor\":\"white\",\"ticks\":\"\"}},\"ternary\":{\"bgcolor\":\"#E5ECF6\",\"aaxis\":{\"gridcolor\":\"white\",\"linecolor\":\"white\",\"ticks\":\"\"},\"baxis\":{\"gridcolor\":\"white\",\"linecolor\":\"white\",\"ticks\":\"\"},\"caxis\":{\"gridcolor\":\"white\",\"linecolor\":\"white\",\"ticks\":\"\"}},\"coloraxis\":{\"colorbar\":{\"outlinewidth\":0,\"ticks\":\"\"}},\"colorscale\":{\"sequential\":[[0.0,\"#0d0887\"],[0.1111111111111111,\"#46039f\"],[0.2222222222222222,\"#7201a8\"],[0.3333333333333333,\"#9c179e\"],[0.4444444444444444,\"#bd3786\"],[0.5555555555555556,\"#d8576b\"],[0.6666666666666666,\"#ed7953\"],[0.7777777777777778,\"#fb9f3a\"],[0.8888888888888888,\"#fdca26\"],[1.0,\"#f0f921\"]],\"sequentialminus\":[[0.0,\"#0d0887\"],[0.1111111111111111,\"#46039f\"],[0.2222222222222222,\"#7201a8\"],[0.3333333333333333,\"#9c179e\"],[0.4444444444444444,\"#bd3786\"],[0.5555555555555556,\"#d8576b\"],[0.6666666666666666,\"#ed7953\"],[0.7777777777777778,\"#fb9f3a\"],[0.8888888888888888,\"#fdca26\"],[1.0,\"#f0f921\"]],\"diverging\":[[0,\"#8e0152\"],[0.1,\"#c51b7d\"],[0.2,\"#de77ae\"],[0.3,\"#f1b6da\"],[0.4,\"#fde0ef\"],[0.5,\"#f7f7f7\"],[0.6,\"#e6f5d0\"],[0.7,\"#b8e186\"],[0.8,\"#7fbc41\"],[0.9,\"#4d9221\"],[1,\"#276419\"]]},\"xaxis\":{\"gridcolor\":\"white\",\"linecolor\":\"white\",\"ticks\":\"\",\"title\":{\"standoff\":15},\"zerolinecolor\":\"white\",\"automargin\":true,\"zerolinewidth\":2},\"yaxis\":{\"gridcolor\":\"white\",\"linecolor\":\"white\",\"ticks\":\"\",\"title\":{\"standoff\":15},\"zerolinecolor\":\"white\",\"automargin\":true,\"zerolinewidth\":2},\"scene\":{\"xaxis\":{\"backgroundcolor\":\"#E5ECF6\",\"gridcolor\":\"white\",\"linecolor\":\"white\",\"showbackground\":true,\"ticks\":\"\",\"zerolinecolor\":\"white\",\"gridwidth\":2},\"yaxis\":{\"backgroundcolor\":\"#E5ECF6\",\"gridcolor\":\"white\",\"linecolor\":\"white\",\"showbackground\":true,\"ticks\":\"\",\"zerolinecolor\":\"white\",\"gridwidth\":2},\"zaxis\":{\"backgroundcolor\":\"#E5ECF6\",\"gridcolor\":\"white\",\"linecolor\":\"white\",\"showbackground\":true,\"ticks\":\"\",\"zerolinecolor\":\"white\",\"gridwidth\":2}},\"shapedefaults\":{\"line\":{\"color\":\"#2a3f5f\"}},\"annotationdefaults\":{\"arrowcolor\":\"#2a3f5f\",\"arrowhead\":0,\"arrowwidth\":1},\"geo\":{\"bgcolor\":\"white\",\"landcolor\":\"#E5ECF6\",\"subunitcolor\":\"white\",\"showland\":true,\"showlakes\":true,\"lakecolor\":\"white\"},\"title\":{\"x\":0.05},\"mapbox\":{\"style\":\"light\"}}},\"xaxis\":{\"anchor\":\"y\",\"domain\":[0.0,0.63],\"title\":{},\"showgrid\":false,\"showline\":true,\"linecolor\":\"black\",\"gridcolor\":\"#cbcbcb\",\"zerolinewidth\":1},\"yaxis\":{\"anchor\":\"x\",\"domain\":[0.0,1.0],\"title\":{},\"showgrid\":true,\"showline\":false,\"showticklabels\":true,\"linecolor\":\"black\",\"gridcolor\":\"#cbcbcb\",\"zerolinewidth\":1},\"annotations\":[{\"ax\":0,\"ay\":0,\"font\":{\"size\":30},\"text\":\"\\u003csup\\u003eTotal: 150\",\"x\":0.866,\"xref\":\"paper\",\"y\":0.48,\"yref\":\"paper\"}],\"title\":{\"font\":{\"size\":40,\"family\":\"Baskerville, Bold\",\"color\":\"#001c40\"},\"text\":\"What Genres Do I Enjoy?\\u003cbr\\u003e\\u003csup\\u003eI've read more fiction than all other genres combined!\"},\"margin\":{\"l\":85,\"r\":85,\"t\":120,\"b\":45},\"yaxis2\":{\"showgrid\":true,\"showline\":false,\"showticklabels\":true,\"linecolor\":\"black\",\"gridcolor\":\"#cbcbcb\",\"zerolinewidth\":1},\"font\":{\"family\":\"Baskerville\",\"color\":\"#001c40\",\"size\":14},\"hoverlabel\":{\"font\":{\"size\":16}},\"height\":600,\"showlegend\":false,\"barmode\":\"group\",\"plot_bgcolor\":\"#f0f0f0\",\"paper_bgcolor\":\"#f0f0f0\"},                        {\"modeBarButtonsToRemove\": [\"zoomIn\", \"zoomOut\", \"resetScale2d\", \"select2d\", \"lasso2d\"], \"responsive\": true, \"displaylogo\": false, \"toImageButtonOptions\": {\"format\": \"png\", \"filename\": \"reading-habits\", \"scale\": 1}}                    ).then(function(){\n",
       "                            \n",
       "var gd = document.getElementById('0e560822-246b-4282-9ad5-7214f57bf5cd');\n",
       "var x = new MutationObserver(function (mutations, observer) {{\n",
       "        var display = window.getComputedStyle(gd).display;\n",
       "        if (!display || display === 'none') {{\n",
       "            console.log([gd, 'removed!']);\n",
       "            Plotly.purge(gd);\n",
       "            observer.disconnect();\n",
       "        }}\n",
       "}});\n",
       "\n",
       "// Listen for the removal of the full notebook cells\n",
       "var notebookContainer = gd.closest('#notebook-container');\n",
       "if (notebookContainer) {{\n",
       "    x.observe(notebookContainer, {childList: true});\n",
       "}}\n",
       "\n",
       "// Listen for the clearing of the current output cell\n",
       "var outputEl = gd.closest('.output');\n",
       "if (outputEl) {{\n",
       "    x.observe(outputEl, {childList: true});\n",
       "}}\n",
       "\n",
       "                        })                };                });            </script>        </div>"
      ]
     },
     "metadata": {},
     "output_type": "display_data"
    }
   ],
   "source": [
    "title = \"What Genres Do I Enjoy?\"\n",
    "sub = f\"I've read more fiction than all other genres combined!\"\n",
    "plot.gen_bar_pie_graph(df, 'Genre', title, sub, color=\"#d27575\")"
   ]
  },
  {
   "cell_type": "code",
   "execution_count": 32,
   "id": "730f9c73-60b9-481c-b713-49ec6e4548d1",
   "metadata": {
    "execution": {
     "iopub.execute_input": "2024-07-27T23:38:50.259448Z",
     "iopub.status.busy": "2024-07-27T23:38:50.258455Z",
     "iopub.status.idle": "2024-07-27T23:38:50.289405Z",
     "shell.execute_reply": "2024-07-27T23:38:50.289405Z",
     "shell.execute_reply.started": "2024-07-27T23:38:50.259448Z"
    },
    "tags": []
   },
   "outputs": [
    {
     "data": {
      "application/vnd.plotly.v1+json": {
       "config": {
        "displaylogo": false,
        "modeBarButtonsToRemove": [
         "zoomIn",
         "zoomOut",
         "resetScale2d",
         "select2d",
         "lasso2d"
        ],
        "plotlyServerURL": "https://plot.ly",
        "responsive": true,
        "toImageButtonOptions": {
         "filename": "reading-habits",
         "format": "png",
         "scale": 1
        }
       },
       "data": [
        {
         "hovertemplate": "<b>%{x}</b>: %{y}",
         "marker": {
          "color": "#529b9c"
         },
         "name": "",
         "type": "bar",
         "x": [
          "Warhammer 40k",
          "Historical Fiction",
          "Nonfiction",
          "Classics",
          "Fantasy",
          "Self Help",
          "Cultural",
          "Science Fiction",
          "History",
          "Contemporary"
         ],
         "xaxis": "x",
         "y": [
          80,
          13,
          10,
          9,
          6,
          6,
          5,
          4,
          3,
          2
         ],
         "yaxis": "y"
        },
        {
         "domain": {
          "x": [
           0.73,
           1
          ],
          "y": [
           0,
           1
          ]
         },
         "hole": 0.4,
         "hovertemplate": "<b>%{label}</b>: %{value}",
         "labels": [
          "Warhammer 40k",
          "Historical Fiction",
          "Nonfiction",
          "Classics",
          "Fantasy",
          "Self Help",
          "Cultural",
          "Science Fiction",
          "History",
          "Contemporary"
         ],
         "marker": {
          "colors": [
           "#d27575",
           "#529b9c",
           "#eac392",
           "#9cba8f",
           "#675a55",
           "#d27575",
           "#529b9c",
           "#eac392",
           "#9cba8f",
           "#675a55",
           "#d27575",
           "#529b9c",
           "#eac392",
           "#9cba8f",
           "#675a55",
           "#d27575",
           "#529b9c",
           "#eac392",
           "#9cba8f",
           "#675a55",
           "#d27575",
           "#529b9c",
           "#eac392",
           "#9cba8f",
           "#675a55",
           "#d27575",
           "#529b9c",
           "#eac392",
           "#9cba8f",
           "#675a55",
           "#d27575",
           "#529b9c",
           "#eac392",
           "#9cba8f",
           "#675a55",
           "#d27575",
           "#529b9c",
           "#eac392",
           "#9cba8f",
           "#675a55",
           "#d27575",
           "#529b9c",
           "#eac392",
           "#9cba8f",
           "#675a55",
           "#d27575",
           "#529b9c",
           "#eac392",
           "#9cba8f",
           "#675a55",
           "#d27575",
           "#529b9c",
           "#eac392",
           "#9cba8f",
           "#675a55",
           "#d27575",
           "#529b9c",
           "#eac392",
           "#9cba8f",
           "#675a55",
           "#d27575",
           "#529b9c",
           "#eac392",
           "#9cba8f",
           "#675a55",
           "#d27575",
           "#529b9c",
           "#eac392",
           "#9cba8f",
           "#675a55",
           "#d27575",
           "#529b9c",
           "#eac392",
           "#9cba8f",
           "#675a55",
           "#d27575",
           "#529b9c",
           "#eac392",
           "#9cba8f",
           "#675a55",
           "#d27575",
           "#529b9c",
           "#eac392",
           "#9cba8f",
           "#675a55",
           "#d27575",
           "#529b9c",
           "#eac392",
           "#9cba8f",
           "#675a55",
           "#d27575",
           "#529b9c",
           "#eac392",
           "#9cba8f",
           "#675a55",
           "#d27575",
           "#529b9c",
           "#eac392",
           "#9cba8f",
           "#675a55",
           "#d27575",
           "#529b9c",
           "#eac392",
           "#9cba8f",
           "#675a55",
           "#d27575",
           "#529b9c",
           "#eac392",
           "#9cba8f",
           "#675a55",
           "#d27575",
           "#529b9c",
           "#eac392",
           "#9cba8f",
           "#675a55",
           "#d27575",
           "#529b9c",
           "#eac392",
           "#9cba8f",
           "#675a55",
           "#d27575",
           "#529b9c",
           "#eac392",
           "#9cba8f",
           "#675a55",
           "#d27575",
           "#529b9c",
           "#eac392",
           "#9cba8f",
           "#675a55",
           "#d27575",
           "#529b9c",
           "#eac392",
           "#9cba8f",
           "#675a55",
           "#d27575",
           "#529b9c",
           "#eac392",
           "#9cba8f",
           "#675a55",
           "#d27575",
           "#529b9c",
           "#eac392",
           "#9cba8f",
           "#675a55",
           "#d27575",
           "#529b9c",
           "#eac392",
           "#9cba8f",
           "#675a55",
           "#d27575",
           "#529b9c",
           "#eac392",
           "#9cba8f",
           "#675a55",
           "#d27575",
           "#529b9c",
           "#eac392",
           "#9cba8f",
           "#675a55",
           "#d27575",
           "#529b9c",
           "#eac392",
           "#9cba8f",
           "#675a55",
           "#d27575",
           "#529b9c",
           "#eac392",
           "#9cba8f",
           "#675a55",
           "#d27575",
           "#529b9c",
           "#eac392",
           "#9cba8f",
           "#675a55",
           "#d27575",
           "#529b9c",
           "#eac392",
           "#9cba8f",
           "#675a55",
           "#d27575",
           "#529b9c",
           "#eac392",
           "#9cba8f",
           "#675a55",
           "#d27575",
           "#529b9c",
           "#eac392",
           "#9cba8f",
           "#675a55",
           "#d27575",
           "#529b9c",
           "#eac392",
           "#9cba8f",
           "#675a55",
           "#d27575",
           "#529b9c",
           "#eac392",
           "#9cba8f",
           "#675a55",
           "#d27575",
           "#529b9c",
           "#eac392",
           "#9cba8f",
           "#675a55",
           "#d27575",
           "#529b9c",
           "#eac392",
           "#9cba8f",
           "#675a55",
           "#d27575",
           "#529b9c",
           "#eac392",
           "#9cba8f",
           "#675a55",
           "#d27575",
           "#529b9c",
           "#eac392",
           "#9cba8f",
           "#675a55",
           "#d27575",
           "#529b9c",
           "#eac392",
           "#9cba8f",
           "#675a55",
           "#d27575",
           "#529b9c",
           "#eac392",
           "#9cba8f",
           "#675a55",
           "#d27575",
           "#529b9c",
           "#eac392",
           "#9cba8f",
           "#675a55",
           "#d27575",
           "#529b9c",
           "#eac392",
           "#9cba8f",
           "#675a55",
           "#d27575",
           "#529b9c",
           "#eac392",
           "#9cba8f",
           "#675a55",
           "#d27575",
           "#529b9c",
           "#eac392",
           "#9cba8f",
           "#675a55",
           "#d27575",
           "#529b9c",
           "#eac392",
           "#9cba8f",
           "#675a55",
           "#d27575",
           "#529b9c",
           "#eac392",
           "#9cba8f",
           "#675a55",
           "#d27575",
           "#529b9c",
           "#eac392",
           "#9cba8f",
           "#675a55",
           "#d27575",
           "#529b9c",
           "#eac392",
           "#9cba8f",
           "#675a55",
           "#d27575",
           "#529b9c",
           "#eac392",
           "#9cba8f",
           "#675a55",
           "#d27575",
           "#529b9c",
           "#eac392",
           "#9cba8f",
           "#675a55",
           "#d27575",
           "#529b9c",
           "#eac392",
           "#9cba8f",
           "#675a55",
           "#d27575",
           "#529b9c",
           "#eac392",
           "#9cba8f",
           "#675a55",
           "#d27575",
           "#529b9c",
           "#eac392",
           "#9cba8f",
           "#675a55",
           "#d27575",
           "#529b9c",
           "#eac392",
           "#9cba8f",
           "#675a55",
           "#d27575",
           "#529b9c",
           "#eac392",
           "#9cba8f",
           "#675a55",
           "#d27575",
           "#529b9c",
           "#eac392",
           "#9cba8f",
           "#675a55",
           "#d27575",
           "#529b9c",
           "#eac392",
           "#9cba8f",
           "#675a55",
           "#d27575",
           "#529b9c",
           "#eac392",
           "#9cba8f",
           "#675a55",
           "#d27575",
           "#529b9c",
           "#eac392",
           "#9cba8f",
           "#675a55",
           "#d27575",
           "#529b9c",
           "#eac392",
           "#9cba8f",
           "#675a55",
           "#d27575",
           "#529b9c",
           "#eac392",
           "#9cba8f",
           "#675a55",
           "#d27575",
           "#529b9c",
           "#eac392",
           "#9cba8f",
           "#675a55",
           "#d27575",
           "#529b9c",
           "#eac392",
           "#9cba8f",
           "#675a55",
           "#d27575",
           "#529b9c",
           "#eac392",
           "#9cba8f",
           "#675a55",
           "#d27575",
           "#529b9c",
           "#eac392",
           "#9cba8f",
           "#675a55",
           "#d27575",
           "#529b9c",
           "#eac392",
           "#9cba8f",
           "#675a55",
           "#d27575",
           "#529b9c",
           "#eac392",
           "#9cba8f",
           "#675a55",
           "#d27575",
           "#529b9c",
           "#eac392",
           "#9cba8f",
           "#675a55",
           "#d27575",
           "#529b9c",
           "#eac392",
           "#9cba8f",
           "#675a55",
           "#d27575",
           "#529b9c",
           "#eac392",
           "#9cba8f",
           "#675a55",
           "#d27575",
           "#529b9c",
           "#eac392",
           "#9cba8f",
           "#675a55",
           "#d27575",
           "#529b9c",
           "#eac392",
           "#9cba8f",
           "#675a55",
           "#d27575",
           "#529b9c",
           "#eac392",
           "#9cba8f",
           "#675a55",
           "#d27575",
           "#529b9c",
           "#eac392",
           "#9cba8f",
           "#675a55",
           "#d27575",
           "#529b9c",
           "#eac392",
           "#9cba8f",
           "#675a55",
           "#d27575",
           "#529b9c",
           "#eac392",
           "#9cba8f",
           "#675a55",
           "#d27575",
           "#529b9c",
           "#eac392",
           "#9cba8f",
           "#675a55",
           "#d27575",
           "#529b9c",
           "#eac392",
           "#9cba8f",
           "#675a55",
           "#d27575",
           "#529b9c",
           "#eac392",
           "#9cba8f",
           "#675a55",
           "#d27575",
           "#529b9c",
           "#eac392",
           "#9cba8f",
           "#675a55",
           "#d27575",
           "#529b9c",
           "#eac392",
           "#9cba8f",
           "#675a55",
           "#d27575",
           "#529b9c",
           "#eac392",
           "#9cba8f",
           "#675a55",
           "#d27575",
           "#529b9c",
           "#eac392",
           "#9cba8f",
           "#675a55",
           "#d27575",
           "#529b9c",
           "#eac392",
           "#9cba8f",
           "#675a55",
           "#d27575",
           "#529b9c",
           "#eac392",
           "#9cba8f",
           "#675a55",
           "#d27575",
           "#529b9c",
           "#eac392",
           "#9cba8f",
           "#675a55",
           "#d27575",
           "#529b9c",
           "#eac392",
           "#9cba8f",
           "#675a55",
           "#d27575",
           "#529b9c",
           "#eac392",
           "#9cba8f",
           "#675a55",
           "#d27575",
           "#529b9c",
           "#eac392",
           "#9cba8f",
           "#675a55",
           "#d27575",
           "#529b9c",
           "#eac392",
           "#9cba8f",
           "#675a55",
           "#d27575",
           "#529b9c",
           "#eac392",
           "#9cba8f",
           "#675a55",
           "#d27575",
           "#529b9c",
           "#eac392",
           "#9cba8f",
           "#675a55",
           "#d27575",
           "#529b9c",
           "#eac392",
           "#9cba8f",
           "#675a55",
           "#d27575",
           "#529b9c",
           "#eac392",
           "#9cba8f",
           "#675a55",
           "#d27575",
           "#529b9c",
           "#eac392",
           "#9cba8f",
           "#675a55",
           "#d27575",
           "#529b9c",
           "#eac392",
           "#9cba8f",
           "#675a55",
           "#d27575",
           "#529b9c",
           "#eac392",
           "#9cba8f",
           "#675a55",
           "#d27575",
           "#529b9c",
           "#eac392",
           "#9cba8f",
           "#675a55",
           "#d27575",
           "#529b9c",
           "#eac392",
           "#9cba8f",
           "#675a55",
           "#d27575",
           "#529b9c",
           "#eac392",
           "#9cba8f",
           "#675a55",
           "#d27575",
           "#529b9c",
           "#eac392",
           "#9cba8f",
           "#675a55",
           "#d27575",
           "#529b9c",
           "#eac392",
           "#9cba8f",
           "#675a55",
           "#d27575",
           "#529b9c",
           "#eac392",
           "#9cba8f",
           "#675a55",
           "#d27575",
           "#529b9c",
           "#eac392",
           "#9cba8f",
           "#675a55",
           "#d27575",
           "#529b9c",
           "#eac392",
           "#9cba8f",
           "#675a55",
           "#d27575",
           "#529b9c",
           "#eac392",
           "#9cba8f",
           "#675a55",
           "#d27575",
           "#529b9c",
           "#eac392",
           "#9cba8f",
           "#675a55",
           "#d27575",
           "#529b9c",
           "#eac392",
           "#9cba8f",
           "#675a55",
           "#d27575",
           "#529b9c",
           "#eac392",
           "#9cba8f",
           "#675a55",
           "#d27575",
           "#529b9c",
           "#eac392",
           "#9cba8f",
           "#675a55",
           "#d27575",
           "#529b9c",
           "#eac392",
           "#9cba8f",
           "#675a55",
           "#d27575",
           "#529b9c",
           "#eac392",
           "#9cba8f",
           "#675a55",
           "#d27575",
           "#529b9c",
           "#eac392",
           "#9cba8f",
           "#675a55",
           "#d27575",
           "#529b9c",
           "#eac392",
           "#9cba8f",
           "#675a55",
           "#d27575",
           "#529b9c",
           "#eac392",
           "#9cba8f",
           "#675a55",
           "#d27575",
           "#529b9c",
           "#eac392",
           "#9cba8f",
           "#675a55",
           "#d27575",
           "#529b9c",
           "#eac392",
           "#9cba8f",
           "#675a55",
           "#d27575",
           "#529b9c",
           "#eac392",
           "#9cba8f",
           "#675a55",
           "#d27575",
           "#529b9c",
           "#eac392",
           "#9cba8f",
           "#675a55",
           "#d27575",
           "#529b9c",
           "#eac392",
           "#9cba8f",
           "#675a55",
           "#d27575",
           "#529b9c",
           "#eac392",
           "#9cba8f",
           "#675a55",
           "#d27575",
           "#529b9c",
           "#eac392",
           "#9cba8f",
           "#675a55",
           "#d27575",
           "#529b9c",
           "#eac392",
           "#9cba8f",
           "#675a55",
           "#d27575",
           "#529b9c",
           "#eac392",
           "#9cba8f",
           "#675a55",
           "#d27575",
           "#529b9c",
           "#eac392",
           "#9cba8f",
           "#675a55",
           "#d27575",
           "#529b9c",
           "#eac392",
           "#9cba8f",
           "#675a55",
           "#d27575",
           "#529b9c",
           "#eac392",
           "#9cba8f",
           "#675a55",
           "#d27575",
           "#529b9c",
           "#eac392",
           "#9cba8f",
           "#675a55",
           "#d27575",
           "#529b9c",
           "#eac392",
           "#9cba8f",
           "#675a55",
           "#d27575",
           "#529b9c",
           "#eac392",
           "#9cba8f",
           "#675a55",
           "#d27575",
           "#529b9c",
           "#eac392",
           "#9cba8f",
           "#675a55",
           "#d27575",
           "#529b9c",
           "#eac392",
           "#9cba8f",
           "#675a55",
           "#d27575",
           "#529b9c",
           "#eac392",
           "#9cba8f",
           "#675a55",
           "#d27575",
           "#529b9c",
           "#eac392",
           "#9cba8f",
           "#675a55",
           "#d27575",
           "#529b9c",
           "#eac392",
           "#9cba8f",
           "#675a55",
           "#d27575",
           "#529b9c",
           "#eac392",
           "#9cba8f",
           "#675a55",
           "#d27575",
           "#529b9c",
           "#eac392",
           "#9cba8f",
           "#675a55",
           "#d27575",
           "#529b9c",
           "#eac392",
           "#9cba8f",
           "#675a55",
           "#d27575",
           "#529b9c",
           "#eac392",
           "#9cba8f",
           "#675a55",
           "#d27575",
           "#529b9c",
           "#eac392",
           "#9cba8f",
           "#675a55",
           "#d27575",
           "#529b9c",
           "#eac392",
           "#9cba8f",
           "#675a55",
           "#d27575",
           "#529b9c",
           "#eac392",
           "#9cba8f",
           "#675a55",
           "#d27575",
           "#529b9c",
           "#eac392",
           "#9cba8f",
           "#675a55",
           "#d27575",
           "#529b9c",
           "#eac392",
           "#9cba8f",
           "#675a55"
          ]
         },
         "name": "",
         "type": "pie",
         "values": [
          80,
          13,
          10,
          9,
          6,
          6,
          5,
          4,
          3,
          2
         ]
        }
       ],
       "layout": {
        "annotations": [
         {
          "ax": 0,
          "ay": 0,
          "font": {
           "size": 30
          },
          "text": "<sup>Total: 138",
          "x": 0.866,
          "xref": "paper",
          "y": 0.48,
          "yref": "paper"
         }
        ],
        "barmode": "group",
        "font": {
         "color": "#001c40",
         "family": "Baskerville",
         "size": 14
        },
        "height": 600,
        "hoverlabel": {
         "font": {
          "size": 16
         }
        },
        "margin": {
         "b": 45,
         "l": 85,
         "r": 85,
         "t": 120
        },
        "paper_bgcolor": "#f0f0f0",
        "plot_bgcolor": "#f0f0f0",
        "showlegend": false,
        "template": {
         "data": {
          "bar": [
           {
            "error_x": {
             "color": "#2a3f5f"
            },
            "error_y": {
             "color": "#2a3f5f"
            },
            "marker": {
             "line": {
              "color": "#E5ECF6",
              "width": 0.5
             },
             "pattern": {
              "fillmode": "overlay",
              "size": 10,
              "solidity": 0.2
             }
            },
            "type": "bar"
           }
          ],
          "barpolar": [
           {
            "marker": {
             "line": {
              "color": "#E5ECF6",
              "width": 0.5
             },
             "pattern": {
              "fillmode": "overlay",
              "size": 10,
              "solidity": 0.2
             }
            },
            "type": "barpolar"
           }
          ],
          "carpet": [
           {
            "aaxis": {
             "endlinecolor": "#2a3f5f",
             "gridcolor": "white",
             "linecolor": "white",
             "minorgridcolor": "white",
             "startlinecolor": "#2a3f5f"
            },
            "baxis": {
             "endlinecolor": "#2a3f5f",
             "gridcolor": "white",
             "linecolor": "white",
             "minorgridcolor": "white",
             "startlinecolor": "#2a3f5f"
            },
            "type": "carpet"
           }
          ],
          "choropleth": [
           {
            "colorbar": {
             "outlinewidth": 0,
             "ticks": ""
            },
            "type": "choropleth"
           }
          ],
          "contour": [
           {
            "colorbar": {
             "outlinewidth": 0,
             "ticks": ""
            },
            "colorscale": [
             [
              0,
              "#0d0887"
             ],
             [
              0.1111111111111111,
              "#46039f"
             ],
             [
              0.2222222222222222,
              "#7201a8"
             ],
             [
              0.3333333333333333,
              "#9c179e"
             ],
             [
              0.4444444444444444,
              "#bd3786"
             ],
             [
              0.5555555555555556,
              "#d8576b"
             ],
             [
              0.6666666666666666,
              "#ed7953"
             ],
             [
              0.7777777777777778,
              "#fb9f3a"
             ],
             [
              0.8888888888888888,
              "#fdca26"
             ],
             [
              1,
              "#f0f921"
             ]
            ],
            "type": "contour"
           }
          ],
          "contourcarpet": [
           {
            "colorbar": {
             "outlinewidth": 0,
             "ticks": ""
            },
            "type": "contourcarpet"
           }
          ],
          "heatmap": [
           {
            "colorbar": {
             "outlinewidth": 0,
             "ticks": ""
            },
            "colorscale": [
             [
              0,
              "#0d0887"
             ],
             [
              0.1111111111111111,
              "#46039f"
             ],
             [
              0.2222222222222222,
              "#7201a8"
             ],
             [
              0.3333333333333333,
              "#9c179e"
             ],
             [
              0.4444444444444444,
              "#bd3786"
             ],
             [
              0.5555555555555556,
              "#d8576b"
             ],
             [
              0.6666666666666666,
              "#ed7953"
             ],
             [
              0.7777777777777778,
              "#fb9f3a"
             ],
             [
              0.8888888888888888,
              "#fdca26"
             ],
             [
              1,
              "#f0f921"
             ]
            ],
            "type": "heatmap"
           }
          ],
          "heatmapgl": [
           {
            "colorbar": {
             "outlinewidth": 0,
             "ticks": ""
            },
            "colorscale": [
             [
              0,
              "#0d0887"
             ],
             [
              0.1111111111111111,
              "#46039f"
             ],
             [
              0.2222222222222222,
              "#7201a8"
             ],
             [
              0.3333333333333333,
              "#9c179e"
             ],
             [
              0.4444444444444444,
              "#bd3786"
             ],
             [
              0.5555555555555556,
              "#d8576b"
             ],
             [
              0.6666666666666666,
              "#ed7953"
             ],
             [
              0.7777777777777778,
              "#fb9f3a"
             ],
             [
              0.8888888888888888,
              "#fdca26"
             ],
             [
              1,
              "#f0f921"
             ]
            ],
            "type": "heatmapgl"
           }
          ],
          "histogram": [
           {
            "marker": {
             "pattern": {
              "fillmode": "overlay",
              "size": 10,
              "solidity": 0.2
             }
            },
            "type": "histogram"
           }
          ],
          "histogram2d": [
           {
            "colorbar": {
             "outlinewidth": 0,
             "ticks": ""
            },
            "colorscale": [
             [
              0,
              "#0d0887"
             ],
             [
              0.1111111111111111,
              "#46039f"
             ],
             [
              0.2222222222222222,
              "#7201a8"
             ],
             [
              0.3333333333333333,
              "#9c179e"
             ],
             [
              0.4444444444444444,
              "#bd3786"
             ],
             [
              0.5555555555555556,
              "#d8576b"
             ],
             [
              0.6666666666666666,
              "#ed7953"
             ],
             [
              0.7777777777777778,
              "#fb9f3a"
             ],
             [
              0.8888888888888888,
              "#fdca26"
             ],
             [
              1,
              "#f0f921"
             ]
            ],
            "type": "histogram2d"
           }
          ],
          "histogram2dcontour": [
           {
            "colorbar": {
             "outlinewidth": 0,
             "ticks": ""
            },
            "colorscale": [
             [
              0,
              "#0d0887"
             ],
             [
              0.1111111111111111,
              "#46039f"
             ],
             [
              0.2222222222222222,
              "#7201a8"
             ],
             [
              0.3333333333333333,
              "#9c179e"
             ],
             [
              0.4444444444444444,
              "#bd3786"
             ],
             [
              0.5555555555555556,
              "#d8576b"
             ],
             [
              0.6666666666666666,
              "#ed7953"
             ],
             [
              0.7777777777777778,
              "#fb9f3a"
             ],
             [
              0.8888888888888888,
              "#fdca26"
             ],
             [
              1,
              "#f0f921"
             ]
            ],
            "type": "histogram2dcontour"
           }
          ],
          "mesh3d": [
           {
            "colorbar": {
             "outlinewidth": 0,
             "ticks": ""
            },
            "type": "mesh3d"
           }
          ],
          "parcoords": [
           {
            "line": {
             "colorbar": {
              "outlinewidth": 0,
              "ticks": ""
             }
            },
            "type": "parcoords"
           }
          ],
          "pie": [
           {
            "automargin": true,
            "type": "pie"
           }
          ],
          "scatter": [
           {
            "fillpattern": {
             "fillmode": "overlay",
             "size": 10,
             "solidity": 0.2
            },
            "type": "scatter"
           }
          ],
          "scatter3d": [
           {
            "line": {
             "colorbar": {
              "outlinewidth": 0,
              "ticks": ""
             }
            },
            "marker": {
             "colorbar": {
              "outlinewidth": 0,
              "ticks": ""
             }
            },
            "type": "scatter3d"
           }
          ],
          "scattercarpet": [
           {
            "marker": {
             "colorbar": {
              "outlinewidth": 0,
              "ticks": ""
             }
            },
            "type": "scattercarpet"
           }
          ],
          "scattergeo": [
           {
            "marker": {
             "colorbar": {
              "outlinewidth": 0,
              "ticks": ""
             }
            },
            "type": "scattergeo"
           }
          ],
          "scattergl": [
           {
            "marker": {
             "colorbar": {
              "outlinewidth": 0,
              "ticks": ""
             }
            },
            "type": "scattergl"
           }
          ],
          "scattermapbox": [
           {
            "marker": {
             "colorbar": {
              "outlinewidth": 0,
              "ticks": ""
             }
            },
            "type": "scattermapbox"
           }
          ],
          "scatterpolar": [
           {
            "marker": {
             "colorbar": {
              "outlinewidth": 0,
              "ticks": ""
             }
            },
            "type": "scatterpolar"
           }
          ],
          "scatterpolargl": [
           {
            "marker": {
             "colorbar": {
              "outlinewidth": 0,
              "ticks": ""
             }
            },
            "type": "scatterpolargl"
           }
          ],
          "scatterternary": [
           {
            "marker": {
             "colorbar": {
              "outlinewidth": 0,
              "ticks": ""
             }
            },
            "type": "scatterternary"
           }
          ],
          "surface": [
           {
            "colorbar": {
             "outlinewidth": 0,
             "ticks": ""
            },
            "colorscale": [
             [
              0,
              "#0d0887"
             ],
             [
              0.1111111111111111,
              "#46039f"
             ],
             [
              0.2222222222222222,
              "#7201a8"
             ],
             [
              0.3333333333333333,
              "#9c179e"
             ],
             [
              0.4444444444444444,
              "#bd3786"
             ],
             [
              0.5555555555555556,
              "#d8576b"
             ],
             [
              0.6666666666666666,
              "#ed7953"
             ],
             [
              0.7777777777777778,
              "#fb9f3a"
             ],
             [
              0.8888888888888888,
              "#fdca26"
             ],
             [
              1,
              "#f0f921"
             ]
            ],
            "type": "surface"
           }
          ],
          "table": [
           {
            "cells": {
             "fill": {
              "color": "#EBF0F8"
             },
             "line": {
              "color": "white"
             }
            },
            "header": {
             "fill": {
              "color": "#C8D4E3"
             },
             "line": {
              "color": "white"
             }
            },
            "type": "table"
           }
          ]
         },
         "layout": {
          "annotationdefaults": {
           "arrowcolor": "#2a3f5f",
           "arrowhead": 0,
           "arrowwidth": 1
          },
          "autotypenumbers": "strict",
          "coloraxis": {
           "colorbar": {
            "outlinewidth": 0,
            "ticks": ""
           }
          },
          "colorscale": {
           "diverging": [
            [
             0,
             "#8e0152"
            ],
            [
             0.1,
             "#c51b7d"
            ],
            [
             0.2,
             "#de77ae"
            ],
            [
             0.3,
             "#f1b6da"
            ],
            [
             0.4,
             "#fde0ef"
            ],
            [
             0.5,
             "#f7f7f7"
            ],
            [
             0.6,
             "#e6f5d0"
            ],
            [
             0.7,
             "#b8e186"
            ],
            [
             0.8,
             "#7fbc41"
            ],
            [
             0.9,
             "#4d9221"
            ],
            [
             1,
             "#276419"
            ]
           ],
           "sequential": [
            [
             0,
             "#0d0887"
            ],
            [
             0.1111111111111111,
             "#46039f"
            ],
            [
             0.2222222222222222,
             "#7201a8"
            ],
            [
             0.3333333333333333,
             "#9c179e"
            ],
            [
             0.4444444444444444,
             "#bd3786"
            ],
            [
             0.5555555555555556,
             "#d8576b"
            ],
            [
             0.6666666666666666,
             "#ed7953"
            ],
            [
             0.7777777777777778,
             "#fb9f3a"
            ],
            [
             0.8888888888888888,
             "#fdca26"
            ],
            [
             1,
             "#f0f921"
            ]
           ],
           "sequentialminus": [
            [
             0,
             "#0d0887"
            ],
            [
             0.1111111111111111,
             "#46039f"
            ],
            [
             0.2222222222222222,
             "#7201a8"
            ],
            [
             0.3333333333333333,
             "#9c179e"
            ],
            [
             0.4444444444444444,
             "#bd3786"
            ],
            [
             0.5555555555555556,
             "#d8576b"
            ],
            [
             0.6666666666666666,
             "#ed7953"
            ],
            [
             0.7777777777777778,
             "#fb9f3a"
            ],
            [
             0.8888888888888888,
             "#fdca26"
            ],
            [
             1,
             "#f0f921"
            ]
           ]
          },
          "colorway": [
           "#636efa",
           "#EF553B",
           "#00cc96",
           "#ab63fa",
           "#FFA15A",
           "#19d3f3",
           "#FF6692",
           "#B6E880",
           "#FF97FF",
           "#FECB52"
          ],
          "font": {
           "color": "#2a3f5f"
          },
          "geo": {
           "bgcolor": "white",
           "lakecolor": "white",
           "landcolor": "#E5ECF6",
           "showlakes": true,
           "showland": true,
           "subunitcolor": "white"
          },
          "hoverlabel": {
           "align": "left"
          },
          "hovermode": "closest",
          "mapbox": {
           "style": "light"
          },
          "paper_bgcolor": "white",
          "plot_bgcolor": "#E5ECF6",
          "polar": {
           "angularaxis": {
            "gridcolor": "white",
            "linecolor": "white",
            "ticks": ""
           },
           "bgcolor": "#E5ECF6",
           "radialaxis": {
            "gridcolor": "white",
            "linecolor": "white",
            "ticks": ""
           }
          },
          "scene": {
           "xaxis": {
            "backgroundcolor": "#E5ECF6",
            "gridcolor": "white",
            "gridwidth": 2,
            "linecolor": "white",
            "showbackground": true,
            "ticks": "",
            "zerolinecolor": "white"
           },
           "yaxis": {
            "backgroundcolor": "#E5ECF6",
            "gridcolor": "white",
            "gridwidth": 2,
            "linecolor": "white",
            "showbackground": true,
            "ticks": "",
            "zerolinecolor": "white"
           },
           "zaxis": {
            "backgroundcolor": "#E5ECF6",
            "gridcolor": "white",
            "gridwidth": 2,
            "linecolor": "white",
            "showbackground": true,
            "ticks": "",
            "zerolinecolor": "white"
           }
          },
          "shapedefaults": {
           "line": {
            "color": "#2a3f5f"
           }
          },
          "ternary": {
           "aaxis": {
            "gridcolor": "white",
            "linecolor": "white",
            "ticks": ""
           },
           "baxis": {
            "gridcolor": "white",
            "linecolor": "white",
            "ticks": ""
           },
           "bgcolor": "#E5ECF6",
           "caxis": {
            "gridcolor": "white",
            "linecolor": "white",
            "ticks": ""
           }
          },
          "title": {
           "x": 0.05
          },
          "xaxis": {
           "automargin": true,
           "gridcolor": "white",
           "linecolor": "white",
           "ticks": "",
           "title": {
            "standoff": 15
           },
           "zerolinecolor": "white",
           "zerolinewidth": 2
          },
          "yaxis": {
           "automargin": true,
           "gridcolor": "white",
           "linecolor": "white",
           "ticks": "",
           "title": {
            "standoff": 15
           },
           "zerolinecolor": "white",
           "zerolinewidth": 2
          }
         }
        },
        "title": {
         "font": {
          "color": "#001c40",
          "family": "Baskerville, Bold",
          "size": 40
         },
         "text": "Top 10 Most-Read Sub-Genres<br><sup>I've had a huge spike in interest in the Warhammer 40,000 universe lately"
        },
        "xaxis": {
         "anchor": "y",
         "domain": [
          0,
          0.63
         ],
         "gridcolor": "#cbcbcb",
         "linecolor": "black",
         "showgrid": false,
         "showline": true,
         "title": {},
         "zerolinewidth": 1
        },
        "yaxis": {
         "anchor": "x",
         "domain": [
          0,
          1
         ],
         "gridcolor": "#cbcbcb",
         "linecolor": "black",
         "showgrid": true,
         "showline": false,
         "showticklabels": true,
         "title": {},
         "zerolinewidth": 1
        },
        "yaxis2": {
         "gridcolor": "#cbcbcb",
         "linecolor": "black",
         "showgrid": true,
         "showline": false,
         "showticklabels": true,
         "zerolinewidth": 1
        }
       }
      },
      "text/html": [
       "<div>                            <div id=\"ec24a1d4-2e9b-4377-9da6-ee96e75890e8\" class=\"plotly-graph-div\" style=\"height:600px; width:100%;\"></div>            <script type=\"text/javascript\">                require([\"plotly\"], function(Plotly) {                    window.PLOTLYENV=window.PLOTLYENV || {};                                    if (document.getElementById(\"ec24a1d4-2e9b-4377-9da6-ee96e75890e8\")) {                    Plotly.newPlot(                        \"ec24a1d4-2e9b-4377-9da6-ee96e75890e8\",                        [{\"hovertemplate\":\"\\u003cb\\u003e%{x}\\u003c\\u002fb\\u003e: %{y}\",\"marker\":{\"color\":\"#529b9c\"},\"name\":\"\",\"x\":[\"Warhammer 40k\",\"Historical Fiction\",\"Nonfiction\",\"Classics\",\"Fantasy\",\"Self Help\",\"Cultural\",\"Science Fiction\",\"History\",\"Contemporary\"],\"y\":[80,13,10,9,6,6,5,4,3,2],\"type\":\"bar\",\"xaxis\":\"x\",\"yaxis\":\"y\"},{\"hole\":0.4,\"hovertemplate\":\"\\u003cb\\u003e%{label}\\u003c\\u002fb\\u003e: %{value}\",\"labels\":[\"Warhammer 40k\",\"Historical Fiction\",\"Nonfiction\",\"Classics\",\"Fantasy\",\"Self Help\",\"Cultural\",\"Science Fiction\",\"History\",\"Contemporary\"],\"marker\":{\"colors\":[\"#d27575\",\"#529b9c\",\"#eac392\",\"#9cba8f\",\"#675a55\",\"#d27575\",\"#529b9c\",\"#eac392\",\"#9cba8f\",\"#675a55\",\"#d27575\",\"#529b9c\",\"#eac392\",\"#9cba8f\",\"#675a55\",\"#d27575\",\"#529b9c\",\"#eac392\",\"#9cba8f\",\"#675a55\",\"#d27575\",\"#529b9c\",\"#eac392\",\"#9cba8f\",\"#675a55\",\"#d27575\",\"#529b9c\",\"#eac392\",\"#9cba8f\",\"#675a55\",\"#d27575\",\"#529b9c\",\"#eac392\",\"#9cba8f\",\"#675a55\",\"#d27575\",\"#529b9c\",\"#eac392\",\"#9cba8f\",\"#675a55\",\"#d27575\",\"#529b9c\",\"#eac392\",\"#9cba8f\",\"#675a55\",\"#d27575\",\"#529b9c\",\"#eac392\",\"#9cba8f\",\"#675a55\",\"#d27575\",\"#529b9c\",\"#eac392\",\"#9cba8f\",\"#675a55\",\"#d27575\",\"#529b9c\",\"#eac392\",\"#9cba8f\",\"#675a55\",\"#d27575\",\"#529b9c\",\"#eac392\",\"#9cba8f\",\"#675a55\",\"#d27575\",\"#529b9c\",\"#eac392\",\"#9cba8f\",\"#675a55\",\"#d27575\",\"#529b9c\",\"#eac392\",\"#9cba8f\",\"#675a55\",\"#d27575\",\"#529b9c\",\"#eac392\",\"#9cba8f\",\"#675a55\",\"#d27575\",\"#529b9c\",\"#eac392\",\"#9cba8f\",\"#675a55\",\"#d27575\",\"#529b9c\",\"#eac392\",\"#9cba8f\",\"#675a55\",\"#d27575\",\"#529b9c\",\"#eac392\",\"#9cba8f\",\"#675a55\",\"#d27575\",\"#529b9c\",\"#eac392\",\"#9cba8f\",\"#675a55\",\"#d27575\",\"#529b9c\",\"#eac392\",\"#9cba8f\",\"#675a55\",\"#d27575\",\"#529b9c\",\"#eac392\",\"#9cba8f\",\"#675a55\",\"#d27575\",\"#529b9c\",\"#eac392\",\"#9cba8f\",\"#675a55\",\"#d27575\",\"#529b9c\",\"#eac392\",\"#9cba8f\",\"#675a55\",\"#d27575\",\"#529b9c\",\"#eac392\",\"#9cba8f\",\"#675a55\",\"#d27575\",\"#529b9c\",\"#eac392\",\"#9cba8f\",\"#675a55\",\"#d27575\",\"#529b9c\",\"#eac392\",\"#9cba8f\",\"#675a55\",\"#d27575\",\"#529b9c\",\"#eac392\",\"#9cba8f\",\"#675a55\",\"#d27575\",\"#529b9c\",\"#eac392\",\"#9cba8f\",\"#675a55\",\"#d27575\",\"#529b9c\",\"#eac392\",\"#9cba8f\",\"#675a55\",\"#d27575\",\"#529b9c\",\"#eac392\",\"#9cba8f\",\"#675a55\",\"#d27575\",\"#529b9c\",\"#eac392\",\"#9cba8f\",\"#675a55\",\"#d27575\",\"#529b9c\",\"#eac392\",\"#9cba8f\",\"#675a55\",\"#d27575\",\"#529b9c\",\"#eac392\",\"#9cba8f\",\"#675a55\",\"#d27575\",\"#529b9c\",\"#eac392\",\"#9cba8f\",\"#675a55\",\"#d27575\",\"#529b9c\",\"#eac392\",\"#9cba8f\",\"#675a55\",\"#d27575\",\"#529b9c\",\"#eac392\",\"#9cba8f\",\"#675a55\",\"#d27575\",\"#529b9c\",\"#eac392\",\"#9cba8f\",\"#675a55\",\"#d27575\",\"#529b9c\",\"#eac392\",\"#9cba8f\",\"#675a55\",\"#d27575\",\"#529b9c\",\"#eac392\",\"#9cba8f\",\"#675a55\",\"#d27575\",\"#529b9c\",\"#eac392\",\"#9cba8f\",\"#675a55\",\"#d27575\",\"#529b9c\",\"#eac392\",\"#9cba8f\",\"#675a55\",\"#d27575\",\"#529b9c\",\"#eac392\",\"#9cba8f\",\"#675a55\",\"#d27575\",\"#529b9c\",\"#eac392\",\"#9cba8f\",\"#675a55\",\"#d27575\",\"#529b9c\",\"#eac392\",\"#9cba8f\",\"#675a55\",\"#d27575\",\"#529b9c\",\"#eac392\",\"#9cba8f\",\"#675a55\",\"#d27575\",\"#529b9c\",\"#eac392\",\"#9cba8f\",\"#675a55\",\"#d27575\",\"#529b9c\",\"#eac392\",\"#9cba8f\",\"#675a55\",\"#d27575\",\"#529b9c\",\"#eac392\",\"#9cba8f\",\"#675a55\",\"#d27575\",\"#529b9c\",\"#eac392\",\"#9cba8f\",\"#675a55\",\"#d27575\",\"#529b9c\",\"#eac392\",\"#9cba8f\",\"#675a55\",\"#d27575\",\"#529b9c\",\"#eac392\",\"#9cba8f\",\"#675a55\",\"#d27575\",\"#529b9c\",\"#eac392\",\"#9cba8f\",\"#675a55\",\"#d27575\",\"#529b9c\",\"#eac392\",\"#9cba8f\",\"#675a55\",\"#d27575\",\"#529b9c\",\"#eac392\",\"#9cba8f\",\"#675a55\",\"#d27575\",\"#529b9c\",\"#eac392\",\"#9cba8f\",\"#675a55\",\"#d27575\",\"#529b9c\",\"#eac392\",\"#9cba8f\",\"#675a55\",\"#d27575\",\"#529b9c\",\"#eac392\",\"#9cba8f\",\"#675a55\",\"#d27575\",\"#529b9c\",\"#eac392\",\"#9cba8f\",\"#675a55\",\"#d27575\",\"#529b9c\",\"#eac392\",\"#9cba8f\",\"#675a55\",\"#d27575\",\"#529b9c\",\"#eac392\",\"#9cba8f\",\"#675a55\",\"#d27575\",\"#529b9c\",\"#eac392\",\"#9cba8f\",\"#675a55\",\"#d27575\",\"#529b9c\",\"#eac392\",\"#9cba8f\",\"#675a55\",\"#d27575\",\"#529b9c\",\"#eac392\",\"#9cba8f\",\"#675a55\",\"#d27575\",\"#529b9c\",\"#eac392\",\"#9cba8f\",\"#675a55\",\"#d27575\",\"#529b9c\",\"#eac392\",\"#9cba8f\",\"#675a55\",\"#d27575\",\"#529b9c\",\"#eac392\",\"#9cba8f\",\"#675a55\",\"#d27575\",\"#529b9c\",\"#eac392\",\"#9cba8f\",\"#675a55\",\"#d27575\",\"#529b9c\",\"#eac392\",\"#9cba8f\",\"#675a55\",\"#d27575\",\"#529b9c\",\"#eac392\",\"#9cba8f\",\"#675a55\",\"#d27575\",\"#529b9c\",\"#eac392\",\"#9cba8f\",\"#675a55\",\"#d27575\",\"#529b9c\",\"#eac392\",\"#9cba8f\",\"#675a55\",\"#d27575\",\"#529b9c\",\"#eac392\",\"#9cba8f\",\"#675a55\",\"#d27575\",\"#529b9c\",\"#eac392\",\"#9cba8f\",\"#675a55\",\"#d27575\",\"#529b9c\",\"#eac392\",\"#9cba8f\",\"#675a55\",\"#d27575\",\"#529b9c\",\"#eac392\",\"#9cba8f\",\"#675a55\",\"#d27575\",\"#529b9c\",\"#eac392\",\"#9cba8f\",\"#675a55\",\"#d27575\",\"#529b9c\",\"#eac392\",\"#9cba8f\",\"#675a55\",\"#d27575\",\"#529b9c\",\"#eac392\",\"#9cba8f\",\"#675a55\",\"#d27575\",\"#529b9c\",\"#eac392\",\"#9cba8f\",\"#675a55\",\"#d27575\",\"#529b9c\",\"#eac392\",\"#9cba8f\",\"#675a55\",\"#d27575\",\"#529b9c\",\"#eac392\",\"#9cba8f\",\"#675a55\",\"#d27575\",\"#529b9c\",\"#eac392\",\"#9cba8f\",\"#675a55\",\"#d27575\",\"#529b9c\",\"#eac392\",\"#9cba8f\",\"#675a55\",\"#d27575\",\"#529b9c\",\"#eac392\",\"#9cba8f\",\"#675a55\",\"#d27575\",\"#529b9c\",\"#eac392\",\"#9cba8f\",\"#675a55\",\"#d27575\",\"#529b9c\",\"#eac392\",\"#9cba8f\",\"#675a55\",\"#d27575\",\"#529b9c\",\"#eac392\",\"#9cba8f\",\"#675a55\",\"#d27575\",\"#529b9c\",\"#eac392\",\"#9cba8f\",\"#675a55\",\"#d27575\",\"#529b9c\",\"#eac392\",\"#9cba8f\",\"#675a55\",\"#d27575\",\"#529b9c\",\"#eac392\",\"#9cba8f\",\"#675a55\",\"#d27575\",\"#529b9c\",\"#eac392\",\"#9cba8f\",\"#675a55\",\"#d27575\",\"#529b9c\",\"#eac392\",\"#9cba8f\",\"#675a55\",\"#d27575\",\"#529b9c\",\"#eac392\",\"#9cba8f\",\"#675a55\",\"#d27575\",\"#529b9c\",\"#eac392\",\"#9cba8f\",\"#675a55\",\"#d27575\",\"#529b9c\",\"#eac392\",\"#9cba8f\",\"#675a55\",\"#d27575\",\"#529b9c\",\"#eac392\",\"#9cba8f\",\"#675a55\",\"#d27575\",\"#529b9c\",\"#eac392\",\"#9cba8f\",\"#675a55\",\"#d27575\",\"#529b9c\",\"#eac392\",\"#9cba8f\",\"#675a55\",\"#d27575\",\"#529b9c\",\"#eac392\",\"#9cba8f\",\"#675a55\",\"#d27575\",\"#529b9c\",\"#eac392\",\"#9cba8f\",\"#675a55\",\"#d27575\",\"#529b9c\",\"#eac392\",\"#9cba8f\",\"#675a55\",\"#d27575\",\"#529b9c\",\"#eac392\",\"#9cba8f\",\"#675a55\",\"#d27575\",\"#529b9c\",\"#eac392\",\"#9cba8f\",\"#675a55\",\"#d27575\",\"#529b9c\",\"#eac392\",\"#9cba8f\",\"#675a55\",\"#d27575\",\"#529b9c\",\"#eac392\",\"#9cba8f\",\"#675a55\",\"#d27575\",\"#529b9c\",\"#eac392\",\"#9cba8f\",\"#675a55\",\"#d27575\",\"#529b9c\",\"#eac392\",\"#9cba8f\",\"#675a55\",\"#d27575\",\"#529b9c\",\"#eac392\",\"#9cba8f\",\"#675a55\",\"#d27575\",\"#529b9c\",\"#eac392\",\"#9cba8f\",\"#675a55\",\"#d27575\",\"#529b9c\",\"#eac392\",\"#9cba8f\",\"#675a55\",\"#d27575\",\"#529b9c\",\"#eac392\",\"#9cba8f\",\"#675a55\",\"#d27575\",\"#529b9c\",\"#eac392\",\"#9cba8f\",\"#675a55\",\"#d27575\",\"#529b9c\",\"#eac392\",\"#9cba8f\",\"#675a55\",\"#d27575\",\"#529b9c\",\"#eac392\",\"#9cba8f\",\"#675a55\",\"#d27575\",\"#529b9c\",\"#eac392\",\"#9cba8f\",\"#675a55\",\"#d27575\",\"#529b9c\",\"#eac392\",\"#9cba8f\",\"#675a55\",\"#d27575\",\"#529b9c\",\"#eac392\",\"#9cba8f\",\"#675a55\",\"#d27575\",\"#529b9c\",\"#eac392\",\"#9cba8f\",\"#675a55\",\"#d27575\",\"#529b9c\",\"#eac392\",\"#9cba8f\",\"#675a55\",\"#d27575\",\"#529b9c\",\"#eac392\",\"#9cba8f\",\"#675a55\",\"#d27575\",\"#529b9c\",\"#eac392\",\"#9cba8f\",\"#675a55\",\"#d27575\",\"#529b9c\",\"#eac392\",\"#9cba8f\",\"#675a55\",\"#d27575\",\"#529b9c\",\"#eac392\",\"#9cba8f\",\"#675a55\",\"#d27575\",\"#529b9c\",\"#eac392\",\"#9cba8f\",\"#675a55\",\"#d27575\",\"#529b9c\",\"#eac392\",\"#9cba8f\",\"#675a55\",\"#d27575\",\"#529b9c\",\"#eac392\",\"#9cba8f\",\"#675a55\",\"#d27575\",\"#529b9c\",\"#eac392\",\"#9cba8f\",\"#675a55\",\"#d27575\",\"#529b9c\",\"#eac392\",\"#9cba8f\",\"#675a55\",\"#d27575\",\"#529b9c\",\"#eac392\",\"#9cba8f\",\"#675a55\",\"#d27575\",\"#529b9c\",\"#eac392\",\"#9cba8f\",\"#675a55\",\"#d27575\",\"#529b9c\",\"#eac392\",\"#9cba8f\",\"#675a55\",\"#d27575\",\"#529b9c\",\"#eac392\",\"#9cba8f\",\"#675a55\",\"#d27575\",\"#529b9c\",\"#eac392\",\"#9cba8f\",\"#675a55\",\"#d27575\",\"#529b9c\",\"#eac392\",\"#9cba8f\",\"#675a55\",\"#d27575\",\"#529b9c\",\"#eac392\",\"#9cba8f\",\"#675a55\",\"#d27575\",\"#529b9c\",\"#eac392\",\"#9cba8f\",\"#675a55\",\"#d27575\",\"#529b9c\",\"#eac392\",\"#9cba8f\",\"#675a55\",\"#d27575\",\"#529b9c\",\"#eac392\",\"#9cba8f\",\"#675a55\",\"#d27575\",\"#529b9c\",\"#eac392\",\"#9cba8f\",\"#675a55\",\"#d27575\",\"#529b9c\",\"#eac392\",\"#9cba8f\",\"#675a55\",\"#d27575\",\"#529b9c\",\"#eac392\",\"#9cba8f\",\"#675a55\",\"#d27575\",\"#529b9c\",\"#eac392\",\"#9cba8f\",\"#675a55\",\"#d27575\",\"#529b9c\",\"#eac392\",\"#9cba8f\",\"#675a55\",\"#d27575\",\"#529b9c\",\"#eac392\",\"#9cba8f\",\"#675a55\",\"#d27575\",\"#529b9c\",\"#eac392\",\"#9cba8f\",\"#675a55\",\"#d27575\",\"#529b9c\",\"#eac392\",\"#9cba8f\",\"#675a55\",\"#d27575\",\"#529b9c\",\"#eac392\",\"#9cba8f\",\"#675a55\",\"#d27575\",\"#529b9c\",\"#eac392\",\"#9cba8f\",\"#675a55\",\"#d27575\",\"#529b9c\",\"#eac392\",\"#9cba8f\",\"#675a55\"]},\"name\":\"\",\"values\":[80,13,10,9,6,6,5,4,3,2],\"type\":\"pie\",\"domain\":{\"x\":[0.73,1.0],\"y\":[0.0,1.0]}}],                        {\"template\":{\"data\":{\"histogram2dcontour\":[{\"type\":\"histogram2dcontour\",\"colorbar\":{\"outlinewidth\":0,\"ticks\":\"\"},\"colorscale\":[[0.0,\"#0d0887\"],[0.1111111111111111,\"#46039f\"],[0.2222222222222222,\"#7201a8\"],[0.3333333333333333,\"#9c179e\"],[0.4444444444444444,\"#bd3786\"],[0.5555555555555556,\"#d8576b\"],[0.6666666666666666,\"#ed7953\"],[0.7777777777777778,\"#fb9f3a\"],[0.8888888888888888,\"#fdca26\"],[1.0,\"#f0f921\"]]}],\"choropleth\":[{\"type\":\"choropleth\",\"colorbar\":{\"outlinewidth\":0,\"ticks\":\"\"}}],\"histogram2d\":[{\"type\":\"histogram2d\",\"colorbar\":{\"outlinewidth\":0,\"ticks\":\"\"},\"colorscale\":[[0.0,\"#0d0887\"],[0.1111111111111111,\"#46039f\"],[0.2222222222222222,\"#7201a8\"],[0.3333333333333333,\"#9c179e\"],[0.4444444444444444,\"#bd3786\"],[0.5555555555555556,\"#d8576b\"],[0.6666666666666666,\"#ed7953\"],[0.7777777777777778,\"#fb9f3a\"],[0.8888888888888888,\"#fdca26\"],[1.0,\"#f0f921\"]]}],\"heatmap\":[{\"type\":\"heatmap\",\"colorbar\":{\"outlinewidth\":0,\"ticks\":\"\"},\"colorscale\":[[0.0,\"#0d0887\"],[0.1111111111111111,\"#46039f\"],[0.2222222222222222,\"#7201a8\"],[0.3333333333333333,\"#9c179e\"],[0.4444444444444444,\"#bd3786\"],[0.5555555555555556,\"#d8576b\"],[0.6666666666666666,\"#ed7953\"],[0.7777777777777778,\"#fb9f3a\"],[0.8888888888888888,\"#fdca26\"],[1.0,\"#f0f921\"]]}],\"heatmapgl\":[{\"type\":\"heatmapgl\",\"colorbar\":{\"outlinewidth\":0,\"ticks\":\"\"},\"colorscale\":[[0.0,\"#0d0887\"],[0.1111111111111111,\"#46039f\"],[0.2222222222222222,\"#7201a8\"],[0.3333333333333333,\"#9c179e\"],[0.4444444444444444,\"#bd3786\"],[0.5555555555555556,\"#d8576b\"],[0.6666666666666666,\"#ed7953\"],[0.7777777777777778,\"#fb9f3a\"],[0.8888888888888888,\"#fdca26\"],[1.0,\"#f0f921\"]]}],\"contourcarpet\":[{\"type\":\"contourcarpet\",\"colorbar\":{\"outlinewidth\":0,\"ticks\":\"\"}}],\"contour\":[{\"type\":\"contour\",\"colorbar\":{\"outlinewidth\":0,\"ticks\":\"\"},\"colorscale\":[[0.0,\"#0d0887\"],[0.1111111111111111,\"#46039f\"],[0.2222222222222222,\"#7201a8\"],[0.3333333333333333,\"#9c179e\"],[0.4444444444444444,\"#bd3786\"],[0.5555555555555556,\"#d8576b\"],[0.6666666666666666,\"#ed7953\"],[0.7777777777777778,\"#fb9f3a\"],[0.8888888888888888,\"#fdca26\"],[1.0,\"#f0f921\"]]}],\"surface\":[{\"type\":\"surface\",\"colorbar\":{\"outlinewidth\":0,\"ticks\":\"\"},\"colorscale\":[[0.0,\"#0d0887\"],[0.1111111111111111,\"#46039f\"],[0.2222222222222222,\"#7201a8\"],[0.3333333333333333,\"#9c179e\"],[0.4444444444444444,\"#bd3786\"],[0.5555555555555556,\"#d8576b\"],[0.6666666666666666,\"#ed7953\"],[0.7777777777777778,\"#fb9f3a\"],[0.8888888888888888,\"#fdca26\"],[1.0,\"#f0f921\"]]}],\"mesh3d\":[{\"type\":\"mesh3d\",\"colorbar\":{\"outlinewidth\":0,\"ticks\":\"\"}}],\"scatter\":[{\"fillpattern\":{\"fillmode\":\"overlay\",\"size\":10,\"solidity\":0.2},\"type\":\"scatter\"}],\"parcoords\":[{\"type\":\"parcoords\",\"line\":{\"colorbar\":{\"outlinewidth\":0,\"ticks\":\"\"}}}],\"scatterpolargl\":[{\"type\":\"scatterpolargl\",\"marker\":{\"colorbar\":{\"outlinewidth\":0,\"ticks\":\"\"}}}],\"bar\":[{\"error_x\":{\"color\":\"#2a3f5f\"},\"error_y\":{\"color\":\"#2a3f5f\"},\"marker\":{\"line\":{\"color\":\"#E5ECF6\",\"width\":0.5},\"pattern\":{\"fillmode\":\"overlay\",\"size\":10,\"solidity\":0.2}},\"type\":\"bar\"}],\"scattergeo\":[{\"type\":\"scattergeo\",\"marker\":{\"colorbar\":{\"outlinewidth\":0,\"ticks\":\"\"}}}],\"scatterpolar\":[{\"type\":\"scatterpolar\",\"marker\":{\"colorbar\":{\"outlinewidth\":0,\"ticks\":\"\"}}}],\"histogram\":[{\"marker\":{\"pattern\":{\"fillmode\":\"overlay\",\"size\":10,\"solidity\":0.2}},\"type\":\"histogram\"}],\"scattergl\":[{\"type\":\"scattergl\",\"marker\":{\"colorbar\":{\"outlinewidth\":0,\"ticks\":\"\"}}}],\"scatter3d\":[{\"type\":\"scatter3d\",\"line\":{\"colorbar\":{\"outlinewidth\":0,\"ticks\":\"\"}},\"marker\":{\"colorbar\":{\"outlinewidth\":0,\"ticks\":\"\"}}}],\"scattermapbox\":[{\"type\":\"scattermapbox\",\"marker\":{\"colorbar\":{\"outlinewidth\":0,\"ticks\":\"\"}}}],\"scatterternary\":[{\"type\":\"scatterternary\",\"marker\":{\"colorbar\":{\"outlinewidth\":0,\"ticks\":\"\"}}}],\"scattercarpet\":[{\"type\":\"scattercarpet\",\"marker\":{\"colorbar\":{\"outlinewidth\":0,\"ticks\":\"\"}}}],\"carpet\":[{\"aaxis\":{\"endlinecolor\":\"#2a3f5f\",\"gridcolor\":\"white\",\"linecolor\":\"white\",\"minorgridcolor\":\"white\",\"startlinecolor\":\"#2a3f5f\"},\"baxis\":{\"endlinecolor\":\"#2a3f5f\",\"gridcolor\":\"white\",\"linecolor\":\"white\",\"minorgridcolor\":\"white\",\"startlinecolor\":\"#2a3f5f\"},\"type\":\"carpet\"}],\"table\":[{\"cells\":{\"fill\":{\"color\":\"#EBF0F8\"},\"line\":{\"color\":\"white\"}},\"header\":{\"fill\":{\"color\":\"#C8D4E3\"},\"line\":{\"color\":\"white\"}},\"type\":\"table\"}],\"barpolar\":[{\"marker\":{\"line\":{\"color\":\"#E5ECF6\",\"width\":0.5},\"pattern\":{\"fillmode\":\"overlay\",\"size\":10,\"solidity\":0.2}},\"type\":\"barpolar\"}],\"pie\":[{\"automargin\":true,\"type\":\"pie\"}]},\"layout\":{\"autotypenumbers\":\"strict\",\"colorway\":[\"#636efa\",\"#EF553B\",\"#00cc96\",\"#ab63fa\",\"#FFA15A\",\"#19d3f3\",\"#FF6692\",\"#B6E880\",\"#FF97FF\",\"#FECB52\"],\"font\":{\"color\":\"#2a3f5f\"},\"hovermode\":\"closest\",\"hoverlabel\":{\"align\":\"left\"},\"paper_bgcolor\":\"white\",\"plot_bgcolor\":\"#E5ECF6\",\"polar\":{\"bgcolor\":\"#E5ECF6\",\"angularaxis\":{\"gridcolor\":\"white\",\"linecolor\":\"white\",\"ticks\":\"\"},\"radialaxis\":{\"gridcolor\":\"white\",\"linecolor\":\"white\",\"ticks\":\"\"}},\"ternary\":{\"bgcolor\":\"#E5ECF6\",\"aaxis\":{\"gridcolor\":\"white\",\"linecolor\":\"white\",\"ticks\":\"\"},\"baxis\":{\"gridcolor\":\"white\",\"linecolor\":\"white\",\"ticks\":\"\"},\"caxis\":{\"gridcolor\":\"white\",\"linecolor\":\"white\",\"ticks\":\"\"}},\"coloraxis\":{\"colorbar\":{\"outlinewidth\":0,\"ticks\":\"\"}},\"colorscale\":{\"sequential\":[[0.0,\"#0d0887\"],[0.1111111111111111,\"#46039f\"],[0.2222222222222222,\"#7201a8\"],[0.3333333333333333,\"#9c179e\"],[0.4444444444444444,\"#bd3786\"],[0.5555555555555556,\"#d8576b\"],[0.6666666666666666,\"#ed7953\"],[0.7777777777777778,\"#fb9f3a\"],[0.8888888888888888,\"#fdca26\"],[1.0,\"#f0f921\"]],\"sequentialminus\":[[0.0,\"#0d0887\"],[0.1111111111111111,\"#46039f\"],[0.2222222222222222,\"#7201a8\"],[0.3333333333333333,\"#9c179e\"],[0.4444444444444444,\"#bd3786\"],[0.5555555555555556,\"#d8576b\"],[0.6666666666666666,\"#ed7953\"],[0.7777777777777778,\"#fb9f3a\"],[0.8888888888888888,\"#fdca26\"],[1.0,\"#f0f921\"]],\"diverging\":[[0,\"#8e0152\"],[0.1,\"#c51b7d\"],[0.2,\"#de77ae\"],[0.3,\"#f1b6da\"],[0.4,\"#fde0ef\"],[0.5,\"#f7f7f7\"],[0.6,\"#e6f5d0\"],[0.7,\"#b8e186\"],[0.8,\"#7fbc41\"],[0.9,\"#4d9221\"],[1,\"#276419\"]]},\"xaxis\":{\"gridcolor\":\"white\",\"linecolor\":\"white\",\"ticks\":\"\",\"title\":{\"standoff\":15},\"zerolinecolor\":\"white\",\"automargin\":true,\"zerolinewidth\":2},\"yaxis\":{\"gridcolor\":\"white\",\"linecolor\":\"white\",\"ticks\":\"\",\"title\":{\"standoff\":15},\"zerolinecolor\":\"white\",\"automargin\":true,\"zerolinewidth\":2},\"scene\":{\"xaxis\":{\"backgroundcolor\":\"#E5ECF6\",\"gridcolor\":\"white\",\"linecolor\":\"white\",\"showbackground\":true,\"ticks\":\"\",\"zerolinecolor\":\"white\",\"gridwidth\":2},\"yaxis\":{\"backgroundcolor\":\"#E5ECF6\",\"gridcolor\":\"white\",\"linecolor\":\"white\",\"showbackground\":true,\"ticks\":\"\",\"zerolinecolor\":\"white\",\"gridwidth\":2},\"zaxis\":{\"backgroundcolor\":\"#E5ECF6\",\"gridcolor\":\"white\",\"linecolor\":\"white\",\"showbackground\":true,\"ticks\":\"\",\"zerolinecolor\":\"white\",\"gridwidth\":2}},\"shapedefaults\":{\"line\":{\"color\":\"#2a3f5f\"}},\"annotationdefaults\":{\"arrowcolor\":\"#2a3f5f\",\"arrowhead\":0,\"arrowwidth\":1},\"geo\":{\"bgcolor\":\"white\",\"landcolor\":\"#E5ECF6\",\"subunitcolor\":\"white\",\"showland\":true,\"showlakes\":true,\"lakecolor\":\"white\"},\"title\":{\"x\":0.05},\"mapbox\":{\"style\":\"light\"}}},\"xaxis\":{\"anchor\":\"y\",\"domain\":[0.0,0.63],\"title\":{},\"showgrid\":false,\"showline\":true,\"linecolor\":\"black\",\"gridcolor\":\"#cbcbcb\",\"zerolinewidth\":1},\"yaxis\":{\"anchor\":\"x\",\"domain\":[0.0,1.0],\"title\":{},\"showgrid\":true,\"showline\":false,\"showticklabels\":true,\"linecolor\":\"black\",\"gridcolor\":\"#cbcbcb\",\"zerolinewidth\":1},\"annotations\":[{\"ax\":0,\"ay\":0,\"font\":{\"size\":30},\"text\":\"\\u003csup\\u003eTotal: 138\",\"x\":0.866,\"xref\":\"paper\",\"y\":0.48,\"yref\":\"paper\"}],\"title\":{\"font\":{\"size\":40,\"family\":\"Baskerville, Bold\",\"color\":\"#001c40\"},\"text\":\"Top 10 Most-Read Sub-Genres\\u003cbr\\u003e\\u003csup\\u003eI've had a huge spike in interest in the Warhammer 40,000 universe lately\"},\"margin\":{\"l\":85,\"r\":85,\"t\":120,\"b\":45},\"yaxis2\":{\"showgrid\":true,\"showline\":false,\"showticklabels\":true,\"linecolor\":\"black\",\"gridcolor\":\"#cbcbcb\",\"zerolinewidth\":1},\"font\":{\"family\":\"Baskerville\",\"color\":\"#001c40\",\"size\":14},\"hoverlabel\":{\"font\":{\"size\":16}},\"height\":600,\"showlegend\":false,\"barmode\":\"group\",\"plot_bgcolor\":\"#f0f0f0\",\"paper_bgcolor\":\"#f0f0f0\"},                        {\"modeBarButtonsToRemove\": [\"zoomIn\", \"zoomOut\", \"resetScale2d\", \"select2d\", \"lasso2d\"], \"responsive\": true, \"displaylogo\": false, \"toImageButtonOptions\": {\"format\": \"png\", \"filename\": \"reading-habits\", \"scale\": 1}}                    ).then(function(){\n",
       "                            \n",
       "var gd = document.getElementById('ec24a1d4-2e9b-4377-9da6-ee96e75890e8');\n",
       "var x = new MutationObserver(function (mutations, observer) {{\n",
       "        var display = window.getComputedStyle(gd).display;\n",
       "        if (!display || display === 'none') {{\n",
       "            console.log([gd, 'removed!']);\n",
       "            Plotly.purge(gd);\n",
       "            observer.disconnect();\n",
       "        }}\n",
       "}});\n",
       "\n",
       "// Listen for the removal of the full notebook cells\n",
       "var notebookContainer = gd.closest('#notebook-container');\n",
       "if (notebookContainer) {{\n",
       "    x.observe(notebookContainer, {childList: true});\n",
       "}}\n",
       "\n",
       "// Listen for the clearing of the current output cell\n",
       "var outputEl = gd.closest('.output');\n",
       "if (outputEl) {{\n",
       "    x.observe(outputEl, {childList: true});\n",
       "}}\n",
       "\n",
       "                        })                };                });            </script>        </div>"
      ]
     },
     "metadata": {},
     "output_type": "display_data"
    }
   ],
   "source": [
    "title = \"Top 10 Most-Read Sub-Genres\"\n",
    "sub = f\"I've had a huge spike in interest in the Warhammer 40,000 universe lately\"\n",
    "plot.gen_bar_pie_graph(df, 'Sub-Genre', title, sub, 10, color=\"#529b9c\")"
   ]
  },
  {
   "cell_type": "code",
   "execution_count": 33,
   "id": "338a8b13-4a26-42f3-8248-509a2e23ca8d",
   "metadata": {
    "execution": {
     "iopub.execute_input": "2024-07-27T23:38:50.290394Z",
     "iopub.status.busy": "2024-07-27T23:38:50.290394Z",
     "iopub.status.idle": "2024-07-27T23:38:50.320328Z",
     "shell.execute_reply": "2024-07-27T23:38:50.320328Z",
     "shell.execute_reply.started": "2024-07-27T23:38:50.290394Z"
    },
    "tags": []
   },
   "outputs": [
    {
     "data": {
      "application/vnd.plotly.v1+json": {
       "config": {
        "displaylogo": false,
        "modeBarButtonsToRemove": [
         "zoomIn",
         "zoomOut",
         "resetScale2d",
         "select2d",
         "lasso2d"
        ],
        "plotlyServerURL": "https://plot.ly",
        "responsive": true,
        "toImageButtonOptions": {
         "filename": "reading-habits",
         "format": "png",
         "scale": 1
        }
       },
       "data": [
        {
         "hovertemplate": "<b>%{x}</b>: %{y}",
         "marker": {
          "color": "#eac392"
         },
         "name": "",
         "type": "bar",
         "x": [
          "Fiction-Warhammer 40k",
          "Fiction-Historical Fiction",
          "Fiction-Classics",
          "Fiction-Fantasy",
          "Fiction-Cultural",
          "Science-Nonfiction",
          "Philosophy-Nonfiction",
          "Nonfiction-Self Help",
          "Fiction-Science Fiction",
          "Nonfiction-History"
         ],
         "xaxis": "x",
         "y": [
          80,
          13,
          8,
          6,
          5,
          5,
          5,
          5,
          4,
          3
         ],
         "yaxis": "y"
        },
        {
         "domain": {
          "x": [
           0.73,
           1
          ],
          "y": [
           0,
           1
          ]
         },
         "hole": 0.4,
         "hovertemplate": "<b>%{label}</b>: %{value}",
         "labels": [
          "Fiction-Warhammer 40k",
          "Fiction-Historical Fiction",
          "Fiction-Classics",
          "Fiction-Fantasy",
          "Fiction-Cultural",
          "Science-Nonfiction",
          "Philosophy-Nonfiction",
          "Nonfiction-Self Help",
          "Fiction-Science Fiction",
          "Nonfiction-History"
         ],
         "marker": {
          "colors": [
           "#d27575",
           "#529b9c",
           "#eac392",
           "#9cba8f",
           "#675a55",
           "#d27575",
           "#529b9c",
           "#eac392",
           "#9cba8f",
           "#675a55",
           "#d27575",
           "#529b9c",
           "#eac392",
           "#9cba8f",
           "#675a55",
           "#d27575",
           "#529b9c",
           "#eac392",
           "#9cba8f",
           "#675a55",
           "#d27575",
           "#529b9c",
           "#eac392",
           "#9cba8f",
           "#675a55",
           "#d27575",
           "#529b9c",
           "#eac392",
           "#9cba8f",
           "#675a55",
           "#d27575",
           "#529b9c",
           "#eac392",
           "#9cba8f",
           "#675a55",
           "#d27575",
           "#529b9c",
           "#eac392",
           "#9cba8f",
           "#675a55",
           "#d27575",
           "#529b9c",
           "#eac392",
           "#9cba8f",
           "#675a55",
           "#d27575",
           "#529b9c",
           "#eac392",
           "#9cba8f",
           "#675a55",
           "#d27575",
           "#529b9c",
           "#eac392",
           "#9cba8f",
           "#675a55",
           "#d27575",
           "#529b9c",
           "#eac392",
           "#9cba8f",
           "#675a55",
           "#d27575",
           "#529b9c",
           "#eac392",
           "#9cba8f",
           "#675a55",
           "#d27575",
           "#529b9c",
           "#eac392",
           "#9cba8f",
           "#675a55",
           "#d27575",
           "#529b9c",
           "#eac392",
           "#9cba8f",
           "#675a55",
           "#d27575",
           "#529b9c",
           "#eac392",
           "#9cba8f",
           "#675a55",
           "#d27575",
           "#529b9c",
           "#eac392",
           "#9cba8f",
           "#675a55",
           "#d27575",
           "#529b9c",
           "#eac392",
           "#9cba8f",
           "#675a55",
           "#d27575",
           "#529b9c",
           "#eac392",
           "#9cba8f",
           "#675a55",
           "#d27575",
           "#529b9c",
           "#eac392",
           "#9cba8f",
           "#675a55",
           "#d27575",
           "#529b9c",
           "#eac392",
           "#9cba8f",
           "#675a55",
           "#d27575",
           "#529b9c",
           "#eac392",
           "#9cba8f",
           "#675a55",
           "#d27575",
           "#529b9c",
           "#eac392",
           "#9cba8f",
           "#675a55",
           "#d27575",
           "#529b9c",
           "#eac392",
           "#9cba8f",
           "#675a55",
           "#d27575",
           "#529b9c",
           "#eac392",
           "#9cba8f",
           "#675a55",
           "#d27575",
           "#529b9c",
           "#eac392",
           "#9cba8f",
           "#675a55",
           "#d27575",
           "#529b9c",
           "#eac392",
           "#9cba8f",
           "#675a55",
           "#d27575",
           "#529b9c",
           "#eac392",
           "#9cba8f",
           "#675a55",
           "#d27575",
           "#529b9c",
           "#eac392",
           "#9cba8f",
           "#675a55",
           "#d27575",
           "#529b9c",
           "#eac392",
           "#9cba8f",
           "#675a55",
           "#d27575",
           "#529b9c",
           "#eac392",
           "#9cba8f",
           "#675a55",
           "#d27575",
           "#529b9c",
           "#eac392",
           "#9cba8f",
           "#675a55",
           "#d27575",
           "#529b9c",
           "#eac392",
           "#9cba8f",
           "#675a55",
           "#d27575",
           "#529b9c",
           "#eac392",
           "#9cba8f",
           "#675a55",
           "#d27575",
           "#529b9c",
           "#eac392",
           "#9cba8f",
           "#675a55",
           "#d27575",
           "#529b9c",
           "#eac392",
           "#9cba8f",
           "#675a55",
           "#d27575",
           "#529b9c",
           "#eac392",
           "#9cba8f",
           "#675a55",
           "#d27575",
           "#529b9c",
           "#eac392",
           "#9cba8f",
           "#675a55",
           "#d27575",
           "#529b9c",
           "#eac392",
           "#9cba8f",
           "#675a55",
           "#d27575",
           "#529b9c",
           "#eac392",
           "#9cba8f",
           "#675a55",
           "#d27575",
           "#529b9c",
           "#eac392",
           "#9cba8f",
           "#675a55",
           "#d27575",
           "#529b9c",
           "#eac392",
           "#9cba8f",
           "#675a55",
           "#d27575",
           "#529b9c",
           "#eac392",
           "#9cba8f",
           "#675a55",
           "#d27575",
           "#529b9c",
           "#eac392",
           "#9cba8f",
           "#675a55",
           "#d27575",
           "#529b9c",
           "#eac392",
           "#9cba8f",
           "#675a55",
           "#d27575",
           "#529b9c",
           "#eac392",
           "#9cba8f",
           "#675a55",
           "#d27575",
           "#529b9c",
           "#eac392",
           "#9cba8f",
           "#675a55",
           "#d27575",
           "#529b9c",
           "#eac392",
           "#9cba8f",
           "#675a55",
           "#d27575",
           "#529b9c",
           "#eac392",
           "#9cba8f",
           "#675a55",
           "#d27575",
           "#529b9c",
           "#eac392",
           "#9cba8f",
           "#675a55",
           "#d27575",
           "#529b9c",
           "#eac392",
           "#9cba8f",
           "#675a55",
           "#d27575",
           "#529b9c",
           "#eac392",
           "#9cba8f",
           "#675a55",
           "#d27575",
           "#529b9c",
           "#eac392",
           "#9cba8f",
           "#675a55",
           "#d27575",
           "#529b9c",
           "#eac392",
           "#9cba8f",
           "#675a55",
           "#d27575",
           "#529b9c",
           "#eac392",
           "#9cba8f",
           "#675a55",
           "#d27575",
           "#529b9c",
           "#eac392",
           "#9cba8f",
           "#675a55",
           "#d27575",
           "#529b9c",
           "#eac392",
           "#9cba8f",
           "#675a55",
           "#d27575",
           "#529b9c",
           "#eac392",
           "#9cba8f",
           "#675a55",
           "#d27575",
           "#529b9c",
           "#eac392",
           "#9cba8f",
           "#675a55",
           "#d27575",
           "#529b9c",
           "#eac392",
           "#9cba8f",
           "#675a55",
           "#d27575",
           "#529b9c",
           "#eac392",
           "#9cba8f",
           "#675a55",
           "#d27575",
           "#529b9c",
           "#eac392",
           "#9cba8f",
           "#675a55",
           "#d27575",
           "#529b9c",
           "#eac392",
           "#9cba8f",
           "#675a55",
           "#d27575",
           "#529b9c",
           "#eac392",
           "#9cba8f",
           "#675a55",
           "#d27575",
           "#529b9c",
           "#eac392",
           "#9cba8f",
           "#675a55",
           "#d27575",
           "#529b9c",
           "#eac392",
           "#9cba8f",
           "#675a55",
           "#d27575",
           "#529b9c",
           "#eac392",
           "#9cba8f",
           "#675a55",
           "#d27575",
           "#529b9c",
           "#eac392",
           "#9cba8f",
           "#675a55",
           "#d27575",
           "#529b9c",
           "#eac392",
           "#9cba8f",
           "#675a55",
           "#d27575",
           "#529b9c",
           "#eac392",
           "#9cba8f",
           "#675a55",
           "#d27575",
           "#529b9c",
           "#eac392",
           "#9cba8f",
           "#675a55",
           "#d27575",
           "#529b9c",
           "#eac392",
           "#9cba8f",
           "#675a55",
           "#d27575",
           "#529b9c",
           "#eac392",
           "#9cba8f",
           "#675a55",
           "#d27575",
           "#529b9c",
           "#eac392",
           "#9cba8f",
           "#675a55",
           "#d27575",
           "#529b9c",
           "#eac392",
           "#9cba8f",
           "#675a55",
           "#d27575",
           "#529b9c",
           "#eac392",
           "#9cba8f",
           "#675a55",
           "#d27575",
           "#529b9c",
           "#eac392",
           "#9cba8f",
           "#675a55",
           "#d27575",
           "#529b9c",
           "#eac392",
           "#9cba8f",
           "#675a55",
           "#d27575",
           "#529b9c",
           "#eac392",
           "#9cba8f",
           "#675a55",
           "#d27575",
           "#529b9c",
           "#eac392",
           "#9cba8f",
           "#675a55",
           "#d27575",
           "#529b9c",
           "#eac392",
           "#9cba8f",
           "#675a55",
           "#d27575",
           "#529b9c",
           "#eac392",
           "#9cba8f",
           "#675a55",
           "#d27575",
           "#529b9c",
           "#eac392",
           "#9cba8f",
           "#675a55",
           "#d27575",
           "#529b9c",
           "#eac392",
           "#9cba8f",
           "#675a55",
           "#d27575",
           "#529b9c",
           "#eac392",
           "#9cba8f",
           "#675a55",
           "#d27575",
           "#529b9c",
           "#eac392",
           "#9cba8f",
           "#675a55",
           "#d27575",
           "#529b9c",
           "#eac392",
           "#9cba8f",
           "#675a55",
           "#d27575",
           "#529b9c",
           "#eac392",
           "#9cba8f",
           "#675a55",
           "#d27575",
           "#529b9c",
           "#eac392",
           "#9cba8f",
           "#675a55",
           "#d27575",
           "#529b9c",
           "#eac392",
           "#9cba8f",
           "#675a55",
           "#d27575",
           "#529b9c",
           "#eac392",
           "#9cba8f",
           "#675a55",
           "#d27575",
           "#529b9c",
           "#eac392",
           "#9cba8f",
           "#675a55",
           "#d27575",
           "#529b9c",
           "#eac392",
           "#9cba8f",
           "#675a55",
           "#d27575",
           "#529b9c",
           "#eac392",
           "#9cba8f",
           "#675a55",
           "#d27575",
           "#529b9c",
           "#eac392",
           "#9cba8f",
           "#675a55",
           "#d27575",
           "#529b9c",
           "#eac392",
           "#9cba8f",
           "#675a55",
           "#d27575",
           "#529b9c",
           "#eac392",
           "#9cba8f",
           "#675a55",
           "#d27575",
           "#529b9c",
           "#eac392",
           "#9cba8f",
           "#675a55",
           "#d27575",
           "#529b9c",
           "#eac392",
           "#9cba8f",
           "#675a55",
           "#d27575",
           "#529b9c",
           "#eac392",
           "#9cba8f",
           "#675a55",
           "#d27575",
           "#529b9c",
           "#eac392",
           "#9cba8f",
           "#675a55",
           "#d27575",
           "#529b9c",
           "#eac392",
           "#9cba8f",
           "#675a55",
           "#d27575",
           "#529b9c",
           "#eac392",
           "#9cba8f",
           "#675a55",
           "#d27575",
           "#529b9c",
           "#eac392",
           "#9cba8f",
           "#675a55",
           "#d27575",
           "#529b9c",
           "#eac392",
           "#9cba8f",
           "#675a55",
           "#d27575",
           "#529b9c",
           "#eac392",
           "#9cba8f",
           "#675a55",
           "#d27575",
           "#529b9c",
           "#eac392",
           "#9cba8f",
           "#675a55",
           "#d27575",
           "#529b9c",
           "#eac392",
           "#9cba8f",
           "#675a55",
           "#d27575",
           "#529b9c",
           "#eac392",
           "#9cba8f",
           "#675a55",
           "#d27575",
           "#529b9c",
           "#eac392",
           "#9cba8f",
           "#675a55",
           "#d27575",
           "#529b9c",
           "#eac392",
           "#9cba8f",
           "#675a55",
           "#d27575",
           "#529b9c",
           "#eac392",
           "#9cba8f",
           "#675a55",
           "#d27575",
           "#529b9c",
           "#eac392",
           "#9cba8f",
           "#675a55",
           "#d27575",
           "#529b9c",
           "#eac392",
           "#9cba8f",
           "#675a55",
           "#d27575",
           "#529b9c",
           "#eac392",
           "#9cba8f",
           "#675a55",
           "#d27575",
           "#529b9c",
           "#eac392",
           "#9cba8f",
           "#675a55",
           "#d27575",
           "#529b9c",
           "#eac392",
           "#9cba8f",
           "#675a55",
           "#d27575",
           "#529b9c",
           "#eac392",
           "#9cba8f",
           "#675a55",
           "#d27575",
           "#529b9c",
           "#eac392",
           "#9cba8f",
           "#675a55",
           "#d27575",
           "#529b9c",
           "#eac392",
           "#9cba8f",
           "#675a55",
           "#d27575",
           "#529b9c",
           "#eac392",
           "#9cba8f",
           "#675a55",
           "#d27575",
           "#529b9c",
           "#eac392",
           "#9cba8f",
           "#675a55",
           "#d27575",
           "#529b9c",
           "#eac392",
           "#9cba8f",
           "#675a55",
           "#d27575",
           "#529b9c",
           "#eac392",
           "#9cba8f",
           "#675a55",
           "#d27575",
           "#529b9c",
           "#eac392",
           "#9cba8f",
           "#675a55",
           "#d27575",
           "#529b9c",
           "#eac392",
           "#9cba8f",
           "#675a55",
           "#d27575",
           "#529b9c",
           "#eac392",
           "#9cba8f",
           "#675a55",
           "#d27575",
           "#529b9c",
           "#eac392",
           "#9cba8f",
           "#675a55",
           "#d27575",
           "#529b9c",
           "#eac392",
           "#9cba8f",
           "#675a55",
           "#d27575",
           "#529b9c",
           "#eac392",
           "#9cba8f",
           "#675a55",
           "#d27575",
           "#529b9c",
           "#eac392",
           "#9cba8f",
           "#675a55",
           "#d27575",
           "#529b9c",
           "#eac392",
           "#9cba8f",
           "#675a55",
           "#d27575",
           "#529b9c",
           "#eac392",
           "#9cba8f",
           "#675a55",
           "#d27575",
           "#529b9c",
           "#eac392",
           "#9cba8f",
           "#675a55",
           "#d27575",
           "#529b9c",
           "#eac392",
           "#9cba8f",
           "#675a55",
           "#d27575",
           "#529b9c",
           "#eac392",
           "#9cba8f",
           "#675a55",
           "#d27575",
           "#529b9c",
           "#eac392",
           "#9cba8f",
           "#675a55",
           "#d27575",
           "#529b9c",
           "#eac392",
           "#9cba8f",
           "#675a55",
           "#d27575",
           "#529b9c",
           "#eac392",
           "#9cba8f",
           "#675a55",
           "#d27575",
           "#529b9c",
           "#eac392",
           "#9cba8f",
           "#675a55",
           "#d27575",
           "#529b9c",
           "#eac392",
           "#9cba8f",
           "#675a55",
           "#d27575",
           "#529b9c",
           "#eac392",
           "#9cba8f",
           "#675a55",
           "#d27575",
           "#529b9c",
           "#eac392",
           "#9cba8f",
           "#675a55",
           "#d27575",
           "#529b9c",
           "#eac392",
           "#9cba8f",
           "#675a55",
           "#d27575",
           "#529b9c",
           "#eac392",
           "#9cba8f",
           "#675a55",
           "#d27575",
           "#529b9c",
           "#eac392",
           "#9cba8f",
           "#675a55",
           "#d27575",
           "#529b9c",
           "#eac392",
           "#9cba8f",
           "#675a55",
           "#d27575",
           "#529b9c",
           "#eac392",
           "#9cba8f",
           "#675a55",
           "#d27575",
           "#529b9c",
           "#eac392",
           "#9cba8f",
           "#675a55",
           "#d27575",
           "#529b9c",
           "#eac392",
           "#9cba8f",
           "#675a55"
          ]
         },
         "name": "",
         "type": "pie",
         "values": [
          80,
          13,
          8,
          6,
          5,
          5,
          5,
          5,
          4,
          3
         ]
        }
       ],
       "layout": {
        "annotations": [
         {
          "ax": 0,
          "ay": 0,
          "font": {
           "size": 30
          },
          "text": "<sup>Total: 134",
          "x": 0.866,
          "xref": "paper",
          "y": 0.48,
          "yref": "paper"
         }
        ],
        "barmode": "group",
        "font": {
         "color": "#001c40",
         "family": "Baskerville",
         "size": 14
        },
        "height": 600,
        "hoverlabel": {
         "font": {
          "size": 16
         }
        },
        "margin": {
         "b": 45,
         "l": 85,
         "r": 85,
         "t": 120
        },
        "paper_bgcolor": "#f0f0f0",
        "plot_bgcolor": "#f0f0f0",
        "showlegend": false,
        "template": {
         "data": {
          "bar": [
           {
            "error_x": {
             "color": "#2a3f5f"
            },
            "error_y": {
             "color": "#2a3f5f"
            },
            "marker": {
             "line": {
              "color": "#E5ECF6",
              "width": 0.5
             },
             "pattern": {
              "fillmode": "overlay",
              "size": 10,
              "solidity": 0.2
             }
            },
            "type": "bar"
           }
          ],
          "barpolar": [
           {
            "marker": {
             "line": {
              "color": "#E5ECF6",
              "width": 0.5
             },
             "pattern": {
              "fillmode": "overlay",
              "size": 10,
              "solidity": 0.2
             }
            },
            "type": "barpolar"
           }
          ],
          "carpet": [
           {
            "aaxis": {
             "endlinecolor": "#2a3f5f",
             "gridcolor": "white",
             "linecolor": "white",
             "minorgridcolor": "white",
             "startlinecolor": "#2a3f5f"
            },
            "baxis": {
             "endlinecolor": "#2a3f5f",
             "gridcolor": "white",
             "linecolor": "white",
             "minorgridcolor": "white",
             "startlinecolor": "#2a3f5f"
            },
            "type": "carpet"
           }
          ],
          "choropleth": [
           {
            "colorbar": {
             "outlinewidth": 0,
             "ticks": ""
            },
            "type": "choropleth"
           }
          ],
          "contour": [
           {
            "colorbar": {
             "outlinewidth": 0,
             "ticks": ""
            },
            "colorscale": [
             [
              0,
              "#0d0887"
             ],
             [
              0.1111111111111111,
              "#46039f"
             ],
             [
              0.2222222222222222,
              "#7201a8"
             ],
             [
              0.3333333333333333,
              "#9c179e"
             ],
             [
              0.4444444444444444,
              "#bd3786"
             ],
             [
              0.5555555555555556,
              "#d8576b"
             ],
             [
              0.6666666666666666,
              "#ed7953"
             ],
             [
              0.7777777777777778,
              "#fb9f3a"
             ],
             [
              0.8888888888888888,
              "#fdca26"
             ],
             [
              1,
              "#f0f921"
             ]
            ],
            "type": "contour"
           }
          ],
          "contourcarpet": [
           {
            "colorbar": {
             "outlinewidth": 0,
             "ticks": ""
            },
            "type": "contourcarpet"
           }
          ],
          "heatmap": [
           {
            "colorbar": {
             "outlinewidth": 0,
             "ticks": ""
            },
            "colorscale": [
             [
              0,
              "#0d0887"
             ],
             [
              0.1111111111111111,
              "#46039f"
             ],
             [
              0.2222222222222222,
              "#7201a8"
             ],
             [
              0.3333333333333333,
              "#9c179e"
             ],
             [
              0.4444444444444444,
              "#bd3786"
             ],
             [
              0.5555555555555556,
              "#d8576b"
             ],
             [
              0.6666666666666666,
              "#ed7953"
             ],
             [
              0.7777777777777778,
              "#fb9f3a"
             ],
             [
              0.8888888888888888,
              "#fdca26"
             ],
             [
              1,
              "#f0f921"
             ]
            ],
            "type": "heatmap"
           }
          ],
          "heatmapgl": [
           {
            "colorbar": {
             "outlinewidth": 0,
             "ticks": ""
            },
            "colorscale": [
             [
              0,
              "#0d0887"
             ],
             [
              0.1111111111111111,
              "#46039f"
             ],
             [
              0.2222222222222222,
              "#7201a8"
             ],
             [
              0.3333333333333333,
              "#9c179e"
             ],
             [
              0.4444444444444444,
              "#bd3786"
             ],
             [
              0.5555555555555556,
              "#d8576b"
             ],
             [
              0.6666666666666666,
              "#ed7953"
             ],
             [
              0.7777777777777778,
              "#fb9f3a"
             ],
             [
              0.8888888888888888,
              "#fdca26"
             ],
             [
              1,
              "#f0f921"
             ]
            ],
            "type": "heatmapgl"
           }
          ],
          "histogram": [
           {
            "marker": {
             "pattern": {
              "fillmode": "overlay",
              "size": 10,
              "solidity": 0.2
             }
            },
            "type": "histogram"
           }
          ],
          "histogram2d": [
           {
            "colorbar": {
             "outlinewidth": 0,
             "ticks": ""
            },
            "colorscale": [
             [
              0,
              "#0d0887"
             ],
             [
              0.1111111111111111,
              "#46039f"
             ],
             [
              0.2222222222222222,
              "#7201a8"
             ],
             [
              0.3333333333333333,
              "#9c179e"
             ],
             [
              0.4444444444444444,
              "#bd3786"
             ],
             [
              0.5555555555555556,
              "#d8576b"
             ],
             [
              0.6666666666666666,
              "#ed7953"
             ],
             [
              0.7777777777777778,
              "#fb9f3a"
             ],
             [
              0.8888888888888888,
              "#fdca26"
             ],
             [
              1,
              "#f0f921"
             ]
            ],
            "type": "histogram2d"
           }
          ],
          "histogram2dcontour": [
           {
            "colorbar": {
             "outlinewidth": 0,
             "ticks": ""
            },
            "colorscale": [
             [
              0,
              "#0d0887"
             ],
             [
              0.1111111111111111,
              "#46039f"
             ],
             [
              0.2222222222222222,
              "#7201a8"
             ],
             [
              0.3333333333333333,
              "#9c179e"
             ],
             [
              0.4444444444444444,
              "#bd3786"
             ],
             [
              0.5555555555555556,
              "#d8576b"
             ],
             [
              0.6666666666666666,
              "#ed7953"
             ],
             [
              0.7777777777777778,
              "#fb9f3a"
             ],
             [
              0.8888888888888888,
              "#fdca26"
             ],
             [
              1,
              "#f0f921"
             ]
            ],
            "type": "histogram2dcontour"
           }
          ],
          "mesh3d": [
           {
            "colorbar": {
             "outlinewidth": 0,
             "ticks": ""
            },
            "type": "mesh3d"
           }
          ],
          "parcoords": [
           {
            "line": {
             "colorbar": {
              "outlinewidth": 0,
              "ticks": ""
             }
            },
            "type": "parcoords"
           }
          ],
          "pie": [
           {
            "automargin": true,
            "type": "pie"
           }
          ],
          "scatter": [
           {
            "fillpattern": {
             "fillmode": "overlay",
             "size": 10,
             "solidity": 0.2
            },
            "type": "scatter"
           }
          ],
          "scatter3d": [
           {
            "line": {
             "colorbar": {
              "outlinewidth": 0,
              "ticks": ""
             }
            },
            "marker": {
             "colorbar": {
              "outlinewidth": 0,
              "ticks": ""
             }
            },
            "type": "scatter3d"
           }
          ],
          "scattercarpet": [
           {
            "marker": {
             "colorbar": {
              "outlinewidth": 0,
              "ticks": ""
             }
            },
            "type": "scattercarpet"
           }
          ],
          "scattergeo": [
           {
            "marker": {
             "colorbar": {
              "outlinewidth": 0,
              "ticks": ""
             }
            },
            "type": "scattergeo"
           }
          ],
          "scattergl": [
           {
            "marker": {
             "colorbar": {
              "outlinewidth": 0,
              "ticks": ""
             }
            },
            "type": "scattergl"
           }
          ],
          "scattermapbox": [
           {
            "marker": {
             "colorbar": {
              "outlinewidth": 0,
              "ticks": ""
             }
            },
            "type": "scattermapbox"
           }
          ],
          "scatterpolar": [
           {
            "marker": {
             "colorbar": {
              "outlinewidth": 0,
              "ticks": ""
             }
            },
            "type": "scatterpolar"
           }
          ],
          "scatterpolargl": [
           {
            "marker": {
             "colorbar": {
              "outlinewidth": 0,
              "ticks": ""
             }
            },
            "type": "scatterpolargl"
           }
          ],
          "scatterternary": [
           {
            "marker": {
             "colorbar": {
              "outlinewidth": 0,
              "ticks": ""
             }
            },
            "type": "scatterternary"
           }
          ],
          "surface": [
           {
            "colorbar": {
             "outlinewidth": 0,
             "ticks": ""
            },
            "colorscale": [
             [
              0,
              "#0d0887"
             ],
             [
              0.1111111111111111,
              "#46039f"
             ],
             [
              0.2222222222222222,
              "#7201a8"
             ],
             [
              0.3333333333333333,
              "#9c179e"
             ],
             [
              0.4444444444444444,
              "#bd3786"
             ],
             [
              0.5555555555555556,
              "#d8576b"
             ],
             [
              0.6666666666666666,
              "#ed7953"
             ],
             [
              0.7777777777777778,
              "#fb9f3a"
             ],
             [
              0.8888888888888888,
              "#fdca26"
             ],
             [
              1,
              "#f0f921"
             ]
            ],
            "type": "surface"
           }
          ],
          "table": [
           {
            "cells": {
             "fill": {
              "color": "#EBF0F8"
             },
             "line": {
              "color": "white"
             }
            },
            "header": {
             "fill": {
              "color": "#C8D4E3"
             },
             "line": {
              "color": "white"
             }
            },
            "type": "table"
           }
          ]
         },
         "layout": {
          "annotationdefaults": {
           "arrowcolor": "#2a3f5f",
           "arrowhead": 0,
           "arrowwidth": 1
          },
          "autotypenumbers": "strict",
          "coloraxis": {
           "colorbar": {
            "outlinewidth": 0,
            "ticks": ""
           }
          },
          "colorscale": {
           "diverging": [
            [
             0,
             "#8e0152"
            ],
            [
             0.1,
             "#c51b7d"
            ],
            [
             0.2,
             "#de77ae"
            ],
            [
             0.3,
             "#f1b6da"
            ],
            [
             0.4,
             "#fde0ef"
            ],
            [
             0.5,
             "#f7f7f7"
            ],
            [
             0.6,
             "#e6f5d0"
            ],
            [
             0.7,
             "#b8e186"
            ],
            [
             0.8,
             "#7fbc41"
            ],
            [
             0.9,
             "#4d9221"
            ],
            [
             1,
             "#276419"
            ]
           ],
           "sequential": [
            [
             0,
             "#0d0887"
            ],
            [
             0.1111111111111111,
             "#46039f"
            ],
            [
             0.2222222222222222,
             "#7201a8"
            ],
            [
             0.3333333333333333,
             "#9c179e"
            ],
            [
             0.4444444444444444,
             "#bd3786"
            ],
            [
             0.5555555555555556,
             "#d8576b"
            ],
            [
             0.6666666666666666,
             "#ed7953"
            ],
            [
             0.7777777777777778,
             "#fb9f3a"
            ],
            [
             0.8888888888888888,
             "#fdca26"
            ],
            [
             1,
             "#f0f921"
            ]
           ],
           "sequentialminus": [
            [
             0,
             "#0d0887"
            ],
            [
             0.1111111111111111,
             "#46039f"
            ],
            [
             0.2222222222222222,
             "#7201a8"
            ],
            [
             0.3333333333333333,
             "#9c179e"
            ],
            [
             0.4444444444444444,
             "#bd3786"
            ],
            [
             0.5555555555555556,
             "#d8576b"
            ],
            [
             0.6666666666666666,
             "#ed7953"
            ],
            [
             0.7777777777777778,
             "#fb9f3a"
            ],
            [
             0.8888888888888888,
             "#fdca26"
            ],
            [
             1,
             "#f0f921"
            ]
           ]
          },
          "colorway": [
           "#636efa",
           "#EF553B",
           "#00cc96",
           "#ab63fa",
           "#FFA15A",
           "#19d3f3",
           "#FF6692",
           "#B6E880",
           "#FF97FF",
           "#FECB52"
          ],
          "font": {
           "color": "#2a3f5f"
          },
          "geo": {
           "bgcolor": "white",
           "lakecolor": "white",
           "landcolor": "#E5ECF6",
           "showlakes": true,
           "showland": true,
           "subunitcolor": "white"
          },
          "hoverlabel": {
           "align": "left"
          },
          "hovermode": "closest",
          "mapbox": {
           "style": "light"
          },
          "paper_bgcolor": "white",
          "plot_bgcolor": "#E5ECF6",
          "polar": {
           "angularaxis": {
            "gridcolor": "white",
            "linecolor": "white",
            "ticks": ""
           },
           "bgcolor": "#E5ECF6",
           "radialaxis": {
            "gridcolor": "white",
            "linecolor": "white",
            "ticks": ""
           }
          },
          "scene": {
           "xaxis": {
            "backgroundcolor": "#E5ECF6",
            "gridcolor": "white",
            "gridwidth": 2,
            "linecolor": "white",
            "showbackground": true,
            "ticks": "",
            "zerolinecolor": "white"
           },
           "yaxis": {
            "backgroundcolor": "#E5ECF6",
            "gridcolor": "white",
            "gridwidth": 2,
            "linecolor": "white",
            "showbackground": true,
            "ticks": "",
            "zerolinecolor": "white"
           },
           "zaxis": {
            "backgroundcolor": "#E5ECF6",
            "gridcolor": "white",
            "gridwidth": 2,
            "linecolor": "white",
            "showbackground": true,
            "ticks": "",
            "zerolinecolor": "white"
           }
          },
          "shapedefaults": {
           "line": {
            "color": "#2a3f5f"
           }
          },
          "ternary": {
           "aaxis": {
            "gridcolor": "white",
            "linecolor": "white",
            "ticks": ""
           },
           "baxis": {
            "gridcolor": "white",
            "linecolor": "white",
            "ticks": ""
           },
           "bgcolor": "#E5ECF6",
           "caxis": {
            "gridcolor": "white",
            "linecolor": "white",
            "ticks": ""
           }
          },
          "title": {
           "x": 0.05
          },
          "xaxis": {
           "automargin": true,
           "gridcolor": "white",
           "linecolor": "white",
           "ticks": "",
           "title": {
            "standoff": 15
           },
           "zerolinecolor": "white",
           "zerolinewidth": 2
          },
          "yaxis": {
           "automargin": true,
           "gridcolor": "white",
           "linecolor": "white",
           "ticks": "",
           "title": {
            "standoff": 15
           },
           "zerolinecolor": "white",
           "zerolinewidth": 2
          }
         }
        },
        "title": {
         "font": {
          "color": "#001c40",
          "family": "Baskerville, Bold",
          "size": 40
         },
         "text": "Top 10 Most Common Genre/Sub-Genre Pairings<br><sup>Historical Fiction & Warhammer 40,000 really caught my interest in the past few years"
        },
        "xaxis": {
         "anchor": "y",
         "domain": [
          0,
          0.63
         ],
         "gridcolor": "#cbcbcb",
         "linecolor": "black",
         "showgrid": false,
         "showline": true,
         "title": {},
         "zerolinewidth": 1
        },
        "yaxis": {
         "anchor": "x",
         "domain": [
          0,
          1
         ],
         "gridcolor": "#cbcbcb",
         "linecolor": "black",
         "showgrid": true,
         "showline": false,
         "showticklabels": true,
         "title": {},
         "zerolinewidth": 1
        },
        "yaxis2": {
         "gridcolor": "#cbcbcb",
         "linecolor": "black",
         "showgrid": true,
         "showline": false,
         "showticklabels": true,
         "zerolinewidth": 1
        }
       }
      },
      "text/html": [
       "<div>                            <div id=\"0df55ea3-76e2-4d06-b188-d86a2ec8c5f4\" class=\"plotly-graph-div\" style=\"height:600px; width:100%;\"></div>            <script type=\"text/javascript\">                require([\"plotly\"], function(Plotly) {                    window.PLOTLYENV=window.PLOTLYENV || {};                                    if (document.getElementById(\"0df55ea3-76e2-4d06-b188-d86a2ec8c5f4\")) {                    Plotly.newPlot(                        \"0df55ea3-76e2-4d06-b188-d86a2ec8c5f4\",                        [{\"hovertemplate\":\"\\u003cb\\u003e%{x}\\u003c\\u002fb\\u003e: %{y}\",\"marker\":{\"color\":\"#eac392\"},\"name\":\"\",\"x\":[\"Fiction-Warhammer 40k\",\"Fiction-Historical Fiction\",\"Fiction-Classics\",\"Fiction-Fantasy\",\"Fiction-Cultural\",\"Science-Nonfiction\",\"Philosophy-Nonfiction\",\"Nonfiction-Self Help\",\"Fiction-Science Fiction\",\"Nonfiction-History\"],\"y\":[80,13,8,6,5,5,5,5,4,3],\"type\":\"bar\",\"xaxis\":\"x\",\"yaxis\":\"y\"},{\"hole\":0.4,\"hovertemplate\":\"\\u003cb\\u003e%{label}\\u003c\\u002fb\\u003e: %{value}\",\"labels\":[\"Fiction-Warhammer 40k\",\"Fiction-Historical Fiction\",\"Fiction-Classics\",\"Fiction-Fantasy\",\"Fiction-Cultural\",\"Science-Nonfiction\",\"Philosophy-Nonfiction\",\"Nonfiction-Self Help\",\"Fiction-Science Fiction\",\"Nonfiction-History\"],\"marker\":{\"colors\":[\"#d27575\",\"#529b9c\",\"#eac392\",\"#9cba8f\",\"#675a55\",\"#d27575\",\"#529b9c\",\"#eac392\",\"#9cba8f\",\"#675a55\",\"#d27575\",\"#529b9c\",\"#eac392\",\"#9cba8f\",\"#675a55\",\"#d27575\",\"#529b9c\",\"#eac392\",\"#9cba8f\",\"#675a55\",\"#d27575\",\"#529b9c\",\"#eac392\",\"#9cba8f\",\"#675a55\",\"#d27575\",\"#529b9c\",\"#eac392\",\"#9cba8f\",\"#675a55\",\"#d27575\",\"#529b9c\",\"#eac392\",\"#9cba8f\",\"#675a55\",\"#d27575\",\"#529b9c\",\"#eac392\",\"#9cba8f\",\"#675a55\",\"#d27575\",\"#529b9c\",\"#eac392\",\"#9cba8f\",\"#675a55\",\"#d27575\",\"#529b9c\",\"#eac392\",\"#9cba8f\",\"#675a55\",\"#d27575\",\"#529b9c\",\"#eac392\",\"#9cba8f\",\"#675a55\",\"#d27575\",\"#529b9c\",\"#eac392\",\"#9cba8f\",\"#675a55\",\"#d27575\",\"#529b9c\",\"#eac392\",\"#9cba8f\",\"#675a55\",\"#d27575\",\"#529b9c\",\"#eac392\",\"#9cba8f\",\"#675a55\",\"#d27575\",\"#529b9c\",\"#eac392\",\"#9cba8f\",\"#675a55\",\"#d27575\",\"#529b9c\",\"#eac392\",\"#9cba8f\",\"#675a55\",\"#d27575\",\"#529b9c\",\"#eac392\",\"#9cba8f\",\"#675a55\",\"#d27575\",\"#529b9c\",\"#eac392\",\"#9cba8f\",\"#675a55\",\"#d27575\",\"#529b9c\",\"#eac392\",\"#9cba8f\",\"#675a55\",\"#d27575\",\"#529b9c\",\"#eac392\",\"#9cba8f\",\"#675a55\",\"#d27575\",\"#529b9c\",\"#eac392\",\"#9cba8f\",\"#675a55\",\"#d27575\",\"#529b9c\",\"#eac392\",\"#9cba8f\",\"#675a55\",\"#d27575\",\"#529b9c\",\"#eac392\",\"#9cba8f\",\"#675a55\",\"#d27575\",\"#529b9c\",\"#eac392\",\"#9cba8f\",\"#675a55\",\"#d27575\",\"#529b9c\",\"#eac392\",\"#9cba8f\",\"#675a55\",\"#d27575\",\"#529b9c\",\"#eac392\",\"#9cba8f\",\"#675a55\",\"#d27575\",\"#529b9c\",\"#eac392\",\"#9cba8f\",\"#675a55\",\"#d27575\",\"#529b9c\",\"#eac392\",\"#9cba8f\",\"#675a55\",\"#d27575\",\"#529b9c\",\"#eac392\",\"#9cba8f\",\"#675a55\",\"#d27575\",\"#529b9c\",\"#eac392\",\"#9cba8f\",\"#675a55\",\"#d27575\",\"#529b9c\",\"#eac392\",\"#9cba8f\",\"#675a55\",\"#d27575\",\"#529b9c\",\"#eac392\",\"#9cba8f\",\"#675a55\",\"#d27575\",\"#529b9c\",\"#eac392\",\"#9cba8f\",\"#675a55\",\"#d27575\",\"#529b9c\",\"#eac392\",\"#9cba8f\",\"#675a55\",\"#d27575\",\"#529b9c\",\"#eac392\",\"#9cba8f\",\"#675a55\",\"#d27575\",\"#529b9c\",\"#eac392\",\"#9cba8f\",\"#675a55\",\"#d27575\",\"#529b9c\",\"#eac392\",\"#9cba8f\",\"#675a55\",\"#d27575\",\"#529b9c\",\"#eac392\",\"#9cba8f\",\"#675a55\",\"#d27575\",\"#529b9c\",\"#eac392\",\"#9cba8f\",\"#675a55\",\"#d27575\",\"#529b9c\",\"#eac392\",\"#9cba8f\",\"#675a55\",\"#d27575\",\"#529b9c\",\"#eac392\",\"#9cba8f\",\"#675a55\",\"#d27575\",\"#529b9c\",\"#eac392\",\"#9cba8f\",\"#675a55\",\"#d27575\",\"#529b9c\",\"#eac392\",\"#9cba8f\",\"#675a55\",\"#d27575\",\"#529b9c\",\"#eac392\",\"#9cba8f\",\"#675a55\",\"#d27575\",\"#529b9c\",\"#eac392\",\"#9cba8f\",\"#675a55\",\"#d27575\",\"#529b9c\",\"#eac392\",\"#9cba8f\",\"#675a55\",\"#d27575\",\"#529b9c\",\"#eac392\",\"#9cba8f\",\"#675a55\",\"#d27575\",\"#529b9c\",\"#eac392\",\"#9cba8f\",\"#675a55\",\"#d27575\",\"#529b9c\",\"#eac392\",\"#9cba8f\",\"#675a55\",\"#d27575\",\"#529b9c\",\"#eac392\",\"#9cba8f\",\"#675a55\",\"#d27575\",\"#529b9c\",\"#eac392\",\"#9cba8f\",\"#675a55\",\"#d27575\",\"#529b9c\",\"#eac392\",\"#9cba8f\",\"#675a55\",\"#d27575\",\"#529b9c\",\"#eac392\",\"#9cba8f\",\"#675a55\",\"#d27575\",\"#529b9c\",\"#eac392\",\"#9cba8f\",\"#675a55\",\"#d27575\",\"#529b9c\",\"#eac392\",\"#9cba8f\",\"#675a55\",\"#d27575\",\"#529b9c\",\"#eac392\",\"#9cba8f\",\"#675a55\",\"#d27575\",\"#529b9c\",\"#eac392\",\"#9cba8f\",\"#675a55\",\"#d27575\",\"#529b9c\",\"#eac392\",\"#9cba8f\",\"#675a55\",\"#d27575\",\"#529b9c\",\"#eac392\",\"#9cba8f\",\"#675a55\",\"#d27575\",\"#529b9c\",\"#eac392\",\"#9cba8f\",\"#675a55\",\"#d27575\",\"#529b9c\",\"#eac392\",\"#9cba8f\",\"#675a55\",\"#d27575\",\"#529b9c\",\"#eac392\",\"#9cba8f\",\"#675a55\",\"#d27575\",\"#529b9c\",\"#eac392\",\"#9cba8f\",\"#675a55\",\"#d27575\",\"#529b9c\",\"#eac392\",\"#9cba8f\",\"#675a55\",\"#d27575\",\"#529b9c\",\"#eac392\",\"#9cba8f\",\"#675a55\",\"#d27575\",\"#529b9c\",\"#eac392\",\"#9cba8f\",\"#675a55\",\"#d27575\",\"#529b9c\",\"#eac392\",\"#9cba8f\",\"#675a55\",\"#d27575\",\"#529b9c\",\"#eac392\",\"#9cba8f\",\"#675a55\",\"#d27575\",\"#529b9c\",\"#eac392\",\"#9cba8f\",\"#675a55\",\"#d27575\",\"#529b9c\",\"#eac392\",\"#9cba8f\",\"#675a55\",\"#d27575\",\"#529b9c\",\"#eac392\",\"#9cba8f\",\"#675a55\",\"#d27575\",\"#529b9c\",\"#eac392\",\"#9cba8f\",\"#675a55\",\"#d27575\",\"#529b9c\",\"#eac392\",\"#9cba8f\",\"#675a55\",\"#d27575\",\"#529b9c\",\"#eac392\",\"#9cba8f\",\"#675a55\",\"#d27575\",\"#529b9c\",\"#eac392\",\"#9cba8f\",\"#675a55\",\"#d27575\",\"#529b9c\",\"#eac392\",\"#9cba8f\",\"#675a55\",\"#d27575\",\"#529b9c\",\"#eac392\",\"#9cba8f\",\"#675a55\",\"#d27575\",\"#529b9c\",\"#eac392\",\"#9cba8f\",\"#675a55\",\"#d27575\",\"#529b9c\",\"#eac392\",\"#9cba8f\",\"#675a55\",\"#d27575\",\"#529b9c\",\"#eac392\",\"#9cba8f\",\"#675a55\",\"#d27575\",\"#529b9c\",\"#eac392\",\"#9cba8f\",\"#675a55\",\"#d27575\",\"#529b9c\",\"#eac392\",\"#9cba8f\",\"#675a55\",\"#d27575\",\"#529b9c\",\"#eac392\",\"#9cba8f\",\"#675a55\",\"#d27575\",\"#529b9c\",\"#eac392\",\"#9cba8f\",\"#675a55\",\"#d27575\",\"#529b9c\",\"#eac392\",\"#9cba8f\",\"#675a55\",\"#d27575\",\"#529b9c\",\"#eac392\",\"#9cba8f\",\"#675a55\",\"#d27575\",\"#529b9c\",\"#eac392\",\"#9cba8f\",\"#675a55\",\"#d27575\",\"#529b9c\",\"#eac392\",\"#9cba8f\",\"#675a55\",\"#d27575\",\"#529b9c\",\"#eac392\",\"#9cba8f\",\"#675a55\",\"#d27575\",\"#529b9c\",\"#eac392\",\"#9cba8f\",\"#675a55\",\"#d27575\",\"#529b9c\",\"#eac392\",\"#9cba8f\",\"#675a55\",\"#d27575\",\"#529b9c\",\"#eac392\",\"#9cba8f\",\"#675a55\",\"#d27575\",\"#529b9c\",\"#eac392\",\"#9cba8f\",\"#675a55\",\"#d27575\",\"#529b9c\",\"#eac392\",\"#9cba8f\",\"#675a55\",\"#d27575\",\"#529b9c\",\"#eac392\",\"#9cba8f\",\"#675a55\",\"#d27575\",\"#529b9c\",\"#eac392\",\"#9cba8f\",\"#675a55\",\"#d27575\",\"#529b9c\",\"#eac392\",\"#9cba8f\",\"#675a55\",\"#d27575\",\"#529b9c\",\"#eac392\",\"#9cba8f\",\"#675a55\",\"#d27575\",\"#529b9c\",\"#eac392\",\"#9cba8f\",\"#675a55\",\"#d27575\",\"#529b9c\",\"#eac392\",\"#9cba8f\",\"#675a55\",\"#d27575\",\"#529b9c\",\"#eac392\",\"#9cba8f\",\"#675a55\",\"#d27575\",\"#529b9c\",\"#eac392\",\"#9cba8f\",\"#675a55\",\"#d27575\",\"#529b9c\",\"#eac392\",\"#9cba8f\",\"#675a55\",\"#d27575\",\"#529b9c\",\"#eac392\",\"#9cba8f\",\"#675a55\",\"#d27575\",\"#529b9c\",\"#eac392\",\"#9cba8f\",\"#675a55\",\"#d27575\",\"#529b9c\",\"#eac392\",\"#9cba8f\",\"#675a55\",\"#d27575\",\"#529b9c\",\"#eac392\",\"#9cba8f\",\"#675a55\",\"#d27575\",\"#529b9c\",\"#eac392\",\"#9cba8f\",\"#675a55\",\"#d27575\",\"#529b9c\",\"#eac392\",\"#9cba8f\",\"#675a55\",\"#d27575\",\"#529b9c\",\"#eac392\",\"#9cba8f\",\"#675a55\",\"#d27575\",\"#529b9c\",\"#eac392\",\"#9cba8f\",\"#675a55\",\"#d27575\",\"#529b9c\",\"#eac392\",\"#9cba8f\",\"#675a55\",\"#d27575\",\"#529b9c\",\"#eac392\",\"#9cba8f\",\"#675a55\",\"#d27575\",\"#529b9c\",\"#eac392\",\"#9cba8f\",\"#675a55\",\"#d27575\",\"#529b9c\",\"#eac392\",\"#9cba8f\",\"#675a55\",\"#d27575\",\"#529b9c\",\"#eac392\",\"#9cba8f\",\"#675a55\",\"#d27575\",\"#529b9c\",\"#eac392\",\"#9cba8f\",\"#675a55\",\"#d27575\",\"#529b9c\",\"#eac392\",\"#9cba8f\",\"#675a55\",\"#d27575\",\"#529b9c\",\"#eac392\",\"#9cba8f\",\"#675a55\",\"#d27575\",\"#529b9c\",\"#eac392\",\"#9cba8f\",\"#675a55\",\"#d27575\",\"#529b9c\",\"#eac392\",\"#9cba8f\",\"#675a55\",\"#d27575\",\"#529b9c\",\"#eac392\",\"#9cba8f\",\"#675a55\",\"#d27575\",\"#529b9c\",\"#eac392\",\"#9cba8f\",\"#675a55\",\"#d27575\",\"#529b9c\",\"#eac392\",\"#9cba8f\",\"#675a55\",\"#d27575\",\"#529b9c\",\"#eac392\",\"#9cba8f\",\"#675a55\",\"#d27575\",\"#529b9c\",\"#eac392\",\"#9cba8f\",\"#675a55\",\"#d27575\",\"#529b9c\",\"#eac392\",\"#9cba8f\",\"#675a55\",\"#d27575\",\"#529b9c\",\"#eac392\",\"#9cba8f\",\"#675a55\",\"#d27575\",\"#529b9c\",\"#eac392\",\"#9cba8f\",\"#675a55\",\"#d27575\",\"#529b9c\",\"#eac392\",\"#9cba8f\",\"#675a55\",\"#d27575\",\"#529b9c\",\"#eac392\",\"#9cba8f\",\"#675a55\",\"#d27575\",\"#529b9c\",\"#eac392\",\"#9cba8f\",\"#675a55\",\"#d27575\",\"#529b9c\",\"#eac392\",\"#9cba8f\",\"#675a55\",\"#d27575\",\"#529b9c\",\"#eac392\",\"#9cba8f\",\"#675a55\",\"#d27575\",\"#529b9c\",\"#eac392\",\"#9cba8f\",\"#675a55\",\"#d27575\",\"#529b9c\",\"#eac392\",\"#9cba8f\",\"#675a55\",\"#d27575\",\"#529b9c\",\"#eac392\",\"#9cba8f\",\"#675a55\",\"#d27575\",\"#529b9c\",\"#eac392\",\"#9cba8f\",\"#675a55\",\"#d27575\",\"#529b9c\",\"#eac392\",\"#9cba8f\",\"#675a55\",\"#d27575\",\"#529b9c\",\"#eac392\",\"#9cba8f\",\"#675a55\",\"#d27575\",\"#529b9c\",\"#eac392\",\"#9cba8f\",\"#675a55\",\"#d27575\",\"#529b9c\",\"#eac392\",\"#9cba8f\",\"#675a55\",\"#d27575\",\"#529b9c\",\"#eac392\",\"#9cba8f\",\"#675a55\",\"#d27575\",\"#529b9c\",\"#eac392\",\"#9cba8f\",\"#675a55\",\"#d27575\",\"#529b9c\",\"#eac392\",\"#9cba8f\",\"#675a55\",\"#d27575\",\"#529b9c\",\"#eac392\",\"#9cba8f\",\"#675a55\",\"#d27575\",\"#529b9c\",\"#eac392\",\"#9cba8f\",\"#675a55\",\"#d27575\",\"#529b9c\",\"#eac392\",\"#9cba8f\",\"#675a55\",\"#d27575\",\"#529b9c\",\"#eac392\",\"#9cba8f\",\"#675a55\",\"#d27575\",\"#529b9c\",\"#eac392\",\"#9cba8f\",\"#675a55\"]},\"name\":\"\",\"values\":[80,13,8,6,5,5,5,5,4,3],\"type\":\"pie\",\"domain\":{\"x\":[0.73,1.0],\"y\":[0.0,1.0]}}],                        {\"template\":{\"data\":{\"histogram2dcontour\":[{\"type\":\"histogram2dcontour\",\"colorbar\":{\"outlinewidth\":0,\"ticks\":\"\"},\"colorscale\":[[0.0,\"#0d0887\"],[0.1111111111111111,\"#46039f\"],[0.2222222222222222,\"#7201a8\"],[0.3333333333333333,\"#9c179e\"],[0.4444444444444444,\"#bd3786\"],[0.5555555555555556,\"#d8576b\"],[0.6666666666666666,\"#ed7953\"],[0.7777777777777778,\"#fb9f3a\"],[0.8888888888888888,\"#fdca26\"],[1.0,\"#f0f921\"]]}],\"choropleth\":[{\"type\":\"choropleth\",\"colorbar\":{\"outlinewidth\":0,\"ticks\":\"\"}}],\"histogram2d\":[{\"type\":\"histogram2d\",\"colorbar\":{\"outlinewidth\":0,\"ticks\":\"\"},\"colorscale\":[[0.0,\"#0d0887\"],[0.1111111111111111,\"#46039f\"],[0.2222222222222222,\"#7201a8\"],[0.3333333333333333,\"#9c179e\"],[0.4444444444444444,\"#bd3786\"],[0.5555555555555556,\"#d8576b\"],[0.6666666666666666,\"#ed7953\"],[0.7777777777777778,\"#fb9f3a\"],[0.8888888888888888,\"#fdca26\"],[1.0,\"#f0f921\"]]}],\"heatmap\":[{\"type\":\"heatmap\",\"colorbar\":{\"outlinewidth\":0,\"ticks\":\"\"},\"colorscale\":[[0.0,\"#0d0887\"],[0.1111111111111111,\"#46039f\"],[0.2222222222222222,\"#7201a8\"],[0.3333333333333333,\"#9c179e\"],[0.4444444444444444,\"#bd3786\"],[0.5555555555555556,\"#d8576b\"],[0.6666666666666666,\"#ed7953\"],[0.7777777777777778,\"#fb9f3a\"],[0.8888888888888888,\"#fdca26\"],[1.0,\"#f0f921\"]]}],\"heatmapgl\":[{\"type\":\"heatmapgl\",\"colorbar\":{\"outlinewidth\":0,\"ticks\":\"\"},\"colorscale\":[[0.0,\"#0d0887\"],[0.1111111111111111,\"#46039f\"],[0.2222222222222222,\"#7201a8\"],[0.3333333333333333,\"#9c179e\"],[0.4444444444444444,\"#bd3786\"],[0.5555555555555556,\"#d8576b\"],[0.6666666666666666,\"#ed7953\"],[0.7777777777777778,\"#fb9f3a\"],[0.8888888888888888,\"#fdca26\"],[1.0,\"#f0f921\"]]}],\"contourcarpet\":[{\"type\":\"contourcarpet\",\"colorbar\":{\"outlinewidth\":0,\"ticks\":\"\"}}],\"contour\":[{\"type\":\"contour\",\"colorbar\":{\"outlinewidth\":0,\"ticks\":\"\"},\"colorscale\":[[0.0,\"#0d0887\"],[0.1111111111111111,\"#46039f\"],[0.2222222222222222,\"#7201a8\"],[0.3333333333333333,\"#9c179e\"],[0.4444444444444444,\"#bd3786\"],[0.5555555555555556,\"#d8576b\"],[0.6666666666666666,\"#ed7953\"],[0.7777777777777778,\"#fb9f3a\"],[0.8888888888888888,\"#fdca26\"],[1.0,\"#f0f921\"]]}],\"surface\":[{\"type\":\"surface\",\"colorbar\":{\"outlinewidth\":0,\"ticks\":\"\"},\"colorscale\":[[0.0,\"#0d0887\"],[0.1111111111111111,\"#46039f\"],[0.2222222222222222,\"#7201a8\"],[0.3333333333333333,\"#9c179e\"],[0.4444444444444444,\"#bd3786\"],[0.5555555555555556,\"#d8576b\"],[0.6666666666666666,\"#ed7953\"],[0.7777777777777778,\"#fb9f3a\"],[0.8888888888888888,\"#fdca26\"],[1.0,\"#f0f921\"]]}],\"mesh3d\":[{\"type\":\"mesh3d\",\"colorbar\":{\"outlinewidth\":0,\"ticks\":\"\"}}],\"scatter\":[{\"fillpattern\":{\"fillmode\":\"overlay\",\"size\":10,\"solidity\":0.2},\"type\":\"scatter\"}],\"parcoords\":[{\"type\":\"parcoords\",\"line\":{\"colorbar\":{\"outlinewidth\":0,\"ticks\":\"\"}}}],\"scatterpolargl\":[{\"type\":\"scatterpolargl\",\"marker\":{\"colorbar\":{\"outlinewidth\":0,\"ticks\":\"\"}}}],\"bar\":[{\"error_x\":{\"color\":\"#2a3f5f\"},\"error_y\":{\"color\":\"#2a3f5f\"},\"marker\":{\"line\":{\"color\":\"#E5ECF6\",\"width\":0.5},\"pattern\":{\"fillmode\":\"overlay\",\"size\":10,\"solidity\":0.2}},\"type\":\"bar\"}],\"scattergeo\":[{\"type\":\"scattergeo\",\"marker\":{\"colorbar\":{\"outlinewidth\":0,\"ticks\":\"\"}}}],\"scatterpolar\":[{\"type\":\"scatterpolar\",\"marker\":{\"colorbar\":{\"outlinewidth\":0,\"ticks\":\"\"}}}],\"histogram\":[{\"marker\":{\"pattern\":{\"fillmode\":\"overlay\",\"size\":10,\"solidity\":0.2}},\"type\":\"histogram\"}],\"scattergl\":[{\"type\":\"scattergl\",\"marker\":{\"colorbar\":{\"outlinewidth\":0,\"ticks\":\"\"}}}],\"scatter3d\":[{\"type\":\"scatter3d\",\"line\":{\"colorbar\":{\"outlinewidth\":0,\"ticks\":\"\"}},\"marker\":{\"colorbar\":{\"outlinewidth\":0,\"ticks\":\"\"}}}],\"scattermapbox\":[{\"type\":\"scattermapbox\",\"marker\":{\"colorbar\":{\"outlinewidth\":0,\"ticks\":\"\"}}}],\"scatterternary\":[{\"type\":\"scatterternary\",\"marker\":{\"colorbar\":{\"outlinewidth\":0,\"ticks\":\"\"}}}],\"scattercarpet\":[{\"type\":\"scattercarpet\",\"marker\":{\"colorbar\":{\"outlinewidth\":0,\"ticks\":\"\"}}}],\"carpet\":[{\"aaxis\":{\"endlinecolor\":\"#2a3f5f\",\"gridcolor\":\"white\",\"linecolor\":\"white\",\"minorgridcolor\":\"white\",\"startlinecolor\":\"#2a3f5f\"},\"baxis\":{\"endlinecolor\":\"#2a3f5f\",\"gridcolor\":\"white\",\"linecolor\":\"white\",\"minorgridcolor\":\"white\",\"startlinecolor\":\"#2a3f5f\"},\"type\":\"carpet\"}],\"table\":[{\"cells\":{\"fill\":{\"color\":\"#EBF0F8\"},\"line\":{\"color\":\"white\"}},\"header\":{\"fill\":{\"color\":\"#C8D4E3\"},\"line\":{\"color\":\"white\"}},\"type\":\"table\"}],\"barpolar\":[{\"marker\":{\"line\":{\"color\":\"#E5ECF6\",\"width\":0.5},\"pattern\":{\"fillmode\":\"overlay\",\"size\":10,\"solidity\":0.2}},\"type\":\"barpolar\"}],\"pie\":[{\"automargin\":true,\"type\":\"pie\"}]},\"layout\":{\"autotypenumbers\":\"strict\",\"colorway\":[\"#636efa\",\"#EF553B\",\"#00cc96\",\"#ab63fa\",\"#FFA15A\",\"#19d3f3\",\"#FF6692\",\"#B6E880\",\"#FF97FF\",\"#FECB52\"],\"font\":{\"color\":\"#2a3f5f\"},\"hovermode\":\"closest\",\"hoverlabel\":{\"align\":\"left\"},\"paper_bgcolor\":\"white\",\"plot_bgcolor\":\"#E5ECF6\",\"polar\":{\"bgcolor\":\"#E5ECF6\",\"angularaxis\":{\"gridcolor\":\"white\",\"linecolor\":\"white\",\"ticks\":\"\"},\"radialaxis\":{\"gridcolor\":\"white\",\"linecolor\":\"white\",\"ticks\":\"\"}},\"ternary\":{\"bgcolor\":\"#E5ECF6\",\"aaxis\":{\"gridcolor\":\"white\",\"linecolor\":\"white\",\"ticks\":\"\"},\"baxis\":{\"gridcolor\":\"white\",\"linecolor\":\"white\",\"ticks\":\"\"},\"caxis\":{\"gridcolor\":\"white\",\"linecolor\":\"white\",\"ticks\":\"\"}},\"coloraxis\":{\"colorbar\":{\"outlinewidth\":0,\"ticks\":\"\"}},\"colorscale\":{\"sequential\":[[0.0,\"#0d0887\"],[0.1111111111111111,\"#46039f\"],[0.2222222222222222,\"#7201a8\"],[0.3333333333333333,\"#9c179e\"],[0.4444444444444444,\"#bd3786\"],[0.5555555555555556,\"#d8576b\"],[0.6666666666666666,\"#ed7953\"],[0.7777777777777778,\"#fb9f3a\"],[0.8888888888888888,\"#fdca26\"],[1.0,\"#f0f921\"]],\"sequentialminus\":[[0.0,\"#0d0887\"],[0.1111111111111111,\"#46039f\"],[0.2222222222222222,\"#7201a8\"],[0.3333333333333333,\"#9c179e\"],[0.4444444444444444,\"#bd3786\"],[0.5555555555555556,\"#d8576b\"],[0.6666666666666666,\"#ed7953\"],[0.7777777777777778,\"#fb9f3a\"],[0.8888888888888888,\"#fdca26\"],[1.0,\"#f0f921\"]],\"diverging\":[[0,\"#8e0152\"],[0.1,\"#c51b7d\"],[0.2,\"#de77ae\"],[0.3,\"#f1b6da\"],[0.4,\"#fde0ef\"],[0.5,\"#f7f7f7\"],[0.6,\"#e6f5d0\"],[0.7,\"#b8e186\"],[0.8,\"#7fbc41\"],[0.9,\"#4d9221\"],[1,\"#276419\"]]},\"xaxis\":{\"gridcolor\":\"white\",\"linecolor\":\"white\",\"ticks\":\"\",\"title\":{\"standoff\":15},\"zerolinecolor\":\"white\",\"automargin\":true,\"zerolinewidth\":2},\"yaxis\":{\"gridcolor\":\"white\",\"linecolor\":\"white\",\"ticks\":\"\",\"title\":{\"standoff\":15},\"zerolinecolor\":\"white\",\"automargin\":true,\"zerolinewidth\":2},\"scene\":{\"xaxis\":{\"backgroundcolor\":\"#E5ECF6\",\"gridcolor\":\"white\",\"linecolor\":\"white\",\"showbackground\":true,\"ticks\":\"\",\"zerolinecolor\":\"white\",\"gridwidth\":2},\"yaxis\":{\"backgroundcolor\":\"#E5ECF6\",\"gridcolor\":\"white\",\"linecolor\":\"white\",\"showbackground\":true,\"ticks\":\"\",\"zerolinecolor\":\"white\",\"gridwidth\":2},\"zaxis\":{\"backgroundcolor\":\"#E5ECF6\",\"gridcolor\":\"white\",\"linecolor\":\"white\",\"showbackground\":true,\"ticks\":\"\",\"zerolinecolor\":\"white\",\"gridwidth\":2}},\"shapedefaults\":{\"line\":{\"color\":\"#2a3f5f\"}},\"annotationdefaults\":{\"arrowcolor\":\"#2a3f5f\",\"arrowhead\":0,\"arrowwidth\":1},\"geo\":{\"bgcolor\":\"white\",\"landcolor\":\"#E5ECF6\",\"subunitcolor\":\"white\",\"showland\":true,\"showlakes\":true,\"lakecolor\":\"white\"},\"title\":{\"x\":0.05},\"mapbox\":{\"style\":\"light\"}}},\"xaxis\":{\"anchor\":\"y\",\"domain\":[0.0,0.63],\"title\":{},\"showgrid\":false,\"showline\":true,\"linecolor\":\"black\",\"gridcolor\":\"#cbcbcb\",\"zerolinewidth\":1},\"yaxis\":{\"anchor\":\"x\",\"domain\":[0.0,1.0],\"title\":{},\"showgrid\":true,\"showline\":false,\"showticklabels\":true,\"linecolor\":\"black\",\"gridcolor\":\"#cbcbcb\",\"zerolinewidth\":1},\"annotations\":[{\"ax\":0,\"ay\":0,\"font\":{\"size\":30},\"text\":\"\\u003csup\\u003eTotal: 134\",\"x\":0.866,\"xref\":\"paper\",\"y\":0.48,\"yref\":\"paper\"}],\"title\":{\"font\":{\"size\":40,\"family\":\"Baskerville, Bold\",\"color\":\"#001c40\"},\"text\":\"Top 10 Most Common Genre\\u002fSub-Genre Pairings\\u003cbr\\u003e\\u003csup\\u003eHistorical Fiction & Warhammer 40,000 really caught my interest in the past few years\"},\"margin\":{\"l\":85,\"r\":85,\"t\":120,\"b\":45},\"yaxis2\":{\"showgrid\":true,\"showline\":false,\"showticklabels\":true,\"linecolor\":\"black\",\"gridcolor\":\"#cbcbcb\",\"zerolinewidth\":1},\"font\":{\"family\":\"Baskerville\",\"color\":\"#001c40\",\"size\":14},\"hoverlabel\":{\"font\":{\"size\":16}},\"height\":600,\"showlegend\":false,\"barmode\":\"group\",\"plot_bgcolor\":\"#f0f0f0\",\"paper_bgcolor\":\"#f0f0f0\"},                        {\"modeBarButtonsToRemove\": [\"zoomIn\", \"zoomOut\", \"resetScale2d\", \"select2d\", \"lasso2d\"], \"responsive\": true, \"displaylogo\": false, \"toImageButtonOptions\": {\"format\": \"png\", \"filename\": \"reading-habits\", \"scale\": 1}}                    ).then(function(){\n",
       "                            \n",
       "var gd = document.getElementById('0df55ea3-76e2-4d06-b188-d86a2ec8c5f4');\n",
       "var x = new MutationObserver(function (mutations, observer) {{\n",
       "        var display = window.getComputedStyle(gd).display;\n",
       "        if (!display || display === 'none') {{\n",
       "            console.log([gd, 'removed!']);\n",
       "            Plotly.purge(gd);\n",
       "            observer.disconnect();\n",
       "        }}\n",
       "}});\n",
       "\n",
       "// Listen for the removal of the full notebook cells\n",
       "var notebookContainer = gd.closest('#notebook-container');\n",
       "if (notebookContainer) {{\n",
       "    x.observe(notebookContainer, {childList: true});\n",
       "}}\n",
       "\n",
       "// Listen for the clearing of the current output cell\n",
       "var outputEl = gd.closest('.output');\n",
       "if (outputEl) {{\n",
       "    x.observe(outputEl, {childList: true});\n",
       "}}\n",
       "\n",
       "                        })                };                });            </script>        </div>"
      ]
     },
     "metadata": {},
     "output_type": "display_data"
    }
   ],
   "source": [
    "df['Genre Pair'] = df['Genre'] + '-' + df['Sub-Genre']\n",
    "title = \"Top 10 Most Common Genre/Sub-Genre Pairings\"\n",
    "sub = f\"Historical Fiction & Warhammer 40,000 really caught my interest in the past few years\"\n",
    "plot.gen_bar_pie_graph(df, 'Genre Pair', title, sub, num=10, color=\"#eac392\")"
   ]
  },
  {
   "cell_type": "markdown",
   "id": "641ddca7-eb7e-4a5d-aa47-79fd8b567e83",
   "metadata": {},
   "source": [
    "### Do I have a favorite author?\n",
    "\n",
    "This one can  be a little misleading, because I know for a fact that I have read a ton of Neil Gaiman's novels, however I didn't track any of them in my spreadsheet because I read them well over a decade ago (I only started tracking data for this project in 2020). So this gives you a more updated look at who I'm reading recently."
   ]
  },
  {
   "cell_type": "code",
   "execution_count": 34,
   "id": "a837ecd8-be89-4e1d-bf71-59b6ffc07dc3",
   "metadata": {
    "execution": {
     "iopub.execute_input": "2024-07-27T23:38:50.321312Z",
     "iopub.status.busy": "2024-07-27T23:38:50.320328Z",
     "iopub.status.idle": "2024-07-27T23:38:50.351245Z",
     "shell.execute_reply": "2024-07-27T23:38:50.351245Z",
     "shell.execute_reply.started": "2024-07-27T23:38:50.321312Z"
    },
    "tags": []
   },
   "outputs": [
    {
     "data": {
      "application/vnd.plotly.v1+json": {
       "config": {
        "displaylogo": false,
        "modeBarButtonsToRemove": [
         "zoomIn",
         "zoomOut",
         "resetScale2d",
         "select2d",
         "lasso2d"
        ],
        "plotlyServerURL": "https://plot.ly",
        "responsive": true,
        "toImageButtonOptions": {
         "filename": "reading-habits",
         "format": "png",
         "scale": 1
        }
       },
       "data": [
        {
         "hovertemplate": "<b>%{x}</b>: %{y}",
         "marker": {
          "color": "#9cba8f"
         },
         "name": "",
         "type": "bar",
         "x": [
          "Graham McNeill",
          "Aaron Dembski-Bowden",
          "Gav Thorpe",
          "Dan Abnett",
          "Haruki Murakami"
         ],
         "xaxis": "x",
         "y": [
          11,
          10,
          10,
          9,
          8
         ],
         "yaxis": "y"
        },
        {
         "domain": {
          "x": [
           0.73,
           1
          ],
          "y": [
           0,
           1
          ]
         },
         "hole": 0.4,
         "hovertemplate": "<b>%{label}</b>: %{value}",
         "labels": [
          "Graham McNeill",
          "Aaron Dembski-Bowden",
          "Gav Thorpe",
          "Dan Abnett",
          "Haruki Murakami"
         ],
         "marker": {
          "colors": [
           "#d27575",
           "#529b9c",
           "#eac392",
           "#9cba8f",
           "#675a55",
           "#d27575",
           "#529b9c",
           "#eac392",
           "#9cba8f",
           "#675a55",
           "#d27575",
           "#529b9c",
           "#eac392",
           "#9cba8f",
           "#675a55",
           "#d27575",
           "#529b9c",
           "#eac392",
           "#9cba8f",
           "#675a55",
           "#d27575",
           "#529b9c",
           "#eac392",
           "#9cba8f",
           "#675a55",
           "#d27575",
           "#529b9c",
           "#eac392",
           "#9cba8f",
           "#675a55",
           "#d27575",
           "#529b9c",
           "#eac392",
           "#9cba8f",
           "#675a55",
           "#d27575",
           "#529b9c",
           "#eac392",
           "#9cba8f",
           "#675a55",
           "#d27575",
           "#529b9c",
           "#eac392",
           "#9cba8f",
           "#675a55",
           "#d27575",
           "#529b9c",
           "#eac392",
           "#9cba8f",
           "#675a55",
           "#d27575",
           "#529b9c",
           "#eac392",
           "#9cba8f",
           "#675a55",
           "#d27575",
           "#529b9c",
           "#eac392",
           "#9cba8f",
           "#675a55",
           "#d27575",
           "#529b9c",
           "#eac392",
           "#9cba8f",
           "#675a55",
           "#d27575",
           "#529b9c",
           "#eac392",
           "#9cba8f",
           "#675a55",
           "#d27575",
           "#529b9c",
           "#eac392",
           "#9cba8f",
           "#675a55",
           "#d27575",
           "#529b9c",
           "#eac392",
           "#9cba8f",
           "#675a55",
           "#d27575",
           "#529b9c",
           "#eac392",
           "#9cba8f",
           "#675a55",
           "#d27575",
           "#529b9c",
           "#eac392",
           "#9cba8f",
           "#675a55",
           "#d27575",
           "#529b9c",
           "#eac392",
           "#9cba8f",
           "#675a55",
           "#d27575",
           "#529b9c",
           "#eac392",
           "#9cba8f",
           "#675a55",
           "#d27575",
           "#529b9c",
           "#eac392",
           "#9cba8f",
           "#675a55",
           "#d27575",
           "#529b9c",
           "#eac392",
           "#9cba8f",
           "#675a55",
           "#d27575",
           "#529b9c",
           "#eac392",
           "#9cba8f",
           "#675a55",
           "#d27575",
           "#529b9c",
           "#eac392",
           "#9cba8f",
           "#675a55",
           "#d27575",
           "#529b9c",
           "#eac392",
           "#9cba8f",
           "#675a55",
           "#d27575",
           "#529b9c",
           "#eac392",
           "#9cba8f",
           "#675a55",
           "#d27575",
           "#529b9c",
           "#eac392",
           "#9cba8f",
           "#675a55",
           "#d27575",
           "#529b9c",
           "#eac392",
           "#9cba8f",
           "#675a55",
           "#d27575",
           "#529b9c",
           "#eac392",
           "#9cba8f",
           "#675a55",
           "#d27575",
           "#529b9c",
           "#eac392",
           "#9cba8f",
           "#675a55",
           "#d27575",
           "#529b9c",
           "#eac392",
           "#9cba8f",
           "#675a55",
           "#d27575",
           "#529b9c",
           "#eac392",
           "#9cba8f",
           "#675a55",
           "#d27575",
           "#529b9c",
           "#eac392",
           "#9cba8f",
           "#675a55",
           "#d27575",
           "#529b9c",
           "#eac392",
           "#9cba8f",
           "#675a55",
           "#d27575",
           "#529b9c",
           "#eac392",
           "#9cba8f",
           "#675a55",
           "#d27575",
           "#529b9c",
           "#eac392",
           "#9cba8f",
           "#675a55",
           "#d27575",
           "#529b9c",
           "#eac392",
           "#9cba8f",
           "#675a55",
           "#d27575",
           "#529b9c",
           "#eac392",
           "#9cba8f",
           "#675a55",
           "#d27575",
           "#529b9c",
           "#eac392",
           "#9cba8f",
           "#675a55",
           "#d27575",
           "#529b9c",
           "#eac392",
           "#9cba8f",
           "#675a55",
           "#d27575",
           "#529b9c",
           "#eac392",
           "#9cba8f",
           "#675a55",
           "#d27575",
           "#529b9c",
           "#eac392",
           "#9cba8f",
           "#675a55",
           "#d27575",
           "#529b9c",
           "#eac392",
           "#9cba8f",
           "#675a55",
           "#d27575",
           "#529b9c",
           "#eac392",
           "#9cba8f",
           "#675a55",
           "#d27575",
           "#529b9c",
           "#eac392",
           "#9cba8f",
           "#675a55",
           "#d27575",
           "#529b9c",
           "#eac392",
           "#9cba8f",
           "#675a55",
           "#d27575",
           "#529b9c",
           "#eac392",
           "#9cba8f",
           "#675a55",
           "#d27575",
           "#529b9c",
           "#eac392",
           "#9cba8f",
           "#675a55",
           "#d27575",
           "#529b9c",
           "#eac392",
           "#9cba8f",
           "#675a55",
           "#d27575",
           "#529b9c",
           "#eac392",
           "#9cba8f",
           "#675a55",
           "#d27575",
           "#529b9c",
           "#eac392",
           "#9cba8f",
           "#675a55",
           "#d27575",
           "#529b9c",
           "#eac392",
           "#9cba8f",
           "#675a55",
           "#d27575",
           "#529b9c",
           "#eac392",
           "#9cba8f",
           "#675a55",
           "#d27575",
           "#529b9c",
           "#eac392",
           "#9cba8f",
           "#675a55",
           "#d27575",
           "#529b9c",
           "#eac392",
           "#9cba8f",
           "#675a55",
           "#d27575",
           "#529b9c",
           "#eac392",
           "#9cba8f",
           "#675a55",
           "#d27575",
           "#529b9c",
           "#eac392",
           "#9cba8f",
           "#675a55",
           "#d27575",
           "#529b9c",
           "#eac392",
           "#9cba8f",
           "#675a55",
           "#d27575",
           "#529b9c",
           "#eac392",
           "#9cba8f",
           "#675a55",
           "#d27575",
           "#529b9c",
           "#eac392",
           "#9cba8f",
           "#675a55",
           "#d27575",
           "#529b9c",
           "#eac392",
           "#9cba8f",
           "#675a55",
           "#d27575",
           "#529b9c",
           "#eac392",
           "#9cba8f",
           "#675a55",
           "#d27575",
           "#529b9c",
           "#eac392",
           "#9cba8f",
           "#675a55",
           "#d27575",
           "#529b9c",
           "#eac392",
           "#9cba8f",
           "#675a55",
           "#d27575",
           "#529b9c",
           "#eac392",
           "#9cba8f",
           "#675a55",
           "#d27575",
           "#529b9c",
           "#eac392",
           "#9cba8f",
           "#675a55",
           "#d27575",
           "#529b9c",
           "#eac392",
           "#9cba8f",
           "#675a55",
           "#d27575",
           "#529b9c",
           "#eac392",
           "#9cba8f",
           "#675a55",
           "#d27575",
           "#529b9c",
           "#eac392",
           "#9cba8f",
           "#675a55",
           "#d27575",
           "#529b9c",
           "#eac392",
           "#9cba8f",
           "#675a55",
           "#d27575",
           "#529b9c",
           "#eac392",
           "#9cba8f",
           "#675a55",
           "#d27575",
           "#529b9c",
           "#eac392",
           "#9cba8f",
           "#675a55",
           "#d27575",
           "#529b9c",
           "#eac392",
           "#9cba8f",
           "#675a55",
           "#d27575",
           "#529b9c",
           "#eac392",
           "#9cba8f",
           "#675a55",
           "#d27575",
           "#529b9c",
           "#eac392",
           "#9cba8f",
           "#675a55",
           "#d27575",
           "#529b9c",
           "#eac392",
           "#9cba8f",
           "#675a55",
           "#d27575",
           "#529b9c",
           "#eac392",
           "#9cba8f",
           "#675a55",
           "#d27575",
           "#529b9c",
           "#eac392",
           "#9cba8f",
           "#675a55",
           "#d27575",
           "#529b9c",
           "#eac392",
           "#9cba8f",
           "#675a55",
           "#d27575",
           "#529b9c",
           "#eac392",
           "#9cba8f",
           "#675a55",
           "#d27575",
           "#529b9c",
           "#eac392",
           "#9cba8f",
           "#675a55",
           "#d27575",
           "#529b9c",
           "#eac392",
           "#9cba8f",
           "#675a55",
           "#d27575",
           "#529b9c",
           "#eac392",
           "#9cba8f",
           "#675a55",
           "#d27575",
           "#529b9c",
           "#eac392",
           "#9cba8f",
           "#675a55",
           "#d27575",
           "#529b9c",
           "#eac392",
           "#9cba8f",
           "#675a55",
           "#d27575",
           "#529b9c",
           "#eac392",
           "#9cba8f",
           "#675a55",
           "#d27575",
           "#529b9c",
           "#eac392",
           "#9cba8f",
           "#675a55",
           "#d27575",
           "#529b9c",
           "#eac392",
           "#9cba8f",
           "#675a55",
           "#d27575",
           "#529b9c",
           "#eac392",
           "#9cba8f",
           "#675a55",
           "#d27575",
           "#529b9c",
           "#eac392",
           "#9cba8f",
           "#675a55",
           "#d27575",
           "#529b9c",
           "#eac392",
           "#9cba8f",
           "#675a55",
           "#d27575",
           "#529b9c",
           "#eac392",
           "#9cba8f",
           "#675a55",
           "#d27575",
           "#529b9c",
           "#eac392",
           "#9cba8f",
           "#675a55",
           "#d27575",
           "#529b9c",
           "#eac392",
           "#9cba8f",
           "#675a55",
           "#d27575",
           "#529b9c",
           "#eac392",
           "#9cba8f",
           "#675a55",
           "#d27575",
           "#529b9c",
           "#eac392",
           "#9cba8f",
           "#675a55",
           "#d27575",
           "#529b9c",
           "#eac392",
           "#9cba8f",
           "#675a55",
           "#d27575",
           "#529b9c",
           "#eac392",
           "#9cba8f",
           "#675a55",
           "#d27575",
           "#529b9c",
           "#eac392",
           "#9cba8f",
           "#675a55",
           "#d27575",
           "#529b9c",
           "#eac392",
           "#9cba8f",
           "#675a55",
           "#d27575",
           "#529b9c",
           "#eac392",
           "#9cba8f",
           "#675a55",
           "#d27575",
           "#529b9c",
           "#eac392",
           "#9cba8f",
           "#675a55",
           "#d27575",
           "#529b9c",
           "#eac392",
           "#9cba8f",
           "#675a55",
           "#d27575",
           "#529b9c",
           "#eac392",
           "#9cba8f",
           "#675a55",
           "#d27575",
           "#529b9c",
           "#eac392",
           "#9cba8f",
           "#675a55",
           "#d27575",
           "#529b9c",
           "#eac392",
           "#9cba8f",
           "#675a55",
           "#d27575",
           "#529b9c",
           "#eac392",
           "#9cba8f",
           "#675a55",
           "#d27575",
           "#529b9c",
           "#eac392",
           "#9cba8f",
           "#675a55",
           "#d27575",
           "#529b9c",
           "#eac392",
           "#9cba8f",
           "#675a55",
           "#d27575",
           "#529b9c",
           "#eac392",
           "#9cba8f",
           "#675a55",
           "#d27575",
           "#529b9c",
           "#eac392",
           "#9cba8f",
           "#675a55",
           "#d27575",
           "#529b9c",
           "#eac392",
           "#9cba8f",
           "#675a55",
           "#d27575",
           "#529b9c",
           "#eac392",
           "#9cba8f",
           "#675a55",
           "#d27575",
           "#529b9c",
           "#eac392",
           "#9cba8f",
           "#675a55",
           "#d27575",
           "#529b9c",
           "#eac392",
           "#9cba8f",
           "#675a55",
           "#d27575",
           "#529b9c",
           "#eac392",
           "#9cba8f",
           "#675a55",
           "#d27575",
           "#529b9c",
           "#eac392",
           "#9cba8f",
           "#675a55",
           "#d27575",
           "#529b9c",
           "#eac392",
           "#9cba8f",
           "#675a55",
           "#d27575",
           "#529b9c",
           "#eac392",
           "#9cba8f",
           "#675a55",
           "#d27575",
           "#529b9c",
           "#eac392",
           "#9cba8f",
           "#675a55",
           "#d27575",
           "#529b9c",
           "#eac392",
           "#9cba8f",
           "#675a55",
           "#d27575",
           "#529b9c",
           "#eac392",
           "#9cba8f",
           "#675a55",
           "#d27575",
           "#529b9c",
           "#eac392",
           "#9cba8f",
           "#675a55",
           "#d27575",
           "#529b9c",
           "#eac392",
           "#9cba8f",
           "#675a55",
           "#d27575",
           "#529b9c",
           "#eac392",
           "#9cba8f",
           "#675a55",
           "#d27575",
           "#529b9c",
           "#eac392",
           "#9cba8f",
           "#675a55",
           "#d27575",
           "#529b9c",
           "#eac392",
           "#9cba8f",
           "#675a55",
           "#d27575",
           "#529b9c",
           "#eac392",
           "#9cba8f",
           "#675a55",
           "#d27575",
           "#529b9c",
           "#eac392",
           "#9cba8f",
           "#675a55",
           "#d27575",
           "#529b9c",
           "#eac392",
           "#9cba8f",
           "#675a55",
           "#d27575",
           "#529b9c",
           "#eac392",
           "#9cba8f",
           "#675a55",
           "#d27575",
           "#529b9c",
           "#eac392",
           "#9cba8f",
           "#675a55",
           "#d27575",
           "#529b9c",
           "#eac392",
           "#9cba8f",
           "#675a55",
           "#d27575",
           "#529b9c",
           "#eac392",
           "#9cba8f",
           "#675a55",
           "#d27575",
           "#529b9c",
           "#eac392",
           "#9cba8f",
           "#675a55",
           "#d27575",
           "#529b9c",
           "#eac392",
           "#9cba8f",
           "#675a55",
           "#d27575",
           "#529b9c",
           "#eac392",
           "#9cba8f",
           "#675a55",
           "#d27575",
           "#529b9c",
           "#eac392",
           "#9cba8f",
           "#675a55",
           "#d27575",
           "#529b9c",
           "#eac392",
           "#9cba8f",
           "#675a55",
           "#d27575",
           "#529b9c",
           "#eac392",
           "#9cba8f",
           "#675a55",
           "#d27575",
           "#529b9c",
           "#eac392",
           "#9cba8f",
           "#675a55",
           "#d27575",
           "#529b9c",
           "#eac392",
           "#9cba8f",
           "#675a55",
           "#d27575",
           "#529b9c",
           "#eac392",
           "#9cba8f",
           "#675a55",
           "#d27575",
           "#529b9c",
           "#eac392",
           "#9cba8f",
           "#675a55",
           "#d27575",
           "#529b9c",
           "#eac392",
           "#9cba8f",
           "#675a55",
           "#d27575",
           "#529b9c",
           "#eac392",
           "#9cba8f",
           "#675a55",
           "#d27575",
           "#529b9c",
           "#eac392",
           "#9cba8f",
           "#675a55",
           "#d27575",
           "#529b9c",
           "#eac392",
           "#9cba8f",
           "#675a55",
           "#d27575",
           "#529b9c",
           "#eac392",
           "#9cba8f",
           "#675a55",
           "#d27575",
           "#529b9c",
           "#eac392",
           "#9cba8f",
           "#675a55"
          ]
         },
         "name": "",
         "type": "pie",
         "values": [
          11,
          10,
          10,
          9,
          8
         ]
        }
       ],
       "layout": {
        "annotations": [
         {
          "ax": 0,
          "ay": 0,
          "font": {
           "size": 30
          },
          "text": "<sup>Total: 48",
          "x": 0.866,
          "xref": "paper",
          "y": 0.48,
          "yref": "paper"
         }
        ],
        "barmode": "group",
        "font": {
         "color": "#001c40",
         "family": "Baskerville",
         "size": 14
        },
        "height": 600,
        "hoverlabel": {
         "font": {
          "size": 16
         }
        },
        "margin": {
         "b": 45,
         "l": 85,
         "r": 85,
         "t": 120
        },
        "paper_bgcolor": "#f0f0f0",
        "plot_bgcolor": "#f0f0f0",
        "showlegend": false,
        "template": {
         "data": {
          "bar": [
           {
            "error_x": {
             "color": "#2a3f5f"
            },
            "error_y": {
             "color": "#2a3f5f"
            },
            "marker": {
             "line": {
              "color": "#E5ECF6",
              "width": 0.5
             },
             "pattern": {
              "fillmode": "overlay",
              "size": 10,
              "solidity": 0.2
             }
            },
            "type": "bar"
           }
          ],
          "barpolar": [
           {
            "marker": {
             "line": {
              "color": "#E5ECF6",
              "width": 0.5
             },
             "pattern": {
              "fillmode": "overlay",
              "size": 10,
              "solidity": 0.2
             }
            },
            "type": "barpolar"
           }
          ],
          "carpet": [
           {
            "aaxis": {
             "endlinecolor": "#2a3f5f",
             "gridcolor": "white",
             "linecolor": "white",
             "minorgridcolor": "white",
             "startlinecolor": "#2a3f5f"
            },
            "baxis": {
             "endlinecolor": "#2a3f5f",
             "gridcolor": "white",
             "linecolor": "white",
             "minorgridcolor": "white",
             "startlinecolor": "#2a3f5f"
            },
            "type": "carpet"
           }
          ],
          "choropleth": [
           {
            "colorbar": {
             "outlinewidth": 0,
             "ticks": ""
            },
            "type": "choropleth"
           }
          ],
          "contour": [
           {
            "colorbar": {
             "outlinewidth": 0,
             "ticks": ""
            },
            "colorscale": [
             [
              0,
              "#0d0887"
             ],
             [
              0.1111111111111111,
              "#46039f"
             ],
             [
              0.2222222222222222,
              "#7201a8"
             ],
             [
              0.3333333333333333,
              "#9c179e"
             ],
             [
              0.4444444444444444,
              "#bd3786"
             ],
             [
              0.5555555555555556,
              "#d8576b"
             ],
             [
              0.6666666666666666,
              "#ed7953"
             ],
             [
              0.7777777777777778,
              "#fb9f3a"
             ],
             [
              0.8888888888888888,
              "#fdca26"
             ],
             [
              1,
              "#f0f921"
             ]
            ],
            "type": "contour"
           }
          ],
          "contourcarpet": [
           {
            "colorbar": {
             "outlinewidth": 0,
             "ticks": ""
            },
            "type": "contourcarpet"
           }
          ],
          "heatmap": [
           {
            "colorbar": {
             "outlinewidth": 0,
             "ticks": ""
            },
            "colorscale": [
             [
              0,
              "#0d0887"
             ],
             [
              0.1111111111111111,
              "#46039f"
             ],
             [
              0.2222222222222222,
              "#7201a8"
             ],
             [
              0.3333333333333333,
              "#9c179e"
             ],
             [
              0.4444444444444444,
              "#bd3786"
             ],
             [
              0.5555555555555556,
              "#d8576b"
             ],
             [
              0.6666666666666666,
              "#ed7953"
             ],
             [
              0.7777777777777778,
              "#fb9f3a"
             ],
             [
              0.8888888888888888,
              "#fdca26"
             ],
             [
              1,
              "#f0f921"
             ]
            ],
            "type": "heatmap"
           }
          ],
          "heatmapgl": [
           {
            "colorbar": {
             "outlinewidth": 0,
             "ticks": ""
            },
            "colorscale": [
             [
              0,
              "#0d0887"
             ],
             [
              0.1111111111111111,
              "#46039f"
             ],
             [
              0.2222222222222222,
              "#7201a8"
             ],
             [
              0.3333333333333333,
              "#9c179e"
             ],
             [
              0.4444444444444444,
              "#bd3786"
             ],
             [
              0.5555555555555556,
              "#d8576b"
             ],
             [
              0.6666666666666666,
              "#ed7953"
             ],
             [
              0.7777777777777778,
              "#fb9f3a"
             ],
             [
              0.8888888888888888,
              "#fdca26"
             ],
             [
              1,
              "#f0f921"
             ]
            ],
            "type": "heatmapgl"
           }
          ],
          "histogram": [
           {
            "marker": {
             "pattern": {
              "fillmode": "overlay",
              "size": 10,
              "solidity": 0.2
             }
            },
            "type": "histogram"
           }
          ],
          "histogram2d": [
           {
            "colorbar": {
             "outlinewidth": 0,
             "ticks": ""
            },
            "colorscale": [
             [
              0,
              "#0d0887"
             ],
             [
              0.1111111111111111,
              "#46039f"
             ],
             [
              0.2222222222222222,
              "#7201a8"
             ],
             [
              0.3333333333333333,
              "#9c179e"
             ],
             [
              0.4444444444444444,
              "#bd3786"
             ],
             [
              0.5555555555555556,
              "#d8576b"
             ],
             [
              0.6666666666666666,
              "#ed7953"
             ],
             [
              0.7777777777777778,
              "#fb9f3a"
             ],
             [
              0.8888888888888888,
              "#fdca26"
             ],
             [
              1,
              "#f0f921"
             ]
            ],
            "type": "histogram2d"
           }
          ],
          "histogram2dcontour": [
           {
            "colorbar": {
             "outlinewidth": 0,
             "ticks": ""
            },
            "colorscale": [
             [
              0,
              "#0d0887"
             ],
             [
              0.1111111111111111,
              "#46039f"
             ],
             [
              0.2222222222222222,
              "#7201a8"
             ],
             [
              0.3333333333333333,
              "#9c179e"
             ],
             [
              0.4444444444444444,
              "#bd3786"
             ],
             [
              0.5555555555555556,
              "#d8576b"
             ],
             [
              0.6666666666666666,
              "#ed7953"
             ],
             [
              0.7777777777777778,
              "#fb9f3a"
             ],
             [
              0.8888888888888888,
              "#fdca26"
             ],
             [
              1,
              "#f0f921"
             ]
            ],
            "type": "histogram2dcontour"
           }
          ],
          "mesh3d": [
           {
            "colorbar": {
             "outlinewidth": 0,
             "ticks": ""
            },
            "type": "mesh3d"
           }
          ],
          "parcoords": [
           {
            "line": {
             "colorbar": {
              "outlinewidth": 0,
              "ticks": ""
             }
            },
            "type": "parcoords"
           }
          ],
          "pie": [
           {
            "automargin": true,
            "type": "pie"
           }
          ],
          "scatter": [
           {
            "fillpattern": {
             "fillmode": "overlay",
             "size": 10,
             "solidity": 0.2
            },
            "type": "scatter"
           }
          ],
          "scatter3d": [
           {
            "line": {
             "colorbar": {
              "outlinewidth": 0,
              "ticks": ""
             }
            },
            "marker": {
             "colorbar": {
              "outlinewidth": 0,
              "ticks": ""
             }
            },
            "type": "scatter3d"
           }
          ],
          "scattercarpet": [
           {
            "marker": {
             "colorbar": {
              "outlinewidth": 0,
              "ticks": ""
             }
            },
            "type": "scattercarpet"
           }
          ],
          "scattergeo": [
           {
            "marker": {
             "colorbar": {
              "outlinewidth": 0,
              "ticks": ""
             }
            },
            "type": "scattergeo"
           }
          ],
          "scattergl": [
           {
            "marker": {
             "colorbar": {
              "outlinewidth": 0,
              "ticks": ""
             }
            },
            "type": "scattergl"
           }
          ],
          "scattermapbox": [
           {
            "marker": {
             "colorbar": {
              "outlinewidth": 0,
              "ticks": ""
             }
            },
            "type": "scattermapbox"
           }
          ],
          "scatterpolar": [
           {
            "marker": {
             "colorbar": {
              "outlinewidth": 0,
              "ticks": ""
             }
            },
            "type": "scatterpolar"
           }
          ],
          "scatterpolargl": [
           {
            "marker": {
             "colorbar": {
              "outlinewidth": 0,
              "ticks": ""
             }
            },
            "type": "scatterpolargl"
           }
          ],
          "scatterternary": [
           {
            "marker": {
             "colorbar": {
              "outlinewidth": 0,
              "ticks": ""
             }
            },
            "type": "scatterternary"
           }
          ],
          "surface": [
           {
            "colorbar": {
             "outlinewidth": 0,
             "ticks": ""
            },
            "colorscale": [
             [
              0,
              "#0d0887"
             ],
             [
              0.1111111111111111,
              "#46039f"
             ],
             [
              0.2222222222222222,
              "#7201a8"
             ],
             [
              0.3333333333333333,
              "#9c179e"
             ],
             [
              0.4444444444444444,
              "#bd3786"
             ],
             [
              0.5555555555555556,
              "#d8576b"
             ],
             [
              0.6666666666666666,
              "#ed7953"
             ],
             [
              0.7777777777777778,
              "#fb9f3a"
             ],
             [
              0.8888888888888888,
              "#fdca26"
             ],
             [
              1,
              "#f0f921"
             ]
            ],
            "type": "surface"
           }
          ],
          "table": [
           {
            "cells": {
             "fill": {
              "color": "#EBF0F8"
             },
             "line": {
              "color": "white"
             }
            },
            "header": {
             "fill": {
              "color": "#C8D4E3"
             },
             "line": {
              "color": "white"
             }
            },
            "type": "table"
           }
          ]
         },
         "layout": {
          "annotationdefaults": {
           "arrowcolor": "#2a3f5f",
           "arrowhead": 0,
           "arrowwidth": 1
          },
          "autotypenumbers": "strict",
          "coloraxis": {
           "colorbar": {
            "outlinewidth": 0,
            "ticks": ""
           }
          },
          "colorscale": {
           "diverging": [
            [
             0,
             "#8e0152"
            ],
            [
             0.1,
             "#c51b7d"
            ],
            [
             0.2,
             "#de77ae"
            ],
            [
             0.3,
             "#f1b6da"
            ],
            [
             0.4,
             "#fde0ef"
            ],
            [
             0.5,
             "#f7f7f7"
            ],
            [
             0.6,
             "#e6f5d0"
            ],
            [
             0.7,
             "#b8e186"
            ],
            [
             0.8,
             "#7fbc41"
            ],
            [
             0.9,
             "#4d9221"
            ],
            [
             1,
             "#276419"
            ]
           ],
           "sequential": [
            [
             0,
             "#0d0887"
            ],
            [
             0.1111111111111111,
             "#46039f"
            ],
            [
             0.2222222222222222,
             "#7201a8"
            ],
            [
             0.3333333333333333,
             "#9c179e"
            ],
            [
             0.4444444444444444,
             "#bd3786"
            ],
            [
             0.5555555555555556,
             "#d8576b"
            ],
            [
             0.6666666666666666,
             "#ed7953"
            ],
            [
             0.7777777777777778,
             "#fb9f3a"
            ],
            [
             0.8888888888888888,
             "#fdca26"
            ],
            [
             1,
             "#f0f921"
            ]
           ],
           "sequentialminus": [
            [
             0,
             "#0d0887"
            ],
            [
             0.1111111111111111,
             "#46039f"
            ],
            [
             0.2222222222222222,
             "#7201a8"
            ],
            [
             0.3333333333333333,
             "#9c179e"
            ],
            [
             0.4444444444444444,
             "#bd3786"
            ],
            [
             0.5555555555555556,
             "#d8576b"
            ],
            [
             0.6666666666666666,
             "#ed7953"
            ],
            [
             0.7777777777777778,
             "#fb9f3a"
            ],
            [
             0.8888888888888888,
             "#fdca26"
            ],
            [
             1,
             "#f0f921"
            ]
           ]
          },
          "colorway": [
           "#636efa",
           "#EF553B",
           "#00cc96",
           "#ab63fa",
           "#FFA15A",
           "#19d3f3",
           "#FF6692",
           "#B6E880",
           "#FF97FF",
           "#FECB52"
          ],
          "font": {
           "color": "#2a3f5f"
          },
          "geo": {
           "bgcolor": "white",
           "lakecolor": "white",
           "landcolor": "#E5ECF6",
           "showlakes": true,
           "showland": true,
           "subunitcolor": "white"
          },
          "hoverlabel": {
           "align": "left"
          },
          "hovermode": "closest",
          "mapbox": {
           "style": "light"
          },
          "paper_bgcolor": "white",
          "plot_bgcolor": "#E5ECF6",
          "polar": {
           "angularaxis": {
            "gridcolor": "white",
            "linecolor": "white",
            "ticks": ""
           },
           "bgcolor": "#E5ECF6",
           "radialaxis": {
            "gridcolor": "white",
            "linecolor": "white",
            "ticks": ""
           }
          },
          "scene": {
           "xaxis": {
            "backgroundcolor": "#E5ECF6",
            "gridcolor": "white",
            "gridwidth": 2,
            "linecolor": "white",
            "showbackground": true,
            "ticks": "",
            "zerolinecolor": "white"
           },
           "yaxis": {
            "backgroundcolor": "#E5ECF6",
            "gridcolor": "white",
            "gridwidth": 2,
            "linecolor": "white",
            "showbackground": true,
            "ticks": "",
            "zerolinecolor": "white"
           },
           "zaxis": {
            "backgroundcolor": "#E5ECF6",
            "gridcolor": "white",
            "gridwidth": 2,
            "linecolor": "white",
            "showbackground": true,
            "ticks": "",
            "zerolinecolor": "white"
           }
          },
          "shapedefaults": {
           "line": {
            "color": "#2a3f5f"
           }
          },
          "ternary": {
           "aaxis": {
            "gridcolor": "white",
            "linecolor": "white",
            "ticks": ""
           },
           "baxis": {
            "gridcolor": "white",
            "linecolor": "white",
            "ticks": ""
           },
           "bgcolor": "#E5ECF6",
           "caxis": {
            "gridcolor": "white",
            "linecolor": "white",
            "ticks": ""
           }
          },
          "title": {
           "x": 0.05
          },
          "xaxis": {
           "automargin": true,
           "gridcolor": "white",
           "linecolor": "white",
           "ticks": "",
           "title": {
            "standoff": 15
           },
           "zerolinecolor": "white",
           "zerolinewidth": 2
          },
          "yaxis": {
           "automargin": true,
           "gridcolor": "white",
           "linecolor": "white",
           "ticks": "",
           "title": {
            "standoff": 15
           },
           "zerolinecolor": "white",
           "zerolinewidth": 2
          }
         }
        },
        "title": {
         "font": {
          "color": "#001c40",
          "family": "Baskerville, Bold",
          "size": 40
         },
         "text": "Most-Read Authors<br><sup>The surge of Warhammer novels has caused me to read a lot more of those authors"
        },
        "xaxis": {
         "anchor": "y",
         "domain": [
          0,
          0.63
         ],
         "gridcolor": "#cbcbcb",
         "linecolor": "black",
         "showgrid": false,
         "showline": true,
         "title": {},
         "zerolinewidth": 1
        },
        "yaxis": {
         "anchor": "x",
         "domain": [
          0,
          1
         ],
         "gridcolor": "#cbcbcb",
         "linecolor": "black",
         "showgrid": true,
         "showline": false,
         "showticklabels": true,
         "title": {},
         "zerolinewidth": 1
        },
        "yaxis2": {
         "gridcolor": "#cbcbcb",
         "linecolor": "black",
         "showgrid": true,
         "showline": false,
         "showticklabels": true,
         "zerolinewidth": 1
        }
       }
      },
      "text/html": [
       "<div>                            <div id=\"66e26254-f7f7-4f1c-a911-96f080cbdaab\" class=\"plotly-graph-div\" style=\"height:600px; width:100%;\"></div>            <script type=\"text/javascript\">                require([\"plotly\"], function(Plotly) {                    window.PLOTLYENV=window.PLOTLYENV || {};                                    if (document.getElementById(\"66e26254-f7f7-4f1c-a911-96f080cbdaab\")) {                    Plotly.newPlot(                        \"66e26254-f7f7-4f1c-a911-96f080cbdaab\",                        [{\"hovertemplate\":\"\\u003cb\\u003e%{x}\\u003c\\u002fb\\u003e: %{y}\",\"marker\":{\"color\":\"#9cba8f\"},\"name\":\"\",\"x\":[\"Graham McNeill\",\"Aaron Dembski-Bowden\",\"Gav Thorpe\",\"Dan Abnett\",\"Haruki Murakami\"],\"y\":[11,10,10,9,8],\"type\":\"bar\",\"xaxis\":\"x\",\"yaxis\":\"y\"},{\"hole\":0.4,\"hovertemplate\":\"\\u003cb\\u003e%{label}\\u003c\\u002fb\\u003e: %{value}\",\"labels\":[\"Graham McNeill\",\"Aaron Dembski-Bowden\",\"Gav Thorpe\",\"Dan Abnett\",\"Haruki Murakami\"],\"marker\":{\"colors\":[\"#d27575\",\"#529b9c\",\"#eac392\",\"#9cba8f\",\"#675a55\",\"#d27575\",\"#529b9c\",\"#eac392\",\"#9cba8f\",\"#675a55\",\"#d27575\",\"#529b9c\",\"#eac392\",\"#9cba8f\",\"#675a55\",\"#d27575\",\"#529b9c\",\"#eac392\",\"#9cba8f\",\"#675a55\",\"#d27575\",\"#529b9c\",\"#eac392\",\"#9cba8f\",\"#675a55\",\"#d27575\",\"#529b9c\",\"#eac392\",\"#9cba8f\",\"#675a55\",\"#d27575\",\"#529b9c\",\"#eac392\",\"#9cba8f\",\"#675a55\",\"#d27575\",\"#529b9c\",\"#eac392\",\"#9cba8f\",\"#675a55\",\"#d27575\",\"#529b9c\",\"#eac392\",\"#9cba8f\",\"#675a55\",\"#d27575\",\"#529b9c\",\"#eac392\",\"#9cba8f\",\"#675a55\",\"#d27575\",\"#529b9c\",\"#eac392\",\"#9cba8f\",\"#675a55\",\"#d27575\",\"#529b9c\",\"#eac392\",\"#9cba8f\",\"#675a55\",\"#d27575\",\"#529b9c\",\"#eac392\",\"#9cba8f\",\"#675a55\",\"#d27575\",\"#529b9c\",\"#eac392\",\"#9cba8f\",\"#675a55\",\"#d27575\",\"#529b9c\",\"#eac392\",\"#9cba8f\",\"#675a55\",\"#d27575\",\"#529b9c\",\"#eac392\",\"#9cba8f\",\"#675a55\",\"#d27575\",\"#529b9c\",\"#eac392\",\"#9cba8f\",\"#675a55\",\"#d27575\",\"#529b9c\",\"#eac392\",\"#9cba8f\",\"#675a55\",\"#d27575\",\"#529b9c\",\"#eac392\",\"#9cba8f\",\"#675a55\",\"#d27575\",\"#529b9c\",\"#eac392\",\"#9cba8f\",\"#675a55\",\"#d27575\",\"#529b9c\",\"#eac392\",\"#9cba8f\",\"#675a55\",\"#d27575\",\"#529b9c\",\"#eac392\",\"#9cba8f\",\"#675a55\",\"#d27575\",\"#529b9c\",\"#eac392\",\"#9cba8f\",\"#675a55\",\"#d27575\",\"#529b9c\",\"#eac392\",\"#9cba8f\",\"#675a55\",\"#d27575\",\"#529b9c\",\"#eac392\",\"#9cba8f\",\"#675a55\",\"#d27575\",\"#529b9c\",\"#eac392\",\"#9cba8f\",\"#675a55\",\"#d27575\",\"#529b9c\",\"#eac392\",\"#9cba8f\",\"#675a55\",\"#d27575\",\"#529b9c\",\"#eac392\",\"#9cba8f\",\"#675a55\",\"#d27575\",\"#529b9c\",\"#eac392\",\"#9cba8f\",\"#675a55\",\"#d27575\",\"#529b9c\",\"#eac392\",\"#9cba8f\",\"#675a55\",\"#d27575\",\"#529b9c\",\"#eac392\",\"#9cba8f\",\"#675a55\",\"#d27575\",\"#529b9c\",\"#eac392\",\"#9cba8f\",\"#675a55\",\"#d27575\",\"#529b9c\",\"#eac392\",\"#9cba8f\",\"#675a55\",\"#d27575\",\"#529b9c\",\"#eac392\",\"#9cba8f\",\"#675a55\",\"#d27575\",\"#529b9c\",\"#eac392\",\"#9cba8f\",\"#675a55\",\"#d27575\",\"#529b9c\",\"#eac392\",\"#9cba8f\",\"#675a55\",\"#d27575\",\"#529b9c\",\"#eac392\",\"#9cba8f\",\"#675a55\",\"#d27575\",\"#529b9c\",\"#eac392\",\"#9cba8f\",\"#675a55\",\"#d27575\",\"#529b9c\",\"#eac392\",\"#9cba8f\",\"#675a55\",\"#d27575\",\"#529b9c\",\"#eac392\",\"#9cba8f\",\"#675a55\",\"#d27575\",\"#529b9c\",\"#eac392\",\"#9cba8f\",\"#675a55\",\"#d27575\",\"#529b9c\",\"#eac392\",\"#9cba8f\",\"#675a55\",\"#d27575\",\"#529b9c\",\"#eac392\",\"#9cba8f\",\"#675a55\",\"#d27575\",\"#529b9c\",\"#eac392\",\"#9cba8f\",\"#675a55\",\"#d27575\",\"#529b9c\",\"#eac392\",\"#9cba8f\",\"#675a55\",\"#d27575\",\"#529b9c\",\"#eac392\",\"#9cba8f\",\"#675a55\",\"#d27575\",\"#529b9c\",\"#eac392\",\"#9cba8f\",\"#675a55\",\"#d27575\",\"#529b9c\",\"#eac392\",\"#9cba8f\",\"#675a55\",\"#d27575\",\"#529b9c\",\"#eac392\",\"#9cba8f\",\"#675a55\",\"#d27575\",\"#529b9c\",\"#eac392\",\"#9cba8f\",\"#675a55\",\"#d27575\",\"#529b9c\",\"#eac392\",\"#9cba8f\",\"#675a55\",\"#d27575\",\"#529b9c\",\"#eac392\",\"#9cba8f\",\"#675a55\",\"#d27575\",\"#529b9c\",\"#eac392\",\"#9cba8f\",\"#675a55\",\"#d27575\",\"#529b9c\",\"#eac392\",\"#9cba8f\",\"#675a55\",\"#d27575\",\"#529b9c\",\"#eac392\",\"#9cba8f\",\"#675a55\",\"#d27575\",\"#529b9c\",\"#eac392\",\"#9cba8f\",\"#675a55\",\"#d27575\",\"#529b9c\",\"#eac392\",\"#9cba8f\",\"#675a55\",\"#d27575\",\"#529b9c\",\"#eac392\",\"#9cba8f\",\"#675a55\",\"#d27575\",\"#529b9c\",\"#eac392\",\"#9cba8f\",\"#675a55\",\"#d27575\",\"#529b9c\",\"#eac392\",\"#9cba8f\",\"#675a55\",\"#d27575\",\"#529b9c\",\"#eac392\",\"#9cba8f\",\"#675a55\",\"#d27575\",\"#529b9c\",\"#eac392\",\"#9cba8f\",\"#675a55\",\"#d27575\",\"#529b9c\",\"#eac392\",\"#9cba8f\",\"#675a55\",\"#d27575\",\"#529b9c\",\"#eac392\",\"#9cba8f\",\"#675a55\",\"#d27575\",\"#529b9c\",\"#eac392\",\"#9cba8f\",\"#675a55\",\"#d27575\",\"#529b9c\",\"#eac392\",\"#9cba8f\",\"#675a55\",\"#d27575\",\"#529b9c\",\"#eac392\",\"#9cba8f\",\"#675a55\",\"#d27575\",\"#529b9c\",\"#eac392\",\"#9cba8f\",\"#675a55\",\"#d27575\",\"#529b9c\",\"#eac392\",\"#9cba8f\",\"#675a55\",\"#d27575\",\"#529b9c\",\"#eac392\",\"#9cba8f\",\"#675a55\",\"#d27575\",\"#529b9c\",\"#eac392\",\"#9cba8f\",\"#675a55\",\"#d27575\",\"#529b9c\",\"#eac392\",\"#9cba8f\",\"#675a55\",\"#d27575\",\"#529b9c\",\"#eac392\",\"#9cba8f\",\"#675a55\",\"#d27575\",\"#529b9c\",\"#eac392\",\"#9cba8f\",\"#675a55\",\"#d27575\",\"#529b9c\",\"#eac392\",\"#9cba8f\",\"#675a55\",\"#d27575\",\"#529b9c\",\"#eac392\",\"#9cba8f\",\"#675a55\",\"#d27575\",\"#529b9c\",\"#eac392\",\"#9cba8f\",\"#675a55\",\"#d27575\",\"#529b9c\",\"#eac392\",\"#9cba8f\",\"#675a55\",\"#d27575\",\"#529b9c\",\"#eac392\",\"#9cba8f\",\"#675a55\",\"#d27575\",\"#529b9c\",\"#eac392\",\"#9cba8f\",\"#675a55\",\"#d27575\",\"#529b9c\",\"#eac392\",\"#9cba8f\",\"#675a55\",\"#d27575\",\"#529b9c\",\"#eac392\",\"#9cba8f\",\"#675a55\",\"#d27575\",\"#529b9c\",\"#eac392\",\"#9cba8f\",\"#675a55\",\"#d27575\",\"#529b9c\",\"#eac392\",\"#9cba8f\",\"#675a55\",\"#d27575\",\"#529b9c\",\"#eac392\",\"#9cba8f\",\"#675a55\",\"#d27575\",\"#529b9c\",\"#eac392\",\"#9cba8f\",\"#675a55\",\"#d27575\",\"#529b9c\",\"#eac392\",\"#9cba8f\",\"#675a55\",\"#d27575\",\"#529b9c\",\"#eac392\",\"#9cba8f\",\"#675a55\",\"#d27575\",\"#529b9c\",\"#eac392\",\"#9cba8f\",\"#675a55\",\"#d27575\",\"#529b9c\",\"#eac392\",\"#9cba8f\",\"#675a55\",\"#d27575\",\"#529b9c\",\"#eac392\",\"#9cba8f\",\"#675a55\",\"#d27575\",\"#529b9c\",\"#eac392\",\"#9cba8f\",\"#675a55\",\"#d27575\",\"#529b9c\",\"#eac392\",\"#9cba8f\",\"#675a55\",\"#d27575\",\"#529b9c\",\"#eac392\",\"#9cba8f\",\"#675a55\",\"#d27575\",\"#529b9c\",\"#eac392\",\"#9cba8f\",\"#675a55\",\"#d27575\",\"#529b9c\",\"#eac392\",\"#9cba8f\",\"#675a55\",\"#d27575\",\"#529b9c\",\"#eac392\",\"#9cba8f\",\"#675a55\",\"#d27575\",\"#529b9c\",\"#eac392\",\"#9cba8f\",\"#675a55\",\"#d27575\",\"#529b9c\",\"#eac392\",\"#9cba8f\",\"#675a55\",\"#d27575\",\"#529b9c\",\"#eac392\",\"#9cba8f\",\"#675a55\",\"#d27575\",\"#529b9c\",\"#eac392\",\"#9cba8f\",\"#675a55\",\"#d27575\",\"#529b9c\",\"#eac392\",\"#9cba8f\",\"#675a55\",\"#d27575\",\"#529b9c\",\"#eac392\",\"#9cba8f\",\"#675a55\",\"#d27575\",\"#529b9c\",\"#eac392\",\"#9cba8f\",\"#675a55\",\"#d27575\",\"#529b9c\",\"#eac392\",\"#9cba8f\",\"#675a55\",\"#d27575\",\"#529b9c\",\"#eac392\",\"#9cba8f\",\"#675a55\",\"#d27575\",\"#529b9c\",\"#eac392\",\"#9cba8f\",\"#675a55\",\"#d27575\",\"#529b9c\",\"#eac392\",\"#9cba8f\",\"#675a55\",\"#d27575\",\"#529b9c\",\"#eac392\",\"#9cba8f\",\"#675a55\",\"#d27575\",\"#529b9c\",\"#eac392\",\"#9cba8f\",\"#675a55\",\"#d27575\",\"#529b9c\",\"#eac392\",\"#9cba8f\",\"#675a55\",\"#d27575\",\"#529b9c\",\"#eac392\",\"#9cba8f\",\"#675a55\",\"#d27575\",\"#529b9c\",\"#eac392\",\"#9cba8f\",\"#675a55\",\"#d27575\",\"#529b9c\",\"#eac392\",\"#9cba8f\",\"#675a55\",\"#d27575\",\"#529b9c\",\"#eac392\",\"#9cba8f\",\"#675a55\",\"#d27575\",\"#529b9c\",\"#eac392\",\"#9cba8f\",\"#675a55\",\"#d27575\",\"#529b9c\",\"#eac392\",\"#9cba8f\",\"#675a55\",\"#d27575\",\"#529b9c\",\"#eac392\",\"#9cba8f\",\"#675a55\",\"#d27575\",\"#529b9c\",\"#eac392\",\"#9cba8f\",\"#675a55\",\"#d27575\",\"#529b9c\",\"#eac392\",\"#9cba8f\",\"#675a55\",\"#d27575\",\"#529b9c\",\"#eac392\",\"#9cba8f\",\"#675a55\",\"#d27575\",\"#529b9c\",\"#eac392\",\"#9cba8f\",\"#675a55\",\"#d27575\",\"#529b9c\",\"#eac392\",\"#9cba8f\",\"#675a55\",\"#d27575\",\"#529b9c\",\"#eac392\",\"#9cba8f\",\"#675a55\",\"#d27575\",\"#529b9c\",\"#eac392\",\"#9cba8f\",\"#675a55\",\"#d27575\",\"#529b9c\",\"#eac392\",\"#9cba8f\",\"#675a55\",\"#d27575\",\"#529b9c\",\"#eac392\",\"#9cba8f\",\"#675a55\",\"#d27575\",\"#529b9c\",\"#eac392\",\"#9cba8f\",\"#675a55\",\"#d27575\",\"#529b9c\",\"#eac392\",\"#9cba8f\",\"#675a55\",\"#d27575\",\"#529b9c\",\"#eac392\",\"#9cba8f\",\"#675a55\",\"#d27575\",\"#529b9c\",\"#eac392\",\"#9cba8f\",\"#675a55\",\"#d27575\",\"#529b9c\",\"#eac392\",\"#9cba8f\",\"#675a55\",\"#d27575\",\"#529b9c\",\"#eac392\",\"#9cba8f\",\"#675a55\",\"#d27575\",\"#529b9c\",\"#eac392\",\"#9cba8f\",\"#675a55\",\"#d27575\",\"#529b9c\",\"#eac392\",\"#9cba8f\",\"#675a55\",\"#d27575\",\"#529b9c\",\"#eac392\",\"#9cba8f\",\"#675a55\",\"#d27575\",\"#529b9c\",\"#eac392\",\"#9cba8f\",\"#675a55\",\"#d27575\",\"#529b9c\",\"#eac392\",\"#9cba8f\",\"#675a55\",\"#d27575\",\"#529b9c\",\"#eac392\",\"#9cba8f\",\"#675a55\",\"#d27575\",\"#529b9c\",\"#eac392\",\"#9cba8f\",\"#675a55\",\"#d27575\",\"#529b9c\",\"#eac392\",\"#9cba8f\",\"#675a55\",\"#d27575\",\"#529b9c\",\"#eac392\",\"#9cba8f\",\"#675a55\",\"#d27575\",\"#529b9c\",\"#eac392\",\"#9cba8f\",\"#675a55\",\"#d27575\",\"#529b9c\",\"#eac392\",\"#9cba8f\",\"#675a55\",\"#d27575\",\"#529b9c\",\"#eac392\",\"#9cba8f\",\"#675a55\",\"#d27575\",\"#529b9c\",\"#eac392\",\"#9cba8f\",\"#675a55\",\"#d27575\",\"#529b9c\",\"#eac392\",\"#9cba8f\",\"#675a55\",\"#d27575\",\"#529b9c\",\"#eac392\",\"#9cba8f\",\"#675a55\",\"#d27575\",\"#529b9c\",\"#eac392\",\"#9cba8f\",\"#675a55\",\"#d27575\",\"#529b9c\",\"#eac392\",\"#9cba8f\",\"#675a55\"]},\"name\":\"\",\"values\":[11,10,10,9,8],\"type\":\"pie\",\"domain\":{\"x\":[0.73,1.0],\"y\":[0.0,1.0]}}],                        {\"template\":{\"data\":{\"histogram2dcontour\":[{\"type\":\"histogram2dcontour\",\"colorbar\":{\"outlinewidth\":0,\"ticks\":\"\"},\"colorscale\":[[0.0,\"#0d0887\"],[0.1111111111111111,\"#46039f\"],[0.2222222222222222,\"#7201a8\"],[0.3333333333333333,\"#9c179e\"],[0.4444444444444444,\"#bd3786\"],[0.5555555555555556,\"#d8576b\"],[0.6666666666666666,\"#ed7953\"],[0.7777777777777778,\"#fb9f3a\"],[0.8888888888888888,\"#fdca26\"],[1.0,\"#f0f921\"]]}],\"choropleth\":[{\"type\":\"choropleth\",\"colorbar\":{\"outlinewidth\":0,\"ticks\":\"\"}}],\"histogram2d\":[{\"type\":\"histogram2d\",\"colorbar\":{\"outlinewidth\":0,\"ticks\":\"\"},\"colorscale\":[[0.0,\"#0d0887\"],[0.1111111111111111,\"#46039f\"],[0.2222222222222222,\"#7201a8\"],[0.3333333333333333,\"#9c179e\"],[0.4444444444444444,\"#bd3786\"],[0.5555555555555556,\"#d8576b\"],[0.6666666666666666,\"#ed7953\"],[0.7777777777777778,\"#fb9f3a\"],[0.8888888888888888,\"#fdca26\"],[1.0,\"#f0f921\"]]}],\"heatmap\":[{\"type\":\"heatmap\",\"colorbar\":{\"outlinewidth\":0,\"ticks\":\"\"},\"colorscale\":[[0.0,\"#0d0887\"],[0.1111111111111111,\"#46039f\"],[0.2222222222222222,\"#7201a8\"],[0.3333333333333333,\"#9c179e\"],[0.4444444444444444,\"#bd3786\"],[0.5555555555555556,\"#d8576b\"],[0.6666666666666666,\"#ed7953\"],[0.7777777777777778,\"#fb9f3a\"],[0.8888888888888888,\"#fdca26\"],[1.0,\"#f0f921\"]]}],\"heatmapgl\":[{\"type\":\"heatmapgl\",\"colorbar\":{\"outlinewidth\":0,\"ticks\":\"\"},\"colorscale\":[[0.0,\"#0d0887\"],[0.1111111111111111,\"#46039f\"],[0.2222222222222222,\"#7201a8\"],[0.3333333333333333,\"#9c179e\"],[0.4444444444444444,\"#bd3786\"],[0.5555555555555556,\"#d8576b\"],[0.6666666666666666,\"#ed7953\"],[0.7777777777777778,\"#fb9f3a\"],[0.8888888888888888,\"#fdca26\"],[1.0,\"#f0f921\"]]}],\"contourcarpet\":[{\"type\":\"contourcarpet\",\"colorbar\":{\"outlinewidth\":0,\"ticks\":\"\"}}],\"contour\":[{\"type\":\"contour\",\"colorbar\":{\"outlinewidth\":0,\"ticks\":\"\"},\"colorscale\":[[0.0,\"#0d0887\"],[0.1111111111111111,\"#46039f\"],[0.2222222222222222,\"#7201a8\"],[0.3333333333333333,\"#9c179e\"],[0.4444444444444444,\"#bd3786\"],[0.5555555555555556,\"#d8576b\"],[0.6666666666666666,\"#ed7953\"],[0.7777777777777778,\"#fb9f3a\"],[0.8888888888888888,\"#fdca26\"],[1.0,\"#f0f921\"]]}],\"surface\":[{\"type\":\"surface\",\"colorbar\":{\"outlinewidth\":0,\"ticks\":\"\"},\"colorscale\":[[0.0,\"#0d0887\"],[0.1111111111111111,\"#46039f\"],[0.2222222222222222,\"#7201a8\"],[0.3333333333333333,\"#9c179e\"],[0.4444444444444444,\"#bd3786\"],[0.5555555555555556,\"#d8576b\"],[0.6666666666666666,\"#ed7953\"],[0.7777777777777778,\"#fb9f3a\"],[0.8888888888888888,\"#fdca26\"],[1.0,\"#f0f921\"]]}],\"mesh3d\":[{\"type\":\"mesh3d\",\"colorbar\":{\"outlinewidth\":0,\"ticks\":\"\"}}],\"scatter\":[{\"fillpattern\":{\"fillmode\":\"overlay\",\"size\":10,\"solidity\":0.2},\"type\":\"scatter\"}],\"parcoords\":[{\"type\":\"parcoords\",\"line\":{\"colorbar\":{\"outlinewidth\":0,\"ticks\":\"\"}}}],\"scatterpolargl\":[{\"type\":\"scatterpolargl\",\"marker\":{\"colorbar\":{\"outlinewidth\":0,\"ticks\":\"\"}}}],\"bar\":[{\"error_x\":{\"color\":\"#2a3f5f\"},\"error_y\":{\"color\":\"#2a3f5f\"},\"marker\":{\"line\":{\"color\":\"#E5ECF6\",\"width\":0.5},\"pattern\":{\"fillmode\":\"overlay\",\"size\":10,\"solidity\":0.2}},\"type\":\"bar\"}],\"scattergeo\":[{\"type\":\"scattergeo\",\"marker\":{\"colorbar\":{\"outlinewidth\":0,\"ticks\":\"\"}}}],\"scatterpolar\":[{\"type\":\"scatterpolar\",\"marker\":{\"colorbar\":{\"outlinewidth\":0,\"ticks\":\"\"}}}],\"histogram\":[{\"marker\":{\"pattern\":{\"fillmode\":\"overlay\",\"size\":10,\"solidity\":0.2}},\"type\":\"histogram\"}],\"scattergl\":[{\"type\":\"scattergl\",\"marker\":{\"colorbar\":{\"outlinewidth\":0,\"ticks\":\"\"}}}],\"scatter3d\":[{\"type\":\"scatter3d\",\"line\":{\"colorbar\":{\"outlinewidth\":0,\"ticks\":\"\"}},\"marker\":{\"colorbar\":{\"outlinewidth\":0,\"ticks\":\"\"}}}],\"scattermapbox\":[{\"type\":\"scattermapbox\",\"marker\":{\"colorbar\":{\"outlinewidth\":0,\"ticks\":\"\"}}}],\"scatterternary\":[{\"type\":\"scatterternary\",\"marker\":{\"colorbar\":{\"outlinewidth\":0,\"ticks\":\"\"}}}],\"scattercarpet\":[{\"type\":\"scattercarpet\",\"marker\":{\"colorbar\":{\"outlinewidth\":0,\"ticks\":\"\"}}}],\"carpet\":[{\"aaxis\":{\"endlinecolor\":\"#2a3f5f\",\"gridcolor\":\"white\",\"linecolor\":\"white\",\"minorgridcolor\":\"white\",\"startlinecolor\":\"#2a3f5f\"},\"baxis\":{\"endlinecolor\":\"#2a3f5f\",\"gridcolor\":\"white\",\"linecolor\":\"white\",\"minorgridcolor\":\"white\",\"startlinecolor\":\"#2a3f5f\"},\"type\":\"carpet\"}],\"table\":[{\"cells\":{\"fill\":{\"color\":\"#EBF0F8\"},\"line\":{\"color\":\"white\"}},\"header\":{\"fill\":{\"color\":\"#C8D4E3\"},\"line\":{\"color\":\"white\"}},\"type\":\"table\"}],\"barpolar\":[{\"marker\":{\"line\":{\"color\":\"#E5ECF6\",\"width\":0.5},\"pattern\":{\"fillmode\":\"overlay\",\"size\":10,\"solidity\":0.2}},\"type\":\"barpolar\"}],\"pie\":[{\"automargin\":true,\"type\":\"pie\"}]},\"layout\":{\"autotypenumbers\":\"strict\",\"colorway\":[\"#636efa\",\"#EF553B\",\"#00cc96\",\"#ab63fa\",\"#FFA15A\",\"#19d3f3\",\"#FF6692\",\"#B6E880\",\"#FF97FF\",\"#FECB52\"],\"font\":{\"color\":\"#2a3f5f\"},\"hovermode\":\"closest\",\"hoverlabel\":{\"align\":\"left\"},\"paper_bgcolor\":\"white\",\"plot_bgcolor\":\"#E5ECF6\",\"polar\":{\"bgcolor\":\"#E5ECF6\",\"angularaxis\":{\"gridcolor\":\"white\",\"linecolor\":\"white\",\"ticks\":\"\"},\"radialaxis\":{\"gridcolor\":\"white\",\"linecolor\":\"white\",\"ticks\":\"\"}},\"ternary\":{\"bgcolor\":\"#E5ECF6\",\"aaxis\":{\"gridcolor\":\"white\",\"linecolor\":\"white\",\"ticks\":\"\"},\"baxis\":{\"gridcolor\":\"white\",\"linecolor\":\"white\",\"ticks\":\"\"},\"caxis\":{\"gridcolor\":\"white\",\"linecolor\":\"white\",\"ticks\":\"\"}},\"coloraxis\":{\"colorbar\":{\"outlinewidth\":0,\"ticks\":\"\"}},\"colorscale\":{\"sequential\":[[0.0,\"#0d0887\"],[0.1111111111111111,\"#46039f\"],[0.2222222222222222,\"#7201a8\"],[0.3333333333333333,\"#9c179e\"],[0.4444444444444444,\"#bd3786\"],[0.5555555555555556,\"#d8576b\"],[0.6666666666666666,\"#ed7953\"],[0.7777777777777778,\"#fb9f3a\"],[0.8888888888888888,\"#fdca26\"],[1.0,\"#f0f921\"]],\"sequentialminus\":[[0.0,\"#0d0887\"],[0.1111111111111111,\"#46039f\"],[0.2222222222222222,\"#7201a8\"],[0.3333333333333333,\"#9c179e\"],[0.4444444444444444,\"#bd3786\"],[0.5555555555555556,\"#d8576b\"],[0.6666666666666666,\"#ed7953\"],[0.7777777777777778,\"#fb9f3a\"],[0.8888888888888888,\"#fdca26\"],[1.0,\"#f0f921\"]],\"diverging\":[[0,\"#8e0152\"],[0.1,\"#c51b7d\"],[0.2,\"#de77ae\"],[0.3,\"#f1b6da\"],[0.4,\"#fde0ef\"],[0.5,\"#f7f7f7\"],[0.6,\"#e6f5d0\"],[0.7,\"#b8e186\"],[0.8,\"#7fbc41\"],[0.9,\"#4d9221\"],[1,\"#276419\"]]},\"xaxis\":{\"gridcolor\":\"white\",\"linecolor\":\"white\",\"ticks\":\"\",\"title\":{\"standoff\":15},\"zerolinecolor\":\"white\",\"automargin\":true,\"zerolinewidth\":2},\"yaxis\":{\"gridcolor\":\"white\",\"linecolor\":\"white\",\"ticks\":\"\",\"title\":{\"standoff\":15},\"zerolinecolor\":\"white\",\"automargin\":true,\"zerolinewidth\":2},\"scene\":{\"xaxis\":{\"backgroundcolor\":\"#E5ECF6\",\"gridcolor\":\"white\",\"linecolor\":\"white\",\"showbackground\":true,\"ticks\":\"\",\"zerolinecolor\":\"white\",\"gridwidth\":2},\"yaxis\":{\"backgroundcolor\":\"#E5ECF6\",\"gridcolor\":\"white\",\"linecolor\":\"white\",\"showbackground\":true,\"ticks\":\"\",\"zerolinecolor\":\"white\",\"gridwidth\":2},\"zaxis\":{\"backgroundcolor\":\"#E5ECF6\",\"gridcolor\":\"white\",\"linecolor\":\"white\",\"showbackground\":true,\"ticks\":\"\",\"zerolinecolor\":\"white\",\"gridwidth\":2}},\"shapedefaults\":{\"line\":{\"color\":\"#2a3f5f\"}},\"annotationdefaults\":{\"arrowcolor\":\"#2a3f5f\",\"arrowhead\":0,\"arrowwidth\":1},\"geo\":{\"bgcolor\":\"white\",\"landcolor\":\"#E5ECF6\",\"subunitcolor\":\"white\",\"showland\":true,\"showlakes\":true,\"lakecolor\":\"white\"},\"title\":{\"x\":0.05},\"mapbox\":{\"style\":\"light\"}}},\"xaxis\":{\"anchor\":\"y\",\"domain\":[0.0,0.63],\"title\":{},\"showgrid\":false,\"showline\":true,\"linecolor\":\"black\",\"gridcolor\":\"#cbcbcb\",\"zerolinewidth\":1},\"yaxis\":{\"anchor\":\"x\",\"domain\":[0.0,1.0],\"title\":{},\"showgrid\":true,\"showline\":false,\"showticklabels\":true,\"linecolor\":\"black\",\"gridcolor\":\"#cbcbcb\",\"zerolinewidth\":1},\"annotations\":[{\"ax\":0,\"ay\":0,\"font\":{\"size\":30},\"text\":\"\\u003csup\\u003eTotal: 48\",\"x\":0.866,\"xref\":\"paper\",\"y\":0.48,\"yref\":\"paper\"}],\"title\":{\"font\":{\"size\":40,\"family\":\"Baskerville, Bold\",\"color\":\"#001c40\"},\"text\":\"Most-Read Authors\\u003cbr\\u003e\\u003csup\\u003eThe surge of Warhammer novels has caused me to read a lot more of those authors\"},\"margin\":{\"l\":85,\"r\":85,\"t\":120,\"b\":45},\"yaxis2\":{\"showgrid\":true,\"showline\":false,\"showticklabels\":true,\"linecolor\":\"black\",\"gridcolor\":\"#cbcbcb\",\"zerolinewidth\":1},\"font\":{\"family\":\"Baskerville\",\"color\":\"#001c40\",\"size\":14},\"hoverlabel\":{\"font\":{\"size\":16}},\"height\":600,\"showlegend\":false,\"barmode\":\"group\",\"plot_bgcolor\":\"#f0f0f0\",\"paper_bgcolor\":\"#f0f0f0\"},                        {\"modeBarButtonsToRemove\": [\"zoomIn\", \"zoomOut\", \"resetScale2d\", \"select2d\", \"lasso2d\"], \"responsive\": true, \"displaylogo\": false, \"toImageButtonOptions\": {\"format\": \"png\", \"filename\": \"reading-habits\", \"scale\": 1}}                    ).then(function(){\n",
       "                            \n",
       "var gd = document.getElementById('66e26254-f7f7-4f1c-a911-96f080cbdaab');\n",
       "var x = new MutationObserver(function (mutations, observer) {{\n",
       "        var display = window.getComputedStyle(gd).display;\n",
       "        if (!display || display === 'none') {{\n",
       "            console.log([gd, 'removed!']);\n",
       "            Plotly.purge(gd);\n",
       "            observer.disconnect();\n",
       "        }}\n",
       "}});\n",
       "\n",
       "// Listen for the removal of the full notebook cells\n",
       "var notebookContainer = gd.closest('#notebook-container');\n",
       "if (notebookContainer) {{\n",
       "    x.observe(notebookContainer, {childList: true});\n",
       "}}\n",
       "\n",
       "// Listen for the clearing of the current output cell\n",
       "var outputEl = gd.closest('.output');\n",
       "if (outputEl) {{\n",
       "    x.observe(outputEl, {childList: true});\n",
       "}}\n",
       "\n",
       "                        })                };                });            </script>        </div>"
      ]
     },
     "metadata": {},
     "output_type": "display_data"
    }
   ],
   "source": [
    "title = \"Most-Read Authors\"\n",
    "sub = f\"The surge of Warhammer novels has caused me to read a lot more of those authors\"\n",
    "plot.gen_bar_pie_graph(df, 'Author', title, sub, color=\"#9cba8f\")"
   ]
  },
  {
   "cell_type": "markdown",
   "id": "a326fed6-2f00-4625-81a3-614cc05e68fc",
   "metadata": {},
   "source": [
    "### Do I prefer physical books, or eBooks?\n",
    "\n",
    "In general I prefer physical books - but the reason I've read so many eBooks is because I used to be an expat in South Korea, and it was simply a matter of convenience that I have a Kindle instead of a bunch of physical books. I was moving between apartments relatively often, and apartments in Seoul can be [rather small](https://www.statista.com/statistics/644523/south-korea-living-space-per-person/), so I had limited space. Currently, I tend to buy physical books when they are more science-based, while I have more fiction books in eBook format."
   ]
  },
  {
   "cell_type": "code",
   "execution_count": 35,
   "id": "1cba164e-d241-4b5d-98dc-bb24b2e0ee7e",
   "metadata": {
    "execution": {
     "iopub.execute_input": "2024-07-27T23:38:50.352201Z",
     "iopub.status.busy": "2024-07-27T23:38:50.352201Z",
     "iopub.status.idle": "2024-07-27T23:38:50.382125Z",
     "shell.execute_reply": "2024-07-27T23:38:50.382125Z",
     "shell.execute_reply.started": "2024-07-27T23:38:50.352201Z"
    },
    "tags": []
   },
   "outputs": [
    {
     "data": {
      "application/vnd.plotly.v1+json": {
       "config": {
        "displaylogo": false,
        "modeBarButtonsToRemove": [
         "zoomIn",
         "zoomOut",
         "resetScale2d",
         "select2d",
         "lasso2d"
        ],
        "plotlyServerURL": "https://plot.ly",
        "responsive": true,
        "toImageButtonOptions": {
         "filename": "reading-habits",
         "format": "png",
         "scale": 1
        }
       },
       "data": [
        {
         "customdata": [
          "Physical",
          "Physical",
          "Physical",
          "Physical",
          "Physical"
         ],
         "hovertemplate": "<b>%{customdata}</b>: %{y}<extra></extra>",
         "marker": {
          "color": "#529b9c"
         },
         "name": "Physical",
         "type": "bar",
         "x": [
          "Fiction",
          "Nonfiction",
          "Philosophy",
          "Psychology",
          "Science"
         ],
         "y": [
          20,
          8,
          6,
          1,
          5
         ]
        },
        {
         "customdata": [
          "eBook",
          "eBook",
          "eBook",
          "eBook",
          "eBook"
         ],
         "hovertemplate": "<b>%{customdata}</b>: %{y}<extra></extra>",
         "marker": {
          "color": "#d27575"
         },
         "name": "eBook",
         "type": "bar",
         "x": [
          "Fiction",
          "Nonfiction",
          "Philosophy",
          "Psychology",
          "Science"
         ],
         "y": [
          105,
          4,
          1,
          0,
          0
         ]
        }
       ],
       "layout": {
        "barmode": "stack",
        "font": {
         "color": "#001c40",
         "family": "Baskerville",
         "size": 14
        },
        "height": 600,
        "hoverlabel": {
         "font": {
          "size": 16
         }
        },
        "legend": {
         "orientation": "h",
         "x": 0.5,
         "xanchor": "center",
         "y": 1.01,
         "yanchor": "top"
        },
        "margin": {
         "b": 45,
         "l": 85,
         "r": 85,
         "t": 120
        },
        "paper_bgcolor": "#f0f0f0",
        "plot_bgcolor": "#f0f0f0",
        "showlegend": true,
        "template": {
         "data": {
          "bar": [
           {
            "error_x": {
             "color": "#2a3f5f"
            },
            "error_y": {
             "color": "#2a3f5f"
            },
            "marker": {
             "line": {
              "color": "#E5ECF6",
              "width": 0.5
             },
             "pattern": {
              "fillmode": "overlay",
              "size": 10,
              "solidity": 0.2
             }
            },
            "type": "bar"
           }
          ],
          "barpolar": [
           {
            "marker": {
             "line": {
              "color": "#E5ECF6",
              "width": 0.5
             },
             "pattern": {
              "fillmode": "overlay",
              "size": 10,
              "solidity": 0.2
             }
            },
            "type": "barpolar"
           }
          ],
          "carpet": [
           {
            "aaxis": {
             "endlinecolor": "#2a3f5f",
             "gridcolor": "white",
             "linecolor": "white",
             "minorgridcolor": "white",
             "startlinecolor": "#2a3f5f"
            },
            "baxis": {
             "endlinecolor": "#2a3f5f",
             "gridcolor": "white",
             "linecolor": "white",
             "minorgridcolor": "white",
             "startlinecolor": "#2a3f5f"
            },
            "type": "carpet"
           }
          ],
          "choropleth": [
           {
            "colorbar": {
             "outlinewidth": 0,
             "ticks": ""
            },
            "type": "choropleth"
           }
          ],
          "contour": [
           {
            "colorbar": {
             "outlinewidth": 0,
             "ticks": ""
            },
            "colorscale": [
             [
              0,
              "#0d0887"
             ],
             [
              0.1111111111111111,
              "#46039f"
             ],
             [
              0.2222222222222222,
              "#7201a8"
             ],
             [
              0.3333333333333333,
              "#9c179e"
             ],
             [
              0.4444444444444444,
              "#bd3786"
             ],
             [
              0.5555555555555556,
              "#d8576b"
             ],
             [
              0.6666666666666666,
              "#ed7953"
             ],
             [
              0.7777777777777778,
              "#fb9f3a"
             ],
             [
              0.8888888888888888,
              "#fdca26"
             ],
             [
              1,
              "#f0f921"
             ]
            ],
            "type": "contour"
           }
          ],
          "contourcarpet": [
           {
            "colorbar": {
             "outlinewidth": 0,
             "ticks": ""
            },
            "type": "contourcarpet"
           }
          ],
          "heatmap": [
           {
            "colorbar": {
             "outlinewidth": 0,
             "ticks": ""
            },
            "colorscale": [
             [
              0,
              "#0d0887"
             ],
             [
              0.1111111111111111,
              "#46039f"
             ],
             [
              0.2222222222222222,
              "#7201a8"
             ],
             [
              0.3333333333333333,
              "#9c179e"
             ],
             [
              0.4444444444444444,
              "#bd3786"
             ],
             [
              0.5555555555555556,
              "#d8576b"
             ],
             [
              0.6666666666666666,
              "#ed7953"
             ],
             [
              0.7777777777777778,
              "#fb9f3a"
             ],
             [
              0.8888888888888888,
              "#fdca26"
             ],
             [
              1,
              "#f0f921"
             ]
            ],
            "type": "heatmap"
           }
          ],
          "heatmapgl": [
           {
            "colorbar": {
             "outlinewidth": 0,
             "ticks": ""
            },
            "colorscale": [
             [
              0,
              "#0d0887"
             ],
             [
              0.1111111111111111,
              "#46039f"
             ],
             [
              0.2222222222222222,
              "#7201a8"
             ],
             [
              0.3333333333333333,
              "#9c179e"
             ],
             [
              0.4444444444444444,
              "#bd3786"
             ],
             [
              0.5555555555555556,
              "#d8576b"
             ],
             [
              0.6666666666666666,
              "#ed7953"
             ],
             [
              0.7777777777777778,
              "#fb9f3a"
             ],
             [
              0.8888888888888888,
              "#fdca26"
             ],
             [
              1,
              "#f0f921"
             ]
            ],
            "type": "heatmapgl"
           }
          ],
          "histogram": [
           {
            "marker": {
             "pattern": {
              "fillmode": "overlay",
              "size": 10,
              "solidity": 0.2
             }
            },
            "type": "histogram"
           }
          ],
          "histogram2d": [
           {
            "colorbar": {
             "outlinewidth": 0,
             "ticks": ""
            },
            "colorscale": [
             [
              0,
              "#0d0887"
             ],
             [
              0.1111111111111111,
              "#46039f"
             ],
             [
              0.2222222222222222,
              "#7201a8"
             ],
             [
              0.3333333333333333,
              "#9c179e"
             ],
             [
              0.4444444444444444,
              "#bd3786"
             ],
             [
              0.5555555555555556,
              "#d8576b"
             ],
             [
              0.6666666666666666,
              "#ed7953"
             ],
             [
              0.7777777777777778,
              "#fb9f3a"
             ],
             [
              0.8888888888888888,
              "#fdca26"
             ],
             [
              1,
              "#f0f921"
             ]
            ],
            "type": "histogram2d"
           }
          ],
          "histogram2dcontour": [
           {
            "colorbar": {
             "outlinewidth": 0,
             "ticks": ""
            },
            "colorscale": [
             [
              0,
              "#0d0887"
             ],
             [
              0.1111111111111111,
              "#46039f"
             ],
             [
              0.2222222222222222,
              "#7201a8"
             ],
             [
              0.3333333333333333,
              "#9c179e"
             ],
             [
              0.4444444444444444,
              "#bd3786"
             ],
             [
              0.5555555555555556,
              "#d8576b"
             ],
             [
              0.6666666666666666,
              "#ed7953"
             ],
             [
              0.7777777777777778,
              "#fb9f3a"
             ],
             [
              0.8888888888888888,
              "#fdca26"
             ],
             [
              1,
              "#f0f921"
             ]
            ],
            "type": "histogram2dcontour"
           }
          ],
          "mesh3d": [
           {
            "colorbar": {
             "outlinewidth": 0,
             "ticks": ""
            },
            "type": "mesh3d"
           }
          ],
          "parcoords": [
           {
            "line": {
             "colorbar": {
              "outlinewidth": 0,
              "ticks": ""
             }
            },
            "type": "parcoords"
           }
          ],
          "pie": [
           {
            "automargin": true,
            "type": "pie"
           }
          ],
          "scatter": [
           {
            "fillpattern": {
             "fillmode": "overlay",
             "size": 10,
             "solidity": 0.2
            },
            "type": "scatter"
           }
          ],
          "scatter3d": [
           {
            "line": {
             "colorbar": {
              "outlinewidth": 0,
              "ticks": ""
             }
            },
            "marker": {
             "colorbar": {
              "outlinewidth": 0,
              "ticks": ""
             }
            },
            "type": "scatter3d"
           }
          ],
          "scattercarpet": [
           {
            "marker": {
             "colorbar": {
              "outlinewidth": 0,
              "ticks": ""
             }
            },
            "type": "scattercarpet"
           }
          ],
          "scattergeo": [
           {
            "marker": {
             "colorbar": {
              "outlinewidth": 0,
              "ticks": ""
             }
            },
            "type": "scattergeo"
           }
          ],
          "scattergl": [
           {
            "marker": {
             "colorbar": {
              "outlinewidth": 0,
              "ticks": ""
             }
            },
            "type": "scattergl"
           }
          ],
          "scattermapbox": [
           {
            "marker": {
             "colorbar": {
              "outlinewidth": 0,
              "ticks": ""
             }
            },
            "type": "scattermapbox"
           }
          ],
          "scatterpolar": [
           {
            "marker": {
             "colorbar": {
              "outlinewidth": 0,
              "ticks": ""
             }
            },
            "type": "scatterpolar"
           }
          ],
          "scatterpolargl": [
           {
            "marker": {
             "colorbar": {
              "outlinewidth": 0,
              "ticks": ""
             }
            },
            "type": "scatterpolargl"
           }
          ],
          "scatterternary": [
           {
            "marker": {
             "colorbar": {
              "outlinewidth": 0,
              "ticks": ""
             }
            },
            "type": "scatterternary"
           }
          ],
          "surface": [
           {
            "colorbar": {
             "outlinewidth": 0,
             "ticks": ""
            },
            "colorscale": [
             [
              0,
              "#0d0887"
             ],
             [
              0.1111111111111111,
              "#46039f"
             ],
             [
              0.2222222222222222,
              "#7201a8"
             ],
             [
              0.3333333333333333,
              "#9c179e"
             ],
             [
              0.4444444444444444,
              "#bd3786"
             ],
             [
              0.5555555555555556,
              "#d8576b"
             ],
             [
              0.6666666666666666,
              "#ed7953"
             ],
             [
              0.7777777777777778,
              "#fb9f3a"
             ],
             [
              0.8888888888888888,
              "#fdca26"
             ],
             [
              1,
              "#f0f921"
             ]
            ],
            "type": "surface"
           }
          ],
          "table": [
           {
            "cells": {
             "fill": {
              "color": "#EBF0F8"
             },
             "line": {
              "color": "white"
             }
            },
            "header": {
             "fill": {
              "color": "#C8D4E3"
             },
             "line": {
              "color": "white"
             }
            },
            "type": "table"
           }
          ]
         },
         "layout": {
          "annotationdefaults": {
           "arrowcolor": "#2a3f5f",
           "arrowhead": 0,
           "arrowwidth": 1
          },
          "autotypenumbers": "strict",
          "coloraxis": {
           "colorbar": {
            "outlinewidth": 0,
            "ticks": ""
           }
          },
          "colorscale": {
           "diverging": [
            [
             0,
             "#8e0152"
            ],
            [
             0.1,
             "#c51b7d"
            ],
            [
             0.2,
             "#de77ae"
            ],
            [
             0.3,
             "#f1b6da"
            ],
            [
             0.4,
             "#fde0ef"
            ],
            [
             0.5,
             "#f7f7f7"
            ],
            [
             0.6,
             "#e6f5d0"
            ],
            [
             0.7,
             "#b8e186"
            ],
            [
             0.8,
             "#7fbc41"
            ],
            [
             0.9,
             "#4d9221"
            ],
            [
             1,
             "#276419"
            ]
           ],
           "sequential": [
            [
             0,
             "#0d0887"
            ],
            [
             0.1111111111111111,
             "#46039f"
            ],
            [
             0.2222222222222222,
             "#7201a8"
            ],
            [
             0.3333333333333333,
             "#9c179e"
            ],
            [
             0.4444444444444444,
             "#bd3786"
            ],
            [
             0.5555555555555556,
             "#d8576b"
            ],
            [
             0.6666666666666666,
             "#ed7953"
            ],
            [
             0.7777777777777778,
             "#fb9f3a"
            ],
            [
             0.8888888888888888,
             "#fdca26"
            ],
            [
             1,
             "#f0f921"
            ]
           ],
           "sequentialminus": [
            [
             0,
             "#0d0887"
            ],
            [
             0.1111111111111111,
             "#46039f"
            ],
            [
             0.2222222222222222,
             "#7201a8"
            ],
            [
             0.3333333333333333,
             "#9c179e"
            ],
            [
             0.4444444444444444,
             "#bd3786"
            ],
            [
             0.5555555555555556,
             "#d8576b"
            ],
            [
             0.6666666666666666,
             "#ed7953"
            ],
            [
             0.7777777777777778,
             "#fb9f3a"
            ],
            [
             0.8888888888888888,
             "#fdca26"
            ],
            [
             1,
             "#f0f921"
            ]
           ]
          },
          "colorway": [
           "#636efa",
           "#EF553B",
           "#00cc96",
           "#ab63fa",
           "#FFA15A",
           "#19d3f3",
           "#FF6692",
           "#B6E880",
           "#FF97FF",
           "#FECB52"
          ],
          "font": {
           "color": "#2a3f5f"
          },
          "geo": {
           "bgcolor": "white",
           "lakecolor": "white",
           "landcolor": "#E5ECF6",
           "showlakes": true,
           "showland": true,
           "subunitcolor": "white"
          },
          "hoverlabel": {
           "align": "left"
          },
          "hovermode": "closest",
          "mapbox": {
           "style": "light"
          },
          "paper_bgcolor": "white",
          "plot_bgcolor": "#E5ECF6",
          "polar": {
           "angularaxis": {
            "gridcolor": "white",
            "linecolor": "white",
            "ticks": ""
           },
           "bgcolor": "#E5ECF6",
           "radialaxis": {
            "gridcolor": "white",
            "linecolor": "white",
            "ticks": ""
           }
          },
          "scene": {
           "xaxis": {
            "backgroundcolor": "#E5ECF6",
            "gridcolor": "white",
            "gridwidth": 2,
            "linecolor": "white",
            "showbackground": true,
            "ticks": "",
            "zerolinecolor": "white"
           },
           "yaxis": {
            "backgroundcolor": "#E5ECF6",
            "gridcolor": "white",
            "gridwidth": 2,
            "linecolor": "white",
            "showbackground": true,
            "ticks": "",
            "zerolinecolor": "white"
           },
           "zaxis": {
            "backgroundcolor": "#E5ECF6",
            "gridcolor": "white",
            "gridwidth": 2,
            "linecolor": "white",
            "showbackground": true,
            "ticks": "",
            "zerolinecolor": "white"
           }
          },
          "shapedefaults": {
           "line": {
            "color": "#2a3f5f"
           }
          },
          "ternary": {
           "aaxis": {
            "gridcolor": "white",
            "linecolor": "white",
            "ticks": ""
           },
           "baxis": {
            "gridcolor": "white",
            "linecolor": "white",
            "ticks": ""
           },
           "bgcolor": "#E5ECF6",
           "caxis": {
            "gridcolor": "white",
            "linecolor": "white",
            "ticks": ""
           }
          },
          "title": {
           "x": 0.05
          },
          "xaxis": {
           "automargin": true,
           "gridcolor": "white",
           "linecolor": "white",
           "ticks": "",
           "title": {
            "standoff": 15
           },
           "zerolinecolor": "white",
           "zerolinewidth": 2
          },
          "yaxis": {
           "automargin": true,
           "gridcolor": "white",
           "linecolor": "white",
           "ticks": "",
           "title": {
            "standoff": 15
           },
           "zerolinecolor": "white",
           "zerolinewidth": 2
          }
         }
        },
        "title": {
         "font": {
          "color": "#001c40",
          "family": "Baskerville, Bold",
          "size": 40
         },
         "text": "Most-Read Book Format<br><sup>I tend to buy physical copies of books based on reality and non-fiction"
        },
        "xaxis": {
         "gridcolor": "#cbcbcb",
         "linecolor": "black",
         "showgrid": false,
         "showline": true,
         "title": {},
         "zerolinewidth": 1
        },
        "yaxis": {
         "gridcolor": "#cbcbcb",
         "linecolor": "black",
         "showgrid": true,
         "showline": false,
         "showticklabels": true,
         "title": {},
         "zerolinewidth": 1
        },
        "yaxis2": {
         "gridcolor": "#cbcbcb",
         "linecolor": "black",
         "showgrid": true,
         "showline": false,
         "showticklabels": true,
         "zerolinewidth": 1
        }
       }
      },
      "text/html": [
       "<div>                            <div id=\"f28318f3-f386-475f-a34d-41b7325534ec\" class=\"plotly-graph-div\" style=\"height:600px; width:100%;\"></div>            <script type=\"text/javascript\">                require([\"plotly\"], function(Plotly) {                    window.PLOTLYENV=window.PLOTLYENV || {};                                    if (document.getElementById(\"f28318f3-f386-475f-a34d-41b7325534ec\")) {                    Plotly.newPlot(                        \"f28318f3-f386-475f-a34d-41b7325534ec\",                        [{\"customdata\":[\"Physical\",\"Physical\",\"Physical\",\"Physical\",\"Physical\"],\"hovertemplate\":\"\\u003cb\\u003e%{customdata}\\u003c\\u002fb\\u003e: %{y}\\u003cextra\\u003e\\u003c\\u002fextra\\u003e\",\"marker\":{\"color\":\"#529b9c\"},\"name\":\"Physical\",\"x\":[\"Fiction\",\"Nonfiction\",\"Philosophy\",\"Psychology\",\"Science\"],\"y\":[20,8,6,1,5],\"type\":\"bar\"},{\"customdata\":[\"eBook\",\"eBook\",\"eBook\",\"eBook\",\"eBook\"],\"hovertemplate\":\"\\u003cb\\u003e%{customdata}\\u003c\\u002fb\\u003e: %{y}\\u003cextra\\u003e\\u003c\\u002fextra\\u003e\",\"marker\":{\"color\":\"#d27575\"},\"name\":\"eBook\",\"x\":[\"Fiction\",\"Nonfiction\",\"Philosophy\",\"Psychology\",\"Science\"],\"y\":[105,4,1,0,0],\"type\":\"bar\"}],                        {\"template\":{\"data\":{\"histogram2dcontour\":[{\"type\":\"histogram2dcontour\",\"colorbar\":{\"outlinewidth\":0,\"ticks\":\"\"},\"colorscale\":[[0.0,\"#0d0887\"],[0.1111111111111111,\"#46039f\"],[0.2222222222222222,\"#7201a8\"],[0.3333333333333333,\"#9c179e\"],[0.4444444444444444,\"#bd3786\"],[0.5555555555555556,\"#d8576b\"],[0.6666666666666666,\"#ed7953\"],[0.7777777777777778,\"#fb9f3a\"],[0.8888888888888888,\"#fdca26\"],[1.0,\"#f0f921\"]]}],\"choropleth\":[{\"type\":\"choropleth\",\"colorbar\":{\"outlinewidth\":0,\"ticks\":\"\"}}],\"histogram2d\":[{\"type\":\"histogram2d\",\"colorbar\":{\"outlinewidth\":0,\"ticks\":\"\"},\"colorscale\":[[0.0,\"#0d0887\"],[0.1111111111111111,\"#46039f\"],[0.2222222222222222,\"#7201a8\"],[0.3333333333333333,\"#9c179e\"],[0.4444444444444444,\"#bd3786\"],[0.5555555555555556,\"#d8576b\"],[0.6666666666666666,\"#ed7953\"],[0.7777777777777778,\"#fb9f3a\"],[0.8888888888888888,\"#fdca26\"],[1.0,\"#f0f921\"]]}],\"heatmap\":[{\"type\":\"heatmap\",\"colorbar\":{\"outlinewidth\":0,\"ticks\":\"\"},\"colorscale\":[[0.0,\"#0d0887\"],[0.1111111111111111,\"#46039f\"],[0.2222222222222222,\"#7201a8\"],[0.3333333333333333,\"#9c179e\"],[0.4444444444444444,\"#bd3786\"],[0.5555555555555556,\"#d8576b\"],[0.6666666666666666,\"#ed7953\"],[0.7777777777777778,\"#fb9f3a\"],[0.8888888888888888,\"#fdca26\"],[1.0,\"#f0f921\"]]}],\"heatmapgl\":[{\"type\":\"heatmapgl\",\"colorbar\":{\"outlinewidth\":0,\"ticks\":\"\"},\"colorscale\":[[0.0,\"#0d0887\"],[0.1111111111111111,\"#46039f\"],[0.2222222222222222,\"#7201a8\"],[0.3333333333333333,\"#9c179e\"],[0.4444444444444444,\"#bd3786\"],[0.5555555555555556,\"#d8576b\"],[0.6666666666666666,\"#ed7953\"],[0.7777777777777778,\"#fb9f3a\"],[0.8888888888888888,\"#fdca26\"],[1.0,\"#f0f921\"]]}],\"contourcarpet\":[{\"type\":\"contourcarpet\",\"colorbar\":{\"outlinewidth\":0,\"ticks\":\"\"}}],\"contour\":[{\"type\":\"contour\",\"colorbar\":{\"outlinewidth\":0,\"ticks\":\"\"},\"colorscale\":[[0.0,\"#0d0887\"],[0.1111111111111111,\"#46039f\"],[0.2222222222222222,\"#7201a8\"],[0.3333333333333333,\"#9c179e\"],[0.4444444444444444,\"#bd3786\"],[0.5555555555555556,\"#d8576b\"],[0.6666666666666666,\"#ed7953\"],[0.7777777777777778,\"#fb9f3a\"],[0.8888888888888888,\"#fdca26\"],[1.0,\"#f0f921\"]]}],\"surface\":[{\"type\":\"surface\",\"colorbar\":{\"outlinewidth\":0,\"ticks\":\"\"},\"colorscale\":[[0.0,\"#0d0887\"],[0.1111111111111111,\"#46039f\"],[0.2222222222222222,\"#7201a8\"],[0.3333333333333333,\"#9c179e\"],[0.4444444444444444,\"#bd3786\"],[0.5555555555555556,\"#d8576b\"],[0.6666666666666666,\"#ed7953\"],[0.7777777777777778,\"#fb9f3a\"],[0.8888888888888888,\"#fdca26\"],[1.0,\"#f0f921\"]]}],\"mesh3d\":[{\"type\":\"mesh3d\",\"colorbar\":{\"outlinewidth\":0,\"ticks\":\"\"}}],\"scatter\":[{\"fillpattern\":{\"fillmode\":\"overlay\",\"size\":10,\"solidity\":0.2},\"type\":\"scatter\"}],\"parcoords\":[{\"type\":\"parcoords\",\"line\":{\"colorbar\":{\"outlinewidth\":0,\"ticks\":\"\"}}}],\"scatterpolargl\":[{\"type\":\"scatterpolargl\",\"marker\":{\"colorbar\":{\"outlinewidth\":0,\"ticks\":\"\"}}}],\"bar\":[{\"error_x\":{\"color\":\"#2a3f5f\"},\"error_y\":{\"color\":\"#2a3f5f\"},\"marker\":{\"line\":{\"color\":\"#E5ECF6\",\"width\":0.5},\"pattern\":{\"fillmode\":\"overlay\",\"size\":10,\"solidity\":0.2}},\"type\":\"bar\"}],\"scattergeo\":[{\"type\":\"scattergeo\",\"marker\":{\"colorbar\":{\"outlinewidth\":0,\"ticks\":\"\"}}}],\"scatterpolar\":[{\"type\":\"scatterpolar\",\"marker\":{\"colorbar\":{\"outlinewidth\":0,\"ticks\":\"\"}}}],\"histogram\":[{\"marker\":{\"pattern\":{\"fillmode\":\"overlay\",\"size\":10,\"solidity\":0.2}},\"type\":\"histogram\"}],\"scattergl\":[{\"type\":\"scattergl\",\"marker\":{\"colorbar\":{\"outlinewidth\":0,\"ticks\":\"\"}}}],\"scatter3d\":[{\"type\":\"scatter3d\",\"line\":{\"colorbar\":{\"outlinewidth\":0,\"ticks\":\"\"}},\"marker\":{\"colorbar\":{\"outlinewidth\":0,\"ticks\":\"\"}}}],\"scattermapbox\":[{\"type\":\"scattermapbox\",\"marker\":{\"colorbar\":{\"outlinewidth\":0,\"ticks\":\"\"}}}],\"scatterternary\":[{\"type\":\"scatterternary\",\"marker\":{\"colorbar\":{\"outlinewidth\":0,\"ticks\":\"\"}}}],\"scattercarpet\":[{\"type\":\"scattercarpet\",\"marker\":{\"colorbar\":{\"outlinewidth\":0,\"ticks\":\"\"}}}],\"carpet\":[{\"aaxis\":{\"endlinecolor\":\"#2a3f5f\",\"gridcolor\":\"white\",\"linecolor\":\"white\",\"minorgridcolor\":\"white\",\"startlinecolor\":\"#2a3f5f\"},\"baxis\":{\"endlinecolor\":\"#2a3f5f\",\"gridcolor\":\"white\",\"linecolor\":\"white\",\"minorgridcolor\":\"white\",\"startlinecolor\":\"#2a3f5f\"},\"type\":\"carpet\"}],\"table\":[{\"cells\":{\"fill\":{\"color\":\"#EBF0F8\"},\"line\":{\"color\":\"white\"}},\"header\":{\"fill\":{\"color\":\"#C8D4E3\"},\"line\":{\"color\":\"white\"}},\"type\":\"table\"}],\"barpolar\":[{\"marker\":{\"line\":{\"color\":\"#E5ECF6\",\"width\":0.5},\"pattern\":{\"fillmode\":\"overlay\",\"size\":10,\"solidity\":0.2}},\"type\":\"barpolar\"}],\"pie\":[{\"automargin\":true,\"type\":\"pie\"}]},\"layout\":{\"autotypenumbers\":\"strict\",\"colorway\":[\"#636efa\",\"#EF553B\",\"#00cc96\",\"#ab63fa\",\"#FFA15A\",\"#19d3f3\",\"#FF6692\",\"#B6E880\",\"#FF97FF\",\"#FECB52\"],\"font\":{\"color\":\"#2a3f5f\"},\"hovermode\":\"closest\",\"hoverlabel\":{\"align\":\"left\"},\"paper_bgcolor\":\"white\",\"plot_bgcolor\":\"#E5ECF6\",\"polar\":{\"bgcolor\":\"#E5ECF6\",\"angularaxis\":{\"gridcolor\":\"white\",\"linecolor\":\"white\",\"ticks\":\"\"},\"radialaxis\":{\"gridcolor\":\"white\",\"linecolor\":\"white\",\"ticks\":\"\"}},\"ternary\":{\"bgcolor\":\"#E5ECF6\",\"aaxis\":{\"gridcolor\":\"white\",\"linecolor\":\"white\",\"ticks\":\"\"},\"baxis\":{\"gridcolor\":\"white\",\"linecolor\":\"white\",\"ticks\":\"\"},\"caxis\":{\"gridcolor\":\"white\",\"linecolor\":\"white\",\"ticks\":\"\"}},\"coloraxis\":{\"colorbar\":{\"outlinewidth\":0,\"ticks\":\"\"}},\"colorscale\":{\"sequential\":[[0.0,\"#0d0887\"],[0.1111111111111111,\"#46039f\"],[0.2222222222222222,\"#7201a8\"],[0.3333333333333333,\"#9c179e\"],[0.4444444444444444,\"#bd3786\"],[0.5555555555555556,\"#d8576b\"],[0.6666666666666666,\"#ed7953\"],[0.7777777777777778,\"#fb9f3a\"],[0.8888888888888888,\"#fdca26\"],[1.0,\"#f0f921\"]],\"sequentialminus\":[[0.0,\"#0d0887\"],[0.1111111111111111,\"#46039f\"],[0.2222222222222222,\"#7201a8\"],[0.3333333333333333,\"#9c179e\"],[0.4444444444444444,\"#bd3786\"],[0.5555555555555556,\"#d8576b\"],[0.6666666666666666,\"#ed7953\"],[0.7777777777777778,\"#fb9f3a\"],[0.8888888888888888,\"#fdca26\"],[1.0,\"#f0f921\"]],\"diverging\":[[0,\"#8e0152\"],[0.1,\"#c51b7d\"],[0.2,\"#de77ae\"],[0.3,\"#f1b6da\"],[0.4,\"#fde0ef\"],[0.5,\"#f7f7f7\"],[0.6,\"#e6f5d0\"],[0.7,\"#b8e186\"],[0.8,\"#7fbc41\"],[0.9,\"#4d9221\"],[1,\"#276419\"]]},\"xaxis\":{\"gridcolor\":\"white\",\"linecolor\":\"white\",\"ticks\":\"\",\"title\":{\"standoff\":15},\"zerolinecolor\":\"white\",\"automargin\":true,\"zerolinewidth\":2},\"yaxis\":{\"gridcolor\":\"white\",\"linecolor\":\"white\",\"ticks\":\"\",\"title\":{\"standoff\":15},\"zerolinecolor\":\"white\",\"automargin\":true,\"zerolinewidth\":2},\"scene\":{\"xaxis\":{\"backgroundcolor\":\"#E5ECF6\",\"gridcolor\":\"white\",\"linecolor\":\"white\",\"showbackground\":true,\"ticks\":\"\",\"zerolinecolor\":\"white\",\"gridwidth\":2},\"yaxis\":{\"backgroundcolor\":\"#E5ECF6\",\"gridcolor\":\"white\",\"linecolor\":\"white\",\"showbackground\":true,\"ticks\":\"\",\"zerolinecolor\":\"white\",\"gridwidth\":2},\"zaxis\":{\"backgroundcolor\":\"#E5ECF6\",\"gridcolor\":\"white\",\"linecolor\":\"white\",\"showbackground\":true,\"ticks\":\"\",\"zerolinecolor\":\"white\",\"gridwidth\":2}},\"shapedefaults\":{\"line\":{\"color\":\"#2a3f5f\"}},\"annotationdefaults\":{\"arrowcolor\":\"#2a3f5f\",\"arrowhead\":0,\"arrowwidth\":1},\"geo\":{\"bgcolor\":\"white\",\"landcolor\":\"#E5ECF6\",\"subunitcolor\":\"white\",\"showland\":true,\"showlakes\":true,\"lakecolor\":\"white\"},\"title\":{\"x\":0.05},\"mapbox\":{\"style\":\"light\"}}},\"title\":{\"font\":{\"size\":40,\"family\":\"Baskerville, Bold\",\"color\":\"#001c40\"},\"text\":\"Most-Read Book Format\\u003cbr\\u003e\\u003csup\\u003eI tend to buy physical copies of books based on reality and non-fiction\"},\"margin\":{\"l\":85,\"r\":85,\"t\":120,\"b\":45},\"xaxis\":{\"title\":{},\"showgrid\":false,\"showline\":true,\"linecolor\":\"black\",\"gridcolor\":\"#cbcbcb\",\"zerolinewidth\":1},\"yaxis\":{\"title\":{},\"showgrid\":true,\"showline\":false,\"showticklabels\":true,\"linecolor\":\"black\",\"gridcolor\":\"#cbcbcb\",\"zerolinewidth\":1},\"yaxis2\":{\"showgrid\":true,\"showline\":false,\"showticklabels\":true,\"linecolor\":\"black\",\"gridcolor\":\"#cbcbcb\",\"zerolinewidth\":1},\"font\":{\"family\":\"Baskerville\",\"color\":\"#001c40\",\"size\":14},\"hoverlabel\":{\"font\":{\"size\":16}},\"height\":600,\"showlegend\":true,\"barmode\":\"stack\",\"plot_bgcolor\":\"#f0f0f0\",\"paper_bgcolor\":\"#f0f0f0\",\"legend\":{\"orientation\":\"h\",\"yanchor\":\"top\",\"y\":1.01,\"xanchor\":\"center\",\"x\":0.5}},                        {\"modeBarButtonsToRemove\": [\"zoomIn\", \"zoomOut\", \"resetScale2d\", \"select2d\", \"lasso2d\"], \"responsive\": true, \"displaylogo\": false, \"toImageButtonOptions\": {\"format\": \"png\", \"filename\": \"reading-habits\", \"scale\": 1}}                    ).then(function(){\n",
       "                            \n",
       "var gd = document.getElementById('f28318f3-f386-475f-a34d-41b7325534ec');\n",
       "var x = new MutationObserver(function (mutations, observer) {{\n",
       "        var display = window.getComputedStyle(gd).display;\n",
       "        if (!display || display === 'none') {{\n",
       "            console.log([gd, 'removed!']);\n",
       "            Plotly.purge(gd);\n",
       "            observer.disconnect();\n",
       "        }}\n",
       "}});\n",
       "\n",
       "// Listen for the removal of the full notebook cells\n",
       "var notebookContainer = gd.closest('#notebook-container');\n",
       "if (notebookContainer) {{\n",
       "    x.observe(notebookContainer, {childList: true});\n",
       "}}\n",
       "\n",
       "// Listen for the clearing of the current output cell\n",
       "var outputEl = gd.closest('.output');\n",
       "if (outputEl) {{\n",
       "    x.observe(outputEl, {childList: true});\n",
       "}}\n",
       "\n",
       "                        })                };                });            </script>        </div>"
      ]
     },
     "metadata": {},
     "output_type": "display_data"
    }
   ],
   "source": [
    "physical = (df[df['Format'] == 'Physical'].groupby('Genre')['Title']\n",
    "            .count()\n",
    "            .reset_index()\n",
    "            .rename(columns={'Title':'Physical'}))\n",
    "ebook = (df[df['Format'] == 'eBook'].groupby('Genre')['Title']\n",
    "         .count()\n",
    "         .reset_index()\n",
    "         .rename(columns={'Title':'eBook'}))\n",
    "\n",
    "format_df = pd.concat([physical, ebook['eBook']], axis=1).fillna(0).set_index('Genre')\n",
    "format_df = format_df.convert_dtypes()\n",
    "\n",
    "title = \"Most-Read Book Format\"\n",
    "sub = f\"I tend to buy physical copies of books based on reality and non-fiction\"\n",
    "plot.gen_stacked_bar_graph(format_df, title, sub)"
   ]
  },
  {
   "cell_type": "markdown",
   "id": "31b649d2-9c4a-4988-abb3-2a3c2bebf570",
   "metadata": {},
   "source": [
    "### How do I rate what I've read?\n",
    "\n",
    "I tend to base my ratings on how gripped I am whilst reading. There are many books whose content/plot might not have interested me as much, but the author's prose and writing style intrigued me (e.g. Haruki Murakami's novels). Conversely, there are also a lot of books where the content is right up my alley, but it's written in more of a straight-forward way (mostly science books). "
   ]
  },
  {
   "cell_type": "code",
   "execution_count": 36,
   "id": "5cfc3acc-fb67-425c-8643-1644357f785c",
   "metadata": {
    "execution": {
     "iopub.execute_input": "2024-07-27T23:38:50.383118Z",
     "iopub.status.busy": "2024-07-27T23:38:50.382125Z",
     "iopub.status.idle": "2024-07-27T23:38:50.428026Z",
     "shell.execute_reply": "2024-07-27T23:38:50.428026Z",
     "shell.execute_reply.started": "2024-07-27T23:38:50.383118Z"
    },
    "tags": []
   },
   "outputs": [
    {
     "data": {
      "application/vnd.plotly.v1+json": {
       "config": {
        "displaylogo": false,
        "modeBarButtonsToRemove": [
         "zoomIn",
         "zoomOut",
         "resetScale2d",
         "select2d",
         "lasso2d"
        ],
        "plotlyServerURL": "https://plot.ly",
        "responsive": true,
        "toImageButtonOptions": {
         "filename": "reading-habits",
         "format": "png",
         "scale": 1
        }
       },
       "data": [
        {
         "customdata": [
          [
           "125",
           "Rating"
          ],
          [
           "12",
           "Rating"
          ],
          [
           "6",
           "Rating"
          ],
          [
           "1",
           "Rating"
          ],
          [
           "6",
           "Rating"
          ]
         ],
         "hovertemplate": "<b>%{x} Books</b>: %{customdata[0]}<br><b>Avg. %{customdata[1]}</b>: %{y}",
         "marker": {
          "color": [
           "#d27575",
           "#529b9c",
           "#eac392",
           "#9cba8f",
           "#675a55",
           "#d27575",
           "#529b9c",
           "#eac392",
           "#9cba8f",
           "#675a55",
           "#d27575",
           "#529b9c",
           "#eac392",
           "#9cba8f",
           "#675a55",
           "#d27575",
           "#529b9c",
           "#eac392",
           "#9cba8f",
           "#675a55",
           "#d27575",
           "#529b9c",
           "#eac392",
           "#9cba8f",
           "#675a55"
          ]
         },
         "name": "",
         "type": "bar",
         "x": [
          "Fiction",
          "Nonfiction",
          "Philosophy",
          "Psychology",
          "Science"
         ],
         "y": [
          7.72,
          7.5,
          7.08,
          7.5,
          7.75
         ]
        }
       ],
       "layout": {
        "annotations": [
         {
          "bgcolor": "#b4a7d6",
          "bordercolor": "#c7c7c7",
          "borderpad": 3,
          "borderwidth": 1,
          "opacity": 0.8,
          "showarrow": false,
          "text": "Weighted Avg: 7.68",
          "x": 1,
          "xanchor": "right",
          "xref": "x domain",
          "y": 7.676533333333333,
          "yanchor": "bottom",
          "yref": "y"
         }
        ],
        "barmode": "group",
        "font": {
         "color": "#001c40",
         "family": "Baskerville",
         "size": 14
        },
        "height": 600,
        "hoverlabel": {
         "font": {
          "size": 16
         }
        },
        "margin": {
         "b": 45,
         "l": 85,
         "r": 85,
         "t": 120
        },
        "paper_bgcolor": "#f0f0f0",
        "plot_bgcolor": "#f0f0f0",
        "shapes": [
         {
          "line": {
           "color": "#8e7cc3",
           "dash": "dash",
           "width": 2
          },
          "type": "line",
          "x0": 0,
          "x1": 1,
          "xref": "x domain",
          "y0": 7.676533333333333,
          "y1": 7.676533333333333,
          "yref": "y"
         }
        ],
        "showlegend": false,
        "template": {
         "data": {
          "bar": [
           {
            "error_x": {
             "color": "#2a3f5f"
            },
            "error_y": {
             "color": "#2a3f5f"
            },
            "marker": {
             "line": {
              "color": "#E5ECF6",
              "width": 0.5
             },
             "pattern": {
              "fillmode": "overlay",
              "size": 10,
              "solidity": 0.2
             }
            },
            "type": "bar"
           }
          ],
          "barpolar": [
           {
            "marker": {
             "line": {
              "color": "#E5ECF6",
              "width": 0.5
             },
             "pattern": {
              "fillmode": "overlay",
              "size": 10,
              "solidity": 0.2
             }
            },
            "type": "barpolar"
           }
          ],
          "carpet": [
           {
            "aaxis": {
             "endlinecolor": "#2a3f5f",
             "gridcolor": "white",
             "linecolor": "white",
             "minorgridcolor": "white",
             "startlinecolor": "#2a3f5f"
            },
            "baxis": {
             "endlinecolor": "#2a3f5f",
             "gridcolor": "white",
             "linecolor": "white",
             "minorgridcolor": "white",
             "startlinecolor": "#2a3f5f"
            },
            "type": "carpet"
           }
          ],
          "choropleth": [
           {
            "colorbar": {
             "outlinewidth": 0,
             "ticks": ""
            },
            "type": "choropleth"
           }
          ],
          "contour": [
           {
            "colorbar": {
             "outlinewidth": 0,
             "ticks": ""
            },
            "colorscale": [
             [
              0,
              "#0d0887"
             ],
             [
              0.1111111111111111,
              "#46039f"
             ],
             [
              0.2222222222222222,
              "#7201a8"
             ],
             [
              0.3333333333333333,
              "#9c179e"
             ],
             [
              0.4444444444444444,
              "#bd3786"
             ],
             [
              0.5555555555555556,
              "#d8576b"
             ],
             [
              0.6666666666666666,
              "#ed7953"
             ],
             [
              0.7777777777777778,
              "#fb9f3a"
             ],
             [
              0.8888888888888888,
              "#fdca26"
             ],
             [
              1,
              "#f0f921"
             ]
            ],
            "type": "contour"
           }
          ],
          "contourcarpet": [
           {
            "colorbar": {
             "outlinewidth": 0,
             "ticks": ""
            },
            "type": "contourcarpet"
           }
          ],
          "heatmap": [
           {
            "colorbar": {
             "outlinewidth": 0,
             "ticks": ""
            },
            "colorscale": [
             [
              0,
              "#0d0887"
             ],
             [
              0.1111111111111111,
              "#46039f"
             ],
             [
              0.2222222222222222,
              "#7201a8"
             ],
             [
              0.3333333333333333,
              "#9c179e"
             ],
             [
              0.4444444444444444,
              "#bd3786"
             ],
             [
              0.5555555555555556,
              "#d8576b"
             ],
             [
              0.6666666666666666,
              "#ed7953"
             ],
             [
              0.7777777777777778,
              "#fb9f3a"
             ],
             [
              0.8888888888888888,
              "#fdca26"
             ],
             [
              1,
              "#f0f921"
             ]
            ],
            "type": "heatmap"
           }
          ],
          "heatmapgl": [
           {
            "colorbar": {
             "outlinewidth": 0,
             "ticks": ""
            },
            "colorscale": [
             [
              0,
              "#0d0887"
             ],
             [
              0.1111111111111111,
              "#46039f"
             ],
             [
              0.2222222222222222,
              "#7201a8"
             ],
             [
              0.3333333333333333,
              "#9c179e"
             ],
             [
              0.4444444444444444,
              "#bd3786"
             ],
             [
              0.5555555555555556,
              "#d8576b"
             ],
             [
              0.6666666666666666,
              "#ed7953"
             ],
             [
              0.7777777777777778,
              "#fb9f3a"
             ],
             [
              0.8888888888888888,
              "#fdca26"
             ],
             [
              1,
              "#f0f921"
             ]
            ],
            "type": "heatmapgl"
           }
          ],
          "histogram": [
           {
            "marker": {
             "pattern": {
              "fillmode": "overlay",
              "size": 10,
              "solidity": 0.2
             }
            },
            "type": "histogram"
           }
          ],
          "histogram2d": [
           {
            "colorbar": {
             "outlinewidth": 0,
             "ticks": ""
            },
            "colorscale": [
             [
              0,
              "#0d0887"
             ],
             [
              0.1111111111111111,
              "#46039f"
             ],
             [
              0.2222222222222222,
              "#7201a8"
             ],
             [
              0.3333333333333333,
              "#9c179e"
             ],
             [
              0.4444444444444444,
              "#bd3786"
             ],
             [
              0.5555555555555556,
              "#d8576b"
             ],
             [
              0.6666666666666666,
              "#ed7953"
             ],
             [
              0.7777777777777778,
              "#fb9f3a"
             ],
             [
              0.8888888888888888,
              "#fdca26"
             ],
             [
              1,
              "#f0f921"
             ]
            ],
            "type": "histogram2d"
           }
          ],
          "histogram2dcontour": [
           {
            "colorbar": {
             "outlinewidth": 0,
             "ticks": ""
            },
            "colorscale": [
             [
              0,
              "#0d0887"
             ],
             [
              0.1111111111111111,
              "#46039f"
             ],
             [
              0.2222222222222222,
              "#7201a8"
             ],
             [
              0.3333333333333333,
              "#9c179e"
             ],
             [
              0.4444444444444444,
              "#bd3786"
             ],
             [
              0.5555555555555556,
              "#d8576b"
             ],
             [
              0.6666666666666666,
              "#ed7953"
             ],
             [
              0.7777777777777778,
              "#fb9f3a"
             ],
             [
              0.8888888888888888,
              "#fdca26"
             ],
             [
              1,
              "#f0f921"
             ]
            ],
            "type": "histogram2dcontour"
           }
          ],
          "mesh3d": [
           {
            "colorbar": {
             "outlinewidth": 0,
             "ticks": ""
            },
            "type": "mesh3d"
           }
          ],
          "parcoords": [
           {
            "line": {
             "colorbar": {
              "outlinewidth": 0,
              "ticks": ""
             }
            },
            "type": "parcoords"
           }
          ],
          "pie": [
           {
            "automargin": true,
            "type": "pie"
           }
          ],
          "scatter": [
           {
            "fillpattern": {
             "fillmode": "overlay",
             "size": 10,
             "solidity": 0.2
            },
            "type": "scatter"
           }
          ],
          "scatter3d": [
           {
            "line": {
             "colorbar": {
              "outlinewidth": 0,
              "ticks": ""
             }
            },
            "marker": {
             "colorbar": {
              "outlinewidth": 0,
              "ticks": ""
             }
            },
            "type": "scatter3d"
           }
          ],
          "scattercarpet": [
           {
            "marker": {
             "colorbar": {
              "outlinewidth": 0,
              "ticks": ""
             }
            },
            "type": "scattercarpet"
           }
          ],
          "scattergeo": [
           {
            "marker": {
             "colorbar": {
              "outlinewidth": 0,
              "ticks": ""
             }
            },
            "type": "scattergeo"
           }
          ],
          "scattergl": [
           {
            "marker": {
             "colorbar": {
              "outlinewidth": 0,
              "ticks": ""
             }
            },
            "type": "scattergl"
           }
          ],
          "scattermapbox": [
           {
            "marker": {
             "colorbar": {
              "outlinewidth": 0,
              "ticks": ""
             }
            },
            "type": "scattermapbox"
           }
          ],
          "scatterpolar": [
           {
            "marker": {
             "colorbar": {
              "outlinewidth": 0,
              "ticks": ""
             }
            },
            "type": "scatterpolar"
           }
          ],
          "scatterpolargl": [
           {
            "marker": {
             "colorbar": {
              "outlinewidth": 0,
              "ticks": ""
             }
            },
            "type": "scatterpolargl"
           }
          ],
          "scatterternary": [
           {
            "marker": {
             "colorbar": {
              "outlinewidth": 0,
              "ticks": ""
             }
            },
            "type": "scatterternary"
           }
          ],
          "surface": [
           {
            "colorbar": {
             "outlinewidth": 0,
             "ticks": ""
            },
            "colorscale": [
             [
              0,
              "#0d0887"
             ],
             [
              0.1111111111111111,
              "#46039f"
             ],
             [
              0.2222222222222222,
              "#7201a8"
             ],
             [
              0.3333333333333333,
              "#9c179e"
             ],
             [
              0.4444444444444444,
              "#bd3786"
             ],
             [
              0.5555555555555556,
              "#d8576b"
             ],
             [
              0.6666666666666666,
              "#ed7953"
             ],
             [
              0.7777777777777778,
              "#fb9f3a"
             ],
             [
              0.8888888888888888,
              "#fdca26"
             ],
             [
              1,
              "#f0f921"
             ]
            ],
            "type": "surface"
           }
          ],
          "table": [
           {
            "cells": {
             "fill": {
              "color": "#EBF0F8"
             },
             "line": {
              "color": "white"
             }
            },
            "header": {
             "fill": {
              "color": "#C8D4E3"
             },
             "line": {
              "color": "white"
             }
            },
            "type": "table"
           }
          ]
         },
         "layout": {
          "annotationdefaults": {
           "arrowcolor": "#2a3f5f",
           "arrowhead": 0,
           "arrowwidth": 1
          },
          "autotypenumbers": "strict",
          "coloraxis": {
           "colorbar": {
            "outlinewidth": 0,
            "ticks": ""
           }
          },
          "colorscale": {
           "diverging": [
            [
             0,
             "#8e0152"
            ],
            [
             0.1,
             "#c51b7d"
            ],
            [
             0.2,
             "#de77ae"
            ],
            [
             0.3,
             "#f1b6da"
            ],
            [
             0.4,
             "#fde0ef"
            ],
            [
             0.5,
             "#f7f7f7"
            ],
            [
             0.6,
             "#e6f5d0"
            ],
            [
             0.7,
             "#b8e186"
            ],
            [
             0.8,
             "#7fbc41"
            ],
            [
             0.9,
             "#4d9221"
            ],
            [
             1,
             "#276419"
            ]
           ],
           "sequential": [
            [
             0,
             "#0d0887"
            ],
            [
             0.1111111111111111,
             "#46039f"
            ],
            [
             0.2222222222222222,
             "#7201a8"
            ],
            [
             0.3333333333333333,
             "#9c179e"
            ],
            [
             0.4444444444444444,
             "#bd3786"
            ],
            [
             0.5555555555555556,
             "#d8576b"
            ],
            [
             0.6666666666666666,
             "#ed7953"
            ],
            [
             0.7777777777777778,
             "#fb9f3a"
            ],
            [
             0.8888888888888888,
             "#fdca26"
            ],
            [
             1,
             "#f0f921"
            ]
           ],
           "sequentialminus": [
            [
             0,
             "#0d0887"
            ],
            [
             0.1111111111111111,
             "#46039f"
            ],
            [
             0.2222222222222222,
             "#7201a8"
            ],
            [
             0.3333333333333333,
             "#9c179e"
            ],
            [
             0.4444444444444444,
             "#bd3786"
            ],
            [
             0.5555555555555556,
             "#d8576b"
            ],
            [
             0.6666666666666666,
             "#ed7953"
            ],
            [
             0.7777777777777778,
             "#fb9f3a"
            ],
            [
             0.8888888888888888,
             "#fdca26"
            ],
            [
             1,
             "#f0f921"
            ]
           ]
          },
          "colorway": [
           "#636efa",
           "#EF553B",
           "#00cc96",
           "#ab63fa",
           "#FFA15A",
           "#19d3f3",
           "#FF6692",
           "#B6E880",
           "#FF97FF",
           "#FECB52"
          ],
          "font": {
           "color": "#2a3f5f"
          },
          "geo": {
           "bgcolor": "white",
           "lakecolor": "white",
           "landcolor": "#E5ECF6",
           "showlakes": true,
           "showland": true,
           "subunitcolor": "white"
          },
          "hoverlabel": {
           "align": "left"
          },
          "hovermode": "closest",
          "mapbox": {
           "style": "light"
          },
          "paper_bgcolor": "white",
          "plot_bgcolor": "#E5ECF6",
          "polar": {
           "angularaxis": {
            "gridcolor": "white",
            "linecolor": "white",
            "ticks": ""
           },
           "bgcolor": "#E5ECF6",
           "radialaxis": {
            "gridcolor": "white",
            "linecolor": "white",
            "ticks": ""
           }
          },
          "scene": {
           "xaxis": {
            "backgroundcolor": "#E5ECF6",
            "gridcolor": "white",
            "gridwidth": 2,
            "linecolor": "white",
            "showbackground": true,
            "ticks": "",
            "zerolinecolor": "white"
           },
           "yaxis": {
            "backgroundcolor": "#E5ECF6",
            "gridcolor": "white",
            "gridwidth": 2,
            "linecolor": "white",
            "showbackground": true,
            "ticks": "",
            "zerolinecolor": "white"
           },
           "zaxis": {
            "backgroundcolor": "#E5ECF6",
            "gridcolor": "white",
            "gridwidth": 2,
            "linecolor": "white",
            "showbackground": true,
            "ticks": "",
            "zerolinecolor": "white"
           }
          },
          "shapedefaults": {
           "line": {
            "color": "#2a3f5f"
           }
          },
          "ternary": {
           "aaxis": {
            "gridcolor": "white",
            "linecolor": "white",
            "ticks": ""
           },
           "baxis": {
            "gridcolor": "white",
            "linecolor": "white",
            "ticks": ""
           },
           "bgcolor": "#E5ECF6",
           "caxis": {
            "gridcolor": "white",
            "linecolor": "white",
            "ticks": ""
           }
          },
          "title": {
           "x": 0.05
          },
          "xaxis": {
           "automargin": true,
           "gridcolor": "white",
           "linecolor": "white",
           "ticks": "",
           "title": {
            "standoff": 15
           },
           "zerolinecolor": "white",
           "zerolinewidth": 2
          },
          "yaxis": {
           "automargin": true,
           "gridcolor": "white",
           "linecolor": "white",
           "ticks": "",
           "title": {
            "standoff": 15
           },
           "zerolinecolor": "white",
           "zerolinewidth": 2
          }
         }
        },
        "title": {
         "font": {
          "color": "#001c40",
          "family": "Baskerville, Bold",
          "size": 40
         },
         "text": "Ratings by Genre<br><sup>I tend to enjoy more cerebral books - I love intellectual stimulation!"
        },
        "xaxis": {
         "gridcolor": "#cbcbcb",
         "linecolor": "black",
         "showgrid": false,
         "showline": true,
         "title": {},
         "zerolinewidth": 1
        },
        "yaxis": {
         "gridcolor": "#cbcbcb",
         "linecolor": "black",
         "showgrid": true,
         "showline": false,
         "showticklabels": true,
         "title": {},
         "zerolinewidth": 1
        },
        "yaxis2": {
         "gridcolor": "#cbcbcb",
         "linecolor": "black",
         "showgrid": true,
         "showline": false,
         "showticklabels": true,
         "zerolinewidth": 1
        }
       }
      },
      "text/html": [
       "<div>                            <div id=\"1eabbe8a-be76-4c63-8a38-3b488aa47c1e\" class=\"plotly-graph-div\" style=\"height:600px; width:100%;\"></div>            <script type=\"text/javascript\">                require([\"plotly\"], function(Plotly) {                    window.PLOTLYENV=window.PLOTLYENV || {};                                    if (document.getElementById(\"1eabbe8a-be76-4c63-8a38-3b488aa47c1e\")) {                    Plotly.newPlot(                        \"1eabbe8a-be76-4c63-8a38-3b488aa47c1e\",                        [{\"customdata\":[[\"125\",\"Rating\"],[\"12\",\"Rating\"],[\"6\",\"Rating\"],[\"1\",\"Rating\"],[\"6\",\"Rating\"]],\"hovertemplate\":\"\\u003cb\\u003e%{x} Books\\u003c\\u002fb\\u003e: %{customdata[0]}\\u003cbr\\u003e\\u003cb\\u003eAvg. %{customdata[1]}\\u003c\\u002fb\\u003e: %{y}\",\"marker\":{\"color\":[\"#d27575\",\"#529b9c\",\"#eac392\",\"#9cba8f\",\"#675a55\",\"#d27575\",\"#529b9c\",\"#eac392\",\"#9cba8f\",\"#675a55\",\"#d27575\",\"#529b9c\",\"#eac392\",\"#9cba8f\",\"#675a55\",\"#d27575\",\"#529b9c\",\"#eac392\",\"#9cba8f\",\"#675a55\",\"#d27575\",\"#529b9c\",\"#eac392\",\"#9cba8f\",\"#675a55\"]},\"name\":\"\",\"x\":[\"Fiction\",\"Nonfiction\",\"Philosophy\",\"Psychology\",\"Science\"],\"y\":[7.72,7.5,7.08,7.5,7.75],\"type\":\"bar\"}],                        {\"template\":{\"data\":{\"histogram2dcontour\":[{\"type\":\"histogram2dcontour\",\"colorbar\":{\"outlinewidth\":0,\"ticks\":\"\"},\"colorscale\":[[0.0,\"#0d0887\"],[0.1111111111111111,\"#46039f\"],[0.2222222222222222,\"#7201a8\"],[0.3333333333333333,\"#9c179e\"],[0.4444444444444444,\"#bd3786\"],[0.5555555555555556,\"#d8576b\"],[0.6666666666666666,\"#ed7953\"],[0.7777777777777778,\"#fb9f3a\"],[0.8888888888888888,\"#fdca26\"],[1.0,\"#f0f921\"]]}],\"choropleth\":[{\"type\":\"choropleth\",\"colorbar\":{\"outlinewidth\":0,\"ticks\":\"\"}}],\"histogram2d\":[{\"type\":\"histogram2d\",\"colorbar\":{\"outlinewidth\":0,\"ticks\":\"\"},\"colorscale\":[[0.0,\"#0d0887\"],[0.1111111111111111,\"#46039f\"],[0.2222222222222222,\"#7201a8\"],[0.3333333333333333,\"#9c179e\"],[0.4444444444444444,\"#bd3786\"],[0.5555555555555556,\"#d8576b\"],[0.6666666666666666,\"#ed7953\"],[0.7777777777777778,\"#fb9f3a\"],[0.8888888888888888,\"#fdca26\"],[1.0,\"#f0f921\"]]}],\"heatmap\":[{\"type\":\"heatmap\",\"colorbar\":{\"outlinewidth\":0,\"ticks\":\"\"},\"colorscale\":[[0.0,\"#0d0887\"],[0.1111111111111111,\"#46039f\"],[0.2222222222222222,\"#7201a8\"],[0.3333333333333333,\"#9c179e\"],[0.4444444444444444,\"#bd3786\"],[0.5555555555555556,\"#d8576b\"],[0.6666666666666666,\"#ed7953\"],[0.7777777777777778,\"#fb9f3a\"],[0.8888888888888888,\"#fdca26\"],[1.0,\"#f0f921\"]]}],\"heatmapgl\":[{\"type\":\"heatmapgl\",\"colorbar\":{\"outlinewidth\":0,\"ticks\":\"\"},\"colorscale\":[[0.0,\"#0d0887\"],[0.1111111111111111,\"#46039f\"],[0.2222222222222222,\"#7201a8\"],[0.3333333333333333,\"#9c179e\"],[0.4444444444444444,\"#bd3786\"],[0.5555555555555556,\"#d8576b\"],[0.6666666666666666,\"#ed7953\"],[0.7777777777777778,\"#fb9f3a\"],[0.8888888888888888,\"#fdca26\"],[1.0,\"#f0f921\"]]}],\"contourcarpet\":[{\"type\":\"contourcarpet\",\"colorbar\":{\"outlinewidth\":0,\"ticks\":\"\"}}],\"contour\":[{\"type\":\"contour\",\"colorbar\":{\"outlinewidth\":0,\"ticks\":\"\"},\"colorscale\":[[0.0,\"#0d0887\"],[0.1111111111111111,\"#46039f\"],[0.2222222222222222,\"#7201a8\"],[0.3333333333333333,\"#9c179e\"],[0.4444444444444444,\"#bd3786\"],[0.5555555555555556,\"#d8576b\"],[0.6666666666666666,\"#ed7953\"],[0.7777777777777778,\"#fb9f3a\"],[0.8888888888888888,\"#fdca26\"],[1.0,\"#f0f921\"]]}],\"surface\":[{\"type\":\"surface\",\"colorbar\":{\"outlinewidth\":0,\"ticks\":\"\"},\"colorscale\":[[0.0,\"#0d0887\"],[0.1111111111111111,\"#46039f\"],[0.2222222222222222,\"#7201a8\"],[0.3333333333333333,\"#9c179e\"],[0.4444444444444444,\"#bd3786\"],[0.5555555555555556,\"#d8576b\"],[0.6666666666666666,\"#ed7953\"],[0.7777777777777778,\"#fb9f3a\"],[0.8888888888888888,\"#fdca26\"],[1.0,\"#f0f921\"]]}],\"mesh3d\":[{\"type\":\"mesh3d\",\"colorbar\":{\"outlinewidth\":0,\"ticks\":\"\"}}],\"scatter\":[{\"fillpattern\":{\"fillmode\":\"overlay\",\"size\":10,\"solidity\":0.2},\"type\":\"scatter\"}],\"parcoords\":[{\"type\":\"parcoords\",\"line\":{\"colorbar\":{\"outlinewidth\":0,\"ticks\":\"\"}}}],\"scatterpolargl\":[{\"type\":\"scatterpolargl\",\"marker\":{\"colorbar\":{\"outlinewidth\":0,\"ticks\":\"\"}}}],\"bar\":[{\"error_x\":{\"color\":\"#2a3f5f\"},\"error_y\":{\"color\":\"#2a3f5f\"},\"marker\":{\"line\":{\"color\":\"#E5ECF6\",\"width\":0.5},\"pattern\":{\"fillmode\":\"overlay\",\"size\":10,\"solidity\":0.2}},\"type\":\"bar\"}],\"scattergeo\":[{\"type\":\"scattergeo\",\"marker\":{\"colorbar\":{\"outlinewidth\":0,\"ticks\":\"\"}}}],\"scatterpolar\":[{\"type\":\"scatterpolar\",\"marker\":{\"colorbar\":{\"outlinewidth\":0,\"ticks\":\"\"}}}],\"histogram\":[{\"marker\":{\"pattern\":{\"fillmode\":\"overlay\",\"size\":10,\"solidity\":0.2}},\"type\":\"histogram\"}],\"scattergl\":[{\"type\":\"scattergl\",\"marker\":{\"colorbar\":{\"outlinewidth\":0,\"ticks\":\"\"}}}],\"scatter3d\":[{\"type\":\"scatter3d\",\"line\":{\"colorbar\":{\"outlinewidth\":0,\"ticks\":\"\"}},\"marker\":{\"colorbar\":{\"outlinewidth\":0,\"ticks\":\"\"}}}],\"scattermapbox\":[{\"type\":\"scattermapbox\",\"marker\":{\"colorbar\":{\"outlinewidth\":0,\"ticks\":\"\"}}}],\"scatterternary\":[{\"type\":\"scatterternary\",\"marker\":{\"colorbar\":{\"outlinewidth\":0,\"ticks\":\"\"}}}],\"scattercarpet\":[{\"type\":\"scattercarpet\",\"marker\":{\"colorbar\":{\"outlinewidth\":0,\"ticks\":\"\"}}}],\"carpet\":[{\"aaxis\":{\"endlinecolor\":\"#2a3f5f\",\"gridcolor\":\"white\",\"linecolor\":\"white\",\"minorgridcolor\":\"white\",\"startlinecolor\":\"#2a3f5f\"},\"baxis\":{\"endlinecolor\":\"#2a3f5f\",\"gridcolor\":\"white\",\"linecolor\":\"white\",\"minorgridcolor\":\"white\",\"startlinecolor\":\"#2a3f5f\"},\"type\":\"carpet\"}],\"table\":[{\"cells\":{\"fill\":{\"color\":\"#EBF0F8\"},\"line\":{\"color\":\"white\"}},\"header\":{\"fill\":{\"color\":\"#C8D4E3\"},\"line\":{\"color\":\"white\"}},\"type\":\"table\"}],\"barpolar\":[{\"marker\":{\"line\":{\"color\":\"#E5ECF6\",\"width\":0.5},\"pattern\":{\"fillmode\":\"overlay\",\"size\":10,\"solidity\":0.2}},\"type\":\"barpolar\"}],\"pie\":[{\"automargin\":true,\"type\":\"pie\"}]},\"layout\":{\"autotypenumbers\":\"strict\",\"colorway\":[\"#636efa\",\"#EF553B\",\"#00cc96\",\"#ab63fa\",\"#FFA15A\",\"#19d3f3\",\"#FF6692\",\"#B6E880\",\"#FF97FF\",\"#FECB52\"],\"font\":{\"color\":\"#2a3f5f\"},\"hovermode\":\"closest\",\"hoverlabel\":{\"align\":\"left\"},\"paper_bgcolor\":\"white\",\"plot_bgcolor\":\"#E5ECF6\",\"polar\":{\"bgcolor\":\"#E5ECF6\",\"angularaxis\":{\"gridcolor\":\"white\",\"linecolor\":\"white\",\"ticks\":\"\"},\"radialaxis\":{\"gridcolor\":\"white\",\"linecolor\":\"white\",\"ticks\":\"\"}},\"ternary\":{\"bgcolor\":\"#E5ECF6\",\"aaxis\":{\"gridcolor\":\"white\",\"linecolor\":\"white\",\"ticks\":\"\"},\"baxis\":{\"gridcolor\":\"white\",\"linecolor\":\"white\",\"ticks\":\"\"},\"caxis\":{\"gridcolor\":\"white\",\"linecolor\":\"white\",\"ticks\":\"\"}},\"coloraxis\":{\"colorbar\":{\"outlinewidth\":0,\"ticks\":\"\"}},\"colorscale\":{\"sequential\":[[0.0,\"#0d0887\"],[0.1111111111111111,\"#46039f\"],[0.2222222222222222,\"#7201a8\"],[0.3333333333333333,\"#9c179e\"],[0.4444444444444444,\"#bd3786\"],[0.5555555555555556,\"#d8576b\"],[0.6666666666666666,\"#ed7953\"],[0.7777777777777778,\"#fb9f3a\"],[0.8888888888888888,\"#fdca26\"],[1.0,\"#f0f921\"]],\"sequentialminus\":[[0.0,\"#0d0887\"],[0.1111111111111111,\"#46039f\"],[0.2222222222222222,\"#7201a8\"],[0.3333333333333333,\"#9c179e\"],[0.4444444444444444,\"#bd3786\"],[0.5555555555555556,\"#d8576b\"],[0.6666666666666666,\"#ed7953\"],[0.7777777777777778,\"#fb9f3a\"],[0.8888888888888888,\"#fdca26\"],[1.0,\"#f0f921\"]],\"diverging\":[[0,\"#8e0152\"],[0.1,\"#c51b7d\"],[0.2,\"#de77ae\"],[0.3,\"#f1b6da\"],[0.4,\"#fde0ef\"],[0.5,\"#f7f7f7\"],[0.6,\"#e6f5d0\"],[0.7,\"#b8e186\"],[0.8,\"#7fbc41\"],[0.9,\"#4d9221\"],[1,\"#276419\"]]},\"xaxis\":{\"gridcolor\":\"white\",\"linecolor\":\"white\",\"ticks\":\"\",\"title\":{\"standoff\":15},\"zerolinecolor\":\"white\",\"automargin\":true,\"zerolinewidth\":2},\"yaxis\":{\"gridcolor\":\"white\",\"linecolor\":\"white\",\"ticks\":\"\",\"title\":{\"standoff\":15},\"zerolinecolor\":\"white\",\"automargin\":true,\"zerolinewidth\":2},\"scene\":{\"xaxis\":{\"backgroundcolor\":\"#E5ECF6\",\"gridcolor\":\"white\",\"linecolor\":\"white\",\"showbackground\":true,\"ticks\":\"\",\"zerolinecolor\":\"white\",\"gridwidth\":2},\"yaxis\":{\"backgroundcolor\":\"#E5ECF6\",\"gridcolor\":\"white\",\"linecolor\":\"white\",\"showbackground\":true,\"ticks\":\"\",\"zerolinecolor\":\"white\",\"gridwidth\":2},\"zaxis\":{\"backgroundcolor\":\"#E5ECF6\",\"gridcolor\":\"white\",\"linecolor\":\"white\",\"showbackground\":true,\"ticks\":\"\",\"zerolinecolor\":\"white\",\"gridwidth\":2}},\"shapedefaults\":{\"line\":{\"color\":\"#2a3f5f\"}},\"annotationdefaults\":{\"arrowcolor\":\"#2a3f5f\",\"arrowhead\":0,\"arrowwidth\":1},\"geo\":{\"bgcolor\":\"white\",\"landcolor\":\"#E5ECF6\",\"subunitcolor\":\"white\",\"showland\":true,\"showlakes\":true,\"lakecolor\":\"white\"},\"title\":{\"x\":0.05},\"mapbox\":{\"style\":\"light\"}}},\"shapes\":[{\"line\":{\"color\":\"#8e7cc3\",\"dash\":\"dash\",\"width\":2},\"type\":\"line\",\"x0\":0,\"x1\":1,\"xref\":\"x domain\",\"y0\":7.676533333333333,\"y1\":7.676533333333333,\"yref\":\"y\"}],\"annotations\":[{\"bgcolor\":\"#b4a7d6\",\"bordercolor\":\"#c7c7c7\",\"borderpad\":3,\"borderwidth\":1,\"opacity\":0.8,\"showarrow\":false,\"text\":\"Weighted Avg: 7.68\",\"x\":1,\"xanchor\":\"right\",\"xref\":\"x domain\",\"y\":7.676533333333333,\"yanchor\":\"bottom\",\"yref\":\"y\"}],\"title\":{\"font\":{\"size\":40,\"family\":\"Baskerville, Bold\",\"color\":\"#001c40\"},\"text\":\"Ratings by Genre\\u003cbr\\u003e\\u003csup\\u003eI tend to enjoy more cerebral books - I love intellectual stimulation!\"},\"margin\":{\"l\":85,\"r\":85,\"t\":120,\"b\":45},\"xaxis\":{\"title\":{},\"showgrid\":false,\"showline\":true,\"linecolor\":\"black\",\"gridcolor\":\"#cbcbcb\",\"zerolinewidth\":1},\"yaxis\":{\"title\":{},\"showgrid\":true,\"showline\":false,\"showticklabels\":true,\"linecolor\":\"black\",\"gridcolor\":\"#cbcbcb\",\"zerolinewidth\":1},\"yaxis2\":{\"showgrid\":true,\"showline\":false,\"showticklabels\":true,\"linecolor\":\"black\",\"gridcolor\":\"#cbcbcb\",\"zerolinewidth\":1},\"font\":{\"family\":\"Baskerville\",\"color\":\"#001c40\",\"size\":14},\"hoverlabel\":{\"font\":{\"size\":16}},\"height\":600,\"showlegend\":false,\"barmode\":\"group\",\"plot_bgcolor\":\"#f0f0f0\",\"paper_bgcolor\":\"#f0f0f0\"},                        {\"modeBarButtonsToRemove\": [\"zoomIn\", \"zoomOut\", \"resetScale2d\", \"select2d\", \"lasso2d\"], \"responsive\": true, \"displaylogo\": false, \"toImageButtonOptions\": {\"format\": \"png\", \"filename\": \"reading-habits\", \"scale\": 1}}                    ).then(function(){\n",
       "                            \n",
       "var gd = document.getElementById('1eabbe8a-be76-4c63-8a38-3b488aa47c1e');\n",
       "var x = new MutationObserver(function (mutations, observer) {{\n",
       "        var display = window.getComputedStyle(gd).display;\n",
       "        if (!display || display === 'none') {{\n",
       "            console.log([gd, 'removed!']);\n",
       "            Plotly.purge(gd);\n",
       "            observer.disconnect();\n",
       "        }}\n",
       "}});\n",
       "\n",
       "// Listen for the removal of the full notebook cells\n",
       "var notebookContainer = gd.closest('#notebook-container');\n",
       "if (notebookContainer) {{\n",
       "    x.observe(notebookContainer, {childList: true});\n",
       "}}\n",
       "\n",
       "// Listen for the clearing of the current output cell\n",
       "var outputEl = gd.closest('.output');\n",
       "if (outputEl) {{\n",
       "    x.observe(outputEl, {childList: true});\n",
       "}}\n",
       "\n",
       "                        })                };                });            </script>        </div>"
      ]
     },
     "metadata": {},
     "output_type": "display_data"
    }
   ],
   "source": [
    "dfr = df.groupby('Genre')['Rating'].mean().reset_index().round(2)\n",
    "dfr['Total'] = df.groupby('Genre')['Title'].count().reset_index(drop=True)\n",
    "\n",
    "title = \"Ratings by Genre\"\n",
    "sub = f\"I tend to enjoy more cerebral books - I love intellectual stimulation!\"\n",
    "plot.gen_bar_graph(dfr, 'Genre', title, sub, avg=True, w_avg='Rating')"
   ]
  },
  {
   "cell_type": "code",
   "execution_count": 37,
   "id": "6b18a3ae-59ef-4459-866b-0603c44022e3",
   "metadata": {
    "execution": {
     "iopub.execute_input": "2024-07-27T23:38:50.428995Z",
     "iopub.status.busy": "2024-07-27T23:38:50.428995Z",
     "iopub.status.idle": "2024-07-27T23:38:50.457917Z",
     "shell.execute_reply": "2024-07-27T23:38:50.457917Z",
     "shell.execute_reply.started": "2024-07-27T23:38:50.428995Z"
    },
    "tags": []
   },
   "outputs": [
    {
     "data": {
      "application/vnd.plotly.v1+json": {
       "config": {
        "displaylogo": false,
        "modeBarButtonsToRemove": [
         "zoomIn",
         "zoomOut",
         "resetScale2d",
         "select2d",
         "lasso2d"
        ],
        "plotlyServerURL": "https://plot.ly",
        "responsive": true,
        "toImageButtonOptions": {
         "filename": "reading-habits",
         "format": "png",
         "scale": 1
        }
       },
       "data": [
        {
         "customdata": [
          [
           "1",
           "Rating"
          ],
          [
           "1",
           "Rating"
          ],
          [
           "6",
           "Rating"
          ],
          [
           "2",
           "Rating"
          ],
          [
           "1",
           "Rating"
          ],
          [
           "5",
           "Rating"
          ],
          [
           "9",
           "Rating"
          ],
          [
           "1",
           "Rating"
          ],
          [
           "4",
           "Rating"
          ],
          [
           "10",
           "Rating"
          ],
          [
           "80",
           "Rating"
          ],
          [
           "6",
           "Rating"
          ],
          [
           "1",
           "Rating"
          ],
          [
           "1",
           "Rating"
          ],
          [
           "13",
           "Rating"
          ],
          [
           "2",
           "Rating"
          ],
          [
           "3",
           "Rating"
          ],
          [
           "2",
           "Rating"
          ],
          [
           "2",
           "Rating"
          ]
         ],
         "hovertemplate": "<b>%{y} Books</b>: %{customdata[0]}<br><b>Avg. %{customdata[1]}</b>: %{x}",
         "marker": {
          "color": [
           "#d27575",
           "#529b9c",
           "#eac392",
           "#9cba8f",
           "#675a55",
           "#d27575",
           "#529b9c",
           "#eac392",
           "#9cba8f",
           "#675a55",
           "#d27575",
           "#529b9c",
           "#eac392",
           "#9cba8f",
           "#675a55",
           "#d27575",
           "#529b9c",
           "#eac392",
           "#9cba8f",
           "#675a55",
           "#d27575",
           "#529b9c",
           "#eac392",
           "#9cba8f",
           "#675a55",
           "#d27575",
           "#529b9c",
           "#eac392",
           "#9cba8f",
           "#675a55",
           "#d27575",
           "#529b9c",
           "#eac392",
           "#9cba8f",
           "#675a55",
           "#d27575",
           "#529b9c",
           "#eac392",
           "#9cba8f",
           "#675a55",
           "#d27575",
           "#529b9c",
           "#eac392",
           "#9cba8f",
           "#675a55",
           "#d27575",
           "#529b9c",
           "#eac392",
           "#9cba8f",
           "#675a55",
           "#d27575",
           "#529b9c",
           "#eac392",
           "#9cba8f",
           "#675a55",
           "#d27575",
           "#529b9c",
           "#eac392",
           "#9cba8f",
           "#675a55",
           "#d27575",
           "#529b9c",
           "#eac392",
           "#9cba8f",
           "#675a55",
           "#d27575",
           "#529b9c",
           "#eac392",
           "#9cba8f",
           "#675a55",
           "#d27575",
           "#529b9c",
           "#eac392",
           "#9cba8f",
           "#675a55",
           "#d27575",
           "#529b9c",
           "#eac392",
           "#9cba8f",
           "#675a55",
           "#d27575",
           "#529b9c",
           "#eac392",
           "#9cba8f",
           "#675a55",
           "#d27575",
           "#529b9c",
           "#eac392",
           "#9cba8f",
           "#675a55",
           "#d27575",
           "#529b9c",
           "#eac392",
           "#9cba8f",
           "#675a55"
          ]
         },
         "name": "",
         "orientation": "h",
         "type": "bar",
         "x": [
          5,
          5,
          5.75,
          6,
          6.5,
          6.6,
          7,
          7.5,
          7.62,
          7.7,
          7.85,
          8,
          8,
          8,
          8.12,
          8.5,
          8.83,
          9,
          9.5
         ],
         "y": [
          "Programming",
          "Young Adult",
          "Self Help",
          "Contemporary",
          "Poetry",
          "Cultural",
          "Classics",
          "Short Stories",
          "Science Fiction",
          "Nonfiction",
          "Warhammer 40k",
          "Fantasy",
          "Psychology",
          "Mystery",
          "Historical Fiction",
          "German Literature",
          "History",
          "Graphic Novel",
          "Memoir"
         ]
        }
       ],
       "layout": {
        "annotations": [
         {
          "bgcolor": "#b4a7d6",
          "bordercolor": "#c7c7c7",
          "borderpad": 3,
          "borderwidth": 1,
          "opacity": 0.8,
          "showarrow": false,
          "text": "Weighted Avg: 7.68",
          "x": 7.6802,
          "xanchor": "left",
          "xref": "x",
          "y": 1,
          "yanchor": "top",
          "yref": "y domain"
         }
        ],
        "barmode": "group",
        "font": {
         "color": "#001c40",
         "family": "Baskerville",
         "size": 14
        },
        "height": 600,
        "hoverlabel": {
         "font": {
          "size": 16
         }
        },
        "margin": {
         "b": 45,
         "l": 85,
         "r": 85,
         "t": 120
        },
        "paper_bgcolor": "#f0f0f0",
        "plot_bgcolor": "#f0f0f0",
        "shapes": [
         {
          "line": {
           "color": "#8e7cc3",
           "dash": "dash",
           "width": 2
          },
          "type": "line",
          "x0": 7.6802,
          "x1": 7.6802,
          "xref": "x",
          "y0": 0,
          "y1": 1,
          "yref": "y domain"
         }
        ],
        "showlegend": false,
        "template": {
         "data": {
          "bar": [
           {
            "error_x": {
             "color": "#2a3f5f"
            },
            "error_y": {
             "color": "#2a3f5f"
            },
            "marker": {
             "line": {
              "color": "#E5ECF6",
              "width": 0.5
             },
             "pattern": {
              "fillmode": "overlay",
              "size": 10,
              "solidity": 0.2
             }
            },
            "type": "bar"
           }
          ],
          "barpolar": [
           {
            "marker": {
             "line": {
              "color": "#E5ECF6",
              "width": 0.5
             },
             "pattern": {
              "fillmode": "overlay",
              "size": 10,
              "solidity": 0.2
             }
            },
            "type": "barpolar"
           }
          ],
          "carpet": [
           {
            "aaxis": {
             "endlinecolor": "#2a3f5f",
             "gridcolor": "white",
             "linecolor": "white",
             "minorgridcolor": "white",
             "startlinecolor": "#2a3f5f"
            },
            "baxis": {
             "endlinecolor": "#2a3f5f",
             "gridcolor": "white",
             "linecolor": "white",
             "minorgridcolor": "white",
             "startlinecolor": "#2a3f5f"
            },
            "type": "carpet"
           }
          ],
          "choropleth": [
           {
            "colorbar": {
             "outlinewidth": 0,
             "ticks": ""
            },
            "type": "choropleth"
           }
          ],
          "contour": [
           {
            "colorbar": {
             "outlinewidth": 0,
             "ticks": ""
            },
            "colorscale": [
             [
              0,
              "#0d0887"
             ],
             [
              0.1111111111111111,
              "#46039f"
             ],
             [
              0.2222222222222222,
              "#7201a8"
             ],
             [
              0.3333333333333333,
              "#9c179e"
             ],
             [
              0.4444444444444444,
              "#bd3786"
             ],
             [
              0.5555555555555556,
              "#d8576b"
             ],
             [
              0.6666666666666666,
              "#ed7953"
             ],
             [
              0.7777777777777778,
              "#fb9f3a"
             ],
             [
              0.8888888888888888,
              "#fdca26"
             ],
             [
              1,
              "#f0f921"
             ]
            ],
            "type": "contour"
           }
          ],
          "contourcarpet": [
           {
            "colorbar": {
             "outlinewidth": 0,
             "ticks": ""
            },
            "type": "contourcarpet"
           }
          ],
          "heatmap": [
           {
            "colorbar": {
             "outlinewidth": 0,
             "ticks": ""
            },
            "colorscale": [
             [
              0,
              "#0d0887"
             ],
             [
              0.1111111111111111,
              "#46039f"
             ],
             [
              0.2222222222222222,
              "#7201a8"
             ],
             [
              0.3333333333333333,
              "#9c179e"
             ],
             [
              0.4444444444444444,
              "#bd3786"
             ],
             [
              0.5555555555555556,
              "#d8576b"
             ],
             [
              0.6666666666666666,
              "#ed7953"
             ],
             [
              0.7777777777777778,
              "#fb9f3a"
             ],
             [
              0.8888888888888888,
              "#fdca26"
             ],
             [
              1,
              "#f0f921"
             ]
            ],
            "type": "heatmap"
           }
          ],
          "heatmapgl": [
           {
            "colorbar": {
             "outlinewidth": 0,
             "ticks": ""
            },
            "colorscale": [
             [
              0,
              "#0d0887"
             ],
             [
              0.1111111111111111,
              "#46039f"
             ],
             [
              0.2222222222222222,
              "#7201a8"
             ],
             [
              0.3333333333333333,
              "#9c179e"
             ],
             [
              0.4444444444444444,
              "#bd3786"
             ],
             [
              0.5555555555555556,
              "#d8576b"
             ],
             [
              0.6666666666666666,
              "#ed7953"
             ],
             [
              0.7777777777777778,
              "#fb9f3a"
             ],
             [
              0.8888888888888888,
              "#fdca26"
             ],
             [
              1,
              "#f0f921"
             ]
            ],
            "type": "heatmapgl"
           }
          ],
          "histogram": [
           {
            "marker": {
             "pattern": {
              "fillmode": "overlay",
              "size": 10,
              "solidity": 0.2
             }
            },
            "type": "histogram"
           }
          ],
          "histogram2d": [
           {
            "colorbar": {
             "outlinewidth": 0,
             "ticks": ""
            },
            "colorscale": [
             [
              0,
              "#0d0887"
             ],
             [
              0.1111111111111111,
              "#46039f"
             ],
             [
              0.2222222222222222,
              "#7201a8"
             ],
             [
              0.3333333333333333,
              "#9c179e"
             ],
             [
              0.4444444444444444,
              "#bd3786"
             ],
             [
              0.5555555555555556,
              "#d8576b"
             ],
             [
              0.6666666666666666,
              "#ed7953"
             ],
             [
              0.7777777777777778,
              "#fb9f3a"
             ],
             [
              0.8888888888888888,
              "#fdca26"
             ],
             [
              1,
              "#f0f921"
             ]
            ],
            "type": "histogram2d"
           }
          ],
          "histogram2dcontour": [
           {
            "colorbar": {
             "outlinewidth": 0,
             "ticks": ""
            },
            "colorscale": [
             [
              0,
              "#0d0887"
             ],
             [
              0.1111111111111111,
              "#46039f"
             ],
             [
              0.2222222222222222,
              "#7201a8"
             ],
             [
              0.3333333333333333,
              "#9c179e"
             ],
             [
              0.4444444444444444,
              "#bd3786"
             ],
             [
              0.5555555555555556,
              "#d8576b"
             ],
             [
              0.6666666666666666,
              "#ed7953"
             ],
             [
              0.7777777777777778,
              "#fb9f3a"
             ],
             [
              0.8888888888888888,
              "#fdca26"
             ],
             [
              1,
              "#f0f921"
             ]
            ],
            "type": "histogram2dcontour"
           }
          ],
          "mesh3d": [
           {
            "colorbar": {
             "outlinewidth": 0,
             "ticks": ""
            },
            "type": "mesh3d"
           }
          ],
          "parcoords": [
           {
            "line": {
             "colorbar": {
              "outlinewidth": 0,
              "ticks": ""
             }
            },
            "type": "parcoords"
           }
          ],
          "pie": [
           {
            "automargin": true,
            "type": "pie"
           }
          ],
          "scatter": [
           {
            "fillpattern": {
             "fillmode": "overlay",
             "size": 10,
             "solidity": 0.2
            },
            "type": "scatter"
           }
          ],
          "scatter3d": [
           {
            "line": {
             "colorbar": {
              "outlinewidth": 0,
              "ticks": ""
             }
            },
            "marker": {
             "colorbar": {
              "outlinewidth": 0,
              "ticks": ""
             }
            },
            "type": "scatter3d"
           }
          ],
          "scattercarpet": [
           {
            "marker": {
             "colorbar": {
              "outlinewidth": 0,
              "ticks": ""
             }
            },
            "type": "scattercarpet"
           }
          ],
          "scattergeo": [
           {
            "marker": {
             "colorbar": {
              "outlinewidth": 0,
              "ticks": ""
             }
            },
            "type": "scattergeo"
           }
          ],
          "scattergl": [
           {
            "marker": {
             "colorbar": {
              "outlinewidth": 0,
              "ticks": ""
             }
            },
            "type": "scattergl"
           }
          ],
          "scattermapbox": [
           {
            "marker": {
             "colorbar": {
              "outlinewidth": 0,
              "ticks": ""
             }
            },
            "type": "scattermapbox"
           }
          ],
          "scatterpolar": [
           {
            "marker": {
             "colorbar": {
              "outlinewidth": 0,
              "ticks": ""
             }
            },
            "type": "scatterpolar"
           }
          ],
          "scatterpolargl": [
           {
            "marker": {
             "colorbar": {
              "outlinewidth": 0,
              "ticks": ""
             }
            },
            "type": "scatterpolargl"
           }
          ],
          "scatterternary": [
           {
            "marker": {
             "colorbar": {
              "outlinewidth": 0,
              "ticks": ""
             }
            },
            "type": "scatterternary"
           }
          ],
          "surface": [
           {
            "colorbar": {
             "outlinewidth": 0,
             "ticks": ""
            },
            "colorscale": [
             [
              0,
              "#0d0887"
             ],
             [
              0.1111111111111111,
              "#46039f"
             ],
             [
              0.2222222222222222,
              "#7201a8"
             ],
             [
              0.3333333333333333,
              "#9c179e"
             ],
             [
              0.4444444444444444,
              "#bd3786"
             ],
             [
              0.5555555555555556,
              "#d8576b"
             ],
             [
              0.6666666666666666,
              "#ed7953"
             ],
             [
              0.7777777777777778,
              "#fb9f3a"
             ],
             [
              0.8888888888888888,
              "#fdca26"
             ],
             [
              1,
              "#f0f921"
             ]
            ],
            "type": "surface"
           }
          ],
          "table": [
           {
            "cells": {
             "fill": {
              "color": "#EBF0F8"
             },
             "line": {
              "color": "white"
             }
            },
            "header": {
             "fill": {
              "color": "#C8D4E3"
             },
             "line": {
              "color": "white"
             }
            },
            "type": "table"
           }
          ]
         },
         "layout": {
          "annotationdefaults": {
           "arrowcolor": "#2a3f5f",
           "arrowhead": 0,
           "arrowwidth": 1
          },
          "autotypenumbers": "strict",
          "coloraxis": {
           "colorbar": {
            "outlinewidth": 0,
            "ticks": ""
           }
          },
          "colorscale": {
           "diverging": [
            [
             0,
             "#8e0152"
            ],
            [
             0.1,
             "#c51b7d"
            ],
            [
             0.2,
             "#de77ae"
            ],
            [
             0.3,
             "#f1b6da"
            ],
            [
             0.4,
             "#fde0ef"
            ],
            [
             0.5,
             "#f7f7f7"
            ],
            [
             0.6,
             "#e6f5d0"
            ],
            [
             0.7,
             "#b8e186"
            ],
            [
             0.8,
             "#7fbc41"
            ],
            [
             0.9,
             "#4d9221"
            ],
            [
             1,
             "#276419"
            ]
           ],
           "sequential": [
            [
             0,
             "#0d0887"
            ],
            [
             0.1111111111111111,
             "#46039f"
            ],
            [
             0.2222222222222222,
             "#7201a8"
            ],
            [
             0.3333333333333333,
             "#9c179e"
            ],
            [
             0.4444444444444444,
             "#bd3786"
            ],
            [
             0.5555555555555556,
             "#d8576b"
            ],
            [
             0.6666666666666666,
             "#ed7953"
            ],
            [
             0.7777777777777778,
             "#fb9f3a"
            ],
            [
             0.8888888888888888,
             "#fdca26"
            ],
            [
             1,
             "#f0f921"
            ]
           ],
           "sequentialminus": [
            [
             0,
             "#0d0887"
            ],
            [
             0.1111111111111111,
             "#46039f"
            ],
            [
             0.2222222222222222,
             "#7201a8"
            ],
            [
             0.3333333333333333,
             "#9c179e"
            ],
            [
             0.4444444444444444,
             "#bd3786"
            ],
            [
             0.5555555555555556,
             "#d8576b"
            ],
            [
             0.6666666666666666,
             "#ed7953"
            ],
            [
             0.7777777777777778,
             "#fb9f3a"
            ],
            [
             0.8888888888888888,
             "#fdca26"
            ],
            [
             1,
             "#f0f921"
            ]
           ]
          },
          "colorway": [
           "#636efa",
           "#EF553B",
           "#00cc96",
           "#ab63fa",
           "#FFA15A",
           "#19d3f3",
           "#FF6692",
           "#B6E880",
           "#FF97FF",
           "#FECB52"
          ],
          "font": {
           "color": "#2a3f5f"
          },
          "geo": {
           "bgcolor": "white",
           "lakecolor": "white",
           "landcolor": "#E5ECF6",
           "showlakes": true,
           "showland": true,
           "subunitcolor": "white"
          },
          "hoverlabel": {
           "align": "left"
          },
          "hovermode": "closest",
          "mapbox": {
           "style": "light"
          },
          "paper_bgcolor": "white",
          "plot_bgcolor": "#E5ECF6",
          "polar": {
           "angularaxis": {
            "gridcolor": "white",
            "linecolor": "white",
            "ticks": ""
           },
           "bgcolor": "#E5ECF6",
           "radialaxis": {
            "gridcolor": "white",
            "linecolor": "white",
            "ticks": ""
           }
          },
          "scene": {
           "xaxis": {
            "backgroundcolor": "#E5ECF6",
            "gridcolor": "white",
            "gridwidth": 2,
            "linecolor": "white",
            "showbackground": true,
            "ticks": "",
            "zerolinecolor": "white"
           },
           "yaxis": {
            "backgroundcolor": "#E5ECF6",
            "gridcolor": "white",
            "gridwidth": 2,
            "linecolor": "white",
            "showbackground": true,
            "ticks": "",
            "zerolinecolor": "white"
           },
           "zaxis": {
            "backgroundcolor": "#E5ECF6",
            "gridcolor": "white",
            "gridwidth": 2,
            "linecolor": "white",
            "showbackground": true,
            "ticks": "",
            "zerolinecolor": "white"
           }
          },
          "shapedefaults": {
           "line": {
            "color": "#2a3f5f"
           }
          },
          "ternary": {
           "aaxis": {
            "gridcolor": "white",
            "linecolor": "white",
            "ticks": ""
           },
           "baxis": {
            "gridcolor": "white",
            "linecolor": "white",
            "ticks": ""
           },
           "bgcolor": "#E5ECF6",
           "caxis": {
            "gridcolor": "white",
            "linecolor": "white",
            "ticks": ""
           }
          },
          "title": {
           "x": 0.05
          },
          "xaxis": {
           "automargin": true,
           "gridcolor": "white",
           "linecolor": "white",
           "ticks": "",
           "title": {
            "standoff": 15
           },
           "zerolinecolor": "white",
           "zerolinewidth": 2
          },
          "yaxis": {
           "automargin": true,
           "gridcolor": "white",
           "linecolor": "white",
           "ticks": "",
           "title": {
            "standoff": 15
           },
           "zerolinecolor": "white",
           "zerolinewidth": 2
          }
         }
        },
        "title": {
         "font": {
          "color": "#001c40",
          "family": "Baskerville, Bold",
          "size": 40
         },
         "text": "Ratings by Sub-Genre<br><sup>Personal stories and books based on history tend to capture me more"
        },
        "xaxis": {
         "gridcolor": "#cbcbcb",
         "linecolor": "black",
         "showgrid": true,
         "showline": false,
         "title": {},
         "zerolinewidth": 1
        },
        "yaxis": {
         "gridcolor": "#cbcbcb",
         "linecolor": "black",
         "showgrid": false,
         "showline": true,
         "showticklabels": true,
         "title": {},
         "zerolinewidth": 1
        },
        "yaxis2": {
         "gridcolor": "#cbcbcb",
         "linecolor": "black",
         "showgrid": false,
         "showline": true,
         "showticklabels": true,
         "zerolinewidth": 1
        }
       }
      },
      "text/html": [
       "<div>                            <div id=\"3053905a-ba49-45f0-8d9a-1786d35c9ec9\" class=\"plotly-graph-div\" style=\"height:600px; width:100%;\"></div>            <script type=\"text/javascript\">                require([\"plotly\"], function(Plotly) {                    window.PLOTLYENV=window.PLOTLYENV || {};                                    if (document.getElementById(\"3053905a-ba49-45f0-8d9a-1786d35c9ec9\")) {                    Plotly.newPlot(                        \"3053905a-ba49-45f0-8d9a-1786d35c9ec9\",                        [{\"customdata\":[[\"1\",\"Rating\"],[\"1\",\"Rating\"],[\"6\",\"Rating\"],[\"2\",\"Rating\"],[\"1\",\"Rating\"],[\"5\",\"Rating\"],[\"9\",\"Rating\"],[\"1\",\"Rating\"],[\"4\",\"Rating\"],[\"10\",\"Rating\"],[\"80\",\"Rating\"],[\"6\",\"Rating\"],[\"1\",\"Rating\"],[\"1\",\"Rating\"],[\"13\",\"Rating\"],[\"2\",\"Rating\"],[\"3\",\"Rating\"],[\"2\",\"Rating\"],[\"2\",\"Rating\"]],\"hovertemplate\":\"\\u003cb\\u003e%{y} Books\\u003c\\u002fb\\u003e: %{customdata[0]}\\u003cbr\\u003e\\u003cb\\u003eAvg. %{customdata[1]}\\u003c\\u002fb\\u003e: %{x}\",\"marker\":{\"color\":[\"#d27575\",\"#529b9c\",\"#eac392\",\"#9cba8f\",\"#675a55\",\"#d27575\",\"#529b9c\",\"#eac392\",\"#9cba8f\",\"#675a55\",\"#d27575\",\"#529b9c\",\"#eac392\",\"#9cba8f\",\"#675a55\",\"#d27575\",\"#529b9c\",\"#eac392\",\"#9cba8f\",\"#675a55\",\"#d27575\",\"#529b9c\",\"#eac392\",\"#9cba8f\",\"#675a55\",\"#d27575\",\"#529b9c\",\"#eac392\",\"#9cba8f\",\"#675a55\",\"#d27575\",\"#529b9c\",\"#eac392\",\"#9cba8f\",\"#675a55\",\"#d27575\",\"#529b9c\",\"#eac392\",\"#9cba8f\",\"#675a55\",\"#d27575\",\"#529b9c\",\"#eac392\",\"#9cba8f\",\"#675a55\",\"#d27575\",\"#529b9c\",\"#eac392\",\"#9cba8f\",\"#675a55\",\"#d27575\",\"#529b9c\",\"#eac392\",\"#9cba8f\",\"#675a55\",\"#d27575\",\"#529b9c\",\"#eac392\",\"#9cba8f\",\"#675a55\",\"#d27575\",\"#529b9c\",\"#eac392\",\"#9cba8f\",\"#675a55\",\"#d27575\",\"#529b9c\",\"#eac392\",\"#9cba8f\",\"#675a55\",\"#d27575\",\"#529b9c\",\"#eac392\",\"#9cba8f\",\"#675a55\",\"#d27575\",\"#529b9c\",\"#eac392\",\"#9cba8f\",\"#675a55\",\"#d27575\",\"#529b9c\",\"#eac392\",\"#9cba8f\",\"#675a55\",\"#d27575\",\"#529b9c\",\"#eac392\",\"#9cba8f\",\"#675a55\",\"#d27575\",\"#529b9c\",\"#eac392\",\"#9cba8f\",\"#675a55\"]},\"name\":\"\",\"orientation\":\"h\",\"x\":[5.0,5.0,5.75,6.0,6.5,6.6,7.0,7.5,7.62,7.7,7.85,8.0,8.0,8.0,8.12,8.5,8.83,9.0,9.5],\"y\":[\"Programming\",\"Young Adult\",\"Self Help\",\"Contemporary\",\"Poetry\",\"Cultural\",\"Classics\",\"Short Stories\",\"Science Fiction\",\"Nonfiction\",\"Warhammer 40k\",\"Fantasy\",\"Psychology\",\"Mystery\",\"Historical Fiction\",\"German Literature\",\"History\",\"Graphic Novel\",\"Memoir\"],\"type\":\"bar\"}],                        {\"template\":{\"data\":{\"histogram2dcontour\":[{\"type\":\"histogram2dcontour\",\"colorbar\":{\"outlinewidth\":0,\"ticks\":\"\"},\"colorscale\":[[0.0,\"#0d0887\"],[0.1111111111111111,\"#46039f\"],[0.2222222222222222,\"#7201a8\"],[0.3333333333333333,\"#9c179e\"],[0.4444444444444444,\"#bd3786\"],[0.5555555555555556,\"#d8576b\"],[0.6666666666666666,\"#ed7953\"],[0.7777777777777778,\"#fb9f3a\"],[0.8888888888888888,\"#fdca26\"],[1.0,\"#f0f921\"]]}],\"choropleth\":[{\"type\":\"choropleth\",\"colorbar\":{\"outlinewidth\":0,\"ticks\":\"\"}}],\"histogram2d\":[{\"type\":\"histogram2d\",\"colorbar\":{\"outlinewidth\":0,\"ticks\":\"\"},\"colorscale\":[[0.0,\"#0d0887\"],[0.1111111111111111,\"#46039f\"],[0.2222222222222222,\"#7201a8\"],[0.3333333333333333,\"#9c179e\"],[0.4444444444444444,\"#bd3786\"],[0.5555555555555556,\"#d8576b\"],[0.6666666666666666,\"#ed7953\"],[0.7777777777777778,\"#fb9f3a\"],[0.8888888888888888,\"#fdca26\"],[1.0,\"#f0f921\"]]}],\"heatmap\":[{\"type\":\"heatmap\",\"colorbar\":{\"outlinewidth\":0,\"ticks\":\"\"},\"colorscale\":[[0.0,\"#0d0887\"],[0.1111111111111111,\"#46039f\"],[0.2222222222222222,\"#7201a8\"],[0.3333333333333333,\"#9c179e\"],[0.4444444444444444,\"#bd3786\"],[0.5555555555555556,\"#d8576b\"],[0.6666666666666666,\"#ed7953\"],[0.7777777777777778,\"#fb9f3a\"],[0.8888888888888888,\"#fdca26\"],[1.0,\"#f0f921\"]]}],\"heatmapgl\":[{\"type\":\"heatmapgl\",\"colorbar\":{\"outlinewidth\":0,\"ticks\":\"\"},\"colorscale\":[[0.0,\"#0d0887\"],[0.1111111111111111,\"#46039f\"],[0.2222222222222222,\"#7201a8\"],[0.3333333333333333,\"#9c179e\"],[0.4444444444444444,\"#bd3786\"],[0.5555555555555556,\"#d8576b\"],[0.6666666666666666,\"#ed7953\"],[0.7777777777777778,\"#fb9f3a\"],[0.8888888888888888,\"#fdca26\"],[1.0,\"#f0f921\"]]}],\"contourcarpet\":[{\"type\":\"contourcarpet\",\"colorbar\":{\"outlinewidth\":0,\"ticks\":\"\"}}],\"contour\":[{\"type\":\"contour\",\"colorbar\":{\"outlinewidth\":0,\"ticks\":\"\"},\"colorscale\":[[0.0,\"#0d0887\"],[0.1111111111111111,\"#46039f\"],[0.2222222222222222,\"#7201a8\"],[0.3333333333333333,\"#9c179e\"],[0.4444444444444444,\"#bd3786\"],[0.5555555555555556,\"#d8576b\"],[0.6666666666666666,\"#ed7953\"],[0.7777777777777778,\"#fb9f3a\"],[0.8888888888888888,\"#fdca26\"],[1.0,\"#f0f921\"]]}],\"surface\":[{\"type\":\"surface\",\"colorbar\":{\"outlinewidth\":0,\"ticks\":\"\"},\"colorscale\":[[0.0,\"#0d0887\"],[0.1111111111111111,\"#46039f\"],[0.2222222222222222,\"#7201a8\"],[0.3333333333333333,\"#9c179e\"],[0.4444444444444444,\"#bd3786\"],[0.5555555555555556,\"#d8576b\"],[0.6666666666666666,\"#ed7953\"],[0.7777777777777778,\"#fb9f3a\"],[0.8888888888888888,\"#fdca26\"],[1.0,\"#f0f921\"]]}],\"mesh3d\":[{\"type\":\"mesh3d\",\"colorbar\":{\"outlinewidth\":0,\"ticks\":\"\"}}],\"scatter\":[{\"fillpattern\":{\"fillmode\":\"overlay\",\"size\":10,\"solidity\":0.2},\"type\":\"scatter\"}],\"parcoords\":[{\"type\":\"parcoords\",\"line\":{\"colorbar\":{\"outlinewidth\":0,\"ticks\":\"\"}}}],\"scatterpolargl\":[{\"type\":\"scatterpolargl\",\"marker\":{\"colorbar\":{\"outlinewidth\":0,\"ticks\":\"\"}}}],\"bar\":[{\"error_x\":{\"color\":\"#2a3f5f\"},\"error_y\":{\"color\":\"#2a3f5f\"},\"marker\":{\"line\":{\"color\":\"#E5ECF6\",\"width\":0.5},\"pattern\":{\"fillmode\":\"overlay\",\"size\":10,\"solidity\":0.2}},\"type\":\"bar\"}],\"scattergeo\":[{\"type\":\"scattergeo\",\"marker\":{\"colorbar\":{\"outlinewidth\":0,\"ticks\":\"\"}}}],\"scatterpolar\":[{\"type\":\"scatterpolar\",\"marker\":{\"colorbar\":{\"outlinewidth\":0,\"ticks\":\"\"}}}],\"histogram\":[{\"marker\":{\"pattern\":{\"fillmode\":\"overlay\",\"size\":10,\"solidity\":0.2}},\"type\":\"histogram\"}],\"scattergl\":[{\"type\":\"scattergl\",\"marker\":{\"colorbar\":{\"outlinewidth\":0,\"ticks\":\"\"}}}],\"scatter3d\":[{\"type\":\"scatter3d\",\"line\":{\"colorbar\":{\"outlinewidth\":0,\"ticks\":\"\"}},\"marker\":{\"colorbar\":{\"outlinewidth\":0,\"ticks\":\"\"}}}],\"scattermapbox\":[{\"type\":\"scattermapbox\",\"marker\":{\"colorbar\":{\"outlinewidth\":0,\"ticks\":\"\"}}}],\"scatterternary\":[{\"type\":\"scatterternary\",\"marker\":{\"colorbar\":{\"outlinewidth\":0,\"ticks\":\"\"}}}],\"scattercarpet\":[{\"type\":\"scattercarpet\",\"marker\":{\"colorbar\":{\"outlinewidth\":0,\"ticks\":\"\"}}}],\"carpet\":[{\"aaxis\":{\"endlinecolor\":\"#2a3f5f\",\"gridcolor\":\"white\",\"linecolor\":\"white\",\"minorgridcolor\":\"white\",\"startlinecolor\":\"#2a3f5f\"},\"baxis\":{\"endlinecolor\":\"#2a3f5f\",\"gridcolor\":\"white\",\"linecolor\":\"white\",\"minorgridcolor\":\"white\",\"startlinecolor\":\"#2a3f5f\"},\"type\":\"carpet\"}],\"table\":[{\"cells\":{\"fill\":{\"color\":\"#EBF0F8\"},\"line\":{\"color\":\"white\"}},\"header\":{\"fill\":{\"color\":\"#C8D4E3\"},\"line\":{\"color\":\"white\"}},\"type\":\"table\"}],\"barpolar\":[{\"marker\":{\"line\":{\"color\":\"#E5ECF6\",\"width\":0.5},\"pattern\":{\"fillmode\":\"overlay\",\"size\":10,\"solidity\":0.2}},\"type\":\"barpolar\"}],\"pie\":[{\"automargin\":true,\"type\":\"pie\"}]},\"layout\":{\"autotypenumbers\":\"strict\",\"colorway\":[\"#636efa\",\"#EF553B\",\"#00cc96\",\"#ab63fa\",\"#FFA15A\",\"#19d3f3\",\"#FF6692\",\"#B6E880\",\"#FF97FF\",\"#FECB52\"],\"font\":{\"color\":\"#2a3f5f\"},\"hovermode\":\"closest\",\"hoverlabel\":{\"align\":\"left\"},\"paper_bgcolor\":\"white\",\"plot_bgcolor\":\"#E5ECF6\",\"polar\":{\"bgcolor\":\"#E5ECF6\",\"angularaxis\":{\"gridcolor\":\"white\",\"linecolor\":\"white\",\"ticks\":\"\"},\"radialaxis\":{\"gridcolor\":\"white\",\"linecolor\":\"white\",\"ticks\":\"\"}},\"ternary\":{\"bgcolor\":\"#E5ECF6\",\"aaxis\":{\"gridcolor\":\"white\",\"linecolor\":\"white\",\"ticks\":\"\"},\"baxis\":{\"gridcolor\":\"white\",\"linecolor\":\"white\",\"ticks\":\"\"},\"caxis\":{\"gridcolor\":\"white\",\"linecolor\":\"white\",\"ticks\":\"\"}},\"coloraxis\":{\"colorbar\":{\"outlinewidth\":0,\"ticks\":\"\"}},\"colorscale\":{\"sequential\":[[0.0,\"#0d0887\"],[0.1111111111111111,\"#46039f\"],[0.2222222222222222,\"#7201a8\"],[0.3333333333333333,\"#9c179e\"],[0.4444444444444444,\"#bd3786\"],[0.5555555555555556,\"#d8576b\"],[0.6666666666666666,\"#ed7953\"],[0.7777777777777778,\"#fb9f3a\"],[0.8888888888888888,\"#fdca26\"],[1.0,\"#f0f921\"]],\"sequentialminus\":[[0.0,\"#0d0887\"],[0.1111111111111111,\"#46039f\"],[0.2222222222222222,\"#7201a8\"],[0.3333333333333333,\"#9c179e\"],[0.4444444444444444,\"#bd3786\"],[0.5555555555555556,\"#d8576b\"],[0.6666666666666666,\"#ed7953\"],[0.7777777777777778,\"#fb9f3a\"],[0.8888888888888888,\"#fdca26\"],[1.0,\"#f0f921\"]],\"diverging\":[[0,\"#8e0152\"],[0.1,\"#c51b7d\"],[0.2,\"#de77ae\"],[0.3,\"#f1b6da\"],[0.4,\"#fde0ef\"],[0.5,\"#f7f7f7\"],[0.6,\"#e6f5d0\"],[0.7,\"#b8e186\"],[0.8,\"#7fbc41\"],[0.9,\"#4d9221\"],[1,\"#276419\"]]},\"xaxis\":{\"gridcolor\":\"white\",\"linecolor\":\"white\",\"ticks\":\"\",\"title\":{\"standoff\":15},\"zerolinecolor\":\"white\",\"automargin\":true,\"zerolinewidth\":2},\"yaxis\":{\"gridcolor\":\"white\",\"linecolor\":\"white\",\"ticks\":\"\",\"title\":{\"standoff\":15},\"zerolinecolor\":\"white\",\"automargin\":true,\"zerolinewidth\":2},\"scene\":{\"xaxis\":{\"backgroundcolor\":\"#E5ECF6\",\"gridcolor\":\"white\",\"linecolor\":\"white\",\"showbackground\":true,\"ticks\":\"\",\"zerolinecolor\":\"white\",\"gridwidth\":2},\"yaxis\":{\"backgroundcolor\":\"#E5ECF6\",\"gridcolor\":\"white\",\"linecolor\":\"white\",\"showbackground\":true,\"ticks\":\"\",\"zerolinecolor\":\"white\",\"gridwidth\":2},\"zaxis\":{\"backgroundcolor\":\"#E5ECF6\",\"gridcolor\":\"white\",\"linecolor\":\"white\",\"showbackground\":true,\"ticks\":\"\",\"zerolinecolor\":\"white\",\"gridwidth\":2}},\"shapedefaults\":{\"line\":{\"color\":\"#2a3f5f\"}},\"annotationdefaults\":{\"arrowcolor\":\"#2a3f5f\",\"arrowhead\":0,\"arrowwidth\":1},\"geo\":{\"bgcolor\":\"white\",\"landcolor\":\"#E5ECF6\",\"subunitcolor\":\"white\",\"showland\":true,\"showlakes\":true,\"lakecolor\":\"white\"},\"title\":{\"x\":0.05},\"mapbox\":{\"style\":\"light\"}}},\"shapes\":[{\"line\":{\"color\":\"#8e7cc3\",\"dash\":\"dash\",\"width\":2},\"type\":\"line\",\"x0\":7.6802,\"x1\":7.6802,\"xref\":\"x\",\"y0\":0,\"y1\":1,\"yref\":\"y domain\"}],\"annotations\":[{\"bgcolor\":\"#b4a7d6\",\"bordercolor\":\"#c7c7c7\",\"borderpad\":3,\"borderwidth\":1,\"opacity\":0.8,\"showarrow\":false,\"text\":\"Weighted Avg: 7.68\",\"x\":7.6802,\"xanchor\":\"left\",\"xref\":\"x\",\"y\":1,\"yanchor\":\"top\",\"yref\":\"y domain\"}],\"title\":{\"font\":{\"size\":40,\"family\":\"Baskerville, Bold\",\"color\":\"#001c40\"},\"text\":\"Ratings by Sub-Genre\\u003cbr\\u003e\\u003csup\\u003ePersonal stories and books based on history tend to capture me more\"},\"margin\":{\"l\":85,\"r\":85,\"t\":120,\"b\":45},\"xaxis\":{\"title\":{},\"showgrid\":true,\"showline\":false,\"linecolor\":\"black\",\"gridcolor\":\"#cbcbcb\",\"zerolinewidth\":1},\"yaxis\":{\"title\":{},\"showgrid\":false,\"showline\":true,\"showticklabels\":true,\"linecolor\":\"black\",\"gridcolor\":\"#cbcbcb\",\"zerolinewidth\":1},\"yaxis2\":{\"showgrid\":false,\"showline\":true,\"showticklabels\":true,\"linecolor\":\"black\",\"gridcolor\":\"#cbcbcb\",\"zerolinewidth\":1},\"font\":{\"family\":\"Baskerville\",\"color\":\"#001c40\",\"size\":14},\"hoverlabel\":{\"font\":{\"size\":16}},\"height\":600,\"showlegend\":false,\"barmode\":\"group\",\"plot_bgcolor\":\"#f0f0f0\",\"paper_bgcolor\":\"#f0f0f0\"},                        {\"modeBarButtonsToRemove\": [\"zoomIn\", \"zoomOut\", \"resetScale2d\", \"select2d\", \"lasso2d\"], \"responsive\": true, \"displaylogo\": false, \"toImageButtonOptions\": {\"format\": \"png\", \"filename\": \"reading-habits\", \"scale\": 1}}                    ).then(function(){\n",
       "                            \n",
       "var gd = document.getElementById('3053905a-ba49-45f0-8d9a-1786d35c9ec9');\n",
       "var x = new MutationObserver(function (mutations, observer) {{\n",
       "        var display = window.getComputedStyle(gd).display;\n",
       "        if (!display || display === 'none') {{\n",
       "            console.log([gd, 'removed!']);\n",
       "            Plotly.purge(gd);\n",
       "            observer.disconnect();\n",
       "        }}\n",
       "}});\n",
       "\n",
       "// Listen for the removal of the full notebook cells\n",
       "var notebookContainer = gd.closest('#notebook-container');\n",
       "if (notebookContainer) {{\n",
       "    x.observe(notebookContainer, {childList: true});\n",
       "}}\n",
       "\n",
       "// Listen for the clearing of the current output cell\n",
       "var outputEl = gd.closest('.output');\n",
       "if (outputEl) {{\n",
       "    x.observe(outputEl, {childList: true});\n",
       "}}\n",
       "\n",
       "                        })                };                });            </script>        </div>"
      ]
     },
     "metadata": {},
     "output_type": "display_data"
    }
   ],
   "source": [
    "dfs = df.groupby('Sub-Genre')['Rating'].mean().reset_index().round(2)\n",
    "dfs['Total'] = df.groupby('Sub-Genre')['Title'].count().reset_index(drop=True)\n",
    "dfs = dfs.sort_values('Rating', ascending=True).reset_index(drop=True)\n",
    "\n",
    "title = \"Ratings by Sub-Genre\"\n",
    "sub = f\"Personal stories and books based on history tend to capture me more\"\n",
    "plot.gen_hbar_graph(dfs, 'Sub-Genre', title, sub, avg=True, w_avg='Rating')"
   ]
  },
  {
   "cell_type": "markdown",
   "id": "75218324-0d05-42b0-9fe0-358bc29a6456",
   "metadata": {},
   "source": [
    "### How long does it take me to read?\n",
    "\n",
    "This is an interesting one because a lot of factors go into it, which I can't quite capture in my spreadsheet. For example, philosophy books tend to take me very long to read because they can be rather dense and difficult to comprehend. Additionally, there were several instances where I needed to take a break, thus increasing the overall duration. That aside, I tend to get through books in about 2-3 weeks, depending on the genre."
   ]
  },
  {
   "cell_type": "code",
   "execution_count": 38,
   "id": "e77d346e-65e5-4d29-8e28-fd1734e6c0fc",
   "metadata": {
    "execution": {
     "iopub.execute_input": "2024-07-27T23:38:50.458915Z",
     "iopub.status.busy": "2024-07-27T23:38:50.457917Z",
     "iopub.status.idle": "2024-07-27T23:38:50.489833Z",
     "shell.execute_reply": "2024-07-27T23:38:50.489833Z",
     "shell.execute_reply.started": "2024-07-27T23:38:50.458915Z"
    },
    "tags": []
   },
   "outputs": [
    {
     "data": {
      "application/vnd.plotly.v1+json": {
       "config": {
        "displaylogo": false,
        "modeBarButtonsToRemove": [
         "zoomIn",
         "zoomOut",
         "resetScale2d",
         "select2d",
         "lasso2d"
        ],
        "plotlyServerURL": "https://plot.ly",
        "responsive": true,
        "toImageButtonOptions": {
         "filename": "reading-habits",
         "format": "png",
         "scale": 1
        }
       },
       "data": [
        {
         "customdata": [
          [
           "125",
           "Duration"
          ],
          [
           "12",
           "Duration"
          ],
          [
           "6",
           "Duration"
          ],
          [
           "6",
           "Duration"
          ]
         ],
         "hovertemplate": "<b>%{x} Books</b>: %{customdata[0]}<br><b>Avg. %{customdata[1]}</b>: %{y}",
         "marker": {
          "color": [
           "#d27575",
           "#529b9c",
           "#eac392",
           "#9cba8f",
           "#675a55",
           "#d27575",
           "#529b9c",
           "#eac392",
           "#9cba8f",
           "#675a55",
           "#d27575",
           "#529b9c",
           "#eac392",
           "#9cba8f",
           "#675a55",
           "#d27575",
           "#529b9c",
           "#eac392",
           "#9cba8f",
           "#675a55"
          ]
         },
         "name": "",
         "type": "bar",
         "x": [
          "Fiction",
          "Nonfiction",
          "Philosophy",
          "Science"
         ],
         "y": [
          9.43,
          13.9,
          67.33,
          20.33
         ]
        }
       ],
       "layout": {
        "annotations": [
         {
          "bgcolor": "#b4a7d6",
          "bordercolor": "#c7c7c7",
          "borderpad": 3,
          "borderwidth": 1,
          "opacity": 0.8,
          "showarrow": false,
          "text": "Weighted Avg: 12.56",
          "x": 1,
          "xanchor": "right",
          "xref": "x domain",
          "y": 12.560469798657717,
          "yanchor": "bottom",
          "yref": "y"
         }
        ],
        "barmode": "group",
        "font": {
         "color": "#001c40",
         "family": "Baskerville",
         "size": 14
        },
        "height": 600,
        "hoverlabel": {
         "font": {
          "size": 16
         }
        },
        "margin": {
         "b": 45,
         "l": 85,
         "r": 85,
         "t": 120
        },
        "paper_bgcolor": "#f0f0f0",
        "plot_bgcolor": "#f0f0f0",
        "shapes": [
         {
          "line": {
           "color": "#8e7cc3",
           "dash": "dash",
           "width": 2
          },
          "type": "line",
          "x0": 0,
          "x1": 1,
          "xref": "x domain",
          "y0": 12.560469798657717,
          "y1": 12.560469798657717,
          "yref": "y"
         }
        ],
        "showlegend": false,
        "template": {
         "data": {
          "bar": [
           {
            "error_x": {
             "color": "#2a3f5f"
            },
            "error_y": {
             "color": "#2a3f5f"
            },
            "marker": {
             "line": {
              "color": "#E5ECF6",
              "width": 0.5
             },
             "pattern": {
              "fillmode": "overlay",
              "size": 10,
              "solidity": 0.2
             }
            },
            "type": "bar"
           }
          ],
          "barpolar": [
           {
            "marker": {
             "line": {
              "color": "#E5ECF6",
              "width": 0.5
             },
             "pattern": {
              "fillmode": "overlay",
              "size": 10,
              "solidity": 0.2
             }
            },
            "type": "barpolar"
           }
          ],
          "carpet": [
           {
            "aaxis": {
             "endlinecolor": "#2a3f5f",
             "gridcolor": "white",
             "linecolor": "white",
             "minorgridcolor": "white",
             "startlinecolor": "#2a3f5f"
            },
            "baxis": {
             "endlinecolor": "#2a3f5f",
             "gridcolor": "white",
             "linecolor": "white",
             "minorgridcolor": "white",
             "startlinecolor": "#2a3f5f"
            },
            "type": "carpet"
           }
          ],
          "choropleth": [
           {
            "colorbar": {
             "outlinewidth": 0,
             "ticks": ""
            },
            "type": "choropleth"
           }
          ],
          "contour": [
           {
            "colorbar": {
             "outlinewidth": 0,
             "ticks": ""
            },
            "colorscale": [
             [
              0,
              "#0d0887"
             ],
             [
              0.1111111111111111,
              "#46039f"
             ],
             [
              0.2222222222222222,
              "#7201a8"
             ],
             [
              0.3333333333333333,
              "#9c179e"
             ],
             [
              0.4444444444444444,
              "#bd3786"
             ],
             [
              0.5555555555555556,
              "#d8576b"
             ],
             [
              0.6666666666666666,
              "#ed7953"
             ],
             [
              0.7777777777777778,
              "#fb9f3a"
             ],
             [
              0.8888888888888888,
              "#fdca26"
             ],
             [
              1,
              "#f0f921"
             ]
            ],
            "type": "contour"
           }
          ],
          "contourcarpet": [
           {
            "colorbar": {
             "outlinewidth": 0,
             "ticks": ""
            },
            "type": "contourcarpet"
           }
          ],
          "heatmap": [
           {
            "colorbar": {
             "outlinewidth": 0,
             "ticks": ""
            },
            "colorscale": [
             [
              0,
              "#0d0887"
             ],
             [
              0.1111111111111111,
              "#46039f"
             ],
             [
              0.2222222222222222,
              "#7201a8"
             ],
             [
              0.3333333333333333,
              "#9c179e"
             ],
             [
              0.4444444444444444,
              "#bd3786"
             ],
             [
              0.5555555555555556,
              "#d8576b"
             ],
             [
              0.6666666666666666,
              "#ed7953"
             ],
             [
              0.7777777777777778,
              "#fb9f3a"
             ],
             [
              0.8888888888888888,
              "#fdca26"
             ],
             [
              1,
              "#f0f921"
             ]
            ],
            "type": "heatmap"
           }
          ],
          "heatmapgl": [
           {
            "colorbar": {
             "outlinewidth": 0,
             "ticks": ""
            },
            "colorscale": [
             [
              0,
              "#0d0887"
             ],
             [
              0.1111111111111111,
              "#46039f"
             ],
             [
              0.2222222222222222,
              "#7201a8"
             ],
             [
              0.3333333333333333,
              "#9c179e"
             ],
             [
              0.4444444444444444,
              "#bd3786"
             ],
             [
              0.5555555555555556,
              "#d8576b"
             ],
             [
              0.6666666666666666,
              "#ed7953"
             ],
             [
              0.7777777777777778,
              "#fb9f3a"
             ],
             [
              0.8888888888888888,
              "#fdca26"
             ],
             [
              1,
              "#f0f921"
             ]
            ],
            "type": "heatmapgl"
           }
          ],
          "histogram": [
           {
            "marker": {
             "pattern": {
              "fillmode": "overlay",
              "size": 10,
              "solidity": 0.2
             }
            },
            "type": "histogram"
           }
          ],
          "histogram2d": [
           {
            "colorbar": {
             "outlinewidth": 0,
             "ticks": ""
            },
            "colorscale": [
             [
              0,
              "#0d0887"
             ],
             [
              0.1111111111111111,
              "#46039f"
             ],
             [
              0.2222222222222222,
              "#7201a8"
             ],
             [
              0.3333333333333333,
              "#9c179e"
             ],
             [
              0.4444444444444444,
              "#bd3786"
             ],
             [
              0.5555555555555556,
              "#d8576b"
             ],
             [
              0.6666666666666666,
              "#ed7953"
             ],
             [
              0.7777777777777778,
              "#fb9f3a"
             ],
             [
              0.8888888888888888,
              "#fdca26"
             ],
             [
              1,
              "#f0f921"
             ]
            ],
            "type": "histogram2d"
           }
          ],
          "histogram2dcontour": [
           {
            "colorbar": {
             "outlinewidth": 0,
             "ticks": ""
            },
            "colorscale": [
             [
              0,
              "#0d0887"
             ],
             [
              0.1111111111111111,
              "#46039f"
             ],
             [
              0.2222222222222222,
              "#7201a8"
             ],
             [
              0.3333333333333333,
              "#9c179e"
             ],
             [
              0.4444444444444444,
              "#bd3786"
             ],
             [
              0.5555555555555556,
              "#d8576b"
             ],
             [
              0.6666666666666666,
              "#ed7953"
             ],
             [
              0.7777777777777778,
              "#fb9f3a"
             ],
             [
              0.8888888888888888,
              "#fdca26"
             ],
             [
              1,
              "#f0f921"
             ]
            ],
            "type": "histogram2dcontour"
           }
          ],
          "mesh3d": [
           {
            "colorbar": {
             "outlinewidth": 0,
             "ticks": ""
            },
            "type": "mesh3d"
           }
          ],
          "parcoords": [
           {
            "line": {
             "colorbar": {
              "outlinewidth": 0,
              "ticks": ""
             }
            },
            "type": "parcoords"
           }
          ],
          "pie": [
           {
            "automargin": true,
            "type": "pie"
           }
          ],
          "scatter": [
           {
            "fillpattern": {
             "fillmode": "overlay",
             "size": 10,
             "solidity": 0.2
            },
            "type": "scatter"
           }
          ],
          "scatter3d": [
           {
            "line": {
             "colorbar": {
              "outlinewidth": 0,
              "ticks": ""
             }
            },
            "marker": {
             "colorbar": {
              "outlinewidth": 0,
              "ticks": ""
             }
            },
            "type": "scatter3d"
           }
          ],
          "scattercarpet": [
           {
            "marker": {
             "colorbar": {
              "outlinewidth": 0,
              "ticks": ""
             }
            },
            "type": "scattercarpet"
           }
          ],
          "scattergeo": [
           {
            "marker": {
             "colorbar": {
              "outlinewidth": 0,
              "ticks": ""
             }
            },
            "type": "scattergeo"
           }
          ],
          "scattergl": [
           {
            "marker": {
             "colorbar": {
              "outlinewidth": 0,
              "ticks": ""
             }
            },
            "type": "scattergl"
           }
          ],
          "scattermapbox": [
           {
            "marker": {
             "colorbar": {
              "outlinewidth": 0,
              "ticks": ""
             }
            },
            "type": "scattermapbox"
           }
          ],
          "scatterpolar": [
           {
            "marker": {
             "colorbar": {
              "outlinewidth": 0,
              "ticks": ""
             }
            },
            "type": "scatterpolar"
           }
          ],
          "scatterpolargl": [
           {
            "marker": {
             "colorbar": {
              "outlinewidth": 0,
              "ticks": ""
             }
            },
            "type": "scatterpolargl"
           }
          ],
          "scatterternary": [
           {
            "marker": {
             "colorbar": {
              "outlinewidth": 0,
              "ticks": ""
             }
            },
            "type": "scatterternary"
           }
          ],
          "surface": [
           {
            "colorbar": {
             "outlinewidth": 0,
             "ticks": ""
            },
            "colorscale": [
             [
              0,
              "#0d0887"
             ],
             [
              0.1111111111111111,
              "#46039f"
             ],
             [
              0.2222222222222222,
              "#7201a8"
             ],
             [
              0.3333333333333333,
              "#9c179e"
             ],
             [
              0.4444444444444444,
              "#bd3786"
             ],
             [
              0.5555555555555556,
              "#d8576b"
             ],
             [
              0.6666666666666666,
              "#ed7953"
             ],
             [
              0.7777777777777778,
              "#fb9f3a"
             ],
             [
              0.8888888888888888,
              "#fdca26"
             ],
             [
              1,
              "#f0f921"
             ]
            ],
            "type": "surface"
           }
          ],
          "table": [
           {
            "cells": {
             "fill": {
              "color": "#EBF0F8"
             },
             "line": {
              "color": "white"
             }
            },
            "header": {
             "fill": {
              "color": "#C8D4E3"
             },
             "line": {
              "color": "white"
             }
            },
            "type": "table"
           }
          ]
         },
         "layout": {
          "annotationdefaults": {
           "arrowcolor": "#2a3f5f",
           "arrowhead": 0,
           "arrowwidth": 1
          },
          "autotypenumbers": "strict",
          "coloraxis": {
           "colorbar": {
            "outlinewidth": 0,
            "ticks": ""
           }
          },
          "colorscale": {
           "diverging": [
            [
             0,
             "#8e0152"
            ],
            [
             0.1,
             "#c51b7d"
            ],
            [
             0.2,
             "#de77ae"
            ],
            [
             0.3,
             "#f1b6da"
            ],
            [
             0.4,
             "#fde0ef"
            ],
            [
             0.5,
             "#f7f7f7"
            ],
            [
             0.6,
             "#e6f5d0"
            ],
            [
             0.7,
             "#b8e186"
            ],
            [
             0.8,
             "#7fbc41"
            ],
            [
             0.9,
             "#4d9221"
            ],
            [
             1,
             "#276419"
            ]
           ],
           "sequential": [
            [
             0,
             "#0d0887"
            ],
            [
             0.1111111111111111,
             "#46039f"
            ],
            [
             0.2222222222222222,
             "#7201a8"
            ],
            [
             0.3333333333333333,
             "#9c179e"
            ],
            [
             0.4444444444444444,
             "#bd3786"
            ],
            [
             0.5555555555555556,
             "#d8576b"
            ],
            [
             0.6666666666666666,
             "#ed7953"
            ],
            [
             0.7777777777777778,
             "#fb9f3a"
            ],
            [
             0.8888888888888888,
             "#fdca26"
            ],
            [
             1,
             "#f0f921"
            ]
           ],
           "sequentialminus": [
            [
             0,
             "#0d0887"
            ],
            [
             0.1111111111111111,
             "#46039f"
            ],
            [
             0.2222222222222222,
             "#7201a8"
            ],
            [
             0.3333333333333333,
             "#9c179e"
            ],
            [
             0.4444444444444444,
             "#bd3786"
            ],
            [
             0.5555555555555556,
             "#d8576b"
            ],
            [
             0.6666666666666666,
             "#ed7953"
            ],
            [
             0.7777777777777778,
             "#fb9f3a"
            ],
            [
             0.8888888888888888,
             "#fdca26"
            ],
            [
             1,
             "#f0f921"
            ]
           ]
          },
          "colorway": [
           "#636efa",
           "#EF553B",
           "#00cc96",
           "#ab63fa",
           "#FFA15A",
           "#19d3f3",
           "#FF6692",
           "#B6E880",
           "#FF97FF",
           "#FECB52"
          ],
          "font": {
           "color": "#2a3f5f"
          },
          "geo": {
           "bgcolor": "white",
           "lakecolor": "white",
           "landcolor": "#E5ECF6",
           "showlakes": true,
           "showland": true,
           "subunitcolor": "white"
          },
          "hoverlabel": {
           "align": "left"
          },
          "hovermode": "closest",
          "mapbox": {
           "style": "light"
          },
          "paper_bgcolor": "white",
          "plot_bgcolor": "#E5ECF6",
          "polar": {
           "angularaxis": {
            "gridcolor": "white",
            "linecolor": "white",
            "ticks": ""
           },
           "bgcolor": "#E5ECF6",
           "radialaxis": {
            "gridcolor": "white",
            "linecolor": "white",
            "ticks": ""
           }
          },
          "scene": {
           "xaxis": {
            "backgroundcolor": "#E5ECF6",
            "gridcolor": "white",
            "gridwidth": 2,
            "linecolor": "white",
            "showbackground": true,
            "ticks": "",
            "zerolinecolor": "white"
           },
           "yaxis": {
            "backgroundcolor": "#E5ECF6",
            "gridcolor": "white",
            "gridwidth": 2,
            "linecolor": "white",
            "showbackground": true,
            "ticks": "",
            "zerolinecolor": "white"
           },
           "zaxis": {
            "backgroundcolor": "#E5ECF6",
            "gridcolor": "white",
            "gridwidth": 2,
            "linecolor": "white",
            "showbackground": true,
            "ticks": "",
            "zerolinecolor": "white"
           }
          },
          "shapedefaults": {
           "line": {
            "color": "#2a3f5f"
           }
          },
          "ternary": {
           "aaxis": {
            "gridcolor": "white",
            "linecolor": "white",
            "ticks": ""
           },
           "baxis": {
            "gridcolor": "white",
            "linecolor": "white",
            "ticks": ""
           },
           "bgcolor": "#E5ECF6",
           "caxis": {
            "gridcolor": "white",
            "linecolor": "white",
            "ticks": ""
           }
          },
          "title": {
           "x": 0.05
          },
          "xaxis": {
           "automargin": true,
           "gridcolor": "white",
           "linecolor": "white",
           "ticks": "",
           "title": {
            "standoff": 15
           },
           "zerolinecolor": "white",
           "zerolinewidth": 2
          },
          "yaxis": {
           "automargin": true,
           "gridcolor": "white",
           "linecolor": "white",
           "ticks": "",
           "title": {
            "standoff": 15
           },
           "zerolinecolor": "white",
           "zerolinewidth": 2
          }
         }
        },
        "title": {
         "font": {
          "color": "#001c40",
          "family": "Baskerville, Bold",
          "size": 40
         },
         "text": "Duration by Genre<br><sup>Philosophy books can be incredibly difficult to get through for me, while fiction is a breeze"
        },
        "xaxis": {
         "gridcolor": "#cbcbcb",
         "linecolor": "black",
         "showgrid": false,
         "showline": true,
         "title": {},
         "zerolinewidth": 1
        },
        "yaxis": {
         "gridcolor": "#cbcbcb",
         "linecolor": "black",
         "showgrid": true,
         "showline": false,
         "showticklabels": true,
         "title": {},
         "zerolinewidth": 1
        },
        "yaxis2": {
         "gridcolor": "#cbcbcb",
         "linecolor": "black",
         "showgrid": true,
         "showline": false,
         "showticklabels": true,
         "zerolinewidth": 1
        }
       }
      },
      "text/html": [
       "<div>                            <div id=\"cbe96cf1-6a0a-4358-a776-55ef80942fe6\" class=\"plotly-graph-div\" style=\"height:600px; width:100%;\"></div>            <script type=\"text/javascript\">                require([\"plotly\"], function(Plotly) {                    window.PLOTLYENV=window.PLOTLYENV || {};                                    if (document.getElementById(\"cbe96cf1-6a0a-4358-a776-55ef80942fe6\")) {                    Plotly.newPlot(                        \"cbe96cf1-6a0a-4358-a776-55ef80942fe6\",                        [{\"customdata\":[[\"125\",\"Duration\"],[\"12\",\"Duration\"],[\"6\",\"Duration\"],[\"6\",\"Duration\"]],\"hovertemplate\":\"\\u003cb\\u003e%{x} Books\\u003c\\u002fb\\u003e: %{customdata[0]}\\u003cbr\\u003e\\u003cb\\u003eAvg. %{customdata[1]}\\u003c\\u002fb\\u003e: %{y}\",\"marker\":{\"color\":[\"#d27575\",\"#529b9c\",\"#eac392\",\"#9cba8f\",\"#675a55\",\"#d27575\",\"#529b9c\",\"#eac392\",\"#9cba8f\",\"#675a55\",\"#d27575\",\"#529b9c\",\"#eac392\",\"#9cba8f\",\"#675a55\",\"#d27575\",\"#529b9c\",\"#eac392\",\"#9cba8f\",\"#675a55\"]},\"name\":\"\",\"x\":[\"Fiction\",\"Nonfiction\",\"Philosophy\",\"Science\"],\"y\":[9.43,13.9,67.33,20.33],\"type\":\"bar\"}],                        {\"template\":{\"data\":{\"histogram2dcontour\":[{\"type\":\"histogram2dcontour\",\"colorbar\":{\"outlinewidth\":0,\"ticks\":\"\"},\"colorscale\":[[0.0,\"#0d0887\"],[0.1111111111111111,\"#46039f\"],[0.2222222222222222,\"#7201a8\"],[0.3333333333333333,\"#9c179e\"],[0.4444444444444444,\"#bd3786\"],[0.5555555555555556,\"#d8576b\"],[0.6666666666666666,\"#ed7953\"],[0.7777777777777778,\"#fb9f3a\"],[0.8888888888888888,\"#fdca26\"],[1.0,\"#f0f921\"]]}],\"choropleth\":[{\"type\":\"choropleth\",\"colorbar\":{\"outlinewidth\":0,\"ticks\":\"\"}}],\"histogram2d\":[{\"type\":\"histogram2d\",\"colorbar\":{\"outlinewidth\":0,\"ticks\":\"\"},\"colorscale\":[[0.0,\"#0d0887\"],[0.1111111111111111,\"#46039f\"],[0.2222222222222222,\"#7201a8\"],[0.3333333333333333,\"#9c179e\"],[0.4444444444444444,\"#bd3786\"],[0.5555555555555556,\"#d8576b\"],[0.6666666666666666,\"#ed7953\"],[0.7777777777777778,\"#fb9f3a\"],[0.8888888888888888,\"#fdca26\"],[1.0,\"#f0f921\"]]}],\"heatmap\":[{\"type\":\"heatmap\",\"colorbar\":{\"outlinewidth\":0,\"ticks\":\"\"},\"colorscale\":[[0.0,\"#0d0887\"],[0.1111111111111111,\"#46039f\"],[0.2222222222222222,\"#7201a8\"],[0.3333333333333333,\"#9c179e\"],[0.4444444444444444,\"#bd3786\"],[0.5555555555555556,\"#d8576b\"],[0.6666666666666666,\"#ed7953\"],[0.7777777777777778,\"#fb9f3a\"],[0.8888888888888888,\"#fdca26\"],[1.0,\"#f0f921\"]]}],\"heatmapgl\":[{\"type\":\"heatmapgl\",\"colorbar\":{\"outlinewidth\":0,\"ticks\":\"\"},\"colorscale\":[[0.0,\"#0d0887\"],[0.1111111111111111,\"#46039f\"],[0.2222222222222222,\"#7201a8\"],[0.3333333333333333,\"#9c179e\"],[0.4444444444444444,\"#bd3786\"],[0.5555555555555556,\"#d8576b\"],[0.6666666666666666,\"#ed7953\"],[0.7777777777777778,\"#fb9f3a\"],[0.8888888888888888,\"#fdca26\"],[1.0,\"#f0f921\"]]}],\"contourcarpet\":[{\"type\":\"contourcarpet\",\"colorbar\":{\"outlinewidth\":0,\"ticks\":\"\"}}],\"contour\":[{\"type\":\"contour\",\"colorbar\":{\"outlinewidth\":0,\"ticks\":\"\"},\"colorscale\":[[0.0,\"#0d0887\"],[0.1111111111111111,\"#46039f\"],[0.2222222222222222,\"#7201a8\"],[0.3333333333333333,\"#9c179e\"],[0.4444444444444444,\"#bd3786\"],[0.5555555555555556,\"#d8576b\"],[0.6666666666666666,\"#ed7953\"],[0.7777777777777778,\"#fb9f3a\"],[0.8888888888888888,\"#fdca26\"],[1.0,\"#f0f921\"]]}],\"surface\":[{\"type\":\"surface\",\"colorbar\":{\"outlinewidth\":0,\"ticks\":\"\"},\"colorscale\":[[0.0,\"#0d0887\"],[0.1111111111111111,\"#46039f\"],[0.2222222222222222,\"#7201a8\"],[0.3333333333333333,\"#9c179e\"],[0.4444444444444444,\"#bd3786\"],[0.5555555555555556,\"#d8576b\"],[0.6666666666666666,\"#ed7953\"],[0.7777777777777778,\"#fb9f3a\"],[0.8888888888888888,\"#fdca26\"],[1.0,\"#f0f921\"]]}],\"mesh3d\":[{\"type\":\"mesh3d\",\"colorbar\":{\"outlinewidth\":0,\"ticks\":\"\"}}],\"scatter\":[{\"fillpattern\":{\"fillmode\":\"overlay\",\"size\":10,\"solidity\":0.2},\"type\":\"scatter\"}],\"parcoords\":[{\"type\":\"parcoords\",\"line\":{\"colorbar\":{\"outlinewidth\":0,\"ticks\":\"\"}}}],\"scatterpolargl\":[{\"type\":\"scatterpolargl\",\"marker\":{\"colorbar\":{\"outlinewidth\":0,\"ticks\":\"\"}}}],\"bar\":[{\"error_x\":{\"color\":\"#2a3f5f\"},\"error_y\":{\"color\":\"#2a3f5f\"},\"marker\":{\"line\":{\"color\":\"#E5ECF6\",\"width\":0.5},\"pattern\":{\"fillmode\":\"overlay\",\"size\":10,\"solidity\":0.2}},\"type\":\"bar\"}],\"scattergeo\":[{\"type\":\"scattergeo\",\"marker\":{\"colorbar\":{\"outlinewidth\":0,\"ticks\":\"\"}}}],\"scatterpolar\":[{\"type\":\"scatterpolar\",\"marker\":{\"colorbar\":{\"outlinewidth\":0,\"ticks\":\"\"}}}],\"histogram\":[{\"marker\":{\"pattern\":{\"fillmode\":\"overlay\",\"size\":10,\"solidity\":0.2}},\"type\":\"histogram\"}],\"scattergl\":[{\"type\":\"scattergl\",\"marker\":{\"colorbar\":{\"outlinewidth\":0,\"ticks\":\"\"}}}],\"scatter3d\":[{\"type\":\"scatter3d\",\"line\":{\"colorbar\":{\"outlinewidth\":0,\"ticks\":\"\"}},\"marker\":{\"colorbar\":{\"outlinewidth\":0,\"ticks\":\"\"}}}],\"scattermapbox\":[{\"type\":\"scattermapbox\",\"marker\":{\"colorbar\":{\"outlinewidth\":0,\"ticks\":\"\"}}}],\"scatterternary\":[{\"type\":\"scatterternary\",\"marker\":{\"colorbar\":{\"outlinewidth\":0,\"ticks\":\"\"}}}],\"scattercarpet\":[{\"type\":\"scattercarpet\",\"marker\":{\"colorbar\":{\"outlinewidth\":0,\"ticks\":\"\"}}}],\"carpet\":[{\"aaxis\":{\"endlinecolor\":\"#2a3f5f\",\"gridcolor\":\"white\",\"linecolor\":\"white\",\"minorgridcolor\":\"white\",\"startlinecolor\":\"#2a3f5f\"},\"baxis\":{\"endlinecolor\":\"#2a3f5f\",\"gridcolor\":\"white\",\"linecolor\":\"white\",\"minorgridcolor\":\"white\",\"startlinecolor\":\"#2a3f5f\"},\"type\":\"carpet\"}],\"table\":[{\"cells\":{\"fill\":{\"color\":\"#EBF0F8\"},\"line\":{\"color\":\"white\"}},\"header\":{\"fill\":{\"color\":\"#C8D4E3\"},\"line\":{\"color\":\"white\"}},\"type\":\"table\"}],\"barpolar\":[{\"marker\":{\"line\":{\"color\":\"#E5ECF6\",\"width\":0.5},\"pattern\":{\"fillmode\":\"overlay\",\"size\":10,\"solidity\":0.2}},\"type\":\"barpolar\"}],\"pie\":[{\"automargin\":true,\"type\":\"pie\"}]},\"layout\":{\"autotypenumbers\":\"strict\",\"colorway\":[\"#636efa\",\"#EF553B\",\"#00cc96\",\"#ab63fa\",\"#FFA15A\",\"#19d3f3\",\"#FF6692\",\"#B6E880\",\"#FF97FF\",\"#FECB52\"],\"font\":{\"color\":\"#2a3f5f\"},\"hovermode\":\"closest\",\"hoverlabel\":{\"align\":\"left\"},\"paper_bgcolor\":\"white\",\"plot_bgcolor\":\"#E5ECF6\",\"polar\":{\"bgcolor\":\"#E5ECF6\",\"angularaxis\":{\"gridcolor\":\"white\",\"linecolor\":\"white\",\"ticks\":\"\"},\"radialaxis\":{\"gridcolor\":\"white\",\"linecolor\":\"white\",\"ticks\":\"\"}},\"ternary\":{\"bgcolor\":\"#E5ECF6\",\"aaxis\":{\"gridcolor\":\"white\",\"linecolor\":\"white\",\"ticks\":\"\"},\"baxis\":{\"gridcolor\":\"white\",\"linecolor\":\"white\",\"ticks\":\"\"},\"caxis\":{\"gridcolor\":\"white\",\"linecolor\":\"white\",\"ticks\":\"\"}},\"coloraxis\":{\"colorbar\":{\"outlinewidth\":0,\"ticks\":\"\"}},\"colorscale\":{\"sequential\":[[0.0,\"#0d0887\"],[0.1111111111111111,\"#46039f\"],[0.2222222222222222,\"#7201a8\"],[0.3333333333333333,\"#9c179e\"],[0.4444444444444444,\"#bd3786\"],[0.5555555555555556,\"#d8576b\"],[0.6666666666666666,\"#ed7953\"],[0.7777777777777778,\"#fb9f3a\"],[0.8888888888888888,\"#fdca26\"],[1.0,\"#f0f921\"]],\"sequentialminus\":[[0.0,\"#0d0887\"],[0.1111111111111111,\"#46039f\"],[0.2222222222222222,\"#7201a8\"],[0.3333333333333333,\"#9c179e\"],[0.4444444444444444,\"#bd3786\"],[0.5555555555555556,\"#d8576b\"],[0.6666666666666666,\"#ed7953\"],[0.7777777777777778,\"#fb9f3a\"],[0.8888888888888888,\"#fdca26\"],[1.0,\"#f0f921\"]],\"diverging\":[[0,\"#8e0152\"],[0.1,\"#c51b7d\"],[0.2,\"#de77ae\"],[0.3,\"#f1b6da\"],[0.4,\"#fde0ef\"],[0.5,\"#f7f7f7\"],[0.6,\"#e6f5d0\"],[0.7,\"#b8e186\"],[0.8,\"#7fbc41\"],[0.9,\"#4d9221\"],[1,\"#276419\"]]},\"xaxis\":{\"gridcolor\":\"white\",\"linecolor\":\"white\",\"ticks\":\"\",\"title\":{\"standoff\":15},\"zerolinecolor\":\"white\",\"automargin\":true,\"zerolinewidth\":2},\"yaxis\":{\"gridcolor\":\"white\",\"linecolor\":\"white\",\"ticks\":\"\",\"title\":{\"standoff\":15},\"zerolinecolor\":\"white\",\"automargin\":true,\"zerolinewidth\":2},\"scene\":{\"xaxis\":{\"backgroundcolor\":\"#E5ECF6\",\"gridcolor\":\"white\",\"linecolor\":\"white\",\"showbackground\":true,\"ticks\":\"\",\"zerolinecolor\":\"white\",\"gridwidth\":2},\"yaxis\":{\"backgroundcolor\":\"#E5ECF6\",\"gridcolor\":\"white\",\"linecolor\":\"white\",\"showbackground\":true,\"ticks\":\"\",\"zerolinecolor\":\"white\",\"gridwidth\":2},\"zaxis\":{\"backgroundcolor\":\"#E5ECF6\",\"gridcolor\":\"white\",\"linecolor\":\"white\",\"showbackground\":true,\"ticks\":\"\",\"zerolinecolor\":\"white\",\"gridwidth\":2}},\"shapedefaults\":{\"line\":{\"color\":\"#2a3f5f\"}},\"annotationdefaults\":{\"arrowcolor\":\"#2a3f5f\",\"arrowhead\":0,\"arrowwidth\":1},\"geo\":{\"bgcolor\":\"white\",\"landcolor\":\"#E5ECF6\",\"subunitcolor\":\"white\",\"showland\":true,\"showlakes\":true,\"lakecolor\":\"white\"},\"title\":{\"x\":0.05},\"mapbox\":{\"style\":\"light\"}}},\"shapes\":[{\"line\":{\"color\":\"#8e7cc3\",\"dash\":\"dash\",\"width\":2},\"type\":\"line\",\"x0\":0,\"x1\":1,\"xref\":\"x domain\",\"y0\":12.560469798657717,\"y1\":12.560469798657717,\"yref\":\"y\"}],\"annotations\":[{\"bgcolor\":\"#b4a7d6\",\"bordercolor\":\"#c7c7c7\",\"borderpad\":3,\"borderwidth\":1,\"opacity\":0.8,\"showarrow\":false,\"text\":\"Weighted Avg: 12.56\",\"x\":1,\"xanchor\":\"right\",\"xref\":\"x domain\",\"y\":12.560469798657717,\"yanchor\":\"bottom\",\"yref\":\"y\"}],\"title\":{\"font\":{\"size\":40,\"family\":\"Baskerville, Bold\",\"color\":\"#001c40\"},\"text\":\"Duration by Genre\\u003cbr\\u003e\\u003csup\\u003ePhilosophy books can be incredibly difficult to get through for me, while fiction is a breeze\"},\"margin\":{\"l\":85,\"r\":85,\"t\":120,\"b\":45},\"xaxis\":{\"title\":{},\"showgrid\":false,\"showline\":true,\"linecolor\":\"black\",\"gridcolor\":\"#cbcbcb\",\"zerolinewidth\":1},\"yaxis\":{\"title\":{},\"showgrid\":true,\"showline\":false,\"showticklabels\":true,\"linecolor\":\"black\",\"gridcolor\":\"#cbcbcb\",\"zerolinewidth\":1},\"yaxis2\":{\"showgrid\":true,\"showline\":false,\"showticklabels\":true,\"linecolor\":\"black\",\"gridcolor\":\"#cbcbcb\",\"zerolinewidth\":1},\"font\":{\"family\":\"Baskerville\",\"color\":\"#001c40\",\"size\":14},\"hoverlabel\":{\"font\":{\"size\":16}},\"height\":600,\"showlegend\":false,\"barmode\":\"group\",\"plot_bgcolor\":\"#f0f0f0\",\"paper_bgcolor\":\"#f0f0f0\"},                        {\"modeBarButtonsToRemove\": [\"zoomIn\", \"zoomOut\", \"resetScale2d\", \"select2d\", \"lasso2d\"], \"responsive\": true, \"displaylogo\": false, \"toImageButtonOptions\": {\"format\": \"png\", \"filename\": \"reading-habits\", \"scale\": 1}}                    ).then(function(){\n",
       "                            \n",
       "var gd = document.getElementById('cbe96cf1-6a0a-4358-a776-55ef80942fe6');\n",
       "var x = new MutationObserver(function (mutations, observer) {{\n",
       "        var display = window.getComputedStyle(gd).display;\n",
       "        if (!display || display === 'none') {{\n",
       "            console.log([gd, 'removed!']);\n",
       "            Plotly.purge(gd);\n",
       "            observer.disconnect();\n",
       "        }}\n",
       "}});\n",
       "\n",
       "// Listen for the removal of the full notebook cells\n",
       "var notebookContainer = gd.closest('#notebook-container');\n",
       "if (notebookContainer) {{\n",
       "    x.observe(notebookContainer, {childList: true});\n",
       "}}\n",
       "\n",
       "// Listen for the clearing of the current output cell\n",
       "var outputEl = gd.closest('.output');\n",
       "if (outputEl) {{\n",
       "    x.observe(outputEl, {childList: true});\n",
       "}}\n",
       "\n",
       "                        })                };                });            </script>        </div>"
      ]
     },
     "metadata": {},
     "output_type": "display_data"
    }
   ],
   "source": [
    "dft = df.groupby('Genre')['Duration'].mean().reset_index()\n",
    "dft = dft[dft['Duration'].notnull()].round(2)\n",
    "dft['Total'] = df.groupby('Genre')['Title'].count().reset_index(drop=True)\n",
    "# dft.loc[len(dft.index)] = ['Overall', dft['Duration'].mean()]\n",
    "title = \"Duration by Genre\"\n",
    "sub = f\"Philosophy books can be incredibly difficult to get through for me, while fiction is a breeze\"\n",
    "plot.gen_bar_graph(dft, 'Genre', title, sub, avg=True, w_avg='Duration')"
   ]
  },
  {
   "cell_type": "code",
   "execution_count": 39,
   "id": "a7d6e146-d141-464d-b972-f0624390915b",
   "metadata": {
    "execution": {
     "iopub.execute_input": "2024-07-27T23:38:50.490859Z",
     "iopub.status.busy": "2024-07-27T23:38:50.489833Z",
     "iopub.status.idle": "2024-07-27T23:38:50.519754Z",
     "shell.execute_reply": "2024-07-27T23:38:50.519754Z",
     "shell.execute_reply.started": "2024-07-27T23:38:50.490859Z"
    },
    "tags": []
   },
   "outputs": [
    {
     "data": {
      "application/vnd.plotly.v1+json": {
       "config": {
        "displaylogo": false,
        "modeBarButtonsToRemove": [
         "zoomIn",
         "zoomOut",
         "resetScale2d",
         "select2d",
         "lasso2d"
        ],
        "plotlyServerURL": "https://plot.ly",
        "responsive": true,
        "toImageButtonOptions": {
         "filename": "reading-habits",
         "format": "png",
         "scale": 1
        }
       },
       "data": [
        {
         "customdata": [
          [
           "2",
           "Duration"
          ],
          [
           "1",
           "Duration"
          ],
          [
           "2",
           "Duration"
          ],
          [
           "80",
           "Duration"
          ],
          [
           "1",
           "Duration"
          ],
          [
           "6",
           "Duration"
          ],
          [
           "4",
           "Duration"
          ],
          [
           "1",
           "Duration"
          ],
          [
           "6",
           "Duration"
          ],
          [
           "1",
           "Duration"
          ],
          [
           "13",
           "Duration"
          ],
          [
           "2",
           "Duration"
          ],
          [
           "1",
           "Duration"
          ],
          [
           "9",
           "Duration"
          ],
          [
           "1",
           "Duration"
          ],
          [
           "3",
           "Duration"
          ],
          [
           "5",
           "Duration"
          ],
          [
           "2",
           "Duration"
          ],
          [
           "10",
           "Duration"
          ]
         ],
         "hovertemplate": "<b>%{y} Books</b>: %{customdata[0]}<br><b>Avg. %{customdata[1]}</b>: %{x}",
         "marker": {
          "color": [
           "#d27575",
           "#529b9c",
           "#eac392",
           "#9cba8f",
           "#675a55",
           "#d27575",
           "#529b9c",
           "#eac392",
           "#9cba8f",
           "#675a55",
           "#d27575",
           "#529b9c",
           "#eac392",
           "#9cba8f",
           "#675a55",
           "#d27575",
           "#529b9c",
           "#eac392",
           "#9cba8f",
           "#675a55",
           "#d27575",
           "#529b9c",
           "#eac392",
           "#9cba8f",
           "#675a55",
           "#d27575",
           "#529b9c",
           "#eac392",
           "#9cba8f",
           "#675a55",
           "#d27575",
           "#529b9c",
           "#eac392",
           "#9cba8f",
           "#675a55",
           "#d27575",
           "#529b9c",
           "#eac392",
           "#9cba8f",
           "#675a55",
           "#d27575",
           "#529b9c",
           "#eac392",
           "#9cba8f",
           "#675a55",
           "#d27575",
           "#529b9c",
           "#eac392",
           "#9cba8f",
           "#675a55",
           "#d27575",
           "#529b9c",
           "#eac392",
           "#9cba8f",
           "#675a55",
           "#d27575",
           "#529b9c",
           "#eac392",
           "#9cba8f",
           "#675a55",
           "#d27575",
           "#529b9c",
           "#eac392",
           "#9cba8f",
           "#675a55",
           "#d27575",
           "#529b9c",
           "#eac392",
           "#9cba8f",
           "#675a55",
           "#d27575",
           "#529b9c",
           "#eac392",
           "#9cba8f",
           "#675a55",
           "#d27575",
           "#529b9c",
           "#eac392",
           "#9cba8f",
           "#675a55",
           "#d27575",
           "#529b9c",
           "#eac392",
           "#9cba8f",
           "#675a55",
           "#d27575",
           "#529b9c",
           "#eac392",
           "#9cba8f",
           "#675a55",
           "#d27575",
           "#529b9c",
           "#eac392",
           "#9cba8f",
           "#675a55"
          ]
         },
         "name": "",
         "orientation": "h",
         "type": "bar",
         "x": [
          1,
          2,
          4,
          4.95,
          5,
          7,
          7.75,
          8,
          8.5,
          9,
          12.46,
          15.5,
          18,
          28.44,
          33,
          33.33,
          36.25,
          38,
          39.71
         ],
         "y": [
          "Graphic Novel",
          "Young Adult",
          "Memoir",
          "Warhammer 40k",
          "Short Stories",
          "Self Help",
          "Science Fiction",
          "Poetry",
          "Fantasy",
          "Psychology",
          "Historical Fiction",
          "German Literature",
          "Mystery",
          "Classics",
          "Programming",
          "History",
          "Cultural",
          "Contemporary",
          "Nonfiction"
         ]
        }
       ],
       "layout": {
        "annotations": [
         {
          "bgcolor": "#b4a7d6",
          "bordercolor": "#c7c7c7",
          "borderpad": 3,
          "borderwidth": 1,
          "opacity": 0.8,
          "showarrow": false,
          "text": "Weighted Avg: 12.06",
          "x": 12.055200000000001,
          "xanchor": "left",
          "xref": "x",
          "y": 1,
          "yanchor": "top",
          "yref": "y domain"
         }
        ],
        "barmode": "group",
        "font": {
         "color": "#001c40",
         "family": "Baskerville",
         "size": 14
        },
        "height": 600,
        "hoverlabel": {
         "font": {
          "size": 16
         }
        },
        "margin": {
         "b": 45,
         "l": 85,
         "r": 85,
         "t": 120
        },
        "paper_bgcolor": "#f0f0f0",
        "plot_bgcolor": "#f0f0f0",
        "shapes": [
         {
          "line": {
           "color": "#8e7cc3",
           "dash": "dash",
           "width": 2
          },
          "type": "line",
          "x0": 12.055200000000001,
          "x1": 12.055200000000001,
          "xref": "x",
          "y0": 0,
          "y1": 1,
          "yref": "y domain"
         }
        ],
        "showlegend": false,
        "template": {
         "data": {
          "bar": [
           {
            "error_x": {
             "color": "#2a3f5f"
            },
            "error_y": {
             "color": "#2a3f5f"
            },
            "marker": {
             "line": {
              "color": "#E5ECF6",
              "width": 0.5
             },
             "pattern": {
              "fillmode": "overlay",
              "size": 10,
              "solidity": 0.2
             }
            },
            "type": "bar"
           }
          ],
          "barpolar": [
           {
            "marker": {
             "line": {
              "color": "#E5ECF6",
              "width": 0.5
             },
             "pattern": {
              "fillmode": "overlay",
              "size": 10,
              "solidity": 0.2
             }
            },
            "type": "barpolar"
           }
          ],
          "carpet": [
           {
            "aaxis": {
             "endlinecolor": "#2a3f5f",
             "gridcolor": "white",
             "linecolor": "white",
             "minorgridcolor": "white",
             "startlinecolor": "#2a3f5f"
            },
            "baxis": {
             "endlinecolor": "#2a3f5f",
             "gridcolor": "white",
             "linecolor": "white",
             "minorgridcolor": "white",
             "startlinecolor": "#2a3f5f"
            },
            "type": "carpet"
           }
          ],
          "choropleth": [
           {
            "colorbar": {
             "outlinewidth": 0,
             "ticks": ""
            },
            "type": "choropleth"
           }
          ],
          "contour": [
           {
            "colorbar": {
             "outlinewidth": 0,
             "ticks": ""
            },
            "colorscale": [
             [
              0,
              "#0d0887"
             ],
             [
              0.1111111111111111,
              "#46039f"
             ],
             [
              0.2222222222222222,
              "#7201a8"
             ],
             [
              0.3333333333333333,
              "#9c179e"
             ],
             [
              0.4444444444444444,
              "#bd3786"
             ],
             [
              0.5555555555555556,
              "#d8576b"
             ],
             [
              0.6666666666666666,
              "#ed7953"
             ],
             [
              0.7777777777777778,
              "#fb9f3a"
             ],
             [
              0.8888888888888888,
              "#fdca26"
             ],
             [
              1,
              "#f0f921"
             ]
            ],
            "type": "contour"
           }
          ],
          "contourcarpet": [
           {
            "colorbar": {
             "outlinewidth": 0,
             "ticks": ""
            },
            "type": "contourcarpet"
           }
          ],
          "heatmap": [
           {
            "colorbar": {
             "outlinewidth": 0,
             "ticks": ""
            },
            "colorscale": [
             [
              0,
              "#0d0887"
             ],
             [
              0.1111111111111111,
              "#46039f"
             ],
             [
              0.2222222222222222,
              "#7201a8"
             ],
             [
              0.3333333333333333,
              "#9c179e"
             ],
             [
              0.4444444444444444,
              "#bd3786"
             ],
             [
              0.5555555555555556,
              "#d8576b"
             ],
             [
              0.6666666666666666,
              "#ed7953"
             ],
             [
              0.7777777777777778,
              "#fb9f3a"
             ],
             [
              0.8888888888888888,
              "#fdca26"
             ],
             [
              1,
              "#f0f921"
             ]
            ],
            "type": "heatmap"
           }
          ],
          "heatmapgl": [
           {
            "colorbar": {
             "outlinewidth": 0,
             "ticks": ""
            },
            "colorscale": [
             [
              0,
              "#0d0887"
             ],
             [
              0.1111111111111111,
              "#46039f"
             ],
             [
              0.2222222222222222,
              "#7201a8"
             ],
             [
              0.3333333333333333,
              "#9c179e"
             ],
             [
              0.4444444444444444,
              "#bd3786"
             ],
             [
              0.5555555555555556,
              "#d8576b"
             ],
             [
              0.6666666666666666,
              "#ed7953"
             ],
             [
              0.7777777777777778,
              "#fb9f3a"
             ],
             [
              0.8888888888888888,
              "#fdca26"
             ],
             [
              1,
              "#f0f921"
             ]
            ],
            "type": "heatmapgl"
           }
          ],
          "histogram": [
           {
            "marker": {
             "pattern": {
              "fillmode": "overlay",
              "size": 10,
              "solidity": 0.2
             }
            },
            "type": "histogram"
           }
          ],
          "histogram2d": [
           {
            "colorbar": {
             "outlinewidth": 0,
             "ticks": ""
            },
            "colorscale": [
             [
              0,
              "#0d0887"
             ],
             [
              0.1111111111111111,
              "#46039f"
             ],
             [
              0.2222222222222222,
              "#7201a8"
             ],
             [
              0.3333333333333333,
              "#9c179e"
             ],
             [
              0.4444444444444444,
              "#bd3786"
             ],
             [
              0.5555555555555556,
              "#d8576b"
             ],
             [
              0.6666666666666666,
              "#ed7953"
             ],
             [
              0.7777777777777778,
              "#fb9f3a"
             ],
             [
              0.8888888888888888,
              "#fdca26"
             ],
             [
              1,
              "#f0f921"
             ]
            ],
            "type": "histogram2d"
           }
          ],
          "histogram2dcontour": [
           {
            "colorbar": {
             "outlinewidth": 0,
             "ticks": ""
            },
            "colorscale": [
             [
              0,
              "#0d0887"
             ],
             [
              0.1111111111111111,
              "#46039f"
             ],
             [
              0.2222222222222222,
              "#7201a8"
             ],
             [
              0.3333333333333333,
              "#9c179e"
             ],
             [
              0.4444444444444444,
              "#bd3786"
             ],
             [
              0.5555555555555556,
              "#d8576b"
             ],
             [
              0.6666666666666666,
              "#ed7953"
             ],
             [
              0.7777777777777778,
              "#fb9f3a"
             ],
             [
              0.8888888888888888,
              "#fdca26"
             ],
             [
              1,
              "#f0f921"
             ]
            ],
            "type": "histogram2dcontour"
           }
          ],
          "mesh3d": [
           {
            "colorbar": {
             "outlinewidth": 0,
             "ticks": ""
            },
            "type": "mesh3d"
           }
          ],
          "parcoords": [
           {
            "line": {
             "colorbar": {
              "outlinewidth": 0,
              "ticks": ""
             }
            },
            "type": "parcoords"
           }
          ],
          "pie": [
           {
            "automargin": true,
            "type": "pie"
           }
          ],
          "scatter": [
           {
            "fillpattern": {
             "fillmode": "overlay",
             "size": 10,
             "solidity": 0.2
            },
            "type": "scatter"
           }
          ],
          "scatter3d": [
           {
            "line": {
             "colorbar": {
              "outlinewidth": 0,
              "ticks": ""
             }
            },
            "marker": {
             "colorbar": {
              "outlinewidth": 0,
              "ticks": ""
             }
            },
            "type": "scatter3d"
           }
          ],
          "scattercarpet": [
           {
            "marker": {
             "colorbar": {
              "outlinewidth": 0,
              "ticks": ""
             }
            },
            "type": "scattercarpet"
           }
          ],
          "scattergeo": [
           {
            "marker": {
             "colorbar": {
              "outlinewidth": 0,
              "ticks": ""
             }
            },
            "type": "scattergeo"
           }
          ],
          "scattergl": [
           {
            "marker": {
             "colorbar": {
              "outlinewidth": 0,
              "ticks": ""
             }
            },
            "type": "scattergl"
           }
          ],
          "scattermapbox": [
           {
            "marker": {
             "colorbar": {
              "outlinewidth": 0,
              "ticks": ""
             }
            },
            "type": "scattermapbox"
           }
          ],
          "scatterpolar": [
           {
            "marker": {
             "colorbar": {
              "outlinewidth": 0,
              "ticks": ""
             }
            },
            "type": "scatterpolar"
           }
          ],
          "scatterpolargl": [
           {
            "marker": {
             "colorbar": {
              "outlinewidth": 0,
              "ticks": ""
             }
            },
            "type": "scatterpolargl"
           }
          ],
          "scatterternary": [
           {
            "marker": {
             "colorbar": {
              "outlinewidth": 0,
              "ticks": ""
             }
            },
            "type": "scatterternary"
           }
          ],
          "surface": [
           {
            "colorbar": {
             "outlinewidth": 0,
             "ticks": ""
            },
            "colorscale": [
             [
              0,
              "#0d0887"
             ],
             [
              0.1111111111111111,
              "#46039f"
             ],
             [
              0.2222222222222222,
              "#7201a8"
             ],
             [
              0.3333333333333333,
              "#9c179e"
             ],
             [
              0.4444444444444444,
              "#bd3786"
             ],
             [
              0.5555555555555556,
              "#d8576b"
             ],
             [
              0.6666666666666666,
              "#ed7953"
             ],
             [
              0.7777777777777778,
              "#fb9f3a"
             ],
             [
              0.8888888888888888,
              "#fdca26"
             ],
             [
              1,
              "#f0f921"
             ]
            ],
            "type": "surface"
           }
          ],
          "table": [
           {
            "cells": {
             "fill": {
              "color": "#EBF0F8"
             },
             "line": {
              "color": "white"
             }
            },
            "header": {
             "fill": {
              "color": "#C8D4E3"
             },
             "line": {
              "color": "white"
             }
            },
            "type": "table"
           }
          ]
         },
         "layout": {
          "annotationdefaults": {
           "arrowcolor": "#2a3f5f",
           "arrowhead": 0,
           "arrowwidth": 1
          },
          "autotypenumbers": "strict",
          "coloraxis": {
           "colorbar": {
            "outlinewidth": 0,
            "ticks": ""
           }
          },
          "colorscale": {
           "diverging": [
            [
             0,
             "#8e0152"
            ],
            [
             0.1,
             "#c51b7d"
            ],
            [
             0.2,
             "#de77ae"
            ],
            [
             0.3,
             "#f1b6da"
            ],
            [
             0.4,
             "#fde0ef"
            ],
            [
             0.5,
             "#f7f7f7"
            ],
            [
             0.6,
             "#e6f5d0"
            ],
            [
             0.7,
             "#b8e186"
            ],
            [
             0.8,
             "#7fbc41"
            ],
            [
             0.9,
             "#4d9221"
            ],
            [
             1,
             "#276419"
            ]
           ],
           "sequential": [
            [
             0,
             "#0d0887"
            ],
            [
             0.1111111111111111,
             "#46039f"
            ],
            [
             0.2222222222222222,
             "#7201a8"
            ],
            [
             0.3333333333333333,
             "#9c179e"
            ],
            [
             0.4444444444444444,
             "#bd3786"
            ],
            [
             0.5555555555555556,
             "#d8576b"
            ],
            [
             0.6666666666666666,
             "#ed7953"
            ],
            [
             0.7777777777777778,
             "#fb9f3a"
            ],
            [
             0.8888888888888888,
             "#fdca26"
            ],
            [
             1,
             "#f0f921"
            ]
           ],
           "sequentialminus": [
            [
             0,
             "#0d0887"
            ],
            [
             0.1111111111111111,
             "#46039f"
            ],
            [
             0.2222222222222222,
             "#7201a8"
            ],
            [
             0.3333333333333333,
             "#9c179e"
            ],
            [
             0.4444444444444444,
             "#bd3786"
            ],
            [
             0.5555555555555556,
             "#d8576b"
            ],
            [
             0.6666666666666666,
             "#ed7953"
            ],
            [
             0.7777777777777778,
             "#fb9f3a"
            ],
            [
             0.8888888888888888,
             "#fdca26"
            ],
            [
             1,
             "#f0f921"
            ]
           ]
          },
          "colorway": [
           "#636efa",
           "#EF553B",
           "#00cc96",
           "#ab63fa",
           "#FFA15A",
           "#19d3f3",
           "#FF6692",
           "#B6E880",
           "#FF97FF",
           "#FECB52"
          ],
          "font": {
           "color": "#2a3f5f"
          },
          "geo": {
           "bgcolor": "white",
           "lakecolor": "white",
           "landcolor": "#E5ECF6",
           "showlakes": true,
           "showland": true,
           "subunitcolor": "white"
          },
          "hoverlabel": {
           "align": "left"
          },
          "hovermode": "closest",
          "mapbox": {
           "style": "light"
          },
          "paper_bgcolor": "white",
          "plot_bgcolor": "#E5ECF6",
          "polar": {
           "angularaxis": {
            "gridcolor": "white",
            "linecolor": "white",
            "ticks": ""
           },
           "bgcolor": "#E5ECF6",
           "radialaxis": {
            "gridcolor": "white",
            "linecolor": "white",
            "ticks": ""
           }
          },
          "scene": {
           "xaxis": {
            "backgroundcolor": "#E5ECF6",
            "gridcolor": "white",
            "gridwidth": 2,
            "linecolor": "white",
            "showbackground": true,
            "ticks": "",
            "zerolinecolor": "white"
           },
           "yaxis": {
            "backgroundcolor": "#E5ECF6",
            "gridcolor": "white",
            "gridwidth": 2,
            "linecolor": "white",
            "showbackground": true,
            "ticks": "",
            "zerolinecolor": "white"
           },
           "zaxis": {
            "backgroundcolor": "#E5ECF6",
            "gridcolor": "white",
            "gridwidth": 2,
            "linecolor": "white",
            "showbackground": true,
            "ticks": "",
            "zerolinecolor": "white"
           }
          },
          "shapedefaults": {
           "line": {
            "color": "#2a3f5f"
           }
          },
          "ternary": {
           "aaxis": {
            "gridcolor": "white",
            "linecolor": "white",
            "ticks": ""
           },
           "baxis": {
            "gridcolor": "white",
            "linecolor": "white",
            "ticks": ""
           },
           "bgcolor": "#E5ECF6",
           "caxis": {
            "gridcolor": "white",
            "linecolor": "white",
            "ticks": ""
           }
          },
          "title": {
           "x": 0.05
          },
          "xaxis": {
           "automargin": true,
           "gridcolor": "white",
           "linecolor": "white",
           "ticks": "",
           "title": {
            "standoff": 15
           },
           "zerolinecolor": "white",
           "zerolinewidth": 2
          },
          "yaxis": {
           "automargin": true,
           "gridcolor": "white",
           "linecolor": "white",
           "ticks": "",
           "title": {
            "standoff": 15
           },
           "zerolinecolor": "white",
           "zerolinewidth": 2
          }
         }
        },
        "title": {
         "font": {
          "color": "#001c40",
          "family": "Baskerville, Bold",
          "size": 40
         },
         "text": "Duration by Sub-Genre<br><sup>Most non-fiction or reality-based books tend to take me longer to read"
        },
        "xaxis": {
         "gridcolor": "#cbcbcb",
         "linecolor": "black",
         "showgrid": true,
         "showline": false,
         "title": {},
         "zerolinewidth": 1
        },
        "yaxis": {
         "gridcolor": "#cbcbcb",
         "linecolor": "black",
         "showgrid": false,
         "showline": true,
         "showticklabels": true,
         "title": {},
         "zerolinewidth": 1
        },
        "yaxis2": {
         "gridcolor": "#cbcbcb",
         "linecolor": "black",
         "showgrid": false,
         "showline": true,
         "showticklabels": true,
         "zerolinewidth": 1
        }
       }
      },
      "text/html": [
       "<div>                            <div id=\"685c021b-9c40-480a-b7e3-f2d99f4f5b1e\" class=\"plotly-graph-div\" style=\"height:600px; width:100%;\"></div>            <script type=\"text/javascript\">                require([\"plotly\"], function(Plotly) {                    window.PLOTLYENV=window.PLOTLYENV || {};                                    if (document.getElementById(\"685c021b-9c40-480a-b7e3-f2d99f4f5b1e\")) {                    Plotly.newPlot(                        \"685c021b-9c40-480a-b7e3-f2d99f4f5b1e\",                        [{\"customdata\":[[\"2\",\"Duration\"],[\"1\",\"Duration\"],[\"2\",\"Duration\"],[\"80\",\"Duration\"],[\"1\",\"Duration\"],[\"6\",\"Duration\"],[\"4\",\"Duration\"],[\"1\",\"Duration\"],[\"6\",\"Duration\"],[\"1\",\"Duration\"],[\"13\",\"Duration\"],[\"2\",\"Duration\"],[\"1\",\"Duration\"],[\"9\",\"Duration\"],[\"1\",\"Duration\"],[\"3\",\"Duration\"],[\"5\",\"Duration\"],[\"2\",\"Duration\"],[\"10\",\"Duration\"]],\"hovertemplate\":\"\\u003cb\\u003e%{y} Books\\u003c\\u002fb\\u003e: %{customdata[0]}\\u003cbr\\u003e\\u003cb\\u003eAvg. %{customdata[1]}\\u003c\\u002fb\\u003e: %{x}\",\"marker\":{\"color\":[\"#d27575\",\"#529b9c\",\"#eac392\",\"#9cba8f\",\"#675a55\",\"#d27575\",\"#529b9c\",\"#eac392\",\"#9cba8f\",\"#675a55\",\"#d27575\",\"#529b9c\",\"#eac392\",\"#9cba8f\",\"#675a55\",\"#d27575\",\"#529b9c\",\"#eac392\",\"#9cba8f\",\"#675a55\",\"#d27575\",\"#529b9c\",\"#eac392\",\"#9cba8f\",\"#675a55\",\"#d27575\",\"#529b9c\",\"#eac392\",\"#9cba8f\",\"#675a55\",\"#d27575\",\"#529b9c\",\"#eac392\",\"#9cba8f\",\"#675a55\",\"#d27575\",\"#529b9c\",\"#eac392\",\"#9cba8f\",\"#675a55\",\"#d27575\",\"#529b9c\",\"#eac392\",\"#9cba8f\",\"#675a55\",\"#d27575\",\"#529b9c\",\"#eac392\",\"#9cba8f\",\"#675a55\",\"#d27575\",\"#529b9c\",\"#eac392\",\"#9cba8f\",\"#675a55\",\"#d27575\",\"#529b9c\",\"#eac392\",\"#9cba8f\",\"#675a55\",\"#d27575\",\"#529b9c\",\"#eac392\",\"#9cba8f\",\"#675a55\",\"#d27575\",\"#529b9c\",\"#eac392\",\"#9cba8f\",\"#675a55\",\"#d27575\",\"#529b9c\",\"#eac392\",\"#9cba8f\",\"#675a55\",\"#d27575\",\"#529b9c\",\"#eac392\",\"#9cba8f\",\"#675a55\",\"#d27575\",\"#529b9c\",\"#eac392\",\"#9cba8f\",\"#675a55\",\"#d27575\",\"#529b9c\",\"#eac392\",\"#9cba8f\",\"#675a55\",\"#d27575\",\"#529b9c\",\"#eac392\",\"#9cba8f\",\"#675a55\"]},\"name\":\"\",\"orientation\":\"h\",\"x\":[1.0,2.0,4.0,4.95,5.0,7.0,7.75,8.0,8.5,9.0,12.46,15.5,18.0,28.44,33.0,33.33,36.25,38.0,39.71],\"y\":[\"Graphic Novel\",\"Young Adult\",\"Memoir\",\"Warhammer 40k\",\"Short Stories\",\"Self Help\",\"Science Fiction\",\"Poetry\",\"Fantasy\",\"Psychology\",\"Historical Fiction\",\"German Literature\",\"Mystery\",\"Classics\",\"Programming\",\"History\",\"Cultural\",\"Contemporary\",\"Nonfiction\"],\"type\":\"bar\"}],                        {\"template\":{\"data\":{\"histogram2dcontour\":[{\"type\":\"histogram2dcontour\",\"colorbar\":{\"outlinewidth\":0,\"ticks\":\"\"},\"colorscale\":[[0.0,\"#0d0887\"],[0.1111111111111111,\"#46039f\"],[0.2222222222222222,\"#7201a8\"],[0.3333333333333333,\"#9c179e\"],[0.4444444444444444,\"#bd3786\"],[0.5555555555555556,\"#d8576b\"],[0.6666666666666666,\"#ed7953\"],[0.7777777777777778,\"#fb9f3a\"],[0.8888888888888888,\"#fdca26\"],[1.0,\"#f0f921\"]]}],\"choropleth\":[{\"type\":\"choropleth\",\"colorbar\":{\"outlinewidth\":0,\"ticks\":\"\"}}],\"histogram2d\":[{\"type\":\"histogram2d\",\"colorbar\":{\"outlinewidth\":0,\"ticks\":\"\"},\"colorscale\":[[0.0,\"#0d0887\"],[0.1111111111111111,\"#46039f\"],[0.2222222222222222,\"#7201a8\"],[0.3333333333333333,\"#9c179e\"],[0.4444444444444444,\"#bd3786\"],[0.5555555555555556,\"#d8576b\"],[0.6666666666666666,\"#ed7953\"],[0.7777777777777778,\"#fb9f3a\"],[0.8888888888888888,\"#fdca26\"],[1.0,\"#f0f921\"]]}],\"heatmap\":[{\"type\":\"heatmap\",\"colorbar\":{\"outlinewidth\":0,\"ticks\":\"\"},\"colorscale\":[[0.0,\"#0d0887\"],[0.1111111111111111,\"#46039f\"],[0.2222222222222222,\"#7201a8\"],[0.3333333333333333,\"#9c179e\"],[0.4444444444444444,\"#bd3786\"],[0.5555555555555556,\"#d8576b\"],[0.6666666666666666,\"#ed7953\"],[0.7777777777777778,\"#fb9f3a\"],[0.8888888888888888,\"#fdca26\"],[1.0,\"#f0f921\"]]}],\"heatmapgl\":[{\"type\":\"heatmapgl\",\"colorbar\":{\"outlinewidth\":0,\"ticks\":\"\"},\"colorscale\":[[0.0,\"#0d0887\"],[0.1111111111111111,\"#46039f\"],[0.2222222222222222,\"#7201a8\"],[0.3333333333333333,\"#9c179e\"],[0.4444444444444444,\"#bd3786\"],[0.5555555555555556,\"#d8576b\"],[0.6666666666666666,\"#ed7953\"],[0.7777777777777778,\"#fb9f3a\"],[0.8888888888888888,\"#fdca26\"],[1.0,\"#f0f921\"]]}],\"contourcarpet\":[{\"type\":\"contourcarpet\",\"colorbar\":{\"outlinewidth\":0,\"ticks\":\"\"}}],\"contour\":[{\"type\":\"contour\",\"colorbar\":{\"outlinewidth\":0,\"ticks\":\"\"},\"colorscale\":[[0.0,\"#0d0887\"],[0.1111111111111111,\"#46039f\"],[0.2222222222222222,\"#7201a8\"],[0.3333333333333333,\"#9c179e\"],[0.4444444444444444,\"#bd3786\"],[0.5555555555555556,\"#d8576b\"],[0.6666666666666666,\"#ed7953\"],[0.7777777777777778,\"#fb9f3a\"],[0.8888888888888888,\"#fdca26\"],[1.0,\"#f0f921\"]]}],\"surface\":[{\"type\":\"surface\",\"colorbar\":{\"outlinewidth\":0,\"ticks\":\"\"},\"colorscale\":[[0.0,\"#0d0887\"],[0.1111111111111111,\"#46039f\"],[0.2222222222222222,\"#7201a8\"],[0.3333333333333333,\"#9c179e\"],[0.4444444444444444,\"#bd3786\"],[0.5555555555555556,\"#d8576b\"],[0.6666666666666666,\"#ed7953\"],[0.7777777777777778,\"#fb9f3a\"],[0.8888888888888888,\"#fdca26\"],[1.0,\"#f0f921\"]]}],\"mesh3d\":[{\"type\":\"mesh3d\",\"colorbar\":{\"outlinewidth\":0,\"ticks\":\"\"}}],\"scatter\":[{\"fillpattern\":{\"fillmode\":\"overlay\",\"size\":10,\"solidity\":0.2},\"type\":\"scatter\"}],\"parcoords\":[{\"type\":\"parcoords\",\"line\":{\"colorbar\":{\"outlinewidth\":0,\"ticks\":\"\"}}}],\"scatterpolargl\":[{\"type\":\"scatterpolargl\",\"marker\":{\"colorbar\":{\"outlinewidth\":0,\"ticks\":\"\"}}}],\"bar\":[{\"error_x\":{\"color\":\"#2a3f5f\"},\"error_y\":{\"color\":\"#2a3f5f\"},\"marker\":{\"line\":{\"color\":\"#E5ECF6\",\"width\":0.5},\"pattern\":{\"fillmode\":\"overlay\",\"size\":10,\"solidity\":0.2}},\"type\":\"bar\"}],\"scattergeo\":[{\"type\":\"scattergeo\",\"marker\":{\"colorbar\":{\"outlinewidth\":0,\"ticks\":\"\"}}}],\"scatterpolar\":[{\"type\":\"scatterpolar\",\"marker\":{\"colorbar\":{\"outlinewidth\":0,\"ticks\":\"\"}}}],\"histogram\":[{\"marker\":{\"pattern\":{\"fillmode\":\"overlay\",\"size\":10,\"solidity\":0.2}},\"type\":\"histogram\"}],\"scattergl\":[{\"type\":\"scattergl\",\"marker\":{\"colorbar\":{\"outlinewidth\":0,\"ticks\":\"\"}}}],\"scatter3d\":[{\"type\":\"scatter3d\",\"line\":{\"colorbar\":{\"outlinewidth\":0,\"ticks\":\"\"}},\"marker\":{\"colorbar\":{\"outlinewidth\":0,\"ticks\":\"\"}}}],\"scattermapbox\":[{\"type\":\"scattermapbox\",\"marker\":{\"colorbar\":{\"outlinewidth\":0,\"ticks\":\"\"}}}],\"scatterternary\":[{\"type\":\"scatterternary\",\"marker\":{\"colorbar\":{\"outlinewidth\":0,\"ticks\":\"\"}}}],\"scattercarpet\":[{\"type\":\"scattercarpet\",\"marker\":{\"colorbar\":{\"outlinewidth\":0,\"ticks\":\"\"}}}],\"carpet\":[{\"aaxis\":{\"endlinecolor\":\"#2a3f5f\",\"gridcolor\":\"white\",\"linecolor\":\"white\",\"minorgridcolor\":\"white\",\"startlinecolor\":\"#2a3f5f\"},\"baxis\":{\"endlinecolor\":\"#2a3f5f\",\"gridcolor\":\"white\",\"linecolor\":\"white\",\"minorgridcolor\":\"white\",\"startlinecolor\":\"#2a3f5f\"},\"type\":\"carpet\"}],\"table\":[{\"cells\":{\"fill\":{\"color\":\"#EBF0F8\"},\"line\":{\"color\":\"white\"}},\"header\":{\"fill\":{\"color\":\"#C8D4E3\"},\"line\":{\"color\":\"white\"}},\"type\":\"table\"}],\"barpolar\":[{\"marker\":{\"line\":{\"color\":\"#E5ECF6\",\"width\":0.5},\"pattern\":{\"fillmode\":\"overlay\",\"size\":10,\"solidity\":0.2}},\"type\":\"barpolar\"}],\"pie\":[{\"automargin\":true,\"type\":\"pie\"}]},\"layout\":{\"autotypenumbers\":\"strict\",\"colorway\":[\"#636efa\",\"#EF553B\",\"#00cc96\",\"#ab63fa\",\"#FFA15A\",\"#19d3f3\",\"#FF6692\",\"#B6E880\",\"#FF97FF\",\"#FECB52\"],\"font\":{\"color\":\"#2a3f5f\"},\"hovermode\":\"closest\",\"hoverlabel\":{\"align\":\"left\"},\"paper_bgcolor\":\"white\",\"plot_bgcolor\":\"#E5ECF6\",\"polar\":{\"bgcolor\":\"#E5ECF6\",\"angularaxis\":{\"gridcolor\":\"white\",\"linecolor\":\"white\",\"ticks\":\"\"},\"radialaxis\":{\"gridcolor\":\"white\",\"linecolor\":\"white\",\"ticks\":\"\"}},\"ternary\":{\"bgcolor\":\"#E5ECF6\",\"aaxis\":{\"gridcolor\":\"white\",\"linecolor\":\"white\",\"ticks\":\"\"},\"baxis\":{\"gridcolor\":\"white\",\"linecolor\":\"white\",\"ticks\":\"\"},\"caxis\":{\"gridcolor\":\"white\",\"linecolor\":\"white\",\"ticks\":\"\"}},\"coloraxis\":{\"colorbar\":{\"outlinewidth\":0,\"ticks\":\"\"}},\"colorscale\":{\"sequential\":[[0.0,\"#0d0887\"],[0.1111111111111111,\"#46039f\"],[0.2222222222222222,\"#7201a8\"],[0.3333333333333333,\"#9c179e\"],[0.4444444444444444,\"#bd3786\"],[0.5555555555555556,\"#d8576b\"],[0.6666666666666666,\"#ed7953\"],[0.7777777777777778,\"#fb9f3a\"],[0.8888888888888888,\"#fdca26\"],[1.0,\"#f0f921\"]],\"sequentialminus\":[[0.0,\"#0d0887\"],[0.1111111111111111,\"#46039f\"],[0.2222222222222222,\"#7201a8\"],[0.3333333333333333,\"#9c179e\"],[0.4444444444444444,\"#bd3786\"],[0.5555555555555556,\"#d8576b\"],[0.6666666666666666,\"#ed7953\"],[0.7777777777777778,\"#fb9f3a\"],[0.8888888888888888,\"#fdca26\"],[1.0,\"#f0f921\"]],\"diverging\":[[0,\"#8e0152\"],[0.1,\"#c51b7d\"],[0.2,\"#de77ae\"],[0.3,\"#f1b6da\"],[0.4,\"#fde0ef\"],[0.5,\"#f7f7f7\"],[0.6,\"#e6f5d0\"],[0.7,\"#b8e186\"],[0.8,\"#7fbc41\"],[0.9,\"#4d9221\"],[1,\"#276419\"]]},\"xaxis\":{\"gridcolor\":\"white\",\"linecolor\":\"white\",\"ticks\":\"\",\"title\":{\"standoff\":15},\"zerolinecolor\":\"white\",\"automargin\":true,\"zerolinewidth\":2},\"yaxis\":{\"gridcolor\":\"white\",\"linecolor\":\"white\",\"ticks\":\"\",\"title\":{\"standoff\":15},\"zerolinecolor\":\"white\",\"automargin\":true,\"zerolinewidth\":2},\"scene\":{\"xaxis\":{\"backgroundcolor\":\"#E5ECF6\",\"gridcolor\":\"white\",\"linecolor\":\"white\",\"showbackground\":true,\"ticks\":\"\",\"zerolinecolor\":\"white\",\"gridwidth\":2},\"yaxis\":{\"backgroundcolor\":\"#E5ECF6\",\"gridcolor\":\"white\",\"linecolor\":\"white\",\"showbackground\":true,\"ticks\":\"\",\"zerolinecolor\":\"white\",\"gridwidth\":2},\"zaxis\":{\"backgroundcolor\":\"#E5ECF6\",\"gridcolor\":\"white\",\"linecolor\":\"white\",\"showbackground\":true,\"ticks\":\"\",\"zerolinecolor\":\"white\",\"gridwidth\":2}},\"shapedefaults\":{\"line\":{\"color\":\"#2a3f5f\"}},\"annotationdefaults\":{\"arrowcolor\":\"#2a3f5f\",\"arrowhead\":0,\"arrowwidth\":1},\"geo\":{\"bgcolor\":\"white\",\"landcolor\":\"#E5ECF6\",\"subunitcolor\":\"white\",\"showland\":true,\"showlakes\":true,\"lakecolor\":\"white\"},\"title\":{\"x\":0.05},\"mapbox\":{\"style\":\"light\"}}},\"shapes\":[{\"line\":{\"color\":\"#8e7cc3\",\"dash\":\"dash\",\"width\":2},\"type\":\"line\",\"x0\":12.055200000000001,\"x1\":12.055200000000001,\"xref\":\"x\",\"y0\":0,\"y1\":1,\"yref\":\"y domain\"}],\"annotations\":[{\"bgcolor\":\"#b4a7d6\",\"bordercolor\":\"#c7c7c7\",\"borderpad\":3,\"borderwidth\":1,\"opacity\":0.8,\"showarrow\":false,\"text\":\"Weighted Avg: 12.06\",\"x\":12.055200000000001,\"xanchor\":\"left\",\"xref\":\"x\",\"y\":1,\"yanchor\":\"top\",\"yref\":\"y domain\"}],\"title\":{\"font\":{\"size\":40,\"family\":\"Baskerville, Bold\",\"color\":\"#001c40\"},\"text\":\"Duration by Sub-Genre\\u003cbr\\u003e\\u003csup\\u003eMost non-fiction or reality-based books tend to take me longer to read\"},\"margin\":{\"l\":85,\"r\":85,\"t\":120,\"b\":45},\"xaxis\":{\"title\":{},\"showgrid\":true,\"showline\":false,\"linecolor\":\"black\",\"gridcolor\":\"#cbcbcb\",\"zerolinewidth\":1},\"yaxis\":{\"title\":{},\"showgrid\":false,\"showline\":true,\"showticklabels\":true,\"linecolor\":\"black\",\"gridcolor\":\"#cbcbcb\",\"zerolinewidth\":1},\"yaxis2\":{\"showgrid\":false,\"showline\":true,\"showticklabels\":true,\"linecolor\":\"black\",\"gridcolor\":\"#cbcbcb\",\"zerolinewidth\":1},\"font\":{\"family\":\"Baskerville\",\"color\":\"#001c40\",\"size\":14},\"hoverlabel\":{\"font\":{\"size\":16}},\"height\":600,\"showlegend\":false,\"barmode\":\"group\",\"plot_bgcolor\":\"#f0f0f0\",\"paper_bgcolor\":\"#f0f0f0\"},                        {\"modeBarButtonsToRemove\": [\"zoomIn\", \"zoomOut\", \"resetScale2d\", \"select2d\", \"lasso2d\"], \"responsive\": true, \"displaylogo\": false, \"toImageButtonOptions\": {\"format\": \"png\", \"filename\": \"reading-habits\", \"scale\": 1}}                    ).then(function(){\n",
       "                            \n",
       "var gd = document.getElementById('685c021b-9c40-480a-b7e3-f2d99f4f5b1e');\n",
       "var x = new MutationObserver(function (mutations, observer) {{\n",
       "        var display = window.getComputedStyle(gd).display;\n",
       "        if (!display || display === 'none') {{\n",
       "            console.log([gd, 'removed!']);\n",
       "            Plotly.purge(gd);\n",
       "            observer.disconnect();\n",
       "        }}\n",
       "}});\n",
       "\n",
       "// Listen for the removal of the full notebook cells\n",
       "var notebookContainer = gd.closest('#notebook-container');\n",
       "if (notebookContainer) {{\n",
       "    x.observe(notebookContainer, {childList: true});\n",
       "}}\n",
       "\n",
       "// Listen for the clearing of the current output cell\n",
       "var outputEl = gd.closest('.output');\n",
       "if (outputEl) {{\n",
       "    x.observe(outputEl, {childList: true});\n",
       "}}\n",
       "\n",
       "                        })                };                });            </script>        </div>"
      ]
     },
     "metadata": {},
     "output_type": "display_data"
    }
   ],
   "source": [
    "dfy = df.groupby('Sub-Genre')['Duration'].mean().reset_index()\n",
    "dfy = dfy[dfy['Duration'].notnull()].round(2)\n",
    "dfy['Total'] = df.groupby('Sub-Genre')['Title'].count().reset_index(drop=True)\n",
    "dfy = dfy.sort_values('Duration', ascending=True).reset_index(drop=True)\n",
    "\n",
    "title = \"Duration by Sub-Genre\"\n",
    "sub = f\"Most non-fiction or reality-based books tend to take me longer to read\"\n",
    "plot.gen_hbar_graph(dfy, 'Sub-Genre', title, sub, avg=True, w_avg='Duration')"
   ]
  },
  {
   "cell_type": "markdown",
   "id": "a7e39f46-910f-452d-8fb9-340ae73c5ac4",
   "metadata": {},
   "source": [
    "### Do I gravitate towards a particular genre-sub-genre?\n",
    "\n",
    "This visualization was more fun to make than to look at, as a lot of the information is a bit irrelevant. I was just curious about what the visualization would look like when laid out as a heatmap."
   ]
  },
  {
   "cell_type": "code",
   "execution_count": 40,
   "id": "1e533e30-88f7-48af-9e9f-095f6b1799ec",
   "metadata": {
    "execution": {
     "iopub.execute_input": "2024-07-27T23:38:50.520751Z",
     "iopub.status.busy": "2024-07-27T23:38:50.520751Z",
     "iopub.status.idle": "2024-07-27T23:38:50.551669Z",
     "shell.execute_reply": "2024-07-27T23:38:50.551669Z",
     "shell.execute_reply.started": "2024-07-27T23:38:50.520751Z"
    },
    "tags": []
   },
   "outputs": [
    {
     "data": {
      "application/vnd.plotly.v1+json": {
       "config": {
        "displaylogo": false,
        "modeBarButtonsToRemove": [
         "zoomIn",
         "zoomOut",
         "resetScale2d",
         "select2d",
         "lasso2d"
        ],
        "plotlyServerURL": "https://plot.ly",
        "responsive": true,
        "toImageButtonOptions": {
         "filename": "reading-habits",
         "format": "png",
         "scale": 1
        }
       },
       "data": [
        {
         "hoverongaps": false,
         "hovertemplate": "<b>%{y}-%{x}</b>: %{z}<extra></extra>",
         "type": "heatmap",
         "x": [
          "Self Help",
          "Nonfiction",
          "Cultural",
          "Science Fiction",
          "Short Stories",
          "Classics",
          "Fantasy",
          "Historical Fiction",
          "Young Adult",
          "History",
          "Contemporary",
          "Programming",
          "Memoir",
          "Graphic Novel",
          "Mystery",
          "German Literature",
          "Warhammer 40k",
          "Poetry",
          "Psychology"
         ],
         "y": [
          "Nonfiction",
          "Philosophy",
          "Psychology",
          "Fiction",
          "Science"
         ],
         "z": [
          [
           5,
           0,
           0,
           0,
           0,
           0,
           0,
           0,
           0,
           3,
           0,
           0,
           2,
           1,
           0,
           0,
           0,
           0,
           1
          ],
          [
           0,
           5,
           0,
           0,
           0,
           1,
           0,
           0,
           0,
           0,
           0,
           0,
           0,
           0,
           0,
           0,
           0,
           0,
           0
          ],
          [
           1,
           0,
           0,
           0,
           0,
           0,
           0,
           0,
           0,
           0,
           0,
           0,
           0,
           0,
           0,
           0,
           0,
           0,
           0
          ],
          [
           0,
           0,
           5,
           4,
           1,
           8,
           6,
           13,
           1,
           0,
           2,
           0,
           0,
           1,
           1,
           2,
           80,
           1,
           0
          ],
          [
           0,
           5,
           0,
           0,
           0,
           0,
           0,
           0,
           0,
           0,
           0,
           1,
           0,
           0,
           0,
           0,
           0,
           0,
           0
          ]
         ]
        }
       ],
       "layout": {
        "barmode": "group",
        "font": {
         "color": "#001c40",
         "family": "Baskerville",
         "size": 14
        },
        "height": 600,
        "hoverlabel": {
         "font": {
          "size": 16
         }
        },
        "margin": {
         "b": 45,
         "l": 85,
         "pad": 10,
         "r": 85,
         "t": 120
        },
        "paper_bgcolor": "#f0f0f0",
        "plot_bgcolor": "#f0f0f0",
        "showlegend": false,
        "template": {
         "data": {
          "bar": [
           {
            "error_x": {
             "color": "#2a3f5f"
            },
            "error_y": {
             "color": "#2a3f5f"
            },
            "marker": {
             "line": {
              "color": "#E5ECF6",
              "width": 0.5
             },
             "pattern": {
              "fillmode": "overlay",
              "size": 10,
              "solidity": 0.2
             }
            },
            "type": "bar"
           }
          ],
          "barpolar": [
           {
            "marker": {
             "line": {
              "color": "#E5ECF6",
              "width": 0.5
             },
             "pattern": {
              "fillmode": "overlay",
              "size": 10,
              "solidity": 0.2
             }
            },
            "type": "barpolar"
           }
          ],
          "carpet": [
           {
            "aaxis": {
             "endlinecolor": "#2a3f5f",
             "gridcolor": "white",
             "linecolor": "white",
             "minorgridcolor": "white",
             "startlinecolor": "#2a3f5f"
            },
            "baxis": {
             "endlinecolor": "#2a3f5f",
             "gridcolor": "white",
             "linecolor": "white",
             "minorgridcolor": "white",
             "startlinecolor": "#2a3f5f"
            },
            "type": "carpet"
           }
          ],
          "choropleth": [
           {
            "colorbar": {
             "outlinewidth": 0,
             "ticks": ""
            },
            "type": "choropleth"
           }
          ],
          "contour": [
           {
            "colorbar": {
             "outlinewidth": 0,
             "ticks": ""
            },
            "colorscale": [
             [
              0,
              "#0d0887"
             ],
             [
              0.1111111111111111,
              "#46039f"
             ],
             [
              0.2222222222222222,
              "#7201a8"
             ],
             [
              0.3333333333333333,
              "#9c179e"
             ],
             [
              0.4444444444444444,
              "#bd3786"
             ],
             [
              0.5555555555555556,
              "#d8576b"
             ],
             [
              0.6666666666666666,
              "#ed7953"
             ],
             [
              0.7777777777777778,
              "#fb9f3a"
             ],
             [
              0.8888888888888888,
              "#fdca26"
             ],
             [
              1,
              "#f0f921"
             ]
            ],
            "type": "contour"
           }
          ],
          "contourcarpet": [
           {
            "colorbar": {
             "outlinewidth": 0,
             "ticks": ""
            },
            "type": "contourcarpet"
           }
          ],
          "heatmap": [
           {
            "colorbar": {
             "outlinewidth": 0,
             "ticks": ""
            },
            "colorscale": [
             [
              0,
              "#0d0887"
             ],
             [
              0.1111111111111111,
              "#46039f"
             ],
             [
              0.2222222222222222,
              "#7201a8"
             ],
             [
              0.3333333333333333,
              "#9c179e"
             ],
             [
              0.4444444444444444,
              "#bd3786"
             ],
             [
              0.5555555555555556,
              "#d8576b"
             ],
             [
              0.6666666666666666,
              "#ed7953"
             ],
             [
              0.7777777777777778,
              "#fb9f3a"
             ],
             [
              0.8888888888888888,
              "#fdca26"
             ],
             [
              1,
              "#f0f921"
             ]
            ],
            "type": "heatmap"
           }
          ],
          "heatmapgl": [
           {
            "colorbar": {
             "outlinewidth": 0,
             "ticks": ""
            },
            "colorscale": [
             [
              0,
              "#0d0887"
             ],
             [
              0.1111111111111111,
              "#46039f"
             ],
             [
              0.2222222222222222,
              "#7201a8"
             ],
             [
              0.3333333333333333,
              "#9c179e"
             ],
             [
              0.4444444444444444,
              "#bd3786"
             ],
             [
              0.5555555555555556,
              "#d8576b"
             ],
             [
              0.6666666666666666,
              "#ed7953"
             ],
             [
              0.7777777777777778,
              "#fb9f3a"
             ],
             [
              0.8888888888888888,
              "#fdca26"
             ],
             [
              1,
              "#f0f921"
             ]
            ],
            "type": "heatmapgl"
           }
          ],
          "histogram": [
           {
            "marker": {
             "pattern": {
              "fillmode": "overlay",
              "size": 10,
              "solidity": 0.2
             }
            },
            "type": "histogram"
           }
          ],
          "histogram2d": [
           {
            "colorbar": {
             "outlinewidth": 0,
             "ticks": ""
            },
            "colorscale": [
             [
              0,
              "#0d0887"
             ],
             [
              0.1111111111111111,
              "#46039f"
             ],
             [
              0.2222222222222222,
              "#7201a8"
             ],
             [
              0.3333333333333333,
              "#9c179e"
             ],
             [
              0.4444444444444444,
              "#bd3786"
             ],
             [
              0.5555555555555556,
              "#d8576b"
             ],
             [
              0.6666666666666666,
              "#ed7953"
             ],
             [
              0.7777777777777778,
              "#fb9f3a"
             ],
             [
              0.8888888888888888,
              "#fdca26"
             ],
             [
              1,
              "#f0f921"
             ]
            ],
            "type": "histogram2d"
           }
          ],
          "histogram2dcontour": [
           {
            "colorbar": {
             "outlinewidth": 0,
             "ticks": ""
            },
            "colorscale": [
             [
              0,
              "#0d0887"
             ],
             [
              0.1111111111111111,
              "#46039f"
             ],
             [
              0.2222222222222222,
              "#7201a8"
             ],
             [
              0.3333333333333333,
              "#9c179e"
             ],
             [
              0.4444444444444444,
              "#bd3786"
             ],
             [
              0.5555555555555556,
              "#d8576b"
             ],
             [
              0.6666666666666666,
              "#ed7953"
             ],
             [
              0.7777777777777778,
              "#fb9f3a"
             ],
             [
              0.8888888888888888,
              "#fdca26"
             ],
             [
              1,
              "#f0f921"
             ]
            ],
            "type": "histogram2dcontour"
           }
          ],
          "mesh3d": [
           {
            "colorbar": {
             "outlinewidth": 0,
             "ticks": ""
            },
            "type": "mesh3d"
           }
          ],
          "parcoords": [
           {
            "line": {
             "colorbar": {
              "outlinewidth": 0,
              "ticks": ""
             }
            },
            "type": "parcoords"
           }
          ],
          "pie": [
           {
            "automargin": true,
            "type": "pie"
           }
          ],
          "scatter": [
           {
            "fillpattern": {
             "fillmode": "overlay",
             "size": 10,
             "solidity": 0.2
            },
            "type": "scatter"
           }
          ],
          "scatter3d": [
           {
            "line": {
             "colorbar": {
              "outlinewidth": 0,
              "ticks": ""
             }
            },
            "marker": {
             "colorbar": {
              "outlinewidth": 0,
              "ticks": ""
             }
            },
            "type": "scatter3d"
           }
          ],
          "scattercarpet": [
           {
            "marker": {
             "colorbar": {
              "outlinewidth": 0,
              "ticks": ""
             }
            },
            "type": "scattercarpet"
           }
          ],
          "scattergeo": [
           {
            "marker": {
             "colorbar": {
              "outlinewidth": 0,
              "ticks": ""
             }
            },
            "type": "scattergeo"
           }
          ],
          "scattergl": [
           {
            "marker": {
             "colorbar": {
              "outlinewidth": 0,
              "ticks": ""
             }
            },
            "type": "scattergl"
           }
          ],
          "scattermapbox": [
           {
            "marker": {
             "colorbar": {
              "outlinewidth": 0,
              "ticks": ""
             }
            },
            "type": "scattermapbox"
           }
          ],
          "scatterpolar": [
           {
            "marker": {
             "colorbar": {
              "outlinewidth": 0,
              "ticks": ""
             }
            },
            "type": "scatterpolar"
           }
          ],
          "scatterpolargl": [
           {
            "marker": {
             "colorbar": {
              "outlinewidth": 0,
              "ticks": ""
             }
            },
            "type": "scatterpolargl"
           }
          ],
          "scatterternary": [
           {
            "marker": {
             "colorbar": {
              "outlinewidth": 0,
              "ticks": ""
             }
            },
            "type": "scatterternary"
           }
          ],
          "surface": [
           {
            "colorbar": {
             "outlinewidth": 0,
             "ticks": ""
            },
            "colorscale": [
             [
              0,
              "#0d0887"
             ],
             [
              0.1111111111111111,
              "#46039f"
             ],
             [
              0.2222222222222222,
              "#7201a8"
             ],
             [
              0.3333333333333333,
              "#9c179e"
             ],
             [
              0.4444444444444444,
              "#bd3786"
             ],
             [
              0.5555555555555556,
              "#d8576b"
             ],
             [
              0.6666666666666666,
              "#ed7953"
             ],
             [
              0.7777777777777778,
              "#fb9f3a"
             ],
             [
              0.8888888888888888,
              "#fdca26"
             ],
             [
              1,
              "#f0f921"
             ]
            ],
            "type": "surface"
           }
          ],
          "table": [
           {
            "cells": {
             "fill": {
              "color": "#EBF0F8"
             },
             "line": {
              "color": "white"
             }
            },
            "header": {
             "fill": {
              "color": "#C8D4E3"
             },
             "line": {
              "color": "white"
             }
            },
            "type": "table"
           }
          ]
         },
         "layout": {
          "annotationdefaults": {
           "arrowcolor": "#2a3f5f",
           "arrowhead": 0,
           "arrowwidth": 1
          },
          "autotypenumbers": "strict",
          "coloraxis": {
           "colorbar": {
            "outlinewidth": 0,
            "ticks": ""
           }
          },
          "colorscale": {
           "diverging": [
            [
             0,
             "#8e0152"
            ],
            [
             0.1,
             "#c51b7d"
            ],
            [
             0.2,
             "#de77ae"
            ],
            [
             0.3,
             "#f1b6da"
            ],
            [
             0.4,
             "#fde0ef"
            ],
            [
             0.5,
             "#f7f7f7"
            ],
            [
             0.6,
             "#e6f5d0"
            ],
            [
             0.7,
             "#b8e186"
            ],
            [
             0.8,
             "#7fbc41"
            ],
            [
             0.9,
             "#4d9221"
            ],
            [
             1,
             "#276419"
            ]
           ],
           "sequential": [
            [
             0,
             "#0d0887"
            ],
            [
             0.1111111111111111,
             "#46039f"
            ],
            [
             0.2222222222222222,
             "#7201a8"
            ],
            [
             0.3333333333333333,
             "#9c179e"
            ],
            [
             0.4444444444444444,
             "#bd3786"
            ],
            [
             0.5555555555555556,
             "#d8576b"
            ],
            [
             0.6666666666666666,
             "#ed7953"
            ],
            [
             0.7777777777777778,
             "#fb9f3a"
            ],
            [
             0.8888888888888888,
             "#fdca26"
            ],
            [
             1,
             "#f0f921"
            ]
           ],
           "sequentialminus": [
            [
             0,
             "#0d0887"
            ],
            [
             0.1111111111111111,
             "#46039f"
            ],
            [
             0.2222222222222222,
             "#7201a8"
            ],
            [
             0.3333333333333333,
             "#9c179e"
            ],
            [
             0.4444444444444444,
             "#bd3786"
            ],
            [
             0.5555555555555556,
             "#d8576b"
            ],
            [
             0.6666666666666666,
             "#ed7953"
            ],
            [
             0.7777777777777778,
             "#fb9f3a"
            ],
            [
             0.8888888888888888,
             "#fdca26"
            ],
            [
             1,
             "#f0f921"
            ]
           ]
          },
          "colorway": [
           "#636efa",
           "#EF553B",
           "#00cc96",
           "#ab63fa",
           "#FFA15A",
           "#19d3f3",
           "#FF6692",
           "#B6E880",
           "#FF97FF",
           "#FECB52"
          ],
          "font": {
           "color": "#2a3f5f"
          },
          "geo": {
           "bgcolor": "white",
           "lakecolor": "white",
           "landcolor": "#E5ECF6",
           "showlakes": true,
           "showland": true,
           "subunitcolor": "white"
          },
          "hoverlabel": {
           "align": "left"
          },
          "hovermode": "closest",
          "mapbox": {
           "style": "light"
          },
          "paper_bgcolor": "white",
          "plot_bgcolor": "#E5ECF6",
          "polar": {
           "angularaxis": {
            "gridcolor": "white",
            "linecolor": "white",
            "ticks": ""
           },
           "bgcolor": "#E5ECF6",
           "radialaxis": {
            "gridcolor": "white",
            "linecolor": "white",
            "ticks": ""
           }
          },
          "scene": {
           "xaxis": {
            "backgroundcolor": "#E5ECF6",
            "gridcolor": "white",
            "gridwidth": 2,
            "linecolor": "white",
            "showbackground": true,
            "ticks": "",
            "zerolinecolor": "white"
           },
           "yaxis": {
            "backgroundcolor": "#E5ECF6",
            "gridcolor": "white",
            "gridwidth": 2,
            "linecolor": "white",
            "showbackground": true,
            "ticks": "",
            "zerolinecolor": "white"
           },
           "zaxis": {
            "backgroundcolor": "#E5ECF6",
            "gridcolor": "white",
            "gridwidth": 2,
            "linecolor": "white",
            "showbackground": true,
            "ticks": "",
            "zerolinecolor": "white"
           }
          },
          "shapedefaults": {
           "line": {
            "color": "#2a3f5f"
           }
          },
          "ternary": {
           "aaxis": {
            "gridcolor": "white",
            "linecolor": "white",
            "ticks": ""
           },
           "baxis": {
            "gridcolor": "white",
            "linecolor": "white",
            "ticks": ""
           },
           "bgcolor": "#E5ECF6",
           "caxis": {
            "gridcolor": "white",
            "linecolor": "white",
            "ticks": ""
           }
          },
          "title": {
           "x": 0.05
          },
          "xaxis": {
           "automargin": true,
           "gridcolor": "white",
           "linecolor": "white",
           "ticks": "",
           "title": {
            "standoff": 15
           },
           "zerolinecolor": "white",
           "zerolinewidth": 2
          },
          "yaxis": {
           "automargin": true,
           "gridcolor": "white",
           "linecolor": "white",
           "ticks": "",
           "title": {
            "standoff": 15
           },
           "zerolinecolor": "white",
           "zerolinewidth": 2
          }
         }
        },
        "title": {
         "font": {
          "color": "#001c40",
          "family": "Baskerville, Bold",
          "size": 40
         },
         "text": "Genre Pairing Heatmap<br><sup>Because who doesn't love a heatmap?"
        },
        "xaxis": {
         "gridcolor": "#cbcbcb",
         "linecolor": "black",
         "showgrid": false,
         "showline": false,
         "title": {},
         "zerolinewidth": 1
        },
        "yaxis": {
         "gridcolor": "#cbcbcb",
         "linecolor": "black",
         "showgrid": false,
         "showline": false,
         "showticklabels": true,
         "title": {},
         "zerolinewidth": 1
        },
        "yaxis2": {
         "gridcolor": "#cbcbcb",
         "linecolor": "black",
         "showgrid": false,
         "showline": false,
         "showticklabels": true,
         "zerolinewidth": 1
        }
       }
      },
      "text/html": [
       "<div>                            <div id=\"c315872e-166d-40c0-a8e8-a3ca254f97c6\" class=\"plotly-graph-div\" style=\"height:600px; width:100%;\"></div>            <script type=\"text/javascript\">                require([\"plotly\"], function(Plotly) {                    window.PLOTLYENV=window.PLOTLYENV || {};                                    if (document.getElementById(\"c315872e-166d-40c0-a8e8-a3ca254f97c6\")) {                    Plotly.newPlot(                        \"c315872e-166d-40c0-a8e8-a3ca254f97c6\",                        [{\"hoverongaps\":false,\"hovertemplate\":\"\\u003cb\\u003e%{y}-%{x}\\u003c\\u002fb\\u003e: %{z}\\u003cextra\\u003e\\u003c\\u002fextra\\u003e\",\"x\":[\"Self Help\",\"Nonfiction\",\"Cultural\",\"Science Fiction\",\"Short Stories\",\"Classics\",\"Fantasy\",\"Historical Fiction\",\"Young Adult\",\"History\",\"Contemporary\",\"Programming\",\"Memoir\",\"Graphic Novel\",\"Mystery\",\"German Literature\",\"Warhammer 40k\",\"Poetry\",\"Psychology\"],\"y\":[\"Nonfiction\",\"Philosophy\",\"Psychology\",\"Fiction\",\"Science\"],\"z\":[[5.0,0.0,0.0,0.0,0.0,0.0,0.0,0.0,0.0,3.0,0.0,0.0,2.0,1.0,0.0,0.0,0.0,0.0,1.0],[0.0,5.0,0.0,0.0,0.0,1.0,0.0,0.0,0.0,0.0,0.0,0.0,0.0,0.0,0.0,0.0,0.0,0.0,0.0],[1.0,0.0,0.0,0.0,0.0,0.0,0.0,0.0,0.0,0.0,0.0,0.0,0.0,0.0,0.0,0.0,0.0,0.0,0.0],[0.0,0.0,5.0,4.0,1.0,8.0,6.0,13.0,1.0,0.0,2.0,0.0,0.0,1.0,1.0,2.0,80.0,1.0,0.0],[0.0,5.0,0.0,0.0,0.0,0.0,0.0,0.0,0.0,0.0,0.0,1.0,0.0,0.0,0.0,0.0,0.0,0.0,0.0]],\"type\":\"heatmap\"}],                        {\"template\":{\"data\":{\"histogram2dcontour\":[{\"type\":\"histogram2dcontour\",\"colorbar\":{\"outlinewidth\":0,\"ticks\":\"\"},\"colorscale\":[[0.0,\"#0d0887\"],[0.1111111111111111,\"#46039f\"],[0.2222222222222222,\"#7201a8\"],[0.3333333333333333,\"#9c179e\"],[0.4444444444444444,\"#bd3786\"],[0.5555555555555556,\"#d8576b\"],[0.6666666666666666,\"#ed7953\"],[0.7777777777777778,\"#fb9f3a\"],[0.8888888888888888,\"#fdca26\"],[1.0,\"#f0f921\"]]}],\"choropleth\":[{\"type\":\"choropleth\",\"colorbar\":{\"outlinewidth\":0,\"ticks\":\"\"}}],\"histogram2d\":[{\"type\":\"histogram2d\",\"colorbar\":{\"outlinewidth\":0,\"ticks\":\"\"},\"colorscale\":[[0.0,\"#0d0887\"],[0.1111111111111111,\"#46039f\"],[0.2222222222222222,\"#7201a8\"],[0.3333333333333333,\"#9c179e\"],[0.4444444444444444,\"#bd3786\"],[0.5555555555555556,\"#d8576b\"],[0.6666666666666666,\"#ed7953\"],[0.7777777777777778,\"#fb9f3a\"],[0.8888888888888888,\"#fdca26\"],[1.0,\"#f0f921\"]]}],\"heatmap\":[{\"type\":\"heatmap\",\"colorbar\":{\"outlinewidth\":0,\"ticks\":\"\"},\"colorscale\":[[0.0,\"#0d0887\"],[0.1111111111111111,\"#46039f\"],[0.2222222222222222,\"#7201a8\"],[0.3333333333333333,\"#9c179e\"],[0.4444444444444444,\"#bd3786\"],[0.5555555555555556,\"#d8576b\"],[0.6666666666666666,\"#ed7953\"],[0.7777777777777778,\"#fb9f3a\"],[0.8888888888888888,\"#fdca26\"],[1.0,\"#f0f921\"]]}],\"heatmapgl\":[{\"type\":\"heatmapgl\",\"colorbar\":{\"outlinewidth\":0,\"ticks\":\"\"},\"colorscale\":[[0.0,\"#0d0887\"],[0.1111111111111111,\"#46039f\"],[0.2222222222222222,\"#7201a8\"],[0.3333333333333333,\"#9c179e\"],[0.4444444444444444,\"#bd3786\"],[0.5555555555555556,\"#d8576b\"],[0.6666666666666666,\"#ed7953\"],[0.7777777777777778,\"#fb9f3a\"],[0.8888888888888888,\"#fdca26\"],[1.0,\"#f0f921\"]]}],\"contourcarpet\":[{\"type\":\"contourcarpet\",\"colorbar\":{\"outlinewidth\":0,\"ticks\":\"\"}}],\"contour\":[{\"type\":\"contour\",\"colorbar\":{\"outlinewidth\":0,\"ticks\":\"\"},\"colorscale\":[[0.0,\"#0d0887\"],[0.1111111111111111,\"#46039f\"],[0.2222222222222222,\"#7201a8\"],[0.3333333333333333,\"#9c179e\"],[0.4444444444444444,\"#bd3786\"],[0.5555555555555556,\"#d8576b\"],[0.6666666666666666,\"#ed7953\"],[0.7777777777777778,\"#fb9f3a\"],[0.8888888888888888,\"#fdca26\"],[1.0,\"#f0f921\"]]}],\"surface\":[{\"type\":\"surface\",\"colorbar\":{\"outlinewidth\":0,\"ticks\":\"\"},\"colorscale\":[[0.0,\"#0d0887\"],[0.1111111111111111,\"#46039f\"],[0.2222222222222222,\"#7201a8\"],[0.3333333333333333,\"#9c179e\"],[0.4444444444444444,\"#bd3786\"],[0.5555555555555556,\"#d8576b\"],[0.6666666666666666,\"#ed7953\"],[0.7777777777777778,\"#fb9f3a\"],[0.8888888888888888,\"#fdca26\"],[1.0,\"#f0f921\"]]}],\"mesh3d\":[{\"type\":\"mesh3d\",\"colorbar\":{\"outlinewidth\":0,\"ticks\":\"\"}}],\"scatter\":[{\"fillpattern\":{\"fillmode\":\"overlay\",\"size\":10,\"solidity\":0.2},\"type\":\"scatter\"}],\"parcoords\":[{\"type\":\"parcoords\",\"line\":{\"colorbar\":{\"outlinewidth\":0,\"ticks\":\"\"}}}],\"scatterpolargl\":[{\"type\":\"scatterpolargl\",\"marker\":{\"colorbar\":{\"outlinewidth\":0,\"ticks\":\"\"}}}],\"bar\":[{\"error_x\":{\"color\":\"#2a3f5f\"},\"error_y\":{\"color\":\"#2a3f5f\"},\"marker\":{\"line\":{\"color\":\"#E5ECF6\",\"width\":0.5},\"pattern\":{\"fillmode\":\"overlay\",\"size\":10,\"solidity\":0.2}},\"type\":\"bar\"}],\"scattergeo\":[{\"type\":\"scattergeo\",\"marker\":{\"colorbar\":{\"outlinewidth\":0,\"ticks\":\"\"}}}],\"scatterpolar\":[{\"type\":\"scatterpolar\",\"marker\":{\"colorbar\":{\"outlinewidth\":0,\"ticks\":\"\"}}}],\"histogram\":[{\"marker\":{\"pattern\":{\"fillmode\":\"overlay\",\"size\":10,\"solidity\":0.2}},\"type\":\"histogram\"}],\"scattergl\":[{\"type\":\"scattergl\",\"marker\":{\"colorbar\":{\"outlinewidth\":0,\"ticks\":\"\"}}}],\"scatter3d\":[{\"type\":\"scatter3d\",\"line\":{\"colorbar\":{\"outlinewidth\":0,\"ticks\":\"\"}},\"marker\":{\"colorbar\":{\"outlinewidth\":0,\"ticks\":\"\"}}}],\"scattermapbox\":[{\"type\":\"scattermapbox\",\"marker\":{\"colorbar\":{\"outlinewidth\":0,\"ticks\":\"\"}}}],\"scatterternary\":[{\"type\":\"scatterternary\",\"marker\":{\"colorbar\":{\"outlinewidth\":0,\"ticks\":\"\"}}}],\"scattercarpet\":[{\"type\":\"scattercarpet\",\"marker\":{\"colorbar\":{\"outlinewidth\":0,\"ticks\":\"\"}}}],\"carpet\":[{\"aaxis\":{\"endlinecolor\":\"#2a3f5f\",\"gridcolor\":\"white\",\"linecolor\":\"white\",\"minorgridcolor\":\"white\",\"startlinecolor\":\"#2a3f5f\"},\"baxis\":{\"endlinecolor\":\"#2a3f5f\",\"gridcolor\":\"white\",\"linecolor\":\"white\",\"minorgridcolor\":\"white\",\"startlinecolor\":\"#2a3f5f\"},\"type\":\"carpet\"}],\"table\":[{\"cells\":{\"fill\":{\"color\":\"#EBF0F8\"},\"line\":{\"color\":\"white\"}},\"header\":{\"fill\":{\"color\":\"#C8D4E3\"},\"line\":{\"color\":\"white\"}},\"type\":\"table\"}],\"barpolar\":[{\"marker\":{\"line\":{\"color\":\"#E5ECF6\",\"width\":0.5},\"pattern\":{\"fillmode\":\"overlay\",\"size\":10,\"solidity\":0.2}},\"type\":\"barpolar\"}],\"pie\":[{\"automargin\":true,\"type\":\"pie\"}]},\"layout\":{\"autotypenumbers\":\"strict\",\"colorway\":[\"#636efa\",\"#EF553B\",\"#00cc96\",\"#ab63fa\",\"#FFA15A\",\"#19d3f3\",\"#FF6692\",\"#B6E880\",\"#FF97FF\",\"#FECB52\"],\"font\":{\"color\":\"#2a3f5f\"},\"hovermode\":\"closest\",\"hoverlabel\":{\"align\":\"left\"},\"paper_bgcolor\":\"white\",\"plot_bgcolor\":\"#E5ECF6\",\"polar\":{\"bgcolor\":\"#E5ECF6\",\"angularaxis\":{\"gridcolor\":\"white\",\"linecolor\":\"white\",\"ticks\":\"\"},\"radialaxis\":{\"gridcolor\":\"white\",\"linecolor\":\"white\",\"ticks\":\"\"}},\"ternary\":{\"bgcolor\":\"#E5ECF6\",\"aaxis\":{\"gridcolor\":\"white\",\"linecolor\":\"white\",\"ticks\":\"\"},\"baxis\":{\"gridcolor\":\"white\",\"linecolor\":\"white\",\"ticks\":\"\"},\"caxis\":{\"gridcolor\":\"white\",\"linecolor\":\"white\",\"ticks\":\"\"}},\"coloraxis\":{\"colorbar\":{\"outlinewidth\":0,\"ticks\":\"\"}},\"colorscale\":{\"sequential\":[[0.0,\"#0d0887\"],[0.1111111111111111,\"#46039f\"],[0.2222222222222222,\"#7201a8\"],[0.3333333333333333,\"#9c179e\"],[0.4444444444444444,\"#bd3786\"],[0.5555555555555556,\"#d8576b\"],[0.6666666666666666,\"#ed7953\"],[0.7777777777777778,\"#fb9f3a\"],[0.8888888888888888,\"#fdca26\"],[1.0,\"#f0f921\"]],\"sequentialminus\":[[0.0,\"#0d0887\"],[0.1111111111111111,\"#46039f\"],[0.2222222222222222,\"#7201a8\"],[0.3333333333333333,\"#9c179e\"],[0.4444444444444444,\"#bd3786\"],[0.5555555555555556,\"#d8576b\"],[0.6666666666666666,\"#ed7953\"],[0.7777777777777778,\"#fb9f3a\"],[0.8888888888888888,\"#fdca26\"],[1.0,\"#f0f921\"]],\"diverging\":[[0,\"#8e0152\"],[0.1,\"#c51b7d\"],[0.2,\"#de77ae\"],[0.3,\"#f1b6da\"],[0.4,\"#fde0ef\"],[0.5,\"#f7f7f7\"],[0.6,\"#e6f5d0\"],[0.7,\"#b8e186\"],[0.8,\"#7fbc41\"],[0.9,\"#4d9221\"],[1,\"#276419\"]]},\"xaxis\":{\"gridcolor\":\"white\",\"linecolor\":\"white\",\"ticks\":\"\",\"title\":{\"standoff\":15},\"zerolinecolor\":\"white\",\"automargin\":true,\"zerolinewidth\":2},\"yaxis\":{\"gridcolor\":\"white\",\"linecolor\":\"white\",\"ticks\":\"\",\"title\":{\"standoff\":15},\"zerolinecolor\":\"white\",\"automargin\":true,\"zerolinewidth\":2},\"scene\":{\"xaxis\":{\"backgroundcolor\":\"#E5ECF6\",\"gridcolor\":\"white\",\"linecolor\":\"white\",\"showbackground\":true,\"ticks\":\"\",\"zerolinecolor\":\"white\",\"gridwidth\":2},\"yaxis\":{\"backgroundcolor\":\"#E5ECF6\",\"gridcolor\":\"white\",\"linecolor\":\"white\",\"showbackground\":true,\"ticks\":\"\",\"zerolinecolor\":\"white\",\"gridwidth\":2},\"zaxis\":{\"backgroundcolor\":\"#E5ECF6\",\"gridcolor\":\"white\",\"linecolor\":\"white\",\"showbackground\":true,\"ticks\":\"\",\"zerolinecolor\":\"white\",\"gridwidth\":2}},\"shapedefaults\":{\"line\":{\"color\":\"#2a3f5f\"}},\"annotationdefaults\":{\"arrowcolor\":\"#2a3f5f\",\"arrowhead\":0,\"arrowwidth\":1},\"geo\":{\"bgcolor\":\"white\",\"landcolor\":\"#E5ECF6\",\"subunitcolor\":\"white\",\"showland\":true,\"showlakes\":true,\"lakecolor\":\"white\"},\"title\":{\"x\":0.05},\"mapbox\":{\"style\":\"light\"}}},\"title\":{\"font\":{\"size\":40,\"family\":\"Baskerville, Bold\",\"color\":\"#001c40\"},\"text\":\"Genre Pairing Heatmap\\u003cbr\\u003e\\u003csup\\u003eBecause who doesn't love a heatmap?\"},\"margin\":{\"l\":85,\"r\":85,\"t\":120,\"b\":45,\"pad\":10},\"xaxis\":{\"title\":{},\"showgrid\":false,\"showline\":false,\"linecolor\":\"black\",\"gridcolor\":\"#cbcbcb\",\"zerolinewidth\":1},\"yaxis\":{\"title\":{},\"showgrid\":false,\"showline\":false,\"showticklabels\":true,\"linecolor\":\"black\",\"gridcolor\":\"#cbcbcb\",\"zerolinewidth\":1},\"yaxis2\":{\"showgrid\":false,\"showline\":false,\"showticklabels\":true,\"linecolor\":\"black\",\"gridcolor\":\"#cbcbcb\",\"zerolinewidth\":1},\"font\":{\"family\":\"Baskerville\",\"color\":\"#001c40\",\"size\":14},\"hoverlabel\":{\"font\":{\"size\":16}},\"height\":600,\"showlegend\":false,\"barmode\":\"group\",\"plot_bgcolor\":\"#f0f0f0\",\"paper_bgcolor\":\"#f0f0f0\"},                        {\"modeBarButtonsToRemove\": [\"zoomIn\", \"zoomOut\", \"resetScale2d\", \"select2d\", \"lasso2d\"], \"responsive\": true, \"displaylogo\": false, \"toImageButtonOptions\": {\"format\": \"png\", \"filename\": \"reading-habits\", \"scale\": 1}}                    ).then(function(){\n",
       "                            \n",
       "var gd = document.getElementById('c315872e-166d-40c0-a8e8-a3ca254f97c6');\n",
       "var x = new MutationObserver(function (mutations, observer) {{\n",
       "        var display = window.getComputedStyle(gd).display;\n",
       "        if (!display || display === 'none') {{\n",
       "            console.log([gd, 'removed!']);\n",
       "            Plotly.purge(gd);\n",
       "            observer.disconnect();\n",
       "        }}\n",
       "}});\n",
       "\n",
       "// Listen for the removal of the full notebook cells\n",
       "var notebookContainer = gd.closest('#notebook-container');\n",
       "if (notebookContainer) {{\n",
       "    x.observe(notebookContainer, {childList: true});\n",
       "}}\n",
       "\n",
       "// Listen for the clearing of the current output cell\n",
       "var outputEl = gd.closest('.output');\n",
       "if (outputEl) {{\n",
       "    x.observe(outputEl, {childList: true});\n",
       "}}\n",
       "\n",
       "                        })                };                });            </script>        </div>"
      ]
     },
     "metadata": {},
     "output_type": "display_data"
    }
   ],
   "source": [
    "#get list of unique genres/subgenres \n",
    "subgenres = df['Sub-Genre'].unique()\n",
    "genres = df['Genre'].unique()\n",
    "\n",
    "#create new, NaN-filled dataframe where rows=genres, and columns=subgenres\n",
    "dfh = pd.DataFrame(np.nan, columns=subgenres, index=genres)\n",
    "\n",
    "# grp = data grouped by the two columns you want as vertical & horizontal axes\n",
    "grp = df[df[\"Genre\"].isin(genres)].groupby([\"Genre\", \"Sub-Genre\"], as_index=False)['Title'].count()\n",
    "\n",
    "#for each row in grp (which is the count of genre-sub-genre pairs), put the count (which is 'Title') in the corresponding row/column\n",
    "for idx, row in grp.iterrows():\n",
    "    dfh.loc[row[\"Genre\"], row[\"Sub-Genre\"]] = row['Title']\n",
    "    \n",
    "dfh.fillna(0, inplace=True)\n",
    "\n",
    "title = \"Genre Pairing Heatmap\"\n",
    "sub = f\"Because who doesn't love a heatmap?\"\n",
    "plot.gen_heatmap(dfh, title, sub)"
   ]
  },
  {
   "cell_type": "markdown",
   "id": "4cd16b83-9125-4821-ac74-c84c54b0ac30",
   "metadata": {},
   "source": [
    "### Does page count vary by genre?\n",
    "\n",
    "Perhaps unsurprisingly, science books have more pages on average than other genres. Perhaps this is because the authors need more pages & time to explain their scientific concepts and ideas. The weighted average (so far) number of pages is around 260, which is a relatively decent sized page count. The average number of pages for fiction books I've read is just under that weighted average. Interestingly though, the fantasy sub-genre has almost an extra 100 pages on average compared to the next highest sub-genre, which is history. Perhaps fantasy authors enjoy fleshing out their fictitious worlds more so than history authors enjoy detailing our actual world."
   ]
  },
  {
   "cell_type": "code",
   "execution_count": 41,
   "id": "8b2d3721-f3a5-4b7b-9477-17a79aee247b",
   "metadata": {
    "execution": {
     "iopub.execute_input": "2024-07-27T23:38:50.552665Z",
     "iopub.status.busy": "2024-07-27T23:38:50.552665Z",
     "iopub.status.idle": "2024-07-27T23:38:50.583131Z",
     "shell.execute_reply": "2024-07-27T23:38:50.582626Z",
     "shell.execute_reply.started": "2024-07-27T23:38:50.552665Z"
    },
    "tags": []
   },
   "outputs": [
    {
     "data": {
      "application/vnd.plotly.v1+json": {
       "config": {
        "displaylogo": false,
        "modeBarButtonsToRemove": [
         "zoomIn",
         "zoomOut",
         "resetScale2d",
         "select2d",
         "lasso2d"
        ],
        "plotlyServerURL": "https://plot.ly",
        "responsive": true,
        "toImageButtonOptions": {
         "filename": "reading-habits",
         "format": "png",
         "scale": 1
        }
       },
       "data": [
        {
         "customdata": [
          [
           "6",
           "Pages"
          ],
          [
           "1",
           "Pages"
          ],
          [
           "12",
           "Pages"
          ],
          [
           "125",
           "Pages"
          ],
          [
           "6",
           "Pages"
          ]
         ],
         "hovertemplate": "<b>%{x} Books</b>: %{customdata[0]}<br><b>Avg. %{customdata[1]}</b>: %{y}",
         "marker": {
          "color": [
           "#d27575",
           "#529b9c",
           "#eac392",
           "#9cba8f",
           "#675a55",
           "#d27575",
           "#529b9c",
           "#eac392",
           "#9cba8f",
           "#675a55",
           "#d27575",
           "#529b9c",
           "#eac392",
           "#9cba8f",
           "#675a55",
           "#d27575",
           "#529b9c",
           "#eac392",
           "#9cba8f",
           "#675a55",
           "#d27575",
           "#529b9c",
           "#eac392",
           "#9cba8f",
           "#675a55"
          ]
         },
         "name": "",
         "type": "bar",
         "x": [
          "Science",
          "Psychology",
          "Nonfiction",
          "Fiction",
          "Philosophy"
         ],
         "y": [
          325,
          288,
          282.08,
          239.46,
          196.5
         ]
        }
       ],
       "layout": {
        "annotations": [
         {
          "bgcolor": "#b4a7d6",
          "bordercolor": "#c7c7c7",
          "borderpad": 3,
          "borderwidth": 1,
          "opacity": 0.8,
          "showarrow": false,
          "text": "Weighted Avg: 244.90",
          "x": 1,
          "xanchor": "right",
          "xref": "x domain",
          "y": 244.8964,
          "yanchor": "bottom",
          "yref": "y"
         }
        ],
        "barmode": "group",
        "font": {
         "color": "#001c40",
         "family": "Baskerville",
         "size": 14
        },
        "height": 600,
        "hoverlabel": {
         "font": {
          "size": 16
         }
        },
        "margin": {
         "b": 45,
         "l": 85,
         "r": 85,
         "t": 120
        },
        "paper_bgcolor": "#f0f0f0",
        "plot_bgcolor": "#f0f0f0",
        "shapes": [
         {
          "line": {
           "color": "#8e7cc3",
           "dash": "dash",
           "width": 2
          },
          "type": "line",
          "x0": 0,
          "x1": 1,
          "xref": "x domain",
          "y0": 244.8964,
          "y1": 244.8964,
          "yref": "y"
         }
        ],
        "showlegend": false,
        "template": {
         "data": {
          "bar": [
           {
            "error_x": {
             "color": "#2a3f5f"
            },
            "error_y": {
             "color": "#2a3f5f"
            },
            "marker": {
             "line": {
              "color": "#E5ECF6",
              "width": 0.5
             },
             "pattern": {
              "fillmode": "overlay",
              "size": 10,
              "solidity": 0.2
             }
            },
            "type": "bar"
           }
          ],
          "barpolar": [
           {
            "marker": {
             "line": {
              "color": "#E5ECF6",
              "width": 0.5
             },
             "pattern": {
              "fillmode": "overlay",
              "size": 10,
              "solidity": 0.2
             }
            },
            "type": "barpolar"
           }
          ],
          "carpet": [
           {
            "aaxis": {
             "endlinecolor": "#2a3f5f",
             "gridcolor": "white",
             "linecolor": "white",
             "minorgridcolor": "white",
             "startlinecolor": "#2a3f5f"
            },
            "baxis": {
             "endlinecolor": "#2a3f5f",
             "gridcolor": "white",
             "linecolor": "white",
             "minorgridcolor": "white",
             "startlinecolor": "#2a3f5f"
            },
            "type": "carpet"
           }
          ],
          "choropleth": [
           {
            "colorbar": {
             "outlinewidth": 0,
             "ticks": ""
            },
            "type": "choropleth"
           }
          ],
          "contour": [
           {
            "colorbar": {
             "outlinewidth": 0,
             "ticks": ""
            },
            "colorscale": [
             [
              0,
              "#0d0887"
             ],
             [
              0.1111111111111111,
              "#46039f"
             ],
             [
              0.2222222222222222,
              "#7201a8"
             ],
             [
              0.3333333333333333,
              "#9c179e"
             ],
             [
              0.4444444444444444,
              "#bd3786"
             ],
             [
              0.5555555555555556,
              "#d8576b"
             ],
             [
              0.6666666666666666,
              "#ed7953"
             ],
             [
              0.7777777777777778,
              "#fb9f3a"
             ],
             [
              0.8888888888888888,
              "#fdca26"
             ],
             [
              1,
              "#f0f921"
             ]
            ],
            "type": "contour"
           }
          ],
          "contourcarpet": [
           {
            "colorbar": {
             "outlinewidth": 0,
             "ticks": ""
            },
            "type": "contourcarpet"
           }
          ],
          "heatmap": [
           {
            "colorbar": {
             "outlinewidth": 0,
             "ticks": ""
            },
            "colorscale": [
             [
              0,
              "#0d0887"
             ],
             [
              0.1111111111111111,
              "#46039f"
             ],
             [
              0.2222222222222222,
              "#7201a8"
             ],
             [
              0.3333333333333333,
              "#9c179e"
             ],
             [
              0.4444444444444444,
              "#bd3786"
             ],
             [
              0.5555555555555556,
              "#d8576b"
             ],
             [
              0.6666666666666666,
              "#ed7953"
             ],
             [
              0.7777777777777778,
              "#fb9f3a"
             ],
             [
              0.8888888888888888,
              "#fdca26"
             ],
             [
              1,
              "#f0f921"
             ]
            ],
            "type": "heatmap"
           }
          ],
          "heatmapgl": [
           {
            "colorbar": {
             "outlinewidth": 0,
             "ticks": ""
            },
            "colorscale": [
             [
              0,
              "#0d0887"
             ],
             [
              0.1111111111111111,
              "#46039f"
             ],
             [
              0.2222222222222222,
              "#7201a8"
             ],
             [
              0.3333333333333333,
              "#9c179e"
             ],
             [
              0.4444444444444444,
              "#bd3786"
             ],
             [
              0.5555555555555556,
              "#d8576b"
             ],
             [
              0.6666666666666666,
              "#ed7953"
             ],
             [
              0.7777777777777778,
              "#fb9f3a"
             ],
             [
              0.8888888888888888,
              "#fdca26"
             ],
             [
              1,
              "#f0f921"
             ]
            ],
            "type": "heatmapgl"
           }
          ],
          "histogram": [
           {
            "marker": {
             "pattern": {
              "fillmode": "overlay",
              "size": 10,
              "solidity": 0.2
             }
            },
            "type": "histogram"
           }
          ],
          "histogram2d": [
           {
            "colorbar": {
             "outlinewidth": 0,
             "ticks": ""
            },
            "colorscale": [
             [
              0,
              "#0d0887"
             ],
             [
              0.1111111111111111,
              "#46039f"
             ],
             [
              0.2222222222222222,
              "#7201a8"
             ],
             [
              0.3333333333333333,
              "#9c179e"
             ],
             [
              0.4444444444444444,
              "#bd3786"
             ],
             [
              0.5555555555555556,
              "#d8576b"
             ],
             [
              0.6666666666666666,
              "#ed7953"
             ],
             [
              0.7777777777777778,
              "#fb9f3a"
             ],
             [
              0.8888888888888888,
              "#fdca26"
             ],
             [
              1,
              "#f0f921"
             ]
            ],
            "type": "histogram2d"
           }
          ],
          "histogram2dcontour": [
           {
            "colorbar": {
             "outlinewidth": 0,
             "ticks": ""
            },
            "colorscale": [
             [
              0,
              "#0d0887"
             ],
             [
              0.1111111111111111,
              "#46039f"
             ],
             [
              0.2222222222222222,
              "#7201a8"
             ],
             [
              0.3333333333333333,
              "#9c179e"
             ],
             [
              0.4444444444444444,
              "#bd3786"
             ],
             [
              0.5555555555555556,
              "#d8576b"
             ],
             [
              0.6666666666666666,
              "#ed7953"
             ],
             [
              0.7777777777777778,
              "#fb9f3a"
             ],
             [
              0.8888888888888888,
              "#fdca26"
             ],
             [
              1,
              "#f0f921"
             ]
            ],
            "type": "histogram2dcontour"
           }
          ],
          "mesh3d": [
           {
            "colorbar": {
             "outlinewidth": 0,
             "ticks": ""
            },
            "type": "mesh3d"
           }
          ],
          "parcoords": [
           {
            "line": {
             "colorbar": {
              "outlinewidth": 0,
              "ticks": ""
             }
            },
            "type": "parcoords"
           }
          ],
          "pie": [
           {
            "automargin": true,
            "type": "pie"
           }
          ],
          "scatter": [
           {
            "fillpattern": {
             "fillmode": "overlay",
             "size": 10,
             "solidity": 0.2
            },
            "type": "scatter"
           }
          ],
          "scatter3d": [
           {
            "line": {
             "colorbar": {
              "outlinewidth": 0,
              "ticks": ""
             }
            },
            "marker": {
             "colorbar": {
              "outlinewidth": 0,
              "ticks": ""
             }
            },
            "type": "scatter3d"
           }
          ],
          "scattercarpet": [
           {
            "marker": {
             "colorbar": {
              "outlinewidth": 0,
              "ticks": ""
             }
            },
            "type": "scattercarpet"
           }
          ],
          "scattergeo": [
           {
            "marker": {
             "colorbar": {
              "outlinewidth": 0,
              "ticks": ""
             }
            },
            "type": "scattergeo"
           }
          ],
          "scattergl": [
           {
            "marker": {
             "colorbar": {
              "outlinewidth": 0,
              "ticks": ""
             }
            },
            "type": "scattergl"
           }
          ],
          "scattermapbox": [
           {
            "marker": {
             "colorbar": {
              "outlinewidth": 0,
              "ticks": ""
             }
            },
            "type": "scattermapbox"
           }
          ],
          "scatterpolar": [
           {
            "marker": {
             "colorbar": {
              "outlinewidth": 0,
              "ticks": ""
             }
            },
            "type": "scatterpolar"
           }
          ],
          "scatterpolargl": [
           {
            "marker": {
             "colorbar": {
              "outlinewidth": 0,
              "ticks": ""
             }
            },
            "type": "scatterpolargl"
           }
          ],
          "scatterternary": [
           {
            "marker": {
             "colorbar": {
              "outlinewidth": 0,
              "ticks": ""
             }
            },
            "type": "scatterternary"
           }
          ],
          "surface": [
           {
            "colorbar": {
             "outlinewidth": 0,
             "ticks": ""
            },
            "colorscale": [
             [
              0,
              "#0d0887"
             ],
             [
              0.1111111111111111,
              "#46039f"
             ],
             [
              0.2222222222222222,
              "#7201a8"
             ],
             [
              0.3333333333333333,
              "#9c179e"
             ],
             [
              0.4444444444444444,
              "#bd3786"
             ],
             [
              0.5555555555555556,
              "#d8576b"
             ],
             [
              0.6666666666666666,
              "#ed7953"
             ],
             [
              0.7777777777777778,
              "#fb9f3a"
             ],
             [
              0.8888888888888888,
              "#fdca26"
             ],
             [
              1,
              "#f0f921"
             ]
            ],
            "type": "surface"
           }
          ],
          "table": [
           {
            "cells": {
             "fill": {
              "color": "#EBF0F8"
             },
             "line": {
              "color": "white"
             }
            },
            "header": {
             "fill": {
              "color": "#C8D4E3"
             },
             "line": {
              "color": "white"
             }
            },
            "type": "table"
           }
          ]
         },
         "layout": {
          "annotationdefaults": {
           "arrowcolor": "#2a3f5f",
           "arrowhead": 0,
           "arrowwidth": 1
          },
          "autotypenumbers": "strict",
          "coloraxis": {
           "colorbar": {
            "outlinewidth": 0,
            "ticks": ""
           }
          },
          "colorscale": {
           "diverging": [
            [
             0,
             "#8e0152"
            ],
            [
             0.1,
             "#c51b7d"
            ],
            [
             0.2,
             "#de77ae"
            ],
            [
             0.3,
             "#f1b6da"
            ],
            [
             0.4,
             "#fde0ef"
            ],
            [
             0.5,
             "#f7f7f7"
            ],
            [
             0.6,
             "#e6f5d0"
            ],
            [
             0.7,
             "#b8e186"
            ],
            [
             0.8,
             "#7fbc41"
            ],
            [
             0.9,
             "#4d9221"
            ],
            [
             1,
             "#276419"
            ]
           ],
           "sequential": [
            [
             0,
             "#0d0887"
            ],
            [
             0.1111111111111111,
             "#46039f"
            ],
            [
             0.2222222222222222,
             "#7201a8"
            ],
            [
             0.3333333333333333,
             "#9c179e"
            ],
            [
             0.4444444444444444,
             "#bd3786"
            ],
            [
             0.5555555555555556,
             "#d8576b"
            ],
            [
             0.6666666666666666,
             "#ed7953"
            ],
            [
             0.7777777777777778,
             "#fb9f3a"
            ],
            [
             0.8888888888888888,
             "#fdca26"
            ],
            [
             1,
             "#f0f921"
            ]
           ],
           "sequentialminus": [
            [
             0,
             "#0d0887"
            ],
            [
             0.1111111111111111,
             "#46039f"
            ],
            [
             0.2222222222222222,
             "#7201a8"
            ],
            [
             0.3333333333333333,
             "#9c179e"
            ],
            [
             0.4444444444444444,
             "#bd3786"
            ],
            [
             0.5555555555555556,
             "#d8576b"
            ],
            [
             0.6666666666666666,
             "#ed7953"
            ],
            [
             0.7777777777777778,
             "#fb9f3a"
            ],
            [
             0.8888888888888888,
             "#fdca26"
            ],
            [
             1,
             "#f0f921"
            ]
           ]
          },
          "colorway": [
           "#636efa",
           "#EF553B",
           "#00cc96",
           "#ab63fa",
           "#FFA15A",
           "#19d3f3",
           "#FF6692",
           "#B6E880",
           "#FF97FF",
           "#FECB52"
          ],
          "font": {
           "color": "#2a3f5f"
          },
          "geo": {
           "bgcolor": "white",
           "lakecolor": "white",
           "landcolor": "#E5ECF6",
           "showlakes": true,
           "showland": true,
           "subunitcolor": "white"
          },
          "hoverlabel": {
           "align": "left"
          },
          "hovermode": "closest",
          "mapbox": {
           "style": "light"
          },
          "paper_bgcolor": "white",
          "plot_bgcolor": "#E5ECF6",
          "polar": {
           "angularaxis": {
            "gridcolor": "white",
            "linecolor": "white",
            "ticks": ""
           },
           "bgcolor": "#E5ECF6",
           "radialaxis": {
            "gridcolor": "white",
            "linecolor": "white",
            "ticks": ""
           }
          },
          "scene": {
           "xaxis": {
            "backgroundcolor": "#E5ECF6",
            "gridcolor": "white",
            "gridwidth": 2,
            "linecolor": "white",
            "showbackground": true,
            "ticks": "",
            "zerolinecolor": "white"
           },
           "yaxis": {
            "backgroundcolor": "#E5ECF6",
            "gridcolor": "white",
            "gridwidth": 2,
            "linecolor": "white",
            "showbackground": true,
            "ticks": "",
            "zerolinecolor": "white"
           },
           "zaxis": {
            "backgroundcolor": "#E5ECF6",
            "gridcolor": "white",
            "gridwidth": 2,
            "linecolor": "white",
            "showbackground": true,
            "ticks": "",
            "zerolinecolor": "white"
           }
          },
          "shapedefaults": {
           "line": {
            "color": "#2a3f5f"
           }
          },
          "ternary": {
           "aaxis": {
            "gridcolor": "white",
            "linecolor": "white",
            "ticks": ""
           },
           "baxis": {
            "gridcolor": "white",
            "linecolor": "white",
            "ticks": ""
           },
           "bgcolor": "#E5ECF6",
           "caxis": {
            "gridcolor": "white",
            "linecolor": "white",
            "ticks": ""
           }
          },
          "title": {
           "x": 0.05
          },
          "xaxis": {
           "automargin": true,
           "gridcolor": "white",
           "linecolor": "white",
           "ticks": "",
           "title": {
            "standoff": 15
           },
           "zerolinecolor": "white",
           "zerolinewidth": 2
          },
          "yaxis": {
           "automargin": true,
           "gridcolor": "white",
           "linecolor": "white",
           "ticks": "",
           "title": {
            "standoff": 15
           },
           "zerolinecolor": "white",
           "zerolinewidth": 2
          }
         }
        },
        "title": {
         "font": {
          "color": "#001c40",
          "family": "Baskerville, Bold",
          "size": 40
         },
         "text": "Average Number of Pages by Genre<br><sup>Books grounded in reality need more pages to fully explain concepts and ideas"
        },
        "xaxis": {
         "gridcolor": "#cbcbcb",
         "linecolor": "black",
         "showgrid": false,
         "showline": true,
         "title": {},
         "zerolinewidth": 1
        },
        "yaxis": {
         "gridcolor": "#cbcbcb",
         "linecolor": "black",
         "showgrid": true,
         "showline": false,
         "showticklabels": true,
         "title": {},
         "zerolinewidth": 1
        },
        "yaxis2": {
         "gridcolor": "#cbcbcb",
         "linecolor": "black",
         "showgrid": true,
         "showline": false,
         "showticklabels": true,
         "zerolinewidth": 1
        }
       }
      },
      "text/html": [
       "<div>                            <div id=\"f51d08ec-1f7b-4614-ae96-df92c1411264\" class=\"plotly-graph-div\" style=\"height:600px; width:100%;\"></div>            <script type=\"text/javascript\">                require([\"plotly\"], function(Plotly) {                    window.PLOTLYENV=window.PLOTLYENV || {};                                    if (document.getElementById(\"f51d08ec-1f7b-4614-ae96-df92c1411264\")) {                    Plotly.newPlot(                        \"f51d08ec-1f7b-4614-ae96-df92c1411264\",                        [{\"customdata\":[[\"6\",\"Pages\"],[\"1\",\"Pages\"],[\"12\",\"Pages\"],[\"125\",\"Pages\"],[\"6\",\"Pages\"]],\"hovertemplate\":\"\\u003cb\\u003e%{x} Books\\u003c\\u002fb\\u003e: %{customdata[0]}\\u003cbr\\u003e\\u003cb\\u003eAvg. %{customdata[1]}\\u003c\\u002fb\\u003e: %{y}\",\"marker\":{\"color\":[\"#d27575\",\"#529b9c\",\"#eac392\",\"#9cba8f\",\"#675a55\",\"#d27575\",\"#529b9c\",\"#eac392\",\"#9cba8f\",\"#675a55\",\"#d27575\",\"#529b9c\",\"#eac392\",\"#9cba8f\",\"#675a55\",\"#d27575\",\"#529b9c\",\"#eac392\",\"#9cba8f\",\"#675a55\",\"#d27575\",\"#529b9c\",\"#eac392\",\"#9cba8f\",\"#675a55\"]},\"name\":\"\",\"x\":[\"Science\",\"Psychology\",\"Nonfiction\",\"Fiction\",\"Philosophy\"],\"y\":[325.0,288.0,282.08,239.46,196.5],\"type\":\"bar\"}],                        {\"template\":{\"data\":{\"histogram2dcontour\":[{\"type\":\"histogram2dcontour\",\"colorbar\":{\"outlinewidth\":0,\"ticks\":\"\"},\"colorscale\":[[0.0,\"#0d0887\"],[0.1111111111111111,\"#46039f\"],[0.2222222222222222,\"#7201a8\"],[0.3333333333333333,\"#9c179e\"],[0.4444444444444444,\"#bd3786\"],[0.5555555555555556,\"#d8576b\"],[0.6666666666666666,\"#ed7953\"],[0.7777777777777778,\"#fb9f3a\"],[0.8888888888888888,\"#fdca26\"],[1.0,\"#f0f921\"]]}],\"choropleth\":[{\"type\":\"choropleth\",\"colorbar\":{\"outlinewidth\":0,\"ticks\":\"\"}}],\"histogram2d\":[{\"type\":\"histogram2d\",\"colorbar\":{\"outlinewidth\":0,\"ticks\":\"\"},\"colorscale\":[[0.0,\"#0d0887\"],[0.1111111111111111,\"#46039f\"],[0.2222222222222222,\"#7201a8\"],[0.3333333333333333,\"#9c179e\"],[0.4444444444444444,\"#bd3786\"],[0.5555555555555556,\"#d8576b\"],[0.6666666666666666,\"#ed7953\"],[0.7777777777777778,\"#fb9f3a\"],[0.8888888888888888,\"#fdca26\"],[1.0,\"#f0f921\"]]}],\"heatmap\":[{\"type\":\"heatmap\",\"colorbar\":{\"outlinewidth\":0,\"ticks\":\"\"},\"colorscale\":[[0.0,\"#0d0887\"],[0.1111111111111111,\"#46039f\"],[0.2222222222222222,\"#7201a8\"],[0.3333333333333333,\"#9c179e\"],[0.4444444444444444,\"#bd3786\"],[0.5555555555555556,\"#d8576b\"],[0.6666666666666666,\"#ed7953\"],[0.7777777777777778,\"#fb9f3a\"],[0.8888888888888888,\"#fdca26\"],[1.0,\"#f0f921\"]]}],\"heatmapgl\":[{\"type\":\"heatmapgl\",\"colorbar\":{\"outlinewidth\":0,\"ticks\":\"\"},\"colorscale\":[[0.0,\"#0d0887\"],[0.1111111111111111,\"#46039f\"],[0.2222222222222222,\"#7201a8\"],[0.3333333333333333,\"#9c179e\"],[0.4444444444444444,\"#bd3786\"],[0.5555555555555556,\"#d8576b\"],[0.6666666666666666,\"#ed7953\"],[0.7777777777777778,\"#fb9f3a\"],[0.8888888888888888,\"#fdca26\"],[1.0,\"#f0f921\"]]}],\"contourcarpet\":[{\"type\":\"contourcarpet\",\"colorbar\":{\"outlinewidth\":0,\"ticks\":\"\"}}],\"contour\":[{\"type\":\"contour\",\"colorbar\":{\"outlinewidth\":0,\"ticks\":\"\"},\"colorscale\":[[0.0,\"#0d0887\"],[0.1111111111111111,\"#46039f\"],[0.2222222222222222,\"#7201a8\"],[0.3333333333333333,\"#9c179e\"],[0.4444444444444444,\"#bd3786\"],[0.5555555555555556,\"#d8576b\"],[0.6666666666666666,\"#ed7953\"],[0.7777777777777778,\"#fb9f3a\"],[0.8888888888888888,\"#fdca26\"],[1.0,\"#f0f921\"]]}],\"surface\":[{\"type\":\"surface\",\"colorbar\":{\"outlinewidth\":0,\"ticks\":\"\"},\"colorscale\":[[0.0,\"#0d0887\"],[0.1111111111111111,\"#46039f\"],[0.2222222222222222,\"#7201a8\"],[0.3333333333333333,\"#9c179e\"],[0.4444444444444444,\"#bd3786\"],[0.5555555555555556,\"#d8576b\"],[0.6666666666666666,\"#ed7953\"],[0.7777777777777778,\"#fb9f3a\"],[0.8888888888888888,\"#fdca26\"],[1.0,\"#f0f921\"]]}],\"mesh3d\":[{\"type\":\"mesh3d\",\"colorbar\":{\"outlinewidth\":0,\"ticks\":\"\"}}],\"scatter\":[{\"fillpattern\":{\"fillmode\":\"overlay\",\"size\":10,\"solidity\":0.2},\"type\":\"scatter\"}],\"parcoords\":[{\"type\":\"parcoords\",\"line\":{\"colorbar\":{\"outlinewidth\":0,\"ticks\":\"\"}}}],\"scatterpolargl\":[{\"type\":\"scatterpolargl\",\"marker\":{\"colorbar\":{\"outlinewidth\":0,\"ticks\":\"\"}}}],\"bar\":[{\"error_x\":{\"color\":\"#2a3f5f\"},\"error_y\":{\"color\":\"#2a3f5f\"},\"marker\":{\"line\":{\"color\":\"#E5ECF6\",\"width\":0.5},\"pattern\":{\"fillmode\":\"overlay\",\"size\":10,\"solidity\":0.2}},\"type\":\"bar\"}],\"scattergeo\":[{\"type\":\"scattergeo\",\"marker\":{\"colorbar\":{\"outlinewidth\":0,\"ticks\":\"\"}}}],\"scatterpolar\":[{\"type\":\"scatterpolar\",\"marker\":{\"colorbar\":{\"outlinewidth\":0,\"ticks\":\"\"}}}],\"histogram\":[{\"marker\":{\"pattern\":{\"fillmode\":\"overlay\",\"size\":10,\"solidity\":0.2}},\"type\":\"histogram\"}],\"scattergl\":[{\"type\":\"scattergl\",\"marker\":{\"colorbar\":{\"outlinewidth\":0,\"ticks\":\"\"}}}],\"scatter3d\":[{\"type\":\"scatter3d\",\"line\":{\"colorbar\":{\"outlinewidth\":0,\"ticks\":\"\"}},\"marker\":{\"colorbar\":{\"outlinewidth\":0,\"ticks\":\"\"}}}],\"scattermapbox\":[{\"type\":\"scattermapbox\",\"marker\":{\"colorbar\":{\"outlinewidth\":0,\"ticks\":\"\"}}}],\"scatterternary\":[{\"type\":\"scatterternary\",\"marker\":{\"colorbar\":{\"outlinewidth\":0,\"ticks\":\"\"}}}],\"scattercarpet\":[{\"type\":\"scattercarpet\",\"marker\":{\"colorbar\":{\"outlinewidth\":0,\"ticks\":\"\"}}}],\"carpet\":[{\"aaxis\":{\"endlinecolor\":\"#2a3f5f\",\"gridcolor\":\"white\",\"linecolor\":\"white\",\"minorgridcolor\":\"white\",\"startlinecolor\":\"#2a3f5f\"},\"baxis\":{\"endlinecolor\":\"#2a3f5f\",\"gridcolor\":\"white\",\"linecolor\":\"white\",\"minorgridcolor\":\"white\",\"startlinecolor\":\"#2a3f5f\"},\"type\":\"carpet\"}],\"table\":[{\"cells\":{\"fill\":{\"color\":\"#EBF0F8\"},\"line\":{\"color\":\"white\"}},\"header\":{\"fill\":{\"color\":\"#C8D4E3\"},\"line\":{\"color\":\"white\"}},\"type\":\"table\"}],\"barpolar\":[{\"marker\":{\"line\":{\"color\":\"#E5ECF6\",\"width\":0.5},\"pattern\":{\"fillmode\":\"overlay\",\"size\":10,\"solidity\":0.2}},\"type\":\"barpolar\"}],\"pie\":[{\"automargin\":true,\"type\":\"pie\"}]},\"layout\":{\"autotypenumbers\":\"strict\",\"colorway\":[\"#636efa\",\"#EF553B\",\"#00cc96\",\"#ab63fa\",\"#FFA15A\",\"#19d3f3\",\"#FF6692\",\"#B6E880\",\"#FF97FF\",\"#FECB52\"],\"font\":{\"color\":\"#2a3f5f\"},\"hovermode\":\"closest\",\"hoverlabel\":{\"align\":\"left\"},\"paper_bgcolor\":\"white\",\"plot_bgcolor\":\"#E5ECF6\",\"polar\":{\"bgcolor\":\"#E5ECF6\",\"angularaxis\":{\"gridcolor\":\"white\",\"linecolor\":\"white\",\"ticks\":\"\"},\"radialaxis\":{\"gridcolor\":\"white\",\"linecolor\":\"white\",\"ticks\":\"\"}},\"ternary\":{\"bgcolor\":\"#E5ECF6\",\"aaxis\":{\"gridcolor\":\"white\",\"linecolor\":\"white\",\"ticks\":\"\"},\"baxis\":{\"gridcolor\":\"white\",\"linecolor\":\"white\",\"ticks\":\"\"},\"caxis\":{\"gridcolor\":\"white\",\"linecolor\":\"white\",\"ticks\":\"\"}},\"coloraxis\":{\"colorbar\":{\"outlinewidth\":0,\"ticks\":\"\"}},\"colorscale\":{\"sequential\":[[0.0,\"#0d0887\"],[0.1111111111111111,\"#46039f\"],[0.2222222222222222,\"#7201a8\"],[0.3333333333333333,\"#9c179e\"],[0.4444444444444444,\"#bd3786\"],[0.5555555555555556,\"#d8576b\"],[0.6666666666666666,\"#ed7953\"],[0.7777777777777778,\"#fb9f3a\"],[0.8888888888888888,\"#fdca26\"],[1.0,\"#f0f921\"]],\"sequentialminus\":[[0.0,\"#0d0887\"],[0.1111111111111111,\"#46039f\"],[0.2222222222222222,\"#7201a8\"],[0.3333333333333333,\"#9c179e\"],[0.4444444444444444,\"#bd3786\"],[0.5555555555555556,\"#d8576b\"],[0.6666666666666666,\"#ed7953\"],[0.7777777777777778,\"#fb9f3a\"],[0.8888888888888888,\"#fdca26\"],[1.0,\"#f0f921\"]],\"diverging\":[[0,\"#8e0152\"],[0.1,\"#c51b7d\"],[0.2,\"#de77ae\"],[0.3,\"#f1b6da\"],[0.4,\"#fde0ef\"],[0.5,\"#f7f7f7\"],[0.6,\"#e6f5d0\"],[0.7,\"#b8e186\"],[0.8,\"#7fbc41\"],[0.9,\"#4d9221\"],[1,\"#276419\"]]},\"xaxis\":{\"gridcolor\":\"white\",\"linecolor\":\"white\",\"ticks\":\"\",\"title\":{\"standoff\":15},\"zerolinecolor\":\"white\",\"automargin\":true,\"zerolinewidth\":2},\"yaxis\":{\"gridcolor\":\"white\",\"linecolor\":\"white\",\"ticks\":\"\",\"title\":{\"standoff\":15},\"zerolinecolor\":\"white\",\"automargin\":true,\"zerolinewidth\":2},\"scene\":{\"xaxis\":{\"backgroundcolor\":\"#E5ECF6\",\"gridcolor\":\"white\",\"linecolor\":\"white\",\"showbackground\":true,\"ticks\":\"\",\"zerolinecolor\":\"white\",\"gridwidth\":2},\"yaxis\":{\"backgroundcolor\":\"#E5ECF6\",\"gridcolor\":\"white\",\"linecolor\":\"white\",\"showbackground\":true,\"ticks\":\"\",\"zerolinecolor\":\"white\",\"gridwidth\":2},\"zaxis\":{\"backgroundcolor\":\"#E5ECF6\",\"gridcolor\":\"white\",\"linecolor\":\"white\",\"showbackground\":true,\"ticks\":\"\",\"zerolinecolor\":\"white\",\"gridwidth\":2}},\"shapedefaults\":{\"line\":{\"color\":\"#2a3f5f\"}},\"annotationdefaults\":{\"arrowcolor\":\"#2a3f5f\",\"arrowhead\":0,\"arrowwidth\":1},\"geo\":{\"bgcolor\":\"white\",\"landcolor\":\"#E5ECF6\",\"subunitcolor\":\"white\",\"showland\":true,\"showlakes\":true,\"lakecolor\":\"white\"},\"title\":{\"x\":0.05},\"mapbox\":{\"style\":\"light\"}}},\"shapes\":[{\"line\":{\"color\":\"#8e7cc3\",\"dash\":\"dash\",\"width\":2},\"type\":\"line\",\"x0\":0,\"x1\":1,\"xref\":\"x domain\",\"y0\":244.8964,\"y1\":244.8964,\"yref\":\"y\"}],\"annotations\":[{\"bgcolor\":\"#b4a7d6\",\"bordercolor\":\"#c7c7c7\",\"borderpad\":3,\"borderwidth\":1,\"opacity\":0.8,\"showarrow\":false,\"text\":\"Weighted Avg: 244.90\",\"x\":1,\"xanchor\":\"right\",\"xref\":\"x domain\",\"y\":244.8964,\"yanchor\":\"bottom\",\"yref\":\"y\"}],\"title\":{\"font\":{\"size\":40,\"family\":\"Baskerville, Bold\",\"color\":\"#001c40\"},\"text\":\"Average Number of Pages by Genre\\u003cbr\\u003e\\u003csup\\u003eBooks grounded in reality need more pages to fully explain concepts and ideas\"},\"margin\":{\"l\":85,\"r\":85,\"t\":120,\"b\":45},\"xaxis\":{\"title\":{},\"showgrid\":false,\"showline\":true,\"linecolor\":\"black\",\"gridcolor\":\"#cbcbcb\",\"zerolinewidth\":1},\"yaxis\":{\"title\":{},\"showgrid\":true,\"showline\":false,\"showticklabels\":true,\"linecolor\":\"black\",\"gridcolor\":\"#cbcbcb\",\"zerolinewidth\":1},\"yaxis2\":{\"showgrid\":true,\"showline\":false,\"showticklabels\":true,\"linecolor\":\"black\",\"gridcolor\":\"#cbcbcb\",\"zerolinewidth\":1},\"font\":{\"family\":\"Baskerville\",\"color\":\"#001c40\",\"size\":14},\"hoverlabel\":{\"font\":{\"size\":16}},\"height\":600,\"showlegend\":false,\"barmode\":\"group\",\"plot_bgcolor\":\"#f0f0f0\",\"paper_bgcolor\":\"#f0f0f0\"},                        {\"modeBarButtonsToRemove\": [\"zoomIn\", \"zoomOut\", \"resetScale2d\", \"select2d\", \"lasso2d\"], \"responsive\": true, \"displaylogo\": false, \"toImageButtonOptions\": {\"format\": \"png\", \"filename\": \"reading-habits\", \"scale\": 1}}                    ).then(function(){\n",
       "                            \n",
       "var gd = document.getElementById('f51d08ec-1f7b-4614-ae96-df92c1411264');\n",
       "var x = new MutationObserver(function (mutations, observer) {{\n",
       "        var display = window.getComputedStyle(gd).display;\n",
       "        if (!display || display === 'none') {{\n",
       "            console.log([gd, 'removed!']);\n",
       "            Plotly.purge(gd);\n",
       "            observer.disconnect();\n",
       "        }}\n",
       "}});\n",
       "\n",
       "// Listen for the removal of the full notebook cells\n",
       "var notebookContainer = gd.closest('#notebook-container');\n",
       "if (notebookContainer) {{\n",
       "    x.observe(notebookContainer, {childList: true});\n",
       "}}\n",
       "\n",
       "// Listen for the clearing of the current output cell\n",
       "var outputEl = gd.closest('.output');\n",
       "if (outputEl) {{\n",
       "    x.observe(outputEl, {childList: true});\n",
       "}}\n",
       "\n",
       "                        })                };                });            </script>        </div>"
      ]
     },
     "metadata": {},
     "output_type": "display_data"
    }
   ],
   "source": [
    "dfc = df.groupby('Genre')['Pages'].mean().round(2).reset_index()\n",
    "dfc['Total'] = df.groupby('Genre')['Title'].count().reset_index(drop=True)\n",
    "dfc = dfc.sort_values('Pages', ascending=False).reset_index(drop=True)\n",
    "\n",
    "title = \"Average Number of Pages by Genre\"\n",
    "sub = f\"Books grounded in reality need more pages to fully explain concepts and ideas\"\n",
    "plot.gen_bar_graph(dfc, 'Genre', title, sub, avg=True, w_avg='Pages')"
   ]
  },
  {
   "cell_type": "code",
   "execution_count": 42,
   "id": "2b14a032-e1c8-4317-bc85-494b09b478c0",
   "metadata": {
    "execution": {
     "iopub.execute_input": "2024-07-27T23:38:50.583131Z",
     "iopub.status.busy": "2024-07-27T23:38:50.583131Z",
     "iopub.status.idle": "2024-07-27T23:38:50.614052Z",
     "shell.execute_reply": "2024-07-27T23:38:50.614052Z",
     "shell.execute_reply.started": "2024-07-27T23:38:50.583131Z"
    },
    "tags": []
   },
   "outputs": [
    {
     "data": {
      "application/vnd.plotly.v1+json": {
       "config": {
        "displaylogo": false,
        "modeBarButtonsToRemove": [
         "zoomIn",
         "zoomOut",
         "resetScale2d",
         "select2d",
         "lasso2d"
        ],
        "plotlyServerURL": "https://plot.ly",
        "responsive": true,
        "toImageButtonOptions": {
         "filename": "reading-habits",
         "format": "png",
         "scale": 1
        }
       },
       "data": [
        {
         "customdata": [
          [
           "1",
           "Pages"
          ],
          [
           "9",
           "Pages"
          ],
          [
           "5",
           "Pages"
          ],
          [
           "2",
           "Pages"
          ],
          [
           "80",
           "Pages"
          ],
          [
           "1",
           "Pages"
          ],
          [
           "2",
           "Pages"
          ],
          [
           "1",
           "Pages"
          ],
          [
           "1",
           "Pages"
          ],
          [
           "2",
           "Pages"
          ],
          [
           "4",
           "Pages"
          ],
          [
           "6",
           "Pages"
          ],
          [
           "10",
           "Pages"
          ],
          [
           "1",
           "Pages"
          ],
          [
           "1",
           "Pages"
          ],
          [
           "13",
           "Pages"
          ],
          [
           "2",
           "Pages"
          ],
          [
           "3",
           "Pages"
          ],
          [
           "6",
           "Pages"
          ]
         ],
         "hovertemplate": "<b>%{y} Books</b>: %{customdata[0]}<br><b>Avg. %{customdata[1]}</b>: %{x}",
         "marker": {
          "color": [
           "#d27575",
           "#529b9c",
           "#eac392",
           "#9cba8f",
           "#675a55",
           "#d27575",
           "#529b9c",
           "#eac392",
           "#9cba8f",
           "#675a55",
           "#d27575",
           "#529b9c",
           "#eac392",
           "#9cba8f",
           "#675a55",
           "#d27575",
           "#529b9c",
           "#eac392",
           "#9cba8f",
           "#675a55",
           "#d27575",
           "#529b9c",
           "#eac392",
           "#9cba8f",
           "#675a55",
           "#d27575",
           "#529b9c",
           "#eac392",
           "#9cba8f",
           "#675a55",
           "#d27575",
           "#529b9c",
           "#eac392",
           "#9cba8f",
           "#675a55",
           "#d27575",
           "#529b9c",
           "#eac392",
           "#9cba8f",
           "#675a55",
           "#d27575",
           "#529b9c",
           "#eac392",
           "#9cba8f",
           "#675a55",
           "#d27575",
           "#529b9c",
           "#eac392",
           "#9cba8f",
           "#675a55",
           "#d27575",
           "#529b9c",
           "#eac392",
           "#9cba8f",
           "#675a55",
           "#d27575",
           "#529b9c",
           "#eac392",
           "#9cba8f",
           "#675a55",
           "#d27575",
           "#529b9c",
           "#eac392",
           "#9cba8f",
           "#675a55",
           "#d27575",
           "#529b9c",
           "#eac392",
           "#9cba8f",
           "#675a55",
           "#d27575",
           "#529b9c",
           "#eac392",
           "#9cba8f",
           "#675a55",
           "#d27575",
           "#529b9c",
           "#eac392",
           "#9cba8f",
           "#675a55",
           "#d27575",
           "#529b9c",
           "#eac392",
           "#9cba8f",
           "#675a55",
           "#d27575",
           "#529b9c",
           "#eac392",
           "#9cba8f",
           "#675a55",
           "#d27575",
           "#529b9c",
           "#eac392",
           "#9cba8f",
           "#675a55"
          ]
         },
         "name": "",
         "orientation": "h",
         "type": "bar",
         "x": [
          154,
          198.78,
          214,
          215,
          215.5,
          234,
          240,
          240,
          246,
          252,
          252.75,
          255.83,
          273.5,
          292,
          299,
          327.85,
          341.5,
          349.33,
          413.67
         ],
         "y": [
          "Young Adult",
          "Classics",
          "Cultural",
          "German Literature",
          "Warhammer 40k",
          "Psychology",
          "Memoir",
          "Short Stories",
          "Poetry",
          "Graphic Novel",
          "Science Fiction",
          "Self Help",
          "Nonfiction",
          "Mystery",
          "Programming",
          "Historical Fiction",
          "Contemporary",
          "History",
          "Fantasy"
         ]
        }
       ],
       "layout": {
        "annotations": [
         {
          "bgcolor": "#b4a7d6",
          "bordercolor": "#c7c7c7",
          "borderpad": 3,
          "borderwidth": 1,
          "opacity": 0.8,
          "showarrow": false,
          "text": "Weighted Avg: 244.89",
          "x": 244.89373333333333,
          "xanchor": "left",
          "xref": "x",
          "y": 1,
          "yanchor": "top",
          "yref": "y domain"
         }
        ],
        "barmode": "group",
        "font": {
         "color": "#001c40",
         "family": "Baskerville",
         "size": 14
        },
        "height": 600,
        "hoverlabel": {
         "font": {
          "size": 16
         }
        },
        "margin": {
         "b": 45,
         "l": 85,
         "r": 85,
         "t": 120
        },
        "paper_bgcolor": "#f0f0f0",
        "plot_bgcolor": "#f0f0f0",
        "shapes": [
         {
          "line": {
           "color": "#8e7cc3",
           "dash": "dash",
           "width": 2
          },
          "type": "line",
          "x0": 244.89373333333333,
          "x1": 244.89373333333333,
          "xref": "x",
          "y0": 0,
          "y1": 1,
          "yref": "y domain"
         }
        ],
        "showlegend": false,
        "template": {
         "data": {
          "bar": [
           {
            "error_x": {
             "color": "#2a3f5f"
            },
            "error_y": {
             "color": "#2a3f5f"
            },
            "marker": {
             "line": {
              "color": "#E5ECF6",
              "width": 0.5
             },
             "pattern": {
              "fillmode": "overlay",
              "size": 10,
              "solidity": 0.2
             }
            },
            "type": "bar"
           }
          ],
          "barpolar": [
           {
            "marker": {
             "line": {
              "color": "#E5ECF6",
              "width": 0.5
             },
             "pattern": {
              "fillmode": "overlay",
              "size": 10,
              "solidity": 0.2
             }
            },
            "type": "barpolar"
           }
          ],
          "carpet": [
           {
            "aaxis": {
             "endlinecolor": "#2a3f5f",
             "gridcolor": "white",
             "linecolor": "white",
             "minorgridcolor": "white",
             "startlinecolor": "#2a3f5f"
            },
            "baxis": {
             "endlinecolor": "#2a3f5f",
             "gridcolor": "white",
             "linecolor": "white",
             "minorgridcolor": "white",
             "startlinecolor": "#2a3f5f"
            },
            "type": "carpet"
           }
          ],
          "choropleth": [
           {
            "colorbar": {
             "outlinewidth": 0,
             "ticks": ""
            },
            "type": "choropleth"
           }
          ],
          "contour": [
           {
            "colorbar": {
             "outlinewidth": 0,
             "ticks": ""
            },
            "colorscale": [
             [
              0,
              "#0d0887"
             ],
             [
              0.1111111111111111,
              "#46039f"
             ],
             [
              0.2222222222222222,
              "#7201a8"
             ],
             [
              0.3333333333333333,
              "#9c179e"
             ],
             [
              0.4444444444444444,
              "#bd3786"
             ],
             [
              0.5555555555555556,
              "#d8576b"
             ],
             [
              0.6666666666666666,
              "#ed7953"
             ],
             [
              0.7777777777777778,
              "#fb9f3a"
             ],
             [
              0.8888888888888888,
              "#fdca26"
             ],
             [
              1,
              "#f0f921"
             ]
            ],
            "type": "contour"
           }
          ],
          "contourcarpet": [
           {
            "colorbar": {
             "outlinewidth": 0,
             "ticks": ""
            },
            "type": "contourcarpet"
           }
          ],
          "heatmap": [
           {
            "colorbar": {
             "outlinewidth": 0,
             "ticks": ""
            },
            "colorscale": [
             [
              0,
              "#0d0887"
             ],
             [
              0.1111111111111111,
              "#46039f"
             ],
             [
              0.2222222222222222,
              "#7201a8"
             ],
             [
              0.3333333333333333,
              "#9c179e"
             ],
             [
              0.4444444444444444,
              "#bd3786"
             ],
             [
              0.5555555555555556,
              "#d8576b"
             ],
             [
              0.6666666666666666,
              "#ed7953"
             ],
             [
              0.7777777777777778,
              "#fb9f3a"
             ],
             [
              0.8888888888888888,
              "#fdca26"
             ],
             [
              1,
              "#f0f921"
             ]
            ],
            "type": "heatmap"
           }
          ],
          "heatmapgl": [
           {
            "colorbar": {
             "outlinewidth": 0,
             "ticks": ""
            },
            "colorscale": [
             [
              0,
              "#0d0887"
             ],
             [
              0.1111111111111111,
              "#46039f"
             ],
             [
              0.2222222222222222,
              "#7201a8"
             ],
             [
              0.3333333333333333,
              "#9c179e"
             ],
             [
              0.4444444444444444,
              "#bd3786"
             ],
             [
              0.5555555555555556,
              "#d8576b"
             ],
             [
              0.6666666666666666,
              "#ed7953"
             ],
             [
              0.7777777777777778,
              "#fb9f3a"
             ],
             [
              0.8888888888888888,
              "#fdca26"
             ],
             [
              1,
              "#f0f921"
             ]
            ],
            "type": "heatmapgl"
           }
          ],
          "histogram": [
           {
            "marker": {
             "pattern": {
              "fillmode": "overlay",
              "size": 10,
              "solidity": 0.2
             }
            },
            "type": "histogram"
           }
          ],
          "histogram2d": [
           {
            "colorbar": {
             "outlinewidth": 0,
             "ticks": ""
            },
            "colorscale": [
             [
              0,
              "#0d0887"
             ],
             [
              0.1111111111111111,
              "#46039f"
             ],
             [
              0.2222222222222222,
              "#7201a8"
             ],
             [
              0.3333333333333333,
              "#9c179e"
             ],
             [
              0.4444444444444444,
              "#bd3786"
             ],
             [
              0.5555555555555556,
              "#d8576b"
             ],
             [
              0.6666666666666666,
              "#ed7953"
             ],
             [
              0.7777777777777778,
              "#fb9f3a"
             ],
             [
              0.8888888888888888,
              "#fdca26"
             ],
             [
              1,
              "#f0f921"
             ]
            ],
            "type": "histogram2d"
           }
          ],
          "histogram2dcontour": [
           {
            "colorbar": {
             "outlinewidth": 0,
             "ticks": ""
            },
            "colorscale": [
             [
              0,
              "#0d0887"
             ],
             [
              0.1111111111111111,
              "#46039f"
             ],
             [
              0.2222222222222222,
              "#7201a8"
             ],
             [
              0.3333333333333333,
              "#9c179e"
             ],
             [
              0.4444444444444444,
              "#bd3786"
             ],
             [
              0.5555555555555556,
              "#d8576b"
             ],
             [
              0.6666666666666666,
              "#ed7953"
             ],
             [
              0.7777777777777778,
              "#fb9f3a"
             ],
             [
              0.8888888888888888,
              "#fdca26"
             ],
             [
              1,
              "#f0f921"
             ]
            ],
            "type": "histogram2dcontour"
           }
          ],
          "mesh3d": [
           {
            "colorbar": {
             "outlinewidth": 0,
             "ticks": ""
            },
            "type": "mesh3d"
           }
          ],
          "parcoords": [
           {
            "line": {
             "colorbar": {
              "outlinewidth": 0,
              "ticks": ""
             }
            },
            "type": "parcoords"
           }
          ],
          "pie": [
           {
            "automargin": true,
            "type": "pie"
           }
          ],
          "scatter": [
           {
            "fillpattern": {
             "fillmode": "overlay",
             "size": 10,
             "solidity": 0.2
            },
            "type": "scatter"
           }
          ],
          "scatter3d": [
           {
            "line": {
             "colorbar": {
              "outlinewidth": 0,
              "ticks": ""
             }
            },
            "marker": {
             "colorbar": {
              "outlinewidth": 0,
              "ticks": ""
             }
            },
            "type": "scatter3d"
           }
          ],
          "scattercarpet": [
           {
            "marker": {
             "colorbar": {
              "outlinewidth": 0,
              "ticks": ""
             }
            },
            "type": "scattercarpet"
           }
          ],
          "scattergeo": [
           {
            "marker": {
             "colorbar": {
              "outlinewidth": 0,
              "ticks": ""
             }
            },
            "type": "scattergeo"
           }
          ],
          "scattergl": [
           {
            "marker": {
             "colorbar": {
              "outlinewidth": 0,
              "ticks": ""
             }
            },
            "type": "scattergl"
           }
          ],
          "scattermapbox": [
           {
            "marker": {
             "colorbar": {
              "outlinewidth": 0,
              "ticks": ""
             }
            },
            "type": "scattermapbox"
           }
          ],
          "scatterpolar": [
           {
            "marker": {
             "colorbar": {
              "outlinewidth": 0,
              "ticks": ""
             }
            },
            "type": "scatterpolar"
           }
          ],
          "scatterpolargl": [
           {
            "marker": {
             "colorbar": {
              "outlinewidth": 0,
              "ticks": ""
             }
            },
            "type": "scatterpolargl"
           }
          ],
          "scatterternary": [
           {
            "marker": {
             "colorbar": {
              "outlinewidth": 0,
              "ticks": ""
             }
            },
            "type": "scatterternary"
           }
          ],
          "surface": [
           {
            "colorbar": {
             "outlinewidth": 0,
             "ticks": ""
            },
            "colorscale": [
             [
              0,
              "#0d0887"
             ],
             [
              0.1111111111111111,
              "#46039f"
             ],
             [
              0.2222222222222222,
              "#7201a8"
             ],
             [
              0.3333333333333333,
              "#9c179e"
             ],
             [
              0.4444444444444444,
              "#bd3786"
             ],
             [
              0.5555555555555556,
              "#d8576b"
             ],
             [
              0.6666666666666666,
              "#ed7953"
             ],
             [
              0.7777777777777778,
              "#fb9f3a"
             ],
             [
              0.8888888888888888,
              "#fdca26"
             ],
             [
              1,
              "#f0f921"
             ]
            ],
            "type": "surface"
           }
          ],
          "table": [
           {
            "cells": {
             "fill": {
              "color": "#EBF0F8"
             },
             "line": {
              "color": "white"
             }
            },
            "header": {
             "fill": {
              "color": "#C8D4E3"
             },
             "line": {
              "color": "white"
             }
            },
            "type": "table"
           }
          ]
         },
         "layout": {
          "annotationdefaults": {
           "arrowcolor": "#2a3f5f",
           "arrowhead": 0,
           "arrowwidth": 1
          },
          "autotypenumbers": "strict",
          "coloraxis": {
           "colorbar": {
            "outlinewidth": 0,
            "ticks": ""
           }
          },
          "colorscale": {
           "diverging": [
            [
             0,
             "#8e0152"
            ],
            [
             0.1,
             "#c51b7d"
            ],
            [
             0.2,
             "#de77ae"
            ],
            [
             0.3,
             "#f1b6da"
            ],
            [
             0.4,
             "#fde0ef"
            ],
            [
             0.5,
             "#f7f7f7"
            ],
            [
             0.6,
             "#e6f5d0"
            ],
            [
             0.7,
             "#b8e186"
            ],
            [
             0.8,
             "#7fbc41"
            ],
            [
             0.9,
             "#4d9221"
            ],
            [
             1,
             "#276419"
            ]
           ],
           "sequential": [
            [
             0,
             "#0d0887"
            ],
            [
             0.1111111111111111,
             "#46039f"
            ],
            [
             0.2222222222222222,
             "#7201a8"
            ],
            [
             0.3333333333333333,
             "#9c179e"
            ],
            [
             0.4444444444444444,
             "#bd3786"
            ],
            [
             0.5555555555555556,
             "#d8576b"
            ],
            [
             0.6666666666666666,
             "#ed7953"
            ],
            [
             0.7777777777777778,
             "#fb9f3a"
            ],
            [
             0.8888888888888888,
             "#fdca26"
            ],
            [
             1,
             "#f0f921"
            ]
           ],
           "sequentialminus": [
            [
             0,
             "#0d0887"
            ],
            [
             0.1111111111111111,
             "#46039f"
            ],
            [
             0.2222222222222222,
             "#7201a8"
            ],
            [
             0.3333333333333333,
             "#9c179e"
            ],
            [
             0.4444444444444444,
             "#bd3786"
            ],
            [
             0.5555555555555556,
             "#d8576b"
            ],
            [
             0.6666666666666666,
             "#ed7953"
            ],
            [
             0.7777777777777778,
             "#fb9f3a"
            ],
            [
             0.8888888888888888,
             "#fdca26"
            ],
            [
             1,
             "#f0f921"
            ]
           ]
          },
          "colorway": [
           "#636efa",
           "#EF553B",
           "#00cc96",
           "#ab63fa",
           "#FFA15A",
           "#19d3f3",
           "#FF6692",
           "#B6E880",
           "#FF97FF",
           "#FECB52"
          ],
          "font": {
           "color": "#2a3f5f"
          },
          "geo": {
           "bgcolor": "white",
           "lakecolor": "white",
           "landcolor": "#E5ECF6",
           "showlakes": true,
           "showland": true,
           "subunitcolor": "white"
          },
          "hoverlabel": {
           "align": "left"
          },
          "hovermode": "closest",
          "mapbox": {
           "style": "light"
          },
          "paper_bgcolor": "white",
          "plot_bgcolor": "#E5ECF6",
          "polar": {
           "angularaxis": {
            "gridcolor": "white",
            "linecolor": "white",
            "ticks": ""
           },
           "bgcolor": "#E5ECF6",
           "radialaxis": {
            "gridcolor": "white",
            "linecolor": "white",
            "ticks": ""
           }
          },
          "scene": {
           "xaxis": {
            "backgroundcolor": "#E5ECF6",
            "gridcolor": "white",
            "gridwidth": 2,
            "linecolor": "white",
            "showbackground": true,
            "ticks": "",
            "zerolinecolor": "white"
           },
           "yaxis": {
            "backgroundcolor": "#E5ECF6",
            "gridcolor": "white",
            "gridwidth": 2,
            "linecolor": "white",
            "showbackground": true,
            "ticks": "",
            "zerolinecolor": "white"
           },
           "zaxis": {
            "backgroundcolor": "#E5ECF6",
            "gridcolor": "white",
            "gridwidth": 2,
            "linecolor": "white",
            "showbackground": true,
            "ticks": "",
            "zerolinecolor": "white"
           }
          },
          "shapedefaults": {
           "line": {
            "color": "#2a3f5f"
           }
          },
          "ternary": {
           "aaxis": {
            "gridcolor": "white",
            "linecolor": "white",
            "ticks": ""
           },
           "baxis": {
            "gridcolor": "white",
            "linecolor": "white",
            "ticks": ""
           },
           "bgcolor": "#E5ECF6",
           "caxis": {
            "gridcolor": "white",
            "linecolor": "white",
            "ticks": ""
           }
          },
          "title": {
           "x": 0.05
          },
          "xaxis": {
           "automargin": true,
           "gridcolor": "white",
           "linecolor": "white",
           "ticks": "",
           "title": {
            "standoff": 15
           },
           "zerolinecolor": "white",
           "zerolinewidth": 2
          },
          "yaxis": {
           "automargin": true,
           "gridcolor": "white",
           "linecolor": "white",
           "ticks": "",
           "title": {
            "standoff": 15
           },
           "zerolinecolor": "white",
           "zerolinewidth": 2
          }
         }
        },
        "title": {
         "font": {
          "color": "#001c40",
          "family": "Baskerville, Bold",
          "size": 40
         },
         "text": "Average Number of Pages by Sub-Genre<br><sup>Fantasy authors love to flesh out their books"
        },
        "xaxis": {
         "gridcolor": "#cbcbcb",
         "linecolor": "black",
         "showgrid": true,
         "showline": false,
         "title": {},
         "zerolinewidth": 1
        },
        "yaxis": {
         "gridcolor": "#cbcbcb",
         "linecolor": "black",
         "showgrid": false,
         "showline": true,
         "showticklabels": true,
         "title": {},
         "zerolinewidth": 1
        },
        "yaxis2": {
         "gridcolor": "#cbcbcb",
         "linecolor": "black",
         "showgrid": false,
         "showline": true,
         "showticklabels": true,
         "zerolinewidth": 1
        }
       }
      },
      "text/html": [
       "<div>                            <div id=\"40960d04-6ef7-4ffc-b787-071248eb93f4\" class=\"plotly-graph-div\" style=\"height:600px; width:100%;\"></div>            <script type=\"text/javascript\">                require([\"plotly\"], function(Plotly) {                    window.PLOTLYENV=window.PLOTLYENV || {};                                    if (document.getElementById(\"40960d04-6ef7-4ffc-b787-071248eb93f4\")) {                    Plotly.newPlot(                        \"40960d04-6ef7-4ffc-b787-071248eb93f4\",                        [{\"customdata\":[[\"1\",\"Pages\"],[\"9\",\"Pages\"],[\"5\",\"Pages\"],[\"2\",\"Pages\"],[\"80\",\"Pages\"],[\"1\",\"Pages\"],[\"2\",\"Pages\"],[\"1\",\"Pages\"],[\"1\",\"Pages\"],[\"2\",\"Pages\"],[\"4\",\"Pages\"],[\"6\",\"Pages\"],[\"10\",\"Pages\"],[\"1\",\"Pages\"],[\"1\",\"Pages\"],[\"13\",\"Pages\"],[\"2\",\"Pages\"],[\"3\",\"Pages\"],[\"6\",\"Pages\"]],\"hovertemplate\":\"\\u003cb\\u003e%{y} Books\\u003c\\u002fb\\u003e: %{customdata[0]}\\u003cbr\\u003e\\u003cb\\u003eAvg. %{customdata[1]}\\u003c\\u002fb\\u003e: %{x}\",\"marker\":{\"color\":[\"#d27575\",\"#529b9c\",\"#eac392\",\"#9cba8f\",\"#675a55\",\"#d27575\",\"#529b9c\",\"#eac392\",\"#9cba8f\",\"#675a55\",\"#d27575\",\"#529b9c\",\"#eac392\",\"#9cba8f\",\"#675a55\",\"#d27575\",\"#529b9c\",\"#eac392\",\"#9cba8f\",\"#675a55\",\"#d27575\",\"#529b9c\",\"#eac392\",\"#9cba8f\",\"#675a55\",\"#d27575\",\"#529b9c\",\"#eac392\",\"#9cba8f\",\"#675a55\",\"#d27575\",\"#529b9c\",\"#eac392\",\"#9cba8f\",\"#675a55\",\"#d27575\",\"#529b9c\",\"#eac392\",\"#9cba8f\",\"#675a55\",\"#d27575\",\"#529b9c\",\"#eac392\",\"#9cba8f\",\"#675a55\",\"#d27575\",\"#529b9c\",\"#eac392\",\"#9cba8f\",\"#675a55\",\"#d27575\",\"#529b9c\",\"#eac392\",\"#9cba8f\",\"#675a55\",\"#d27575\",\"#529b9c\",\"#eac392\",\"#9cba8f\",\"#675a55\",\"#d27575\",\"#529b9c\",\"#eac392\",\"#9cba8f\",\"#675a55\",\"#d27575\",\"#529b9c\",\"#eac392\",\"#9cba8f\",\"#675a55\",\"#d27575\",\"#529b9c\",\"#eac392\",\"#9cba8f\",\"#675a55\",\"#d27575\",\"#529b9c\",\"#eac392\",\"#9cba8f\",\"#675a55\",\"#d27575\",\"#529b9c\",\"#eac392\",\"#9cba8f\",\"#675a55\",\"#d27575\",\"#529b9c\",\"#eac392\",\"#9cba8f\",\"#675a55\",\"#d27575\",\"#529b9c\",\"#eac392\",\"#9cba8f\",\"#675a55\"]},\"name\":\"\",\"orientation\":\"h\",\"x\":[154.0,198.78,214.0,215.0,215.5,234.0,240.0,240.0,246.0,252.0,252.75,255.83,273.5,292.0,299.0,327.85,341.5,349.33,413.67],\"y\":[\"Young Adult\",\"Classics\",\"Cultural\",\"German Literature\",\"Warhammer 40k\",\"Psychology\",\"Memoir\",\"Short Stories\",\"Poetry\",\"Graphic Novel\",\"Science Fiction\",\"Self Help\",\"Nonfiction\",\"Mystery\",\"Programming\",\"Historical Fiction\",\"Contemporary\",\"History\",\"Fantasy\"],\"type\":\"bar\"}],                        {\"template\":{\"data\":{\"histogram2dcontour\":[{\"type\":\"histogram2dcontour\",\"colorbar\":{\"outlinewidth\":0,\"ticks\":\"\"},\"colorscale\":[[0.0,\"#0d0887\"],[0.1111111111111111,\"#46039f\"],[0.2222222222222222,\"#7201a8\"],[0.3333333333333333,\"#9c179e\"],[0.4444444444444444,\"#bd3786\"],[0.5555555555555556,\"#d8576b\"],[0.6666666666666666,\"#ed7953\"],[0.7777777777777778,\"#fb9f3a\"],[0.8888888888888888,\"#fdca26\"],[1.0,\"#f0f921\"]]}],\"choropleth\":[{\"type\":\"choropleth\",\"colorbar\":{\"outlinewidth\":0,\"ticks\":\"\"}}],\"histogram2d\":[{\"type\":\"histogram2d\",\"colorbar\":{\"outlinewidth\":0,\"ticks\":\"\"},\"colorscale\":[[0.0,\"#0d0887\"],[0.1111111111111111,\"#46039f\"],[0.2222222222222222,\"#7201a8\"],[0.3333333333333333,\"#9c179e\"],[0.4444444444444444,\"#bd3786\"],[0.5555555555555556,\"#d8576b\"],[0.6666666666666666,\"#ed7953\"],[0.7777777777777778,\"#fb9f3a\"],[0.8888888888888888,\"#fdca26\"],[1.0,\"#f0f921\"]]}],\"heatmap\":[{\"type\":\"heatmap\",\"colorbar\":{\"outlinewidth\":0,\"ticks\":\"\"},\"colorscale\":[[0.0,\"#0d0887\"],[0.1111111111111111,\"#46039f\"],[0.2222222222222222,\"#7201a8\"],[0.3333333333333333,\"#9c179e\"],[0.4444444444444444,\"#bd3786\"],[0.5555555555555556,\"#d8576b\"],[0.6666666666666666,\"#ed7953\"],[0.7777777777777778,\"#fb9f3a\"],[0.8888888888888888,\"#fdca26\"],[1.0,\"#f0f921\"]]}],\"heatmapgl\":[{\"type\":\"heatmapgl\",\"colorbar\":{\"outlinewidth\":0,\"ticks\":\"\"},\"colorscale\":[[0.0,\"#0d0887\"],[0.1111111111111111,\"#46039f\"],[0.2222222222222222,\"#7201a8\"],[0.3333333333333333,\"#9c179e\"],[0.4444444444444444,\"#bd3786\"],[0.5555555555555556,\"#d8576b\"],[0.6666666666666666,\"#ed7953\"],[0.7777777777777778,\"#fb9f3a\"],[0.8888888888888888,\"#fdca26\"],[1.0,\"#f0f921\"]]}],\"contourcarpet\":[{\"type\":\"contourcarpet\",\"colorbar\":{\"outlinewidth\":0,\"ticks\":\"\"}}],\"contour\":[{\"type\":\"contour\",\"colorbar\":{\"outlinewidth\":0,\"ticks\":\"\"},\"colorscale\":[[0.0,\"#0d0887\"],[0.1111111111111111,\"#46039f\"],[0.2222222222222222,\"#7201a8\"],[0.3333333333333333,\"#9c179e\"],[0.4444444444444444,\"#bd3786\"],[0.5555555555555556,\"#d8576b\"],[0.6666666666666666,\"#ed7953\"],[0.7777777777777778,\"#fb9f3a\"],[0.8888888888888888,\"#fdca26\"],[1.0,\"#f0f921\"]]}],\"surface\":[{\"type\":\"surface\",\"colorbar\":{\"outlinewidth\":0,\"ticks\":\"\"},\"colorscale\":[[0.0,\"#0d0887\"],[0.1111111111111111,\"#46039f\"],[0.2222222222222222,\"#7201a8\"],[0.3333333333333333,\"#9c179e\"],[0.4444444444444444,\"#bd3786\"],[0.5555555555555556,\"#d8576b\"],[0.6666666666666666,\"#ed7953\"],[0.7777777777777778,\"#fb9f3a\"],[0.8888888888888888,\"#fdca26\"],[1.0,\"#f0f921\"]]}],\"mesh3d\":[{\"type\":\"mesh3d\",\"colorbar\":{\"outlinewidth\":0,\"ticks\":\"\"}}],\"scatter\":[{\"fillpattern\":{\"fillmode\":\"overlay\",\"size\":10,\"solidity\":0.2},\"type\":\"scatter\"}],\"parcoords\":[{\"type\":\"parcoords\",\"line\":{\"colorbar\":{\"outlinewidth\":0,\"ticks\":\"\"}}}],\"scatterpolargl\":[{\"type\":\"scatterpolargl\",\"marker\":{\"colorbar\":{\"outlinewidth\":0,\"ticks\":\"\"}}}],\"bar\":[{\"error_x\":{\"color\":\"#2a3f5f\"},\"error_y\":{\"color\":\"#2a3f5f\"},\"marker\":{\"line\":{\"color\":\"#E5ECF6\",\"width\":0.5},\"pattern\":{\"fillmode\":\"overlay\",\"size\":10,\"solidity\":0.2}},\"type\":\"bar\"}],\"scattergeo\":[{\"type\":\"scattergeo\",\"marker\":{\"colorbar\":{\"outlinewidth\":0,\"ticks\":\"\"}}}],\"scatterpolar\":[{\"type\":\"scatterpolar\",\"marker\":{\"colorbar\":{\"outlinewidth\":0,\"ticks\":\"\"}}}],\"histogram\":[{\"marker\":{\"pattern\":{\"fillmode\":\"overlay\",\"size\":10,\"solidity\":0.2}},\"type\":\"histogram\"}],\"scattergl\":[{\"type\":\"scattergl\",\"marker\":{\"colorbar\":{\"outlinewidth\":0,\"ticks\":\"\"}}}],\"scatter3d\":[{\"type\":\"scatter3d\",\"line\":{\"colorbar\":{\"outlinewidth\":0,\"ticks\":\"\"}},\"marker\":{\"colorbar\":{\"outlinewidth\":0,\"ticks\":\"\"}}}],\"scattermapbox\":[{\"type\":\"scattermapbox\",\"marker\":{\"colorbar\":{\"outlinewidth\":0,\"ticks\":\"\"}}}],\"scatterternary\":[{\"type\":\"scatterternary\",\"marker\":{\"colorbar\":{\"outlinewidth\":0,\"ticks\":\"\"}}}],\"scattercarpet\":[{\"type\":\"scattercarpet\",\"marker\":{\"colorbar\":{\"outlinewidth\":0,\"ticks\":\"\"}}}],\"carpet\":[{\"aaxis\":{\"endlinecolor\":\"#2a3f5f\",\"gridcolor\":\"white\",\"linecolor\":\"white\",\"minorgridcolor\":\"white\",\"startlinecolor\":\"#2a3f5f\"},\"baxis\":{\"endlinecolor\":\"#2a3f5f\",\"gridcolor\":\"white\",\"linecolor\":\"white\",\"minorgridcolor\":\"white\",\"startlinecolor\":\"#2a3f5f\"},\"type\":\"carpet\"}],\"table\":[{\"cells\":{\"fill\":{\"color\":\"#EBF0F8\"},\"line\":{\"color\":\"white\"}},\"header\":{\"fill\":{\"color\":\"#C8D4E3\"},\"line\":{\"color\":\"white\"}},\"type\":\"table\"}],\"barpolar\":[{\"marker\":{\"line\":{\"color\":\"#E5ECF6\",\"width\":0.5},\"pattern\":{\"fillmode\":\"overlay\",\"size\":10,\"solidity\":0.2}},\"type\":\"barpolar\"}],\"pie\":[{\"automargin\":true,\"type\":\"pie\"}]},\"layout\":{\"autotypenumbers\":\"strict\",\"colorway\":[\"#636efa\",\"#EF553B\",\"#00cc96\",\"#ab63fa\",\"#FFA15A\",\"#19d3f3\",\"#FF6692\",\"#B6E880\",\"#FF97FF\",\"#FECB52\"],\"font\":{\"color\":\"#2a3f5f\"},\"hovermode\":\"closest\",\"hoverlabel\":{\"align\":\"left\"},\"paper_bgcolor\":\"white\",\"plot_bgcolor\":\"#E5ECF6\",\"polar\":{\"bgcolor\":\"#E5ECF6\",\"angularaxis\":{\"gridcolor\":\"white\",\"linecolor\":\"white\",\"ticks\":\"\"},\"radialaxis\":{\"gridcolor\":\"white\",\"linecolor\":\"white\",\"ticks\":\"\"}},\"ternary\":{\"bgcolor\":\"#E5ECF6\",\"aaxis\":{\"gridcolor\":\"white\",\"linecolor\":\"white\",\"ticks\":\"\"},\"baxis\":{\"gridcolor\":\"white\",\"linecolor\":\"white\",\"ticks\":\"\"},\"caxis\":{\"gridcolor\":\"white\",\"linecolor\":\"white\",\"ticks\":\"\"}},\"coloraxis\":{\"colorbar\":{\"outlinewidth\":0,\"ticks\":\"\"}},\"colorscale\":{\"sequential\":[[0.0,\"#0d0887\"],[0.1111111111111111,\"#46039f\"],[0.2222222222222222,\"#7201a8\"],[0.3333333333333333,\"#9c179e\"],[0.4444444444444444,\"#bd3786\"],[0.5555555555555556,\"#d8576b\"],[0.6666666666666666,\"#ed7953\"],[0.7777777777777778,\"#fb9f3a\"],[0.8888888888888888,\"#fdca26\"],[1.0,\"#f0f921\"]],\"sequentialminus\":[[0.0,\"#0d0887\"],[0.1111111111111111,\"#46039f\"],[0.2222222222222222,\"#7201a8\"],[0.3333333333333333,\"#9c179e\"],[0.4444444444444444,\"#bd3786\"],[0.5555555555555556,\"#d8576b\"],[0.6666666666666666,\"#ed7953\"],[0.7777777777777778,\"#fb9f3a\"],[0.8888888888888888,\"#fdca26\"],[1.0,\"#f0f921\"]],\"diverging\":[[0,\"#8e0152\"],[0.1,\"#c51b7d\"],[0.2,\"#de77ae\"],[0.3,\"#f1b6da\"],[0.4,\"#fde0ef\"],[0.5,\"#f7f7f7\"],[0.6,\"#e6f5d0\"],[0.7,\"#b8e186\"],[0.8,\"#7fbc41\"],[0.9,\"#4d9221\"],[1,\"#276419\"]]},\"xaxis\":{\"gridcolor\":\"white\",\"linecolor\":\"white\",\"ticks\":\"\",\"title\":{\"standoff\":15},\"zerolinecolor\":\"white\",\"automargin\":true,\"zerolinewidth\":2},\"yaxis\":{\"gridcolor\":\"white\",\"linecolor\":\"white\",\"ticks\":\"\",\"title\":{\"standoff\":15},\"zerolinecolor\":\"white\",\"automargin\":true,\"zerolinewidth\":2},\"scene\":{\"xaxis\":{\"backgroundcolor\":\"#E5ECF6\",\"gridcolor\":\"white\",\"linecolor\":\"white\",\"showbackground\":true,\"ticks\":\"\",\"zerolinecolor\":\"white\",\"gridwidth\":2},\"yaxis\":{\"backgroundcolor\":\"#E5ECF6\",\"gridcolor\":\"white\",\"linecolor\":\"white\",\"showbackground\":true,\"ticks\":\"\",\"zerolinecolor\":\"white\",\"gridwidth\":2},\"zaxis\":{\"backgroundcolor\":\"#E5ECF6\",\"gridcolor\":\"white\",\"linecolor\":\"white\",\"showbackground\":true,\"ticks\":\"\",\"zerolinecolor\":\"white\",\"gridwidth\":2}},\"shapedefaults\":{\"line\":{\"color\":\"#2a3f5f\"}},\"annotationdefaults\":{\"arrowcolor\":\"#2a3f5f\",\"arrowhead\":0,\"arrowwidth\":1},\"geo\":{\"bgcolor\":\"white\",\"landcolor\":\"#E5ECF6\",\"subunitcolor\":\"white\",\"showland\":true,\"showlakes\":true,\"lakecolor\":\"white\"},\"title\":{\"x\":0.05},\"mapbox\":{\"style\":\"light\"}}},\"shapes\":[{\"line\":{\"color\":\"#8e7cc3\",\"dash\":\"dash\",\"width\":2},\"type\":\"line\",\"x0\":244.89373333333333,\"x1\":244.89373333333333,\"xref\":\"x\",\"y0\":0,\"y1\":1,\"yref\":\"y domain\"}],\"annotations\":[{\"bgcolor\":\"#b4a7d6\",\"bordercolor\":\"#c7c7c7\",\"borderpad\":3,\"borderwidth\":1,\"opacity\":0.8,\"showarrow\":false,\"text\":\"Weighted Avg: 244.89\",\"x\":244.89373333333333,\"xanchor\":\"left\",\"xref\":\"x\",\"y\":1,\"yanchor\":\"top\",\"yref\":\"y domain\"}],\"title\":{\"font\":{\"size\":40,\"family\":\"Baskerville, Bold\",\"color\":\"#001c40\"},\"text\":\"Average Number of Pages by Sub-Genre\\u003cbr\\u003e\\u003csup\\u003eFantasy authors love to flesh out their books\"},\"margin\":{\"l\":85,\"r\":85,\"t\":120,\"b\":45},\"xaxis\":{\"title\":{},\"showgrid\":true,\"showline\":false,\"linecolor\":\"black\",\"gridcolor\":\"#cbcbcb\",\"zerolinewidth\":1},\"yaxis\":{\"title\":{},\"showgrid\":false,\"showline\":true,\"showticklabels\":true,\"linecolor\":\"black\",\"gridcolor\":\"#cbcbcb\",\"zerolinewidth\":1},\"yaxis2\":{\"showgrid\":false,\"showline\":true,\"showticklabels\":true,\"linecolor\":\"black\",\"gridcolor\":\"#cbcbcb\",\"zerolinewidth\":1},\"font\":{\"family\":\"Baskerville\",\"color\":\"#001c40\",\"size\":14},\"hoverlabel\":{\"font\":{\"size\":16}},\"height\":600,\"showlegend\":false,\"barmode\":\"group\",\"plot_bgcolor\":\"#f0f0f0\",\"paper_bgcolor\":\"#f0f0f0\"},                        {\"modeBarButtonsToRemove\": [\"zoomIn\", \"zoomOut\", \"resetScale2d\", \"select2d\", \"lasso2d\"], \"responsive\": true, \"displaylogo\": false, \"toImageButtonOptions\": {\"format\": \"png\", \"filename\": \"reading-habits\", \"scale\": 1}}                    ).then(function(){\n",
       "                            \n",
       "var gd = document.getElementById('40960d04-6ef7-4ffc-b787-071248eb93f4');\n",
       "var x = new MutationObserver(function (mutations, observer) {{\n",
       "        var display = window.getComputedStyle(gd).display;\n",
       "        if (!display || display === 'none') {{\n",
       "            console.log([gd, 'removed!']);\n",
       "            Plotly.purge(gd);\n",
       "            observer.disconnect();\n",
       "        }}\n",
       "}});\n",
       "\n",
       "// Listen for the removal of the full notebook cells\n",
       "var notebookContainer = gd.closest('#notebook-container');\n",
       "if (notebookContainer) {{\n",
       "    x.observe(notebookContainer, {childList: true});\n",
       "}}\n",
       "\n",
       "// Listen for the clearing of the current output cell\n",
       "var outputEl = gd.closest('.output');\n",
       "if (outputEl) {{\n",
       "    x.observe(outputEl, {childList: true});\n",
       "}}\n",
       "\n",
       "                        })                };                });            </script>        </div>"
      ]
     },
     "metadata": {},
     "output_type": "display_data"
    }
   ],
   "source": [
    "dfx = df.groupby('Sub-Genre')['Pages'].mean().round(2).reset_index()\n",
    "dfx['Total'] = df.groupby('Sub-Genre')['Title'].count().reset_index(drop=True)\n",
    "dfx = dfx.sort_values('Pages', ascending=True).reset_index(drop=True)\n",
    "\n",
    "title = \"Average Number of Pages by Sub-Genre\"\n",
    "sub = f\"Fantasy authors love to flesh out their books\"\n",
    "plot.gen_hbar_graph(dfx, 'Sub-Genre', title, sub, avg=True, w_avg='Pages')"
   ]
  },
  {
   "cell_type": "markdown",
   "id": "7029876e-7826-4a8c-ae0c-f1118e28dde1",
   "metadata": {},
   "source": [
    "### Top Rated Books\n",
    "\n",
    "Here is a basic list of books that I felt were very good (in my case, books that I rated an 8.0 or above). Whenever I meet another avid reader, I will almost certainly recommend a handful of these books! The books are not listed in personal preference or anything, only by their overall rating. I loved all of these books and highly recommend them!"
   ]
  },
  {
   "cell_type": "code",
   "execution_count": 43,
   "id": "9f84564f-87a6-4d02-8e10-b3652cfbc1d6",
   "metadata": {
    "execution": {
     "iopub.execute_input": "2024-07-27T23:38:50.615050Z",
     "iopub.status.busy": "2024-07-27T23:38:50.615050Z",
     "iopub.status.idle": "2024-07-27T23:38:50.643972Z",
     "shell.execute_reply": "2024-07-27T23:38:50.643972Z",
     "shell.execute_reply.started": "2024-07-27T23:38:50.615050Z"
    },
    "tags": []
   },
   "outputs": [
    {
     "data": {
      "application/vnd.plotly.v1+json": {
       "config": {
        "displaylogo": false,
        "modeBarButtonsToRemove": [
         "zoomIn",
         "zoomOut",
         "resetScale2d",
         "select2d",
         "lasso2d"
        ],
        "plotlyServerURL": "https://plot.ly",
        "responsive": true,
        "toImageButtonOptions": {
         "filename": "reading-habits",
         "format": "png",
         "scale": 1
        }
       },
       "data": [
        {
         "customdata": [
          [
           "Fiction-Classics",
           "George Orwell"
          ],
          [
           "Fiction-Historical Fiction",
           "Kazuo Ishiguro"
          ],
          [
           "Fiction-German Literature",
           "Thomas Bernhard"
          ],
          [
           "Fiction-Fantasy",
           "Matt Haig"
          ],
          [
           "Fiction-Historical Fiction",
           "W.G. Sebald"
          ],
          [
           "Fiction-Warhammer 40k",
           "Aaron Dembski-Bowden"
          ],
          [
           "Fiction-Warhammer 40k",
           "Dan Abnett"
          ],
          [
           "Fiction-Warhammer 40k",
           "Dan Abnett"
          ],
          [
           "Fiction-Warhammer 40k",
           "Dan Abnett"
          ],
          [
           "Fiction-Historical Fiction",
           "Min Jin Lee"
          ],
          [
           "Fiction-Historical Fiction",
           "Cormac McCarthy"
          ],
          [
           "Fiction-Warhammer 40k",
           "Dan Abnett"
          ],
          [
           "Fiction-Classics",
           "Pat Conroy"
          ],
          [
           "Fiction-Historical Fiction",
           "Larry McMurtry"
          ]
         ],
         "hovertemplate": "<b>%{y}</b> - %{x:.1f}<br>%{customdata[0]}<extra></extra>",
         "marker": {
          "color": [
           "#d27575",
           "#d27575",
           "#d27575",
           "#d27575",
           "#d27575",
           "#d27575",
           "#d27575",
           "#d27575",
           "#d27575",
           "#d27575",
           "#d27575",
           "#d27575",
           "#d27575",
           "#d27575"
          ]
         },
         "name": "Fiction",
         "orientation": "h",
         "text": [
          "1984",
          "The Remains of The Day",
          "Correction",
          "The Midmight Library",
          "The Rings of Saturn",
          "Echoes of Eternity (Siege of Terra #7)",
          "The Unremembered Empire (Horus Heresy #27)",
          "Know No Fear (Horus Heresy #19)",
          "Saturnine (Siege of Terra #4)",
          "Pachinko",
          "Blood Meridian",
          "The End and The Death: Volume 3",
          "The Prince of Tides",
          "Lonesome Dove: A Novel"
         ],
         "texttemplate": "<i>%{text}</i> by %{customdata[1]}  ",
         "type": "bar",
         "x": [
          8.5,
          9,
          9,
          9,
          9,
          9,
          9,
          9,
          9.5,
          10,
          10,
          10,
          10,
          10
         ],
         "y": [
          0,
          1,
          3,
          4,
          6,
          7,
          8,
          9,
          12,
          14,
          16,
          17,
          18,
          19
         ]
        },
        {
         "customdata": [
          [
           "Science-Nonfiction",
           "Stephen Hawking"
          ]
         ],
         "hovertemplate": "<b>%{y}</b> - %{x:.1f}<br>%{customdata[0]}<extra></extra>",
         "marker": {
          "color": [
           "#eac392"
          ]
         },
         "name": "Science",
         "orientation": "h",
         "text": [
          "A Brief History of Time"
         ],
         "texttemplate": "<i>%{text}</i> by %{customdata[1]}  ",
         "type": "bar",
         "x": [
          9
         ],
         "y": [
          2
         ]
        },
        {
         "customdata": [
          [
           "Nonfiction-History",
           "Patrick Radden Keefe"
          ],
          [
           "Nonfiction-Memoir",
           "Michelle Zauner"
          ],
          [
           "Nonfiction-Memoir",
           "Lulu Miller"
          ],
          [
           "Nonfiction-Graphic Novel",
           "AJ Dungo"
          ],
          [
           "Nonfiction-History",
           "Toby Lester"
          ]
         ],
         "hovertemplate": "<b>%{y}</b> - %{x:.1f}<br>%{customdata[0]}<extra></extra>",
         "marker": {
          "color": [
           "#529b9c",
           "#529b9c",
           "#529b9c",
           "#529b9c",
           "#529b9c"
          ]
         },
         "name": "Nonfiction",
         "orientation": "h",
         "text": [
          "Empire of Pain: The Secret History of the Sackler Dynasty",
          "Crying In H Mart",
          "Why Fish Don't Exist: A Story of Loss, Love, and the Hidden Order of Life",
          "In Waves",
          "DaVinci's Ghost"
         ],
         "texttemplate": "<i>%{text}</i> by %{customdata[1]}  ",
         "type": "bar",
         "x": [
          9,
          9.5,
          9.5,
          9.5,
          10
         ],
         "y": [
          5,
          10,
          11,
          13,
          15
         ]
        }
       ],
       "layout": {
        "barmode": "group",
        "font": {
         "color": "#001c40",
         "family": "Baskerville",
         "size": 14
        },
        "height": 800,
        "hoverlabel": {
         "font": {
          "size": 16
         }
        },
        "legend": {
         "orientation": "h",
         "x": 0.5,
         "xanchor": "center",
         "y": 1.05
        },
        "margin": {
         "b": 45,
         "l": 85,
         "r": 85,
         "t": 140
        },
        "paper_bgcolor": "#f0f0f0",
        "plot_bgcolor": "#f0f0f0",
        "showlegend": true,
        "template": {
         "data": {
          "bar": [
           {
            "error_x": {
             "color": "#2a3f5f"
            },
            "error_y": {
             "color": "#2a3f5f"
            },
            "marker": {
             "line": {
              "color": "#E5ECF6",
              "width": 0.5
             },
             "pattern": {
              "fillmode": "overlay",
              "size": 10,
              "solidity": 0.2
             }
            },
            "type": "bar"
           }
          ],
          "barpolar": [
           {
            "marker": {
             "line": {
              "color": "#E5ECF6",
              "width": 0.5
             },
             "pattern": {
              "fillmode": "overlay",
              "size": 10,
              "solidity": 0.2
             }
            },
            "type": "barpolar"
           }
          ],
          "carpet": [
           {
            "aaxis": {
             "endlinecolor": "#2a3f5f",
             "gridcolor": "white",
             "linecolor": "white",
             "minorgridcolor": "white",
             "startlinecolor": "#2a3f5f"
            },
            "baxis": {
             "endlinecolor": "#2a3f5f",
             "gridcolor": "white",
             "linecolor": "white",
             "minorgridcolor": "white",
             "startlinecolor": "#2a3f5f"
            },
            "type": "carpet"
           }
          ],
          "choropleth": [
           {
            "colorbar": {
             "outlinewidth": 0,
             "ticks": ""
            },
            "type": "choropleth"
           }
          ],
          "contour": [
           {
            "colorbar": {
             "outlinewidth": 0,
             "ticks": ""
            },
            "colorscale": [
             [
              0,
              "#0d0887"
             ],
             [
              0.1111111111111111,
              "#46039f"
             ],
             [
              0.2222222222222222,
              "#7201a8"
             ],
             [
              0.3333333333333333,
              "#9c179e"
             ],
             [
              0.4444444444444444,
              "#bd3786"
             ],
             [
              0.5555555555555556,
              "#d8576b"
             ],
             [
              0.6666666666666666,
              "#ed7953"
             ],
             [
              0.7777777777777778,
              "#fb9f3a"
             ],
             [
              0.8888888888888888,
              "#fdca26"
             ],
             [
              1,
              "#f0f921"
             ]
            ],
            "type": "contour"
           }
          ],
          "contourcarpet": [
           {
            "colorbar": {
             "outlinewidth": 0,
             "ticks": ""
            },
            "type": "contourcarpet"
           }
          ],
          "heatmap": [
           {
            "colorbar": {
             "outlinewidth": 0,
             "ticks": ""
            },
            "colorscale": [
             [
              0,
              "#0d0887"
             ],
             [
              0.1111111111111111,
              "#46039f"
             ],
             [
              0.2222222222222222,
              "#7201a8"
             ],
             [
              0.3333333333333333,
              "#9c179e"
             ],
             [
              0.4444444444444444,
              "#bd3786"
             ],
             [
              0.5555555555555556,
              "#d8576b"
             ],
             [
              0.6666666666666666,
              "#ed7953"
             ],
             [
              0.7777777777777778,
              "#fb9f3a"
             ],
             [
              0.8888888888888888,
              "#fdca26"
             ],
             [
              1,
              "#f0f921"
             ]
            ],
            "type": "heatmap"
           }
          ],
          "heatmapgl": [
           {
            "colorbar": {
             "outlinewidth": 0,
             "ticks": ""
            },
            "colorscale": [
             [
              0,
              "#0d0887"
             ],
             [
              0.1111111111111111,
              "#46039f"
             ],
             [
              0.2222222222222222,
              "#7201a8"
             ],
             [
              0.3333333333333333,
              "#9c179e"
             ],
             [
              0.4444444444444444,
              "#bd3786"
             ],
             [
              0.5555555555555556,
              "#d8576b"
             ],
             [
              0.6666666666666666,
              "#ed7953"
             ],
             [
              0.7777777777777778,
              "#fb9f3a"
             ],
             [
              0.8888888888888888,
              "#fdca26"
             ],
             [
              1,
              "#f0f921"
             ]
            ],
            "type": "heatmapgl"
           }
          ],
          "histogram": [
           {
            "marker": {
             "pattern": {
              "fillmode": "overlay",
              "size": 10,
              "solidity": 0.2
             }
            },
            "type": "histogram"
           }
          ],
          "histogram2d": [
           {
            "colorbar": {
             "outlinewidth": 0,
             "ticks": ""
            },
            "colorscale": [
             [
              0,
              "#0d0887"
             ],
             [
              0.1111111111111111,
              "#46039f"
             ],
             [
              0.2222222222222222,
              "#7201a8"
             ],
             [
              0.3333333333333333,
              "#9c179e"
             ],
             [
              0.4444444444444444,
              "#bd3786"
             ],
             [
              0.5555555555555556,
              "#d8576b"
             ],
             [
              0.6666666666666666,
              "#ed7953"
             ],
             [
              0.7777777777777778,
              "#fb9f3a"
             ],
             [
              0.8888888888888888,
              "#fdca26"
             ],
             [
              1,
              "#f0f921"
             ]
            ],
            "type": "histogram2d"
           }
          ],
          "histogram2dcontour": [
           {
            "colorbar": {
             "outlinewidth": 0,
             "ticks": ""
            },
            "colorscale": [
             [
              0,
              "#0d0887"
             ],
             [
              0.1111111111111111,
              "#46039f"
             ],
             [
              0.2222222222222222,
              "#7201a8"
             ],
             [
              0.3333333333333333,
              "#9c179e"
             ],
             [
              0.4444444444444444,
              "#bd3786"
             ],
             [
              0.5555555555555556,
              "#d8576b"
             ],
             [
              0.6666666666666666,
              "#ed7953"
             ],
             [
              0.7777777777777778,
              "#fb9f3a"
             ],
             [
              0.8888888888888888,
              "#fdca26"
             ],
             [
              1,
              "#f0f921"
             ]
            ],
            "type": "histogram2dcontour"
           }
          ],
          "mesh3d": [
           {
            "colorbar": {
             "outlinewidth": 0,
             "ticks": ""
            },
            "type": "mesh3d"
           }
          ],
          "parcoords": [
           {
            "line": {
             "colorbar": {
              "outlinewidth": 0,
              "ticks": ""
             }
            },
            "type": "parcoords"
           }
          ],
          "pie": [
           {
            "automargin": true,
            "type": "pie"
           }
          ],
          "scatter": [
           {
            "fillpattern": {
             "fillmode": "overlay",
             "size": 10,
             "solidity": 0.2
            },
            "type": "scatter"
           }
          ],
          "scatter3d": [
           {
            "line": {
             "colorbar": {
              "outlinewidth": 0,
              "ticks": ""
             }
            },
            "marker": {
             "colorbar": {
              "outlinewidth": 0,
              "ticks": ""
             }
            },
            "type": "scatter3d"
           }
          ],
          "scattercarpet": [
           {
            "marker": {
             "colorbar": {
              "outlinewidth": 0,
              "ticks": ""
             }
            },
            "type": "scattercarpet"
           }
          ],
          "scattergeo": [
           {
            "marker": {
             "colorbar": {
              "outlinewidth": 0,
              "ticks": ""
             }
            },
            "type": "scattergeo"
           }
          ],
          "scattergl": [
           {
            "marker": {
             "colorbar": {
              "outlinewidth": 0,
              "ticks": ""
             }
            },
            "type": "scattergl"
           }
          ],
          "scattermapbox": [
           {
            "marker": {
             "colorbar": {
              "outlinewidth": 0,
              "ticks": ""
             }
            },
            "type": "scattermapbox"
           }
          ],
          "scatterpolar": [
           {
            "marker": {
             "colorbar": {
              "outlinewidth": 0,
              "ticks": ""
             }
            },
            "type": "scatterpolar"
           }
          ],
          "scatterpolargl": [
           {
            "marker": {
             "colorbar": {
              "outlinewidth": 0,
              "ticks": ""
             }
            },
            "type": "scatterpolargl"
           }
          ],
          "scatterternary": [
           {
            "marker": {
             "colorbar": {
              "outlinewidth": 0,
              "ticks": ""
             }
            },
            "type": "scatterternary"
           }
          ],
          "surface": [
           {
            "colorbar": {
             "outlinewidth": 0,
             "ticks": ""
            },
            "colorscale": [
             [
              0,
              "#0d0887"
             ],
             [
              0.1111111111111111,
              "#46039f"
             ],
             [
              0.2222222222222222,
              "#7201a8"
             ],
             [
              0.3333333333333333,
              "#9c179e"
             ],
             [
              0.4444444444444444,
              "#bd3786"
             ],
             [
              0.5555555555555556,
              "#d8576b"
             ],
             [
              0.6666666666666666,
              "#ed7953"
             ],
             [
              0.7777777777777778,
              "#fb9f3a"
             ],
             [
              0.8888888888888888,
              "#fdca26"
             ],
             [
              1,
              "#f0f921"
             ]
            ],
            "type": "surface"
           }
          ],
          "table": [
           {
            "cells": {
             "fill": {
              "color": "#EBF0F8"
             },
             "line": {
              "color": "white"
             }
            },
            "header": {
             "fill": {
              "color": "#C8D4E3"
             },
             "line": {
              "color": "white"
             }
            },
            "type": "table"
           }
          ]
         },
         "layout": {
          "annotationdefaults": {
           "arrowcolor": "#2a3f5f",
           "arrowhead": 0,
           "arrowwidth": 1
          },
          "autotypenumbers": "strict",
          "coloraxis": {
           "colorbar": {
            "outlinewidth": 0,
            "ticks": ""
           }
          },
          "colorscale": {
           "diverging": [
            [
             0,
             "#8e0152"
            ],
            [
             0.1,
             "#c51b7d"
            ],
            [
             0.2,
             "#de77ae"
            ],
            [
             0.3,
             "#f1b6da"
            ],
            [
             0.4,
             "#fde0ef"
            ],
            [
             0.5,
             "#f7f7f7"
            ],
            [
             0.6,
             "#e6f5d0"
            ],
            [
             0.7,
             "#b8e186"
            ],
            [
             0.8,
             "#7fbc41"
            ],
            [
             0.9,
             "#4d9221"
            ],
            [
             1,
             "#276419"
            ]
           ],
           "sequential": [
            [
             0,
             "#0d0887"
            ],
            [
             0.1111111111111111,
             "#46039f"
            ],
            [
             0.2222222222222222,
             "#7201a8"
            ],
            [
             0.3333333333333333,
             "#9c179e"
            ],
            [
             0.4444444444444444,
             "#bd3786"
            ],
            [
             0.5555555555555556,
             "#d8576b"
            ],
            [
             0.6666666666666666,
             "#ed7953"
            ],
            [
             0.7777777777777778,
             "#fb9f3a"
            ],
            [
             0.8888888888888888,
             "#fdca26"
            ],
            [
             1,
             "#f0f921"
            ]
           ],
           "sequentialminus": [
            [
             0,
             "#0d0887"
            ],
            [
             0.1111111111111111,
             "#46039f"
            ],
            [
             0.2222222222222222,
             "#7201a8"
            ],
            [
             0.3333333333333333,
             "#9c179e"
            ],
            [
             0.4444444444444444,
             "#bd3786"
            ],
            [
             0.5555555555555556,
             "#d8576b"
            ],
            [
             0.6666666666666666,
             "#ed7953"
            ],
            [
             0.7777777777777778,
             "#fb9f3a"
            ],
            [
             0.8888888888888888,
             "#fdca26"
            ],
            [
             1,
             "#f0f921"
            ]
           ]
          },
          "colorway": [
           "#636efa",
           "#EF553B",
           "#00cc96",
           "#ab63fa",
           "#FFA15A",
           "#19d3f3",
           "#FF6692",
           "#B6E880",
           "#FF97FF",
           "#FECB52"
          ],
          "font": {
           "color": "#2a3f5f"
          },
          "geo": {
           "bgcolor": "white",
           "lakecolor": "white",
           "landcolor": "#E5ECF6",
           "showlakes": true,
           "showland": true,
           "subunitcolor": "white"
          },
          "hoverlabel": {
           "align": "left"
          },
          "hovermode": "closest",
          "mapbox": {
           "style": "light"
          },
          "paper_bgcolor": "white",
          "plot_bgcolor": "#E5ECF6",
          "polar": {
           "angularaxis": {
            "gridcolor": "white",
            "linecolor": "white",
            "ticks": ""
           },
           "bgcolor": "#E5ECF6",
           "radialaxis": {
            "gridcolor": "white",
            "linecolor": "white",
            "ticks": ""
           }
          },
          "scene": {
           "xaxis": {
            "backgroundcolor": "#E5ECF6",
            "gridcolor": "white",
            "gridwidth": 2,
            "linecolor": "white",
            "showbackground": true,
            "ticks": "",
            "zerolinecolor": "white"
           },
           "yaxis": {
            "backgroundcolor": "#E5ECF6",
            "gridcolor": "white",
            "gridwidth": 2,
            "linecolor": "white",
            "showbackground": true,
            "ticks": "",
            "zerolinecolor": "white"
           },
           "zaxis": {
            "backgroundcolor": "#E5ECF6",
            "gridcolor": "white",
            "gridwidth": 2,
            "linecolor": "white",
            "showbackground": true,
            "ticks": "",
            "zerolinecolor": "white"
           }
          },
          "shapedefaults": {
           "line": {
            "color": "#2a3f5f"
           }
          },
          "ternary": {
           "aaxis": {
            "gridcolor": "white",
            "linecolor": "white",
            "ticks": ""
           },
           "baxis": {
            "gridcolor": "white",
            "linecolor": "white",
            "ticks": ""
           },
           "bgcolor": "#E5ECF6",
           "caxis": {
            "gridcolor": "white",
            "linecolor": "white",
            "ticks": ""
           }
          },
          "title": {
           "x": 0.05
          },
          "xaxis": {
           "automargin": true,
           "gridcolor": "white",
           "linecolor": "white",
           "ticks": "",
           "title": {
            "standoff": 15
           },
           "zerolinecolor": "white",
           "zerolinewidth": 2
          },
          "yaxis": {
           "automargin": true,
           "gridcolor": "white",
           "linecolor": "white",
           "ticks": "",
           "title": {
            "standoff": 15
           },
           "zerolinecolor": "white",
           "zerolinewidth": 2
          }
         }
        },
        "title": {
         "font": {
          "color": "#001c40",
          "family": "Baskerville, Bold",
          "size": 40
         },
         "text": "My Top Rated Books & Stories<br><sup>These are some of the most memorable and impactful books and short stories I've read"
        },
        "xaxis": {
         "gridcolor": "#cbcbcb",
         "linecolor": "black",
         "showgrid": true,
         "showline": false,
         "title": {},
         "zerolinewidth": 1
        },
        "yaxis": {
         "gridcolor": "#cbcbcb",
         "linecolor": "black",
         "showgrid": false,
         "showline": true,
         "showticklabels": true,
         "ticktext": [
          "#20",
          "#19",
          "#18",
          "#17",
          "#16",
          "#15",
          "#14",
          "#13",
          "#12",
          "#11",
          "#10",
          "#9",
          "#8",
          "#7",
          "#6",
          "#5",
          "#4",
          "#3",
          "#2",
          "#1"
         ],
         "tickvals": [
          0,
          1,
          2,
          3,
          4,
          5,
          6,
          7,
          8,
          9,
          10,
          11,
          12,
          13,
          14,
          15,
          16,
          17,
          18,
          19
         ],
         "title": {},
         "zerolinewidth": 1
        },
        "yaxis2": {
         "gridcolor": "#cbcbcb",
         "linecolor": "black",
         "showgrid": false,
         "showline": true,
         "showticklabels": true,
         "zerolinewidth": 1
        }
       }
      },
      "text/html": [
       "<div>                            <div id=\"1e4d3f89-8b0f-404e-80bc-5bc37ae1574f\" class=\"plotly-graph-div\" style=\"height:800px; width:100%;\"></div>            <script type=\"text/javascript\">                require([\"plotly\"], function(Plotly) {                    window.PLOTLYENV=window.PLOTLYENV || {};                                    if (document.getElementById(\"1e4d3f89-8b0f-404e-80bc-5bc37ae1574f\")) {                    Plotly.newPlot(                        \"1e4d3f89-8b0f-404e-80bc-5bc37ae1574f\",                        [{\"customdata\":[[\"Fiction-Classics\",\"George Orwell\"],[\"Fiction-Historical Fiction\",\"Kazuo Ishiguro\"],[\"Fiction-German Literature\",\"Thomas Bernhard\"],[\"Fiction-Fantasy\",\"Matt Haig\"],[\"Fiction-Historical Fiction\",\"W.G. Sebald\"],[\"Fiction-Warhammer 40k\",\"Aaron Dembski-Bowden\"],[\"Fiction-Warhammer 40k\",\"Dan Abnett\"],[\"Fiction-Warhammer 40k\",\"Dan Abnett\"],[\"Fiction-Warhammer 40k\",\"Dan Abnett\"],[\"Fiction-Historical Fiction\",\"Min Jin Lee\"],[\"Fiction-Historical Fiction\",\"Cormac McCarthy\"],[\"Fiction-Warhammer 40k\",\"Dan Abnett\"],[\"Fiction-Classics\",\"Pat Conroy\"],[\"Fiction-Historical Fiction\",\"Larry McMurtry\"]],\"hovertemplate\":\"\\u003cb\\u003e%{y}\\u003c\\u002fb\\u003e - %{x:.1f}\\u003cbr\\u003e%{customdata[0]}\\u003cextra\\u003e\\u003c\\u002fextra\\u003e\",\"marker\":{\"color\":[\"#d27575\",\"#d27575\",\"#d27575\",\"#d27575\",\"#d27575\",\"#d27575\",\"#d27575\",\"#d27575\",\"#d27575\",\"#d27575\",\"#d27575\",\"#d27575\",\"#d27575\",\"#d27575\"]},\"name\":\"Fiction\",\"orientation\":\"h\",\"text\":[\"1984\",\"The Remains of The Day\",\"Correction\",\"The Midmight Library\",\"The Rings of Saturn\",\"Echoes of Eternity (Siege of Terra #7)\",\"The Unremembered Empire (Horus Heresy #27)\",\"Know No Fear (Horus Heresy #19)\",\"Saturnine (Siege of Terra #4)\",\"Pachinko\",\"Blood Meridian\",\"The End and The Death: Volume 3\",\"The Prince of Tides\",\"Lonesome Dove: A Novel\"],\"x\":[8.5,9.0,9.0,9.0,9.0,9.0,9.0,9.0,9.5,10.0,10.0,10.0,10.0,10.0],\"y\":[0,1,3,4,6,7,8,9,12,14,16,17,18,19],\"type\":\"bar\",\"texttemplate\":\"\\u003ci\\u003e%{text}\\u003c\\u002fi\\u003e by %{customdata[1]}  \"},{\"customdata\":[[\"Science-Nonfiction\",\"Stephen Hawking\"]],\"hovertemplate\":\"\\u003cb\\u003e%{y}\\u003c\\u002fb\\u003e - %{x:.1f}\\u003cbr\\u003e%{customdata[0]}\\u003cextra\\u003e\\u003c\\u002fextra\\u003e\",\"marker\":{\"color\":[\"#eac392\"]},\"name\":\"Science\",\"orientation\":\"h\",\"text\":[\"A Brief History of Time\"],\"x\":[9.0],\"y\":[2],\"type\":\"bar\",\"texttemplate\":\"\\u003ci\\u003e%{text}\\u003c\\u002fi\\u003e by %{customdata[1]}  \"},{\"customdata\":[[\"Nonfiction-History\",\"Patrick Radden Keefe\"],[\"Nonfiction-Memoir\",\"Michelle Zauner\"],[\"Nonfiction-Memoir\",\"Lulu Miller\"],[\"Nonfiction-Graphic Novel\",\"AJ Dungo\"],[\"Nonfiction-History\",\"Toby Lester\"]],\"hovertemplate\":\"\\u003cb\\u003e%{y}\\u003c\\u002fb\\u003e - %{x:.1f}\\u003cbr\\u003e%{customdata[0]}\\u003cextra\\u003e\\u003c\\u002fextra\\u003e\",\"marker\":{\"color\":[\"#529b9c\",\"#529b9c\",\"#529b9c\",\"#529b9c\",\"#529b9c\"]},\"name\":\"Nonfiction\",\"orientation\":\"h\",\"text\":[\"Empire of Pain: The Secret History of the Sackler Dynasty\",\"Crying In H Mart\",\"Why Fish Don't Exist: A Story of Loss, Love, and the Hidden Order of Life\",\"In Waves\",\"DaVinci's Ghost\"],\"x\":[9.0,9.5,9.5,9.5,10.0],\"y\":[5,10,11,13,15],\"type\":\"bar\",\"texttemplate\":\"\\u003ci\\u003e%{text}\\u003c\\u002fi\\u003e by %{customdata[1]}  \"}],                        {\"template\":{\"data\":{\"histogram2dcontour\":[{\"type\":\"histogram2dcontour\",\"colorbar\":{\"outlinewidth\":0,\"ticks\":\"\"},\"colorscale\":[[0.0,\"#0d0887\"],[0.1111111111111111,\"#46039f\"],[0.2222222222222222,\"#7201a8\"],[0.3333333333333333,\"#9c179e\"],[0.4444444444444444,\"#bd3786\"],[0.5555555555555556,\"#d8576b\"],[0.6666666666666666,\"#ed7953\"],[0.7777777777777778,\"#fb9f3a\"],[0.8888888888888888,\"#fdca26\"],[1.0,\"#f0f921\"]]}],\"choropleth\":[{\"type\":\"choropleth\",\"colorbar\":{\"outlinewidth\":0,\"ticks\":\"\"}}],\"histogram2d\":[{\"type\":\"histogram2d\",\"colorbar\":{\"outlinewidth\":0,\"ticks\":\"\"},\"colorscale\":[[0.0,\"#0d0887\"],[0.1111111111111111,\"#46039f\"],[0.2222222222222222,\"#7201a8\"],[0.3333333333333333,\"#9c179e\"],[0.4444444444444444,\"#bd3786\"],[0.5555555555555556,\"#d8576b\"],[0.6666666666666666,\"#ed7953\"],[0.7777777777777778,\"#fb9f3a\"],[0.8888888888888888,\"#fdca26\"],[1.0,\"#f0f921\"]]}],\"heatmap\":[{\"type\":\"heatmap\",\"colorbar\":{\"outlinewidth\":0,\"ticks\":\"\"},\"colorscale\":[[0.0,\"#0d0887\"],[0.1111111111111111,\"#46039f\"],[0.2222222222222222,\"#7201a8\"],[0.3333333333333333,\"#9c179e\"],[0.4444444444444444,\"#bd3786\"],[0.5555555555555556,\"#d8576b\"],[0.6666666666666666,\"#ed7953\"],[0.7777777777777778,\"#fb9f3a\"],[0.8888888888888888,\"#fdca26\"],[1.0,\"#f0f921\"]]}],\"heatmapgl\":[{\"type\":\"heatmapgl\",\"colorbar\":{\"outlinewidth\":0,\"ticks\":\"\"},\"colorscale\":[[0.0,\"#0d0887\"],[0.1111111111111111,\"#46039f\"],[0.2222222222222222,\"#7201a8\"],[0.3333333333333333,\"#9c179e\"],[0.4444444444444444,\"#bd3786\"],[0.5555555555555556,\"#d8576b\"],[0.6666666666666666,\"#ed7953\"],[0.7777777777777778,\"#fb9f3a\"],[0.8888888888888888,\"#fdca26\"],[1.0,\"#f0f921\"]]}],\"contourcarpet\":[{\"type\":\"contourcarpet\",\"colorbar\":{\"outlinewidth\":0,\"ticks\":\"\"}}],\"contour\":[{\"type\":\"contour\",\"colorbar\":{\"outlinewidth\":0,\"ticks\":\"\"},\"colorscale\":[[0.0,\"#0d0887\"],[0.1111111111111111,\"#46039f\"],[0.2222222222222222,\"#7201a8\"],[0.3333333333333333,\"#9c179e\"],[0.4444444444444444,\"#bd3786\"],[0.5555555555555556,\"#d8576b\"],[0.6666666666666666,\"#ed7953\"],[0.7777777777777778,\"#fb9f3a\"],[0.8888888888888888,\"#fdca26\"],[1.0,\"#f0f921\"]]}],\"surface\":[{\"type\":\"surface\",\"colorbar\":{\"outlinewidth\":0,\"ticks\":\"\"},\"colorscale\":[[0.0,\"#0d0887\"],[0.1111111111111111,\"#46039f\"],[0.2222222222222222,\"#7201a8\"],[0.3333333333333333,\"#9c179e\"],[0.4444444444444444,\"#bd3786\"],[0.5555555555555556,\"#d8576b\"],[0.6666666666666666,\"#ed7953\"],[0.7777777777777778,\"#fb9f3a\"],[0.8888888888888888,\"#fdca26\"],[1.0,\"#f0f921\"]]}],\"mesh3d\":[{\"type\":\"mesh3d\",\"colorbar\":{\"outlinewidth\":0,\"ticks\":\"\"}}],\"scatter\":[{\"fillpattern\":{\"fillmode\":\"overlay\",\"size\":10,\"solidity\":0.2},\"type\":\"scatter\"}],\"parcoords\":[{\"type\":\"parcoords\",\"line\":{\"colorbar\":{\"outlinewidth\":0,\"ticks\":\"\"}}}],\"scatterpolargl\":[{\"type\":\"scatterpolargl\",\"marker\":{\"colorbar\":{\"outlinewidth\":0,\"ticks\":\"\"}}}],\"bar\":[{\"error_x\":{\"color\":\"#2a3f5f\"},\"error_y\":{\"color\":\"#2a3f5f\"},\"marker\":{\"line\":{\"color\":\"#E5ECF6\",\"width\":0.5},\"pattern\":{\"fillmode\":\"overlay\",\"size\":10,\"solidity\":0.2}},\"type\":\"bar\"}],\"scattergeo\":[{\"type\":\"scattergeo\",\"marker\":{\"colorbar\":{\"outlinewidth\":0,\"ticks\":\"\"}}}],\"scatterpolar\":[{\"type\":\"scatterpolar\",\"marker\":{\"colorbar\":{\"outlinewidth\":0,\"ticks\":\"\"}}}],\"histogram\":[{\"marker\":{\"pattern\":{\"fillmode\":\"overlay\",\"size\":10,\"solidity\":0.2}},\"type\":\"histogram\"}],\"scattergl\":[{\"type\":\"scattergl\",\"marker\":{\"colorbar\":{\"outlinewidth\":0,\"ticks\":\"\"}}}],\"scatter3d\":[{\"type\":\"scatter3d\",\"line\":{\"colorbar\":{\"outlinewidth\":0,\"ticks\":\"\"}},\"marker\":{\"colorbar\":{\"outlinewidth\":0,\"ticks\":\"\"}}}],\"scattermapbox\":[{\"type\":\"scattermapbox\",\"marker\":{\"colorbar\":{\"outlinewidth\":0,\"ticks\":\"\"}}}],\"scatterternary\":[{\"type\":\"scatterternary\",\"marker\":{\"colorbar\":{\"outlinewidth\":0,\"ticks\":\"\"}}}],\"scattercarpet\":[{\"type\":\"scattercarpet\",\"marker\":{\"colorbar\":{\"outlinewidth\":0,\"ticks\":\"\"}}}],\"carpet\":[{\"aaxis\":{\"endlinecolor\":\"#2a3f5f\",\"gridcolor\":\"white\",\"linecolor\":\"white\",\"minorgridcolor\":\"white\",\"startlinecolor\":\"#2a3f5f\"},\"baxis\":{\"endlinecolor\":\"#2a3f5f\",\"gridcolor\":\"white\",\"linecolor\":\"white\",\"minorgridcolor\":\"white\",\"startlinecolor\":\"#2a3f5f\"},\"type\":\"carpet\"}],\"table\":[{\"cells\":{\"fill\":{\"color\":\"#EBF0F8\"},\"line\":{\"color\":\"white\"}},\"header\":{\"fill\":{\"color\":\"#C8D4E3\"},\"line\":{\"color\":\"white\"}},\"type\":\"table\"}],\"barpolar\":[{\"marker\":{\"line\":{\"color\":\"#E5ECF6\",\"width\":0.5},\"pattern\":{\"fillmode\":\"overlay\",\"size\":10,\"solidity\":0.2}},\"type\":\"barpolar\"}],\"pie\":[{\"automargin\":true,\"type\":\"pie\"}]},\"layout\":{\"autotypenumbers\":\"strict\",\"colorway\":[\"#636efa\",\"#EF553B\",\"#00cc96\",\"#ab63fa\",\"#FFA15A\",\"#19d3f3\",\"#FF6692\",\"#B6E880\",\"#FF97FF\",\"#FECB52\"],\"font\":{\"color\":\"#2a3f5f\"},\"hovermode\":\"closest\",\"hoverlabel\":{\"align\":\"left\"},\"paper_bgcolor\":\"white\",\"plot_bgcolor\":\"#E5ECF6\",\"polar\":{\"bgcolor\":\"#E5ECF6\",\"angularaxis\":{\"gridcolor\":\"white\",\"linecolor\":\"white\",\"ticks\":\"\"},\"radialaxis\":{\"gridcolor\":\"white\",\"linecolor\":\"white\",\"ticks\":\"\"}},\"ternary\":{\"bgcolor\":\"#E5ECF6\",\"aaxis\":{\"gridcolor\":\"white\",\"linecolor\":\"white\",\"ticks\":\"\"},\"baxis\":{\"gridcolor\":\"white\",\"linecolor\":\"white\",\"ticks\":\"\"},\"caxis\":{\"gridcolor\":\"white\",\"linecolor\":\"white\",\"ticks\":\"\"}},\"coloraxis\":{\"colorbar\":{\"outlinewidth\":0,\"ticks\":\"\"}},\"colorscale\":{\"sequential\":[[0.0,\"#0d0887\"],[0.1111111111111111,\"#46039f\"],[0.2222222222222222,\"#7201a8\"],[0.3333333333333333,\"#9c179e\"],[0.4444444444444444,\"#bd3786\"],[0.5555555555555556,\"#d8576b\"],[0.6666666666666666,\"#ed7953\"],[0.7777777777777778,\"#fb9f3a\"],[0.8888888888888888,\"#fdca26\"],[1.0,\"#f0f921\"]],\"sequentialminus\":[[0.0,\"#0d0887\"],[0.1111111111111111,\"#46039f\"],[0.2222222222222222,\"#7201a8\"],[0.3333333333333333,\"#9c179e\"],[0.4444444444444444,\"#bd3786\"],[0.5555555555555556,\"#d8576b\"],[0.6666666666666666,\"#ed7953\"],[0.7777777777777778,\"#fb9f3a\"],[0.8888888888888888,\"#fdca26\"],[1.0,\"#f0f921\"]],\"diverging\":[[0,\"#8e0152\"],[0.1,\"#c51b7d\"],[0.2,\"#de77ae\"],[0.3,\"#f1b6da\"],[0.4,\"#fde0ef\"],[0.5,\"#f7f7f7\"],[0.6,\"#e6f5d0\"],[0.7,\"#b8e186\"],[0.8,\"#7fbc41\"],[0.9,\"#4d9221\"],[1,\"#276419\"]]},\"xaxis\":{\"gridcolor\":\"white\",\"linecolor\":\"white\",\"ticks\":\"\",\"title\":{\"standoff\":15},\"zerolinecolor\":\"white\",\"automargin\":true,\"zerolinewidth\":2},\"yaxis\":{\"gridcolor\":\"white\",\"linecolor\":\"white\",\"ticks\":\"\",\"title\":{\"standoff\":15},\"zerolinecolor\":\"white\",\"automargin\":true,\"zerolinewidth\":2},\"scene\":{\"xaxis\":{\"backgroundcolor\":\"#E5ECF6\",\"gridcolor\":\"white\",\"linecolor\":\"white\",\"showbackground\":true,\"ticks\":\"\",\"zerolinecolor\":\"white\",\"gridwidth\":2},\"yaxis\":{\"backgroundcolor\":\"#E5ECF6\",\"gridcolor\":\"white\",\"linecolor\":\"white\",\"showbackground\":true,\"ticks\":\"\",\"zerolinecolor\":\"white\",\"gridwidth\":2},\"zaxis\":{\"backgroundcolor\":\"#E5ECF6\",\"gridcolor\":\"white\",\"linecolor\":\"white\",\"showbackground\":true,\"ticks\":\"\",\"zerolinecolor\":\"white\",\"gridwidth\":2}},\"shapedefaults\":{\"line\":{\"color\":\"#2a3f5f\"}},\"annotationdefaults\":{\"arrowcolor\":\"#2a3f5f\",\"arrowhead\":0,\"arrowwidth\":1},\"geo\":{\"bgcolor\":\"white\",\"landcolor\":\"#E5ECF6\",\"subunitcolor\":\"white\",\"showland\":true,\"showlakes\":true,\"lakecolor\":\"white\"},\"title\":{\"x\":0.05},\"mapbox\":{\"style\":\"light\"}}},\"yaxis\":{\"ticktext\":[\"#20\",\"#19\",\"#18\",\"#17\",\"#16\",\"#15\",\"#14\",\"#13\",\"#12\",\"#11\",\"#10\",\"#9\",\"#8\",\"#7\",\"#6\",\"#5\",\"#4\",\"#3\",\"#2\",\"#1\"],\"tickvals\":[0,1,2,3,4,5,6,7,8,9,10,11,12,13,14,15,16,17,18,19],\"title\":{},\"showgrid\":false,\"showline\":true,\"showticklabels\":true,\"linecolor\":\"black\",\"gridcolor\":\"#cbcbcb\",\"zerolinewidth\":1},\"legend\":{\"x\":0.5,\"y\":1.05,\"orientation\":\"h\",\"xanchor\":\"center\"},\"title\":{\"font\":{\"size\":40,\"family\":\"Baskerville, Bold\",\"color\":\"#001c40\"},\"text\":\"My Top Rated Books & Stories\\u003cbr\\u003e\\u003csup\\u003eThese are some of the most memorable and impactful books and short stories I've read\"},\"margin\":{\"l\":85,\"r\":85,\"t\":140,\"b\":45},\"xaxis\":{\"title\":{},\"showgrid\":true,\"showline\":false,\"linecolor\":\"black\",\"gridcolor\":\"#cbcbcb\",\"zerolinewidth\":1},\"yaxis2\":{\"showgrid\":false,\"showline\":true,\"showticklabels\":true,\"linecolor\":\"black\",\"gridcolor\":\"#cbcbcb\",\"zerolinewidth\":1},\"font\":{\"family\":\"Baskerville\",\"color\":\"#001c40\",\"size\":14},\"hoverlabel\":{\"font\":{\"size\":16}},\"height\":800,\"showlegend\":true,\"barmode\":\"group\",\"plot_bgcolor\":\"#f0f0f0\",\"paper_bgcolor\":\"#f0f0f0\"},                        {\"modeBarButtonsToRemove\": [\"zoomIn\", \"zoomOut\", \"resetScale2d\", \"select2d\", \"lasso2d\"], \"responsive\": true, \"displaylogo\": false, \"toImageButtonOptions\": {\"format\": \"png\", \"filename\": \"reading-habits\", \"scale\": 1}}                    ).then(function(){\n",
       "                            \n",
       "var gd = document.getElementById('1e4d3f89-8b0f-404e-80bc-5bc37ae1574f');\n",
       "var x = new MutationObserver(function (mutations, observer) {{\n",
       "        var display = window.getComputedStyle(gd).display;\n",
       "        if (!display || display === 'none') {{\n",
       "            console.log([gd, 'removed!']);\n",
       "            Plotly.purge(gd);\n",
       "            observer.disconnect();\n",
       "        }}\n",
       "}});\n",
       "\n",
       "// Listen for the removal of the full notebook cells\n",
       "var notebookContainer = gd.closest('#notebook-container');\n",
       "if (notebookContainer) {{\n",
       "    x.observe(notebookContainer, {childList: true});\n",
       "}}\n",
       "\n",
       "// Listen for the clearing of the current output cell\n",
       "var outputEl = gd.closest('.output');\n",
       "if (outputEl) {{\n",
       "    x.observe(outputEl, {childList: true});\n",
       "}}\n",
       "\n",
       "                        })                };                });            </script>        </div>"
      ]
     },
     "metadata": {},
     "output_type": "display_data"
    }
   ],
   "source": [
    "top_df = df[df['Rating'] >= 8.0].sort_values(by=['Rating']).tail(20).reset_index(drop=True).reset_index()\n",
    "\n",
    "title = \"My Top Rated Books & Stories\"\n",
    "sub = f\"These are some of the most memorable and impactful books and short stories I've read\"\n",
    "plot.top_graph(top_df, 'Rating', 'Title', title, sub)"
   ]
  },
  {
   "cell_type": "markdown",
   "id": "e63253b9-e43b-4b45-a9c1-9dcd70c917ba",
   "metadata": {},
   "source": [
    "### How much have I read over time?\n",
    "\n",
    "This is another interesting visualization because you can clearly see some highs and lows in my reading habits. Life got in the way numerous times, which can help explain the drop from 2021 to 2023. However, at the time of this writing (June, 2024) I'm a bit more dedicated to reading on a daily basis. I'm hoping to continuously read ~24 books a year for the rest of my life - is that ambitious? Of course it is! But that is what tracking data is for - it helps keep me on track."
   ]
  },
  {
   "cell_type": "code",
   "execution_count": 44,
   "id": "d0e14359-ad62-48f2-abe1-74617ed9faed",
   "metadata": {
    "execution": {
     "iopub.execute_input": "2024-07-27T23:38:50.644996Z",
     "iopub.status.busy": "2024-07-27T23:38:50.644996Z",
     "iopub.status.idle": "2024-07-27T23:38:50.706834Z",
     "shell.execute_reply": "2024-07-27T23:38:50.706834Z",
     "shell.execute_reply.started": "2024-07-27T23:38:50.644996Z"
    },
    "tags": []
   },
   "outputs": [
    {
     "data": {
      "application/vnd.plotly.v1+json": {
       "config": {
        "displaylogo": false,
        "modeBarButtonsToRemove": [
         "zoomIn",
         "zoomOut",
         "resetScale2d",
         "select2d",
         "lasso2d"
        ],
        "plotlyServerURL": "https://plot.ly",
        "responsive": true,
        "toImageButtonOptions": {
         "filename": "reading-habits",
         "format": "png",
         "scale": 1
        }
       },
       "data": [
        {
         "customdata": [
          "2020",
          "2021",
          "2022",
          "2023",
          "2024",
          "2025"
         ],
         "hovertemplate": "<b>Books Finished in %{customdata}</b>: %{y}",
         "marker": {
          "color": [
           "#d27575",
           "#529b9c",
           "#eac392",
           "#9cba8f",
           "#675a55",
           "#d27575",
           "#529b9c",
           "#eac392",
           "#9cba8f",
           "#675a55",
           "#d27575",
           "#529b9c",
           "#eac392",
           "#9cba8f",
           "#675a55",
           "#d27575",
           "#529b9c",
           "#eac392",
           "#9cba8f",
           "#675a55",
           "#d27575",
           "#529b9c",
           "#eac392",
           "#9cba8f",
           "#675a55",
           "#d27575",
           "#529b9c",
           "#eac392",
           "#9cba8f",
           "#675a55",
           "#d27575",
           "#529b9c",
           "#eac392",
           "#9cba8f",
           "#675a55",
           "#d27575",
           "#529b9c",
           "#eac392",
           "#9cba8f",
           "#675a55",
           "#d27575",
           "#529b9c",
           "#eac392",
           "#9cba8f",
           "#675a55",
           "#d27575",
           "#529b9c",
           "#eac392",
           "#9cba8f",
           "#675a55",
           "#d27575",
           "#529b9c",
           "#eac392",
           "#9cba8f",
           "#675a55",
           "#d27575",
           "#529b9c",
           "#eac392",
           "#9cba8f",
           "#675a55",
           "#d27575",
           "#529b9c",
           "#eac392",
           "#9cba8f",
           "#675a55",
           "#d27575",
           "#529b9c",
           "#eac392",
           "#9cba8f",
           "#675a55",
           "#d27575",
           "#529b9c",
           "#eac392",
           "#9cba8f",
           "#675a55",
           "#d27575",
           "#529b9c",
           "#eac392",
           "#9cba8f",
           "#675a55",
           "#d27575",
           "#529b9c",
           "#eac392",
           "#9cba8f",
           "#675a55",
           "#d27575",
           "#529b9c",
           "#eac392",
           "#9cba8f",
           "#675a55",
           "#d27575",
           "#529b9c",
           "#eac392",
           "#9cba8f",
           "#675a55",
           "#d27575",
           "#529b9c",
           "#eac392",
           "#9cba8f",
           "#675a55",
           "#d27575",
           "#529b9c",
           "#eac392",
           "#9cba8f",
           "#675a55",
           "#d27575",
           "#529b9c",
           "#eac392",
           "#9cba8f",
           "#675a55",
           "#d27575",
           "#529b9c",
           "#eac392",
           "#9cba8f",
           "#675a55",
           "#d27575",
           "#529b9c",
           "#eac392",
           "#9cba8f",
           "#675a55",
           "#d27575",
           "#529b9c",
           "#eac392",
           "#9cba8f",
           "#675a55",
           "#d27575",
           "#529b9c",
           "#eac392",
           "#9cba8f",
           "#675a55",
           "#d27575",
           "#529b9c",
           "#eac392",
           "#9cba8f",
           "#675a55",
           "#d27575",
           "#529b9c",
           "#eac392",
           "#9cba8f",
           "#675a55",
           "#d27575",
           "#529b9c",
           "#eac392",
           "#9cba8f",
           "#675a55",
           "#d27575",
           "#529b9c",
           "#eac392",
           "#9cba8f",
           "#675a55",
           "#d27575",
           "#529b9c",
           "#eac392",
           "#9cba8f",
           "#675a55",
           "#d27575",
           "#529b9c",
           "#eac392",
           "#9cba8f",
           "#675a55",
           "#d27575",
           "#529b9c",
           "#eac392",
           "#9cba8f",
           "#675a55",
           "#d27575",
           "#529b9c",
           "#eac392",
           "#9cba8f",
           "#675a55",
           "#d27575",
           "#529b9c",
           "#eac392",
           "#9cba8f",
           "#675a55",
           "#d27575",
           "#529b9c",
           "#eac392",
           "#9cba8f",
           "#675a55",
           "#d27575",
           "#529b9c",
           "#eac392",
           "#9cba8f",
           "#675a55",
           "#d27575",
           "#529b9c",
           "#eac392",
           "#9cba8f",
           "#675a55",
           "#d27575",
           "#529b9c",
           "#eac392",
           "#9cba8f",
           "#675a55",
           "#d27575",
           "#529b9c",
           "#eac392",
           "#9cba8f",
           "#675a55",
           "#d27575",
           "#529b9c",
           "#eac392",
           "#9cba8f",
           "#675a55",
           "#d27575",
           "#529b9c",
           "#eac392",
           "#9cba8f",
           "#675a55",
           "#d27575",
           "#529b9c",
           "#eac392",
           "#9cba8f",
           "#675a55",
           "#d27575",
           "#529b9c",
           "#eac392",
           "#9cba8f",
           "#675a55"
          ]
         },
         "name": "",
         "showlegend": false,
         "type": "bar",
         "visible": true,
         "x": [
          "2020",
          "2021",
          "2022",
          "2023",
          "2024",
          "2025"
         ],
         "y": [
          1,
          23,
          13,
          6,
          80,
          20
         ]
        },
        {
         "customdata": [
          "2020-09",
          "2020-12",
          "2021-03",
          "2021-04",
          "2021-05",
          "2021-06",
          "2021-07",
          "2021-08",
          "2021-09",
          "2021-10",
          "2021-12",
          "2022-01",
          "2022-02",
          "2022-03",
          "2022-05",
          "2022-06",
          "2022-08",
          "2022-12",
          "2023-01",
          "2023-02",
          "2023-04",
          "2023-06",
          "2023-09",
          "2023-10",
          "2023-12",
          "2024-01",
          "2024-02",
          "2024-03",
          "2024-04",
          "2024-05",
          "2024-06",
          "2024-07",
          "2024-08",
          "2024-09",
          "2024-10",
          "2024-11",
          "2024-12",
          "2025-01",
          "2025-02",
          "2025-03",
          "2025-04",
          "2025-05",
          "2025-06",
          "2025-07"
         ],
         "hovertemplate": "<b>Books Finished in %{customdata}</b>: %{y}",
         "marker": {
          "color": [
           "#d27575",
           "#529b9c",
           "#eac392",
           "#9cba8f",
           "#675a55",
           "#d27575",
           "#529b9c",
           "#eac392",
           "#9cba8f",
           "#675a55",
           "#d27575",
           "#529b9c",
           "#eac392",
           "#9cba8f",
           "#675a55",
           "#d27575",
           "#529b9c",
           "#eac392",
           "#9cba8f",
           "#675a55",
           "#d27575",
           "#529b9c",
           "#eac392",
           "#9cba8f",
           "#675a55",
           "#d27575",
           "#529b9c",
           "#eac392",
           "#9cba8f",
           "#675a55",
           "#d27575",
           "#529b9c",
           "#eac392",
           "#9cba8f",
           "#675a55",
           "#d27575",
           "#529b9c",
           "#eac392",
           "#9cba8f",
           "#675a55",
           "#d27575",
           "#529b9c",
           "#eac392",
           "#9cba8f",
           "#675a55",
           "#d27575",
           "#529b9c",
           "#eac392",
           "#9cba8f",
           "#675a55",
           "#d27575",
           "#529b9c",
           "#eac392",
           "#9cba8f",
           "#675a55",
           "#d27575",
           "#529b9c",
           "#eac392",
           "#9cba8f",
           "#675a55",
           "#d27575",
           "#529b9c",
           "#eac392",
           "#9cba8f",
           "#675a55",
           "#d27575",
           "#529b9c",
           "#eac392",
           "#9cba8f",
           "#675a55",
           "#d27575",
           "#529b9c",
           "#eac392",
           "#9cba8f",
           "#675a55",
           "#d27575",
           "#529b9c",
           "#eac392",
           "#9cba8f",
           "#675a55",
           "#d27575",
           "#529b9c",
           "#eac392",
           "#9cba8f",
           "#675a55",
           "#d27575",
           "#529b9c",
           "#eac392",
           "#9cba8f",
           "#675a55",
           "#d27575",
           "#529b9c",
           "#eac392",
           "#9cba8f",
           "#675a55",
           "#d27575",
           "#529b9c",
           "#eac392",
           "#9cba8f",
           "#675a55",
           "#d27575",
           "#529b9c",
           "#eac392",
           "#9cba8f",
           "#675a55",
           "#d27575",
           "#529b9c",
           "#eac392",
           "#9cba8f",
           "#675a55",
           "#d27575",
           "#529b9c",
           "#eac392",
           "#9cba8f",
           "#675a55",
           "#d27575",
           "#529b9c",
           "#eac392",
           "#9cba8f",
           "#675a55",
           "#d27575",
           "#529b9c",
           "#eac392",
           "#9cba8f",
           "#675a55",
           "#d27575",
           "#529b9c",
           "#eac392",
           "#9cba8f",
           "#675a55",
           "#d27575",
           "#529b9c",
           "#eac392",
           "#9cba8f",
           "#675a55",
           "#d27575",
           "#529b9c",
           "#eac392",
           "#9cba8f",
           "#675a55",
           "#d27575",
           "#529b9c",
           "#eac392",
           "#9cba8f",
           "#675a55",
           "#d27575",
           "#529b9c",
           "#eac392",
           "#9cba8f",
           "#675a55",
           "#d27575",
           "#529b9c",
           "#eac392",
           "#9cba8f",
           "#675a55",
           "#d27575",
           "#529b9c",
           "#eac392",
           "#9cba8f",
           "#675a55",
           "#d27575",
           "#529b9c",
           "#eac392",
           "#9cba8f",
           "#675a55",
           "#d27575",
           "#529b9c",
           "#eac392",
           "#9cba8f",
           "#675a55",
           "#d27575",
           "#529b9c",
           "#eac392",
           "#9cba8f",
           "#675a55",
           "#d27575",
           "#529b9c",
           "#eac392",
           "#9cba8f",
           "#675a55",
           "#d27575",
           "#529b9c",
           "#eac392",
           "#9cba8f",
           "#675a55",
           "#d27575",
           "#529b9c",
           "#eac392",
           "#9cba8f",
           "#675a55",
           "#d27575",
           "#529b9c",
           "#eac392",
           "#9cba8f",
           "#675a55",
           "#d27575",
           "#529b9c",
           "#eac392",
           "#9cba8f",
           "#675a55",
           "#d27575",
           "#529b9c",
           "#eac392",
           "#9cba8f",
           "#675a55",
           "#d27575",
           "#529b9c",
           "#eac392",
           "#9cba8f",
           "#675a55",
           "#d27575",
           "#529b9c",
           "#eac392",
           "#9cba8f",
           "#675a55",
           "#d27575",
           "#529b9c",
           "#eac392",
           "#9cba8f",
           "#675a55"
          ]
         },
         "name": "",
         "showlegend": false,
         "type": "bar",
         "visible": false,
         "x": [
          "2020-09",
          "2020-12",
          "2021-03",
          "2021-04",
          "2021-05",
          "2021-06",
          "2021-07",
          "2021-08",
          "2021-09",
          "2021-10",
          "2021-12",
          "2022-01",
          "2022-02",
          "2022-03",
          "2022-05",
          "2022-06",
          "2022-08",
          "2022-12",
          "2023-01",
          "2023-02",
          "2023-04",
          "2023-06",
          "2023-09",
          "2023-10",
          "2023-12",
          "2024-01",
          "2024-02",
          "2024-03",
          "2024-04",
          "2024-05",
          "2024-06",
          "2024-07",
          "2024-08",
          "2024-09",
          "2024-10",
          "2024-11",
          "2024-12",
          "2025-01",
          "2025-02",
          "2025-03",
          "2025-04",
          "2025-05",
          "2025-06",
          "2025-07"
         ],
         "y": [
          0,
          1,
          2,
          8,
          1,
          1,
          1,
          5,
          3,
          0,
          2,
          3,
          1,
          1,
          3,
          3,
          1,
          1,
          2,
          1,
          0,
          0,
          1,
          2,
          0,
          3,
          2,
          1,
          4,
          3,
          5,
          17,
          4,
          9,
          15,
          9,
          8,
          2,
          2,
          2,
          5,
          3,
          3,
          3
         ]
        }
       ],
       "layout": {
        "barmode": "group",
        "font": {
         "color": "#001c40",
         "family": "Baskerville",
         "size": 14
        },
        "height": 600,
        "hoverlabel": {
         "font": {
          "size": 16
         }
        },
        "margin": {
         "b": 45,
         "l": 85,
         "r": 85,
         "t": 120
        },
        "paper_bgcolor": "#f0f0f0",
        "plot_bgcolor": "#f0f0f0",
        "showlegend": false,
        "template": {
         "data": {
          "bar": [
           {
            "error_x": {
             "color": "#2a3f5f"
            },
            "error_y": {
             "color": "#2a3f5f"
            },
            "marker": {
             "line": {
              "color": "#E5ECF6",
              "width": 0.5
             },
             "pattern": {
              "fillmode": "overlay",
              "size": 10,
              "solidity": 0.2
             }
            },
            "type": "bar"
           }
          ],
          "barpolar": [
           {
            "marker": {
             "line": {
              "color": "#E5ECF6",
              "width": 0.5
             },
             "pattern": {
              "fillmode": "overlay",
              "size": 10,
              "solidity": 0.2
             }
            },
            "type": "barpolar"
           }
          ],
          "carpet": [
           {
            "aaxis": {
             "endlinecolor": "#2a3f5f",
             "gridcolor": "white",
             "linecolor": "white",
             "minorgridcolor": "white",
             "startlinecolor": "#2a3f5f"
            },
            "baxis": {
             "endlinecolor": "#2a3f5f",
             "gridcolor": "white",
             "linecolor": "white",
             "minorgridcolor": "white",
             "startlinecolor": "#2a3f5f"
            },
            "type": "carpet"
           }
          ],
          "choropleth": [
           {
            "colorbar": {
             "outlinewidth": 0,
             "ticks": ""
            },
            "type": "choropleth"
           }
          ],
          "contour": [
           {
            "colorbar": {
             "outlinewidth": 0,
             "ticks": ""
            },
            "colorscale": [
             [
              0,
              "#0d0887"
             ],
             [
              0.1111111111111111,
              "#46039f"
             ],
             [
              0.2222222222222222,
              "#7201a8"
             ],
             [
              0.3333333333333333,
              "#9c179e"
             ],
             [
              0.4444444444444444,
              "#bd3786"
             ],
             [
              0.5555555555555556,
              "#d8576b"
             ],
             [
              0.6666666666666666,
              "#ed7953"
             ],
             [
              0.7777777777777778,
              "#fb9f3a"
             ],
             [
              0.8888888888888888,
              "#fdca26"
             ],
             [
              1,
              "#f0f921"
             ]
            ],
            "type": "contour"
           }
          ],
          "contourcarpet": [
           {
            "colorbar": {
             "outlinewidth": 0,
             "ticks": ""
            },
            "type": "contourcarpet"
           }
          ],
          "heatmap": [
           {
            "colorbar": {
             "outlinewidth": 0,
             "ticks": ""
            },
            "colorscale": [
             [
              0,
              "#0d0887"
             ],
             [
              0.1111111111111111,
              "#46039f"
             ],
             [
              0.2222222222222222,
              "#7201a8"
             ],
             [
              0.3333333333333333,
              "#9c179e"
             ],
             [
              0.4444444444444444,
              "#bd3786"
             ],
             [
              0.5555555555555556,
              "#d8576b"
             ],
             [
              0.6666666666666666,
              "#ed7953"
             ],
             [
              0.7777777777777778,
              "#fb9f3a"
             ],
             [
              0.8888888888888888,
              "#fdca26"
             ],
             [
              1,
              "#f0f921"
             ]
            ],
            "type": "heatmap"
           }
          ],
          "heatmapgl": [
           {
            "colorbar": {
             "outlinewidth": 0,
             "ticks": ""
            },
            "colorscale": [
             [
              0,
              "#0d0887"
             ],
             [
              0.1111111111111111,
              "#46039f"
             ],
             [
              0.2222222222222222,
              "#7201a8"
             ],
             [
              0.3333333333333333,
              "#9c179e"
             ],
             [
              0.4444444444444444,
              "#bd3786"
             ],
             [
              0.5555555555555556,
              "#d8576b"
             ],
             [
              0.6666666666666666,
              "#ed7953"
             ],
             [
              0.7777777777777778,
              "#fb9f3a"
             ],
             [
              0.8888888888888888,
              "#fdca26"
             ],
             [
              1,
              "#f0f921"
             ]
            ],
            "type": "heatmapgl"
           }
          ],
          "histogram": [
           {
            "marker": {
             "pattern": {
              "fillmode": "overlay",
              "size": 10,
              "solidity": 0.2
             }
            },
            "type": "histogram"
           }
          ],
          "histogram2d": [
           {
            "colorbar": {
             "outlinewidth": 0,
             "ticks": ""
            },
            "colorscale": [
             [
              0,
              "#0d0887"
             ],
             [
              0.1111111111111111,
              "#46039f"
             ],
             [
              0.2222222222222222,
              "#7201a8"
             ],
             [
              0.3333333333333333,
              "#9c179e"
             ],
             [
              0.4444444444444444,
              "#bd3786"
             ],
             [
              0.5555555555555556,
              "#d8576b"
             ],
             [
              0.6666666666666666,
              "#ed7953"
             ],
             [
              0.7777777777777778,
              "#fb9f3a"
             ],
             [
              0.8888888888888888,
              "#fdca26"
             ],
             [
              1,
              "#f0f921"
             ]
            ],
            "type": "histogram2d"
           }
          ],
          "histogram2dcontour": [
           {
            "colorbar": {
             "outlinewidth": 0,
             "ticks": ""
            },
            "colorscale": [
             [
              0,
              "#0d0887"
             ],
             [
              0.1111111111111111,
              "#46039f"
             ],
             [
              0.2222222222222222,
              "#7201a8"
             ],
             [
              0.3333333333333333,
              "#9c179e"
             ],
             [
              0.4444444444444444,
              "#bd3786"
             ],
             [
              0.5555555555555556,
              "#d8576b"
             ],
             [
              0.6666666666666666,
              "#ed7953"
             ],
             [
              0.7777777777777778,
              "#fb9f3a"
             ],
             [
              0.8888888888888888,
              "#fdca26"
             ],
             [
              1,
              "#f0f921"
             ]
            ],
            "type": "histogram2dcontour"
           }
          ],
          "mesh3d": [
           {
            "colorbar": {
             "outlinewidth": 0,
             "ticks": ""
            },
            "type": "mesh3d"
           }
          ],
          "parcoords": [
           {
            "line": {
             "colorbar": {
              "outlinewidth": 0,
              "ticks": ""
             }
            },
            "type": "parcoords"
           }
          ],
          "pie": [
           {
            "automargin": true,
            "type": "pie"
           }
          ],
          "scatter": [
           {
            "fillpattern": {
             "fillmode": "overlay",
             "size": 10,
             "solidity": 0.2
            },
            "type": "scatter"
           }
          ],
          "scatter3d": [
           {
            "line": {
             "colorbar": {
              "outlinewidth": 0,
              "ticks": ""
             }
            },
            "marker": {
             "colorbar": {
              "outlinewidth": 0,
              "ticks": ""
             }
            },
            "type": "scatter3d"
           }
          ],
          "scattercarpet": [
           {
            "marker": {
             "colorbar": {
              "outlinewidth": 0,
              "ticks": ""
             }
            },
            "type": "scattercarpet"
           }
          ],
          "scattergeo": [
           {
            "marker": {
             "colorbar": {
              "outlinewidth": 0,
              "ticks": ""
             }
            },
            "type": "scattergeo"
           }
          ],
          "scattergl": [
           {
            "marker": {
             "colorbar": {
              "outlinewidth": 0,
              "ticks": ""
             }
            },
            "type": "scattergl"
           }
          ],
          "scattermapbox": [
           {
            "marker": {
             "colorbar": {
              "outlinewidth": 0,
              "ticks": ""
             }
            },
            "type": "scattermapbox"
           }
          ],
          "scatterpolar": [
           {
            "marker": {
             "colorbar": {
              "outlinewidth": 0,
              "ticks": ""
             }
            },
            "type": "scatterpolar"
           }
          ],
          "scatterpolargl": [
           {
            "marker": {
             "colorbar": {
              "outlinewidth": 0,
              "ticks": ""
             }
            },
            "type": "scatterpolargl"
           }
          ],
          "scatterternary": [
           {
            "marker": {
             "colorbar": {
              "outlinewidth": 0,
              "ticks": ""
             }
            },
            "type": "scatterternary"
           }
          ],
          "surface": [
           {
            "colorbar": {
             "outlinewidth": 0,
             "ticks": ""
            },
            "colorscale": [
             [
              0,
              "#0d0887"
             ],
             [
              0.1111111111111111,
              "#46039f"
             ],
             [
              0.2222222222222222,
              "#7201a8"
             ],
             [
              0.3333333333333333,
              "#9c179e"
             ],
             [
              0.4444444444444444,
              "#bd3786"
             ],
             [
              0.5555555555555556,
              "#d8576b"
             ],
             [
              0.6666666666666666,
              "#ed7953"
             ],
             [
              0.7777777777777778,
              "#fb9f3a"
             ],
             [
              0.8888888888888888,
              "#fdca26"
             ],
             [
              1,
              "#f0f921"
             ]
            ],
            "type": "surface"
           }
          ],
          "table": [
           {
            "cells": {
             "fill": {
              "color": "#EBF0F8"
             },
             "line": {
              "color": "white"
             }
            },
            "header": {
             "fill": {
              "color": "#C8D4E3"
             },
             "line": {
              "color": "white"
             }
            },
            "type": "table"
           }
          ]
         },
         "layout": {
          "annotationdefaults": {
           "arrowcolor": "#2a3f5f",
           "arrowhead": 0,
           "arrowwidth": 1
          },
          "autotypenumbers": "strict",
          "coloraxis": {
           "colorbar": {
            "outlinewidth": 0,
            "ticks": ""
           }
          },
          "colorscale": {
           "diverging": [
            [
             0,
             "#8e0152"
            ],
            [
             0.1,
             "#c51b7d"
            ],
            [
             0.2,
             "#de77ae"
            ],
            [
             0.3,
             "#f1b6da"
            ],
            [
             0.4,
             "#fde0ef"
            ],
            [
             0.5,
             "#f7f7f7"
            ],
            [
             0.6,
             "#e6f5d0"
            ],
            [
             0.7,
             "#b8e186"
            ],
            [
             0.8,
             "#7fbc41"
            ],
            [
             0.9,
             "#4d9221"
            ],
            [
             1,
             "#276419"
            ]
           ],
           "sequential": [
            [
             0,
             "#0d0887"
            ],
            [
             0.1111111111111111,
             "#46039f"
            ],
            [
             0.2222222222222222,
             "#7201a8"
            ],
            [
             0.3333333333333333,
             "#9c179e"
            ],
            [
             0.4444444444444444,
             "#bd3786"
            ],
            [
             0.5555555555555556,
             "#d8576b"
            ],
            [
             0.6666666666666666,
             "#ed7953"
            ],
            [
             0.7777777777777778,
             "#fb9f3a"
            ],
            [
             0.8888888888888888,
             "#fdca26"
            ],
            [
             1,
             "#f0f921"
            ]
           ],
           "sequentialminus": [
            [
             0,
             "#0d0887"
            ],
            [
             0.1111111111111111,
             "#46039f"
            ],
            [
             0.2222222222222222,
             "#7201a8"
            ],
            [
             0.3333333333333333,
             "#9c179e"
            ],
            [
             0.4444444444444444,
             "#bd3786"
            ],
            [
             0.5555555555555556,
             "#d8576b"
            ],
            [
             0.6666666666666666,
             "#ed7953"
            ],
            [
             0.7777777777777778,
             "#fb9f3a"
            ],
            [
             0.8888888888888888,
             "#fdca26"
            ],
            [
             1,
             "#f0f921"
            ]
           ]
          },
          "colorway": [
           "#636efa",
           "#EF553B",
           "#00cc96",
           "#ab63fa",
           "#FFA15A",
           "#19d3f3",
           "#FF6692",
           "#B6E880",
           "#FF97FF",
           "#FECB52"
          ],
          "font": {
           "color": "#2a3f5f"
          },
          "geo": {
           "bgcolor": "white",
           "lakecolor": "white",
           "landcolor": "#E5ECF6",
           "showlakes": true,
           "showland": true,
           "subunitcolor": "white"
          },
          "hoverlabel": {
           "align": "left"
          },
          "hovermode": "closest",
          "mapbox": {
           "style": "light"
          },
          "paper_bgcolor": "white",
          "plot_bgcolor": "#E5ECF6",
          "polar": {
           "angularaxis": {
            "gridcolor": "white",
            "linecolor": "white",
            "ticks": ""
           },
           "bgcolor": "#E5ECF6",
           "radialaxis": {
            "gridcolor": "white",
            "linecolor": "white",
            "ticks": ""
           }
          },
          "scene": {
           "xaxis": {
            "backgroundcolor": "#E5ECF6",
            "gridcolor": "white",
            "gridwidth": 2,
            "linecolor": "white",
            "showbackground": true,
            "ticks": "",
            "zerolinecolor": "white"
           },
           "yaxis": {
            "backgroundcolor": "#E5ECF6",
            "gridcolor": "white",
            "gridwidth": 2,
            "linecolor": "white",
            "showbackground": true,
            "ticks": "",
            "zerolinecolor": "white"
           },
           "zaxis": {
            "backgroundcolor": "#E5ECF6",
            "gridcolor": "white",
            "gridwidth": 2,
            "linecolor": "white",
            "showbackground": true,
            "ticks": "",
            "zerolinecolor": "white"
           }
          },
          "shapedefaults": {
           "line": {
            "color": "#2a3f5f"
           }
          },
          "ternary": {
           "aaxis": {
            "gridcolor": "white",
            "linecolor": "white",
            "ticks": ""
           },
           "baxis": {
            "gridcolor": "white",
            "linecolor": "white",
            "ticks": ""
           },
           "bgcolor": "#E5ECF6",
           "caxis": {
            "gridcolor": "white",
            "linecolor": "white",
            "ticks": ""
           }
          },
          "title": {
           "x": 0.05
          },
          "xaxis": {
           "automargin": true,
           "gridcolor": "white",
           "linecolor": "white",
           "ticks": "",
           "title": {
            "standoff": 15
           },
           "zerolinecolor": "white",
           "zerolinewidth": 2
          },
          "yaxis": {
           "automargin": true,
           "gridcolor": "white",
           "linecolor": "white",
           "ticks": "",
           "title": {
            "standoff": 15
           },
           "zerolinecolor": "white",
           "zerolinewidth": 2
          }
         }
        },
        "title": {
         "font": {
          "color": "#001c40",
          "family": "Baskerville, Bold",
          "size": 40
         },
         "text": "How Much I've Read Over Time<br><sup>Total Number of Books Finished by Year"
        },
        "updatemenus": [
         {
          "active": 0,
          "buttons": [
           {
            "args": [
             {
              "visible": [
               true,
               false
              ],
              "x": [
               [
                "2020",
                "2021",
                "2022",
                "2023",
                "2024",
                "2025"
               ]
              ],
              "y": [
               [
                1,
                23,
                13,
                6,
                80,
                20
               ]
              ]
             },
             {
              "title.text": "How Much I've Read Over Time<br><sup>Total Number of Books Finished by Year"
             }
            ],
            "label": "Year",
            "method": "update"
           },
           {
            "args": [
             {
              "visible": [
               false,
               true
              ],
              "x": [
               [
                "2020-09",
                "2020-12",
                "2021-03",
                "2021-04",
                "2021-05",
                "2021-06",
                "2021-07",
                "2021-08",
                "2021-09",
                "2021-10",
                "2021-12",
                "2022-01",
                "2022-02",
                "2022-03",
                "2022-05",
                "2022-06",
                "2022-08",
                "2022-12",
                "2023-01",
                "2023-02",
                "2023-04",
                "2023-06",
                "2023-09",
                "2023-10",
                "2023-12",
                "2024-01",
                "2024-02",
                "2024-03",
                "2024-04",
                "2024-05",
                "2024-06",
                "2024-07",
                "2024-08",
                "2024-09",
                "2024-10",
                "2024-11",
                "2024-12",
                "2025-01",
                "2025-02",
                "2025-03",
                "2025-04",
                "2025-05",
                "2025-06",
                "2025-07"
               ]
              ],
              "y": [
               [
                0,
                1,
                2,
                8,
                1,
                1,
                1,
                5,
                3,
                0,
                2,
                3,
                1,
                1,
                3,
                3,
                1,
                1,
                2,
                1,
                0,
                0,
                1,
                2,
                0,
                3,
                2,
                1,
                4,
                3,
                5,
                17,
                4,
                9,
                15,
                9,
                8,
                2,
                2,
                2,
                5,
                3,
                3,
                3
               ]
              ]
             },
             {
              "title.text": "How Much I've Read Over Time<br><sup>Total Number of Books Finished by Year-Month"
             }
            ],
            "label": "Year-Month",
            "method": "update"
           }
          ],
          "x": 1,
          "xanchor": "right",
          "y": 1.16,
          "yanchor": "top"
         }
        ],
        "xaxis": {
         "gridcolor": "#cbcbcb",
         "linecolor": "black",
         "showgrid": false,
         "showline": true,
         "title": {},
         "zerolinewidth": 1
        },
        "yaxis": {
         "gridcolor": "#cbcbcb",
         "linecolor": "black",
         "showgrid": true,
         "showline": false,
         "showticklabels": true,
         "title": {},
         "zerolinewidth": 1
        },
        "yaxis2": {
         "gridcolor": "#cbcbcb",
         "linecolor": "black",
         "showgrid": true,
         "showline": false,
         "showticklabels": true,
         "zerolinewidth": 1
        }
       }
      },
      "text/html": [
       "<div>                            <div id=\"c0748912-b952-4f86-8265-eebc47468a21\" class=\"plotly-graph-div\" style=\"height:600px; width:100%;\"></div>            <script type=\"text/javascript\">                require([\"plotly\"], function(Plotly) {                    window.PLOTLYENV=window.PLOTLYENV || {};                                    if (document.getElementById(\"c0748912-b952-4f86-8265-eebc47468a21\")) {                    Plotly.newPlot(                        \"c0748912-b952-4f86-8265-eebc47468a21\",                        [{\"customdata\":[\"2020\",\"2021\",\"2022\",\"2023\",\"2024\",\"2025\"],\"hovertemplate\":\"\\u003cb\\u003eBooks Finished in %{customdata}\\u003c\\u002fb\\u003e: %{y}\",\"marker\":{\"color\":[\"#d27575\",\"#529b9c\",\"#eac392\",\"#9cba8f\",\"#675a55\",\"#d27575\",\"#529b9c\",\"#eac392\",\"#9cba8f\",\"#675a55\",\"#d27575\",\"#529b9c\",\"#eac392\",\"#9cba8f\",\"#675a55\",\"#d27575\",\"#529b9c\",\"#eac392\",\"#9cba8f\",\"#675a55\",\"#d27575\",\"#529b9c\",\"#eac392\",\"#9cba8f\",\"#675a55\",\"#d27575\",\"#529b9c\",\"#eac392\",\"#9cba8f\",\"#675a55\",\"#d27575\",\"#529b9c\",\"#eac392\",\"#9cba8f\",\"#675a55\",\"#d27575\",\"#529b9c\",\"#eac392\",\"#9cba8f\",\"#675a55\",\"#d27575\",\"#529b9c\",\"#eac392\",\"#9cba8f\",\"#675a55\",\"#d27575\",\"#529b9c\",\"#eac392\",\"#9cba8f\",\"#675a55\",\"#d27575\",\"#529b9c\",\"#eac392\",\"#9cba8f\",\"#675a55\",\"#d27575\",\"#529b9c\",\"#eac392\",\"#9cba8f\",\"#675a55\",\"#d27575\",\"#529b9c\",\"#eac392\",\"#9cba8f\",\"#675a55\",\"#d27575\",\"#529b9c\",\"#eac392\",\"#9cba8f\",\"#675a55\",\"#d27575\",\"#529b9c\",\"#eac392\",\"#9cba8f\",\"#675a55\",\"#d27575\",\"#529b9c\",\"#eac392\",\"#9cba8f\",\"#675a55\",\"#d27575\",\"#529b9c\",\"#eac392\",\"#9cba8f\",\"#675a55\",\"#d27575\",\"#529b9c\",\"#eac392\",\"#9cba8f\",\"#675a55\",\"#d27575\",\"#529b9c\",\"#eac392\",\"#9cba8f\",\"#675a55\",\"#d27575\",\"#529b9c\",\"#eac392\",\"#9cba8f\",\"#675a55\",\"#d27575\",\"#529b9c\",\"#eac392\",\"#9cba8f\",\"#675a55\",\"#d27575\",\"#529b9c\",\"#eac392\",\"#9cba8f\",\"#675a55\",\"#d27575\",\"#529b9c\",\"#eac392\",\"#9cba8f\",\"#675a55\",\"#d27575\",\"#529b9c\",\"#eac392\",\"#9cba8f\",\"#675a55\",\"#d27575\",\"#529b9c\",\"#eac392\",\"#9cba8f\",\"#675a55\",\"#d27575\",\"#529b9c\",\"#eac392\",\"#9cba8f\",\"#675a55\",\"#d27575\",\"#529b9c\",\"#eac392\",\"#9cba8f\",\"#675a55\",\"#d27575\",\"#529b9c\",\"#eac392\",\"#9cba8f\",\"#675a55\",\"#d27575\",\"#529b9c\",\"#eac392\",\"#9cba8f\",\"#675a55\",\"#d27575\",\"#529b9c\",\"#eac392\",\"#9cba8f\",\"#675a55\",\"#d27575\",\"#529b9c\",\"#eac392\",\"#9cba8f\",\"#675a55\",\"#d27575\",\"#529b9c\",\"#eac392\",\"#9cba8f\",\"#675a55\",\"#d27575\",\"#529b9c\",\"#eac392\",\"#9cba8f\",\"#675a55\",\"#d27575\",\"#529b9c\",\"#eac392\",\"#9cba8f\",\"#675a55\",\"#d27575\",\"#529b9c\",\"#eac392\",\"#9cba8f\",\"#675a55\",\"#d27575\",\"#529b9c\",\"#eac392\",\"#9cba8f\",\"#675a55\",\"#d27575\",\"#529b9c\",\"#eac392\",\"#9cba8f\",\"#675a55\",\"#d27575\",\"#529b9c\",\"#eac392\",\"#9cba8f\",\"#675a55\",\"#d27575\",\"#529b9c\",\"#eac392\",\"#9cba8f\",\"#675a55\",\"#d27575\",\"#529b9c\",\"#eac392\",\"#9cba8f\",\"#675a55\",\"#d27575\",\"#529b9c\",\"#eac392\",\"#9cba8f\",\"#675a55\",\"#d27575\",\"#529b9c\",\"#eac392\",\"#9cba8f\",\"#675a55\",\"#d27575\",\"#529b9c\",\"#eac392\",\"#9cba8f\",\"#675a55\",\"#d27575\",\"#529b9c\",\"#eac392\",\"#9cba8f\",\"#675a55\"]},\"name\":\"\",\"showlegend\":false,\"visible\":true,\"x\":[\"2020\",\"2021\",\"2022\",\"2023\",\"2024\",\"2025\"],\"y\":[1.0,23.0,13.0,6.0,80.0,20.0],\"type\":\"bar\"},{\"customdata\":[\"2020-09\",\"2020-12\",\"2021-03\",\"2021-04\",\"2021-05\",\"2021-06\",\"2021-07\",\"2021-08\",\"2021-09\",\"2021-10\",\"2021-12\",\"2022-01\",\"2022-02\",\"2022-03\",\"2022-05\",\"2022-06\",\"2022-08\",\"2022-12\",\"2023-01\",\"2023-02\",\"2023-04\",\"2023-06\",\"2023-09\",\"2023-10\",\"2023-12\",\"2024-01\",\"2024-02\",\"2024-03\",\"2024-04\",\"2024-05\",\"2024-06\",\"2024-07\",\"2024-08\",\"2024-09\",\"2024-10\",\"2024-11\",\"2024-12\",\"2025-01\",\"2025-02\",\"2025-03\",\"2025-04\",\"2025-05\",\"2025-06\",\"2025-07\"],\"hovertemplate\":\"\\u003cb\\u003eBooks Finished in %{customdata}\\u003c\\u002fb\\u003e: %{y}\",\"marker\":{\"color\":[\"#d27575\",\"#529b9c\",\"#eac392\",\"#9cba8f\",\"#675a55\",\"#d27575\",\"#529b9c\",\"#eac392\",\"#9cba8f\",\"#675a55\",\"#d27575\",\"#529b9c\",\"#eac392\",\"#9cba8f\",\"#675a55\",\"#d27575\",\"#529b9c\",\"#eac392\",\"#9cba8f\",\"#675a55\",\"#d27575\",\"#529b9c\",\"#eac392\",\"#9cba8f\",\"#675a55\",\"#d27575\",\"#529b9c\",\"#eac392\",\"#9cba8f\",\"#675a55\",\"#d27575\",\"#529b9c\",\"#eac392\",\"#9cba8f\",\"#675a55\",\"#d27575\",\"#529b9c\",\"#eac392\",\"#9cba8f\",\"#675a55\",\"#d27575\",\"#529b9c\",\"#eac392\",\"#9cba8f\",\"#675a55\",\"#d27575\",\"#529b9c\",\"#eac392\",\"#9cba8f\",\"#675a55\",\"#d27575\",\"#529b9c\",\"#eac392\",\"#9cba8f\",\"#675a55\",\"#d27575\",\"#529b9c\",\"#eac392\",\"#9cba8f\",\"#675a55\",\"#d27575\",\"#529b9c\",\"#eac392\",\"#9cba8f\",\"#675a55\",\"#d27575\",\"#529b9c\",\"#eac392\",\"#9cba8f\",\"#675a55\",\"#d27575\",\"#529b9c\",\"#eac392\",\"#9cba8f\",\"#675a55\",\"#d27575\",\"#529b9c\",\"#eac392\",\"#9cba8f\",\"#675a55\",\"#d27575\",\"#529b9c\",\"#eac392\",\"#9cba8f\",\"#675a55\",\"#d27575\",\"#529b9c\",\"#eac392\",\"#9cba8f\",\"#675a55\",\"#d27575\",\"#529b9c\",\"#eac392\",\"#9cba8f\",\"#675a55\",\"#d27575\",\"#529b9c\",\"#eac392\",\"#9cba8f\",\"#675a55\",\"#d27575\",\"#529b9c\",\"#eac392\",\"#9cba8f\",\"#675a55\",\"#d27575\",\"#529b9c\",\"#eac392\",\"#9cba8f\",\"#675a55\",\"#d27575\",\"#529b9c\",\"#eac392\",\"#9cba8f\",\"#675a55\",\"#d27575\",\"#529b9c\",\"#eac392\",\"#9cba8f\",\"#675a55\",\"#d27575\",\"#529b9c\",\"#eac392\",\"#9cba8f\",\"#675a55\",\"#d27575\",\"#529b9c\",\"#eac392\",\"#9cba8f\",\"#675a55\",\"#d27575\",\"#529b9c\",\"#eac392\",\"#9cba8f\",\"#675a55\",\"#d27575\",\"#529b9c\",\"#eac392\",\"#9cba8f\",\"#675a55\",\"#d27575\",\"#529b9c\",\"#eac392\",\"#9cba8f\",\"#675a55\",\"#d27575\",\"#529b9c\",\"#eac392\",\"#9cba8f\",\"#675a55\",\"#d27575\",\"#529b9c\",\"#eac392\",\"#9cba8f\",\"#675a55\",\"#d27575\",\"#529b9c\",\"#eac392\",\"#9cba8f\",\"#675a55\",\"#d27575\",\"#529b9c\",\"#eac392\",\"#9cba8f\",\"#675a55\",\"#d27575\",\"#529b9c\",\"#eac392\",\"#9cba8f\",\"#675a55\",\"#d27575\",\"#529b9c\",\"#eac392\",\"#9cba8f\",\"#675a55\",\"#d27575\",\"#529b9c\",\"#eac392\",\"#9cba8f\",\"#675a55\",\"#d27575\",\"#529b9c\",\"#eac392\",\"#9cba8f\",\"#675a55\",\"#d27575\",\"#529b9c\",\"#eac392\",\"#9cba8f\",\"#675a55\",\"#d27575\",\"#529b9c\",\"#eac392\",\"#9cba8f\",\"#675a55\",\"#d27575\",\"#529b9c\",\"#eac392\",\"#9cba8f\",\"#675a55\",\"#d27575\",\"#529b9c\",\"#eac392\",\"#9cba8f\",\"#675a55\",\"#d27575\",\"#529b9c\",\"#eac392\",\"#9cba8f\",\"#675a55\",\"#d27575\",\"#529b9c\",\"#eac392\",\"#9cba8f\",\"#675a55\",\"#d27575\",\"#529b9c\",\"#eac392\",\"#9cba8f\",\"#675a55\"]},\"name\":\"\",\"showlegend\":false,\"visible\":false,\"x\":[\"2020-09\",\"2020-12\",\"2021-03\",\"2021-04\",\"2021-05\",\"2021-06\",\"2021-07\",\"2021-08\",\"2021-09\",\"2021-10\",\"2021-12\",\"2022-01\",\"2022-02\",\"2022-03\",\"2022-05\",\"2022-06\",\"2022-08\",\"2022-12\",\"2023-01\",\"2023-02\",\"2023-04\",\"2023-06\",\"2023-09\",\"2023-10\",\"2023-12\",\"2024-01\",\"2024-02\",\"2024-03\",\"2024-04\",\"2024-05\",\"2024-06\",\"2024-07\",\"2024-08\",\"2024-09\",\"2024-10\",\"2024-11\",\"2024-12\",\"2025-01\",\"2025-02\",\"2025-03\",\"2025-04\",\"2025-05\",\"2025-06\",\"2025-07\"],\"y\":[0.0,1.0,2.0,8.0,1.0,1.0,1.0,5.0,3.0,0.0,2.0,3.0,1.0,1.0,3.0,3.0,1.0,1.0,2.0,1.0,0.0,0.0,1.0,2.0,0.0,3.0,2.0,1.0,4.0,3.0,5.0,17.0,4.0,9.0,15.0,9.0,8.0,2.0,2.0,2.0,5.0,3.0,3.0,3.0],\"type\":\"bar\"}],                        {\"template\":{\"data\":{\"histogram2dcontour\":[{\"type\":\"histogram2dcontour\",\"colorbar\":{\"outlinewidth\":0,\"ticks\":\"\"},\"colorscale\":[[0.0,\"#0d0887\"],[0.1111111111111111,\"#46039f\"],[0.2222222222222222,\"#7201a8\"],[0.3333333333333333,\"#9c179e\"],[0.4444444444444444,\"#bd3786\"],[0.5555555555555556,\"#d8576b\"],[0.6666666666666666,\"#ed7953\"],[0.7777777777777778,\"#fb9f3a\"],[0.8888888888888888,\"#fdca26\"],[1.0,\"#f0f921\"]]}],\"choropleth\":[{\"type\":\"choropleth\",\"colorbar\":{\"outlinewidth\":0,\"ticks\":\"\"}}],\"histogram2d\":[{\"type\":\"histogram2d\",\"colorbar\":{\"outlinewidth\":0,\"ticks\":\"\"},\"colorscale\":[[0.0,\"#0d0887\"],[0.1111111111111111,\"#46039f\"],[0.2222222222222222,\"#7201a8\"],[0.3333333333333333,\"#9c179e\"],[0.4444444444444444,\"#bd3786\"],[0.5555555555555556,\"#d8576b\"],[0.6666666666666666,\"#ed7953\"],[0.7777777777777778,\"#fb9f3a\"],[0.8888888888888888,\"#fdca26\"],[1.0,\"#f0f921\"]]}],\"heatmap\":[{\"type\":\"heatmap\",\"colorbar\":{\"outlinewidth\":0,\"ticks\":\"\"},\"colorscale\":[[0.0,\"#0d0887\"],[0.1111111111111111,\"#46039f\"],[0.2222222222222222,\"#7201a8\"],[0.3333333333333333,\"#9c179e\"],[0.4444444444444444,\"#bd3786\"],[0.5555555555555556,\"#d8576b\"],[0.6666666666666666,\"#ed7953\"],[0.7777777777777778,\"#fb9f3a\"],[0.8888888888888888,\"#fdca26\"],[1.0,\"#f0f921\"]]}],\"heatmapgl\":[{\"type\":\"heatmapgl\",\"colorbar\":{\"outlinewidth\":0,\"ticks\":\"\"},\"colorscale\":[[0.0,\"#0d0887\"],[0.1111111111111111,\"#46039f\"],[0.2222222222222222,\"#7201a8\"],[0.3333333333333333,\"#9c179e\"],[0.4444444444444444,\"#bd3786\"],[0.5555555555555556,\"#d8576b\"],[0.6666666666666666,\"#ed7953\"],[0.7777777777777778,\"#fb9f3a\"],[0.8888888888888888,\"#fdca26\"],[1.0,\"#f0f921\"]]}],\"contourcarpet\":[{\"type\":\"contourcarpet\",\"colorbar\":{\"outlinewidth\":0,\"ticks\":\"\"}}],\"contour\":[{\"type\":\"contour\",\"colorbar\":{\"outlinewidth\":0,\"ticks\":\"\"},\"colorscale\":[[0.0,\"#0d0887\"],[0.1111111111111111,\"#46039f\"],[0.2222222222222222,\"#7201a8\"],[0.3333333333333333,\"#9c179e\"],[0.4444444444444444,\"#bd3786\"],[0.5555555555555556,\"#d8576b\"],[0.6666666666666666,\"#ed7953\"],[0.7777777777777778,\"#fb9f3a\"],[0.8888888888888888,\"#fdca26\"],[1.0,\"#f0f921\"]]}],\"surface\":[{\"type\":\"surface\",\"colorbar\":{\"outlinewidth\":0,\"ticks\":\"\"},\"colorscale\":[[0.0,\"#0d0887\"],[0.1111111111111111,\"#46039f\"],[0.2222222222222222,\"#7201a8\"],[0.3333333333333333,\"#9c179e\"],[0.4444444444444444,\"#bd3786\"],[0.5555555555555556,\"#d8576b\"],[0.6666666666666666,\"#ed7953\"],[0.7777777777777778,\"#fb9f3a\"],[0.8888888888888888,\"#fdca26\"],[1.0,\"#f0f921\"]]}],\"mesh3d\":[{\"type\":\"mesh3d\",\"colorbar\":{\"outlinewidth\":0,\"ticks\":\"\"}}],\"scatter\":[{\"fillpattern\":{\"fillmode\":\"overlay\",\"size\":10,\"solidity\":0.2},\"type\":\"scatter\"}],\"parcoords\":[{\"type\":\"parcoords\",\"line\":{\"colorbar\":{\"outlinewidth\":0,\"ticks\":\"\"}}}],\"scatterpolargl\":[{\"type\":\"scatterpolargl\",\"marker\":{\"colorbar\":{\"outlinewidth\":0,\"ticks\":\"\"}}}],\"bar\":[{\"error_x\":{\"color\":\"#2a3f5f\"},\"error_y\":{\"color\":\"#2a3f5f\"},\"marker\":{\"line\":{\"color\":\"#E5ECF6\",\"width\":0.5},\"pattern\":{\"fillmode\":\"overlay\",\"size\":10,\"solidity\":0.2}},\"type\":\"bar\"}],\"scattergeo\":[{\"type\":\"scattergeo\",\"marker\":{\"colorbar\":{\"outlinewidth\":0,\"ticks\":\"\"}}}],\"scatterpolar\":[{\"type\":\"scatterpolar\",\"marker\":{\"colorbar\":{\"outlinewidth\":0,\"ticks\":\"\"}}}],\"histogram\":[{\"marker\":{\"pattern\":{\"fillmode\":\"overlay\",\"size\":10,\"solidity\":0.2}},\"type\":\"histogram\"}],\"scattergl\":[{\"type\":\"scattergl\",\"marker\":{\"colorbar\":{\"outlinewidth\":0,\"ticks\":\"\"}}}],\"scatter3d\":[{\"type\":\"scatter3d\",\"line\":{\"colorbar\":{\"outlinewidth\":0,\"ticks\":\"\"}},\"marker\":{\"colorbar\":{\"outlinewidth\":0,\"ticks\":\"\"}}}],\"scattermapbox\":[{\"type\":\"scattermapbox\",\"marker\":{\"colorbar\":{\"outlinewidth\":0,\"ticks\":\"\"}}}],\"scatterternary\":[{\"type\":\"scatterternary\",\"marker\":{\"colorbar\":{\"outlinewidth\":0,\"ticks\":\"\"}}}],\"scattercarpet\":[{\"type\":\"scattercarpet\",\"marker\":{\"colorbar\":{\"outlinewidth\":0,\"ticks\":\"\"}}}],\"carpet\":[{\"aaxis\":{\"endlinecolor\":\"#2a3f5f\",\"gridcolor\":\"white\",\"linecolor\":\"white\",\"minorgridcolor\":\"white\",\"startlinecolor\":\"#2a3f5f\"},\"baxis\":{\"endlinecolor\":\"#2a3f5f\",\"gridcolor\":\"white\",\"linecolor\":\"white\",\"minorgridcolor\":\"white\",\"startlinecolor\":\"#2a3f5f\"},\"type\":\"carpet\"}],\"table\":[{\"cells\":{\"fill\":{\"color\":\"#EBF0F8\"},\"line\":{\"color\":\"white\"}},\"header\":{\"fill\":{\"color\":\"#C8D4E3\"},\"line\":{\"color\":\"white\"}},\"type\":\"table\"}],\"barpolar\":[{\"marker\":{\"line\":{\"color\":\"#E5ECF6\",\"width\":0.5},\"pattern\":{\"fillmode\":\"overlay\",\"size\":10,\"solidity\":0.2}},\"type\":\"barpolar\"}],\"pie\":[{\"automargin\":true,\"type\":\"pie\"}]},\"layout\":{\"autotypenumbers\":\"strict\",\"colorway\":[\"#636efa\",\"#EF553B\",\"#00cc96\",\"#ab63fa\",\"#FFA15A\",\"#19d3f3\",\"#FF6692\",\"#B6E880\",\"#FF97FF\",\"#FECB52\"],\"font\":{\"color\":\"#2a3f5f\"},\"hovermode\":\"closest\",\"hoverlabel\":{\"align\":\"left\"},\"paper_bgcolor\":\"white\",\"plot_bgcolor\":\"#E5ECF6\",\"polar\":{\"bgcolor\":\"#E5ECF6\",\"angularaxis\":{\"gridcolor\":\"white\",\"linecolor\":\"white\",\"ticks\":\"\"},\"radialaxis\":{\"gridcolor\":\"white\",\"linecolor\":\"white\",\"ticks\":\"\"}},\"ternary\":{\"bgcolor\":\"#E5ECF6\",\"aaxis\":{\"gridcolor\":\"white\",\"linecolor\":\"white\",\"ticks\":\"\"},\"baxis\":{\"gridcolor\":\"white\",\"linecolor\":\"white\",\"ticks\":\"\"},\"caxis\":{\"gridcolor\":\"white\",\"linecolor\":\"white\",\"ticks\":\"\"}},\"coloraxis\":{\"colorbar\":{\"outlinewidth\":0,\"ticks\":\"\"}},\"colorscale\":{\"sequential\":[[0.0,\"#0d0887\"],[0.1111111111111111,\"#46039f\"],[0.2222222222222222,\"#7201a8\"],[0.3333333333333333,\"#9c179e\"],[0.4444444444444444,\"#bd3786\"],[0.5555555555555556,\"#d8576b\"],[0.6666666666666666,\"#ed7953\"],[0.7777777777777778,\"#fb9f3a\"],[0.8888888888888888,\"#fdca26\"],[1.0,\"#f0f921\"]],\"sequentialminus\":[[0.0,\"#0d0887\"],[0.1111111111111111,\"#46039f\"],[0.2222222222222222,\"#7201a8\"],[0.3333333333333333,\"#9c179e\"],[0.4444444444444444,\"#bd3786\"],[0.5555555555555556,\"#d8576b\"],[0.6666666666666666,\"#ed7953\"],[0.7777777777777778,\"#fb9f3a\"],[0.8888888888888888,\"#fdca26\"],[1.0,\"#f0f921\"]],\"diverging\":[[0,\"#8e0152\"],[0.1,\"#c51b7d\"],[0.2,\"#de77ae\"],[0.3,\"#f1b6da\"],[0.4,\"#fde0ef\"],[0.5,\"#f7f7f7\"],[0.6,\"#e6f5d0\"],[0.7,\"#b8e186\"],[0.8,\"#7fbc41\"],[0.9,\"#4d9221\"],[1,\"#276419\"]]},\"xaxis\":{\"gridcolor\":\"white\",\"linecolor\":\"white\",\"ticks\":\"\",\"title\":{\"standoff\":15},\"zerolinecolor\":\"white\",\"automargin\":true,\"zerolinewidth\":2},\"yaxis\":{\"gridcolor\":\"white\",\"linecolor\":\"white\",\"ticks\":\"\",\"title\":{\"standoff\":15},\"zerolinecolor\":\"white\",\"automargin\":true,\"zerolinewidth\":2},\"scene\":{\"xaxis\":{\"backgroundcolor\":\"#E5ECF6\",\"gridcolor\":\"white\",\"linecolor\":\"white\",\"showbackground\":true,\"ticks\":\"\",\"zerolinecolor\":\"white\",\"gridwidth\":2},\"yaxis\":{\"backgroundcolor\":\"#E5ECF6\",\"gridcolor\":\"white\",\"linecolor\":\"white\",\"showbackground\":true,\"ticks\":\"\",\"zerolinecolor\":\"white\",\"gridwidth\":2},\"zaxis\":{\"backgroundcolor\":\"#E5ECF6\",\"gridcolor\":\"white\",\"linecolor\":\"white\",\"showbackground\":true,\"ticks\":\"\",\"zerolinecolor\":\"white\",\"gridwidth\":2}},\"shapedefaults\":{\"line\":{\"color\":\"#2a3f5f\"}},\"annotationdefaults\":{\"arrowcolor\":\"#2a3f5f\",\"arrowhead\":0,\"arrowwidth\":1},\"geo\":{\"bgcolor\":\"white\",\"landcolor\":\"#E5ECF6\",\"subunitcolor\":\"white\",\"showland\":true,\"showlakes\":true,\"lakecolor\":\"white\"},\"title\":{\"x\":0.05},\"mapbox\":{\"style\":\"light\"}}},\"updatemenus\":[{\"active\":0,\"buttons\":[{\"args\":[{\"x\":[[\"2020\",\"2021\",\"2022\",\"2023\",\"2024\",\"2025\"]],\"y\":[[1.0,23.0,13.0,6.0,80.0,20.0]],\"visible\":[true,false]},{\"title.text\":\"How Much I've Read Over Time\\u003cbr\\u003e\\u003csup\\u003eTotal Number of Books Finished by Year\"}],\"label\":\"Year\",\"method\":\"update\"},{\"args\":[{\"x\":[[\"2020-09\",\"2020-12\",\"2021-03\",\"2021-04\",\"2021-05\",\"2021-06\",\"2021-07\",\"2021-08\",\"2021-09\",\"2021-10\",\"2021-12\",\"2022-01\",\"2022-02\",\"2022-03\",\"2022-05\",\"2022-06\",\"2022-08\",\"2022-12\",\"2023-01\",\"2023-02\",\"2023-04\",\"2023-06\",\"2023-09\",\"2023-10\",\"2023-12\",\"2024-01\",\"2024-02\",\"2024-03\",\"2024-04\",\"2024-05\",\"2024-06\",\"2024-07\",\"2024-08\",\"2024-09\",\"2024-10\",\"2024-11\",\"2024-12\",\"2025-01\",\"2025-02\",\"2025-03\",\"2025-04\",\"2025-05\",\"2025-06\",\"2025-07\"]],\"y\":[[0.0,1.0,2.0,8.0,1.0,1.0,1.0,5.0,3.0,0.0,2.0,3.0,1.0,1.0,3.0,3.0,1.0,1.0,2.0,1.0,0.0,0.0,1.0,2.0,0.0,3.0,2.0,1.0,4.0,3.0,5.0,17.0,4.0,9.0,15.0,9.0,8.0,2.0,2.0,2.0,5.0,3.0,3.0,3.0]],\"visible\":[false,true]},{\"title.text\":\"How Much I've Read Over Time\\u003cbr\\u003e\\u003csup\\u003eTotal Number of Books Finished by Year-Month\"}],\"label\":\"Year-Month\",\"method\":\"update\"}],\"x\":1.0,\"xanchor\":\"right\",\"y\":1.16,\"yanchor\":\"top\"}],\"title\":{\"font\":{\"size\":40,\"family\":\"Baskerville, Bold\",\"color\":\"#001c40\"},\"text\":\"How Much I've Read Over Time\\u003cbr\\u003e\\u003csup\\u003eTotal Number of Books Finished by Year\"},\"margin\":{\"l\":85,\"r\":85,\"t\":120,\"b\":45},\"xaxis\":{\"title\":{},\"showgrid\":false,\"showline\":true,\"linecolor\":\"black\",\"gridcolor\":\"#cbcbcb\",\"zerolinewidth\":1},\"yaxis\":{\"title\":{},\"showgrid\":true,\"showline\":false,\"showticklabels\":true,\"linecolor\":\"black\",\"gridcolor\":\"#cbcbcb\",\"zerolinewidth\":1},\"yaxis2\":{\"showgrid\":true,\"showline\":false,\"showticklabels\":true,\"linecolor\":\"black\",\"gridcolor\":\"#cbcbcb\",\"zerolinewidth\":1},\"font\":{\"family\":\"Baskerville\",\"color\":\"#001c40\",\"size\":14},\"hoverlabel\":{\"font\":{\"size\":16}},\"height\":600,\"showlegend\":false,\"barmode\":\"group\",\"plot_bgcolor\":\"#f0f0f0\",\"paper_bgcolor\":\"#f0f0f0\"},                        {\"modeBarButtonsToRemove\": [\"zoomIn\", \"zoomOut\", \"resetScale2d\", \"select2d\", \"lasso2d\"], \"responsive\": true, \"displaylogo\": false, \"toImageButtonOptions\": {\"format\": \"png\", \"filename\": \"reading-habits\", \"scale\": 1}}                    ).then(function(){\n",
       "                            \n",
       "var gd = document.getElementById('c0748912-b952-4f86-8265-eebc47468a21');\n",
       "var x = new MutationObserver(function (mutations, observer) {{\n",
       "        var display = window.getComputedStyle(gd).display;\n",
       "        if (!display || display === 'none') {{\n",
       "            console.log([gd, 'removed!']);\n",
       "            Plotly.purge(gd);\n",
       "            observer.disconnect();\n",
       "        }}\n",
       "}});\n",
       "\n",
       "// Listen for the removal of the full notebook cells\n",
       "var notebookContainer = gd.closest('#notebook-container');\n",
       "if (notebookContainer) {{\n",
       "    x.observe(notebookContainer, {childList: true});\n",
       "}}\n",
       "\n",
       "// Listen for the clearing of the current output cell\n",
       "var outputEl = gd.closest('.output');\n",
       "if (outputEl) {{\n",
       "    x.observe(outputEl, {childList: true});\n",
       "}}\n",
       "\n",
       "                        })                };                });            </script>        </div>"
      ]
     },
     "metadata": {},
     "output_type": "display_data"
    }
   ],
   "source": [
    "dfd = df[df['Start Date'].notnull()] #books that have a definied start (& end)\n",
    "\n",
    "#group by year\n",
    "by_start = dfd.groupby(dfd['Start Date'].dt.to_period('Y').rename('Date'))['Title'].count().rename('Started').reset_index()\n",
    "by_finish = dfd.groupby(dfd['Finish Date'].dt.to_period('Y').rename('Date'))['Title'].count().rename('Finished').reset_index()\n",
    "df_year = pd.merge(by_start, by_finish, how=\"outer\").fillna(0).sort_values('Date').reset_index(drop=True)\n",
    "df_year['Date'] = df_year['Date'].astype(str)\n",
    "df_year = df_year.set_index('Date')\n",
    "\n",
    "#group by year-month\n",
    "by_start = dfd.groupby(dfd['Start Date'].dt.to_period('M').rename('Date'))['Title'].count().rename('Started').reset_index()\n",
    "by_finish = dfd.groupby(dfd['Finish Date'].dt.to_period('M').rename('Date'))['Title'].count().rename('Finished').reset_index()\n",
    "df_yearmonth = pd.merge(by_start, by_finish, how=\"outer\").fillna(0).sort_values('Date').reset_index(drop=True)\n",
    "df_yearmonth['Date'] = df_yearmonth['Date'].astype(str)\n",
    "df_yearmonth = df_yearmonth.set_index('Date')\n",
    "\n",
    "#combine both datasets so we can have a chart with a dropdown\n",
    "df_time = pd.concat([df_year, df_yearmonth], axis=0)\n",
    "\n",
    "title = \"How Much I've Read Over Time\"\n",
    "sub = \"Total Number of Books & Stories Finished by Year/Month\"\n",
    "plot.gen_time_graph(df_time, title, sub)"
   ]
  },
  {
   "cell_type": "code",
   "execution_count": 45,
   "id": "c9e9c49a-1487-433e-a9c1-a41a1a0acc30",
   "metadata": {
    "execution": {
     "iopub.execute_input": "2024-07-27T23:38:50.707828Z",
     "iopub.status.busy": "2024-07-27T23:38:50.707828Z",
     "iopub.status.idle": "2024-07-27T23:38:50.721796Z",
     "shell.execute_reply": "2024-07-27T23:38:50.721796Z",
     "shell.execute_reply.started": "2024-07-27T23:38:50.707828Z"
    },
    "tags": []
   },
   "outputs": [],
   "source": [
    "# dfp = df[df['Finish Date'].notnull()] #books that have a definied start (& end)\n",
    "\n",
    "# #group by year\n",
    "# by_start = dfp.groupby(dfp['Start Date'].dt.to_period('Y').rename('Date'))['Pages'].sum().rename('Started').reset_index()\n",
    "# by_finish = dfp.groupby(dfp['Finish Date'].dt.to_period('Y').rename('Date'))['Pages'].sum().rename('Finished').reset_index()\n",
    "# dfp_year = pd.merge(by_start, by_finish, how=\"outer\").fillna(0).sort_values('Date').reset_index(drop=True)\n",
    "# dfp_year['Date'] = dfp_year['Date'].astype(str)\n",
    "# dfp_year = dfp_year.set_index('Date')\n",
    "\n",
    "# #group by year-month\n",
    "# by_start = dfp.groupby(dfp['Start Date'].dt.to_period('M').rename('Date'))['Pages'].sum().rename('Started').reset_index()\n",
    "# by_finish = dfp.groupby(dfp['Finish Date'].dt.to_period('M').rename('Date'))['Pages'].sum().rename('Finished').reset_index()\n",
    "# dfp_yearmonth = pd.merge(by_start, by_finish, how=\"outer\").fillna(0).sort_values('Date').reset_index(drop=True)\n",
    "# dfp_yearmonth['Date'] = dfp_yearmonth['Date'].astype(str)\n",
    "# dfp_yearmonth = dfp_yearmonth.set_index('Date')\n",
    "\n",
    "# #combine both datasets so we can have a chart with a dropdown\n",
    "# dfp_time = pd.concat([dfp_year, dfp_yearmonth], axis=0)\n",
    "\n",
    "# title = \"How Many Pages I've Read Over Time\"\n",
    "# sub = \"Total Number of Pages Read by Year/Month\"\n",
    "# plot.gen_time_graph(dfp_time, title, sub)"
   ]
  },
  {
   "cell_type": "code",
   "execution_count": 46,
   "id": "bfe08ee2-0f81-4323-b371-adf1df67df70",
   "metadata": {
    "execution": {
     "iopub.execute_input": "2024-07-27T23:38:50.722761Z",
     "iopub.status.busy": "2024-07-27T23:38:50.722761Z",
     "iopub.status.idle": "2024-07-27T23:38:50.736751Z",
     "shell.execute_reply": "2024-07-27T23:38:50.736751Z",
     "shell.execute_reply.started": "2024-07-27T23:38:50.722761Z"
    },
    "tags": []
   },
   "outputs": [],
   "source": [
    "# # Clean up space\n",
    "#       - name: Remove unnecessary files\n",
    "#         run: |\n",
    "#           rm -rf /usr/share/dotnet\n",
    "#           rm -rf /opt/ghc\n",
    "#           rm -rf \"/usr/local/share/boost\"\n",
    "#           rm -rf \"$AGENT_TOOLSDIRECTORY\""
   ]
  },
  {
   "cell_type": "code",
   "execution_count": 47,
   "id": "cbd46214-2f81-4f05-bd93-11da1e1cc480",
   "metadata": {
    "execution": {
     "iopub.execute_input": "2024-07-27T23:38:50.737721Z",
     "iopub.status.busy": "2024-07-27T23:38:50.737721Z",
     "iopub.status.idle": "2024-07-27T23:38:50.752681Z",
     "shell.execute_reply": "2024-07-27T23:38:50.752681Z",
     "shell.execute_reply.started": "2024-07-27T23:38:50.737721Z"
    },
    "tags": []
   },
   "outputs": [],
   "source": [
    "# dfa = df.groupby('Author')['Rating'].mean().reset_index().round(2)\n",
    "# dfa['Total'] = df.groupby('Author')['Title'].count().reset_index(drop=True)\n",
    "# dfa = dfa.sort_values('Rating',ascending=False).reset_index(drop=True)\n",
    "# # np.average(dfa['Rating'], weights=dfa['Total'])\n",
    "# dfa[dfa['Total']>1] #df containing average rating of authors where I've read multiple books"
   ]
  },
  {
   "cell_type": "code",
   "execution_count": 48,
   "id": "79905c76-2598-4510-a65a-15ab10c30299",
   "metadata": {
    "execution": {
     "iopub.execute_input": "2024-07-27T23:38:50.754675Z",
     "iopub.status.busy": "2024-07-27T23:38:50.754675Z",
     "iopub.status.idle": "2024-07-27T23:38:50.799590Z",
     "shell.execute_reply": "2024-07-27T23:38:50.799590Z",
     "shell.execute_reply.started": "2024-07-27T23:38:50.754675Z"
    },
    "tags": []
   },
   "outputs": [
    {
     "data": {
      "application/vnd.plotly.v1+json": {
       "config": {
        "displaylogo": false,
        "modeBarButtonsToRemove": [
         "zoomIn",
         "zoomOut",
         "resetScale2d",
         "select2d",
         "lasso2d"
        ],
        "plotlyServerURL": "https://plot.ly",
        "responsive": true,
        "toImageButtonOptions": {
         "filename": "reading-habits",
         "format": "png",
         "scale": 1
        }
       },
       "data": [
        {
         "customdata": [
          [
           "The Four Agreements",
           "Don Miguel Ruiz",
           1,
           5
          ],
          [
           "The Art of Learning",
           "Josh Waitzkin",
           6,
           5
          ],
          [
           "DaVinci's Ghost",
           "Toby Lester",
           7,
           10
          ],
          [
           "Crying In H Mart",
           "Michelle Zauner",
           6,
           9.5
          ],
          [
           "Why Fish Don't Exist: A Story of Loss, Love, and the Hidden Order of Life",
           "Lulu Miller",
           2,
           9.5
          ],
          [
           "Empire of Pain: The Secret History of the Sackler Dynasty",
           "Patrick Radden Keefe",
           78,
           9
          ],
          [
           "In Waves",
           "AJ Dungo",
           1,
           9.5
          ],
          [
           "The Latinos of Asia",
           "Anthony Christian Ocampo",
           15,
           7.5
          ],
          [
           "Tiny Beautiful Things: Advice on Love and Life from Dear Sugar",
           "Cheryl Strayed",
           14,
           8.5
          ],
          [
           "Dopamine Nation: Finding Balance in the Age of Indulgence",
           "Anne Lembke",
           9,
           8
          ]
         ],
         "hovertemplate": "<b>Title</b>: %{customdata[0]}<br><b>Author</b>: %{customdata[1]}<br><b>Duration</b>: %{customdata[2]}<br><b>Rating</b>: %{customdata[3]:.1f}<extra></extra>",
         "marker": {
          "color": [
           "#529b9c",
           "#529b9c",
           "#529b9c",
           "#529b9c",
           "#529b9c",
           "#529b9c",
           "#529b9c",
           "#529b9c",
           "#529b9c",
           "#529b9c"
          ],
          "line": {
           "width": 1
          },
          "size": 12
         },
         "mode": "markers",
         "name": "Nonfiction",
         "type": "scatter",
         "x": [
          1,
          6,
          7,
          6,
          2,
          78,
          1,
          15,
          14,
          9
         ],
         "y": [
          5,
          5,
          10,
          9.5,
          9.5,
          9,
          9.5,
          7.5,
          8.5,
          8
         ]
        },
        {
         "customdata": [
          [
           "Hitchhiker's Guide to The Galaxy",
           "Douglas Adams",
           9,
           5.5
          ],
          [
           "Men Without Women",
           "Haruki Murakami",
           5,
           7.5
          ],
          [
           "The Metamorphosis",
           "Franz Kafka",
           1,
           6
          ],
          [
           "Kafka on the Shore",
           "Haruki Murakami",
           5,
           8
          ],
          [
           "1984",
           "George Orwell",
           209,
           8.5
          ],
          [
           "Of Mice and Men",
           "John Steinbeck",
           2,
           6
          ],
          [
           "The Old Man and The Sea",
           "Ernest Hemingway",
           1,
           8
          ],
          [
           "As I Lay Dying",
           "William Faulkner",
           2,
           6.5
          ],
          [
           "The Remains of The Day",
           "Kazuo Ishiguro",
           6,
           9
          ],
          [
           "The Sound of the Mountain",
           "Yasunari Kawabata",
           27,
           4.5
          ],
          [
           "Pachinko",
           "Min Jin Lee",
           13,
           10
          ],
          [
           "Kim Ji Young: Born 1982",
           "Cho Nam Ju",
           33,
           6.5
          ],
          [
           "Drifting House",
           "Krys Lee",
           6,
           7
          ],
          [
           "A Farewell to Arms",
           "Ernest Hemingway",
           8,
           7
          ],
          [
           "Never Let Me Go",
           "Kazuo Ishiguro",
           6,
           8.5
          ],
          [
           "The Rings of Saturn",
           "W.G. Sebald",
           7,
           9
          ],
          [
           "Almond: A Novel",
           "Won Pyung Sohn",
           2,
           5
          ],
          [
           "Klara and the Sun",
           "Kazuo Ishiguro",
           5,
           8.5
          ],
          [
           "Blood Meridian",
           "Cormac McCarthy",
           14,
           10
          ],
          [
           "Normal People",
           "Sally Rooney",
           63,
           6
          ],
          [
           "Animal Farm",
           "George Orwell",
           10,
           6
          ],
          [
           "One Left",
           "Kim Soom",
           20,
           7.5
          ],
          [
           "The Alchemist",
           "Paulo Coelho",
           12,
           5
          ],
          [
           "The Easy Life in Kamusari",
           "Shion Miura",
           9,
           6
          ],
          [
           "Where The Desert Meets The Sea",
           "Werner Sonne",
           10,
           7
          ],
          [
           "The Ardent Swarm",
           "Yamen Manai",
           4,
           6
          ],
          [
           "After Dark",
           "Haruki Murakami",
           7,
           7
          ],
          [
           "Do Androids Dream of Electric Sheep?",
           "Philip K. Dick",
           11,
           8
          ],
          [
           "The Boy, The Mole, The Fox, and The Horse",
           "Charlie Mackesy",
           1,
           8.5
          ],
          [
           "Everything I Never Told You",
           "Celeste Ng",
           18,
           8
          ],
          [
           "Sputnik Sweetheart",
           "Haruki Murakami",
           102,
           7
          ],
          [
           "The Water Dancer",
           "Ta-Nehisi Coates",
           15,
           8
          ],
          [
           "Good Omens",
           "Neil Gaiman & Terry Pratchett",
           17,
           8
          ],
          [
           "A Heartbreaking Work of Staggering Genius",
           "Dave Eggers",
           13,
           6
          ],
          [
           "Correction",
           "Thomas Bernhard",
           18,
           9
          ],
          [
           "The Emigrants",
           "W.G. Sebald",
           13,
           8
          ],
          [
           "1Q84 - Part 1",
           "Haruki Murakami",
           9,
           7.5
          ],
          [
           "1Q84 - Part 2",
           "Haruki Murakami",
           8,
           7.5
          ],
          [
           "1Q84 - Part 3",
           "Haruki Murakami",
           10,
           8
          ],
          [
           "Horus Rising (Horus Heresy #1)",
           "Dan Abnett",
           3,
           8.5
          ],
          [
           "False Gods (Horus Heresy #2)",
           "Graham McNeill",
           3,
           8.5
          ],
          [
           "Galaxy in Flames (Horus Heresy #3)",
           "Ben Counter",
           4,
           8
          ],
          [
           "Flight of the Eisenstein (Horus Heresy #4)",
           "James Swallow",
           5,
           7.5
          ],
          [
           "Fulgrim (Horus Heresy #5)",
           "Graham McNeill",
           6,
           8
          ],
          [
           "The Reflection Crack'd",
           "Graham McNeill",
           2,
           8
          ],
          [
           "Kryptos",
           "Graham McNeill",
           1,
           7
          ],
          [
           "Angel Exterminatus (Horus Heresy #23)",
           "Graham McNeill",
           7,
           7.5
          ],
          [
           "Imperfect",
           "Nick Kyme",
           1,
           8
          ],
          [
           "Chiurgeon",
           "Nick Kyme",
           1,
           8.5
          ],
          [
           "Descent of Angels (Horus Heresy #6)",
           "Mitchel Scanlon",
           7,
           8
          ],
          [
           "Call of the Lion",
           "Gav Thorpe",
           1,
           7
          ],
          [
           "Fallen Angels (Horus Heresy #11)",
           "Mike Lee",
           6,
           7.5
          ],
          [
           "Cypher: Guardian of the Order",
           "Gav Thorpe",
           1,
           7
          ],
          [
           "Savage Weapons",
           "Aaron Dembski-Bowden",
           1,
           8.5
          ],
          [
           "The Lion",
           "Gav Thorpe",
           1,
           8
          ],
          [
           "By The Lion's Command",
           "Gav Thorpe",
           1,
           7.5
          ],
          [
           "Prince of Crows",
           "Aaron Dembski-Bowden",
           4,
           8.5
          ],
          [
           "Master of the First",
           "Gav Thorpe",
           1,
           7
          ],
          [
           "The Long Night",
           "Aaron Dembski-Bowden",
           1,
           8
          ],
          [
           "The Midmight Library",
           "Matt Haig",
           2,
           9
          ],
          [
           "A Thousand Suns (Horus Heresy #12)",
           "Graham McNeill",
           7,
           8
          ],
          [
           "Prospero Burns (Horus Heresy #15)",
           "Dan Abnett",
           8,
           6
          ],
          [
           "The First Heretic (Horus Heresy #14)",
           "Aaron Dembski-Bowden",
           7,
           8
          ],
          [
           "Aurelian",
           "Aaron Dembski-Bowden ",
           2,
           8.5
          ],
          [
           "Legion (Horus Heresy #7)",
           "Dan Abnett",
           11,
           7.5
          ],
          [
           "Know No Fear (Horus Heresy #19)",
           "Dan Abnett",
           10,
           9
          ],
          [
           "The Unburdened",
           "David Annandale",
           5,
           7.5
          ],
          [
           "The Honoured ",
           "Rob Sanders",
           5,
           7
          ],
          [
           "Rules of Engagement",
           "Graham McNeill",
           3,
           7.5
          ],
          [
           "Honour to the Dead",
           "Gav Thorpe",
           1,
           8.5
          ],
          [
           "Butcher's Nails",
           "Aaron Dembski-Bowden",
           1,
           8.5
          ],
          [
           "After Desh'ea",
           "Matthew Farrer",
           1,
           8.5
          ],
          [
           "Betrayer (Horus Heresy #24)",
           "Aaron Dembski-Bowden",
           8,
           8.5
          ],
          [
           "Inheritor",
           "Gav Thorpe",
           1,
           7
          ],
          [
           "Mark of Calth (Horus Heresy #25)",
           "Multiple",
           12,
           8
          ],
          [
           "Censure",
           "Nick Kyme",
           1,
           8.5
          ],
          [
           "The Kaban Project",
           "Graham McNeill",
           2,
           8
          ],
          [
           "Mechanicum (Horus Heresy #9)",
           "Graham McNeill",
           10,
           7.5
          ],
          [
           "Vorax",
           "Matthew Farrer",
           1,
           6.5
          ],
          [
           "Into Exile",
           "Aaron Dembski-Bowden",
           1,
           8
          ],
          [
           "Cybernetica",
           "Rob Sanders",
           4,
           7
          ],
          [
           "Myriad",
           "Rob Sanders",
           1,
           7.5
          ],
          [
           "Hands of The Emperor",
           "Rob Sanders",
           2,
           8
          ],
          [
           "The Unremembered Empire (Horus Heresy #27)",
           "Dan Abnett",
           7,
           9
          ],
          [
           "Herald of Sanguinius",
           "Andy Smillie",
           1,
           6
          ],
          [
           "Sins of the Father",
           "Andy Smillie",
           1,
           5.5
          ],
          [
           "Virtues of the Sons",
           "Andy Smillie",
           1,
           7
          ],
          [
           "The Laurel of Defiance",
           "Guy Haley",
           1,
           7.5
          ],
          [
           "A Safe and Shadowed Place",
           "Guy Haley",
           2,
           7
          ],
          [
           "Pharos (Horus Heresy #34)",
           "Guy Haley",
           11,
           8
          ],
          [
           "The Painted Count",
           "Guy Haley",
           1,
           8
          ],
          [
           "Angels of Caliban (Horus Heresy #38)",
           "Gav Thorpe",
           10,
           8.5
          ],
          [
           "Exocytosis",
           "James Swallow",
           1,
           8
          ],
          [
           "Ruinstorm (Horus Heresy #46)",
           "Dave Annandale",
           7,
           8.5
          ],
          [
           "All That Remains",
           "James Swallow",
           1,
           8
          ],
          [
           "The Atonement of Fire",
           "Dave Annendale",
           2,
           7.5
          ],
          [
           "The Spear of Ultramar",
           "Dave Annendale",
           3,
           7
          ],
          [
           "Ordo Sinister",
           "John French",
           1,
           6.5
          ],
          [
           "The Master of Mankind (Horus Heresy #41)",
           "Aaron Dembski-Bowden",
           14,
           8
          ],
          [
           "The Ember Wolves",
           "Rob Sanders",
           1,
           7.5
          ],
          [
           "Magisterium",
           "Chris Wraight",
           1,
           7.5
          ],
          [
           "Bringer of Sorrow",
           "Aaron Dembski-Bowden",
           1,
           8.5
          ],
          [
           "The Board is Set",
           "Gav Thorpe",
           1,
           8
          ],
          [
           "Prologue to Nikaea",
           "Dave Annandale",
           1,
           7
          ],
          [
           "The Last Council",
           "L J Goulding",
           1,
           8
          ],
          [
           "Slaves to Darkness (Horus Heresy #51)",
           "John French",
           18,
           7.5
          ],
          [
           "The Buried Dagger (Horus Heresy #54)",
           "James Swallow",
           10,
           8.5
          ],
          [
           "The Solar War (Siege of Terra #1)",
           "John French",
           17,
           8.5
          ],
          [
           "The Lost and The Damned (Siege of Terra #2)",
           "Guy Haley",
           16,
           8
          ],
          [
           "The First Wall (Siege of Terra #3)",
           "Gav Thorpe",
           15,
           7.5
          ],
          [
           "Sons of the Selenar",
           "Graham McNeill",
           17,
           8
          ],
          [
           "Saturnine (Siege of Terra #4)",
           "Dan Abnett",
           15,
           9.5
          ],
          [
           "The Fury of Magnus",
           "Graham McNeill",
           7,
           8.5
          ],
          [
           "Mortis (Siege of Terra #5)",
           "John French",
           8,
           7.5
          ],
          [
           "Warhawk (Siege of Terra #6)",
           "Chris Wraight",
           6,
           8.5
          ],
          [
           "Echoes of Eternity (Siege of Terra #7)",
           "Aaron Dembski-Bowden",
           6,
           9
          ],
          [
           "Garro: Knight of Gray",
           "James Swallow",
           3,
           8
          ],
          [
           "The End and The Death: Volume 1",
           "Dan Abnett",
           7,
           8.5
          ],
          [
           "The End and The Death: Volume 2",
           "Dan Abnett",
           9,
           8.5
          ],
          [
           "The End and The Death: Volume 3",
           "Dan Abnett",
           11,
           10
          ],
          [
           "On Earth We're Briefly Gorgeous",
           "Ocean Vuong",
           8,
           6.5
          ],
          [
           "Oil and Marble",
           "Stephanie Storey",
           7,
           8.5
          ],
          [
           "The Prince of Tides",
           "Pat Conroy",
           6,
           10
          ],
          [
           "Lonesome Dove: A Novel",
           "Larry McMurtry",
           19,
           10
          ]
         ],
         "hovertemplate": "<b>Title</b>: %{customdata[0]}<br><b>Author</b>: %{customdata[1]}<br><b>Duration</b>: %{customdata[2]}<br><b>Rating</b>: %{customdata[3]:.1f}<extra></extra>",
         "marker": {
          "color": [
           "#d27575",
           "#d27575",
           "#d27575",
           "#d27575",
           "#d27575",
           "#d27575",
           "#d27575",
           "#d27575",
           "#d27575",
           "#d27575",
           "#d27575",
           "#d27575",
           "#d27575",
           "#d27575",
           "#d27575",
           "#d27575",
           "#d27575",
           "#d27575",
           "#d27575",
           "#d27575",
           "#d27575",
           "#d27575",
           "#d27575",
           "#d27575",
           "#d27575",
           "#d27575",
           "#d27575",
           "#d27575",
           "#d27575",
           "#d27575",
           "#d27575",
           "#d27575",
           "#d27575",
           "#d27575",
           "#d27575",
           "#d27575",
           "#d27575",
           "#d27575",
           "#d27575",
           "#d27575",
           "#d27575",
           "#d27575",
           "#d27575",
           "#d27575",
           "#d27575",
           "#d27575",
           "#d27575",
           "#d27575",
           "#d27575",
           "#d27575",
           "#d27575",
           "#d27575",
           "#d27575",
           "#d27575",
           "#d27575",
           "#d27575",
           "#d27575",
           "#d27575",
           "#d27575",
           "#d27575",
           "#d27575",
           "#d27575",
           "#d27575",
           "#d27575",
           "#d27575",
           "#d27575",
           "#d27575",
           "#d27575",
           "#d27575",
           "#d27575",
           "#d27575",
           "#d27575",
           "#d27575",
           "#d27575",
           "#d27575",
           "#d27575",
           "#d27575",
           "#d27575",
           "#d27575",
           "#d27575",
           "#d27575",
           "#d27575",
           "#d27575",
           "#d27575",
           "#d27575",
           "#d27575",
           "#d27575",
           "#d27575",
           "#d27575",
           "#d27575",
           "#d27575",
           "#d27575",
           "#d27575",
           "#d27575",
           "#d27575",
           "#d27575",
           "#d27575",
           "#d27575",
           "#d27575",
           "#d27575",
           "#d27575",
           "#d27575",
           "#d27575",
           "#d27575",
           "#d27575",
           "#d27575",
           "#d27575",
           "#d27575",
           "#d27575",
           "#d27575",
           "#d27575",
           "#d27575",
           "#d27575",
           "#d27575",
           "#d27575",
           "#d27575",
           "#d27575",
           "#d27575",
           "#d27575",
           "#d27575",
           "#d27575",
           "#d27575",
           "#d27575",
           "#d27575"
          ],
          "line": {
           "width": 1
          },
          "size": 12
         },
         "mode": "markers",
         "name": "Fiction",
         "type": "scatter",
         "x": [
          9,
          5,
          1,
          5,
          209,
          2,
          1,
          2,
          6,
          27,
          13,
          33,
          6,
          8,
          6,
          7,
          2,
          5,
          14,
          63,
          10,
          20,
          12,
          9,
          10,
          4,
          7,
          11,
          1,
          18,
          102,
          15,
          17,
          13,
          18,
          13,
          9,
          8,
          10,
          3,
          3,
          4,
          5,
          6,
          2,
          1,
          7,
          1,
          1,
          7,
          1,
          6,
          1,
          1,
          1,
          1,
          4,
          1,
          1,
          2,
          7,
          8,
          7,
          2,
          11,
          10,
          5,
          5,
          3,
          1,
          1,
          1,
          8,
          1,
          12,
          1,
          2,
          10,
          1,
          1,
          4,
          1,
          2,
          7,
          1,
          1,
          1,
          1,
          2,
          11,
          1,
          10,
          1,
          7,
          1,
          2,
          3,
          1,
          14,
          1,
          1,
          1,
          1,
          1,
          1,
          18,
          10,
          17,
          16,
          15,
          17,
          15,
          7,
          8,
          6,
          6,
          3,
          7,
          9,
          11,
          8,
          7,
          6,
          19
         ],
         "y": [
          5.5,
          7.5,
          6,
          8,
          8.5,
          6,
          8,
          6.5,
          9,
          4.5,
          10,
          6.5,
          7,
          7,
          8.5,
          9,
          5,
          8.5,
          10,
          6,
          6,
          7.5,
          5,
          6,
          7,
          6,
          7,
          8,
          8.5,
          8,
          7,
          8,
          8,
          6,
          9,
          8,
          7.5,
          7.5,
          8,
          8.5,
          8.5,
          8,
          7.5,
          8,
          8,
          7,
          7.5,
          8,
          8.5,
          8,
          7,
          7.5,
          7,
          8.5,
          8,
          7.5,
          8.5,
          7,
          8,
          9,
          8,
          6,
          8,
          8.5,
          7.5,
          9,
          7.5,
          7,
          7.5,
          8.5,
          8.5,
          8.5,
          8.5,
          7,
          8,
          8.5,
          8,
          7.5,
          6.5,
          8,
          7,
          7.5,
          8,
          9,
          6,
          5.5,
          7,
          7.5,
          7,
          8,
          8,
          8.5,
          8,
          8.5,
          8,
          7.5,
          7,
          6.5,
          8,
          7.5,
          7.5,
          8.5,
          8,
          7,
          8,
          7.5,
          8.5,
          8.5,
          8,
          7.5,
          8,
          9.5,
          8.5,
          7.5,
          8.5,
          9,
          8,
          8.5,
          8.5,
          10,
          6.5,
          8.5,
          10,
          10
         ]
        },
        {
         "customdata": [
          [
           "The Symposium",
           "Plato",
           13,
           7
          ],
          [
           "The Doors of Perception / Heaven & Hell",
           "Aldous Huxley",
           182,
           8
          ],
          [
           "The Wisdom of Insecurity",
           "Alan Watts",
           7,
           7
          ]
         ],
         "hovertemplate": "<b>Title</b>: %{customdata[0]}<br><b>Author</b>: %{customdata[1]}<br><b>Duration</b>: %{customdata[2]}<br><b>Rating</b>: %{customdata[3]:.1f}<extra></extra>",
         "marker": {
          "color": [
           "#9cba8f",
           "#9cba8f",
           "#9cba8f"
          ],
          "line": {
           "width": 1
          },
          "size": 12
         },
         "mode": "markers",
         "name": "Philosophy",
         "type": "scatter",
         "x": [
          13,
          182,
          7
         ],
         "y": [
          7,
          8,
          7
         ]
        },
        {
         "customdata": [
          [
           "The Self-Taught Programmer",
           "Cory Althoff",
           33,
           5
          ],
          [
           "Cosmos",
           "Carl Sagan",
           29,
           8
          ],
          [
           "A Brief History of Time",
           "Stephen Hawking",
           24,
           9
          ],
          [
           "Under Alien Skies",
           "Philip Plait",
           9,
           8.5
          ],
          [
           "The Order of Time",
           "Carlo Rovelli",
           7,
           7.5
          ],
          [
           "The Demon-Haunted World: Science as a Candle in the Dark",
           "Carl Sagan",
           20,
           8.5
          ]
         ],
         "hovertemplate": "<b>Title</b>: %{customdata[0]}<br><b>Author</b>: %{customdata[1]}<br><b>Duration</b>: %{customdata[2]}<br><b>Rating</b>: %{customdata[3]:.1f}<extra></extra>",
         "marker": {
          "color": [
           "#eac392",
           "#eac392",
           "#eac392",
           "#eac392",
           "#eac392",
           "#eac392"
          ],
          "line": {
           "width": 1
          },
          "size": 12
         },
         "mode": "markers",
         "name": "Science",
         "type": "scatter",
         "x": [
          33,
          29,
          24,
          9,
          7,
          20
         ],
         "y": [
          5,
          8,
          9,
          8.5,
          7.5,
          8.5
         ]
        }
       ],
       "layout": {
        "barmode": "group",
        "font": {
         "color": "#001c40",
         "family": "Baskerville",
         "size": 14
        },
        "height": 600,
        "hoverlabel": {
         "font": {
          "size": 16
         }
        },
        "legend": {
         "orientation": "h",
         "x": 0.5,
         "xanchor": "center",
         "y": 1.03
        },
        "margin": {
         "b": 65,
         "l": 85,
         "r": 85,
         "t": 120
        },
        "paper_bgcolor": "#f0f0f0",
        "plot_bgcolor": "#f0f0f0",
        "showlegend": true,
        "template": {
         "data": {
          "bar": [
           {
            "error_x": {
             "color": "#2a3f5f"
            },
            "error_y": {
             "color": "#2a3f5f"
            },
            "marker": {
             "line": {
              "color": "#E5ECF6",
              "width": 0.5
             },
             "pattern": {
              "fillmode": "overlay",
              "size": 10,
              "solidity": 0.2
             }
            },
            "type": "bar"
           }
          ],
          "barpolar": [
           {
            "marker": {
             "line": {
              "color": "#E5ECF6",
              "width": 0.5
             },
             "pattern": {
              "fillmode": "overlay",
              "size": 10,
              "solidity": 0.2
             }
            },
            "type": "barpolar"
           }
          ],
          "carpet": [
           {
            "aaxis": {
             "endlinecolor": "#2a3f5f",
             "gridcolor": "white",
             "linecolor": "white",
             "minorgridcolor": "white",
             "startlinecolor": "#2a3f5f"
            },
            "baxis": {
             "endlinecolor": "#2a3f5f",
             "gridcolor": "white",
             "linecolor": "white",
             "minorgridcolor": "white",
             "startlinecolor": "#2a3f5f"
            },
            "type": "carpet"
           }
          ],
          "choropleth": [
           {
            "colorbar": {
             "outlinewidth": 0,
             "ticks": ""
            },
            "type": "choropleth"
           }
          ],
          "contour": [
           {
            "colorbar": {
             "outlinewidth": 0,
             "ticks": ""
            },
            "colorscale": [
             [
              0,
              "#0d0887"
             ],
             [
              0.1111111111111111,
              "#46039f"
             ],
             [
              0.2222222222222222,
              "#7201a8"
             ],
             [
              0.3333333333333333,
              "#9c179e"
             ],
             [
              0.4444444444444444,
              "#bd3786"
             ],
             [
              0.5555555555555556,
              "#d8576b"
             ],
             [
              0.6666666666666666,
              "#ed7953"
             ],
             [
              0.7777777777777778,
              "#fb9f3a"
             ],
             [
              0.8888888888888888,
              "#fdca26"
             ],
             [
              1,
              "#f0f921"
             ]
            ],
            "type": "contour"
           }
          ],
          "contourcarpet": [
           {
            "colorbar": {
             "outlinewidth": 0,
             "ticks": ""
            },
            "type": "contourcarpet"
           }
          ],
          "heatmap": [
           {
            "colorbar": {
             "outlinewidth": 0,
             "ticks": ""
            },
            "colorscale": [
             [
              0,
              "#0d0887"
             ],
             [
              0.1111111111111111,
              "#46039f"
             ],
             [
              0.2222222222222222,
              "#7201a8"
             ],
             [
              0.3333333333333333,
              "#9c179e"
             ],
             [
              0.4444444444444444,
              "#bd3786"
             ],
             [
              0.5555555555555556,
              "#d8576b"
             ],
             [
              0.6666666666666666,
              "#ed7953"
             ],
             [
              0.7777777777777778,
              "#fb9f3a"
             ],
             [
              0.8888888888888888,
              "#fdca26"
             ],
             [
              1,
              "#f0f921"
             ]
            ],
            "type": "heatmap"
           }
          ],
          "heatmapgl": [
           {
            "colorbar": {
             "outlinewidth": 0,
             "ticks": ""
            },
            "colorscale": [
             [
              0,
              "#0d0887"
             ],
             [
              0.1111111111111111,
              "#46039f"
             ],
             [
              0.2222222222222222,
              "#7201a8"
             ],
             [
              0.3333333333333333,
              "#9c179e"
             ],
             [
              0.4444444444444444,
              "#bd3786"
             ],
             [
              0.5555555555555556,
              "#d8576b"
             ],
             [
              0.6666666666666666,
              "#ed7953"
             ],
             [
              0.7777777777777778,
              "#fb9f3a"
             ],
             [
              0.8888888888888888,
              "#fdca26"
             ],
             [
              1,
              "#f0f921"
             ]
            ],
            "type": "heatmapgl"
           }
          ],
          "histogram": [
           {
            "marker": {
             "pattern": {
              "fillmode": "overlay",
              "size": 10,
              "solidity": 0.2
             }
            },
            "type": "histogram"
           }
          ],
          "histogram2d": [
           {
            "colorbar": {
             "outlinewidth": 0,
             "ticks": ""
            },
            "colorscale": [
             [
              0,
              "#0d0887"
             ],
             [
              0.1111111111111111,
              "#46039f"
             ],
             [
              0.2222222222222222,
              "#7201a8"
             ],
             [
              0.3333333333333333,
              "#9c179e"
             ],
             [
              0.4444444444444444,
              "#bd3786"
             ],
             [
              0.5555555555555556,
              "#d8576b"
             ],
             [
              0.6666666666666666,
              "#ed7953"
             ],
             [
              0.7777777777777778,
              "#fb9f3a"
             ],
             [
              0.8888888888888888,
              "#fdca26"
             ],
             [
              1,
              "#f0f921"
             ]
            ],
            "type": "histogram2d"
           }
          ],
          "histogram2dcontour": [
           {
            "colorbar": {
             "outlinewidth": 0,
             "ticks": ""
            },
            "colorscale": [
             [
              0,
              "#0d0887"
             ],
             [
              0.1111111111111111,
              "#46039f"
             ],
             [
              0.2222222222222222,
              "#7201a8"
             ],
             [
              0.3333333333333333,
              "#9c179e"
             ],
             [
              0.4444444444444444,
              "#bd3786"
             ],
             [
              0.5555555555555556,
              "#d8576b"
             ],
             [
              0.6666666666666666,
              "#ed7953"
             ],
             [
              0.7777777777777778,
              "#fb9f3a"
             ],
             [
              0.8888888888888888,
              "#fdca26"
             ],
             [
              1,
              "#f0f921"
             ]
            ],
            "type": "histogram2dcontour"
           }
          ],
          "mesh3d": [
           {
            "colorbar": {
             "outlinewidth": 0,
             "ticks": ""
            },
            "type": "mesh3d"
           }
          ],
          "parcoords": [
           {
            "line": {
             "colorbar": {
              "outlinewidth": 0,
              "ticks": ""
             }
            },
            "type": "parcoords"
           }
          ],
          "pie": [
           {
            "automargin": true,
            "type": "pie"
           }
          ],
          "scatter": [
           {
            "fillpattern": {
             "fillmode": "overlay",
             "size": 10,
             "solidity": 0.2
            },
            "type": "scatter"
           }
          ],
          "scatter3d": [
           {
            "line": {
             "colorbar": {
              "outlinewidth": 0,
              "ticks": ""
             }
            },
            "marker": {
             "colorbar": {
              "outlinewidth": 0,
              "ticks": ""
             }
            },
            "type": "scatter3d"
           }
          ],
          "scattercarpet": [
           {
            "marker": {
             "colorbar": {
              "outlinewidth": 0,
              "ticks": ""
             }
            },
            "type": "scattercarpet"
           }
          ],
          "scattergeo": [
           {
            "marker": {
             "colorbar": {
              "outlinewidth": 0,
              "ticks": ""
             }
            },
            "type": "scattergeo"
           }
          ],
          "scattergl": [
           {
            "marker": {
             "colorbar": {
              "outlinewidth": 0,
              "ticks": ""
             }
            },
            "type": "scattergl"
           }
          ],
          "scattermapbox": [
           {
            "marker": {
             "colorbar": {
              "outlinewidth": 0,
              "ticks": ""
             }
            },
            "type": "scattermapbox"
           }
          ],
          "scatterpolar": [
           {
            "marker": {
             "colorbar": {
              "outlinewidth": 0,
              "ticks": ""
             }
            },
            "type": "scatterpolar"
           }
          ],
          "scatterpolargl": [
           {
            "marker": {
             "colorbar": {
              "outlinewidth": 0,
              "ticks": ""
             }
            },
            "type": "scatterpolargl"
           }
          ],
          "scatterternary": [
           {
            "marker": {
             "colorbar": {
              "outlinewidth": 0,
              "ticks": ""
             }
            },
            "type": "scatterternary"
           }
          ],
          "surface": [
           {
            "colorbar": {
             "outlinewidth": 0,
             "ticks": ""
            },
            "colorscale": [
             [
              0,
              "#0d0887"
             ],
             [
              0.1111111111111111,
              "#46039f"
             ],
             [
              0.2222222222222222,
              "#7201a8"
             ],
             [
              0.3333333333333333,
              "#9c179e"
             ],
             [
              0.4444444444444444,
              "#bd3786"
             ],
             [
              0.5555555555555556,
              "#d8576b"
             ],
             [
              0.6666666666666666,
              "#ed7953"
             ],
             [
              0.7777777777777778,
              "#fb9f3a"
             ],
             [
              0.8888888888888888,
              "#fdca26"
             ],
             [
              1,
              "#f0f921"
             ]
            ],
            "type": "surface"
           }
          ],
          "table": [
           {
            "cells": {
             "fill": {
              "color": "#EBF0F8"
             },
             "line": {
              "color": "white"
             }
            },
            "header": {
             "fill": {
              "color": "#C8D4E3"
             },
             "line": {
              "color": "white"
             }
            },
            "type": "table"
           }
          ]
         },
         "layout": {
          "annotationdefaults": {
           "arrowcolor": "#2a3f5f",
           "arrowhead": 0,
           "arrowwidth": 1
          },
          "autotypenumbers": "strict",
          "coloraxis": {
           "colorbar": {
            "outlinewidth": 0,
            "ticks": ""
           }
          },
          "colorscale": {
           "diverging": [
            [
             0,
             "#8e0152"
            ],
            [
             0.1,
             "#c51b7d"
            ],
            [
             0.2,
             "#de77ae"
            ],
            [
             0.3,
             "#f1b6da"
            ],
            [
             0.4,
             "#fde0ef"
            ],
            [
             0.5,
             "#f7f7f7"
            ],
            [
             0.6,
             "#e6f5d0"
            ],
            [
             0.7,
             "#b8e186"
            ],
            [
             0.8,
             "#7fbc41"
            ],
            [
             0.9,
             "#4d9221"
            ],
            [
             1,
             "#276419"
            ]
           ],
           "sequential": [
            [
             0,
             "#0d0887"
            ],
            [
             0.1111111111111111,
             "#46039f"
            ],
            [
             0.2222222222222222,
             "#7201a8"
            ],
            [
             0.3333333333333333,
             "#9c179e"
            ],
            [
             0.4444444444444444,
             "#bd3786"
            ],
            [
             0.5555555555555556,
             "#d8576b"
            ],
            [
             0.6666666666666666,
             "#ed7953"
            ],
            [
             0.7777777777777778,
             "#fb9f3a"
            ],
            [
             0.8888888888888888,
             "#fdca26"
            ],
            [
             1,
             "#f0f921"
            ]
           ],
           "sequentialminus": [
            [
             0,
             "#0d0887"
            ],
            [
             0.1111111111111111,
             "#46039f"
            ],
            [
             0.2222222222222222,
             "#7201a8"
            ],
            [
             0.3333333333333333,
             "#9c179e"
            ],
            [
             0.4444444444444444,
             "#bd3786"
            ],
            [
             0.5555555555555556,
             "#d8576b"
            ],
            [
             0.6666666666666666,
             "#ed7953"
            ],
            [
             0.7777777777777778,
             "#fb9f3a"
            ],
            [
             0.8888888888888888,
             "#fdca26"
            ],
            [
             1,
             "#f0f921"
            ]
           ]
          },
          "colorway": [
           "#636efa",
           "#EF553B",
           "#00cc96",
           "#ab63fa",
           "#FFA15A",
           "#19d3f3",
           "#FF6692",
           "#B6E880",
           "#FF97FF",
           "#FECB52"
          ],
          "font": {
           "color": "#2a3f5f"
          },
          "geo": {
           "bgcolor": "white",
           "lakecolor": "white",
           "landcolor": "#E5ECF6",
           "showlakes": true,
           "showland": true,
           "subunitcolor": "white"
          },
          "hoverlabel": {
           "align": "left"
          },
          "hovermode": "closest",
          "mapbox": {
           "style": "light"
          },
          "paper_bgcolor": "white",
          "plot_bgcolor": "#E5ECF6",
          "polar": {
           "angularaxis": {
            "gridcolor": "white",
            "linecolor": "white",
            "ticks": ""
           },
           "bgcolor": "#E5ECF6",
           "radialaxis": {
            "gridcolor": "white",
            "linecolor": "white",
            "ticks": ""
           }
          },
          "scene": {
           "xaxis": {
            "backgroundcolor": "#E5ECF6",
            "gridcolor": "white",
            "gridwidth": 2,
            "linecolor": "white",
            "showbackground": true,
            "ticks": "",
            "zerolinecolor": "white"
           },
           "yaxis": {
            "backgroundcolor": "#E5ECF6",
            "gridcolor": "white",
            "gridwidth": 2,
            "linecolor": "white",
            "showbackground": true,
            "ticks": "",
            "zerolinecolor": "white"
           },
           "zaxis": {
            "backgroundcolor": "#E5ECF6",
            "gridcolor": "white",
            "gridwidth": 2,
            "linecolor": "white",
            "showbackground": true,
            "ticks": "",
            "zerolinecolor": "white"
           }
          },
          "shapedefaults": {
           "line": {
            "color": "#2a3f5f"
           }
          },
          "ternary": {
           "aaxis": {
            "gridcolor": "white",
            "linecolor": "white",
            "ticks": ""
           },
           "baxis": {
            "gridcolor": "white",
            "linecolor": "white",
            "ticks": ""
           },
           "bgcolor": "#E5ECF6",
           "caxis": {
            "gridcolor": "white",
            "linecolor": "white",
            "ticks": ""
           }
          },
          "title": {
           "x": 0.05
          },
          "xaxis": {
           "automargin": true,
           "gridcolor": "white",
           "linecolor": "white",
           "ticks": "",
           "title": {
            "standoff": 15
           },
           "zerolinecolor": "white",
           "zerolinewidth": 2
          },
          "yaxis": {
           "automargin": true,
           "gridcolor": "white",
           "linecolor": "white",
           "ticks": "",
           "title": {
            "standoff": 15
           },
           "zerolinecolor": "white",
           "zerolinewidth": 2
          }
         }
        },
        "title": {
         "font": {
          "color": "#001c40",
          "family": "Baskerville, Bold",
          "size": 40
         },
         "text": "Duration vs. Rating<br><sup>There's no clear pattern, but I do seem to consistently rate nonfiction books a little higher"
        },
        "xaxis": {
         "gridcolor": "#cbcbcb",
         "linecolor": "black",
         "showgrid": false,
         "showline": true,
         "title": {
          "text": "Duration (Days)"
         },
         "zeroline": false,
         "zerolinewidth": 1
        },
        "yaxis": {
         "gridcolor": "#cbcbcb",
         "linecolor": "black",
         "showgrid": true,
         "showline": false,
         "showticklabels": true,
         "title": {},
         "zerolinewidth": 1
        },
        "yaxis2": {
         "gridcolor": "#cbcbcb",
         "linecolor": "black",
         "showgrid": true,
         "showline": false,
         "showticklabels": true,
         "zerolinewidth": 1
        }
       }
      },
      "text/html": [
       "<div>                            <div id=\"c557532f-c006-448a-aae7-abc006c79f72\" class=\"plotly-graph-div\" style=\"height:600px; width:100%;\"></div>            <script type=\"text/javascript\">                require([\"plotly\"], function(Plotly) {                    window.PLOTLYENV=window.PLOTLYENV || {};                                    if (document.getElementById(\"c557532f-c006-448a-aae7-abc006c79f72\")) {                    Plotly.newPlot(                        \"c557532f-c006-448a-aae7-abc006c79f72\",                        [{\"customdata\":[[\"The Four Agreements\",\"Don Miguel Ruiz\",1.0,5.0],[\"The Art of Learning\",\"Josh Waitzkin\",6.0,5.0],[\"DaVinci's Ghost\",\"Toby Lester\",7.0,10.0],[\"Crying In H Mart\",\"Michelle Zauner\",6.0,9.5],[\"Why Fish Don't Exist: A Story of Loss, Love, and the Hidden Order of Life\",\"Lulu Miller\",2.0,9.5],[\"Empire of Pain: The Secret History of the Sackler Dynasty\",\"Patrick Radden Keefe\",78.0,9.0],[\"In Waves\",\"AJ Dungo\",1.0,9.5],[\"The Latinos of Asia\",\"Anthony Christian Ocampo\",15.0,7.5],[\"Tiny Beautiful Things: Advice on Love and Life from Dear Sugar\",\"Cheryl Strayed\",14.0,8.5],[\"Dopamine Nation: Finding Balance in the Age of Indulgence\",\"Anne Lembke\",9.0,8.0]],\"hovertemplate\":\"\\u003cb\\u003eTitle\\u003c\\u002fb\\u003e: %{customdata[0]}\\u003cbr\\u003e\\u003cb\\u003eAuthor\\u003c\\u002fb\\u003e: %{customdata[1]}\\u003cbr\\u003e\\u003cb\\u003eDuration\\u003c\\u002fb\\u003e: %{customdata[2]}\\u003cbr\\u003e\\u003cb\\u003eRating\\u003c\\u002fb\\u003e: %{customdata[3]:.1f}\\u003cextra\\u003e\\u003c\\u002fextra\\u003e\",\"marker\":{\"color\":[\"#529b9c\",\"#529b9c\",\"#529b9c\",\"#529b9c\",\"#529b9c\",\"#529b9c\",\"#529b9c\",\"#529b9c\",\"#529b9c\",\"#529b9c\"],\"line\":{\"width\":1},\"size\":12},\"mode\":\"markers\",\"name\":\"Nonfiction\",\"x\":[1.0,6.0,7.0,6.0,2.0,78.0,1.0,15.0,14.0,9.0],\"y\":[5.0,5.0,10.0,9.5,9.5,9.0,9.5,7.5,8.5,8.0],\"type\":\"scatter\"},{\"customdata\":[[\"Hitchhiker's Guide to The Galaxy\",\"Douglas Adams\",9.0,5.5],[\"Men Without Women\",\"Haruki Murakami\",5.0,7.5],[\"The Metamorphosis\",\"Franz Kafka\",1.0,6.0],[\"Kafka on the Shore\",\"Haruki Murakami\",5.0,8.0],[\"1984\",\"George Orwell\",209.0,8.5],[\"Of Mice and Men\",\"John Steinbeck\",2.0,6.0],[\"The Old Man and The Sea\",\"Ernest Hemingway\",1.0,8.0],[\"As I Lay Dying\",\"William Faulkner\",2.0,6.5],[\"The Remains of The Day\",\"Kazuo Ishiguro\",6.0,9.0],[\"The Sound of the Mountain\",\"Yasunari Kawabata\",27.0,4.5],[\"Pachinko\",\"Min Jin Lee\",13.0,10.0],[\"Kim Ji Young: Born 1982\",\"Cho Nam Ju\",33.0,6.5],[\"Drifting House\",\"Krys Lee\",6.0,7.0],[\"A Farewell to Arms\",\"Ernest Hemingway\",8.0,7.0],[\"Never Let Me Go\",\"Kazuo Ishiguro\",6.0,8.5],[\"The Rings of Saturn\",\"W.G. Sebald\",7.0,9.0],[\"Almond: A Novel\",\"Won Pyung Sohn\",2.0,5.0],[\"Klara and the Sun\",\"Kazuo Ishiguro\",5.0,8.5],[\"Blood Meridian\",\"Cormac McCarthy\",14.0,10.0],[\"Normal People\",\"Sally Rooney\",63.0,6.0],[\"Animal Farm\",\"George Orwell\",10.0,6.0],[\"One Left\",\"Kim Soom\",20.0,7.5],[\"The Alchemist\",\"Paulo Coelho\",12.0,5.0],[\"The Easy Life in Kamusari\",\"Shion Miura\",9.0,6.0],[\"Where The Desert Meets The Sea\",\"Werner Sonne\",10.0,7.0],[\"The Ardent Swarm\",\"Yamen Manai\",4.0,6.0],[\"After Dark\",\"Haruki Murakami\",7.0,7.0],[\"Do Androids Dream of Electric Sheep?\",\"Philip K. Dick\",11.0,8.0],[\"The Boy, The Mole, The Fox, and The Horse\",\"Charlie Mackesy\",1.0,8.5],[\"Everything I Never Told You\",\"Celeste Ng\",18.0,8.0],[\"Sputnik Sweetheart\",\"Haruki Murakami\",102.0,7.0],[\"The Water Dancer\",\"Ta-Nehisi Coates\",15.0,8.0],[\"Good Omens\",\"Neil Gaiman & Terry Pratchett\",17.0,8.0],[\"A Heartbreaking Work of Staggering Genius\",\"Dave Eggers\",13.0,6.0],[\"Correction\",\"Thomas Bernhard\",18.0,9.0],[\"The Emigrants\",\"W.G. Sebald\",13.0,8.0],[\"1Q84 - Part 1\",\"Haruki Murakami\",9.0,7.5],[\"1Q84 - Part 2\",\"Haruki Murakami\",8.0,7.5],[\"1Q84 - Part 3\",\"Haruki Murakami\",10.0,8.0],[\"Horus Rising (Horus Heresy #1)\",\"Dan Abnett\",3.0,8.5],[\"False Gods (Horus Heresy #2)\",\"Graham McNeill\",3.0,8.5],[\"Galaxy in Flames (Horus Heresy #3)\",\"Ben Counter\",4.0,8.0],[\"Flight of the Eisenstein (Horus Heresy #4)\",\"James Swallow\",5.0,7.5],[\"Fulgrim (Horus Heresy #5)\",\"Graham McNeill\",6.0,8.0],[\"The Reflection Crack'd\",\"Graham McNeill\",2.0,8.0],[\"Kryptos\",\"Graham McNeill\",1.0,7.0],[\"Angel Exterminatus (Horus Heresy #23)\",\"Graham McNeill\",7.0,7.5],[\"Imperfect\",\"Nick Kyme\",1.0,8.0],[\"Chiurgeon\",\"Nick Kyme\",1.0,8.5],[\"Descent of Angels (Horus Heresy #6)\",\"Mitchel Scanlon\",7.0,8.0],[\"Call of the Lion\",\"Gav Thorpe\",1.0,7.0],[\"Fallen Angels (Horus Heresy #11)\",\"Mike Lee\",6.0,7.5],[\"Cypher: Guardian of the Order\",\"Gav Thorpe\",1.0,7.0],[\"Savage Weapons\",\"Aaron Dembski-Bowden\",1.0,8.5],[\"The Lion\",\"Gav Thorpe\",1.0,8.0],[\"By The Lion's Command\",\"Gav Thorpe\",1.0,7.5],[\"Prince of Crows\",\"Aaron Dembski-Bowden\",4.0,8.5],[\"Master of the First\",\"Gav Thorpe\",1.0,7.0],[\"The Long Night\",\"Aaron Dembski-Bowden\",1.0,8.0],[\"The Midmight Library\",\"Matt Haig\",2.0,9.0],[\"A Thousand Suns (Horus Heresy #12)\",\"Graham McNeill\",7.0,8.0],[\"Prospero Burns (Horus Heresy #15)\",\"Dan Abnett\",8.0,6.0],[\"The First Heretic (Horus Heresy #14)\",\"Aaron Dembski-Bowden\",7.0,8.0],[\"Aurelian\",\"Aaron Dembski-Bowden \",2.0,8.5],[\"Legion (Horus Heresy #7)\",\"Dan Abnett\",11.0,7.5],[\"Know No Fear (Horus Heresy #19)\",\"Dan Abnett\",10.0,9.0],[\"The Unburdened\",\"David Annandale\",5.0,7.5],[\"The Honoured \",\"Rob Sanders\",5.0,7.0],[\"Rules of Engagement\",\"Graham McNeill\",3.0,7.5],[\"Honour to the Dead\",\"Gav Thorpe\",1.0,8.5],[\"Butcher's Nails\",\"Aaron Dembski-Bowden\",1.0,8.5],[\"After Desh'ea\",\"Matthew Farrer\",1.0,8.5],[\"Betrayer (Horus Heresy #24)\",\"Aaron Dembski-Bowden\",8.0,8.5],[\"Inheritor\",\"Gav Thorpe\",1.0,7.0],[\"Mark of Calth (Horus Heresy #25)\",\"Multiple\",12.0,8.0],[\"Censure\",\"Nick Kyme\",1.0,8.5],[\"The Kaban Project\",\"Graham McNeill\",2.0,8.0],[\"Mechanicum (Horus Heresy #9)\",\"Graham McNeill\",10.0,7.5],[\"Vorax\",\"Matthew Farrer\",1.0,6.5],[\"Into Exile\",\"Aaron Dembski-Bowden\",1.0,8.0],[\"Cybernetica\",\"Rob Sanders\",4.0,7.0],[\"Myriad\",\"Rob Sanders\",1.0,7.5],[\"Hands of The Emperor\",\"Rob Sanders\",2.0,8.0],[\"The Unremembered Empire (Horus Heresy #27)\",\"Dan Abnett\",7.0,9.0],[\"Herald of Sanguinius\",\"Andy Smillie\",1.0,6.0],[\"Sins of the Father\",\"Andy Smillie\",1.0,5.5],[\"Virtues of the Sons\",\"Andy Smillie\",1.0,7.0],[\"The Laurel of Defiance\",\"Guy Haley\",1.0,7.5],[\"A Safe and Shadowed Place\",\"Guy Haley\",2.0,7.0],[\"Pharos (Horus Heresy #34)\",\"Guy Haley\",11.0,8.0],[\"The Painted Count\",\"Guy Haley\",1.0,8.0],[\"Angels of Caliban (Horus Heresy #38)\",\"Gav Thorpe\",10.0,8.5],[\"Exocytosis\",\"James Swallow\",1.0,8.0],[\"Ruinstorm (Horus Heresy #46)\",\"Dave Annandale\",7.0,8.5],[\"All That Remains\",\"James Swallow\",1.0,8.0],[\"The Atonement of Fire\",\"Dave Annendale\",2.0,7.5],[\"The Spear of Ultramar\",\"Dave Annendale\",3.0,7.0],[\"Ordo Sinister\",\"John French\",1.0,6.5],[\"The Master of Mankind (Horus Heresy #41)\",\"Aaron Dembski-Bowden\",14.0,8.0],[\"The Ember Wolves\",\"Rob Sanders\",1.0,7.5],[\"Magisterium\",\"Chris Wraight\",1.0,7.5],[\"Bringer of Sorrow\",\"Aaron Dembski-Bowden\",1.0,8.5],[\"The Board is Set\",\"Gav Thorpe\",1.0,8.0],[\"Prologue to Nikaea\",\"Dave Annandale\",1.0,7.0],[\"The Last Council\",\"L J Goulding\",1.0,8.0],[\"Slaves to Darkness (Horus Heresy #51)\",\"John French\",18.0,7.5],[\"The Buried Dagger (Horus Heresy #54)\",\"James Swallow\",10.0,8.5],[\"The Solar War (Siege of Terra #1)\",\"John French\",17.0,8.5],[\"The Lost and The Damned (Siege of Terra #2)\",\"Guy Haley\",16.0,8.0],[\"The First Wall (Siege of Terra #3)\",\"Gav Thorpe\",15.0,7.5],[\"Sons of the Selenar\",\"Graham McNeill\",17.0,8.0],[\"Saturnine (Siege of Terra #4)\",\"Dan Abnett\",15.0,9.5],[\"The Fury of Magnus\",\"Graham McNeill\",7.0,8.5],[\"Mortis (Siege of Terra #5)\",\"John French\",8.0,7.5],[\"Warhawk (Siege of Terra #6)\",\"Chris Wraight\",6.0,8.5],[\"Echoes of Eternity (Siege of Terra #7)\",\"Aaron Dembski-Bowden\",6.0,9.0],[\"Garro: Knight of Gray\",\"James Swallow\",3.0,8.0],[\"The End and The Death: Volume 1\",\"Dan Abnett\",7.0,8.5],[\"The End and The Death: Volume 2\",\"Dan Abnett\",9.0,8.5],[\"The End and The Death: Volume 3\",\"Dan Abnett\",11.0,10.0],[\"On Earth We're Briefly Gorgeous\",\"Ocean Vuong\",8.0,6.5],[\"Oil and Marble\",\"Stephanie Storey\",7.0,8.5],[\"The Prince of Tides\",\"Pat Conroy\",6.0,10.0],[\"Lonesome Dove: A Novel\",\"Larry McMurtry\",19.0,10.0]],\"hovertemplate\":\"\\u003cb\\u003eTitle\\u003c\\u002fb\\u003e: %{customdata[0]}\\u003cbr\\u003e\\u003cb\\u003eAuthor\\u003c\\u002fb\\u003e: %{customdata[1]}\\u003cbr\\u003e\\u003cb\\u003eDuration\\u003c\\u002fb\\u003e: %{customdata[2]}\\u003cbr\\u003e\\u003cb\\u003eRating\\u003c\\u002fb\\u003e: %{customdata[3]:.1f}\\u003cextra\\u003e\\u003c\\u002fextra\\u003e\",\"marker\":{\"color\":[\"#d27575\",\"#d27575\",\"#d27575\",\"#d27575\",\"#d27575\",\"#d27575\",\"#d27575\",\"#d27575\",\"#d27575\",\"#d27575\",\"#d27575\",\"#d27575\",\"#d27575\",\"#d27575\",\"#d27575\",\"#d27575\",\"#d27575\",\"#d27575\",\"#d27575\",\"#d27575\",\"#d27575\",\"#d27575\",\"#d27575\",\"#d27575\",\"#d27575\",\"#d27575\",\"#d27575\",\"#d27575\",\"#d27575\",\"#d27575\",\"#d27575\",\"#d27575\",\"#d27575\",\"#d27575\",\"#d27575\",\"#d27575\",\"#d27575\",\"#d27575\",\"#d27575\",\"#d27575\",\"#d27575\",\"#d27575\",\"#d27575\",\"#d27575\",\"#d27575\",\"#d27575\",\"#d27575\",\"#d27575\",\"#d27575\",\"#d27575\",\"#d27575\",\"#d27575\",\"#d27575\",\"#d27575\",\"#d27575\",\"#d27575\",\"#d27575\",\"#d27575\",\"#d27575\",\"#d27575\",\"#d27575\",\"#d27575\",\"#d27575\",\"#d27575\",\"#d27575\",\"#d27575\",\"#d27575\",\"#d27575\",\"#d27575\",\"#d27575\",\"#d27575\",\"#d27575\",\"#d27575\",\"#d27575\",\"#d27575\",\"#d27575\",\"#d27575\",\"#d27575\",\"#d27575\",\"#d27575\",\"#d27575\",\"#d27575\",\"#d27575\",\"#d27575\",\"#d27575\",\"#d27575\",\"#d27575\",\"#d27575\",\"#d27575\",\"#d27575\",\"#d27575\",\"#d27575\",\"#d27575\",\"#d27575\",\"#d27575\",\"#d27575\",\"#d27575\",\"#d27575\",\"#d27575\",\"#d27575\",\"#d27575\",\"#d27575\",\"#d27575\",\"#d27575\",\"#d27575\",\"#d27575\",\"#d27575\",\"#d27575\",\"#d27575\",\"#d27575\",\"#d27575\",\"#d27575\",\"#d27575\",\"#d27575\",\"#d27575\",\"#d27575\",\"#d27575\",\"#d27575\",\"#d27575\",\"#d27575\",\"#d27575\",\"#d27575\",\"#d27575\",\"#d27575\"],\"line\":{\"width\":1},\"size\":12},\"mode\":\"markers\",\"name\":\"Fiction\",\"x\":[9.0,5.0,1.0,5.0,209.0,2.0,1.0,2.0,6.0,27.0,13.0,33.0,6.0,8.0,6.0,7.0,2.0,5.0,14.0,63.0,10.0,20.0,12.0,9.0,10.0,4.0,7.0,11.0,1.0,18.0,102.0,15.0,17.0,13.0,18.0,13.0,9.0,8.0,10.0,3.0,3.0,4.0,5.0,6.0,2.0,1.0,7.0,1.0,1.0,7.0,1.0,6.0,1.0,1.0,1.0,1.0,4.0,1.0,1.0,2.0,7.0,8.0,7.0,2.0,11.0,10.0,5.0,5.0,3.0,1.0,1.0,1.0,8.0,1.0,12.0,1.0,2.0,10.0,1.0,1.0,4.0,1.0,2.0,7.0,1.0,1.0,1.0,1.0,2.0,11.0,1.0,10.0,1.0,7.0,1.0,2.0,3.0,1.0,14.0,1.0,1.0,1.0,1.0,1.0,1.0,18.0,10.0,17.0,16.0,15.0,17.0,15.0,7.0,8.0,6.0,6.0,3.0,7.0,9.0,11.0,8.0,7.0,6.0,19.0],\"y\":[5.5,7.5,6.0,8.0,8.5,6.0,8.0,6.5,9.0,4.5,10.0,6.5,7.0,7.0,8.5,9.0,5.0,8.5,10.0,6.0,6.0,7.5,5.0,6.0,7.0,6.0,7.0,8.0,8.5,8.0,7.0,8.0,8.0,6.0,9.0,8.0,7.5,7.5,8.0,8.5,8.5,8.0,7.5,8.0,8.0,7.0,7.5,8.0,8.5,8.0,7.0,7.5,7.0,8.5,8.0,7.5,8.5,7.0,8.0,9.0,8.0,6.0,8.0,8.5,7.5,9.0,7.5,7.0,7.5,8.5,8.5,8.5,8.5,7.0,8.0,8.5,8.0,7.5,6.5,8.0,7.0,7.5,8.0,9.0,6.0,5.5,7.0,7.5,7.0,8.0,8.0,8.5,8.0,8.5,8.0,7.5,7.0,6.5,8.0,7.5,7.5,8.5,8.0,7.0,8.0,7.5,8.5,8.5,8.0,7.5,8.0,9.5,8.5,7.5,8.5,9.0,8.0,8.5,8.5,10.0,6.5,8.5,10.0,10.0],\"type\":\"scatter\"},{\"customdata\":[[\"The Symposium\",\"Plato\",13.0,7.0],[\"The Doors of Perception \\u002f Heaven & Hell\",\"Aldous Huxley\",182.0,8.0],[\"The Wisdom of Insecurity\",\"Alan Watts\",7.0,7.0]],\"hovertemplate\":\"\\u003cb\\u003eTitle\\u003c\\u002fb\\u003e: %{customdata[0]}\\u003cbr\\u003e\\u003cb\\u003eAuthor\\u003c\\u002fb\\u003e: %{customdata[1]}\\u003cbr\\u003e\\u003cb\\u003eDuration\\u003c\\u002fb\\u003e: %{customdata[2]}\\u003cbr\\u003e\\u003cb\\u003eRating\\u003c\\u002fb\\u003e: %{customdata[3]:.1f}\\u003cextra\\u003e\\u003c\\u002fextra\\u003e\",\"marker\":{\"color\":[\"#9cba8f\",\"#9cba8f\",\"#9cba8f\"],\"line\":{\"width\":1},\"size\":12},\"mode\":\"markers\",\"name\":\"Philosophy\",\"x\":[13.0,182.0,7.0],\"y\":[7.0,8.0,7.0],\"type\":\"scatter\"},{\"customdata\":[[\"The Self-Taught Programmer\",\"Cory Althoff\",33.0,5.0],[\"Cosmos\",\"Carl Sagan\",29.0,8.0],[\"A Brief History of Time\",\"Stephen Hawking\",24.0,9.0],[\"Under Alien Skies\",\"Philip Plait\",9.0,8.5],[\"The Order of Time\",\"Carlo Rovelli\",7.0,7.5],[\"The Demon-Haunted World: Science as a Candle in the Dark\",\"Carl Sagan\",20.0,8.5]],\"hovertemplate\":\"\\u003cb\\u003eTitle\\u003c\\u002fb\\u003e: %{customdata[0]}\\u003cbr\\u003e\\u003cb\\u003eAuthor\\u003c\\u002fb\\u003e: %{customdata[1]}\\u003cbr\\u003e\\u003cb\\u003eDuration\\u003c\\u002fb\\u003e: %{customdata[2]}\\u003cbr\\u003e\\u003cb\\u003eRating\\u003c\\u002fb\\u003e: %{customdata[3]:.1f}\\u003cextra\\u003e\\u003c\\u002fextra\\u003e\",\"marker\":{\"color\":[\"#eac392\",\"#eac392\",\"#eac392\",\"#eac392\",\"#eac392\",\"#eac392\"],\"line\":{\"width\":1},\"size\":12},\"mode\":\"markers\",\"name\":\"Science\",\"x\":[33.0,29.0,24.0,9.0,7.0,20.0],\"y\":[5.0,8.0,9.0,8.5,7.5,8.5],\"type\":\"scatter\"}],                        {\"template\":{\"data\":{\"histogram2dcontour\":[{\"type\":\"histogram2dcontour\",\"colorbar\":{\"outlinewidth\":0,\"ticks\":\"\"},\"colorscale\":[[0.0,\"#0d0887\"],[0.1111111111111111,\"#46039f\"],[0.2222222222222222,\"#7201a8\"],[0.3333333333333333,\"#9c179e\"],[0.4444444444444444,\"#bd3786\"],[0.5555555555555556,\"#d8576b\"],[0.6666666666666666,\"#ed7953\"],[0.7777777777777778,\"#fb9f3a\"],[0.8888888888888888,\"#fdca26\"],[1.0,\"#f0f921\"]]}],\"choropleth\":[{\"type\":\"choropleth\",\"colorbar\":{\"outlinewidth\":0,\"ticks\":\"\"}}],\"histogram2d\":[{\"type\":\"histogram2d\",\"colorbar\":{\"outlinewidth\":0,\"ticks\":\"\"},\"colorscale\":[[0.0,\"#0d0887\"],[0.1111111111111111,\"#46039f\"],[0.2222222222222222,\"#7201a8\"],[0.3333333333333333,\"#9c179e\"],[0.4444444444444444,\"#bd3786\"],[0.5555555555555556,\"#d8576b\"],[0.6666666666666666,\"#ed7953\"],[0.7777777777777778,\"#fb9f3a\"],[0.8888888888888888,\"#fdca26\"],[1.0,\"#f0f921\"]]}],\"heatmap\":[{\"type\":\"heatmap\",\"colorbar\":{\"outlinewidth\":0,\"ticks\":\"\"},\"colorscale\":[[0.0,\"#0d0887\"],[0.1111111111111111,\"#46039f\"],[0.2222222222222222,\"#7201a8\"],[0.3333333333333333,\"#9c179e\"],[0.4444444444444444,\"#bd3786\"],[0.5555555555555556,\"#d8576b\"],[0.6666666666666666,\"#ed7953\"],[0.7777777777777778,\"#fb9f3a\"],[0.8888888888888888,\"#fdca26\"],[1.0,\"#f0f921\"]]}],\"heatmapgl\":[{\"type\":\"heatmapgl\",\"colorbar\":{\"outlinewidth\":0,\"ticks\":\"\"},\"colorscale\":[[0.0,\"#0d0887\"],[0.1111111111111111,\"#46039f\"],[0.2222222222222222,\"#7201a8\"],[0.3333333333333333,\"#9c179e\"],[0.4444444444444444,\"#bd3786\"],[0.5555555555555556,\"#d8576b\"],[0.6666666666666666,\"#ed7953\"],[0.7777777777777778,\"#fb9f3a\"],[0.8888888888888888,\"#fdca26\"],[1.0,\"#f0f921\"]]}],\"contourcarpet\":[{\"type\":\"contourcarpet\",\"colorbar\":{\"outlinewidth\":0,\"ticks\":\"\"}}],\"contour\":[{\"type\":\"contour\",\"colorbar\":{\"outlinewidth\":0,\"ticks\":\"\"},\"colorscale\":[[0.0,\"#0d0887\"],[0.1111111111111111,\"#46039f\"],[0.2222222222222222,\"#7201a8\"],[0.3333333333333333,\"#9c179e\"],[0.4444444444444444,\"#bd3786\"],[0.5555555555555556,\"#d8576b\"],[0.6666666666666666,\"#ed7953\"],[0.7777777777777778,\"#fb9f3a\"],[0.8888888888888888,\"#fdca26\"],[1.0,\"#f0f921\"]]}],\"surface\":[{\"type\":\"surface\",\"colorbar\":{\"outlinewidth\":0,\"ticks\":\"\"},\"colorscale\":[[0.0,\"#0d0887\"],[0.1111111111111111,\"#46039f\"],[0.2222222222222222,\"#7201a8\"],[0.3333333333333333,\"#9c179e\"],[0.4444444444444444,\"#bd3786\"],[0.5555555555555556,\"#d8576b\"],[0.6666666666666666,\"#ed7953\"],[0.7777777777777778,\"#fb9f3a\"],[0.8888888888888888,\"#fdca26\"],[1.0,\"#f0f921\"]]}],\"mesh3d\":[{\"type\":\"mesh3d\",\"colorbar\":{\"outlinewidth\":0,\"ticks\":\"\"}}],\"scatter\":[{\"fillpattern\":{\"fillmode\":\"overlay\",\"size\":10,\"solidity\":0.2},\"type\":\"scatter\"}],\"parcoords\":[{\"type\":\"parcoords\",\"line\":{\"colorbar\":{\"outlinewidth\":0,\"ticks\":\"\"}}}],\"scatterpolargl\":[{\"type\":\"scatterpolargl\",\"marker\":{\"colorbar\":{\"outlinewidth\":0,\"ticks\":\"\"}}}],\"bar\":[{\"error_x\":{\"color\":\"#2a3f5f\"},\"error_y\":{\"color\":\"#2a3f5f\"},\"marker\":{\"line\":{\"color\":\"#E5ECF6\",\"width\":0.5},\"pattern\":{\"fillmode\":\"overlay\",\"size\":10,\"solidity\":0.2}},\"type\":\"bar\"}],\"scattergeo\":[{\"type\":\"scattergeo\",\"marker\":{\"colorbar\":{\"outlinewidth\":0,\"ticks\":\"\"}}}],\"scatterpolar\":[{\"type\":\"scatterpolar\",\"marker\":{\"colorbar\":{\"outlinewidth\":0,\"ticks\":\"\"}}}],\"histogram\":[{\"marker\":{\"pattern\":{\"fillmode\":\"overlay\",\"size\":10,\"solidity\":0.2}},\"type\":\"histogram\"}],\"scattergl\":[{\"type\":\"scattergl\",\"marker\":{\"colorbar\":{\"outlinewidth\":0,\"ticks\":\"\"}}}],\"scatter3d\":[{\"type\":\"scatter3d\",\"line\":{\"colorbar\":{\"outlinewidth\":0,\"ticks\":\"\"}},\"marker\":{\"colorbar\":{\"outlinewidth\":0,\"ticks\":\"\"}}}],\"scattermapbox\":[{\"type\":\"scattermapbox\",\"marker\":{\"colorbar\":{\"outlinewidth\":0,\"ticks\":\"\"}}}],\"scatterternary\":[{\"type\":\"scatterternary\",\"marker\":{\"colorbar\":{\"outlinewidth\":0,\"ticks\":\"\"}}}],\"scattercarpet\":[{\"type\":\"scattercarpet\",\"marker\":{\"colorbar\":{\"outlinewidth\":0,\"ticks\":\"\"}}}],\"carpet\":[{\"aaxis\":{\"endlinecolor\":\"#2a3f5f\",\"gridcolor\":\"white\",\"linecolor\":\"white\",\"minorgridcolor\":\"white\",\"startlinecolor\":\"#2a3f5f\"},\"baxis\":{\"endlinecolor\":\"#2a3f5f\",\"gridcolor\":\"white\",\"linecolor\":\"white\",\"minorgridcolor\":\"white\",\"startlinecolor\":\"#2a3f5f\"},\"type\":\"carpet\"}],\"table\":[{\"cells\":{\"fill\":{\"color\":\"#EBF0F8\"},\"line\":{\"color\":\"white\"}},\"header\":{\"fill\":{\"color\":\"#C8D4E3\"},\"line\":{\"color\":\"white\"}},\"type\":\"table\"}],\"barpolar\":[{\"marker\":{\"line\":{\"color\":\"#E5ECF6\",\"width\":0.5},\"pattern\":{\"fillmode\":\"overlay\",\"size\":10,\"solidity\":0.2}},\"type\":\"barpolar\"}],\"pie\":[{\"automargin\":true,\"type\":\"pie\"}]},\"layout\":{\"autotypenumbers\":\"strict\",\"colorway\":[\"#636efa\",\"#EF553B\",\"#00cc96\",\"#ab63fa\",\"#FFA15A\",\"#19d3f3\",\"#FF6692\",\"#B6E880\",\"#FF97FF\",\"#FECB52\"],\"font\":{\"color\":\"#2a3f5f\"},\"hovermode\":\"closest\",\"hoverlabel\":{\"align\":\"left\"},\"paper_bgcolor\":\"white\",\"plot_bgcolor\":\"#E5ECF6\",\"polar\":{\"bgcolor\":\"#E5ECF6\",\"angularaxis\":{\"gridcolor\":\"white\",\"linecolor\":\"white\",\"ticks\":\"\"},\"radialaxis\":{\"gridcolor\":\"white\",\"linecolor\":\"white\",\"ticks\":\"\"}},\"ternary\":{\"bgcolor\":\"#E5ECF6\",\"aaxis\":{\"gridcolor\":\"white\",\"linecolor\":\"white\",\"ticks\":\"\"},\"baxis\":{\"gridcolor\":\"white\",\"linecolor\":\"white\",\"ticks\":\"\"},\"caxis\":{\"gridcolor\":\"white\",\"linecolor\":\"white\",\"ticks\":\"\"}},\"coloraxis\":{\"colorbar\":{\"outlinewidth\":0,\"ticks\":\"\"}},\"colorscale\":{\"sequential\":[[0.0,\"#0d0887\"],[0.1111111111111111,\"#46039f\"],[0.2222222222222222,\"#7201a8\"],[0.3333333333333333,\"#9c179e\"],[0.4444444444444444,\"#bd3786\"],[0.5555555555555556,\"#d8576b\"],[0.6666666666666666,\"#ed7953\"],[0.7777777777777778,\"#fb9f3a\"],[0.8888888888888888,\"#fdca26\"],[1.0,\"#f0f921\"]],\"sequentialminus\":[[0.0,\"#0d0887\"],[0.1111111111111111,\"#46039f\"],[0.2222222222222222,\"#7201a8\"],[0.3333333333333333,\"#9c179e\"],[0.4444444444444444,\"#bd3786\"],[0.5555555555555556,\"#d8576b\"],[0.6666666666666666,\"#ed7953\"],[0.7777777777777778,\"#fb9f3a\"],[0.8888888888888888,\"#fdca26\"],[1.0,\"#f0f921\"]],\"diverging\":[[0,\"#8e0152\"],[0.1,\"#c51b7d\"],[0.2,\"#de77ae\"],[0.3,\"#f1b6da\"],[0.4,\"#fde0ef\"],[0.5,\"#f7f7f7\"],[0.6,\"#e6f5d0\"],[0.7,\"#b8e186\"],[0.8,\"#7fbc41\"],[0.9,\"#4d9221\"],[1,\"#276419\"]]},\"xaxis\":{\"gridcolor\":\"white\",\"linecolor\":\"white\",\"ticks\":\"\",\"title\":{\"standoff\":15},\"zerolinecolor\":\"white\",\"automargin\":true,\"zerolinewidth\":2},\"yaxis\":{\"gridcolor\":\"white\",\"linecolor\":\"white\",\"ticks\":\"\",\"title\":{\"standoff\":15},\"zerolinecolor\":\"white\",\"automargin\":true,\"zerolinewidth\":2},\"scene\":{\"xaxis\":{\"backgroundcolor\":\"#E5ECF6\",\"gridcolor\":\"white\",\"linecolor\":\"white\",\"showbackground\":true,\"ticks\":\"\",\"zerolinecolor\":\"white\",\"gridwidth\":2},\"yaxis\":{\"backgroundcolor\":\"#E5ECF6\",\"gridcolor\":\"white\",\"linecolor\":\"white\",\"showbackground\":true,\"ticks\":\"\",\"zerolinecolor\":\"white\",\"gridwidth\":2},\"zaxis\":{\"backgroundcolor\":\"#E5ECF6\",\"gridcolor\":\"white\",\"linecolor\":\"white\",\"showbackground\":true,\"ticks\":\"\",\"zerolinecolor\":\"white\",\"gridwidth\":2}},\"shapedefaults\":{\"line\":{\"color\":\"#2a3f5f\"}},\"annotationdefaults\":{\"arrowcolor\":\"#2a3f5f\",\"arrowhead\":0,\"arrowwidth\":1},\"geo\":{\"bgcolor\":\"white\",\"landcolor\":\"#E5ECF6\",\"subunitcolor\":\"white\",\"showland\":true,\"showlakes\":true,\"lakecolor\":\"white\"},\"title\":{\"x\":0.05},\"mapbox\":{\"style\":\"light\"}}},\"legend\":{\"x\":0.5,\"y\":1.03,\"orientation\":\"h\",\"xanchor\":\"center\"},\"xaxis\":{\"zeroline\":false,\"title\":{\"text\":\"Duration (Days)\"},\"showgrid\":false,\"showline\":true,\"linecolor\":\"black\",\"gridcolor\":\"#cbcbcb\",\"zerolinewidth\":1},\"title\":{\"font\":{\"size\":40,\"family\":\"Baskerville, Bold\",\"color\":\"#001c40\"},\"text\":\"Duration vs. Rating\\u003cbr\\u003e\\u003csup\\u003eThere's no clear pattern, but I do seem to consistently rate nonfiction books a little higher\"},\"margin\":{\"l\":85,\"r\":85,\"t\":120,\"b\":65},\"yaxis\":{\"title\":{},\"showgrid\":true,\"showline\":false,\"showticklabels\":true,\"linecolor\":\"black\",\"gridcolor\":\"#cbcbcb\",\"zerolinewidth\":1},\"yaxis2\":{\"showgrid\":true,\"showline\":false,\"showticklabels\":true,\"linecolor\":\"black\",\"gridcolor\":\"#cbcbcb\",\"zerolinewidth\":1},\"font\":{\"family\":\"Baskerville\",\"color\":\"#001c40\",\"size\":14},\"hoverlabel\":{\"font\":{\"size\":16}},\"height\":600,\"showlegend\":true,\"barmode\":\"group\",\"plot_bgcolor\":\"#f0f0f0\",\"paper_bgcolor\":\"#f0f0f0\"},                        {\"modeBarButtonsToRemove\": [\"zoomIn\", \"zoomOut\", \"resetScale2d\", \"select2d\", \"lasso2d\"], \"responsive\": true, \"displaylogo\": false, \"toImageButtonOptions\": {\"format\": \"png\", \"filename\": \"reading-habits\", \"scale\": 1}}                    ).then(function(){\n",
       "                            \n",
       "var gd = document.getElementById('c557532f-c006-448a-aae7-abc006c79f72');\n",
       "var x = new MutationObserver(function (mutations, observer) {{\n",
       "        var display = window.getComputedStyle(gd).display;\n",
       "        if (!display || display === 'none') {{\n",
       "            console.log([gd, 'removed!']);\n",
       "            Plotly.purge(gd);\n",
       "            observer.disconnect();\n",
       "        }}\n",
       "}});\n",
       "\n",
       "// Listen for the removal of the full notebook cells\n",
       "var notebookContainer = gd.closest('#notebook-container');\n",
       "if (notebookContainer) {{\n",
       "    x.observe(notebookContainer, {childList: true});\n",
       "}}\n",
       "\n",
       "// Listen for the clearing of the current output cell\n",
       "var outputEl = gd.closest('.output');\n",
       "if (outputEl) {{\n",
       "    x.observe(outputEl, {childList: true});\n",
       "}}\n",
       "\n",
       "                        })                };                });            </script>        </div>"
      ]
     },
     "metadata": {},
     "output_type": "display_data"
    }
   ],
   "source": [
    "dfs = df[df['Finish Date'].notnull()]\n",
    "\n",
    "title = \"Duration vs. Rating\"\n",
    "sub = \"There's no clear pattern, but I do seem to consistently rate nonfiction books a little higher\"\n",
    "plot.gen_scatter(dfs, title, sub)"
   ]
  },
  {
   "cell_type": "code",
   "execution_count": 49,
   "id": "3bebf8f0",
   "metadata": {},
   "outputs": [],
   "source": [
    "#group by year\n",
    "by_year = dfd.groupby(dfd['Finish Date'].dt.year.rename('Date'))\n",
    "\n",
    "#calculate simple data\n",
    "stats = by_year['Title'].count().rename('Books').reset_index()\n",
    "numPages = by_year['Pages'].sum().rename('Pages').reset_index(drop=True)\n",
    "numUniqueAuthors = by_year['Author'].nunique().rename('Unique Authors').reset_index(drop=True)\n",
    "# numGenres = by_year['Genre'].sum().rename('Genre').reset_index(drop=True)\n",
    "# numSubGenres = by_year['Sub-Genre'].sum().rename('Sub-Genre').reset_index(drop=True)\n",
    "\n",
    "#calculate not-so-simple data\n",
    "numAuthors = by_year['Author'].value_counts().reset_index()\n",
    "mostReadAuthors = {x: numAuthors[numAuthors['Date'] == x][['Author', 'count']][:3].reset_index(drop=True) for x in numAuthors['Date'].unique()}\n",
    "mostReadAuthors = [list(mostReadAuthors[x].itertuples(index=False, name=None)) for x in numAuthors['Date'].unique()]\n",
    "\n",
    "numPubs = by_year['Publisher'].value_counts().reset_index()\n",
    "mostReadPubs = {x: numPubs[numPubs['Date'] == x][['Publisher', 'count']][:3].reset_index(drop=True) for x in numPubs['Date'].unique()}\n",
    "mostReadPubs = [list(mostReadPubs[x].itertuples(index=False, name=None)) for x in numPubs['Date'].unique()]\n",
    "\n",
    "#assign data\n",
    "new_data = {'Books': stats['Books'], 'Pages': numPages, 'UniqueAuthors': numUniqueAuthors, 'Most Read Authors': mostReadAuthors, 'Most Read Publishers':mostReadPubs}\n",
    "stats = stats.assign(**new_data)\n",
    "\n",
    "#date fixing\n",
    "stats['Days'] = stats['Date'].apply(lambda x: 365 + isleap(x))\n",
    "stats['Pages Per Day'] = (stats['Pages']/stats['Days']).round(1)\n",
    "\n",
    "# #all time stats by year-month\n",
    "# yearmonth_books = dfd.groupby(dfd['Finish Date'].dt.to_period('M').rename('Date'))['Title'].count().rename('Books').reset_index()\n",
    "# yearmonth_pages = dfd.groupby(dfd['Finish Date'].dt.to_period('M').rename('Date'))['Pages'].sum().rename('Pages').reset_index()\n",
    "# all_time_by_month = pd.merge(yearmonth_books, yearmonth_pages, how=\"outer\").fillna(0).sort_values('Date').reset_index(drop=True)\n",
    "# all_time_by_month['Days'] = all_time_by_month['Date'].apply(lambda x: x.daysinmonth)\n",
    "# all_time_by_month['Avg. Pages'] = (all_time_by_month['Pages'] / all_time_by_month['Days']).round(1)\n",
    "# # all_time_by_month.tail()\n",
    "\n",
    "# all_time_by_year\n",
    "# year_stats\n",
    "# stats"
   ]
  },
  {
   "cell_type": "code",
   "execution_count": 50,
   "id": "1583f39b",
   "metadata": {},
   "outputs": [
    {
     "data": {
      "application/vnd.plotly.v1+json": {
       "config": {
        "plotlyServerURL": "https://plot.ly"
       },
       "data": [
        {
         "domain": {
          "column": 0,
          "row": 0
         },
         "mode": "number",
         "number": {
          "font": {
           "size": 50
          },
          "valueformat": "f"
         },
         "title": {
          "font": {
           "size": 25
          },
          "text": "Total Books Read"
         },
         "type": "indicator",
         "value": 1,
         "visible": false
        },
        {
         "domain": {
          "column": 1,
          "row": 0
         },
         "mode": "number",
         "number": {
          "font": {
           "size": 50
          },
          "valueformat": ","
         },
         "title": {
          "font": {
           "size": 25
          },
          "text": "Total Pages Read"
         },
         "type": "indicator",
         "value": 140,
         "visible": false
        },
        {
         "domain": {
          "column": 2,
          "row": 0
         },
         "mode": "number",
         "number": {
          "font": {
           "size": 50
          },
          "valueformat": "f"
         },
         "title": {
          "font": {
           "size": 25
          },
          "text": "Unique Authors Read"
         },
         "type": "indicator",
         "value": 1,
         "visible": false
        },
        {
         "cells": {
          "align": "center",
          "fill": {
           "color": "#f0f0f0"
          },
          "font": {
           "size": 18
          },
          "height": 26,
          "values": [
           [
            "The Four Agreements - Don Miguel Ruiz"
           ]
          ]
         },
         "domain": {
          "x": [
           0,
           0.6333333333333333
          ],
          "y": [
           0.2615384615384615,
           0.7923076923076923
          ]
         },
         "header": {
          "align": "center",
          "font": {
           "size": 25
          },
          "height": 35,
          "values": [
           "My Highest Rated Books"
          ]
         },
         "type": "table",
         "visible": false
        },
        {
         "cells": {
          "align": "center",
          "fill": {
           "color": "#f0f0f0"
          },
          "font": {
           "size": 18
          },
          "height": 26,
          "values": [
           [
            "Don Miguel Ruiz (1)"
           ]
          ]
         },
         "domain": {
          "x": [
           0.7333333333333334,
           1
          ],
          "y": [
           0.5769230769230769,
           0.7923076923076923
          ]
         },
         "header": {
          "align": "center",
          "font": {
           "size": 25
          },
          "height": 35,
          "values": [
           "Most Read Authors"
          ]
         },
         "type": "table",
         "visible": false
        },
        {
         "cells": {
          "align": "center",
          "fill": {
           "color": "#f0f0f0"
          },
          "font": {
           "size": 18
          },
          "height": 26,
          "values": [
           [
            "Amber-Allen Publishing (1)"
           ]
          ]
         },
         "domain": {
          "x": [
           0.7333333333333334,
           1
          ],
          "y": [
           0.2615384615384615,
           0.4769230769230769
          ]
         },
         "header": {
          "align": "center",
          "font": {
           "size": 25
          },
          "height": 35,
          "values": [
           "Most Read Publishers"
          ]
         },
         "type": "table",
         "visible": false
        },
        {
         "marker": {
          "color": [
           "#d27575",
           "#529b9c",
           "#eac392",
           "#9cba8f",
           "#675a55"
          ]
         },
         "name": "",
         "showlegend": false,
         "type": "bar",
         "visible": false,
         "x": [
          "Self Help"
         ],
         "xaxis": "x",
         "y": [
          1
         ],
         "yaxis": "y"
        },
        {
         "marker": {
          "color": [
           "#d27575",
           "#529b9c",
           "#eac392",
           "#9cba8f",
           "#675a55"
          ]
         },
         "name": "",
         "orientation": "h",
         "showlegend": false,
         "type": "bar",
         "visible": false,
         "x": [
          1
         ],
         "xaxis": "x2",
         "y": [
          "Nonfiction"
         ],
         "yaxis": "y2"
        },
        {
         "domain": {
          "column": 0,
          "row": 0
         },
         "mode": "number",
         "number": {
          "font": {
           "size": 50
          },
          "valueformat": "f"
         },
         "title": {
          "font": {
           "size": 25
          },
          "text": "Total Books Read"
         },
         "type": "indicator",
         "value": 23,
         "visible": false
        },
        {
         "domain": {
          "column": 1,
          "row": 0
         },
         "mode": "number",
         "number": {
          "font": {
           "size": 50
          },
          "valueformat": ","
         },
         "title": {
          "font": {
           "size": 25
          },
          "text": "Total Pages Read"
         },
         "type": "indicator",
         "value": 5609,
         "visible": false
        },
        {
         "domain": {
          "column": 2,
          "row": 0
         },
         "mode": "number",
         "number": {
          "font": {
           "size": 50
          },
          "valueformat": "f"
         },
         "title": {
          "font": {
           "size": 25
          },
          "text": "Unique Authors Read"
         },
         "type": "indicator",
         "value": 18,
         "visible": false
        },
        {
         "cells": {
          "align": "center",
          "fill": {
           "color": "#f0f0f0"
          },
          "font": {
           "size": 18
          },
          "height": 26,
          "values": [
           [
            "DaVinci's Ghost - Toby Lester",
            "Blood Meridian - Cormac McCarthy",
            "Pachinko - Min Jin Lee",
            "The Rings of Saturn - W.G. Sebald",
            "The Remains of The Day - Kazuo Ishiguro",
            "Klara and the Sun - Kazuo Ishiguro",
            "1984 - George Orwell",
            "Never Let Me Go - Kazuo Ishiguro",
            "Kafka on the Shore - Haruki Murakami",
            "Men Without Women - Haruki Murakami"
           ]
          ]
         },
         "domain": {
          "x": [
           0,
           0.6333333333333333
          ],
          "y": [
           0.2615384615384615,
           0.7923076923076923
          ]
         },
         "header": {
          "align": "center",
          "font": {
           "size": 25
          },
          "height": 35,
          "values": [
           "My Highest Rated Books"
          ]
         },
         "type": "table",
         "visible": false
        },
        {
         "cells": {
          "align": "center",
          "fill": {
           "color": "#f0f0f0"
          },
          "font": {
           "size": 18
          },
          "height": 26,
          "values": [
           [
            "Kazuo Ishiguro (3)",
            "Ernest Hemingway (2)",
            "George Orwell (2)"
           ]
          ]
         },
         "domain": {
          "x": [
           0.7333333333333334,
           1
          ],
          "y": [
           0.5769230769230769,
           0.7923076923076923
          ]
         },
         "header": {
          "align": "center",
          "font": {
           "size": 25
          },
          "height": 35,
          "values": [
           "Most Read Authors"
          ]
         },
         "type": "table",
         "visible": false
        },
        {
         "cells": {
          "align": "center",
          "fill": {
           "color": "#f0f0f0"
          },
          "font": {
           "size": 18
          },
          "height": 26,
          "values": [
           [
            "Faber and Faber (3)",
            "Vintage (3)",
            "Free Press (2)"
           ]
          ]
         },
         "domain": {
          "x": [
           0.7333333333333334,
           1
          ],
          "y": [
           0.2615384615384615,
           0.4769230769230769
          ]
         },
         "header": {
          "align": "center",
          "font": {
           "size": 25
          },
          "height": 35,
          "values": [
           "Most Read Publishers"
          ]
         },
         "type": "table",
         "visible": false
        },
        {
         "marker": {
          "color": [
           "#d27575",
           "#529b9c",
           "#eac392",
           "#9cba8f",
           "#675a55",
           "#d27575",
           "#529b9c",
           "#eac392",
           "#9cba8f",
           "#675a55",
           "#d27575",
           "#529b9c",
           "#eac392",
           "#9cba8f",
           "#675a55",
           "#d27575",
           "#529b9c",
           "#eac392",
           "#9cba8f",
           "#675a55",
           "#d27575",
           "#529b9c",
           "#eac392",
           "#9cba8f",
           "#675a55",
           "#d27575",
           "#529b9c",
           "#eac392",
           "#9cba8f",
           "#675a55",
           "#d27575",
           "#529b9c",
           "#eac392",
           "#9cba8f",
           "#675a55",
           "#d27575",
           "#529b9c",
           "#eac392",
           "#9cba8f",
           "#675a55",
           "#d27575",
           "#529b9c",
           "#eac392",
           "#9cba8f",
           "#675a55",
           "#d27575",
           "#529b9c",
           "#eac392",
           "#9cba8f",
           "#675a55"
          ]
         },
         "name": "",
         "showlegend": false,
         "type": "bar",
         "visible": false,
         "x": [
          "Historical Fiction",
          "Classics",
          "Science Fiction",
          "Contemporary",
          "Fantasy",
          "Cultural",
          "History",
          "Self Help",
          "Short Stories",
          "Young Adult"
         ],
         "xaxis": "x",
         "y": [
          7,
          6,
          3,
          1,
          1,
          1,
          1,
          1,
          1,
          1
         ],
         "yaxis": "y"
        },
        {
         "marker": {
          "color": [
           "#d27575",
           "#529b9c",
           "#eac392",
           "#9cba8f",
           "#675a55",
           "#d27575",
           "#529b9c",
           "#eac392",
           "#9cba8f",
           "#675a55"
          ]
         },
         "name": "",
         "orientation": "h",
         "showlegend": false,
         "type": "bar",
         "visible": false,
         "x": [
          2,
          21
         ],
         "xaxis": "x2",
         "y": [
          "Nonfiction",
          "Fiction"
         ],
         "yaxis": "y2"
        },
        {
         "domain": {
          "column": 0,
          "row": 0
         },
         "mode": "number",
         "number": {
          "font": {
           "size": 50
          },
          "valueformat": "f"
         },
         "title": {
          "font": {
           "size": 25
          },
          "text": "Total Books Read"
         },
         "type": "indicator",
         "value": 13,
         "visible": false
        },
        {
         "domain": {
          "column": 1,
          "row": 0
         },
         "mode": "number",
         "number": {
          "font": {
           "size": 50
          },
          "valueformat": ","
         },
         "title": {
          "font": {
           "size": 25
          },
          "text": "Total Pages Read"
         },
         "type": "indicator",
         "value": 3338,
         "visible": false
        },
        {
         "domain": {
          "column": 2,
          "row": 0
         },
         "mode": "number",
         "number": {
          "font": {
           "size": 50
          },
          "valueformat": "f"
         },
         "title": {
          "font": {
           "size": 25
          },
          "text": "Unique Authors Read"
         },
         "type": "indicator",
         "value": 13,
         "visible": false
        },
        {
         "cells": {
          "align": "center",
          "fill": {
           "color": "#f0f0f0"
          },
          "font": {
           "size": 18
          },
          "height": 26,
          "values": [
           [
            "Crying In H Mart - Michelle Zauner",
            "Why Fish Don't Exist: A Story of Loss, Love, and the Hidden Order of Life - Lulu Miller",
            "In Waves - AJ Dungo",
            "Empire of Pain: The Secret History of the Sackler Dynasty - Patrick Radden Keefe",
            "Cosmos - Carl Sagan",
            "One Left - Kim Soom",
            "Where The Desert Meets The Sea - Werner Sonne",
            "After Dark - Haruki Murakami",
            "The Ardent Swarm - Yamen Manai",
            "The Easy Life in Kamusari - Shion Miura"
           ]
          ]
         },
         "domain": {
          "x": [
           0,
           0.6333333333333333
          ],
          "y": [
           0.2615384615384615,
           0.7923076923076923
          ]
         },
         "header": {
          "align": "center",
          "font": {
           "size": 25
          },
          "height": 35,
          "values": [
           "My Highest Rated Books"
          ]
         },
         "type": "table",
         "visible": false
        },
        {
         "cells": {
          "align": "center",
          "fill": {
           "color": "#f0f0f0"
          },
          "font": {
           "size": 18
          },
          "height": 26,
          "values": [
           [
            "AJ Dungo (1)",
            "Carl Sagan (1)",
            "Cory Althoff (1)"
           ]
          ]
         },
         "domain": {
          "x": [
           0.7333333333333334,
           1
          ],
          "y": [
           0.5769230769230769,
           0.7923076923076923
          ]
         },
         "header": {
          "align": "center",
          "font": {
           "size": 25
          },
          "height": 35,
          "values": [
           "Most Read Authors"
          ]
         },
         "type": "table",
         "visible": false
        },
        {
         "cells": {
          "align": "center",
          "fill": {
           "color": "#f0f0f0"
          },
          "font": {
           "size": 18
          },
          "height": 26,
          "values": [
           [
            "Amazon Crossing (3)",
            "Knopf Doubleday Publishing Group (2)",
            "Ballantine Books (1)"
           ]
          ]
         },
         "domain": {
          "x": [
           0.7333333333333334,
           1
          ],
          "y": [
           0.2615384615384615,
           0.4769230769230769
          ]
         },
         "header": {
          "align": "center",
          "font": {
           "size": 25
          },
          "height": 35,
          "values": [
           "Most Read Publishers"
          ]
         },
         "type": "table",
         "visible": false
        },
        {
         "marker": {
          "color": [
           "#d27575",
           "#529b9c",
           "#eac392",
           "#9cba8f",
           "#675a55",
           "#d27575",
           "#529b9c",
           "#eac392",
           "#9cba8f",
           "#675a55",
           "#d27575",
           "#529b9c",
           "#eac392",
           "#9cba8f",
           "#675a55",
           "#d27575",
           "#529b9c",
           "#eac392",
           "#9cba8f",
           "#675a55",
           "#d27575",
           "#529b9c",
           "#eac392",
           "#9cba8f",
           "#675a55",
           "#d27575",
           "#529b9c",
           "#eac392",
           "#9cba8f",
           "#675a55",
           "#d27575",
           "#529b9c",
           "#eac392",
           "#9cba8f",
           "#675a55",
           "#d27575",
           "#529b9c",
           "#eac392",
           "#9cba8f",
           "#675a55"
          ]
         },
         "name": "",
         "showlegend": false,
         "type": "bar",
         "visible": false,
         "x": [
          "Historical Fiction",
          "Classics",
          "Cultural",
          "Memoir",
          "Graphic Novel",
          "History",
          "Nonfiction",
          "Programming"
         ],
         "xaxis": "x",
         "y": [
          3,
          2,
          2,
          2,
          1,
          1,
          1,
          1
         ],
         "yaxis": "y"
        },
        {
         "marker": {
          "color": [
           "#d27575",
           "#529b9c",
           "#eac392",
           "#9cba8f",
           "#675a55",
           "#d27575",
           "#529b9c",
           "#eac392",
           "#9cba8f",
           "#675a55",
           "#d27575",
           "#529b9c",
           "#eac392",
           "#9cba8f",
           "#675a55",
           "#d27575",
           "#529b9c",
           "#eac392",
           "#9cba8f",
           "#675a55"
          ]
         },
         "name": "",
         "orientation": "h",
         "showlegend": false,
         "type": "bar",
         "visible": false,
         "x": [
          1,
          2,
          4,
          6
         ],
         "xaxis": "x2",
         "y": [
          "Philosophy",
          "Science",
          "Nonfiction",
          "Fiction"
         ],
         "yaxis": "y2"
        },
        {
         "domain": {
          "column": 0,
          "row": 0
         },
         "mode": "number",
         "number": {
          "font": {
           "size": 50
          },
          "valueformat": "f"
         },
         "title": {
          "font": {
           "size": 25
          },
          "text": "Total Books Read"
         },
         "type": "indicator",
         "value": 6,
         "visible": false
        },
        {
         "domain": {
          "column": 1,
          "row": 0
         },
         "mode": "number",
         "number": {
          "font": {
           "size": 50
          },
          "valueformat": ","
         },
         "title": {
          "font": {
           "size": 25
          },
          "text": "Total Pages Read"
         },
         "type": "indicator",
         "value": 1298,
         "visible": false
        },
        {
         "domain": {
          "column": 2,
          "row": 0
         },
         "mode": "number",
         "number": {
          "font": {
           "size": 50
          },
          "valueformat": "f"
         },
         "title": {
          "font": {
           "size": 25
          },
          "text": "Unique Authors Read"
         },
         "type": "indicator",
         "value": 6,
         "visible": false
        },
        {
         "cells": {
          "align": "center",
          "fill": {
           "color": "#f0f0f0"
          },
          "font": {
           "size": 18
          },
          "height": 26,
          "values": [
           [
            "A Brief History of Time - Stephen Hawking",
            "The Boy, The Mole, The Fox, and The Horse - Charlie Mackesy",
            "The Doors of Perception / Heaven & Hell - Aldous Huxley",
            "Everything I Never Told You - Celeste Ng",
            "Do Androids Dream of Electric Sheep? - Philip K. Dick",
            "Sputnik Sweetheart - Haruki Murakami"
           ]
          ]
         },
         "domain": {
          "x": [
           0,
           0.6333333333333333
          ],
          "y": [
           0.2615384615384615,
           0.7923076923076923
          ]
         },
         "header": {
          "align": "center",
          "font": {
           "size": 25
          },
          "height": 35,
          "values": [
           "My Highest Rated Books"
          ]
         },
         "type": "table",
         "visible": false
        },
        {
         "cells": {
          "align": "center",
          "fill": {
           "color": "#f0f0f0"
          },
          "font": {
           "size": 18
          },
          "height": 26,
          "values": [
           [
            "Aldous Huxley (1)",
            "Celeste Ng (1)",
            "Charlie Mackesy (1)"
           ]
          ]
         },
         "domain": {
          "x": [
           0.7333333333333334,
           1
          ],
          "y": [
           0.5769230769230769,
           0.7923076923076923
          ]
         },
         "header": {
          "align": "center",
          "font": {
           "size": 25
          },
          "height": 35,
          "values": [
           "Most Read Authors"
          ]
         },
         "type": "table",
         "visible": false
        },
        {
         "cells": {
          "align": "center",
          "fill": {
           "color": "#f0f0f0"
          },
          "font": {
           "size": 18
          },
          "height": 26,
          "values": [
           [
            "Ballantine Books (1)",
            "Bantam Books (1)",
            "Ebury Press (1)"
           ]
          ]
         },
         "domain": {
          "x": [
           0.7333333333333334,
           1
          ],
          "y": [
           0.2615384615384615,
           0.4769230769230769
          ]
         },
         "header": {
          "align": "center",
          "font": {
           "size": 25
          },
          "height": 35,
          "values": [
           "Most Read Publishers"
          ]
         },
         "type": "table",
         "visible": false
        },
        {
         "marker": {
          "color": [
           "#d27575",
           "#529b9c",
           "#eac392",
           "#9cba8f",
           "#675a55",
           "#d27575",
           "#529b9c",
           "#eac392",
           "#9cba8f",
           "#675a55",
           "#d27575",
           "#529b9c",
           "#eac392",
           "#9cba8f",
           "#675a55",
           "#d27575",
           "#529b9c",
           "#eac392",
           "#9cba8f",
           "#675a55",
           "#d27575",
           "#529b9c",
           "#eac392",
           "#9cba8f",
           "#675a55"
          ]
         },
         "name": "",
         "showlegend": false,
         "type": "bar",
         "visible": false,
         "x": [
          "Nonfiction",
          "Cultural",
          "Graphic Novel",
          "Mystery",
          "Science Fiction"
         ],
         "xaxis": "x",
         "y": [
          2,
          1,
          1,
          1,
          1
         ],
         "yaxis": "y"
        },
        {
         "marker": {
          "color": [
           "#d27575",
           "#529b9c",
           "#eac392",
           "#9cba8f",
           "#675a55",
           "#d27575",
           "#529b9c",
           "#eac392",
           "#9cba8f",
           "#675a55",
           "#d27575",
           "#529b9c",
           "#eac392",
           "#9cba8f",
           "#675a55"
          ]
         },
         "name": "",
         "orientation": "h",
         "showlegend": false,
         "type": "bar",
         "visible": false,
         "x": [
          1,
          1,
          4
         ],
         "xaxis": "x2",
         "y": [
          "Philosophy",
          "Science",
          "Fiction"
         ],
         "yaxis": "y2"
        },
        {
         "domain": {
          "column": 0,
          "row": 0
         },
         "mode": "number",
         "number": {
          "font": {
           "size": 50
          },
          "valueformat": "f"
         },
         "title": {
          "font": {
           "size": 25
          },
          "text": "Total Books Read"
         },
         "type": "indicator",
         "value": 80,
         "visible": false
        },
        {
         "domain": {
          "column": 1,
          "row": 0
         },
         "mode": "number",
         "number": {
          "font": {
           "size": 50
          },
          "valueformat": ","
         },
         "title": {
          "font": {
           "size": 25
          },
          "text": "Total Pages Read"
         },
         "type": "indicator",
         "value": 15720,
         "visible": false
        },
        {
         "domain": {
          "column": 2,
          "row": 0
         },
         "mode": "number",
         "number": {
          "font": {
           "size": 50
          },
          "valueformat": "f"
         },
         "title": {
          "font": {
           "size": 25
          },
          "text": "Unique Authors Read"
         },
         "type": "indicator",
         "value": 33,
         "visible": false
        },
        {
         "cells": {
          "align": "center",
          "fill": {
           "color": "#f0f0f0"
          },
          "font": {
           "size": 18
          },
          "height": 26,
          "values": [
           [
            "Know No Fear (Horus Heresy #19) - Dan Abnett",
            "The Unremembered Empire (Horus Heresy #27) - Dan Abnett",
            "Correction - Thomas Bernhard",
            "The Midmight Library - Matt Haig",
            "Under Alien Skies - Philip Plait",
            "Angels of Caliban (Horus Heresy #38) - Gav Thorpe",
            "Ruinstorm (Horus Heresy #46) - Dave Annandale",
            "Betrayer (Horus Heresy #24) - Aaron Dembski-Bowden",
            "Horus Rising (Horus Heresy #1) - Dan Abnett",
            "Tiny Beautiful Things: Advice on Love and Life from Dear Sugar - Cheryl Strayed"
           ]
          ]
         },
         "domain": {
          "x": [
           0,
           0.6333333333333333
          ],
          "y": [
           0.2615384615384615,
           0.7923076923076923
          ]
         },
         "header": {
          "align": "center",
          "font": {
           "size": 25
          },
          "height": 35,
          "values": [
           "My Highest Rated Books"
          ]
         },
         "type": "table",
         "visible": false
        },
        {
         "cells": {
          "align": "center",
          "fill": {
           "color": "#f0f0f0"
          },
          "font": {
           "size": 18
          },
          "height": 26,
          "values": [
           [
            "Aaron Dembski-Bowden (9)",
            "Gav Thorpe (9)",
            "Graham McNeill (9)"
           ]
          ]
         },
         "domain": {
          "x": [
           0.7333333333333334,
           1
          ],
          "y": [
           0.5769230769230769,
           0.7923076923076923
          ]
         },
         "header": {
          "align": "center",
          "font": {
           "size": 25
          },
          "height": 35,
          "values": [
           "Most Read Authors"
          ]
         },
         "type": "table",
         "visible": false
        },
        {
         "cells": {
          "align": "center",
          "fill": {
           "color": "#f0f0f0"
          },
          "font": {
           "size": 18
          },
          "height": 26,
          "values": [
           [
            "Black Library (66)",
            "Knopf Doubleday Publishing Group (4)",
            "Vintage (4)"
           ]
          ]
         },
         "domain": {
          "x": [
           0.7333333333333334,
           1
          ],
          "y": [
           0.2615384615384615,
           0.4769230769230769
          ]
         },
         "header": {
          "align": "center",
          "font": {
           "size": 25
          },
          "height": 35,
          "values": [
           "Most Read Publishers"
          ]
         },
         "type": "table",
         "visible": false
        },
        {
         "marker": {
          "color": [
           "#d27575",
           "#529b9c",
           "#eac392",
           "#9cba8f",
           "#675a55",
           "#d27575",
           "#529b9c",
           "#eac392",
           "#9cba8f",
           "#675a55",
           "#d27575",
           "#529b9c",
           "#eac392",
           "#9cba8f",
           "#675a55",
           "#d27575",
           "#529b9c",
           "#eac392",
           "#9cba8f",
           "#675a55",
           "#d27575",
           "#529b9c",
           "#eac392",
           "#9cba8f",
           "#675a55",
           "#d27575",
           "#529b9c",
           "#eac392",
           "#9cba8f",
           "#675a55",
           "#d27575",
           "#529b9c",
           "#eac392",
           "#9cba8f",
           "#675a55",
           "#d27575",
           "#529b9c",
           "#eac392",
           "#9cba8f",
           "#675a55"
          ]
         },
         "name": "",
         "showlegend": false,
         "type": "bar",
         "visible": false,
         "x": [
          "Warhammer 40k",
          "Fantasy",
          "Nonfiction",
          "German Literature",
          "Historical Fiction",
          "Contemporary",
          "History",
          "Self Help"
         ],
         "xaxis": "x",
         "y": [
          66,
          5,
          3,
          2,
          1,
          1,
          1,
          1
         ],
         "yaxis": "y"
        },
        {
         "marker": {
          "color": [
           "#d27575",
           "#529b9c",
           "#eac392",
           "#9cba8f",
           "#675a55",
           "#d27575",
           "#529b9c",
           "#eac392",
           "#9cba8f",
           "#675a55",
           "#d27575",
           "#529b9c",
           "#eac392",
           "#9cba8f",
           "#675a55",
           "#d27575",
           "#529b9c",
           "#eac392",
           "#9cba8f",
           "#675a55"
          ]
         },
         "name": "",
         "orientation": "h",
         "showlegend": false,
         "type": "bar",
         "visible": false,
         "x": [
          1,
          2,
          2,
          75
         ],
         "xaxis": "x2",
         "y": [
          "Philosophy",
          "Nonfiction",
          "Science",
          "Fiction"
         ],
         "yaxis": "y2"
        },
        {
         "domain": {
          "column": 0,
          "row": 0
         },
         "mode": "number",
         "number": {
          "font": {
           "size": 50
          },
          "valueformat": "f"
         },
         "title": {
          "font": {
           "size": 25
          },
          "text": "Total Books Read"
         },
         "type": "indicator",
         "value": 20,
         "visible": true
        },
        {
         "domain": {
          "column": 1,
          "row": 0
         },
         "mode": "number",
         "number": {
          "font": {
           "size": 50
          },
          "valueformat": ","
         },
         "title": {
          "font": {
           "size": 25
          },
          "text": "Total Pages Read"
         },
         "type": "indicator",
         "value": 8853,
         "visible": true
        },
        {
         "domain": {
          "column": 2,
          "row": 0
         },
         "mode": "number",
         "number": {
          "font": {
           "size": 50
          },
          "valueformat": "f"
         },
         "title": {
          "font": {
           "size": 25
          },
          "text": "Unique Authors Read"
         },
         "type": "indicator",
         "value": 14,
         "visible": true
        },
        {
         "cells": {
          "align": "center",
          "fill": {
           "color": "#f0f0f0"
          },
          "font": {
           "size": 18
          },
          "height": 26,
          "values": [
           [
            "Lonesome Dove: A Novel - Larry McMurtry",
            "The Prince of Tides - Pat Conroy",
            "The End and The Death: Volume 3 - Dan Abnett",
            "Saturnine (Siege of Terra #4) - Dan Abnett",
            "Echoes of Eternity (Siege of Terra #7) - Aaron Dembski-Bowden",
            "Warhawk (Siege of Terra #6) - Chris Wraight",
            "The Buried Dagger (Horus Heresy #54) - James Swallow",
            "Oil and Marble - Stephanie Storey",
            "The Solar War (Siege of Terra #1) - John French",
            "The End and The Death: Volume 2 - Dan Abnett"
           ]
          ]
         },
         "domain": {
          "x": [
           0,
           0.6333333333333333
          ],
          "y": [
           0.2615384615384615,
           0.7923076923076923
          ]
         },
         "header": {
          "align": "center",
          "font": {
           "size": 25
          },
          "height": 35,
          "values": [
           "My Highest Rated Books"
          ]
         },
         "type": "table",
         "visible": true
        },
        {
         "cells": {
          "align": "center",
          "fill": {
           "color": "#f0f0f0"
          },
          "font": {
           "size": 18
          },
          "height": 26,
          "values": [
           [
            "Dan Abnett (4)",
            "Graham McNeill (2)",
            "James Swallow (2)"
           ]
          ]
         },
         "domain": {
          "x": [
           0.7333333333333334,
           1
          ],
          "y": [
           0.5769230769230769,
           0.7923076923076923
          ]
         },
         "header": {
          "align": "center",
          "font": {
           "size": 25
          },
          "height": 35,
          "values": [
           "Most Read Authors"
          ]
         },
         "type": "table",
         "visible": true
        },
        {
         "cells": {
          "align": "center",
          "fill": {
           "color": "#f0f0f0"
          },
          "font": {
           "size": 18
          },
          "height": 26,
          "values": [
           [
            "Black Library (14)",
            "Arcade (1)",
            "Ballantine Books (1)"
           ]
          ]
         },
         "domain": {
          "x": [
           0.7333333333333334,
           1
          ],
          "y": [
           0.2615384615384615,
           0.4769230769230769
          ]
         },
         "header": {
          "align": "center",
          "font": {
           "size": 25
          },
          "height": 35,
          "values": [
           "Most Read Publishers"
          ]
         },
         "type": "table",
         "visible": true
        },
        {
         "marker": {
          "color": [
           "#d27575",
           "#529b9c",
           "#eac392",
           "#9cba8f",
           "#675a55",
           "#d27575",
           "#529b9c",
           "#eac392",
           "#9cba8f",
           "#675a55",
           "#d27575",
           "#529b9c",
           "#eac392",
           "#9cba8f",
           "#675a55",
           "#d27575",
           "#529b9c",
           "#eac392",
           "#9cba8f",
           "#675a55",
           "#d27575",
           "#529b9c",
           "#eac392",
           "#9cba8f",
           "#675a55",
           "#d27575",
           "#529b9c",
           "#eac392",
           "#9cba8f",
           "#675a55"
          ]
         },
         "name": "",
         "showlegend": false,
         "type": "bar",
         "visible": true,
         "x": [
          "Warhammer 40k",
          "Historical Fiction",
          "Classics",
          "Nonfiction",
          "Poetry",
          "Psychology"
         ],
         "xaxis": "x",
         "y": [
          14,
          2,
          1,
          1,
          1,
          1
         ],
         "yaxis": "y"
        },
        {
         "marker": {
          "color": [
           "#d27575",
           "#529b9c",
           "#eac392",
           "#9cba8f",
           "#675a55",
           "#d27575",
           "#529b9c",
           "#eac392",
           "#9cba8f",
           "#675a55",
           "#d27575",
           "#529b9c",
           "#eac392",
           "#9cba8f",
           "#675a55"
          ]
         },
         "name": "",
         "orientation": "h",
         "showlegend": false,
         "type": "bar",
         "visible": true,
         "x": [
          1,
          1,
          18
         ],
         "xaxis": "x2",
         "y": [
          "Nonfiction",
          "Science",
          "Fiction"
         ],
         "yaxis": "y2"
        }
       ],
       "layout": {
        "annotations": [
         {
          "font": {
           "size": 25
          },
          "showarrow": false,
          "text": "Sub-Genres",
          "x": 0.31666666666666665,
          "xanchor": "center",
          "xref": "paper",
          "y": 0.16153846153846152,
          "yanchor": "bottom",
          "yref": "paper"
         },
         {
          "font": {
           "size": 25
          },
          "showarrow": false,
          "text": "Genres",
          "x": 0.8666666666666667,
          "xanchor": "center",
          "xref": "paper",
          "y": 0.16153846153846152,
          "yanchor": "bottom",
          "yref": "paper"
         }
        ],
        "barmode": "group",
        "font": {
         "color": "#001c40",
         "family": "Baskerville",
         "size": 14
        },
        "grid": {
         "columns": 3,
         "pattern": "independent",
         "rows": 4
        },
        "height": 800,
        "hoverlabel": {
         "font": {
          "size": 16
         }
        },
        "margin": {
         "b": 65,
         "l": 85,
         "r": 85,
         "t": 120
        },
        "paper_bgcolor": "#f0f0f0",
        "plot_bgcolor": "#f0f0f0",
        "showlegend": true,
        "template": {
         "data": {
          "bar": [
           {
            "error_x": {
             "color": "#2a3f5f"
            },
            "error_y": {
             "color": "#2a3f5f"
            },
            "marker": {
             "line": {
              "color": "#E5ECF6",
              "width": 0.5
             },
             "pattern": {
              "fillmode": "overlay",
              "size": 10,
              "solidity": 0.2
             }
            },
            "type": "bar"
           }
          ],
          "barpolar": [
           {
            "marker": {
             "line": {
              "color": "#E5ECF6",
              "width": 0.5
             },
             "pattern": {
              "fillmode": "overlay",
              "size": 10,
              "solidity": 0.2
             }
            },
            "type": "barpolar"
           }
          ],
          "carpet": [
           {
            "aaxis": {
             "endlinecolor": "#2a3f5f",
             "gridcolor": "white",
             "linecolor": "white",
             "minorgridcolor": "white",
             "startlinecolor": "#2a3f5f"
            },
            "baxis": {
             "endlinecolor": "#2a3f5f",
             "gridcolor": "white",
             "linecolor": "white",
             "minorgridcolor": "white",
             "startlinecolor": "#2a3f5f"
            },
            "type": "carpet"
           }
          ],
          "choropleth": [
           {
            "colorbar": {
             "outlinewidth": 0,
             "ticks": ""
            },
            "type": "choropleth"
           }
          ],
          "contour": [
           {
            "colorbar": {
             "outlinewidth": 0,
             "ticks": ""
            },
            "colorscale": [
             [
              0,
              "#0d0887"
             ],
             [
              0.1111111111111111,
              "#46039f"
             ],
             [
              0.2222222222222222,
              "#7201a8"
             ],
             [
              0.3333333333333333,
              "#9c179e"
             ],
             [
              0.4444444444444444,
              "#bd3786"
             ],
             [
              0.5555555555555556,
              "#d8576b"
             ],
             [
              0.6666666666666666,
              "#ed7953"
             ],
             [
              0.7777777777777778,
              "#fb9f3a"
             ],
             [
              0.8888888888888888,
              "#fdca26"
             ],
             [
              1,
              "#f0f921"
             ]
            ],
            "type": "contour"
           }
          ],
          "contourcarpet": [
           {
            "colorbar": {
             "outlinewidth": 0,
             "ticks": ""
            },
            "type": "contourcarpet"
           }
          ],
          "heatmap": [
           {
            "colorbar": {
             "outlinewidth": 0,
             "ticks": ""
            },
            "colorscale": [
             [
              0,
              "#0d0887"
             ],
             [
              0.1111111111111111,
              "#46039f"
             ],
             [
              0.2222222222222222,
              "#7201a8"
             ],
             [
              0.3333333333333333,
              "#9c179e"
             ],
             [
              0.4444444444444444,
              "#bd3786"
             ],
             [
              0.5555555555555556,
              "#d8576b"
             ],
             [
              0.6666666666666666,
              "#ed7953"
             ],
             [
              0.7777777777777778,
              "#fb9f3a"
             ],
             [
              0.8888888888888888,
              "#fdca26"
             ],
             [
              1,
              "#f0f921"
             ]
            ],
            "type": "heatmap"
           }
          ],
          "heatmapgl": [
           {
            "colorbar": {
             "outlinewidth": 0,
             "ticks": ""
            },
            "colorscale": [
             [
              0,
              "#0d0887"
             ],
             [
              0.1111111111111111,
              "#46039f"
             ],
             [
              0.2222222222222222,
              "#7201a8"
             ],
             [
              0.3333333333333333,
              "#9c179e"
             ],
             [
              0.4444444444444444,
              "#bd3786"
             ],
             [
              0.5555555555555556,
              "#d8576b"
             ],
             [
              0.6666666666666666,
              "#ed7953"
             ],
             [
              0.7777777777777778,
              "#fb9f3a"
             ],
             [
              0.8888888888888888,
              "#fdca26"
             ],
             [
              1,
              "#f0f921"
             ]
            ],
            "type": "heatmapgl"
           }
          ],
          "histogram": [
           {
            "marker": {
             "pattern": {
              "fillmode": "overlay",
              "size": 10,
              "solidity": 0.2
             }
            },
            "type": "histogram"
           }
          ],
          "histogram2d": [
           {
            "colorbar": {
             "outlinewidth": 0,
             "ticks": ""
            },
            "colorscale": [
             [
              0,
              "#0d0887"
             ],
             [
              0.1111111111111111,
              "#46039f"
             ],
             [
              0.2222222222222222,
              "#7201a8"
             ],
             [
              0.3333333333333333,
              "#9c179e"
             ],
             [
              0.4444444444444444,
              "#bd3786"
             ],
             [
              0.5555555555555556,
              "#d8576b"
             ],
             [
              0.6666666666666666,
              "#ed7953"
             ],
             [
              0.7777777777777778,
              "#fb9f3a"
             ],
             [
              0.8888888888888888,
              "#fdca26"
             ],
             [
              1,
              "#f0f921"
             ]
            ],
            "type": "histogram2d"
           }
          ],
          "histogram2dcontour": [
           {
            "colorbar": {
             "outlinewidth": 0,
             "ticks": ""
            },
            "colorscale": [
             [
              0,
              "#0d0887"
             ],
             [
              0.1111111111111111,
              "#46039f"
             ],
             [
              0.2222222222222222,
              "#7201a8"
             ],
             [
              0.3333333333333333,
              "#9c179e"
             ],
             [
              0.4444444444444444,
              "#bd3786"
             ],
             [
              0.5555555555555556,
              "#d8576b"
             ],
             [
              0.6666666666666666,
              "#ed7953"
             ],
             [
              0.7777777777777778,
              "#fb9f3a"
             ],
             [
              0.8888888888888888,
              "#fdca26"
             ],
             [
              1,
              "#f0f921"
             ]
            ],
            "type": "histogram2dcontour"
           }
          ],
          "indicator": [
           {
            "title": {
             "align": "center",
             "font": {
              "size": 25
             }
            },
            "type": "indicator"
           }
          ],
          "mesh3d": [
           {
            "colorbar": {
             "outlinewidth": 0,
             "ticks": ""
            },
            "type": "mesh3d"
           }
          ],
          "parcoords": [
           {
            "line": {
             "colorbar": {
              "outlinewidth": 0,
              "ticks": ""
             }
            },
            "type": "parcoords"
           }
          ],
          "pie": [
           {
            "automargin": true,
            "type": "pie"
           }
          ],
          "scatter": [
           {
            "fillpattern": {
             "fillmode": "overlay",
             "size": 10,
             "solidity": 0.2
            },
            "type": "scatter"
           }
          ],
          "scatter3d": [
           {
            "line": {
             "colorbar": {
              "outlinewidth": 0,
              "ticks": ""
             }
            },
            "marker": {
             "colorbar": {
              "outlinewidth": 0,
              "ticks": ""
             }
            },
            "type": "scatter3d"
           }
          ],
          "scattercarpet": [
           {
            "marker": {
             "colorbar": {
              "outlinewidth": 0,
              "ticks": ""
             }
            },
            "type": "scattercarpet"
           }
          ],
          "scattergeo": [
           {
            "marker": {
             "colorbar": {
              "outlinewidth": 0,
              "ticks": ""
             }
            },
            "type": "scattergeo"
           }
          ],
          "scattergl": [
           {
            "marker": {
             "colorbar": {
              "outlinewidth": 0,
              "ticks": ""
             }
            },
            "type": "scattergl"
           }
          ],
          "scattermapbox": [
           {
            "marker": {
             "colorbar": {
              "outlinewidth": 0,
              "ticks": ""
             }
            },
            "type": "scattermapbox"
           }
          ],
          "scatterpolar": [
           {
            "marker": {
             "colorbar": {
              "outlinewidth": 0,
              "ticks": ""
             }
            },
            "type": "scatterpolar"
           }
          ],
          "scatterpolargl": [
           {
            "marker": {
             "colorbar": {
              "outlinewidth": 0,
              "ticks": ""
             }
            },
            "type": "scatterpolargl"
           }
          ],
          "scatterternary": [
           {
            "marker": {
             "colorbar": {
              "outlinewidth": 0,
              "ticks": ""
             }
            },
            "type": "scatterternary"
           }
          ],
          "surface": [
           {
            "colorbar": {
             "outlinewidth": 0,
             "ticks": ""
            },
            "colorscale": [
             [
              0,
              "#0d0887"
             ],
             [
              0.1111111111111111,
              "#46039f"
             ],
             [
              0.2222222222222222,
              "#7201a8"
             ],
             [
              0.3333333333333333,
              "#9c179e"
             ],
             [
              0.4444444444444444,
              "#bd3786"
             ],
             [
              0.5555555555555556,
              "#d8576b"
             ],
             [
              0.6666666666666666,
              "#ed7953"
             ],
             [
              0.7777777777777778,
              "#fb9f3a"
             ],
             [
              0.8888888888888888,
              "#fdca26"
             ],
             [
              1,
              "#f0f921"
             ]
            ],
            "type": "surface"
           }
          ],
          "table": [
           {
            "cells": {
             "fill": {
              "color": "#EBF0F8"
             },
             "line": {
              "color": "white"
             }
            },
            "header": {
             "fill": {
              "color": "#C8D4E3"
             },
             "line": {
              "color": "white"
             }
            },
            "type": "table"
           }
          ]
         },
         "layout": {
          "annotationdefaults": {
           "arrowcolor": "#2a3f5f",
           "arrowhead": 0,
           "arrowwidth": 1
          },
          "autotypenumbers": "strict",
          "coloraxis": {
           "colorbar": {
            "outlinewidth": 0,
            "ticks": ""
           }
          },
          "colorscale": {
           "diverging": [
            [
             0,
             "#8e0152"
            ],
            [
             0.1,
             "#c51b7d"
            ],
            [
             0.2,
             "#de77ae"
            ],
            [
             0.3,
             "#f1b6da"
            ],
            [
             0.4,
             "#fde0ef"
            ],
            [
             0.5,
             "#f7f7f7"
            ],
            [
             0.6,
             "#e6f5d0"
            ],
            [
             0.7,
             "#b8e186"
            ],
            [
             0.8,
             "#7fbc41"
            ],
            [
             0.9,
             "#4d9221"
            ],
            [
             1,
             "#276419"
            ]
           ],
           "sequential": [
            [
             0,
             "#0d0887"
            ],
            [
             0.1111111111111111,
             "#46039f"
            ],
            [
             0.2222222222222222,
             "#7201a8"
            ],
            [
             0.3333333333333333,
             "#9c179e"
            ],
            [
             0.4444444444444444,
             "#bd3786"
            ],
            [
             0.5555555555555556,
             "#d8576b"
            ],
            [
             0.6666666666666666,
             "#ed7953"
            ],
            [
             0.7777777777777778,
             "#fb9f3a"
            ],
            [
             0.8888888888888888,
             "#fdca26"
            ],
            [
             1,
             "#f0f921"
            ]
           ],
           "sequentialminus": [
            [
             0,
             "#0d0887"
            ],
            [
             0.1111111111111111,
             "#46039f"
            ],
            [
             0.2222222222222222,
             "#7201a8"
            ],
            [
             0.3333333333333333,
             "#9c179e"
            ],
            [
             0.4444444444444444,
             "#bd3786"
            ],
            [
             0.5555555555555556,
             "#d8576b"
            ],
            [
             0.6666666666666666,
             "#ed7953"
            ],
            [
             0.7777777777777778,
             "#fb9f3a"
            ],
            [
             0.8888888888888888,
             "#fdca26"
            ],
            [
             1,
             "#f0f921"
            ]
           ]
          },
          "colorway": [
           "#636efa",
           "#EF553B",
           "#00cc96",
           "#ab63fa",
           "#FFA15A",
           "#19d3f3",
           "#FF6692",
           "#B6E880",
           "#FF97FF",
           "#FECB52"
          ],
          "font": {
           "color": "#2a3f5f"
          },
          "geo": {
           "bgcolor": "white",
           "lakecolor": "white",
           "landcolor": "#E5ECF6",
           "showlakes": true,
           "showland": true,
           "subunitcolor": "white"
          },
          "hoverlabel": {
           "align": "left"
          },
          "hovermode": "closest",
          "mapbox": {
           "style": "light"
          },
          "paper_bgcolor": "white",
          "plot_bgcolor": "#E5ECF6",
          "polar": {
           "angularaxis": {
            "gridcolor": "white",
            "linecolor": "white",
            "ticks": ""
           },
           "bgcolor": "#E5ECF6",
           "radialaxis": {
            "gridcolor": "white",
            "linecolor": "white",
            "ticks": ""
           }
          },
          "scene": {
           "xaxis": {
            "backgroundcolor": "#E5ECF6",
            "gridcolor": "white",
            "gridwidth": 2,
            "linecolor": "white",
            "showbackground": true,
            "ticks": "",
            "zerolinecolor": "white"
           },
           "yaxis": {
            "backgroundcolor": "#E5ECF6",
            "gridcolor": "white",
            "gridwidth": 2,
            "linecolor": "white",
            "showbackground": true,
            "ticks": "",
            "zerolinecolor": "white"
           },
           "zaxis": {
            "backgroundcolor": "#E5ECF6",
            "gridcolor": "white",
            "gridwidth": 2,
            "linecolor": "white",
            "showbackground": true,
            "ticks": "",
            "zerolinecolor": "white"
           }
          },
          "shapedefaults": {
           "line": {
            "color": "#2a3f5f"
           }
          },
          "ternary": {
           "aaxis": {
            "gridcolor": "white",
            "linecolor": "white",
            "ticks": ""
           },
           "baxis": {
            "gridcolor": "white",
            "linecolor": "white",
            "ticks": ""
           },
           "bgcolor": "#E5ECF6",
           "caxis": {
            "gridcolor": "white",
            "linecolor": "white",
            "ticks": ""
           }
          },
          "title": {
           "x": 0.05
          },
          "xaxis": {
           "automargin": true,
           "gridcolor": "white",
           "linecolor": "white",
           "ticks": "",
           "title": {
            "standoff": 15
           },
           "zerolinecolor": "white",
           "zerolinewidth": 2
          },
          "yaxis": {
           "automargin": true,
           "gridcolor": "white",
           "linecolor": "white",
           "ticks": "",
           "title": {
            "standoff": 15
           },
           "zerolinecolor": "white",
           "zerolinewidth": 2
          }
         }
        },
        "title": {
         "font": {
          "color": "#001c40",
          "family": "Baskerville, Bold",
          "size": 40
         },
         "text": "My Reading Stats by Year",
         "x": 0.5
        },
        "updatemenus": [
         {
          "active": 5,
          "buttons": [
           {
            "args": [
             {
              "showlegend": false,
              "visible": [
               true,
               true,
               true,
               true,
               true,
               true,
               true,
               true,
               false,
               false,
               false,
               false,
               false,
               false,
               false,
               false,
               false,
               false,
               false,
               false,
               false,
               false,
               false,
               false,
               false,
               false,
               false,
               false,
               false,
               false,
               false,
               false,
               false,
               false,
               false,
               false,
               false,
               false,
               false,
               false,
               false,
               false,
               false,
               false,
               false,
               false,
               false,
               false
              ]
             }
            ],
            "label": "2020",
            "method": "update"
           },
           {
            "args": [
             {
              "showlegend": false,
              "visible": [
               false,
               false,
               false,
               false,
               false,
               false,
               false,
               false,
               true,
               true,
               true,
               true,
               true,
               true,
               true,
               true,
               false,
               false,
               false,
               false,
               false,
               false,
               false,
               false,
               false,
               false,
               false,
               false,
               false,
               false,
               false,
               false,
               false,
               false,
               false,
               false,
               false,
               false,
               false,
               false,
               false,
               false,
               false,
               false,
               false,
               false,
               false,
               false
              ]
             }
            ],
            "label": "2021",
            "method": "update"
           },
           {
            "args": [
             {
              "showlegend": false,
              "visible": [
               false,
               false,
               false,
               false,
               false,
               false,
               false,
               false,
               false,
               false,
               false,
               false,
               false,
               false,
               false,
               false,
               true,
               true,
               true,
               true,
               true,
               true,
               true,
               true,
               false,
               false,
               false,
               false,
               false,
               false,
               false,
               false,
               false,
               false,
               false,
               false,
               false,
               false,
               false,
               false,
               false,
               false,
               false,
               false,
               false,
               false,
               false,
               false
              ]
             }
            ],
            "label": "2022",
            "method": "update"
           },
           {
            "args": [
             {
              "showlegend": false,
              "visible": [
               false,
               false,
               false,
               false,
               false,
               false,
               false,
               false,
               false,
               false,
               false,
               false,
               false,
               false,
               false,
               false,
               false,
               false,
               false,
               false,
               false,
               false,
               false,
               false,
               true,
               true,
               true,
               true,
               true,
               true,
               true,
               true,
               false,
               false,
               false,
               false,
               false,
               false,
               false,
               false,
               false,
               false,
               false,
               false,
               false,
               false,
               false,
               false
              ]
             }
            ],
            "label": "2023",
            "method": "update"
           },
           {
            "args": [
             {
              "showlegend": false,
              "visible": [
               false,
               false,
               false,
               false,
               false,
               false,
               false,
               false,
               false,
               false,
               false,
               false,
               false,
               false,
               false,
               false,
               false,
               false,
               false,
               false,
               false,
               false,
               false,
               false,
               false,
               false,
               false,
               false,
               false,
               false,
               false,
               false,
               true,
               true,
               true,
               true,
               true,
               true,
               true,
               true,
               false,
               false,
               false,
               false,
               false,
               false,
               false,
               false
              ]
             }
            ],
            "label": "2024",
            "method": "update"
           },
           {
            "args": [
             {
              "showlegend": false,
              "visible": [
               false,
               false,
               false,
               false,
               false,
               false,
               false,
               false,
               false,
               false,
               false,
               false,
               false,
               false,
               false,
               false,
               false,
               false,
               false,
               false,
               false,
               false,
               false,
               false,
               false,
               false,
               false,
               false,
               false,
               false,
               false,
               false,
               false,
               false,
               false,
               false,
               false,
               false,
               false,
               false,
               true,
               true,
               true,
               true,
               true,
               true,
               true,
               true
              ]
             }
            ],
            "label": "2025",
            "method": "update"
           }
          ],
          "x": 1,
          "xanchor": "right",
          "y": 1.16,
          "yanchor": "top"
         }
        ],
        "xaxis": {
         "anchor": "y",
         "domain": [
          0,
          0.6333333333333333
         ],
         "gridcolor": "#cbcbcb",
         "linecolor": "black",
         "showgrid": false,
         "showline": true,
         "title": {},
         "zerolinewidth": 1
        },
        "xaxis2": {
         "anchor": "y2",
         "domain": [
          0.7333333333333334,
          1
         ]
        },
        "yaxis": {
         "anchor": "x",
         "domain": [
          0,
          0.16153846153846152
         ],
         "gridcolor": "#cbcbcb",
         "linecolor": "black",
         "showgrid": true,
         "showline": false,
         "showticklabels": true,
         "title": {},
         "zerolinewidth": 1
        },
        "yaxis2": {
         "anchor": "x2",
         "domain": [
          0,
          0.16153846153846152
         ],
         "gridcolor": "#cbcbcb",
         "linecolor": "black",
         "showgrid": true,
         "showline": false,
         "showticklabels": true,
         "zerolinewidth": 1
        }
       }
      },
      "text/html": [
       "<div>                            <div id=\"b9af903f-bd2d-4b90-8ef0-2c5242010b0d\" class=\"plotly-graph-div\" style=\"height:800px; width:100%;\"></div>            <script type=\"text/javascript\">                require([\"plotly\"], function(Plotly) {                    window.PLOTLYENV=window.PLOTLYENV || {};                                    if (document.getElementById(\"b9af903f-bd2d-4b90-8ef0-2c5242010b0d\")) {                    Plotly.newPlot(                        \"b9af903f-bd2d-4b90-8ef0-2c5242010b0d\",                        [{\"domain\":{\"column\":0,\"row\":0},\"mode\":\"number\",\"number\":{\"font\":{\"size\":50},\"valueformat\":\"f\"},\"title\":{\"font\":{\"size\":25},\"text\":\"Total Books Read\"},\"value\":1,\"visible\":false,\"type\":\"indicator\"},{\"domain\":{\"column\":1,\"row\":0},\"mode\":\"number\",\"number\":{\"font\":{\"size\":50},\"valueformat\":\",\"},\"title\":{\"font\":{\"size\":25},\"text\":\"Total Pages Read\"},\"value\":140,\"visible\":false,\"type\":\"indicator\"},{\"domain\":{\"column\":2,\"row\":0},\"mode\":\"number\",\"number\":{\"font\":{\"size\":50},\"valueformat\":\"f\"},\"title\":{\"font\":{\"size\":25},\"text\":\"Unique Authors Read\"},\"value\":1,\"visible\":false,\"type\":\"indicator\"},{\"cells\":{\"align\":\"center\",\"fill\":{\"color\":\"#f0f0f0\"},\"font\":{\"size\":18},\"height\":26,\"values\":[[\"The Four Agreements - Don Miguel Ruiz\"]]},\"header\":{\"align\":\"center\",\"font\":{\"size\":25},\"height\":35,\"values\":[\"My Highest Rated Books\"]},\"visible\":false,\"type\":\"table\",\"domain\":{\"x\":[0.0,0.6333333333333333],\"y\":[0.2615384615384615,0.7923076923076923]}},{\"cells\":{\"align\":\"center\",\"fill\":{\"color\":\"#f0f0f0\"},\"font\":{\"size\":18},\"height\":26,\"values\":[[\"Don Miguel Ruiz (1)\"]]},\"header\":{\"align\":\"center\",\"font\":{\"size\":25},\"height\":35,\"values\":[\"Most Read Authors\"]},\"visible\":false,\"type\":\"table\",\"domain\":{\"x\":[0.7333333333333334,1.0],\"y\":[0.5769230769230769,0.7923076923076923]}},{\"cells\":{\"align\":\"center\",\"fill\":{\"color\":\"#f0f0f0\"},\"font\":{\"size\":18},\"height\":26,\"values\":[[\"Amber-Allen Publishing (1)\"]]},\"header\":{\"align\":\"center\",\"font\":{\"size\":25},\"height\":35,\"values\":[\"Most Read Publishers\"]},\"visible\":false,\"type\":\"table\",\"domain\":{\"x\":[0.7333333333333334,1.0],\"y\":[0.2615384615384615,0.4769230769230769]}},{\"marker\":{\"color\":[\"#d27575\",\"#529b9c\",\"#eac392\",\"#9cba8f\",\"#675a55\"]},\"name\":\"\",\"showlegend\":false,\"visible\":false,\"x\":[\"Self Help\"],\"y\":[1],\"type\":\"bar\",\"xaxis\":\"x\",\"yaxis\":\"y\"},{\"marker\":{\"color\":[\"#d27575\",\"#529b9c\",\"#eac392\",\"#9cba8f\",\"#675a55\"]},\"name\":\"\",\"orientation\":\"h\",\"showlegend\":false,\"visible\":false,\"x\":[1],\"y\":[\"Nonfiction\"],\"type\":\"bar\",\"xaxis\":\"x2\",\"yaxis\":\"y2\"},{\"domain\":{\"column\":0,\"row\":0},\"mode\":\"number\",\"number\":{\"font\":{\"size\":50},\"valueformat\":\"f\"},\"title\":{\"font\":{\"size\":25},\"text\":\"Total Books Read\"},\"value\":23,\"visible\":false,\"type\":\"indicator\"},{\"domain\":{\"column\":1,\"row\":0},\"mode\":\"number\",\"number\":{\"font\":{\"size\":50},\"valueformat\":\",\"},\"title\":{\"font\":{\"size\":25},\"text\":\"Total Pages Read\"},\"value\":5609,\"visible\":false,\"type\":\"indicator\"},{\"domain\":{\"column\":2,\"row\":0},\"mode\":\"number\",\"number\":{\"font\":{\"size\":50},\"valueformat\":\"f\"},\"title\":{\"font\":{\"size\":25},\"text\":\"Unique Authors Read\"},\"value\":18,\"visible\":false,\"type\":\"indicator\"},{\"cells\":{\"align\":\"center\",\"fill\":{\"color\":\"#f0f0f0\"},\"font\":{\"size\":18},\"height\":26,\"values\":[[\"DaVinci's Ghost - Toby Lester\",\"Blood Meridian - Cormac McCarthy\",\"Pachinko - Min Jin Lee\",\"The Rings of Saturn - W.G. Sebald\",\"The Remains of The Day - Kazuo Ishiguro\",\"Klara and the Sun - Kazuo Ishiguro\",\"1984 - George Orwell\",\"Never Let Me Go - Kazuo Ishiguro\",\"Kafka on the Shore - Haruki Murakami\",\"Men Without Women - Haruki Murakami\"]]},\"header\":{\"align\":\"center\",\"font\":{\"size\":25},\"height\":35,\"values\":[\"My Highest Rated Books\"]},\"visible\":false,\"type\":\"table\",\"domain\":{\"x\":[0.0,0.6333333333333333],\"y\":[0.2615384615384615,0.7923076923076923]}},{\"cells\":{\"align\":\"center\",\"fill\":{\"color\":\"#f0f0f0\"},\"font\":{\"size\":18},\"height\":26,\"values\":[[\"Kazuo Ishiguro (3)\",\"Ernest Hemingway (2)\",\"George Orwell (2)\"]]},\"header\":{\"align\":\"center\",\"font\":{\"size\":25},\"height\":35,\"values\":[\"Most Read Authors\"]},\"visible\":false,\"type\":\"table\",\"domain\":{\"x\":[0.7333333333333334,1.0],\"y\":[0.5769230769230769,0.7923076923076923]}},{\"cells\":{\"align\":\"center\",\"fill\":{\"color\":\"#f0f0f0\"},\"font\":{\"size\":18},\"height\":26,\"values\":[[\"Faber and Faber (3)\",\"Vintage (3)\",\"Free Press (2)\"]]},\"header\":{\"align\":\"center\",\"font\":{\"size\":25},\"height\":35,\"values\":[\"Most Read Publishers\"]},\"visible\":false,\"type\":\"table\",\"domain\":{\"x\":[0.7333333333333334,1.0],\"y\":[0.2615384615384615,0.4769230769230769]}},{\"marker\":{\"color\":[\"#d27575\",\"#529b9c\",\"#eac392\",\"#9cba8f\",\"#675a55\",\"#d27575\",\"#529b9c\",\"#eac392\",\"#9cba8f\",\"#675a55\",\"#d27575\",\"#529b9c\",\"#eac392\",\"#9cba8f\",\"#675a55\",\"#d27575\",\"#529b9c\",\"#eac392\",\"#9cba8f\",\"#675a55\",\"#d27575\",\"#529b9c\",\"#eac392\",\"#9cba8f\",\"#675a55\",\"#d27575\",\"#529b9c\",\"#eac392\",\"#9cba8f\",\"#675a55\",\"#d27575\",\"#529b9c\",\"#eac392\",\"#9cba8f\",\"#675a55\",\"#d27575\",\"#529b9c\",\"#eac392\",\"#9cba8f\",\"#675a55\",\"#d27575\",\"#529b9c\",\"#eac392\",\"#9cba8f\",\"#675a55\",\"#d27575\",\"#529b9c\",\"#eac392\",\"#9cba8f\",\"#675a55\"]},\"name\":\"\",\"showlegend\":false,\"visible\":false,\"x\":[\"Historical Fiction\",\"Classics\",\"Science Fiction\",\"Contemporary\",\"Fantasy\",\"Cultural\",\"History\",\"Self Help\",\"Short Stories\",\"Young Adult\"],\"y\":[7,6,3,1,1,1,1,1,1,1],\"type\":\"bar\",\"xaxis\":\"x\",\"yaxis\":\"y\"},{\"marker\":{\"color\":[\"#d27575\",\"#529b9c\",\"#eac392\",\"#9cba8f\",\"#675a55\",\"#d27575\",\"#529b9c\",\"#eac392\",\"#9cba8f\",\"#675a55\"]},\"name\":\"\",\"orientation\":\"h\",\"showlegend\":false,\"visible\":false,\"x\":[2,21],\"y\":[\"Nonfiction\",\"Fiction\"],\"type\":\"bar\",\"xaxis\":\"x2\",\"yaxis\":\"y2\"},{\"domain\":{\"column\":0,\"row\":0},\"mode\":\"number\",\"number\":{\"font\":{\"size\":50},\"valueformat\":\"f\"},\"title\":{\"font\":{\"size\":25},\"text\":\"Total Books Read\"},\"value\":13,\"visible\":false,\"type\":\"indicator\"},{\"domain\":{\"column\":1,\"row\":0},\"mode\":\"number\",\"number\":{\"font\":{\"size\":50},\"valueformat\":\",\"},\"title\":{\"font\":{\"size\":25},\"text\":\"Total Pages Read\"},\"value\":3338,\"visible\":false,\"type\":\"indicator\"},{\"domain\":{\"column\":2,\"row\":0},\"mode\":\"number\",\"number\":{\"font\":{\"size\":50},\"valueformat\":\"f\"},\"title\":{\"font\":{\"size\":25},\"text\":\"Unique Authors Read\"},\"value\":13,\"visible\":false,\"type\":\"indicator\"},{\"cells\":{\"align\":\"center\",\"fill\":{\"color\":\"#f0f0f0\"},\"font\":{\"size\":18},\"height\":26,\"values\":[[\"Crying In H Mart - Michelle Zauner\",\"Why Fish Don't Exist: A Story of Loss, Love, and the Hidden Order of Life - Lulu Miller\",\"In Waves - AJ Dungo\",\"Empire of Pain: The Secret History of the Sackler Dynasty - Patrick Radden Keefe\",\"Cosmos - Carl Sagan\",\"One Left - Kim Soom\",\"Where The Desert Meets The Sea - Werner Sonne\",\"After Dark - Haruki Murakami\",\"The Ardent Swarm - Yamen Manai\",\"The Easy Life in Kamusari - Shion Miura\"]]},\"header\":{\"align\":\"center\",\"font\":{\"size\":25},\"height\":35,\"values\":[\"My Highest Rated Books\"]},\"visible\":false,\"type\":\"table\",\"domain\":{\"x\":[0.0,0.6333333333333333],\"y\":[0.2615384615384615,0.7923076923076923]}},{\"cells\":{\"align\":\"center\",\"fill\":{\"color\":\"#f0f0f0\"},\"font\":{\"size\":18},\"height\":26,\"values\":[[\"AJ Dungo (1)\",\"Carl Sagan (1)\",\"Cory Althoff (1)\"]]},\"header\":{\"align\":\"center\",\"font\":{\"size\":25},\"height\":35,\"values\":[\"Most Read Authors\"]},\"visible\":false,\"type\":\"table\",\"domain\":{\"x\":[0.7333333333333334,1.0],\"y\":[0.5769230769230769,0.7923076923076923]}},{\"cells\":{\"align\":\"center\",\"fill\":{\"color\":\"#f0f0f0\"},\"font\":{\"size\":18},\"height\":26,\"values\":[[\"Amazon Crossing (3)\",\"Knopf Doubleday Publishing Group (2)\",\"Ballantine Books (1)\"]]},\"header\":{\"align\":\"center\",\"font\":{\"size\":25},\"height\":35,\"values\":[\"Most Read Publishers\"]},\"visible\":false,\"type\":\"table\",\"domain\":{\"x\":[0.7333333333333334,1.0],\"y\":[0.2615384615384615,0.4769230769230769]}},{\"marker\":{\"color\":[\"#d27575\",\"#529b9c\",\"#eac392\",\"#9cba8f\",\"#675a55\",\"#d27575\",\"#529b9c\",\"#eac392\",\"#9cba8f\",\"#675a55\",\"#d27575\",\"#529b9c\",\"#eac392\",\"#9cba8f\",\"#675a55\",\"#d27575\",\"#529b9c\",\"#eac392\",\"#9cba8f\",\"#675a55\",\"#d27575\",\"#529b9c\",\"#eac392\",\"#9cba8f\",\"#675a55\",\"#d27575\",\"#529b9c\",\"#eac392\",\"#9cba8f\",\"#675a55\",\"#d27575\",\"#529b9c\",\"#eac392\",\"#9cba8f\",\"#675a55\",\"#d27575\",\"#529b9c\",\"#eac392\",\"#9cba8f\",\"#675a55\"]},\"name\":\"\",\"showlegend\":false,\"visible\":false,\"x\":[\"Historical Fiction\",\"Classics\",\"Cultural\",\"Memoir\",\"Graphic Novel\",\"History\",\"Nonfiction\",\"Programming\"],\"y\":[3,2,2,2,1,1,1,1],\"type\":\"bar\",\"xaxis\":\"x\",\"yaxis\":\"y\"},{\"marker\":{\"color\":[\"#d27575\",\"#529b9c\",\"#eac392\",\"#9cba8f\",\"#675a55\",\"#d27575\",\"#529b9c\",\"#eac392\",\"#9cba8f\",\"#675a55\",\"#d27575\",\"#529b9c\",\"#eac392\",\"#9cba8f\",\"#675a55\",\"#d27575\",\"#529b9c\",\"#eac392\",\"#9cba8f\",\"#675a55\"]},\"name\":\"\",\"orientation\":\"h\",\"showlegend\":false,\"visible\":false,\"x\":[1,2,4,6],\"y\":[\"Philosophy\",\"Science\",\"Nonfiction\",\"Fiction\"],\"type\":\"bar\",\"xaxis\":\"x2\",\"yaxis\":\"y2\"},{\"domain\":{\"column\":0,\"row\":0},\"mode\":\"number\",\"number\":{\"font\":{\"size\":50},\"valueformat\":\"f\"},\"title\":{\"font\":{\"size\":25},\"text\":\"Total Books Read\"},\"value\":6,\"visible\":false,\"type\":\"indicator\"},{\"domain\":{\"column\":1,\"row\":0},\"mode\":\"number\",\"number\":{\"font\":{\"size\":50},\"valueformat\":\",\"},\"title\":{\"font\":{\"size\":25},\"text\":\"Total Pages Read\"},\"value\":1298,\"visible\":false,\"type\":\"indicator\"},{\"domain\":{\"column\":2,\"row\":0},\"mode\":\"number\",\"number\":{\"font\":{\"size\":50},\"valueformat\":\"f\"},\"title\":{\"font\":{\"size\":25},\"text\":\"Unique Authors Read\"},\"value\":6,\"visible\":false,\"type\":\"indicator\"},{\"cells\":{\"align\":\"center\",\"fill\":{\"color\":\"#f0f0f0\"},\"font\":{\"size\":18},\"height\":26,\"values\":[[\"A Brief History of Time - Stephen Hawking\",\"The Boy, The Mole, The Fox, and The Horse - Charlie Mackesy\",\"The Doors of Perception \\u002f Heaven & Hell - Aldous Huxley\",\"Everything I Never Told You - Celeste Ng\",\"Do Androids Dream of Electric Sheep? - Philip K. Dick\",\"Sputnik Sweetheart - Haruki Murakami\"]]},\"header\":{\"align\":\"center\",\"font\":{\"size\":25},\"height\":35,\"values\":[\"My Highest Rated Books\"]},\"visible\":false,\"type\":\"table\",\"domain\":{\"x\":[0.0,0.6333333333333333],\"y\":[0.2615384615384615,0.7923076923076923]}},{\"cells\":{\"align\":\"center\",\"fill\":{\"color\":\"#f0f0f0\"},\"font\":{\"size\":18},\"height\":26,\"values\":[[\"Aldous Huxley (1)\",\"Celeste Ng (1)\",\"Charlie Mackesy (1)\"]]},\"header\":{\"align\":\"center\",\"font\":{\"size\":25},\"height\":35,\"values\":[\"Most Read Authors\"]},\"visible\":false,\"type\":\"table\",\"domain\":{\"x\":[0.7333333333333334,1.0],\"y\":[0.5769230769230769,0.7923076923076923]}},{\"cells\":{\"align\":\"center\",\"fill\":{\"color\":\"#f0f0f0\"},\"font\":{\"size\":18},\"height\":26,\"values\":[[\"Ballantine Books (1)\",\"Bantam Books (1)\",\"Ebury Press (1)\"]]},\"header\":{\"align\":\"center\",\"font\":{\"size\":25},\"height\":35,\"values\":[\"Most Read Publishers\"]},\"visible\":false,\"type\":\"table\",\"domain\":{\"x\":[0.7333333333333334,1.0],\"y\":[0.2615384615384615,0.4769230769230769]}},{\"marker\":{\"color\":[\"#d27575\",\"#529b9c\",\"#eac392\",\"#9cba8f\",\"#675a55\",\"#d27575\",\"#529b9c\",\"#eac392\",\"#9cba8f\",\"#675a55\",\"#d27575\",\"#529b9c\",\"#eac392\",\"#9cba8f\",\"#675a55\",\"#d27575\",\"#529b9c\",\"#eac392\",\"#9cba8f\",\"#675a55\",\"#d27575\",\"#529b9c\",\"#eac392\",\"#9cba8f\",\"#675a55\"]},\"name\":\"\",\"showlegend\":false,\"visible\":false,\"x\":[\"Nonfiction\",\"Cultural\",\"Graphic Novel\",\"Mystery\",\"Science Fiction\"],\"y\":[2,1,1,1,1],\"type\":\"bar\",\"xaxis\":\"x\",\"yaxis\":\"y\"},{\"marker\":{\"color\":[\"#d27575\",\"#529b9c\",\"#eac392\",\"#9cba8f\",\"#675a55\",\"#d27575\",\"#529b9c\",\"#eac392\",\"#9cba8f\",\"#675a55\",\"#d27575\",\"#529b9c\",\"#eac392\",\"#9cba8f\",\"#675a55\"]},\"name\":\"\",\"orientation\":\"h\",\"showlegend\":false,\"visible\":false,\"x\":[1,1,4],\"y\":[\"Philosophy\",\"Science\",\"Fiction\"],\"type\":\"bar\",\"xaxis\":\"x2\",\"yaxis\":\"y2\"},{\"domain\":{\"column\":0,\"row\":0},\"mode\":\"number\",\"number\":{\"font\":{\"size\":50},\"valueformat\":\"f\"},\"title\":{\"font\":{\"size\":25},\"text\":\"Total Books Read\"},\"value\":80,\"visible\":false,\"type\":\"indicator\"},{\"domain\":{\"column\":1,\"row\":0},\"mode\":\"number\",\"number\":{\"font\":{\"size\":50},\"valueformat\":\",\"},\"title\":{\"font\":{\"size\":25},\"text\":\"Total Pages Read\"},\"value\":15720,\"visible\":false,\"type\":\"indicator\"},{\"domain\":{\"column\":2,\"row\":0},\"mode\":\"number\",\"number\":{\"font\":{\"size\":50},\"valueformat\":\"f\"},\"title\":{\"font\":{\"size\":25},\"text\":\"Unique Authors Read\"},\"value\":33,\"visible\":false,\"type\":\"indicator\"},{\"cells\":{\"align\":\"center\",\"fill\":{\"color\":\"#f0f0f0\"},\"font\":{\"size\":18},\"height\":26,\"values\":[[\"Know No Fear (Horus Heresy #19) - Dan Abnett\",\"The Unremembered Empire (Horus Heresy #27) - Dan Abnett\",\"Correction - Thomas Bernhard\",\"The Midmight Library - Matt Haig\",\"Under Alien Skies - Philip Plait\",\"Angels of Caliban (Horus Heresy #38) - Gav Thorpe\",\"Ruinstorm (Horus Heresy #46) - Dave Annandale\",\"Betrayer (Horus Heresy #24) - Aaron Dembski-Bowden\",\"Horus Rising (Horus Heresy #1) - Dan Abnett\",\"Tiny Beautiful Things: Advice on Love and Life from Dear Sugar - Cheryl Strayed\"]]},\"header\":{\"align\":\"center\",\"font\":{\"size\":25},\"height\":35,\"values\":[\"My Highest Rated Books\"]},\"visible\":false,\"type\":\"table\",\"domain\":{\"x\":[0.0,0.6333333333333333],\"y\":[0.2615384615384615,0.7923076923076923]}},{\"cells\":{\"align\":\"center\",\"fill\":{\"color\":\"#f0f0f0\"},\"font\":{\"size\":18},\"height\":26,\"values\":[[\"Aaron Dembski-Bowden (9)\",\"Gav Thorpe (9)\",\"Graham McNeill (9)\"]]},\"header\":{\"align\":\"center\",\"font\":{\"size\":25},\"height\":35,\"values\":[\"Most Read Authors\"]},\"visible\":false,\"type\":\"table\",\"domain\":{\"x\":[0.7333333333333334,1.0],\"y\":[0.5769230769230769,0.7923076923076923]}},{\"cells\":{\"align\":\"center\",\"fill\":{\"color\":\"#f0f0f0\"},\"font\":{\"size\":18},\"height\":26,\"values\":[[\"Black Library (66)\",\"Knopf Doubleday Publishing Group (4)\",\"Vintage (4)\"]]},\"header\":{\"align\":\"center\",\"font\":{\"size\":25},\"height\":35,\"values\":[\"Most Read Publishers\"]},\"visible\":false,\"type\":\"table\",\"domain\":{\"x\":[0.7333333333333334,1.0],\"y\":[0.2615384615384615,0.4769230769230769]}},{\"marker\":{\"color\":[\"#d27575\",\"#529b9c\",\"#eac392\",\"#9cba8f\",\"#675a55\",\"#d27575\",\"#529b9c\",\"#eac392\",\"#9cba8f\",\"#675a55\",\"#d27575\",\"#529b9c\",\"#eac392\",\"#9cba8f\",\"#675a55\",\"#d27575\",\"#529b9c\",\"#eac392\",\"#9cba8f\",\"#675a55\",\"#d27575\",\"#529b9c\",\"#eac392\",\"#9cba8f\",\"#675a55\",\"#d27575\",\"#529b9c\",\"#eac392\",\"#9cba8f\",\"#675a55\",\"#d27575\",\"#529b9c\",\"#eac392\",\"#9cba8f\",\"#675a55\",\"#d27575\",\"#529b9c\",\"#eac392\",\"#9cba8f\",\"#675a55\"]},\"name\":\"\",\"showlegend\":false,\"visible\":false,\"x\":[\"Warhammer 40k\",\"Fantasy\",\"Nonfiction\",\"German Literature\",\"Historical Fiction\",\"Contemporary\",\"History\",\"Self Help\"],\"y\":[66,5,3,2,1,1,1,1],\"type\":\"bar\",\"xaxis\":\"x\",\"yaxis\":\"y\"},{\"marker\":{\"color\":[\"#d27575\",\"#529b9c\",\"#eac392\",\"#9cba8f\",\"#675a55\",\"#d27575\",\"#529b9c\",\"#eac392\",\"#9cba8f\",\"#675a55\",\"#d27575\",\"#529b9c\",\"#eac392\",\"#9cba8f\",\"#675a55\",\"#d27575\",\"#529b9c\",\"#eac392\",\"#9cba8f\",\"#675a55\"]},\"name\":\"\",\"orientation\":\"h\",\"showlegend\":false,\"visible\":false,\"x\":[1,2,2,75],\"y\":[\"Philosophy\",\"Nonfiction\",\"Science\",\"Fiction\"],\"type\":\"bar\",\"xaxis\":\"x2\",\"yaxis\":\"y2\"},{\"domain\":{\"column\":0,\"row\":0},\"mode\":\"number\",\"number\":{\"font\":{\"size\":50},\"valueformat\":\"f\"},\"title\":{\"font\":{\"size\":25},\"text\":\"Total Books Read\"},\"value\":20,\"visible\":true,\"type\":\"indicator\"},{\"domain\":{\"column\":1,\"row\":0},\"mode\":\"number\",\"number\":{\"font\":{\"size\":50},\"valueformat\":\",\"},\"title\":{\"font\":{\"size\":25},\"text\":\"Total Pages Read\"},\"value\":8853,\"visible\":true,\"type\":\"indicator\"},{\"domain\":{\"column\":2,\"row\":0},\"mode\":\"number\",\"number\":{\"font\":{\"size\":50},\"valueformat\":\"f\"},\"title\":{\"font\":{\"size\":25},\"text\":\"Unique Authors Read\"},\"value\":14,\"visible\":true,\"type\":\"indicator\"},{\"cells\":{\"align\":\"center\",\"fill\":{\"color\":\"#f0f0f0\"},\"font\":{\"size\":18},\"height\":26,\"values\":[[\"Lonesome Dove: A Novel - Larry McMurtry\",\"The Prince of Tides - Pat Conroy\",\"The End and The Death: Volume 3 - Dan Abnett\",\"Saturnine (Siege of Terra #4) - Dan Abnett\",\"Echoes of Eternity (Siege of Terra #7) - Aaron Dembski-Bowden\",\"Warhawk (Siege of Terra #6) - Chris Wraight\",\"The Buried Dagger (Horus Heresy #54) - James Swallow\",\"Oil and Marble - Stephanie Storey\",\"The Solar War (Siege of Terra #1) - John French\",\"The End and The Death: Volume 2 - Dan Abnett\"]]},\"header\":{\"align\":\"center\",\"font\":{\"size\":25},\"height\":35,\"values\":[\"My Highest Rated Books\"]},\"visible\":true,\"type\":\"table\",\"domain\":{\"x\":[0.0,0.6333333333333333],\"y\":[0.2615384615384615,0.7923076923076923]}},{\"cells\":{\"align\":\"center\",\"fill\":{\"color\":\"#f0f0f0\"},\"font\":{\"size\":18},\"height\":26,\"values\":[[\"Dan Abnett (4)\",\"Graham McNeill (2)\",\"James Swallow (2)\"]]},\"header\":{\"align\":\"center\",\"font\":{\"size\":25},\"height\":35,\"values\":[\"Most Read Authors\"]},\"visible\":true,\"type\":\"table\",\"domain\":{\"x\":[0.7333333333333334,1.0],\"y\":[0.5769230769230769,0.7923076923076923]}},{\"cells\":{\"align\":\"center\",\"fill\":{\"color\":\"#f0f0f0\"},\"font\":{\"size\":18},\"height\":26,\"values\":[[\"Black Library (14)\",\"Arcade (1)\",\"Ballantine Books (1)\"]]},\"header\":{\"align\":\"center\",\"font\":{\"size\":25},\"height\":35,\"values\":[\"Most Read Publishers\"]},\"visible\":true,\"type\":\"table\",\"domain\":{\"x\":[0.7333333333333334,1.0],\"y\":[0.2615384615384615,0.4769230769230769]}},{\"marker\":{\"color\":[\"#d27575\",\"#529b9c\",\"#eac392\",\"#9cba8f\",\"#675a55\",\"#d27575\",\"#529b9c\",\"#eac392\",\"#9cba8f\",\"#675a55\",\"#d27575\",\"#529b9c\",\"#eac392\",\"#9cba8f\",\"#675a55\",\"#d27575\",\"#529b9c\",\"#eac392\",\"#9cba8f\",\"#675a55\",\"#d27575\",\"#529b9c\",\"#eac392\",\"#9cba8f\",\"#675a55\",\"#d27575\",\"#529b9c\",\"#eac392\",\"#9cba8f\",\"#675a55\"]},\"name\":\"\",\"showlegend\":false,\"visible\":true,\"x\":[\"Warhammer 40k\",\"Historical Fiction\",\"Classics\",\"Nonfiction\",\"Poetry\",\"Psychology\"],\"y\":[14,2,1,1,1,1],\"type\":\"bar\",\"xaxis\":\"x\",\"yaxis\":\"y\"},{\"marker\":{\"color\":[\"#d27575\",\"#529b9c\",\"#eac392\",\"#9cba8f\",\"#675a55\",\"#d27575\",\"#529b9c\",\"#eac392\",\"#9cba8f\",\"#675a55\",\"#d27575\",\"#529b9c\",\"#eac392\",\"#9cba8f\",\"#675a55\"]},\"name\":\"\",\"orientation\":\"h\",\"showlegend\":false,\"visible\":true,\"x\":[1,1,18],\"y\":[\"Nonfiction\",\"Science\",\"Fiction\"],\"type\":\"bar\",\"xaxis\":\"x2\",\"yaxis\":\"y2\"}],                        {\"template\":{\"data\":{\"histogram2dcontour\":[{\"type\":\"histogram2dcontour\",\"colorbar\":{\"outlinewidth\":0,\"ticks\":\"\"},\"colorscale\":[[0.0,\"#0d0887\"],[0.1111111111111111,\"#46039f\"],[0.2222222222222222,\"#7201a8\"],[0.3333333333333333,\"#9c179e\"],[0.4444444444444444,\"#bd3786\"],[0.5555555555555556,\"#d8576b\"],[0.6666666666666666,\"#ed7953\"],[0.7777777777777778,\"#fb9f3a\"],[0.8888888888888888,\"#fdca26\"],[1.0,\"#f0f921\"]]}],\"choropleth\":[{\"type\":\"choropleth\",\"colorbar\":{\"outlinewidth\":0,\"ticks\":\"\"}}],\"histogram2d\":[{\"type\":\"histogram2d\",\"colorbar\":{\"outlinewidth\":0,\"ticks\":\"\"},\"colorscale\":[[0.0,\"#0d0887\"],[0.1111111111111111,\"#46039f\"],[0.2222222222222222,\"#7201a8\"],[0.3333333333333333,\"#9c179e\"],[0.4444444444444444,\"#bd3786\"],[0.5555555555555556,\"#d8576b\"],[0.6666666666666666,\"#ed7953\"],[0.7777777777777778,\"#fb9f3a\"],[0.8888888888888888,\"#fdca26\"],[1.0,\"#f0f921\"]]}],\"heatmap\":[{\"type\":\"heatmap\",\"colorbar\":{\"outlinewidth\":0,\"ticks\":\"\"},\"colorscale\":[[0.0,\"#0d0887\"],[0.1111111111111111,\"#46039f\"],[0.2222222222222222,\"#7201a8\"],[0.3333333333333333,\"#9c179e\"],[0.4444444444444444,\"#bd3786\"],[0.5555555555555556,\"#d8576b\"],[0.6666666666666666,\"#ed7953\"],[0.7777777777777778,\"#fb9f3a\"],[0.8888888888888888,\"#fdca26\"],[1.0,\"#f0f921\"]]}],\"heatmapgl\":[{\"type\":\"heatmapgl\",\"colorbar\":{\"outlinewidth\":0,\"ticks\":\"\"},\"colorscale\":[[0.0,\"#0d0887\"],[0.1111111111111111,\"#46039f\"],[0.2222222222222222,\"#7201a8\"],[0.3333333333333333,\"#9c179e\"],[0.4444444444444444,\"#bd3786\"],[0.5555555555555556,\"#d8576b\"],[0.6666666666666666,\"#ed7953\"],[0.7777777777777778,\"#fb9f3a\"],[0.8888888888888888,\"#fdca26\"],[1.0,\"#f0f921\"]]}],\"contourcarpet\":[{\"type\":\"contourcarpet\",\"colorbar\":{\"outlinewidth\":0,\"ticks\":\"\"}}],\"contour\":[{\"type\":\"contour\",\"colorbar\":{\"outlinewidth\":0,\"ticks\":\"\"},\"colorscale\":[[0.0,\"#0d0887\"],[0.1111111111111111,\"#46039f\"],[0.2222222222222222,\"#7201a8\"],[0.3333333333333333,\"#9c179e\"],[0.4444444444444444,\"#bd3786\"],[0.5555555555555556,\"#d8576b\"],[0.6666666666666666,\"#ed7953\"],[0.7777777777777778,\"#fb9f3a\"],[0.8888888888888888,\"#fdca26\"],[1.0,\"#f0f921\"]]}],\"surface\":[{\"type\":\"surface\",\"colorbar\":{\"outlinewidth\":0,\"ticks\":\"\"},\"colorscale\":[[0.0,\"#0d0887\"],[0.1111111111111111,\"#46039f\"],[0.2222222222222222,\"#7201a8\"],[0.3333333333333333,\"#9c179e\"],[0.4444444444444444,\"#bd3786\"],[0.5555555555555556,\"#d8576b\"],[0.6666666666666666,\"#ed7953\"],[0.7777777777777778,\"#fb9f3a\"],[0.8888888888888888,\"#fdca26\"],[1.0,\"#f0f921\"]]}],\"mesh3d\":[{\"type\":\"mesh3d\",\"colorbar\":{\"outlinewidth\":0,\"ticks\":\"\"}}],\"scatter\":[{\"fillpattern\":{\"fillmode\":\"overlay\",\"size\":10,\"solidity\":0.2},\"type\":\"scatter\"}],\"parcoords\":[{\"type\":\"parcoords\",\"line\":{\"colorbar\":{\"outlinewidth\":0,\"ticks\":\"\"}}}],\"scatterpolargl\":[{\"type\":\"scatterpolargl\",\"marker\":{\"colorbar\":{\"outlinewidth\":0,\"ticks\":\"\"}}}],\"bar\":[{\"error_x\":{\"color\":\"#2a3f5f\"},\"error_y\":{\"color\":\"#2a3f5f\"},\"marker\":{\"line\":{\"color\":\"#E5ECF6\",\"width\":0.5},\"pattern\":{\"fillmode\":\"overlay\",\"size\":10,\"solidity\":0.2}},\"type\":\"bar\"}],\"scattergeo\":[{\"type\":\"scattergeo\",\"marker\":{\"colorbar\":{\"outlinewidth\":0,\"ticks\":\"\"}}}],\"scatterpolar\":[{\"type\":\"scatterpolar\",\"marker\":{\"colorbar\":{\"outlinewidth\":0,\"ticks\":\"\"}}}],\"histogram\":[{\"marker\":{\"pattern\":{\"fillmode\":\"overlay\",\"size\":10,\"solidity\":0.2}},\"type\":\"histogram\"}],\"scattergl\":[{\"type\":\"scattergl\",\"marker\":{\"colorbar\":{\"outlinewidth\":0,\"ticks\":\"\"}}}],\"scatter3d\":[{\"type\":\"scatter3d\",\"line\":{\"colorbar\":{\"outlinewidth\":0,\"ticks\":\"\"}},\"marker\":{\"colorbar\":{\"outlinewidth\":0,\"ticks\":\"\"}}}],\"scattermapbox\":[{\"type\":\"scattermapbox\",\"marker\":{\"colorbar\":{\"outlinewidth\":0,\"ticks\":\"\"}}}],\"scatterternary\":[{\"type\":\"scatterternary\",\"marker\":{\"colorbar\":{\"outlinewidth\":0,\"ticks\":\"\"}}}],\"scattercarpet\":[{\"type\":\"scattercarpet\",\"marker\":{\"colorbar\":{\"outlinewidth\":0,\"ticks\":\"\"}}}],\"carpet\":[{\"aaxis\":{\"endlinecolor\":\"#2a3f5f\",\"gridcolor\":\"white\",\"linecolor\":\"white\",\"minorgridcolor\":\"white\",\"startlinecolor\":\"#2a3f5f\"},\"baxis\":{\"endlinecolor\":\"#2a3f5f\",\"gridcolor\":\"white\",\"linecolor\":\"white\",\"minorgridcolor\":\"white\",\"startlinecolor\":\"#2a3f5f\"},\"type\":\"carpet\"}],\"table\":[{\"cells\":{\"fill\":{\"color\":\"#EBF0F8\"},\"line\":{\"color\":\"white\"}},\"header\":{\"fill\":{\"color\":\"#C8D4E3\"},\"line\":{\"color\":\"white\"}},\"type\":\"table\"}],\"barpolar\":[{\"marker\":{\"line\":{\"color\":\"#E5ECF6\",\"width\":0.5},\"pattern\":{\"fillmode\":\"overlay\",\"size\":10,\"solidity\":0.2}},\"type\":\"barpolar\"}],\"pie\":[{\"automargin\":true,\"type\":\"pie\"}],\"indicator\":[{\"title\":{\"align\":\"center\",\"font\":{\"size\":25}},\"type\":\"indicator\"}]},\"layout\":{\"autotypenumbers\":\"strict\",\"colorway\":[\"#636efa\",\"#EF553B\",\"#00cc96\",\"#ab63fa\",\"#FFA15A\",\"#19d3f3\",\"#FF6692\",\"#B6E880\",\"#FF97FF\",\"#FECB52\"],\"font\":{\"color\":\"#2a3f5f\"},\"hovermode\":\"closest\",\"hoverlabel\":{\"align\":\"left\"},\"paper_bgcolor\":\"white\",\"plot_bgcolor\":\"#E5ECF6\",\"polar\":{\"bgcolor\":\"#E5ECF6\",\"angularaxis\":{\"gridcolor\":\"white\",\"linecolor\":\"white\",\"ticks\":\"\"},\"radialaxis\":{\"gridcolor\":\"white\",\"linecolor\":\"white\",\"ticks\":\"\"}},\"ternary\":{\"bgcolor\":\"#E5ECF6\",\"aaxis\":{\"gridcolor\":\"white\",\"linecolor\":\"white\",\"ticks\":\"\"},\"baxis\":{\"gridcolor\":\"white\",\"linecolor\":\"white\",\"ticks\":\"\"},\"caxis\":{\"gridcolor\":\"white\",\"linecolor\":\"white\",\"ticks\":\"\"}},\"coloraxis\":{\"colorbar\":{\"outlinewidth\":0,\"ticks\":\"\"}},\"colorscale\":{\"sequential\":[[0.0,\"#0d0887\"],[0.1111111111111111,\"#46039f\"],[0.2222222222222222,\"#7201a8\"],[0.3333333333333333,\"#9c179e\"],[0.4444444444444444,\"#bd3786\"],[0.5555555555555556,\"#d8576b\"],[0.6666666666666666,\"#ed7953\"],[0.7777777777777778,\"#fb9f3a\"],[0.8888888888888888,\"#fdca26\"],[1.0,\"#f0f921\"]],\"sequentialminus\":[[0.0,\"#0d0887\"],[0.1111111111111111,\"#46039f\"],[0.2222222222222222,\"#7201a8\"],[0.3333333333333333,\"#9c179e\"],[0.4444444444444444,\"#bd3786\"],[0.5555555555555556,\"#d8576b\"],[0.6666666666666666,\"#ed7953\"],[0.7777777777777778,\"#fb9f3a\"],[0.8888888888888888,\"#fdca26\"],[1.0,\"#f0f921\"]],\"diverging\":[[0,\"#8e0152\"],[0.1,\"#c51b7d\"],[0.2,\"#de77ae\"],[0.3,\"#f1b6da\"],[0.4,\"#fde0ef\"],[0.5,\"#f7f7f7\"],[0.6,\"#e6f5d0\"],[0.7,\"#b8e186\"],[0.8,\"#7fbc41\"],[0.9,\"#4d9221\"],[1,\"#276419\"]]},\"xaxis\":{\"gridcolor\":\"white\",\"linecolor\":\"white\",\"ticks\":\"\",\"title\":{\"standoff\":15},\"zerolinecolor\":\"white\",\"automargin\":true,\"zerolinewidth\":2},\"yaxis\":{\"gridcolor\":\"white\",\"linecolor\":\"white\",\"ticks\":\"\",\"title\":{\"standoff\":15},\"zerolinecolor\":\"white\",\"automargin\":true,\"zerolinewidth\":2},\"scene\":{\"xaxis\":{\"backgroundcolor\":\"#E5ECF6\",\"gridcolor\":\"white\",\"linecolor\":\"white\",\"showbackground\":true,\"ticks\":\"\",\"zerolinecolor\":\"white\",\"gridwidth\":2},\"yaxis\":{\"backgroundcolor\":\"#E5ECF6\",\"gridcolor\":\"white\",\"linecolor\":\"white\",\"showbackground\":true,\"ticks\":\"\",\"zerolinecolor\":\"white\",\"gridwidth\":2},\"zaxis\":{\"backgroundcolor\":\"#E5ECF6\",\"gridcolor\":\"white\",\"linecolor\":\"white\",\"showbackground\":true,\"ticks\":\"\",\"zerolinecolor\":\"white\",\"gridwidth\":2}},\"shapedefaults\":{\"line\":{\"color\":\"#2a3f5f\"}},\"annotationdefaults\":{\"arrowcolor\":\"#2a3f5f\",\"arrowhead\":0,\"arrowwidth\":1},\"geo\":{\"bgcolor\":\"white\",\"landcolor\":\"#E5ECF6\",\"subunitcolor\":\"white\",\"showland\":true,\"showlakes\":true,\"lakecolor\":\"white\"},\"title\":{\"x\":0.05},\"mapbox\":{\"style\":\"light\"}}},\"xaxis\":{\"anchor\":\"y\",\"domain\":[0.0,0.6333333333333333],\"title\":{},\"showgrid\":false,\"showline\":true,\"linecolor\":\"black\",\"gridcolor\":\"#cbcbcb\",\"zerolinewidth\":1},\"yaxis\":{\"anchor\":\"x\",\"domain\":[0.0,0.16153846153846152],\"title\":{},\"showgrid\":true,\"showline\":false,\"showticklabels\":true,\"linecolor\":\"black\",\"gridcolor\":\"#cbcbcb\",\"zerolinewidth\":1},\"xaxis2\":{\"anchor\":\"y2\",\"domain\":[0.7333333333333334,1.0]},\"yaxis2\":{\"anchor\":\"x2\",\"domain\":[0.0,0.16153846153846152],\"showgrid\":true,\"showline\":false,\"showticklabels\":true,\"linecolor\":\"black\",\"gridcolor\":\"#cbcbcb\",\"zerolinewidth\":1},\"annotations\":[{\"font\":{\"size\":25},\"showarrow\":false,\"text\":\"Sub-Genres\",\"x\":0.31666666666666665,\"xanchor\":\"center\",\"xref\":\"paper\",\"y\":0.16153846153846152,\"yanchor\":\"bottom\",\"yref\":\"paper\"},{\"font\":{\"size\":25},\"showarrow\":false,\"text\":\"Genres\",\"x\":0.8666666666666667,\"xanchor\":\"center\",\"xref\":\"paper\",\"y\":0.16153846153846152,\"yanchor\":\"bottom\",\"yref\":\"paper\"}],\"grid\":{\"rows\":4,\"columns\":3,\"pattern\":\"independent\"},\"title\":{\"x\":0.5,\"font\":{\"size\":40,\"family\":\"Baskerville, Bold\",\"color\":\"#001c40\"},\"text\":\"My Reading Stats by Year\"},\"updatemenus\":[{\"active\":5,\"buttons\":[{\"args\":[{\"visible\":[true,true,true,true,true,true,true,true,false,false,false,false,false,false,false,false,false,false,false,false,false,false,false,false,false,false,false,false,false,false,false,false,false,false,false,false,false,false,false,false,false,false,false,false,false,false,false,false],\"showlegend\":false}],\"label\":\"2020\",\"method\":\"update\"},{\"args\":[{\"visible\":[false,false,false,false,false,false,false,false,true,true,true,true,true,true,true,true,false,false,false,false,false,false,false,false,false,false,false,false,false,false,false,false,false,false,false,false,false,false,false,false,false,false,false,false,false,false,false,false],\"showlegend\":false}],\"label\":\"2021\",\"method\":\"update\"},{\"args\":[{\"visible\":[false,false,false,false,false,false,false,false,false,false,false,false,false,false,false,false,true,true,true,true,true,true,true,true,false,false,false,false,false,false,false,false,false,false,false,false,false,false,false,false,false,false,false,false,false,false,false,false],\"showlegend\":false}],\"label\":\"2022\",\"method\":\"update\"},{\"args\":[{\"visible\":[false,false,false,false,false,false,false,false,false,false,false,false,false,false,false,false,false,false,false,false,false,false,false,false,true,true,true,true,true,true,true,true,false,false,false,false,false,false,false,false,false,false,false,false,false,false,false,false],\"showlegend\":false}],\"label\":\"2023\",\"method\":\"update\"},{\"args\":[{\"visible\":[false,false,false,false,false,false,false,false,false,false,false,false,false,false,false,false,false,false,false,false,false,false,false,false,false,false,false,false,false,false,false,false,true,true,true,true,true,true,true,true,false,false,false,false,false,false,false,false],\"showlegend\":false}],\"label\":\"2024\",\"method\":\"update\"},{\"args\":[{\"visible\":[false,false,false,false,false,false,false,false,false,false,false,false,false,false,false,false,false,false,false,false,false,false,false,false,false,false,false,false,false,false,false,false,false,false,false,false,false,false,false,false,true,true,true,true,true,true,true,true],\"showlegend\":false}],\"label\":\"2025\",\"method\":\"update\"}],\"x\":1.0,\"xanchor\":\"right\",\"y\":1.16,\"yanchor\":\"top\"}],\"margin\":{\"l\":85,\"r\":85,\"t\":120,\"b\":65},\"font\":{\"family\":\"Baskerville\",\"color\":\"#001c40\",\"size\":14},\"hoverlabel\":{\"font\":{\"size\":16}},\"height\":800,\"showlegend\":true,\"barmode\":\"group\",\"plot_bgcolor\":\"#f0f0f0\",\"paper_bgcolor\":\"#f0f0f0\"},                        {\"responsive\": true}                    ).then(function(){\n",
       "                            \n",
       "var gd = document.getElementById('b9af903f-bd2d-4b90-8ef0-2c5242010b0d');\n",
       "var x = new MutationObserver(function (mutations, observer) {{\n",
       "        var display = window.getComputedStyle(gd).display;\n",
       "        if (!display || display === 'none') {{\n",
       "            console.log([gd, 'removed!']);\n",
       "            Plotly.purge(gd);\n",
       "            observer.disconnect();\n",
       "        }}\n",
       "}});\n",
       "\n",
       "// Listen for the removal of the full notebook cells\n",
       "var notebookContainer = gd.closest('#notebook-container');\n",
       "if (notebookContainer) {{\n",
       "    x.observe(notebookContainer, {childList: true});\n",
       "}}\n",
       "\n",
       "// Listen for the clearing of the current output cell\n",
       "var outputEl = gd.closest('.output');\n",
       "if (outputEl) {{\n",
       "    x.observe(outputEl, {childList: true});\n",
       "}}\n",
       "\n",
       "                        })                };                });            </script>        </div>"
      ]
     },
     "metadata": {},
     "output_type": "display_data"
    }
   ],
   "source": [
    "plot.gen_infographic(stats, df)"
   ]
  }
 ],
 "metadata": {
  "kernelspec": {
   "display_name": "Python 3",
   "language": "python",
   "name": "python3"
  },
  "language_info": {
   "codemirror_mode": {
    "name": "ipython",
    "version": 3
   },
   "file_extension": ".py",
   "mimetype": "text/x-python",
   "name": "python",
   "nbconvert_exporter": "python",
   "pygments_lexer": "ipython3",
   "version": "3.12.6"
  },
  "widgets": {
   "application/vnd.jupyter.widget-state+json": {
    "state": {},
    "version_major": 2,
    "version_minor": 0
   }
  }
 },
 "nbformat": 4,
 "nbformat_minor": 5
}
